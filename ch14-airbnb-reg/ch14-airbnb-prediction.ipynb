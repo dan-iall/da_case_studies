{
 "cells": [
  {
   "cell_type": "markdown",
   "metadata": {},
   "source": [
    "#### Prepared for Gabor's Data Analysis\n",
    "\n",
    "### Data Analysis for Business, Economics, and Policy\n",
    "by Gabor Bekes and  Gabor Kezdi\n",
    " \n",
    "Cambridge University Press 2021\n",
    "\n",
    "**[gabors-data-analysis.com ](https://gabors-data-analysis.com/)**\n",
    "\n",
    " License: Free to share, modify and use for educational purposes. \n",
    " Not to be used for commercial purposes.\n",
    "\n",
    "### Chapter 14\n",
    "**CH14B Predicting AirBnB apartment prices: selecting a regression model**\n",
    "\n",
    "using the airbnb dataset\n",
    "\n",
    "version 1.0 2022-10-06"
   ]
  },
  {
   "cell_type": "code",
   "execution_count": 1,
   "metadata": {},
   "outputs": [
    {
     "data": {
      "text/plain": [
       "<Figure size 100x100 with 0 Axes>"
      ]
     },
     "metadata": {},
     "output_type": "display_data"
    }
   ],
   "source": [
    "import os\n",
    "import sys\n",
    "import warnings\n",
    "\n",
    "import numpy as np\n",
    "import patchworklib as pw\n",
    "import matplotlib as mpl\n",
    "import patsy\n",
    "import pandas as pd\n",
    "import statsmodels.formula.api as smf\n",
    "import seaborn as sns\n",
    "import matplotlib.pyplot as plt\n",
    "\n",
    "warnings.filterwarnings(\"ignore\")"
   ]
  },
  {
   "cell_type": "code",
   "execution_count": 2,
   "metadata": {},
   "outputs": [],
   "source": [
    "# Current script folder\n",
    "current_path = os.getcwd()\n",
    "dirname = current_path.split(\"da_case_studies\")[0]\n",
    "# location folders\n",
    "data_in = dirname + \"da_data_repo/airbnb/clean/\"\n",
    "data_out = dirname + \"da_case_studies/ch14-airbnb-reg/\"\n",
    "output = dirname + \"da_case_studies/ch14-airbnb-reg/output/\"\n",
    "func = dirname + \"da_case_studies/ch00-tech-prep/\"\n",
    "sys.path.append(func)\n",
    "\n",
    "\n",
    "import py_helper_functions as da\n",
    "\n",
    "sns.set_theme(rc=da.da_theme, palette=da.color)"
   ]
  },
  {
   "cell_type": "markdown",
   "metadata": {},
   "source": [
    "### Part 1"
   ]
  },
  {
   "cell_type": "code",
   "execution_count": 3,
   "metadata": {},
   "outputs": [],
   "source": [
    "# !!! make sure you have run ch14_airbnb_prepare.ipynb before\n",
    "data = pd.read_csv(data_out + \"airbnb_hackney_workfile_adj.csv\")"
   ]
  },
  {
   "cell_type": "markdown",
   "metadata": {},
   "source": [
    "Quick look at data"
   ]
  },
  {
   "cell_type": "code",
   "execution_count": 4,
   "metadata": {},
   "outputs": [
    {
     "data": {
      "text/html": [
       "<div>\n",
       "<style scoped>\n",
       "    .dataframe tbody tr th:only-of-type {\n",
       "        vertical-align: middle;\n",
       "    }\n",
       "\n",
       "    .dataframe tbody tr th {\n",
       "        vertical-align: top;\n",
       "    }\n",
       "\n",
       "    .dataframe thead th {\n",
       "        text-align: right;\n",
       "    }\n",
       "</style>\n",
       "<table border=\"1\" class=\"dataframe\">\n",
       "  <thead>\n",
       "    <tr style=\"text-align: right;\">\n",
       "      <th></th>\n",
       "      <th>usd_cleaning_fee</th>\n",
       "      <th>usd_price_day</th>\n",
       "      <th>p_host_response_rate</th>\n",
       "      <th>n_accommodates</th>\n",
       "      <th>n_bathrooms</th>\n",
       "      <th>n_review_scores_rating</th>\n",
       "      <th>n_number_of_reviews</th>\n",
       "      <th>n_guests_included</th>\n",
       "      <th>n_reviews_per_month</th>\n",
       "      <th>n_extra_people</th>\n",
       "      <th>...</th>\n",
       "      <th>f_bathroom</th>\n",
       "      <th>ln_number_of_reviews</th>\n",
       "      <th>f_number_of_reviews</th>\n",
       "      <th>ln_days_since</th>\n",
       "      <th>ln_days_since2</th>\n",
       "      <th>ln_days_since3</th>\n",
       "      <th>n_days_since2</th>\n",
       "      <th>n_days_since3</th>\n",
       "      <th>ln_review_scores_rating</th>\n",
       "      <th>f_minimum_nights</th>\n",
       "    </tr>\n",
       "  </thead>\n",
       "  <tbody>\n",
       "    <tr>\n",
       "      <th>count</th>\n",
       "      <td>2769.000000</td>\n",
       "      <td>4496.000000</td>\n",
       "      <td>2970.000000</td>\n",
       "      <td>4496.000000</td>\n",
       "      <td>4487.000000</td>\n",
       "      <td>3073.000000</td>\n",
       "      <td>4496.000000</td>\n",
       "      <td>4496.000000</td>\n",
       "      <td>3147.000000</td>\n",
       "      <td>4496.000000</td>\n",
       "      <td>...</td>\n",
       "      <td>4487.000000</td>\n",
       "      <td>4496.000000</td>\n",
       "      <td>4495.000000</td>\n",
       "      <td>3146.000000</td>\n",
       "      <td>3146.000000</td>\n",
       "      <td>3146.000000</td>\n",
       "      <td>3.147000e+03</td>\n",
       "      <td>3.147000e+03</td>\n",
       "      <td>3073.000000</td>\n",
       "      <td>4495.000000</td>\n",
       "    </tr>\n",
       "    <tr>\n",
       "      <th>mean</th>\n",
       "      <td>31.439870</td>\n",
       "      <td>80.556940</td>\n",
       "      <td>90.924579</td>\n",
       "      <td>2.864324</td>\n",
       "      <td>1.225986</td>\n",
       "      <td>93.323788</td>\n",
       "      <td>10.141904</td>\n",
       "      <td>1.385454</td>\n",
       "      <td>0.946295</td>\n",
       "      <td>5.991770</td>\n",
       "      <td>...</td>\n",
       "      <td>1.150435</td>\n",
       "      <td>1.414416</td>\n",
       "      <td>0.745050</td>\n",
       "      <td>5.813246</td>\n",
       "      <td>34.920619</td>\n",
       "      <td>214.912424</td>\n",
       "      <td>4.386975e+05</td>\n",
       "      <td>5.008933e+08</td>\n",
       "      <td>4.529253</td>\n",
       "      <td>2.029366</td>\n",
       "    </tr>\n",
       "    <tr>\n",
       "      <th>std</th>\n",
       "      <td>25.871418</td>\n",
       "      <td>58.915794</td>\n",
       "      <td>21.642376</td>\n",
       "      <td>1.722148</td>\n",
       "      <td>0.480064</td>\n",
       "      <td>9.133501</td>\n",
       "      <td>22.342473</td>\n",
       "      <td>0.996658</td>\n",
       "      <td>1.143208</td>\n",
       "      <td>11.255617</td>\n",
       "      <td>...</td>\n",
       "      <td>0.379318</td>\n",
       "      <td>1.318117</td>\n",
       "      <td>0.529467</td>\n",
       "      <td>1.061670</td>\n",
       "      <td>11.357470</td>\n",
       "      <td>96.884368</td>\n",
       "      <td>6.959114e+05</td>\n",
       "      <td>1.179754e+09</td>\n",
       "      <td>0.130507</td>\n",
       "      <td>0.838032</td>\n",
       "    </tr>\n",
       "    <tr>\n",
       "      <th>min</th>\n",
       "      <td>4.000000</td>\n",
       "      <td>10.000000</td>\n",
       "      <td>0.000000</td>\n",
       "      <td>1.000000</td>\n",
       "      <td>0.000000</td>\n",
       "      <td>20.000000</td>\n",
       "      <td>0.000000</td>\n",
       "      <td>1.000000</td>\n",
       "      <td>0.020000</td>\n",
       "      <td>0.000000</td>\n",
       "      <td>...</td>\n",
       "      <td>0.000000</td>\n",
       "      <td>0.000000</td>\n",
       "      <td>0.000000</td>\n",
       "      <td>0.000000</td>\n",
       "      <td>0.000000</td>\n",
       "      <td>0.000000</td>\n",
       "      <td>0.000000e+00</td>\n",
       "      <td>0.000000e+00</td>\n",
       "      <td>2.995732</td>\n",
       "      <td>1.000000</td>\n",
       "    </tr>\n",
       "    <tr>\n",
       "      <th>25%</th>\n",
       "      <td>15.000000</td>\n",
       "      <td>40.000000</td>\n",
       "      <td>96.000000</td>\n",
       "      <td>2.000000</td>\n",
       "      <td>1.000000</td>\n",
       "      <td>90.000000</td>\n",
       "      <td>0.000000</td>\n",
       "      <td>1.000000</td>\n",
       "      <td>0.210000</td>\n",
       "      <td>0.000000</td>\n",
       "      <td>...</td>\n",
       "      <td>1.000000</td>\n",
       "      <td>0.000000</td>\n",
       "      <td>0.000000</td>\n",
       "      <td>5.269144</td>\n",
       "      <td>27.763878</td>\n",
       "      <td>146.291911</td>\n",
       "      <td>3.763600e+04</td>\n",
       "      <td>7.301384e+06</td>\n",
       "      <td>4.499810</td>\n",
       "      <td>1.000000</td>\n",
       "    </tr>\n",
       "    <tr>\n",
       "      <th>50%</th>\n",
       "      <td>25.000000</td>\n",
       "      <td>65.000000</td>\n",
       "      <td>100.000000</td>\n",
       "      <td>2.000000</td>\n",
       "      <td>1.000000</td>\n",
       "      <td>96.000000</td>\n",
       "      <td>2.000000</td>\n",
       "      <td>1.000000</td>\n",
       "      <td>0.520000</td>\n",
       "      <td>0.000000</td>\n",
       "      <td>...</td>\n",
       "      <td>1.000000</td>\n",
       "      <td>1.098612</td>\n",
       "      <td>1.000000</td>\n",
       "      <td>6.006350</td>\n",
       "      <td>36.076248</td>\n",
       "      <td>216.686649</td>\n",
       "      <td>1.640250e+05</td>\n",
       "      <td>6.643012e+07</td>\n",
       "      <td>4.564348</td>\n",
       "      <td>2.000000</td>\n",
       "    </tr>\n",
       "    <tr>\n",
       "      <th>75%</th>\n",
       "      <td>40.000000</td>\n",
       "      <td>100.000000</td>\n",
       "      <td>100.000000</td>\n",
       "      <td>4.000000</td>\n",
       "      <td>1.500000</td>\n",
       "      <td>100.000000</td>\n",
       "      <td>10.000000</td>\n",
       "      <td>1.000000</td>\n",
       "      <td>1.190000</td>\n",
       "      <td>10.000000</td>\n",
       "      <td>...</td>\n",
       "      <td>1.000000</td>\n",
       "      <td>2.397895</td>\n",
       "      <td>1.000000</td>\n",
       "      <td>6.512487</td>\n",
       "      <td>42.412491</td>\n",
       "      <td>276.210824</td>\n",
       "      <td>4.529300e+05</td>\n",
       "      <td>3.048232e+08</td>\n",
       "      <td>4.605170</td>\n",
       "      <td>3.000000</td>\n",
       "    </tr>\n",
       "    <tr>\n",
       "      <th>max</th>\n",
       "      <td>500.000000</td>\n",
       "      <td>850.000000</td>\n",
       "      <td>100.000000</td>\n",
       "      <td>16.000000</td>\n",
       "      <td>8.000000</td>\n",
       "      <td>100.000000</td>\n",
       "      <td>290.000000</td>\n",
       "      <td>12.000000</td>\n",
       "      <td>9.729999</td>\n",
       "      <td>200.000000</td>\n",
       "      <td>...</td>\n",
       "      <td>2.000000</td>\n",
       "      <td>5.673323</td>\n",
       "      <td>2.000000</td>\n",
       "      <td>7.773594</td>\n",
       "      <td>60.428771</td>\n",
       "      <td>469.748759</td>\n",
       "      <td>5.650129e+06</td>\n",
       "      <td>1.343036e+10</td>\n",
       "      <td>4.605170</td>\n",
       "      <td>3.000000</td>\n",
       "    </tr>\n",
       "  </tbody>\n",
       "</table>\n",
       "<p>8 rows × 80 columns</p>\n",
       "</div>"
      ],
      "text/plain": [
       "       usd_cleaning_fee  usd_price_day  p_host_response_rate  n_accommodates  \\\n",
       "count       2769.000000    4496.000000           2970.000000     4496.000000   \n",
       "mean          31.439870      80.556940             90.924579        2.864324   \n",
       "std           25.871418      58.915794             21.642376        1.722148   \n",
       "min            4.000000      10.000000              0.000000        1.000000   \n",
       "25%           15.000000      40.000000             96.000000        2.000000   \n",
       "50%           25.000000      65.000000            100.000000        2.000000   \n",
       "75%           40.000000     100.000000            100.000000        4.000000   \n",
       "max          500.000000     850.000000            100.000000       16.000000   \n",
       "\n",
       "       n_bathrooms  n_review_scores_rating  n_number_of_reviews  \\\n",
       "count  4487.000000             3073.000000          4496.000000   \n",
       "mean      1.225986               93.323788            10.141904   \n",
       "std       0.480064                9.133501            22.342473   \n",
       "min       0.000000               20.000000             0.000000   \n",
       "25%       1.000000               90.000000             0.000000   \n",
       "50%       1.000000               96.000000             2.000000   \n",
       "75%       1.500000              100.000000            10.000000   \n",
       "max       8.000000              100.000000           290.000000   \n",
       "\n",
       "       n_guests_included  n_reviews_per_month  n_extra_people  ...  \\\n",
       "count        4496.000000          3147.000000     4496.000000  ...   \n",
       "mean            1.385454             0.946295        5.991770  ...   \n",
       "std             0.996658             1.143208       11.255617  ...   \n",
       "min             1.000000             0.020000        0.000000  ...   \n",
       "25%             1.000000             0.210000        0.000000  ...   \n",
       "50%             1.000000             0.520000        0.000000  ...   \n",
       "75%             1.000000             1.190000       10.000000  ...   \n",
       "max            12.000000             9.729999      200.000000  ...   \n",
       "\n",
       "        f_bathroom  ln_number_of_reviews  f_number_of_reviews  ln_days_since  \\\n",
       "count  4487.000000           4496.000000          4495.000000    3146.000000   \n",
       "mean      1.150435              1.414416             0.745050       5.813246   \n",
       "std       0.379318              1.318117             0.529467       1.061670   \n",
       "min       0.000000              0.000000             0.000000       0.000000   \n",
       "25%       1.000000              0.000000             0.000000       5.269144   \n",
       "50%       1.000000              1.098612             1.000000       6.006350   \n",
       "75%       1.000000              2.397895             1.000000       6.512487   \n",
       "max       2.000000              5.673323             2.000000       7.773594   \n",
       "\n",
       "       ln_days_since2  ln_days_since3  n_days_since2  n_days_since3  \\\n",
       "count     3146.000000     3146.000000   3.147000e+03   3.147000e+03   \n",
       "mean        34.920619      214.912424   4.386975e+05   5.008933e+08   \n",
       "std         11.357470       96.884368   6.959114e+05   1.179754e+09   \n",
       "min          0.000000        0.000000   0.000000e+00   0.000000e+00   \n",
       "25%         27.763878      146.291911   3.763600e+04   7.301384e+06   \n",
       "50%         36.076248      216.686649   1.640250e+05   6.643012e+07   \n",
       "75%         42.412491      276.210824   4.529300e+05   3.048232e+08   \n",
       "max         60.428771      469.748759   5.650129e+06   1.343036e+10   \n",
       "\n",
       "       ln_review_scores_rating  f_minimum_nights  \n",
       "count              3073.000000       4495.000000  \n",
       "mean                  4.529253          2.029366  \n",
       "std                   0.130507          0.838032  \n",
       "min                   2.995732          1.000000  \n",
       "25%                   4.499810          1.000000  \n",
       "50%                   4.564348          2.000000  \n",
       "75%                   4.605170          3.000000  \n",
       "max                   4.605170          3.000000  \n",
       "\n",
       "[8 rows x 80 columns]"
      ]
     },
     "execution_count": 4,
     "metadata": {},
     "output_type": "execute_result"
    }
   ],
   "source": [
    "data.describe()"
   ]
  },
  {
   "cell_type": "markdown",
   "metadata": {},
   "source": [
    "where do we have missing variables now?"
   ]
  },
  {
   "cell_type": "code",
   "execution_count": 5,
   "metadata": {},
   "outputs": [
    {
     "data": {
      "text/plain": [
       "usd_cleaning_fee           1727\n",
       "p_host_response_rate       1526\n",
       "n_bathrooms                   9\n",
       "n_review_scores_rating     1423\n",
       "n_reviews_per_month        1349\n",
       "n_beds                       12\n",
       "n_days_since               1349\n",
       "ln_beds                      12\n",
       "f_bathroom                    9\n",
       "f_number_of_reviews           1\n",
       "ln_days_since              1350\n",
       "ln_days_since2             1350\n",
       "ln_days_since3             1350\n",
       "n_days_since2              1349\n",
       "n_days_since3              1349\n",
       "ln_review_scores_rating    1423\n",
       "f_minimum_nights              1\n",
       "dtype: int64"
      ]
     },
     "execution_count": 5,
     "metadata": {},
     "output_type": "execute_result"
    }
   ],
   "source": [
    "data.isnull().sum().loc[lambda x: x > 0]"
   ]
  },
  {
   "cell_type": "markdown",
   "metadata": {},
   "source": [
    "What to do with missing values?\n",
    "\n",
    "   1. drop if no target (already did)"
   ]
  },
  {
   "cell_type": "code",
   "execution_count": 6,
   "metadata": {},
   "outputs": [],
   "source": [
    "data = data.dropna(subset=[\"price\"])"
   ]
  },
  {
   "cell_type": "markdown",
   "metadata": {},
   "source": [
    " 2. imput when few, not that important"
   ]
  },
  {
   "cell_type": "code",
   "execution_count": 7,
   "metadata": {},
   "outputs": [],
   "source": [
    "data[\"n_bathrooms\"] = data[\"n_bathrooms\"].fillna(np.nanmedian(data[\"n_bathrooms\"]))\n",
    "data[\"n_beds\"] = data[\"n_beds\"].fillna(data[\"n_accommodates\"])\n",
    "data[\"f_bathroom\"] = data[\"f_bathroom\"].fillna(1)\n",
    "data[\"f_minimum_nights\"] = data[\"f_minimum_nights\"].fillna(1)\n",
    "data[\"f_number_of_reviews\"] = data[\"f_number_of_reviews\"].fillna(1)\n",
    "data[\"ln_beds\"] = data[\"ln_beds\"].fillna(0)\n"
   ]
  },
  {
   "cell_type": "code",
   "execution_count": 8,
   "metadata": {},
   "outputs": [
    {
     "data": {
      "text/plain": [
       "count    4496.000000\n",
       "mean        1.225534\n",
       "std         0.479690\n",
       "min         0.000000\n",
       "25%         1.000000\n",
       "50%         1.000000\n",
       "75%         1.500000\n",
       "max         8.000000\n",
       "Name: n_bathrooms, dtype: float64"
      ]
     },
     "execution_count": 8,
     "metadata": {},
     "output_type": "execute_result"
    }
   ],
   "source": [
    "data[\"n_bathrooms\"].describe()\n"
   ]
  },
  {
   "cell_type": "markdown",
   "metadata": {},
   "source": [
    " 3. drop columns when many missing not imortant"
   ]
  },
  {
   "cell_type": "code",
   "execution_count": 9,
   "metadata": {},
   "outputs": [],
   "source": [
    "data = data.drop([\"usd_cleaning_fee\", \"p_host_response_rate\"], axis=1)\n"
   ]
  },
  {
   "cell_type": "markdown",
   "metadata": {},
   "source": [
    " where do we have missing variables now?"
   ]
  },
  {
   "cell_type": "code",
   "execution_count": 10,
   "metadata": {},
   "outputs": [
    {
     "data": {
      "text/plain": [
       "n_review_scores_rating     1423\n",
       "n_reviews_per_month        1349\n",
       "n_days_since               1349\n",
       "ln_days_since              1350\n",
       "ln_days_since2             1350\n",
       "ln_days_since3             1350\n",
       "n_days_since2              1349\n",
       "n_days_since3              1349\n",
       "ln_review_scores_rating    1423\n",
       "dtype: int64"
      ]
     },
     "execution_count": 10,
     "metadata": {},
     "output_type": "execute_result"
    }
   ],
   "source": [
    "data.isnull().sum().loc[lambda x: x > 0]"
   ]
  },
  {
   "cell_type": "markdown",
   "metadata": {},
   "source": [
    " 4. Replace missing variables re reviews with zero, when no review + add flags"
   ]
  },
  {
   "cell_type": "code",
   "execution_count": 11,
   "metadata": {},
   "outputs": [],
   "source": [
    "for var in [\"flag_days_since\", \"flag_review_scores_rating\", \"flag_reviews_per_month\"]:\n",
    "    data[var] = [int(x) for x in data[var.replace(\"flag\", \"n\")].isna()]"
   ]
  },
  {
   "cell_type": "code",
   "execution_count": 12,
   "metadata": {},
   "outputs": [],
   "source": [
    "data[\"n_days_since\"] = data[\"n_days_since\"].fillna(np.nanmedian(data[\"n_days_since\"]))\n",
    "data[\"n_review_scores_rating\"] = data[\"n_review_scores_rating\"].fillna(\n",
    "    np.nanmedian(data[\"n_review_scores_rating\"])\n",
    ")\n",
    "data[\"n_reviews_per_month\"] = data[\"n_reviews_per_month\"].fillna(\n",
    "    np.nanmedian(data[\"n_reviews_per_month\"])\n",
    ")\n"
   ]
  },
  {
   "cell_type": "code",
   "execution_count": 13,
   "metadata": {},
   "outputs": [
    {
     "data": {
      "text/plain": [
       "flag_days_since\n",
       "0    3147\n",
       "1    1349\n",
       "Name: count, dtype: int64"
      ]
     },
     "execution_count": 13,
     "metadata": {},
     "output_type": "execute_result"
    }
   ],
   "source": [
    "data.flag_days_since.value_counts()\n"
   ]
  },
  {
   "cell_type": "markdown",
   "metadata": {},
   "source": [
    "Add features -> different functional forms\n",
    "\n",
    "Create variables, measuring the time since: squared, cubic, logs\n"
   ]
  },
  {
   "cell_type": "code",
   "execution_count": 14,
   "metadata": {},
   "outputs": [],
   "source": [
    "data = data.assign(\n",
    "    ln_days_since=lambda x: np.log(x[\"n_days_since\"] + 1),\n",
    "    ln_days_since2=lambda x: np.log(x[\"n_days_since\"] + 1) ** 2,\n",
    "    ln_days_since3=lambda x: np.log(x[\"n_days_since\"] + 1) ** 3,\n",
    "    n_days_since2=lambda x: x[\"n_days_since\"] ** 2,\n",
    "    n_days_since3=lambda x: x[\"n_days_since\"] ** 3,\n",
    "    ln_review_scores_rating=lambda x: np.log(x[\"n_review_scores_rating\"]),\n",
    ").assign(\n",
    "    ln_days_since=lambda x: np.where(\n",
    "        x[\"ln_days_since\"].isnull(), 0, x[\"ln_days_since\"]\n",
    "    ),\n",
    "    ln_days_since2=lambda x: np.where(\n",
    "        x[\"ln_days_since2\"].isnull(), 0, x[\"ln_days_since2\"]\n",
    "    ),\n",
    "    ln_days_since3=lambda x: np.where(\n",
    "        x[\"ln_days_since3\"].isnull(), 0, x[\"ln_days_since3\"]\n",
    "    ),\n",
    ")"
   ]
  },
  {
   "cell_type": "markdown",
   "metadata": {},
   "source": [
    "Look at data"
   ]
  },
  {
   "cell_type": "code",
   "execution_count": 15,
   "metadata": {},
   "outputs": [
    {
     "data": {
      "text/html": [
       "<div>\n",
       "<style scoped>\n",
       "    .dataframe tbody tr th:only-of-type {\n",
       "        vertical-align: middle;\n",
       "    }\n",
       "\n",
       "    .dataframe tbody tr th {\n",
       "        vertical-align: top;\n",
       "    }\n",
       "\n",
       "    .dataframe thead th {\n",
       "        text-align: right;\n",
       "    }\n",
       "</style>\n",
       "<table border=\"1\" class=\"dataframe\">\n",
       "  <thead>\n",
       "    <tr style=\"text-align: right;\">\n",
       "      <th></th>\n",
       "      <th>usd_price_day</th>\n",
       "      <th>n_accommodates</th>\n",
       "      <th>n_bathrooms</th>\n",
       "      <th>n_review_scores_rating</th>\n",
       "      <th>n_number_of_reviews</th>\n",
       "      <th>n_guests_included</th>\n",
       "      <th>n_reviews_per_month</th>\n",
       "      <th>n_extra_people</th>\n",
       "      <th>n_minimum_nights</th>\n",
       "      <th>n_beds</th>\n",
       "      <th>...</th>\n",
       "      <th>ln_days_since</th>\n",
       "      <th>ln_days_since2</th>\n",
       "      <th>ln_days_since3</th>\n",
       "      <th>n_days_since2</th>\n",
       "      <th>n_days_since3</th>\n",
       "      <th>ln_review_scores_rating</th>\n",
       "      <th>f_minimum_nights</th>\n",
       "      <th>flag_days_since</th>\n",
       "      <th>flag_review_scores_rating</th>\n",
       "      <th>flag_reviews_per_month</th>\n",
       "    </tr>\n",
       "  </thead>\n",
       "  <tbody>\n",
       "    <tr>\n",
       "      <th>count</th>\n",
       "      <td>4496.000000</td>\n",
       "      <td>4496.000000</td>\n",
       "      <td>4496.000000</td>\n",
       "      <td>4496.000000</td>\n",
       "      <td>4496.000000</td>\n",
       "      <td>4496.000000</td>\n",
       "      <td>4496.000000</td>\n",
       "      <td>4496.000000</td>\n",
       "      <td>4496.000000</td>\n",
       "      <td>4496.000000</td>\n",
       "      <td>...</td>\n",
       "      <td>4496.000000</td>\n",
       "      <td>4496.000000</td>\n",
       "      <td>4496.000000</td>\n",
       "      <td>4.496000e+03</td>\n",
       "      <td>4.496000e+03</td>\n",
       "      <td>4496.000000</td>\n",
       "      <td>4496.000000</td>\n",
       "      <td>4496.000000</td>\n",
       "      <td>4496.000000</td>\n",
       "      <td>4496.000000</td>\n",
       "    </tr>\n",
       "    <tr>\n",
       "      <th>mean</th>\n",
       "      <td>80.556940</td>\n",
       "      <td>2.864324</td>\n",
       "      <td>1.225534</td>\n",
       "      <td>94.170819</td>\n",
       "      <td>10.141904</td>\n",
       "      <td>1.385454</td>\n",
       "      <td>0.818387</td>\n",
       "      <td>5.991770</td>\n",
       "      <td>3.127002</td>\n",
       "      <td>1.577847</td>\n",
       "      <td>...</td>\n",
       "      <td>5.874549</td>\n",
       "      <td>35.296294</td>\n",
       "      <td>215.650102</td>\n",
       "      <td>3.562836e+05</td>\n",
       "      <td>3.705350e+08</td>\n",
       "      <td>4.540361</td>\n",
       "      <td>2.029137</td>\n",
       "      <td>0.300044</td>\n",
       "      <td>0.316504</td>\n",
       "      <td>0.300044</td>\n",
       "    </tr>\n",
       "    <tr>\n",
       "      <th>std</th>\n",
       "      <td>58.915794</td>\n",
       "      <td>1.722148</td>\n",
       "      <td>0.479690</td>\n",
       "      <td>7.652561</td>\n",
       "      <td>22.342473</td>\n",
       "      <td>0.996658</td>\n",
       "      <td>0.976154</td>\n",
       "      <td>11.255617</td>\n",
       "      <td>6.160668</td>\n",
       "      <td>1.044372</td>\n",
       "      <td>...</td>\n",
       "      <td>0.886647</td>\n",
       "      <td>9.482548</td>\n",
       "      <td>80.906146</td>\n",
       "      <td>5.956503e+05</td>\n",
       "      <td>1.006861e+09</td>\n",
       "      <td>0.109118</td>\n",
       "      <td>0.838079</td>\n",
       "      <td>0.458328</td>\n",
       "      <td>0.465164</td>\n",
       "      <td>0.458328</td>\n",
       "    </tr>\n",
       "    <tr>\n",
       "      <th>min</th>\n",
       "      <td>10.000000</td>\n",
       "      <td>1.000000</td>\n",
       "      <td>0.000000</td>\n",
       "      <td>20.000000</td>\n",
       "      <td>0.000000</td>\n",
       "      <td>1.000000</td>\n",
       "      <td>0.020000</td>\n",
       "      <td>0.000000</td>\n",
       "      <td>1.000000</td>\n",
       "      <td>1.000000</td>\n",
       "      <td>...</td>\n",
       "      <td>0.000000</td>\n",
       "      <td>0.000000</td>\n",
       "      <td>0.000000</td>\n",
       "      <td>0.000000e+00</td>\n",
       "      <td>0.000000e+00</td>\n",
       "      <td>2.995732</td>\n",
       "      <td>1.000000</td>\n",
       "      <td>0.000000</td>\n",
       "      <td>0.000000</td>\n",
       "      <td>0.000000</td>\n",
       "    </tr>\n",
       "    <tr>\n",
       "      <th>25%</th>\n",
       "      <td>40.000000</td>\n",
       "      <td>2.000000</td>\n",
       "      <td>1.000000</td>\n",
       "      <td>93.000000</td>\n",
       "      <td>0.000000</td>\n",
       "      <td>1.000000</td>\n",
       "      <td>0.330000</td>\n",
       "      <td>0.000000</td>\n",
       "      <td>1.000000</td>\n",
       "      <td>1.000000</td>\n",
       "      <td>...</td>\n",
       "      <td>5.551989</td>\n",
       "      <td>30.824581</td>\n",
       "      <td>171.137760</td>\n",
       "      <td>6.592075e+04</td>\n",
       "      <td>1.692525e+07</td>\n",
       "      <td>4.532599</td>\n",
       "      <td>1.000000</td>\n",
       "      <td>0.000000</td>\n",
       "      <td>0.000000</td>\n",
       "      <td>0.000000</td>\n",
       "    </tr>\n",
       "    <tr>\n",
       "      <th>50%</th>\n",
       "      <td>65.000000</td>\n",
       "      <td>2.000000</td>\n",
       "      <td>1.000000</td>\n",
       "      <td>96.000000</td>\n",
       "      <td>2.000000</td>\n",
       "      <td>1.000000</td>\n",
       "      <td>0.520000</td>\n",
       "      <td>0.000000</td>\n",
       "      <td>2.000000</td>\n",
       "      <td>1.000000</td>\n",
       "      <td>...</td>\n",
       "      <td>6.006353</td>\n",
       "      <td>36.076278</td>\n",
       "      <td>216.686868</td>\n",
       "      <td>1.640250e+05</td>\n",
       "      <td>6.643012e+07</td>\n",
       "      <td>4.564348</td>\n",
       "      <td>2.000000</td>\n",
       "      <td>0.000000</td>\n",
       "      <td>0.000000</td>\n",
       "      <td>0.000000</td>\n",
       "    </tr>\n",
       "    <tr>\n",
       "      <th>75%</th>\n",
       "      <td>100.000000</td>\n",
       "      <td>4.000000</td>\n",
       "      <td>1.500000</td>\n",
       "      <td>98.000000</td>\n",
       "      <td>10.000000</td>\n",
       "      <td>1.000000</td>\n",
       "      <td>0.860000</td>\n",
       "      <td>10.000000</td>\n",
       "      <td>3.000000</td>\n",
       "      <td>2.000000</td>\n",
       "      <td>...</td>\n",
       "      <td>6.335054</td>\n",
       "      <td>40.132912</td>\n",
       "      <td>254.244177</td>\n",
       "      <td>3.169690e+05</td>\n",
       "      <td>1.784535e+08</td>\n",
       "      <td>4.584967</td>\n",
       "      <td>3.000000</td>\n",
       "      <td>1.000000</td>\n",
       "      <td>1.000000</td>\n",
       "      <td>1.000000</td>\n",
       "    </tr>\n",
       "    <tr>\n",
       "      <th>max</th>\n",
       "      <td>850.000000</td>\n",
       "      <td>16.000000</td>\n",
       "      <td>8.000000</td>\n",
       "      <td>100.000000</td>\n",
       "      <td>290.000000</td>\n",
       "      <td>12.000000</td>\n",
       "      <td>9.729999</td>\n",
       "      <td>200.000000</td>\n",
       "      <td>180.000000</td>\n",
       "      <td>16.000000</td>\n",
       "      <td>...</td>\n",
       "      <td>7.774015</td>\n",
       "      <td>60.435310</td>\n",
       "      <td>469.825014</td>\n",
       "      <td>5.650129e+06</td>\n",
       "      <td>1.343036e+10</td>\n",
       "      <td>4.605170</td>\n",
       "      <td>3.000000</td>\n",
       "      <td>1.000000</td>\n",
       "      <td>1.000000</td>\n",
       "      <td>1.000000</td>\n",
       "    </tr>\n",
       "  </tbody>\n",
       "</table>\n",
       "<p>8 rows × 81 columns</p>\n",
       "</div>"
      ],
      "text/plain": [
       "       usd_price_day  n_accommodates  n_bathrooms  n_review_scores_rating  \\\n",
       "count    4496.000000     4496.000000  4496.000000             4496.000000   \n",
       "mean       80.556940        2.864324     1.225534               94.170819   \n",
       "std        58.915794        1.722148     0.479690                7.652561   \n",
       "min        10.000000        1.000000     0.000000               20.000000   \n",
       "25%        40.000000        2.000000     1.000000               93.000000   \n",
       "50%        65.000000        2.000000     1.000000               96.000000   \n",
       "75%       100.000000        4.000000     1.500000               98.000000   \n",
       "max       850.000000       16.000000     8.000000              100.000000   \n",
       "\n",
       "       n_number_of_reviews  n_guests_included  n_reviews_per_month  \\\n",
       "count          4496.000000        4496.000000          4496.000000   \n",
       "mean             10.141904           1.385454             0.818387   \n",
       "std              22.342473           0.996658             0.976154   \n",
       "min               0.000000           1.000000             0.020000   \n",
       "25%               0.000000           1.000000             0.330000   \n",
       "50%               2.000000           1.000000             0.520000   \n",
       "75%              10.000000           1.000000             0.860000   \n",
       "max             290.000000          12.000000             9.729999   \n",
       "\n",
       "       n_extra_people  n_minimum_nights       n_beds  ...  ln_days_since  \\\n",
       "count     4496.000000       4496.000000  4496.000000  ...    4496.000000   \n",
       "mean         5.991770          3.127002     1.577847  ...       5.874549   \n",
       "std         11.255617          6.160668     1.044372  ...       0.886647   \n",
       "min          0.000000          1.000000     1.000000  ...       0.000000   \n",
       "25%          0.000000          1.000000     1.000000  ...       5.551989   \n",
       "50%          0.000000          2.000000     1.000000  ...       6.006353   \n",
       "75%         10.000000          3.000000     2.000000  ...       6.335054   \n",
       "max        200.000000        180.000000    16.000000  ...       7.774015   \n",
       "\n",
       "       ln_days_since2  ln_days_since3  n_days_since2  n_days_since3  \\\n",
       "count     4496.000000     4496.000000   4.496000e+03   4.496000e+03   \n",
       "mean        35.296294      215.650102   3.562836e+05   3.705350e+08   \n",
       "std          9.482548       80.906146   5.956503e+05   1.006861e+09   \n",
       "min          0.000000        0.000000   0.000000e+00   0.000000e+00   \n",
       "25%         30.824581      171.137760   6.592075e+04   1.692525e+07   \n",
       "50%         36.076278      216.686868   1.640250e+05   6.643012e+07   \n",
       "75%         40.132912      254.244177   3.169690e+05   1.784535e+08   \n",
       "max         60.435310      469.825014   5.650129e+06   1.343036e+10   \n",
       "\n",
       "       ln_review_scores_rating  f_minimum_nights  flag_days_since  \\\n",
       "count              4496.000000       4496.000000      4496.000000   \n",
       "mean                  4.540361          2.029137         0.300044   \n",
       "std                   0.109118          0.838079         0.458328   \n",
       "min                   2.995732          1.000000         0.000000   \n",
       "25%                   4.532599          1.000000         0.000000   \n",
       "50%                   4.564348          2.000000         0.000000   \n",
       "75%                   4.584967          3.000000         1.000000   \n",
       "max                   4.605170          3.000000         1.000000   \n",
       "\n",
       "       flag_review_scores_rating  flag_reviews_per_month  \n",
       "count                4496.000000             4496.000000  \n",
       "mean                    0.316504                0.300044  \n",
       "std                     0.465164                0.458328  \n",
       "min                     0.000000                0.000000  \n",
       "25%                     0.000000                0.000000  \n",
       "50%                     0.000000                0.000000  \n",
       "75%                     1.000000                1.000000  \n",
       "max                     1.000000                1.000000  \n",
       "\n",
       "[8 rows x 81 columns]"
      ]
     },
     "execution_count": 15,
     "metadata": {},
     "output_type": "execute_result"
    }
   ],
   "source": [
    "data.describe()\n"
   ]
  },
  {
   "cell_type": "markdown",
   "metadata": {},
   "source": [
    " where do we have missing variables now?"
   ]
  },
  {
   "cell_type": "code",
   "execution_count": 16,
   "metadata": {},
   "outputs": [
    {
     "data": {
      "text/plain": [
       "Series([], dtype: int64)"
      ]
     },
     "execution_count": 16,
     "metadata": {},
     "output_type": "execute_result"
    }
   ],
   "source": [
    "data.isnull().sum().loc[lambda x: x > 0]"
   ]
  },
  {
   "cell_type": "markdown",
   "metadata": {},
   "source": [
    "### Business logic - define our prediction problem"
   ]
  },
  {
   "cell_type": "markdown",
   "metadata": {},
   "source": [
    "Decision\n",
    "\n",
    "Size, we need a normal apartment, 1-7persons"
   ]
  },
  {
   "cell_type": "code",
   "execution_count": 17,
   "metadata": {},
   "outputs": [],
   "source": [
    "data = data.loc[data.n_accommodates < 8]\n"
   ]
  },
  {
   "cell_type": "code",
   "execution_count": 18,
   "metadata": {},
   "outputs": [],
   "source": [
    "data.to_csv(\"airbnb_hackney_work.csv\", index=False)\n"
   ]
  },
  {
   "cell_type": "markdown",
   "metadata": {},
   "source": [
    "### Look at some descriptive statistics\n",
    "\n",
    "How is the average price changing in my district by `property_type`, `room_type` and the `bed_type`?"
   ]
  },
  {
   "cell_type": "code",
   "execution_count": 19,
   "metadata": {},
   "outputs": [
    {
     "data": {
      "text/html": [
       "<div>\n",
       "<style scoped>\n",
       "    .dataframe tbody tr th:only-of-type {\n",
       "        vertical-align: middle;\n",
       "    }\n",
       "\n",
       "    .dataframe tbody tr th {\n",
       "        vertical-align: top;\n",
       "    }\n",
       "\n",
       "    .dataframe thead th {\n",
       "        text-align: right;\n",
       "    }\n",
       "</style>\n",
       "<table border=\"1\" class=\"dataframe\">\n",
       "  <thead>\n",
       "    <tr style=\"text-align: right;\">\n",
       "      <th></th>\n",
       "      <th></th>\n",
       "      <th>mean_price</th>\n",
       "    </tr>\n",
       "    <tr>\n",
       "      <th>f_property_type</th>\n",
       "      <th>f_room_type</th>\n",
       "      <th></th>\n",
       "    </tr>\n",
       "  </thead>\n",
       "  <tbody>\n",
       "    <tr>\n",
       "      <th rowspan=\"3\" valign=\"top\">Apartment</th>\n",
       "      <th>Entire home/apt</th>\n",
       "      <td>106.364341</td>\n",
       "    </tr>\n",
       "    <tr>\n",
       "      <th>Private room</th>\n",
       "      <td>48.034439</td>\n",
       "    </tr>\n",
       "    <tr>\n",
       "      <th>Shared room</th>\n",
       "      <td>50.708333</td>\n",
       "    </tr>\n",
       "    <tr>\n",
       "      <th rowspan=\"3\" valign=\"top\">House</th>\n",
       "      <th>Entire home/apt</th>\n",
       "      <td>134.794118</td>\n",
       "    </tr>\n",
       "    <tr>\n",
       "      <th>Private room</th>\n",
       "      <td>42.931487</td>\n",
       "    </tr>\n",
       "    <tr>\n",
       "      <th>Shared room</th>\n",
       "      <td>38.666667</td>\n",
       "    </tr>\n",
       "  </tbody>\n",
       "</table>\n",
       "</div>"
      ],
      "text/plain": [
       "                                 mean_price\n",
       "f_property_type f_room_type                \n",
       "Apartment       Entire home/apt  106.364341\n",
       "                Private room      48.034439\n",
       "                Shared room       50.708333\n",
       "House           Entire home/apt  134.794118\n",
       "                Private room      42.931487\n",
       "                Shared room       38.666667"
      ]
     },
     "execution_count": 19,
     "metadata": {},
     "output_type": "execute_result"
    }
   ],
   "source": [
    "data.groupby([\"f_property_type\", \"f_room_type\"]).agg(mean_price=(\"price\", np.mean))\n"
   ]
  },
  {
   "cell_type": "code",
   "execution_count": 20,
   "metadata": {},
   "outputs": [
    {
     "data": {
      "text/html": [
       "<div>\n",
       "<style scoped>\n",
       "    .dataframe tbody tr th:only-of-type {\n",
       "        vertical-align: middle;\n",
       "    }\n",
       "\n",
       "    .dataframe tbody tr th {\n",
       "        vertical-align: top;\n",
       "    }\n",
       "\n",
       "    .dataframe thead th {\n",
       "        text-align: right;\n",
       "    }\n",
       "</style>\n",
       "<table border=\"1\" class=\"dataframe\">\n",
       "  <thead>\n",
       "    <tr style=\"text-align: right;\">\n",
       "      <th></th>\n",
       "      <th>mean_price</th>\n",
       "    </tr>\n",
       "    <tr>\n",
       "      <th>f_bed_type</th>\n",
       "      <th></th>\n",
       "    </tr>\n",
       "  </thead>\n",
       "  <tbody>\n",
       "    <tr>\n",
       "      <th>Couch</th>\n",
       "      <td>49.091954</td>\n",
       "    </tr>\n",
       "    <tr>\n",
       "      <th>Real Bed</th>\n",
       "      <td>77.838365</td>\n",
       "    </tr>\n",
       "  </tbody>\n",
       "</table>\n",
       "</div>"
      ],
      "text/plain": [
       "            mean_price\n",
       "f_bed_type            \n",
       "Couch        49.091954\n",
       "Real Bed     77.838365"
      ]
     },
     "execution_count": 20,
     "metadata": {},
     "output_type": "execute_result"
    }
   ],
   "source": [
    "data.groupby([\"f_bed_type\"]).agg(mean_price=(\"price\", np.mean))\n"
   ]
  },
  {
   "cell_type": "code",
   "execution_count": 21,
   "metadata": {},
   "outputs": [
    {
     "data": {
      "text/plain": [
       "count    4393.000000\n",
       "mean       77.269064\n",
       "std        53.265471\n",
       "min        10.000000\n",
       "25%        40.000000\n",
       "50%        65.000000\n",
       "75%        99.000000\n",
       "max       850.000000\n",
       "Name: price, dtype: float64"
      ]
     },
     "execution_count": 21,
     "metadata": {},
     "output_type": "execute_result"
    }
   ],
   "source": [
    "data.price.describe()\n"
   ]
  },
  {
   "cell_type": "markdown",
   "metadata": {},
   "source": [
    " NB all graphs, we exclude  extreme values of price"
   ]
  },
  {
   "cell_type": "code",
   "execution_count": 22,
   "metadata": {},
   "outputs": [],
   "source": [
    "datau = data.loc[data.price < 400]\n"
   ]
  },
  {
   "cell_type": "markdown",
   "metadata": {},
   "source": [
    "Histograms price\n",
    "\n",
    "Distribution of price by type below 400"
   ]
  },
  {
   "cell_type": "markdown",
   "metadata": {},
   "source": [
    "### Figure 14.3 Airbnb apartment price and ln price distributions.\n",
    "\n",
    "(a) Price"
   ]
  },
  {
   "cell_type": "code",
   "execution_count": 23,
   "metadata": {},
   "outputs": [
    {
     "data": {
      "image/png": "[encoded data removed]",
      "text/plain": [
       "<Figure size 700x550 with 1 Axes>"
      ]
     },
     "metadata": {},
     "output_type": "display_data"
    }
   ],
   "source": [
    "sns.histplot(datau, x=\"price\", bins=30, alpha=1, stat=\"probability\")\n",
    "plt.ylabel(\"Percent\")\n",
    "plt.xlabel(\"Price (US dollars)\")\n",
    "plt.yticks(\n",
    "    np.arange(0, 0.16, 0.03),\n",
    "    labels=[f\"{100 * y:.0f}%\" for y in np.arange(0, 0.16, 0.03)],\n",
    ")\n",
    "plt.show()"
   ]
  },
  {
   "cell_type": "markdown",
   "metadata": {},
   "source": [
    "(b) Price in log"
   ]
  },
  {
   "cell_type": "code",
   "execution_count": 24,
   "metadata": {},
   "outputs": [
    {
     "data": {
      "image/png": "[encoded data removed]",
      "text/plain": [
       "<Figure size 700x550 with 1 Axes>"
      ]
     },
     "metadata": {},
     "output_type": "display_data"
    }
   ],
   "source": [
    "sns.histplot(datau, x=\"ln_price\", bins=30, alpha=1, stat=\"probability\", binwidth=0.2)\n",
    "plt.ylabel(\"Percent\")\n",
    "plt.xlabel(\"Price (US dollars)\")\n",
    "plt.yticks(\n",
    "    np.arange(0, 0.16, 0.03),\n",
    "    labels=[f\"{100 * y:.0f}%\" for y in np.arange(0, 0.16, 0.03)],\n",
    ")\n",
    "plt.show()"
   ]
  },
  {
   "cell_type": "markdown",
   "metadata": {},
   "source": [
    "### Figure 14.4 Airbnb apartment price distribution by important features\n",
    "\n",
    "(a) Price by room type"
   ]
  },
  {
   "cell_type": "code",
   "execution_count": 25,
   "metadata": {},
   "outputs": [],
   "source": [
    "datau[\"f_room_type\"] = pd.Categorical(\n",
    "    datau[\"f_room_type\"], categories=sorted(set(datau[\"f_room_type\"]), reverse=False)\n",
    ")"
   ]
  },
  {
   "cell_type": "code",
   "execution_count": 26,
   "metadata": {},
   "outputs": [
    {
     "data": {
      "image/png": "[encoded data removed]",
      "text/plain": [
       "<Figure size 700x550 with 1 Axes>"
      ]
     },
     "metadata": {},
     "output_type": "display_data"
    }
   ],
   "source": [
    "fig, ax = plt.subplots()\n",
    "sns.boxplot(data=datau, x=\"f_room_type\", y=\"price\", width=0.8, ax=ax, showfliers=False)\n",
    "\n",
    "box_line_col = [da.color[1], da.color[0], da.color[2]]\n",
    "for i, box_col in enumerate(box_line_col):\n",
    "    mybox = ax.patches[i]\n",
    "    mybox.set_facecolor(mpl.colors.to_rgba(box_col, 0.3))\n",
    "    mybox.set_edgecolor(box_col)\n",
    "    for j in range(i * 5, i * 5 + 5):\n",
    "        line = ax.lines[j]\n",
    "        line.set_color(box_col)\n",
    "\n",
    "plt.ylabel(\"Price (US dollars)\", size=12)\n",
    "plt.xlabel(\"Room type\", size=12)\n",
    "plt.yticks(da.seq(0, 300, 100))\n",
    "da.add_margin(ax, x=0.1, y=0.01)\n",
    "plt.show()"
   ]
  },
  {
   "cell_type": "markdown",
   "metadata": {},
   "source": [
    "(b) Price by number of people accommodated and apartment versus house in US dollars"
   ]
  },
  {
   "cell_type": "code",
   "execution_count": 27,
   "metadata": {},
   "outputs": [],
   "source": [
    "datau[\"n_accommodates\"] = datau[\"n_accommodates\"].astype(int).astype(\"category\")"
   ]
  },
  {
   "cell_type": "code",
   "execution_count": 28,
   "metadata": {},
   "outputs": [
    {
     "data": {
      "image/png": "[encoded data removed]",
      "text/plain": [
       "<Figure size 700x550 with 1 Axes>"
      ]
     },
     "metadata": {},
     "output_type": "display_data"
    }
   ],
   "source": [
    "fig, ax = plt.subplots()\n",
    "# Create the boxplot\n",
    "sns.boxplot(\n",
    "    x=\"n_accommodates\",\n",
    "    y=\"price\",\n",
    "    hue=\"f_property_type\",\n",
    "    data=datau,\n",
    "    showfliers=False,\n",
    "    palette={\"Apartment\": da.color[1], \"House\": da.color[0]},\n",
    ")\n",
    "\n",
    "\n",
    "for patch in ax.patches:\n",
    "    r, g, b, _ = patch.get_facecolor()\n",
    "    patch.set_facecolor((r, g, b, 0.7))\n",
    "    patch.set_edgecolor((r, g, b, 0.7))\n",
    "\n",
    "\n",
    "for i in range(0, int(len(ax.lines) / 2)):\n",
    "    ax.lines[i].set_color(da.color[1])\n",
    "\n",
    "for i in range(int(len(ax.lines) / 2), len(ax.lines)):\n",
    "    ax.lines[i].set_color(da.color[0])\n",
    "\n",
    "ax.legend(bbox_to_anchor=(0.4, 0.85), framealpha=0)\n",
    "leg = ax.get_legend()\n",
    "leg.set_title(None)\n",
    "leg.legend_handles[0].set_color(da.color[1])\n",
    "leg.legend_handles[1].set_color(da.color[0])\n",
    "\n",
    "plt.ylabel(\"Price (US dollars)\", size=12)\n",
    "plt.xlabel(\"Guests accommodated\", size=12)\n",
    "plt.yticks(da.seq(0, 400, 50))\n",
    "da.add_margin(ax, x=0.01, y=0.01)\n",
    "plt.show()"
   ]
  },
  {
   "cell_type": "markdown",
   "metadata": {},
   "source": [
    "### Part2"
   ]
  },
  {
   "cell_type": "code",
   "execution_count": 29,
   "metadata": {},
   "outputs": [],
   "source": [
    "data = pd.read_csv(\"airbnb_hackney_work.csv\")"
   ]
  },
  {
   "cell_type": "markdown",
   "metadata": {},
   "source": [
    "### Setting up models\n",
    "\n",
    "Basic variables"
   ]
  },
  {
   "cell_type": "code",
   "execution_count": 30,
   "metadata": {},
   "outputs": [],
   "source": [
    "basic_lev = (\n",
    "    \"n_accommodates\",\n",
    "    \"n_beds\",\n",
    "    \"f_property_type\",\n",
    "    \"f_room_type\",\n",
    "    \"n_days_since\",\n",
    "    \"flag_days_since\",\n",
    ")\n",
    "basic_add = (\"f_bathroom\", \"f_cancellation_policy\", \"f_bed_type\")\n",
    "reviews = (\"f_number_of_reviews\", \"n_review_scores_rating\", \"flag_review_scores_rating\")\n",
    "poly_lev = (\"n_accommodates2\", \"n_days_since2\", \"n_days_since3\")\n",
    "# not use p_host_response_rate due to missing obs\n",
    "amenities = tuple(list(data.filter(regex=\"^d_.*\")))\n"
   ]
  },
  {
   "cell_type": "markdown",
   "metadata": {},
   "source": [
    "### Look for interactions"
   ]
  },
  {
   "cell_type": "code",
   "execution_count": 31,
   "metadata": {},
   "outputs": [
    {
     "data": {
      "image/png": "[encoded data removed]",
      "text/plain": [
       "<Figure size 1000x1500 with 6 Axes>"
      ]
     },
     "metadata": {},
     "output_type": "display_data"
    }
   ],
   "source": [
    "plot_config = [\n",
    "    {\n",
    "        \"x\": \"f_room_type\",\n",
    "        \"y\": \"price\",\n",
    "        \"hue\": \"d_familykidfriendly\",\n",
    "        \"legend_title\": \"Family Kid Friendly\",\n",
    "    },\n",
    "    {\n",
    "        \"x\": \"f_room_type\",\n",
    "        \"y\": \"price\",\n",
    "        \"hue\": \"f_property_type\",\n",
    "        \"legend_title\": \"Property Type\",\n",
    "    },\n",
    "    {\n",
    "        \"x\": \"f_cancellation_policy\",\n",
    "        \"y\": \"price\",\n",
    "        \"hue\": \"d_familykidfriendly\",\n",
    "        \"legend_title\": \"Family Kid Friendly\",\n",
    "    },\n",
    "    {\"x\": \"f_cancellation_policy\", \"y\": \"price\", \"hue\": \"d_tv\", \"legend_title\": \"TV\"},\n",
    "    {\"x\": \"f_property_type\", \"y\": \"price\", \"hue\": \"d_cats\", \"legend_title\": \"Cats\"},\n",
    "    {\"x\": \"f_property_type\", \"y\": \"price\", \"hue\": \"d_dogs\", \"legend_title\": \"Dogs\"},\n",
    "]\n",
    "\n",
    "da.plot_interactions(data, plot_config)"
   ]
  },
  {
   "cell_type": "markdown",
   "metadata": {},
   "source": [
    "Dummies suggested by graphs"
   ]
  },
  {
   "cell_type": "code",
   "execution_count": 32,
   "metadata": {},
   "outputs": [],
   "source": [
    "X1 = (\"f_room_type*f_property_type\", \"f_room_type*d_familykidfriendly\")"
   ]
  },
  {
   "cell_type": "markdown",
   "metadata": {},
   "source": [
    " Additional interactions of factors and dummies"
   ]
  },
  {
   "cell_type": "code",
   "execution_count": 33,
   "metadata": {},
   "outputs": [],
   "source": [
    "X2 = (\n",
    "    \"d_airconditioning*f_property_type\",\n",
    "    \"d_cats*f_property_type\",\n",
    "    \"d_dogs*f_property_type\",\n",
    ")\n",
    "X3 = (\n",
    "    \"(f_property_type + f_room_type + f_cancellation_policy + f_bed_type) * (\"\n",
    "    + \"+\".join(amenities)\n",
    "    + \")\"\n",
    ")\n"
   ]
  },
  {
   "cell_type": "markdown",
   "metadata": {},
   "source": [
    "Create estimation equations"
   ]
  },
  {
   "cell_type": "code",
   "execution_count": 34,
   "metadata": {},
   "outputs": [],
   "source": [
    "modellev1 = \"~ n_accommodates\"\n",
    "modellev2 = \"~\" + \" + \".join(basic_lev)\n",
    "modellev3 = \"~\" + \" + \".join(basic_lev + basic_add + reviews)\n",
    "modellev4 = \"~\" + \" + \".join(basic_lev + basic_add + reviews + poly_lev)\n",
    "modellev5 = \"~\" + \" + \".join(basic_lev + basic_add + reviews + poly_lev + X1)\n",
    "modellev6 = \"~\" + \" + \".join(basic_lev + basic_add + reviews + poly_lev + X1 + X2)\n",
    "modellev7 = \"~\" + \" + \".join(\n",
    "    basic_lev + basic_add + reviews + poly_lev + X1 + X2 + amenities\n",
    ")\n",
    "modellev8 = (\n",
    "    \"~\"\n",
    "    + \"+\".join(basic_lev + basic_add + reviews + poly_lev + X1 + X2 + amenities)\n",
    "    + \"+\"\n",
    "    + X3\n",
    ")\n",
    "\n",
    "model_equations = [\n",
    "    modellev1,\n",
    "    modellev2,\n",
    "    modellev3,\n",
    "    modellev4,\n",
    "    modellev5,\n",
    "    modellev6,\n",
    "    modellev7,\n",
    "    modellev8,\n",
    "]"
   ]
  },
  {
   "cell_type": "markdown",
   "metadata": {},
   "source": [
    "### Create separate holdout set"
   ]
  },
  {
   "cell_type": "code",
   "execution_count": 35,
   "metadata": {},
   "outputs": [],
   "source": [
    "sample_size = round(0.2 * data.shape[0]) - 1"
   ]
  },
  {
   "cell_type": "markdown",
   "metadata": {},
   "source": [
    " Set the random number generator: It will make results reproducable"
   ]
  },
  {
   "cell_type": "code",
   "execution_count": 36,
   "metadata": {},
   "outputs": [],
   "source": [
    "np.random.seed(20180123)"
   ]
  },
  {
   "cell_type": "code",
   "execution_count": 37,
   "metadata": {},
   "outputs": [],
   "source": [
    "from sklearn.model_selection import train_test_split\n",
    "\n",
    "data_work, data_holdout = train_test_split(data, test_size=sample_size)"
   ]
  },
  {
   "cell_type": "markdown",
   "metadata": {},
   "source": [
    "### Crossvalidation"
   ]
  },
  {
   "cell_type": "markdown",
   "metadata": {},
   "source": [
    "Use custom function `ols_crossvalidator` for cross validation"
   ]
  },
  {
   "cell_type": "code",
   "execution_count": 38,
   "metadata": {},
   "outputs": [],
   "source": [
    "# help(da.ols_crossvalidator)"
   ]
  },
  {
   "cell_type": "markdown",
   "metadata": {},
   "source": [
    "Set number of folds"
   ]
  },
  {
   "cell_type": "code",
   "execution_count": 39,
   "metadata": {},
   "outputs": [],
   "source": [
    "n_folds = 5"
   ]
  },
  {
   "cell_type": "markdown",
   "metadata": {},
   "source": [
    "Cross validate for each model and save results in `cv_list`"
   ]
  },
  {
   "cell_type": "code",
   "execution_count": 40,
   "metadata": {},
   "outputs": [],
   "source": [
    "cv_list = []\n",
    "for model in model_equations:\n",
    "    cv_list += [da.ols_crossvalidator(\"price\" + model, data_work, n_folds)]"
   ]
  },
  {
   "cell_type": "markdown",
   "metadata": {},
   "source": [
    "### Table 14.3 Comparing model fit measures"
   ]
  },
  {
   "cell_type": "code",
   "execution_count": 41,
   "metadata": {},
   "outputs": [
    {
     "data": {
      "text/html": [
       "<div>\n",
       "<style scoped>\n",
       "    .dataframe tbody tr th:only-of-type {\n",
       "        vertical-align: middle;\n",
       "    }\n",
       "\n",
       "    .dataframe tbody tr th {\n",
       "        vertical-align: top;\n",
       "    }\n",
       "\n",
       "    .dataframe thead th {\n",
       "        text-align: right;\n",
       "    }\n",
       "</style>\n",
       "<table border=\"1\" class=\"dataframe\">\n",
       "  <thead>\n",
       "    <tr style=\"text-align: right;\">\n",
       "      <th></th>\n",
       "      <th>Model</th>\n",
       "      <th>Coefficients</th>\n",
       "      <th>R-squared</th>\n",
       "      <th>BIC</th>\n",
       "      <th>Training RMSE</th>\n",
       "      <th>Test RMSE</th>\n",
       "    </tr>\n",
       "  </thead>\n",
       "  <tbody>\n",
       "    <tr>\n",
       "      <th>0</th>\n",
       "      <td>M1</td>\n",
       "      <td>2</td>\n",
       "      <td>0.40</td>\n",
       "      <td>36132</td>\n",
       "      <td>41.18</td>\n",
       "      <td>40.96</td>\n",
       "    </tr>\n",
       "    <tr>\n",
       "      <th>1</th>\n",
       "      <td>M2</td>\n",
       "      <td>8</td>\n",
       "      <td>0.48</td>\n",
       "      <td>35703</td>\n",
       "      <td>38.46</td>\n",
       "      <td>38.23</td>\n",
       "    </tr>\n",
       "    <tr>\n",
       "      <th>2</th>\n",
       "      <td>M3</td>\n",
       "      <td>15</td>\n",
       "      <td>0.51</td>\n",
       "      <td>35563</td>\n",
       "      <td>37.38</td>\n",
       "      <td>37.26</td>\n",
       "    </tr>\n",
       "    <tr>\n",
       "      <th>3</th>\n",
       "      <td>M4</td>\n",
       "      <td>18</td>\n",
       "      <td>0.51</td>\n",
       "      <td>35551</td>\n",
       "      <td>37.18</td>\n",
       "      <td>37.15</td>\n",
       "    </tr>\n",
       "    <tr>\n",
       "      <th>4</th>\n",
       "      <td>M5</td>\n",
       "      <td>23</td>\n",
       "      <td>0.52</td>\n",
       "      <td>35575</td>\n",
       "      <td>37.09</td>\n",
       "      <td>37.07</td>\n",
       "    </tr>\n",
       "    <tr>\n",
       "      <th>5</th>\n",
       "      <td>M6</td>\n",
       "      <td>29</td>\n",
       "      <td>0.52</td>\n",
       "      <td>35607</td>\n",
       "      <td>36.99</td>\n",
       "      <td>37.03</td>\n",
       "    </tr>\n",
       "    <tr>\n",
       "      <th>6</th>\n",
       "      <td>M7</td>\n",
       "      <td>74</td>\n",
       "      <td>0.54</td>\n",
       "      <td>35775</td>\n",
       "      <td>35.92</td>\n",
       "      <td>36.49</td>\n",
       "    </tr>\n",
       "    <tr>\n",
       "      <th>7</th>\n",
       "      <td>M8</td>\n",
       "      <td>310</td>\n",
       "      <td>0.57</td>\n",
       "      <td>37458</td>\n",
       "      <td>34.45</td>\n",
       "      <td>38.71</td>\n",
       "    </tr>\n",
       "  </tbody>\n",
       "</table>\n",
       "</div>"
      ],
      "text/plain": [
       "  Model  Coefficients  R-squared    BIC  Training RMSE  Test RMSE\n",
       "0    M1             2       0.40  36132          41.18      40.96\n",
       "1    M2             8       0.48  35703          38.46      38.23\n",
       "2    M3            15       0.51  35563          37.38      37.26\n",
       "3    M4            18       0.51  35551          37.18      37.15\n",
       "4    M5            23       0.52  35575          37.09      37.07\n",
       "5    M6            29       0.52  35607          36.99      37.03\n",
       "6    M7            74       0.54  35775          35.92      36.49\n",
       "7    M8           310       0.57  37458          34.45      38.71"
      ]
     },
     "execution_count": 41,
     "metadata": {},
     "output_type": "execute_result"
    }
   ],
   "source": [
    "compare_model_fits = (\n",
    "    pd.DataFrame(cv_list)\n",
    "    .round(2)\n",
    "    .assign(\n",
    "        Model=[\"M\" + str(i + 1) for i in range(len(cv_list))],\n",
    "        BIC=lambda x: x[\"BIC\"].astype(int),\n",
    "        Coefficients=lambda x: x[\"Coefficients\"].astype(int),\n",
    "    )\n",
    "    .filter([\"Model\", \"Coefficients\", \"R-squared\", \"BIC\", \"Training RMSE\", \"Test RMSE\"])\n",
    ")\n",
    "compare_model_fits"
   ]
  },
  {
   "cell_type": "markdown",
   "metadata": {},
   "source": [
    "### Figure 14.7 Training and test set RMSE for the eight regression models"
   ]
  },
  {
   "cell_type": "code",
   "execution_count": 42,
   "metadata": {},
   "outputs": [
    {
     "data": {
      "image/png": "[encoded data removed]",
      "text/plain": [
       "<Figure size 700x550 with 1 Axes>"
      ]
     },
     "metadata": {},
     "output_type": "display_data"
    }
   ],
   "source": [
    "df_melted = compare_model_fits.melt(\n",
    "    id_vars=\"Coefficients\", value_vars=[\"Test RMSE\", \"Training RMSE\"]\n",
    ").assign(Coefficients=lambda x: x[\"Coefficients\"].astype(str))\n",
    "\n",
    "sns.lineplot(data=df_melted, x=\"Coefficients\", y=\"value\", hue=\"variable\", linewidth=3)\n",
    "plt.xlabel(\"Number of coefficients\")\n",
    "plt.ylabel(\"RMSE\")\n",
    "plt.ylim(30, 43)\n",
    "plt.yticks(np.arange(30, 44, 2))\n",
    "plt.legend(title=\"\")\n",
    "plt.show()"
   ]
  },
  {
   "cell_type": "markdown",
   "metadata": {},
   "source": [
    "**NOTE:** Because the way we created the work and holdout sets relies on randomization, these results (eg. the number of coefficients) differ from R and book results. Even running the cross validation with exactly the same work set would result in slightly different RMSE results because we cannot control for the randomisation within the cross validation. Using exactly the same work set as R, the number of coefficients match though."
   ]
  },
  {
   "cell_type": "markdown",
   "metadata": {},
   "source": [
    "### Lasso"
   ]
  },
  {
   "cell_type": "code",
   "execution_count": 43,
   "metadata": {},
   "outputs": [],
   "source": [
    "from sklearn.linear_model import LassoCV\n",
    "from sklearn.preprocessing import StandardScaler"
   ]
  },
  {
   "cell_type": "markdown",
   "metadata": {},
   "source": [
    "Define Lasso equation from most complicated model"
   ]
  },
  {
   "cell_type": "code",
   "execution_count": 44,
   "metadata": {},
   "outputs": [],
   "source": [
    "vars_model_8 = modellev8"
   ]
  },
  {
   "cell_type": "markdown",
   "metadata": {},
   "source": [
    "Define range for lambdas – the algo will look only in this set"
   ]
  },
  {
   "cell_type": "code",
   "execution_count": 45,
   "metadata": {},
   "outputs": [
    {
     "name": "stdout",
     "output_type": "stream",
     "text": [
      "[0.05 0.1  0.15 0.2  0.25 0.3  0.35 0.4  0.45 0.5  0.55 0.6  0.65 0.7\n",
      " 0.75 0.8  0.85 0.9  0.95 1.  ]\n"
     ]
    }
   ],
   "source": [
    "lambdas = np.arange(0.05, 1.01, 0.05)\n",
    "print(lambdas)"
   ]
  },
  {
   "cell_type": "markdown",
   "metadata": {},
   "source": [
    "To cross-validate lambda-s (which is Lasso's hyperparameter) one has to standardise the feature matrix."
   ]
  },
  {
   "cell_type": "code",
   "execution_count": 46,
   "metadata": {},
   "outputs": [],
   "source": [
    "y, X = patsy.dmatrices(\"price\" + vars_model_8, data_work)\n",
    "X_featnames = X.design_info.column_names\n",
    "scaler = StandardScaler()\n",
    "X = scaler.fit_transform(X)"
   ]
  },
  {
   "cell_type": "code",
   "execution_count": 47,
   "metadata": {},
   "outputs": [],
   "source": [
    "lasso_fit = LassoCV(alphas=lambdas, cv=5, random_state=42).fit(X, y)"
   ]
  },
  {
   "cell_type": "markdown",
   "metadata": {},
   "source": [
    "Best alpha the algorithm found"
   ]
  },
  {
   "cell_type": "code",
   "execution_count": 48,
   "metadata": {},
   "outputs": [
    {
     "data": {
      "text/plain": [
       "0.35000000000000003"
      ]
     },
     "execution_count": 48,
     "metadata": {},
     "output_type": "execute_result"
    }
   ],
   "source": [
    "lasso_fit.alpha_"
   ]
  },
  {
   "cell_type": "code",
   "execution_count": 49,
   "metadata": {},
   "outputs": [
    {
     "data": {
      "text/html": [
       "<div>\n",
       "<style scoped>\n",
       "    .dataframe tbody tr th:only-of-type {\n",
       "        vertical-align: middle;\n",
       "    }\n",
       "\n",
       "    .dataframe tbody tr th {\n",
       "        vertical-align: top;\n",
       "    }\n",
       "\n",
       "    .dataframe thead th {\n",
       "        text-align: right;\n",
       "    }\n",
       "</style>\n",
       "<table border=\"1\" class=\"dataframe\">\n",
       "  <thead>\n",
       "    <tr style=\"text-align: right;\">\n",
       "      <th></th>\n",
       "      <th>Test RMSE</th>\n",
       "    </tr>\n",
       "  </thead>\n",
       "  <tbody>\n",
       "    <tr>\n",
       "      <th>1.00</th>\n",
       "      <td>36.52</td>\n",
       "    </tr>\n",
       "    <tr>\n",
       "      <th>0.95</th>\n",
       "      <td>36.49</td>\n",
       "    </tr>\n",
       "    <tr>\n",
       "      <th>0.90</th>\n",
       "      <td>36.47</td>\n",
       "    </tr>\n",
       "    <tr>\n",
       "      <th>0.85</th>\n",
       "      <td>36.45</td>\n",
       "    </tr>\n",
       "    <tr>\n",
       "      <th>0.80</th>\n",
       "      <td>36.43</td>\n",
       "    </tr>\n",
       "    <tr>\n",
       "      <th>0.75</th>\n",
       "      <td>36.41</td>\n",
       "    </tr>\n",
       "    <tr>\n",
       "      <th>0.70</th>\n",
       "      <td>36.39</td>\n",
       "    </tr>\n",
       "    <tr>\n",
       "      <th>0.65</th>\n",
       "      <td>36.38</td>\n",
       "    </tr>\n",
       "    <tr>\n",
       "      <th>0.60</th>\n",
       "      <td>36.37</td>\n",
       "    </tr>\n",
       "    <tr>\n",
       "      <th>0.55</th>\n",
       "      <td>36.37</td>\n",
       "    </tr>\n",
       "    <tr>\n",
       "      <th>0.50</th>\n",
       "      <td>36.36</td>\n",
       "    </tr>\n",
       "    <tr>\n",
       "      <th>0.45</th>\n",
       "      <td>36.35</td>\n",
       "    </tr>\n",
       "    <tr>\n",
       "      <th>0.40</th>\n",
       "      <td>36.34</td>\n",
       "    </tr>\n",
       "    <tr>\n",
       "      <th>0.35</th>\n",
       "      <td>36.33</td>\n",
       "    </tr>\n",
       "    <tr>\n",
       "      <th>0.30</th>\n",
       "      <td>36.34</td>\n",
       "    </tr>\n",
       "    <tr>\n",
       "      <th>0.25</th>\n",
       "      <td>36.37</td>\n",
       "    </tr>\n",
       "    <tr>\n",
       "      <th>0.20</th>\n",
       "      <td>36.45</td>\n",
       "    </tr>\n",
       "    <tr>\n",
       "      <th>0.15</th>\n",
       "      <td>36.58</td>\n",
       "    </tr>\n",
       "    <tr>\n",
       "      <th>0.10</th>\n",
       "      <td>36.75</td>\n",
       "    </tr>\n",
       "    <tr>\n",
       "      <th>0.05</th>\n",
       "      <td>37.07</td>\n",
       "    </tr>\n",
       "  </tbody>\n",
       "</table>\n",
       "</div>"
      ],
      "text/plain": [
       "      Test RMSE\n",
       "1.00      36.52\n",
       "0.95      36.49\n",
       "0.90      36.47\n",
       "0.85      36.45\n",
       "0.80      36.43\n",
       "0.75      36.41\n",
       "0.70      36.39\n",
       "0.65      36.38\n",
       "0.60      36.37\n",
       "0.55      36.37\n",
       "0.50      36.36\n",
       "0.45      36.35\n",
       "0.40      36.34\n",
       "0.35      36.33\n",
       "0.30      36.34\n",
       "0.25      36.37\n",
       "0.20      36.45\n",
       "0.15      36.58\n",
       "0.10      36.75\n",
       "0.05      37.07"
      ]
     },
     "execution_count": 49,
     "metadata": {},
     "output_type": "execute_result"
    }
   ],
   "source": [
    "rmse_lambda_folds = (\n",
    "    pd.DataFrame(lasso_fit.mse_path_, index=lambdas[::-1])\n",
    "    .apply(np.sqrt)\n",
    "    .mean(axis=1)\n",
    "    .to_frame(name=\"Test RMSE\")\n",
    "    .round(2)\n",
    ")\n",
    "rmse_lambda_folds"
   ]
  },
  {
   "cell_type": "markdown",
   "metadata": {},
   "source": [
    "Non-zero coefficients"
   ]
  },
  {
   "cell_type": "code",
   "execution_count": 50,
   "metadata": {},
   "outputs": [
    {
     "data": {
      "text/html": [
       "<div>\n",
       "<style scoped>\n",
       "    .dataframe tbody tr th:only-of-type {\n",
       "        vertical-align: middle;\n",
       "    }\n",
       "\n",
       "    .dataframe tbody tr th {\n",
       "        vertical-align: top;\n",
       "    }\n",
       "\n",
       "    .dataframe thead th {\n",
       "        text-align: right;\n",
       "    }\n",
       "</style>\n",
       "<table border=\"1\" class=\"dataframe\">\n",
       "  <thead>\n",
       "    <tr style=\"text-align: right;\">\n",
       "      <th></th>\n",
       "      <th>coefficient</th>\n",
       "    </tr>\n",
       "  </thead>\n",
       "  <tbody>\n",
       "    <tr>\n",
       "      <th>f_room_type[T.Private room]</th>\n",
       "      <td>-13.159</td>\n",
       "    </tr>\n",
       "    <tr>\n",
       "      <th>f_room_type[T.Shared room]</th>\n",
       "      <td>-2.401</td>\n",
       "    </tr>\n",
       "    <tr>\n",
       "      <th>f_bed_type[T.Real Bed]</th>\n",
       "      <td>0.355</td>\n",
       "    </tr>\n",
       "    <tr>\n",
       "      <th>f_room_type[T.Private room]:f_property_type[T.House]</th>\n",
       "      <td>-2.373</td>\n",
       "    </tr>\n",
       "    <tr>\n",
       "      <th>n_days_since</th>\n",
       "      <td>0.786</td>\n",
       "    </tr>\n",
       "    <tr>\n",
       "      <th>...</th>\n",
       "      <td>...</td>\n",
       "    </tr>\n",
       "    <tr>\n",
       "      <th>f_room_type[T.Shared room]:d_washer</th>\n",
       "      <td>-0.017</td>\n",
       "    </tr>\n",
       "    <tr>\n",
       "      <th>d_washerdryer</th>\n",
       "      <td>2.944</td>\n",
       "    </tr>\n",
       "    <tr>\n",
       "      <th>f_cancellation_policy[T.moderate]:d_wheelchairaccessible</th>\n",
       "      <td>-0.053</td>\n",
       "    </tr>\n",
       "    <tr>\n",
       "      <th>f_cancellation_policy[T.strict]:d_wheelchairaccessible</th>\n",
       "      <td>0.734</td>\n",
       "    </tr>\n",
       "    <tr>\n",
       "      <th>f_room_type[T.Shared room]:d_wirelessinternet</th>\n",
       "      <td>-0.442</td>\n",
       "    </tr>\n",
       "  </tbody>\n",
       "</table>\n",
       "<p>107 rows × 1 columns</p>\n",
       "</div>"
      ],
      "text/plain": [
       "                                                    coefficient\n",
       "f_room_type[T.Private room]                             -13.159\n",
       "f_room_type[T.Shared room]                               -2.401\n",
       "f_bed_type[T.Real Bed]                                    0.355\n",
       "f_room_type[T.Private room]:f_property_type[T.H...       -2.373\n",
       "n_days_since                                              0.786\n",
       "...                                                         ...\n",
       "f_room_type[T.Shared room]:d_washer                      -0.017\n",
       "d_washerdryer                                             2.944\n",
       "f_cancellation_policy[T.moderate]:d_wheelchaira...       -0.053\n",
       "f_cancellation_policy[T.strict]:d_wheelchairacc...        0.734\n",
       "f_room_type[T.Shared room]:d_wirelessinternet            -0.442\n",
       "\n",
       "[107 rows x 1 columns]"
      ]
     },
     "execution_count": 50,
     "metadata": {},
     "output_type": "execute_result"
    }
   ],
   "source": [
    "notnull_lasso_coefs = (\n",
    "    pd.DataFrame(lasso_fit.coef_, index=X_featnames, columns=[\"coefficient\"])\n",
    "    .loc[lambda x: x[\"coefficient\"].round(3) != 0]\n",
    "    .round(3)\n",
    ")\n",
    "notnull_lasso_coefs"
   ]
  },
  {
   "cell_type": "code",
   "execution_count": 51,
   "metadata": {},
   "outputs": [
    {
     "data": {
      "text/html": [
       "<div>\n",
       "<style scoped>\n",
       "    .dataframe tbody tr th:only-of-type {\n",
       "        vertical-align: middle;\n",
       "    }\n",
       "\n",
       "    .dataframe tbody tr th {\n",
       "        vertical-align: top;\n",
       "    }\n",
       "\n",
       "    .dataframe thead th {\n",
       "        text-align: right;\n",
       "    }\n",
       "</style>\n",
       "<table border=\"1\" class=\"dataframe\">\n",
       "  <thead>\n",
       "    <tr style=\"text-align: right;\">\n",
       "      <th></th>\n",
       "      <th>Model</th>\n",
       "      <th>Coefficients</th>\n",
       "      <th>R-squared</th>\n",
       "      <th>BIC</th>\n",
       "      <th>Training RMSE</th>\n",
       "      <th>Test RMSE</th>\n",
       "    </tr>\n",
       "  </thead>\n",
       "  <tbody>\n",
       "    <tr>\n",
       "      <th>0</th>\n",
       "      <td>M1</td>\n",
       "      <td>2.0</td>\n",
       "      <td>0.40</td>\n",
       "      <td>36132.0</td>\n",
       "      <td>41.18</td>\n",
       "      <td>40.96</td>\n",
       "    </tr>\n",
       "    <tr>\n",
       "      <th>1</th>\n",
       "      <td>M2</td>\n",
       "      <td>8.0</td>\n",
       "      <td>0.48</td>\n",
       "      <td>35703.0</td>\n",
       "      <td>38.46</td>\n",
       "      <td>38.23</td>\n",
       "    </tr>\n",
       "    <tr>\n",
       "      <th>2</th>\n",
       "      <td>M3</td>\n",
       "      <td>15.0</td>\n",
       "      <td>0.51</td>\n",
       "      <td>35563.0</td>\n",
       "      <td>37.38</td>\n",
       "      <td>37.26</td>\n",
       "    </tr>\n",
       "    <tr>\n",
       "      <th>3</th>\n",
       "      <td>M4</td>\n",
       "      <td>18.0</td>\n",
       "      <td>0.51</td>\n",
       "      <td>35551.0</td>\n",
       "      <td>37.18</td>\n",
       "      <td>37.15</td>\n",
       "    </tr>\n",
       "    <tr>\n",
       "      <th>4</th>\n",
       "      <td>M5</td>\n",
       "      <td>23.0</td>\n",
       "      <td>0.52</td>\n",
       "      <td>35575.0</td>\n",
       "      <td>37.09</td>\n",
       "      <td>37.07</td>\n",
       "    </tr>\n",
       "    <tr>\n",
       "      <th>5</th>\n",
       "      <td>M6</td>\n",
       "      <td>29.0</td>\n",
       "      <td>0.52</td>\n",
       "      <td>35607.0</td>\n",
       "      <td>36.99</td>\n",
       "      <td>37.03</td>\n",
       "    </tr>\n",
       "    <tr>\n",
       "      <th>6</th>\n",
       "      <td>M7</td>\n",
       "      <td>74.0</td>\n",
       "      <td>0.54</td>\n",
       "      <td>35775.0</td>\n",
       "      <td>35.92</td>\n",
       "      <td>36.49</td>\n",
       "    </tr>\n",
       "    <tr>\n",
       "      <th>7</th>\n",
       "      <td>M8</td>\n",
       "      <td>310.0</td>\n",
       "      <td>0.57</td>\n",
       "      <td>37458.0</td>\n",
       "      <td>34.45</td>\n",
       "      <td>38.71</td>\n",
       "    </tr>\n",
       "    <tr>\n",
       "      <th>8</th>\n",
       "      <td>Lasso</td>\n",
       "      <td>107.0</td>\n",
       "      <td>NaN</td>\n",
       "      <td>NaN</td>\n",
       "      <td>NaN</td>\n",
       "      <td>36.33</td>\n",
       "    </tr>\n",
       "  </tbody>\n",
       "</table>\n",
       "</div>"
      ],
      "text/plain": [
       "   Model  Coefficients  R-squared      BIC  Training RMSE  Test RMSE\n",
       "0     M1           2.0       0.40  36132.0          41.18      40.96\n",
       "1     M2           8.0       0.48  35703.0          38.46      38.23\n",
       "2     M3          15.0       0.51  35563.0          37.38      37.26\n",
       "3     M4          18.0       0.51  35551.0          37.18      37.15\n",
       "4     M5          23.0       0.52  35575.0          37.09      37.07\n",
       "5     M6          29.0       0.52  35607.0          36.99      37.03\n",
       "6     M7          74.0       0.54  35775.0          35.92      36.49\n",
       "7     M8         310.0       0.57  37458.0          34.45      38.71\n",
       "8  Lasso         107.0        NaN      NaN            NaN      36.33"
      ]
     },
     "execution_count": 51,
     "metadata": {},
     "output_type": "execute_result"
    }
   ],
   "source": [
    "compare_model_fits.loc[8, :] = {\n",
    "    \"Model\": \"Lasso\",\n",
    "    \"Coefficients\": notnull_lasso_coefs.shape[0],\n",
    "    \"Test RMSE\": rmse_lambda_folds.loc[lasso_fit.alpha_].round(2).values[0],\n",
    "}\n",
    "\n",
    "compare_model_fits"
   ]
  },
  {
   "cell_type": "markdown",
   "metadata": {},
   "source": [
    "The overall RMSE across the five test sets for the LASSO regression is 36.3. It is 36.49 for M7,\n",
    "suggesting that our hand-picked M7 is almost as good as the LASSO regression. Our decision is to have the model M7 as our preferred\n",
    "model, because it may be easier to explain which variables are included."
   ]
  },
  {
   "cell_type": "markdown",
   "metadata": {},
   "source": [
    "### Part3\n",
    "\n",
    "#### Model diagnostics"
   ]
  },
  {
   "cell_type": "code",
   "execution_count": 52,
   "metadata": {},
   "outputs": [],
   "source": [
    "model7 = smf.ols(\"price\" + modellev7, data=data_work).fit()"
   ]
  },
  {
   "cell_type": "markdown",
   "metadata": {},
   "source": [
    "Save the predicted values of model 7 ton data_holdout"
   ]
  },
  {
   "cell_type": "code",
   "execution_count": 53,
   "metadata": {},
   "outputs": [],
   "source": [
    "data_holdout[\"predicted_price\"] = model7.predict(data_holdout)"
   ]
  },
  {
   "cell_type": "markdown",
   "metadata": {},
   "source": [
    "Look at holdout RMSE of M7"
   ]
  },
  {
   "cell_type": "code",
   "execution_count": 54,
   "metadata": {},
   "outputs": [
    {
     "data": {
      "text/plain": [
       "37.373013018306196"
      ]
     },
     "execution_count": 54,
     "metadata": {},
     "output_type": "execute_result"
    }
   ],
   "source": [
    "da.rmse(data_holdout[\"predicted_price\"], data_holdout[\"price\"])"
   ]
  },
  {
   "cell_type": "markdown",
   "metadata": {},
   "source": [
    "work set RMSE refitted on the whole work set"
   ]
  },
  {
   "cell_type": "code",
   "execution_count": 55,
   "metadata": {},
   "outputs": [
    {
     "data": {
      "text/plain": [
       "36.02053192939435"
      ]
     },
     "execution_count": 55,
     "metadata": {},
     "output_type": "execute_result"
    }
   ],
   "source": [
    "da.rmse(model7.predict(data_work), data_work[\"price\"])"
   ]
  },
  {
   "cell_type": "markdown",
   "metadata": {},
   "source": [
    "### Fitted vs actual outcome"
   ]
  },
  {
   "cell_type": "markdown",
   "metadata": {},
   "source": [
    "### Figure 14.8 Airbnb prediction – model diagnostics\n",
    "\n",
    "(a) Predicted price vs. actual price"
   ]
  },
  {
   "cell_type": "code",
   "execution_count": 56,
   "metadata": {},
   "outputs": [
    {
     "data": {
      "image/png": "[encoded data removed]",
      "text/plain": [
       "<Figure size 700x550 with 1 Axes>"
      ]
     },
     "metadata": {},
     "output_type": "display_data"
    }
   ],
   "source": [
    "sns.scatterplot(data=data_holdout, x=\"predicted_price\", y=\"price\", s=20, alpha=0.7)\n",
    "plt.plot([0, 350], [0, 350], linestyle=\"dashed\", linewidth=2, color=da.color[1])\n",
    "plt.xlim(0, 350)\n",
    "plt.ylim(0, 350)\n",
    "plt.xticks(np.arange(0, 351, 50))\n",
    "plt.yticks(np.arange(0, 351, 50))\n",
    "plt.xlabel(\"Predicted price (US dollars)\")\n",
    "plt.ylabel(\"Price (US dollars)\")\n",
    "plt.show()"
   ]
  },
  {
   "cell_type": "markdown",
   "metadata": {},
   "source": [
    "Redo predicted values at 80% PI\n"
   ]
  },
  {
   "cell_type": "code",
   "execution_count": 57,
   "metadata": {},
   "outputs": [],
   "source": [
    "prediction_agg_by_nacc = (\n",
    "    model7.get_prediction(data_holdout)\n",
    "    .summary_frame(alpha=0.2)\n",
    "    .filter([\"mean\", \"obs_ci_lower\", \"obs_ci_upper\"])\n",
    "    .rename(columns={\"mean\": \"predicted_price\"})\n",
    "    .assign(n_accommodates=data_holdout[\"n_accommodates\"].values)\n",
    "    .groupby(by=[\"n_accommodates\"])\n",
    "    .mean()\n",
    "    .reset_index()\n",
    ")"
   ]
  },
  {
   "cell_type": "markdown",
   "metadata": {},
   "source": [
    "(b) Prediction interval by apartment size"
   ]
  },
  {
   "cell_type": "code",
   "execution_count": 58,
   "metadata": {},
   "outputs": [
    {
     "data": {
      "text/plain": [
       "<BarContainer object of 7 artists>"
      ]
     },
     "execution_count": 58,
     "metadata": {},
     "output_type": "execute_result"
    },
    {
     "data": {
      "image/png": "[encoded data removed]",
      "text/plain": [
       "<Figure size 700x550 with 1 Axes>"
      ]
     },
     "metadata": {},
     "output_type": "display_data"
    }
   ],
   "source": [
    "yci_low = (\n",
    "    prediction_agg_by_nacc[\"predicted_price\"] - prediction_agg_by_nacc[\"obs_ci_lower\"]\n",
    ")\n",
    "yci_upper = (\n",
    "    prediction_agg_by_nacc[\"obs_ci_upper\"] - prediction_agg_by_nacc[\"predicted_price\"]\n",
    ")\n",
    "\n",
    "plt.bar(\n",
    "    prediction_agg_by_nacc[\"n_accommodates\"],\n",
    "    prediction_agg_by_nacc[\"predicted_price\"],\n",
    "    yerr=[yci_low, yci_upper],\n",
    "    capsize=4,\n",
    "    color=da.color[0],\n",
    "    alpha=0.9,\n",
    "    error_kw={\"elinewidth\": 1, \"ecolor\": da.color[1]},\n",
    ")"
   ]
  },
  {
   "cell_type": "markdown",
   "metadata": {},
   "source": [
    "Density chart (not in book)"
   ]
  },
  {
   "cell_type": "code",
   "execution_count": 59,
   "metadata": {},
   "outputs": [
    {
     "data": {
      "image/png": "[encoded data removed]",
      "text/plain": [
       "<Figure size 700x550 with 1 Axes>"
      ]
     },
     "metadata": {},
     "output_type": "display_data"
    }
   ],
   "source": [
    "sns.kdeplot(\n",
    "    data=datau, x=\"price\", hue=\"f_room_type\", fill=True, alpha=0.3, common_norm=False\n",
    ")\n",
    "plt.xlabel(\"Price (US dollars)\")\n",
    "plt.ylabel(\"Density\")\n",
    "plt.show()"
   ]
  },
  {
   "cell_type": "markdown",
   "metadata": {},
   "source": [
    "Barchart  (not in book)"
   ]
  },
  {
   "cell_type": "code",
   "execution_count": 60,
   "metadata": {},
   "outputs": [
    {
     "data": {
      "image/png": "[encoded data removed]",
      "text/plain": [
       "<Figure size 700x550 with 1 Axes>"
      ]
     },
     "metadata": {},
     "output_type": "display_data"
    }
   ],
   "source": [
    "datau[\"n_accommodates\"] = datau[\"n_accommodates\"].astype(int)\n",
    "\n",
    "\n",
    "sns.histplot(\n",
    "    x=\"n_accommodates\", hue=\"f_room_type\", data=datau, alpha=0.8, multiple=\"stack\"\n",
    ")\n",
    "\n",
    "plt.xlabel(\"Accomodates (Persons)\")\n",
    "plt.ylabel(\"Frequency\")\n",
    "plt.show()"
   ]
  },
  {
   "cell_type": "code",
   "execution_count": null,
   "metadata": {},
   "outputs": [],
   "source": []
  }
 ],
 "metadata": {
  "kernelspec": {
   "display_name": "daenv",
   "language": "python",
   "name": "python3"
  },
  "language_info": {
   "codemirror_mode": {
    "name": "ipython",
    "version": 3
   },
   "file_extension": ".py",
   "mimetype": "text/x-python",
   "name": "python",
   "nbconvert_exporter": "python",
   "pygments_lexer": "ipython3",
   "version": "3.12.4"
  }
 },
 "nbformat": 4,
 "nbformat_minor": 4
}
