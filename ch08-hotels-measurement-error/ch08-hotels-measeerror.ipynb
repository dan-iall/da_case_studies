{
 "cells": [
  {
   "cell_type": "markdown",
   "metadata": {},
   "source": [
    "#### Prepared for Gabor's Data Analysis\n",
    "\n",
    "### Data Analysis for Business, Economics, and Policy\n",
    "by Gabor Bekes and  Gabor Kezdi\n",
    " \n",
    "Cambridge University Press 2021\n",
    "\n",
    "**[gabors-data-analysis.com ](https://gabors-data-analysis.com/)**\n",
    "\n",
    " License: Free to share, modify and use for educational purposes. \n",
    " Not to be used for commercial purposes.\n",
    "\n",
    "### Chapter 08\n",
    "**CH08C Measurement error in hotel ratings**\n",
    "\n",
    "using the hotels-vienna dataset\n",
    "\n",
    "version 1.0 2021-05-05"
   ]
  },
  {
   "cell_type": "code",
   "execution_count": 1,
   "metadata": {},
   "outputs": [],
   "source": [
    "import os\n",
    "import sys\n",
    "import warnings\n",
    "\n",
    "import numpy as np\n",
    "import pandas as pd\n",
    "from mizani.formatters import percent_format\n",
    "from plotnine import *\n",
    "import statsmodels.formula.api as smf\n",
    "\n",
    "warnings.filterwarnings(\"ignore\")\n"
   ]
  },
  {
   "cell_type": "code",
   "execution_count": 2,
   "metadata": {},
   "outputs": [],
   "source": [
    "\n",
    "# Current script folder\n",
    "current_path = os.getcwd()\n",
    "dirname = current_path.split(\"da_case_studies\")[0]\n",
    "\n",
    "# location folders\n",
    "data_in = dirname + \"da_data_repo/hotels-vienna/clean/\"\n",
    "data_out = dirname + \"da_case_studies/ch08-hotels-measurement-error/\"\n",
    "output = dirname + \"da_case_studies/ch08-hotels-measurement-error/output/\"\n",
    "func = dirname + \"da_case_studies/ch00-tech-prep/\"\n",
    "sys.path.append(func)\n",
    "\n",
    "# Import the prewritten helper functions\n",
    "from py_helper_functions import *"
   ]
  },
  {
   "cell_type": "code",
   "execution_count": 3,
   "metadata": {},
   "outputs": [],
   "source": [
    "# load vienna\n",
    "hotels = pd.read_csv(data_in + \"hotels-vienna.csv\")\n",
    "#data = pd.read_csv(\"https://osf.io/y6jvb/download\")"
   ]
  },
  {
   "cell_type": "markdown",
   "metadata": {},
   "source": [
    "#### SAMPLE SELECTION"
   ]
  },
  {
   "cell_type": "code",
   "execution_count": 4,
   "metadata": {},
   "outputs": [],
   "source": [
    "hotels = hotels.loc[\n",
    "    (hotels[\"accommodation_type\"] == \"Hotel\")\n",
    "    & (hotels[\"city_actual\"] == \"Vienna\")\n",
    "    & (hotels[\"stars\"] >= 3)\n",
    "    & (hotels[\"stars\"] <= 4)\n",
    "    & (hotels[\"stars\"].notna())\n",
    "    & (hotels[\"price\"] <= 600)\n",
    "]"
   ]
  },
  {
   "cell_type": "markdown",
   "metadata": {},
   "source": [
    "### Look at measurement error by rating count\n"
   ]
  },
  {
   "cell_type": "code",
   "execution_count": 5,
   "metadata": {},
   "outputs": [],
   "source": [
    "hotels[\"lnprice\"] = np.log(hotels[\"price\"])"
   ]
  },
  {
   "cell_type": "code",
   "execution_count": 6,
   "metadata": {},
   "outputs": [],
   "source": [
    "# define cutoffs\n",
    "k1 = 100\n",
    "k2 = 200"
   ]
  },
  {
   "cell_type": "code",
   "execution_count": 7,
   "metadata": {},
   "outputs": [],
   "source": [
    "reg_me = smf.ols(\n",
    "    formula=\"lnprice ~ rating\", data=hotels.loc[hotels[\"rating_count\"] < k1, :]\n",
    ")\n",
    "reg_me_fit = reg_me.fit()"
   ]
  },
  {
   "cell_type": "code",
   "execution_count": 8,
   "metadata": {
    "scrolled": false
   },
   "outputs": [
    {
     "name": "stdout",
     "output_type": "stream",
     "text": [
      "                            OLS Regression Results                            \n",
      "==============================================================================\n",
      "Dep. Variable:                lnprice   R-squared:                       0.244\n",
      "Model:                            OLS   Adj. R-squared:                  0.234\n",
      "Method:                 Least Squares   F-statistic:                     24.20\n",
      "Date:                Wed, 16 Oct 2024   Prob (F-statistic):           4.99e-06\n",
      "Time:                        16:14:17   Log-Likelihood:                -6.3405\n",
      "No. Observations:                  77   AIC:                             16.68\n",
      "Df Residuals:                      75   BIC:                             21.37\n",
      "Df Model:                           1                                         \n",
      "Covariance Type:            nonrobust                                         \n",
      "==============================================================================\n",
      "                 coef    std err          t      P>|t|      [0.025      0.975]\n",
      "------------------------------------------------------------------------------\n",
      "Intercept      3.1375      0.285     11.025      0.000       2.571       3.704\n",
      "rating         0.3540      0.072      4.920      0.000       0.211       0.497\n",
      "==============================================================================\n",
      "Omnibus:                        5.425   Durbin-Watson:                   1.336\n",
      "Prob(Omnibus):                  0.066   Jarque-Bera (JB):                4.960\n",
      "Skew:                           0.618   Prob(JB):                       0.0837\n",
      "Kurtosis:                       3.145   Cond. No.                         39.4\n",
      "==============================================================================\n",
      "\n",
      "Notes:\n",
      "[1] Standard Errors assume that the covariance matrix of the errors is correctly specified.\n"
     ]
    }
   ],
   "source": [
    "print(reg_me_fit.summary())\n"
   ]
  },
  {
   "cell_type": "code",
   "execution_count": 9,
   "metadata": {},
   "outputs": [],
   "source": [
    "hotels[\"yhat\"] = reg_me_fit.predict(hotels)\n"
   ]
  },
  {
   "cell_type": "code",
   "execution_count": 10,
   "metadata": {},
   "outputs": [
    {
     "data": {
      "text/html": [
       "<table class=\"simpletable\">\n",
       "<caption>OLS Regression Results</caption>\n",
       "<tr>\n",
       "  <th>Dep. Variable:</th>         <td>lnprice</td>     <th>  R-squared:         </th> <td>   0.194</td>\n",
       "</tr>\n",
       "<tr>\n",
       "  <th>Model:</th>                   <td>OLS</td>       <th>  Adj. R-squared:    </th> <td>   0.180</td>\n",
       "</tr>\n",
       "<tr>\n",
       "  <th>Method:</th>             <td>Least Squares</td>  <th>  F-statistic:       </th> <td>   13.52</td>\n",
       "</tr>\n",
       "<tr>\n",
       "  <th>Date:</th>             <td>Wed, 16 Oct 2024</td> <th>  Prob (F-statistic):</th> <td>0.000531</td>\n",
       "</tr>\n",
       "<tr>\n",
       "  <th>Time:</th>                 <td>16:14:18</td>     <th>  Log-Likelihood:    </th> <td> -20.301</td>\n",
       "</tr>\n",
       "<tr>\n",
       "  <th>No. Observations:</th>      <td>    58</td>      <th>  AIC:               </th> <td>   44.60</td>\n",
       "</tr>\n",
       "<tr>\n",
       "  <th>Df Residuals:</th>          <td>    56</td>      <th>  BIC:               </th> <td>   48.72</td>\n",
       "</tr>\n",
       "<tr>\n",
       "  <th>Df Model:</th>              <td>     1</td>      <th>                     </th>     <td> </td>   \n",
       "</tr>\n",
       "<tr>\n",
       "  <th>Covariance Type:</th>      <td>nonrobust</td>    <th>                     </th>     <td> </td>   \n",
       "</tr>\n",
       "</table>\n",
       "<table class=\"simpletable\">\n",
       "<tr>\n",
       "      <td></td>         <th>coef</th>     <th>std err</th>      <th>t</th>      <th>P>|t|</th>  <th>[0.025</th>    <th>0.975]</th>  \n",
       "</tr>\n",
       "<tr>\n",
       "  <th>Intercept</th> <td>    2.9129</td> <td>    0.482</td> <td>    6.038</td> <td> 0.000</td> <td>    1.946</td> <td>    3.879</td>\n",
       "</tr>\n",
       "<tr>\n",
       "  <th>rating</th>    <td>    0.4380</td> <td>    0.119</td> <td>    3.676</td> <td> 0.001</td> <td>    0.199</td> <td>    0.677</td>\n",
       "</tr>\n",
       "</table>\n",
       "<table class=\"simpletable\">\n",
       "<tr>\n",
       "  <th>Omnibus:</th>       <td>19.349</td> <th>  Durbin-Watson:     </th> <td>   1.496</td>\n",
       "</tr>\n",
       "<tr>\n",
       "  <th>Prob(Omnibus):</th> <td> 0.000</td> <th>  Jarque-Bera (JB):  </th> <td>  27.243</td>\n",
       "</tr>\n",
       "<tr>\n",
       "  <th>Skew:</th>          <td> 1.223</td> <th>  Prob(JB):          </th> <td>1.21e-06</td>\n",
       "</tr>\n",
       "<tr>\n",
       "  <th>Kurtosis:</th>      <td> 5.301</td> <th>  Cond. No.          </th> <td>    45.1</td>\n",
       "</tr>\n",
       "</table><br/><br/>Notes:<br/>[1] Standard Errors assume that the covariance matrix of the errors is correctly specified."
      ],
      "text/plain": [
       "<class 'statsmodels.iolib.summary.Summary'>\n",
       "\"\"\"\n",
       "                            OLS Regression Results                            \n",
       "==============================================================================\n",
       "Dep. Variable:                lnprice   R-squared:                       0.194\n",
       "Model:                            OLS   Adj. R-squared:                  0.180\n",
       "Method:                 Least Squares   F-statistic:                     13.52\n",
       "Date:                Wed, 16 Oct 2024   Prob (F-statistic):           0.000531\n",
       "Time:                        16:14:18   Log-Likelihood:                -20.301\n",
       "No. Observations:                  58   AIC:                             44.60\n",
       "Df Residuals:                      56   BIC:                             48.72\n",
       "Df Model:                           1                                         \n",
       "Covariance Type:            nonrobust                                         \n",
       "==============================================================================\n",
       "                 coef    std err          t      P>|t|      [0.025      0.975]\n",
       "------------------------------------------------------------------------------\n",
       "Intercept      2.9129      0.482      6.038      0.000       1.946       3.879\n",
       "rating         0.4380      0.119      3.676      0.001       0.199       0.677\n",
       "==============================================================================\n",
       "Omnibus:                       19.349   Durbin-Watson:                   1.496\n",
       "Prob(Omnibus):                  0.000   Jarque-Bera (JB):               27.243\n",
       "Skew:                           1.223   Prob(JB):                     1.21e-06\n",
       "Kurtosis:                       5.301   Cond. No.                         45.1\n",
       "==============================================================================\n",
       "\n",
       "Notes:\n",
       "[1] Standard Errors assume that the covariance matrix of the errors is correctly specified.\n",
       "\"\"\""
      ]
     },
     "execution_count": 10,
     "metadata": {},
     "output_type": "execute_result"
    }
   ],
   "source": [
    "reg_me2 = smf.ols(\n",
    "    formula=\"lnprice ~ rating\",\n",
    "    data=hotels.loc[(hotels[\"rating_count\"] >= k1) & (hotels[\"rating_count\"] < k2), :],\n",
    ")\n",
    "reg_me_fit2 = reg_me2.fit()\n",
    "reg_me_fit2.summary()"
   ]
  },
  {
   "cell_type": "code",
   "execution_count": 11,
   "metadata": {},
   "outputs": [],
   "source": [
    "hotels[\"yhat2\"] = reg_me_fit2.predict(hotels)\n"
   ]
  },
  {
   "cell_type": "code",
   "execution_count": 12,
   "metadata": {},
   "outputs": [
    {
     "data": {
      "text/html": [
       "<table class=\"simpletable\">\n",
       "<caption>OLS Regression Results</caption>\n",
       "<tr>\n",
       "  <th>Dep. Variable:</th>         <td>lnprice</td>     <th>  R-squared:         </th> <td>   0.244</td>\n",
       "</tr>\n",
       "<tr>\n",
       "  <th>Model:</th>                   <td>OLS</td>       <th>  Adj. R-squared:    </th> <td>   0.233</td>\n",
       "</tr>\n",
       "<tr>\n",
       "  <th>Method:</th>             <td>Least Squares</td>  <th>  F-statistic:       </th> <td>   22.60</td>\n",
       "</tr>\n",
       "<tr>\n",
       "  <th>Date:</th>             <td>Wed, 16 Oct 2024</td> <th>  Prob (F-statistic):</th> <td>1.03e-05</td>\n",
       "</tr>\n",
       "<tr>\n",
       "  <th>Time:</th>                 <td>16:14:19</td>     <th>  Log-Likelihood:    </th> <td> -4.1624</td>\n",
       "</tr>\n",
       "<tr>\n",
       "  <th>No. Observations:</th>      <td>    72</td>      <th>  AIC:               </th> <td>   12.32</td>\n",
       "</tr>\n",
       "<tr>\n",
       "  <th>Df Residuals:</th>          <td>    70</td>      <th>  BIC:               </th> <td>   16.88</td>\n",
       "</tr>\n",
       "<tr>\n",
       "  <th>Df Model:</th>              <td>     1</td>      <th>                     </th>     <td> </td>   \n",
       "</tr>\n",
       "<tr>\n",
       "  <th>Covariance Type:</th>      <td>nonrobust</td>    <th>                     </th>     <td> </td>   \n",
       "</tr>\n",
       "</table>\n",
       "<table class=\"simpletable\">\n",
       "<tr>\n",
       "      <td></td>         <th>coef</th>     <th>std err</th>      <th>t</th>      <th>P>|t|</th>  <th>[0.025</th>    <th>0.975]</th>  \n",
       "</tr>\n",
       "<tr>\n",
       "  <th>Intercept</th> <td>    2.3895</td> <td>    0.493</td> <td>    4.849</td> <td> 0.000</td> <td>    1.407</td> <td>    3.372</td>\n",
       "</tr>\n",
       "<tr>\n",
       "  <th>rating</th>    <td>    0.5558</td> <td>    0.117</td> <td>    4.754</td> <td> 0.000</td> <td>    0.323</td> <td>    0.789</td>\n",
       "</tr>\n",
       "</table>\n",
       "<table class=\"simpletable\">\n",
       "<tr>\n",
       "  <th>Omnibus:</th>       <td> 2.670</td> <th>  Durbin-Watson:     </th> <td>   1.499</td>\n",
       "</tr>\n",
       "<tr>\n",
       "  <th>Prob(Omnibus):</th> <td> 0.263</td> <th>  Jarque-Bera (JB):  </th> <td>   1.857</td>\n",
       "</tr>\n",
       "<tr>\n",
       "  <th>Skew:</th>          <td>-0.193</td> <th>  Prob(JB):          </th> <td>   0.395</td>\n",
       "</tr>\n",
       "<tr>\n",
       "  <th>Kurtosis:</th>      <td> 2.314</td> <th>  Cond. No.          </th> <td>    71.6</td>\n",
       "</tr>\n",
       "</table><br/><br/>Notes:<br/>[1] Standard Errors assume that the covariance matrix of the errors is correctly specified."
      ],
      "text/plain": [
       "<class 'statsmodels.iolib.summary.Summary'>\n",
       "\"\"\"\n",
       "                            OLS Regression Results                            \n",
       "==============================================================================\n",
       "Dep. Variable:                lnprice   R-squared:                       0.244\n",
       "Model:                            OLS   Adj. R-squared:                  0.233\n",
       "Method:                 Least Squares   F-statistic:                     22.60\n",
       "Date:                Wed, 16 Oct 2024   Prob (F-statistic):           1.03e-05\n",
       "Time:                        16:14:19   Log-Likelihood:                -4.1624\n",
       "No. Observations:                  72   AIC:                             12.32\n",
       "Df Residuals:                      70   BIC:                             16.88\n",
       "Df Model:                           1                                         \n",
       "Covariance Type:            nonrobust                                         \n",
       "==============================================================================\n",
       "                 coef    std err          t      P>|t|      [0.025      0.975]\n",
       "------------------------------------------------------------------------------\n",
       "Intercept      2.3895      0.493      4.849      0.000       1.407       3.372\n",
       "rating         0.5558      0.117      4.754      0.000       0.323       0.789\n",
       "==============================================================================\n",
       "Omnibus:                        2.670   Durbin-Watson:                   1.499\n",
       "Prob(Omnibus):                  0.263   Jarque-Bera (JB):                1.857\n",
       "Skew:                          -0.193   Prob(JB):                        0.395\n",
       "Kurtosis:                       2.314   Cond. No.                         71.6\n",
       "==============================================================================\n",
       "\n",
       "Notes:\n",
       "[1] Standard Errors assume that the covariance matrix of the errors is correctly specified.\n",
       "\"\"\""
      ]
     },
     "execution_count": 12,
     "metadata": {},
     "output_type": "execute_result"
    }
   ],
   "source": [
    "reg_me3 = smf.ols(\n",
    "    formula=\"lnprice ~ rating\", data=hotels.loc[hotels[\"rating_count\"] >= k2, :]\n",
    ")\n",
    "reg_me_fit3 = reg_me3.fit()\n",
    "reg_me_fit3.summary()"
   ]
  },
  {
   "cell_type": "code",
   "execution_count": 13,
   "metadata": {},
   "outputs": [],
   "source": [
    "hotels[\"yhat3\"] = reg_me_fit3.predict(hotels)\n"
   ]
  },
  {
   "cell_type": "code",
   "execution_count": 14,
   "metadata": {},
   "outputs": [
    {
     "data": {
      "image/png": "[encoded data removed]",
      "text/plain": [
       "<Figure size 640x480 with 1 Axes>"
      ]
     },
     "metadata": {},
     "output_type": "display_data"
    },
    {
     "data": {
      "text/plain": [
       "<ggplot: (102641103168)>"
      ]
     },
     "execution_count": 14,
     "metadata": {},
     "output_type": "execute_result"
    }
   ],
   "source": [
    "(\n",
    "    ggplot(hotels)\n",
    "    + geom_line(aes(x=\"rating\", y=\"yhat\"), color=color[1], size=1)\n",
    "    + geom_line(aes(x=\"rating\", y=\"yhat3\"), color=color[0], size=1)\n",
    "    + coord_cartesian(xlim=[2, 5], ylim=[3.5, 5])\n",
    "    + expand_limits(x=0.01, y=0.01)\n",
    "    + scale_y_continuous(expand=[0.01, 0.01])\n",
    "    + scale_x_continuous(expand=[0.01, 0.01], limits=[2, 5], breaks=seq(2, 5, 0.5))\n",
    "    + labs(x=\"Average rating\", y=\"ln(Hotel price, US dollars)\")\n",
    "    + theme_bw()\n",
    "    + annotate(\n",
    "        \"text\",\n",
    "        x=2.6,\n",
    "        y=4.4,\n",
    "        label=\"More noisy: # of ratings<100\",\n",
    "        size=10,\n",
    "        color=color[1],\n",
    "    )\n",
    "    + annotate(\n",
    "        \"text\",\n",
    "        x=3.1,\n",
    "        y=3.6,\n",
    "        label=\"Less noisy: # of ratings>200\",\n",
    "        size=10,\n",
    "        color=color[0],\n",
    "    )\n",
    ")\n"
   ]
  },
  {
   "cell_type": "code",
   "execution_count": null,
   "metadata": {},
   "outputs": [],
   "source": []
  }
 ],
 "metadata": {
  "kernelspec": {
   "display_name": "da_case_studies-4lQ4EmNL",
   "language": "python",
   "name": "python3"
  },
  "language_info": {
   "codemirror_mode": {
    "name": "ipython",
    "version": 3
   },
   "file_extension": ".py",
   "mimetype": "text/x-python",
   "name": "python",
   "nbconvert_exporter": "python",
   "pygments_lexer": "ipython3",
   "version": "3.8.10"
  }
 },
 "nbformat": 4,
 "nbformat_minor": 4
}
