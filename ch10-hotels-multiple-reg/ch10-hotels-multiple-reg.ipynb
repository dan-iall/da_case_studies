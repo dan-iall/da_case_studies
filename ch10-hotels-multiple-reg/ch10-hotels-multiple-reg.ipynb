{
 "cells": [
  {
   "cell_type": "markdown",
   "metadata": {},
   "source": [
    "#### Prepared for Gabor's Data Analysis\n",
    "\n",
    "### Data Analysis for Business, Economics, and Policy\n",
    "by Gabor Bekes and Gabor Kezdi\n",
    " \n",
    "Cambridge University Press 2021\n",
    "\n",
    "**[gabors-data-analysis.com ](https://gabors-data-analysis.com/)**\n",
    "\n",
    " License: Free to share, modify and use for educational purposes. \n",
    " Not to be used for commercial purposes.\n",
    "\n",
    "### Chapter 10\n",
    "**CH10B Finding a good deal among hotels with multiple regression**\n",
    "\n",
    "using the hotels-vienna dataset\n",
    "\n",
    "version 1.0 2021-05-05"
   ]
  },
  {
   "cell_type": "code",
   "execution_count": 1,
   "metadata": {},
   "outputs": [],
   "source": [
    "import os\n",
    "from pathlib import Path\n",
    "import sys\n",
    "import warnings\n",
    "\n",
    "import numpy as np\n",
    "import pandas as pd\n",
    "from mizani.formatters import percent_format\n",
    "from plotnine import *\n",
    "from patsy import dmatrices\n",
    "import statsmodels.api as sm\n",
    "import statsmodels.formula.api as smf\n",
    "from stargazer.stargazer import Stargazer\n",
    "import seaborn as sns\n",
    "import matplotlib.pyplot as plt\n",
    "from IPython.core.display import HTML\n",
    "\n",
    "warnings.filterwarnings(\"ignore\")\n"
   ]
  },
  {
   "cell_type": "code",
   "execution_count": 2,
   "metadata": {},
   "outputs": [],
   "source": [
    "current_path = os.getcwd()\n",
    "base_dir = current_path.split(\"da_case_studies\")[0]\n",
    "data_in = os.path.join(str(base_dir) , \"da_data_repo/hotels-vienna/clean/\")\n",
    "data_out = os.path.join(str(base_dir), \"da_case_studies/ch10-hotels-multiple-reg/\")\n",
    "func = os.path.join(str(base_dir) ,   \"da_case_studies/ch00-tech-prep/\")\n",
    "sys.path.append(func)"
   ]
  },
  {
   "cell_type": "code",
   "execution_count": 3,
   "metadata": {},
   "outputs": [],
   "source": [
    "import py_helper_functions as da\n",
    "sns.set_theme(rc=da.da_theme, palette=da.color)"
   ]
  },
  {
   "cell_type": "code",
   "execution_count": 4,
   "metadata": {},
   "outputs": [],
   "source": [
    "hotels = pd.read_csv(os.path.join(data_in, \"hotels-vienna.csv\"))\n",
    "# hotels = pd.read_csv(\"https://osf.io/y6jvb/download\")"
   ]
  },
  {
   "cell_type": "code",
   "execution_count": 5,
   "metadata": {},
   "outputs": [],
   "source": [
    "hotels = hotels.loc[\n",
    "    lambda x: (x[\"accommodation_type\"] == \"Hotel\")\n",
    "    & (x[\"city_actual\"] == \"Vienna\")\n",
    "    & (x[\"stars\"] >= 3)\n",
    "    & (x[\"stars\"] <= 4)\n",
    "    & (x[\"price\"] <= 600)\n",
    "    & (x[\"stars\"].notnull())\n",
    "]"
   ]
  },
  {
   "cell_type": "code",
   "execution_count": 6,
   "metadata": {},
   "outputs": [
    {
     "data": {
      "text/plain": [
       "207"
      ]
     },
     "execution_count": 6,
     "metadata": {},
     "output_type": "execute_result"
    }
   ],
   "source": [
    "len(hotels)"
   ]
  },
  {
   "cell_type": "code",
   "execution_count": 7,
   "metadata": {},
   "outputs": [],
   "source": [
    "hotels[\"lnprice\"] = np.log(hotels[\"price\"])\n",
    "hotels[\"distance2\"] = hotels[\"distance\"]\n",
    "hotels.loc[hotels[\"distance2\"] < 0.05, \"distance2\"] = 0.05\n",
    "hotels[\"lndistance\"] = np.log(hotels[\"distance2\"])\n",
    "hotels[\"star35\"] = hotels[\"stars\"] == 3.5\n",
    "hotels[\"star4\"] = hotels[\"stars\"] == 4"
   ]
  },
  {
   "cell_type": "code",
   "execution_count": 8,
   "metadata": {},
   "outputs": [
    {
     "data": {
      "application/vnd.microsoft.datawrangler.viewer.v0+json": {
       "columns": [
        {
         "name": "index",
         "rawType": "object",
         "type": "string"
        },
        {
         "name": "distance",
         "rawType": "float64",
         "type": "float"
        },
        {
         "name": "price",
         "rawType": "float64",
         "type": "float"
        },
        {
         "name": "lnprice",
         "rawType": "float64",
         "type": "float"
        }
       ],
       "conversionMethod": "pd.DataFrame",
       "ref": "73b81b5e-619a-4083-851b-dc3b0b8a9144",
       "rows": [
        [
         "count",
         "207.0",
         "207.0",
         "207.0"
        ],
        [
         "mean",
         "1.5299516908212563",
         "109.97584541062803",
         "4.640218593711883"
        ],
        [
         "std",
         "1.1615070130413394",
         "42.221381370006355",
         "0.33675098207747384"
        ],
        [
         "min",
         "0.0",
         "50.0",
         "3.912023005428146"
        ],
        [
         "25%",
         "0.8",
         "82.0",
         "4.406719247264253"
        ],
        [
         "50%",
         "1.3",
         "100.0",
         "4.605170185988092"
        ],
        [
         "75%",
         "1.9",
         "129.5",
         "4.863673427408627"
        ],
        [
         "max",
         "6.6",
         "383.0",
         "5.948034989180646"
        ]
       ],
       "shape": {
        "columns": 3,
        "rows": 8
       }
      },
      "text/html": [
       "<div>\n",
       "<style scoped>\n",
       "    .dataframe tbody tr th:only-of-type {\n",
       "        vertical-align: middle;\n",
       "    }\n",
       "\n",
       "    .dataframe tbody tr th {\n",
       "        vertical-align: top;\n",
       "    }\n",
       "\n",
       "    .dataframe thead th {\n",
       "        text-align: right;\n",
       "    }\n",
       "</style>\n",
       "<table border=\"1\" class=\"dataframe\">\n",
       "  <thead>\n",
       "    <tr style=\"text-align: right;\">\n",
       "      <th></th>\n",
       "      <th>distance</th>\n",
       "      <th>price</th>\n",
       "      <th>lnprice</th>\n",
       "    </tr>\n",
       "  </thead>\n",
       "  <tbody>\n",
       "    <tr>\n",
       "      <th>count</th>\n",
       "      <td>207.000000</td>\n",
       "      <td>207.000000</td>\n",
       "      <td>207.000000</td>\n",
       "    </tr>\n",
       "    <tr>\n",
       "      <th>mean</th>\n",
       "      <td>1.529952</td>\n",
       "      <td>109.975845</td>\n",
       "      <td>4.640219</td>\n",
       "    </tr>\n",
       "    <tr>\n",
       "      <th>std</th>\n",
       "      <td>1.161507</td>\n",
       "      <td>42.221381</td>\n",
       "      <td>0.336751</td>\n",
       "    </tr>\n",
       "    <tr>\n",
       "      <th>min</th>\n",
       "      <td>0.000000</td>\n",
       "      <td>50.000000</td>\n",
       "      <td>3.912023</td>\n",
       "    </tr>\n",
       "    <tr>\n",
       "      <th>25%</th>\n",
       "      <td>0.800000</td>\n",
       "      <td>82.000000</td>\n",
       "      <td>4.406719</td>\n",
       "    </tr>\n",
       "    <tr>\n",
       "      <th>50%</th>\n",
       "      <td>1.300000</td>\n",
       "      <td>100.000000</td>\n",
       "      <td>4.605170</td>\n",
       "    </tr>\n",
       "    <tr>\n",
       "      <th>75%</th>\n",
       "      <td>1.900000</td>\n",
       "      <td>129.500000</td>\n",
       "      <td>4.863673</td>\n",
       "    </tr>\n",
       "    <tr>\n",
       "      <th>max</th>\n",
       "      <td>6.600000</td>\n",
       "      <td>383.000000</td>\n",
       "      <td>5.948035</td>\n",
       "    </tr>\n",
       "  </tbody>\n",
       "</table>\n",
       "</div>"
      ],
      "text/plain": [
       "         distance       price     lnprice\n",
       "count  207.000000  207.000000  207.000000\n",
       "mean     1.529952  109.975845    4.640219\n",
       "std      1.161507   42.221381    0.336751\n",
       "min      0.000000   50.000000    3.912023\n",
       "25%      0.800000   82.000000    4.406719\n",
       "50%      1.300000  100.000000    4.605170\n",
       "75%      1.900000  129.500000    4.863673\n",
       "max      6.600000  383.000000    5.948035"
      ]
     },
     "execution_count": 8,
     "metadata": {},
     "output_type": "execute_result"
    }
   ],
   "source": [
    "hotels[[\"distance\", \"price\", \"lnprice\"]].describe()"
   ]
  },
  {
   "cell_type": "code",
   "execution_count": 9,
   "metadata": {},
   "outputs": [],
   "source": [
    "reg0 = smf.ols(\"lnprice ~ rating\", data=hotels).fit()\n",
    "reg1 = smf.ols(\"lnprice ~ distance\", data=hotels).fit()\n",
    "reg2 = smf.ols(\"lnprice ~ distance + rating\", data=hotels).fit()"
   ]
  },
  {
   "cell_type": "code",
   "execution_count": 10,
   "metadata": {},
   "outputs": [
    {
     "data": {
      "text/html": [
       "<table style=\"text-align:center\"><tr><td colspan=\"4\" style=\"border-bottom: 1px solid black\"></td></tr>\n",
       "<tr><td style=\"text-align:left\"></td><td colspan=\"3\"><em>Dependent variable: lnprice</em></td></tr><tr><td style=\"text-align:left\"></td><tr><td style=\"text-align:left\"></td><td>(1)</td><td>(2)</td><td>(3)</td></tr>\n",
       "<tr><td colspan=\"4\" style=\"border-bottom: 1px solid black\"></td></tr>\n",
       "\n",
       "<tr><td style=\"text-align:left\">Intercept</td><td>2.846<sup>***</sup></td><td>4.841<sup>***</sup></td><td>3.316<sup>***</sup></td></tr>\n",
       "<tr><td style=\"text-align:left\"></td><td>(0.217)</td><td>(0.035)</td><td>(0.215)</td></tr>\n",
       "<tr><td style=\"text-align:left\">distance</td><td></td><td>-0.131<sup>***</sup></td><td>-0.101<sup>***</sup></td></tr>\n",
       "<tr><td style=\"text-align:left\"></td><td></td><td>(0.018)</td><td>(0.017)</td></tr>\n",
       "<tr><td style=\"text-align:left\">rating</td><td>0.442<sup>***</sup></td><td></td><td>0.365<sup>***</sup></td></tr>\n",
       "<tr><td style=\"text-align:left\"></td><td>(0.053)</td><td></td><td>(0.051)</td></tr>\n",
       "\n",
       "<td colspan=\"4\" style=\"border-bottom: 1px solid black\"></td></tr>\n",
       "<tr><td style=\"text-align: left\">Observations</td><td>207</td><td>207</td><td>207</td></tr><tr><td style=\"text-align: left\">R<sup>2</sup></td><td>0.252</td><td>0.205</td><td>0.365</td></tr><tr><td style=\"text-align: left\">Adjusted R<sup>2</sup></td><td>0.248</td><td>0.201</td><td>0.359</td></tr><tr><td style=\"text-align: left\">Residual Std. Error</td><td>0.292 (df=205)</td><td>0.301 (df=205)</td><td>0.270 (df=204)</td></tr><tr><td style=\"text-align: left\">F Statistic</td><td>69.107<sup>***</sup> (df=1; 205)</td><td>52.895<sup>***</sup> (df=1; 205)</td><td>58.692<sup>***</sup> (df=2; 204)</td></tr>\n",
       "<tr><td colspan=\"4\" style=\"border-bottom: 1px solid black\"></td></tr><tr><td style=\"text-align: left\">Note:</td><td colspan=\"3\" style=\"text-align: right\"><sup>*</sup>p&lt;0.1; <sup>**</sup>p&lt;0.05; <sup>***</sup>p&lt;0.01</td></tr></table>"
      ],
      "text/plain": [
       "<stargazer.stargazer.Stargazer at 0x272318dc4d0>"
      ]
     },
     "execution_count": 10,
     "metadata": {},
     "output_type": "execute_result"
    }
   ],
   "source": [
    "Stargazer([reg0,reg1,reg2])"
   ]
  },
  {
   "cell_type": "code",
   "execution_count": 11,
   "metadata": {},
   "outputs": [],
   "source": [
    "from py_helper_functions import lspline"
   ]
  },
  {
   "cell_type": "code",
   "execution_count": 12,
   "metadata": {},
   "outputs": [],
   "source": [
    "y, X = dmatrices(\n",
    "    \"lnprice ~ lspline(distance,[1,4]) + lspline(rating, [3.5]) + star35 + star4\", hotels\n",
    ")\n",
    "\n",
    "reg3 = sm.OLS(y, X).fit()"
   ]
  },
  {
   "cell_type": "code",
   "execution_count": 13,
   "metadata": {},
   "outputs": [
    {
     "name": "stdout",
     "output_type": "stream",
     "text": [
      "                            OLS Regression Results                            \n",
      "==============================================================================\n",
      "Dep. Variable:                lnprice   R-squared:                       0.550\n",
      "Model:                            OLS   Adj. R-squared:                  0.534\n",
      "Method:                 Least Squares   F-statistic:                     34.76\n",
      "Date:                Fri, 28 Feb 2025   Prob (F-statistic):           2.19e-31\n",
      "Time:                        13:09:55   Log-Likelihood:                 14.744\n",
      "No. Observations:                 207   AIC:                            -13.49\n",
      "Df Residuals:                     199   BIC:                             13.17\n",
      "Df Model:                           7                                         \n",
      "Covariance Type:            nonrobust                                         \n",
      "================================================================================================\n",
      "                                   coef    std err          t      P>|t|      [0.025      0.975]\n",
      "------------------------------------------------------------------------------------------------\n",
      "Intercept                        5.1551      0.454     11.355      0.000       4.260       6.050\n",
      "star35[T.True]                   0.0174      0.071      0.244      0.808      -0.123       0.158\n",
      "star4[T.True]                    0.1496      0.037      4.067      0.000       0.077       0.222\n",
      "lspline(distance, [1, 4])[0]    -0.4601      0.067     -6.887      0.000      -0.592      -0.328\n",
      "lspline(distance, [1, 4])[1]    -0.0503      0.021     -2.343      0.020      -0.093      -0.008\n",
      "lspline(distance, [1, 4])[2]     0.1435      0.081      1.776      0.077      -0.016       0.303\n",
      "lspline(rating, [3.5])[0]       -0.1133      0.132     -0.855      0.393      -0.375       0.148\n",
      "lspline(rating, [3.5])[1]        0.3599      0.059      6.144      0.000       0.244       0.475\n",
      "==============================================================================\n",
      "Omnibus:                      108.185   Durbin-Watson:                   1.774\n",
      "Prob(Omnibus):                  0.000   Jarque-Bera (JB):              886.011\n",
      "Skew:                           1.825   Prob(JB):                    4.03e-193\n",
      "Kurtosis:                      12.455   Cond. No.                         114.\n",
      "==============================================================================\n",
      "\n",
      "Notes:\n",
      "[1] Standard Errors assume that the covariance matrix of the errors is correctly specified.\n"
     ]
    }
   ],
   "source": [
    "print(reg3.summary())"
   ]
  },
  {
   "cell_type": "code",
   "execution_count": 14,
   "metadata": {},
   "outputs": [],
   "source": [
    "hotels[\"lnprice_hat\"] = reg3.predict(X)\n",
    "\n",
    "hotels[\"lnprice_resid\"] = hotels[\"lnprice\"] - hotels[\"lnprice_hat\"]\n",
    "\n",
    "hotels[\"bestdeals\"] = hotels.index.isin(\n",
    "    hotels[\"lnprice_resid\"].sort_values(ascending=False).tail().index.values\n",
    ")"
   ]
  },
  {
   "cell_type": "code",
   "execution_count": 15,
   "metadata": {},
   "outputs": [],
   "source": [
    "reg4 = smf.ols(\n",
    "    \"lnprice ~ lspline(distance,[1,4])\",\n",
    "    data=hotels,\n",
    ").fit()"
   ]
  },
  {
   "cell_type": "code",
   "execution_count": 16,
   "metadata": {},
   "outputs": [
    {
     "name": "stdout",
     "output_type": "stream",
     "text": [
      "                            OLS Regression Results                            \n",
      "==============================================================================\n",
      "Dep. Variable:                lnprice   R-squared:                       0.371\n",
      "Model:                            OLS   Adj. R-squared:                  0.362\n",
      "Method:                 Least Squares   F-statistic:                     39.97\n",
      "Date:                Fri, 28 Feb 2025   Prob (F-statistic):           2.43e-20\n",
      "Time:                        13:09:55   Log-Likelihood:                -19.879\n",
      "No. Observations:                 207   AIC:                             47.76\n",
      "Df Residuals:                     203   BIC:                             61.09\n",
      "Df Model:                           3                                         \n",
      "Covariance Type:            nonrobust                                         \n",
      "================================================================================================\n",
      "                                   coef    std err          t      P>|t|      [0.025      0.975]\n",
      "------------------------------------------------------------------------------------------------\n",
      "Intercept                        5.1806      0.060     86.674      0.000       5.063       5.298\n",
      "lspline(distance, [1, 4])[0]    -0.5993      0.076     -7.925      0.000      -0.748      -0.450\n",
      "lspline(distance, [1, 4])[1]    -0.0752      0.025     -3.046      0.003      -0.124      -0.027\n",
      "lspline(distance, [1, 4])[2]     0.1731      0.093      1.854      0.065      -0.011       0.357\n",
      "==============================================================================\n",
      "Omnibus:                       56.756   Durbin-Watson:                   1.780\n",
      "Prob(Omnibus):                  0.000   Jarque-Bera (JB):              173.809\n",
      "Skew:                           1.122   Prob(JB):                     1.81e-38\n",
      "Kurtosis:                       6.888   Cond. No.                         8.28\n",
      "==============================================================================\n",
      "\n",
      "Notes:\n",
      "[1] Standard Errors assume that the covariance matrix of the errors is correctly specified.\n"
     ]
    }
   ],
   "source": [
    "print(reg4.summary())"
   ]
  },
  {
   "cell_type": "code",
   "execution_count": 17,
   "metadata": {},
   "outputs": [],
   "source": [
    "#refit reg3 for Stargazer\n",
    "\n",
    "reg3 = smf.ols(\n",
    "    \"lnprice ~ lspline(distance,[1,4]) + lspline(rating, [3.5]) + star35 + star4\",\n",
    "    data=hotels,\n",
    ").fit()"
   ]
  },
  {
   "cell_type": "code",
   "execution_count": 18,
   "metadata": {},
   "outputs": [
    {
     "data": {
      "text/html": [
       "<table style=\"text-align:center\"><tr><td colspan=\"5\" style=\"border-bottom: 1px solid black\"></td></tr>\n",
       "<tr><td style=\"text-align:left\"></td><td colspan=\"4\"><em>Dependent variable: lnprice</em></td></tr><tr><td style=\"text-align:left\"></td><tr><td style=\"text-align:left\"></td><td>(1)</td><td>(2)</td><td>(3)</td><td>(4)</td></tr>\n",
       "<tr><td colspan=\"5\" style=\"border-bottom: 1px solid black\"></td></tr>\n",
       "\n",
       "<tr><td style=\"text-align:left\">Intercept</td><td>4.841<sup>***</sup></td><td>3.316<sup>***</sup></td><td>5.155<sup>***</sup></td><td>5.181<sup>***</sup></td></tr>\n",
       "<tr><td style=\"text-align:left\"></td><td>(0.035)</td><td>(0.215)</td><td>(0.454)</td><td>(0.060)</td></tr>\n",
       "<tr><td style=\"text-align:left\">distance</td><td>-0.131<sup>***</sup></td><td>-0.101<sup>***</sup></td><td></td><td></td></tr>\n",
       "<tr><td style=\"text-align:left\"></td><td>(0.018)</td><td>(0.017)</td><td></td><td></td></tr>\n",
       "<tr><td style=\"text-align:left\">lspline(distance, [1, 4])[0]</td><td></td><td></td><td>-0.460<sup>***</sup></td><td>-0.599<sup>***</sup></td></tr>\n",
       "<tr><td style=\"text-align:left\"></td><td></td><td></td><td>(0.067)</td><td>(0.076)</td></tr>\n",
       "<tr><td style=\"text-align:left\">lspline(distance, [1, 4])[1]</td><td></td><td></td><td>-0.050<sup>**</sup></td><td>-0.075<sup>***</sup></td></tr>\n",
       "<tr><td style=\"text-align:left\"></td><td></td><td></td><td>(0.021)</td><td>(0.025)</td></tr>\n",
       "<tr><td style=\"text-align:left\">lspline(distance, [1, 4])[2]</td><td></td><td></td><td>0.143<sup>*</sup></td><td>0.173<sup>*</sup></td></tr>\n",
       "<tr><td style=\"text-align:left\"></td><td></td><td></td><td>(0.081)</td><td>(0.093)</td></tr>\n",
       "<tr><td style=\"text-align:left\">lspline(rating, [3.5])[0]</td><td></td><td></td><td>-0.113<sup></sup></td><td></td></tr>\n",
       "<tr><td style=\"text-align:left\"></td><td></td><td></td><td>(0.132)</td><td></td></tr>\n",
       "<tr><td style=\"text-align:left\">lspline(rating, [3.5])[1]</td><td></td><td></td><td>0.360<sup>***</sup></td><td></td></tr>\n",
       "<tr><td style=\"text-align:left\"></td><td></td><td></td><td>(0.059)</td><td></td></tr>\n",
       "<tr><td style=\"text-align:left\">rating</td><td></td><td>0.365<sup>***</sup></td><td></td><td></td></tr>\n",
       "<tr><td style=\"text-align:left\"></td><td></td><td>(0.051)</td><td></td><td></td></tr>\n",
       "<tr><td style=\"text-align:left\">star35[T.True]</td><td></td><td></td><td>0.017<sup></sup></td><td></td></tr>\n",
       "<tr><td style=\"text-align:left\"></td><td></td><td></td><td>(0.071)</td><td></td></tr>\n",
       "<tr><td style=\"text-align:left\">star4[T.True]</td><td></td><td></td><td>0.150<sup>***</sup></td><td></td></tr>\n",
       "<tr><td style=\"text-align:left\"></td><td></td><td></td><td>(0.037)</td><td></td></tr>\n",
       "\n",
       "<td colspan=\"5\" style=\"border-bottom: 1px solid black\"></td></tr>\n",
       "<tr><td style=\"text-align: left\">Observations</td><td>207</td><td>207</td><td>207</td><td>207</td></tr><tr><td style=\"text-align: left\">R<sup>2</sup></td><td>0.205</td><td>0.365</td><td>0.550</td><td>0.371</td></tr><tr><td style=\"text-align: left\">Adjusted R<sup>2</sup></td><td>0.201</td><td>0.359</td><td>0.534</td><td>0.362</td></tr><tr><td style=\"text-align: left\">Residual Std. Error</td><td>0.301 (df=205)</td><td>0.270 (df=204)</td><td>0.230 (df=199)</td><td>0.269 (df=203)</td></tr><tr><td style=\"text-align: left\">F Statistic</td><td>52.895<sup>***</sup> (df=1; 205)</td><td>58.692<sup>***</sup> (df=2; 204)</td><td>34.756<sup>***</sup> (df=7; 199)</td><td>39.968<sup>***</sup> (df=3; 203)</td></tr>\n",
       "<tr><td colspan=\"5\" style=\"border-bottom: 1px solid black\"></td></tr><tr><td style=\"text-align: left\">Note:</td><td colspan=\"4\" style=\"text-align: right\"><sup>*</sup>p&lt;0.1; <sup>**</sup>p&lt;0.05; <sup>***</sup>p&lt;0.01</td></tr></table>"
      ],
      "text/plain": [
       "<stargazer.stargazer.Stargazer at 0x27232a4e4b0>"
      ]
     },
     "execution_count": 18,
     "metadata": {},
     "output_type": "execute_result"
    }
   ],
   "source": [
    "Stargazer([reg1, reg2, reg3, reg4])"
   ]
  },
  {
   "cell_type": "markdown",
   "metadata": {},
   "source": [
    "### Figure 10.3 ˆy−y plot for log hotel price"
   ]
  },
  {
   "cell_type": "code",
   "execution_count": 19,
   "metadata": {},
   "outputs": [
    {
     "data": {
      "image/png": "[encoded data removed]",
      "text/plain": [
       "<Figure size 700x550 with 1 Axes>"
      ]
     },
     "metadata": {},
     "output_type": "display_data"
    }
   ],
   "source": [
    "plt.xlim(3.8, 6.1)\n",
    "sns.regplot(data=hotels, x=\"lnprice_hat\", y=\"lnprice\",ci = False,truncate=False,\n",
    "            line_kws=dict(color=da.color[1],linestyle = \"dashed\"),\n",
    "            scatter_kws=dict(alpha = 1,s = 10))\n",
    "\n",
    "sns.scatterplot(hotels.loc[hotels[\"bestdeals\"] == True],x=\"lnprice_hat\",y=\"lnprice\",color = \"black\",s = 15,zorder = 3)\n",
    "\n",
    "plt.xlabel(\"predicted ln(price, US dollars)\", fontsize=12)\n",
    "plt.ylabel(\"ln(price, US dollars)\", fontsize=12)\n",
    "plt.xticks(np.arange(4, 6.1, 0.5))  \n",
    "plt.ylim(3.8,6.1)\n",
    "plt.yticks(np.arange(4, 6.1, 0.5)) \n",
    "plt.annotate(\n",
    "    \"Best deal\", \n",
    "    xy=(4.7,4.1), \n",
    "    xytext=(4.9,4), \n",
    "    arrowprops=dict(color='black', arrowstyle='->'),\n",
    "    fontsize=11.5\n",
    ")\n",
    "plt.show()"
   ]
  },
  {
   "cell_type": "markdown",
   "metadata": {},
   "source": [
    "### Residual plot - not in the book"
   ]
  },
  {
   "cell_type": "code",
   "execution_count": 20,
   "metadata": {},
   "outputs": [
    {
     "data": {
      "image/png": "[encoded data removed]",
      "text/plain": [
       "<Figure size 700x550 with 1 Axes>"
      ]
     },
     "metadata": {},
     "output_type": "display_data"
    }
   ],
   "source": [
    "plt.xlim(4, 5.5)\n",
    "sns.regplot(data=hotels, x=\"lnprice_hat\", y=\"lnprice_resid\",ci = False,truncate=False,\n",
    "            line_kws=dict(color=da.color[1]),\n",
    "            scatter_kws=dict(alpha = 1,s = 10))\n",
    "\n",
    "\n",
    "plt.xlabel(\"predicted ln(price, US dollars)\", fontsize=12)\n",
    "plt.ylabel(\"Residuals\", fontsize=12)\n",
    "\n",
    "plt.xticks(np.arange(4.5, 5.1, 0.5))  \n",
    "plt.ylim(-0.7,1.7)\n",
    "plt.yticks(np.arange(-0.5, 1.51, 0.5)) \n",
    "plt.show()"
   ]
  },
  {
   "cell_type": "code",
   "execution_count": null,
   "metadata": {},
   "outputs": [],
   "source": []
  }
 ],
 "metadata": {
  "kernelspec": {
   "display_name": "daenv",
   "language": "python",
   "name": "python3"
  },
  "language_info": {
   "codemirror_mode": {
    "name": "ipython",
    "version": 3
   },
   "file_extension": ".py",
   "mimetype": "text/x-python",
   "name": "python",
   "nbconvert_exporter": "python",
   "pygments_lexer": "ipython3",
   "version": "3.12.4"
  }
 },
 "nbformat": 4,
 "nbformat_minor": 4
}
