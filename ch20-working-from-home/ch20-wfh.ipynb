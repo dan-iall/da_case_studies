{
 "cells": [
  {
   "cell_type": "markdown",
   "metadata": {},
   "source": [
    "#### Prepared for Gabor's Data Analysis\n",
    "\n",
    "### Data Analysis for Business, Economics, and Policy\n",
    "by Gabor Bekes and  Gabor Kezdi\n",
    " \n",
    "Cambridge University Press 2021\n",
    "\n",
    "**[gabors-data-analysis.com ](https://gabors-data-analysis.com/)**\n",
    "\n",
    " License: Free to share, modify and use for educational purposes. \n",
    " Not to be used for commercial purposes.\n",
    "\n",
    "\n",
    "### CHAPTER 20\n",
    "**CH20A Working from home and employee performance**\n",
    "\n",
    "using the wfh dataset\n",
    "\n",
    "version 1.0 2021-05-05"
   ]
  },
  {
   "cell_type": "code",
   "execution_count": 1,
   "metadata": {},
   "outputs": [],
   "source": [
    "import os\n",
    "import sys\n",
    "import warnings\n",
    "\n",
    "import numpy as np\n",
    "import pandas as pd\n",
    "import statsmodels.formula.api as smf\n",
    "from IPython.core.display import HTML\n",
    "from plotnine import *\n",
    "from stargazer.stargazer import Stargazer\n",
    "\n",
    "warnings.filterwarnings(\"ignore\")\n"
   ]
  },
  {
   "cell_type": "code",
   "execution_count": 2,
   "metadata": {},
   "outputs": [],
   "source": [
    "# Current script folder\n",
    "current_path = os.getcwd()\n",
    "dirname = current_path.split(\"da_case_studies\")[0]\n",
    "\n",
    "# location folders\n",
    "data_in = dirname + \"da_data_repo/working-from-home/clean/\"\n",
    "data_out = dirname + \"da_case_studies/ch20-working-from-home/\"\n",
    "output = dirname + \"da_case_studies/ch20-working-from-home/output/\"\n",
    "\n",
    "func = dirname + \"da_case_studies/ch00-tech-prep/\"\n",
    "sys.path.append(func)\n"
   ]
  },
  {
   "cell_type": "code",
   "execution_count": 3,
   "metadata": {},
   "outputs": [],
   "source": [
    "# Import the prewritten helper functions\n",
    "from py_helper_functions import *\n"
   ]
  },
  {
   "cell_type": "markdown",
   "metadata": {},
   "source": [
    "### Load data"
   ]
  },
  {
   "cell_type": "code",
   "execution_count": 4,
   "metadata": {},
   "outputs": [],
   "source": [
    "data = pd.read_csv(data_in + \"wfh_tidy_person.csv\")\n",
    "# data = pd.read_csv(\"https://osf.io/jvgrf/download\")\n"
   ]
  },
  {
   "cell_type": "markdown",
   "metadata": {},
   "source": [
    "### Balance"
   ]
  },
  {
   "cell_type": "code",
   "execution_count": 5,
   "metadata": {},
   "outputs": [],
   "source": [
    "data[\"ageyoungestchild\"] = np.where(\n",
    "    data[\"children\"] == 0, None, data[\"ageyoungestchild\"]\n",
    ")\n",
    "\n",
    "data[\"ageyoungestchild\"] = pd.to_numeric(data[\"ageyoungestchild\"])\n",
    "data[\"ordertaker\"] = data[\"ordertaker\"].astype(int)"
   ]
  },
  {
   "cell_type": "code",
   "execution_count": 6,
   "metadata": {},
   "outputs": [],
   "source": [
    "mean_t = dict()\n",
    "mean_c = dict()\n",
    "sd = dict()\n",
    "p_value = dict()\n",
    "\n",
    "variables = [\n",
    "    \"perform10\",\n",
    "    \"age\",\n",
    "    \"male\",\n",
    "    \"second_technical\",\n",
    "    \"high_school\",\n",
    "    \"tertiary_technical\",\n",
    "    \"university\",\n",
    "    \"prior_experience\",\n",
    "    \"tenure\",\n",
    "    \"married\",\n",
    "    \"children\",\n",
    "    \"ageyoungestchild\",\n",
    "    \"rental\",\n",
    "    \"costofcommute\",\n",
    "    \"internet\",\n",
    "    \"bedroom\",\n",
    "    \"basewage\",\n",
    "    \"bonus\",\n",
    "    \"grosswage\",\n",
    "    \"ordertaker\",\n",
    "]\n",
    "\n",
    "for i in variables:\n",
    "    # Regression model\n",
    "    model = smf.ols(formula=\"{i}~treatment\".format(i=i), data=data).fit()\n",
    "\n",
    "    # Mean control\n",
    "    mean_c[i] = data.loc[data[\"treatment\"] == 0, i].dropna().mean()\n",
    "    # Mean treated\n",
    "    mean_t[i] = data.loc[data[\"treatment\"] == 1, i].dropna().mean()\n",
    "    # p-value from regression\n",
    "    p_value[i] = model.pvalues[1]\n",
    "    # Standard deviation\n",
    "    sd[i] = data[i].dropna().std()"
   ]
  },
  {
   "cell_type": "code",
   "execution_count": 7,
   "metadata": {
    "scrolled": true
   },
   "outputs": [],
   "source": [
    "table = pd.DataFrame([mean_t, mean_c, sd, p_value]).T.round(2)\n",
    "table.columns = [\n",
    "    \"Treatment mean\",\n",
    "    \"Control mean\",\n",
    "    \"Std.dev.\",\n",
    "    \"p-value of test of equal means\",\n",
    "]\n"
   ]
  },
  {
   "cell_type": "code",
   "execution_count": 8,
   "metadata": {},
   "outputs": [
    {
     "data": {
      "text/html": [
       "<div>\n",
       "<style scoped>\n",
       "    .dataframe tbody tr th:only-of-type {\n",
       "        vertical-align: middle;\n",
       "    }\n",
       "\n",
       "    .dataframe tbody tr th {\n",
       "        vertical-align: top;\n",
       "    }\n",
       "\n",
       "    .dataframe thead th {\n",
       "        text-align: right;\n",
       "    }\n",
       "</style>\n",
       "<table border=\"1\" class=\"dataframe\">\n",
       "  <thead>\n",
       "    <tr style=\"text-align: right;\">\n",
       "      <th></th>\n",
       "      <th>Treatment mean</th>\n",
       "      <th>Control mean</th>\n",
       "      <th>Std.dev.</th>\n",
       "      <th>p-value of test of equal means</th>\n",
       "    </tr>\n",
       "  </thead>\n",
       "  <tbody>\n",
       "    <tr>\n",
       "      <th>perform10</th>\n",
       "      <td>-0.03</td>\n",
       "      <td>-0.04</td>\n",
       "      <td>0.58</td>\n",
       "      <td>0.87</td>\n",
       "    </tr>\n",
       "    <tr>\n",
       "      <th>age</th>\n",
       "      <td>24.44</td>\n",
       "      <td>24.35</td>\n",
       "      <td>3.55</td>\n",
       "      <td>0.85</td>\n",
       "    </tr>\n",
       "    <tr>\n",
       "      <th>male</th>\n",
       "      <td>0.47</td>\n",
       "      <td>0.47</td>\n",
       "      <td>0.50</td>\n",
       "      <td>0.99</td>\n",
       "    </tr>\n",
       "    <tr>\n",
       "      <th>second_technical</th>\n",
       "      <td>0.46</td>\n",
       "      <td>0.47</td>\n",
       "      <td>0.50</td>\n",
       "      <td>0.79</td>\n",
       "    </tr>\n",
       "    <tr>\n",
       "      <th>high_school</th>\n",
       "      <td>0.18</td>\n",
       "      <td>0.14</td>\n",
       "      <td>0.36</td>\n",
       "      <td>0.39</td>\n",
       "    </tr>\n",
       "    <tr>\n",
       "      <th>tertiary_technical</th>\n",
       "      <td>0.35</td>\n",
       "      <td>0.36</td>\n",
       "      <td>0.48</td>\n",
       "      <td>0.94</td>\n",
       "    </tr>\n",
       "    <tr>\n",
       "      <th>university</th>\n",
       "      <td>0.02</td>\n",
       "      <td>0.03</td>\n",
       "      <td>0.15</td>\n",
       "      <td>0.34</td>\n",
       "    </tr>\n",
       "    <tr>\n",
       "      <th>prior_experience</th>\n",
       "      <td>18.96</td>\n",
       "      <td>16.75</td>\n",
       "      <td>25.88</td>\n",
       "      <td>0.50</td>\n",
       "    </tr>\n",
       "    <tr>\n",
       "      <th>tenure</th>\n",
       "      <td>26.14</td>\n",
       "      <td>28.25</td>\n",
       "      <td>21.92</td>\n",
       "      <td>0.45</td>\n",
       "    </tr>\n",
       "    <tr>\n",
       "      <th>married</th>\n",
       "      <td>0.22</td>\n",
       "      <td>0.32</td>\n",
       "      <td>0.44</td>\n",
       "      <td>0.07</td>\n",
       "    </tr>\n",
       "    <tr>\n",
       "      <th>children</th>\n",
       "      <td>0.11</td>\n",
       "      <td>0.24</td>\n",
       "      <td>0.38</td>\n",
       "      <td>0.01</td>\n",
       "    </tr>\n",
       "    <tr>\n",
       "      <th>ageyoungestchild</th>\n",
       "      <td>4.60</td>\n",
       "      <td>3.00</td>\n",
       "      <td>3.35</td>\n",
       "      <td>0.14</td>\n",
       "    </tr>\n",
       "    <tr>\n",
       "      <th>rental</th>\n",
       "      <td>0.24</td>\n",
       "      <td>0.20</td>\n",
       "      <td>0.42</td>\n",
       "      <td>0.44</td>\n",
       "    </tr>\n",
       "    <tr>\n",
       "      <th>costofcommute</th>\n",
       "      <td>7.89</td>\n",
       "      <td>8.34</td>\n",
       "      <td>6.96</td>\n",
       "      <td>0.61</td>\n",
       "    </tr>\n",
       "    <tr>\n",
       "      <th>internet</th>\n",
       "      <td>0.99</td>\n",
       "      <td>1.00</td>\n",
       "      <td>0.06</td>\n",
       "      <td>0.34</td>\n",
       "    </tr>\n",
       "    <tr>\n",
       "      <th>bedroom</th>\n",
       "      <td>0.97</td>\n",
       "      <td>0.99</td>\n",
       "      <td>0.14</td>\n",
       "      <td>0.22</td>\n",
       "    </tr>\n",
       "    <tr>\n",
       "      <th>basewage</th>\n",
       "      <td>1539.86</td>\n",
       "      <td>1562.80</td>\n",
       "      <td>161.45</td>\n",
       "      <td>0.26</td>\n",
       "    </tr>\n",
       "    <tr>\n",
       "      <th>bonus</th>\n",
       "      <td>1030.90</td>\n",
       "      <td>1092.59</td>\n",
       "      <td>625.33</td>\n",
       "      <td>0.44</td>\n",
       "    </tr>\n",
       "    <tr>\n",
       "      <th>grosswage</th>\n",
       "      <td>2949.73</td>\n",
       "      <td>3003.36</td>\n",
       "      <td>789.63</td>\n",
       "      <td>0.59</td>\n",
       "    </tr>\n",
       "    <tr>\n",
       "      <th>ordertaker</th>\n",
       "      <td>0.52</td>\n",
       "      <td>0.56</td>\n",
       "      <td>0.50</td>\n",
       "      <td>0.53</td>\n",
       "    </tr>\n",
       "  </tbody>\n",
       "</table>\n",
       "</div>"
      ],
      "text/plain": [
       "                    Treatment mean  Control mean  Std.dev.  \\\n",
       "perform10                    -0.03         -0.04      0.58   \n",
       "age                          24.44         24.35      3.55   \n",
       "male                          0.47          0.47      0.50   \n",
       "second_technical              0.46          0.47      0.50   \n",
       "high_school                   0.18          0.14      0.36   \n",
       "tertiary_technical            0.35          0.36      0.48   \n",
       "university                    0.02          0.03      0.15   \n",
       "prior_experience             18.96         16.75     25.88   \n",
       "tenure                       26.14         28.25     21.92   \n",
       "married                       0.22          0.32      0.44   \n",
       "children                      0.11          0.24      0.38   \n",
       "ageyoungestchild              4.60          3.00      3.35   \n",
       "rental                        0.24          0.20      0.42   \n",
       "costofcommute                 7.89          8.34      6.96   \n",
       "internet                      0.99          1.00      0.06   \n",
       "bedroom                       0.97          0.99      0.14   \n",
       "basewage                   1539.86       1562.80    161.45   \n",
       "bonus                      1030.90       1092.59    625.33   \n",
       "grosswage                  2949.73       3003.36    789.63   \n",
       "ordertaker                    0.52          0.56      0.50   \n",
       "\n",
       "                    p-value of test of equal means  \n",
       "perform10                                     0.87  \n",
       "age                                           0.85  \n",
       "male                                          0.99  \n",
       "second_technical                              0.79  \n",
       "high_school                                   0.39  \n",
       "tertiary_technical                            0.94  \n",
       "university                                    0.34  \n",
       "prior_experience                              0.50  \n",
       "tenure                                        0.45  \n",
       "married                                       0.07  \n",
       "children                                      0.01  \n",
       "ageyoungestchild                              0.14  \n",
       "rental                                        0.44  \n",
       "costofcommute                                 0.61  \n",
       "internet                                      0.34  \n",
       "bedroom                                       0.22  \n",
       "basewage                                      0.26  \n",
       "bonus                                         0.44  \n",
       "grosswage                                     0.59  \n",
       "ordertaker                                    0.53  "
      ]
     },
     "execution_count": 8,
     "metadata": {},
     "output_type": "execute_result"
    }
   ],
   "source": [
    "table\n"
   ]
  },
  {
   "cell_type": "markdown",
   "metadata": {},
   "source": [
    " ### outcomes"
   ]
  },
  {
   "cell_type": "code",
   "execution_count": 9,
   "metadata": {},
   "outputs": [],
   "source": [
    "# quit firm during 8 months of experiment\n",
    "# phone calls worked, for order takers\n"
   ]
  },
  {
   "cell_type": "code",
   "execution_count": 10,
   "metadata": {},
   "outputs": [],
   "source": [
    "quitjobs = (\n",
    "    data.groupby(\"treatment\")\n",
    "    .agg(mean=(\"quitjob\", \"mean\"), std=(\"quitjob\", \"std\"), N=(\"quitjob\", \"count\"))\n",
    "    .round(3)\n",
    ")\n"
   ]
  },
  {
   "cell_type": "code",
   "execution_count": 11,
   "metadata": {},
   "outputs": [],
   "source": [
    "total_quitjob = data.agg(\n",
    "    mean_total=(\"quitjob\", \"mean\"),\n",
    "    std_total=(\"quitjob\", \"std\"),\n",
    "    N_total=(\"quitjob\", \"count\"),\n",
    ").T.round(3)\n"
   ]
  },
  {
   "cell_type": "code",
   "execution_count": 12,
   "metadata": {},
   "outputs": [
    {
     "data": {
      "text/html": [
       "<div>\n",
       "<style scoped>\n",
       "    .dataframe tbody tr th:only-of-type {\n",
       "        vertical-align: middle;\n",
       "    }\n",
       "\n",
       "    .dataframe tbody tr th {\n",
       "        vertical-align: top;\n",
       "    }\n",
       "\n",
       "    .dataframe thead th {\n",
       "        text-align: right;\n",
       "    }\n",
       "</style>\n",
       "<table border=\"1\" class=\"dataframe\">\n",
       "  <thead>\n",
       "    <tr style=\"text-align: right;\">\n",
       "      <th></th>\n",
       "      <th>mean</th>\n",
       "      <th>std</th>\n",
       "      <th>N</th>\n",
       "    </tr>\n",
       "    <tr>\n",
       "      <th>treatment</th>\n",
       "      <th></th>\n",
       "      <th></th>\n",
       "      <th></th>\n",
       "    </tr>\n",
       "  </thead>\n",
       "  <tbody>\n",
       "    <tr>\n",
       "      <th>0</th>\n",
       "      <td>0.347</td>\n",
       "      <td>0.478</td>\n",
       "      <td>118</td>\n",
       "    </tr>\n",
       "    <tr>\n",
       "      <th>1</th>\n",
       "      <td>0.160</td>\n",
       "      <td>0.368</td>\n",
       "      <td>131</td>\n",
       "    </tr>\n",
       "  </tbody>\n",
       "</table>\n",
       "</div>"
      ],
      "text/plain": [
       "            mean    std    N\n",
       "treatment                   \n",
       "0          0.347  0.478  118\n",
       "1          0.160  0.368  131"
      ]
     },
     "execution_count": 12,
     "metadata": {},
     "output_type": "execute_result"
    }
   ],
   "source": [
    "quitjobs\n"
   ]
  },
  {
   "cell_type": "code",
   "execution_count": 13,
   "metadata": {},
   "outputs": [
    {
     "data": {
      "text/html": [
       "<div>\n",
       "<style scoped>\n",
       "    .dataframe tbody tr th:only-of-type {\n",
       "        vertical-align: middle;\n",
       "    }\n",
       "\n",
       "    .dataframe tbody tr th {\n",
       "        vertical-align: top;\n",
       "    }\n",
       "\n",
       "    .dataframe thead th {\n",
       "        text-align: right;\n",
       "    }\n",
       "</style>\n",
       "<table border=\"1\" class=\"dataframe\">\n",
       "  <thead>\n",
       "    <tr style=\"text-align: right;\">\n",
       "      <th></th>\n",
       "      <th>mean_total</th>\n",
       "      <th>std_total</th>\n",
       "      <th>N_total</th>\n",
       "    </tr>\n",
       "  </thead>\n",
       "  <tbody>\n",
       "    <tr>\n",
       "      <th>quitjob</th>\n",
       "      <td>0.249</td>\n",
       "      <td>0.433</td>\n",
       "      <td>249.0</td>\n",
       "    </tr>\n",
       "  </tbody>\n",
       "</table>\n",
       "</div>"
      ],
      "text/plain": [
       "         mean_total  std_total  N_total\n",
       "quitjob       0.249      0.433    249.0"
      ]
     },
     "execution_count": 13,
     "metadata": {},
     "output_type": "execute_result"
    }
   ],
   "source": [
    "total_quitjob\n"
   ]
  },
  {
   "cell_type": "code",
   "execution_count": 14,
   "metadata": {},
   "outputs": [],
   "source": [
    "phonecalls1 = (\n",
    "    data.query(\"ordertaker==1\")\n",
    "    .groupby(\"treatment\")\n",
    "    .agg(\n",
    "        mean=(\"phonecalls1\", \"mean\"),\n",
    "        std=(\"phonecalls1\", \"std\"),\n",
    "        N=(\"phonecalls1\", \"count\"),\n",
    "    )\n",
    "    .round(2)\n",
    ")\n"
   ]
  },
  {
   "cell_type": "code",
   "execution_count": 15,
   "metadata": {},
   "outputs": [],
   "source": [
    "total_phonecalls = (\n",
    "    data.query(\"ordertaker==1\")\n",
    "    .agg(\n",
    "        mean_total=(\"phonecalls1\", \"mean\"),\n",
    "        std_total=(\"phonecalls1\", \"std\"),\n",
    "        N_total=(\"phonecalls1\", \"count\"),\n",
    "    )\n",
    "    .T.round(2)\n",
    ")\n"
   ]
  },
  {
   "cell_type": "code",
   "execution_count": 16,
   "metadata": {},
   "outputs": [
    {
     "data": {
      "text/html": [
       "<div>\n",
       "<style scoped>\n",
       "    .dataframe tbody tr th:only-of-type {\n",
       "        vertical-align: middle;\n",
       "    }\n",
       "\n",
       "    .dataframe tbody tr th {\n",
       "        vertical-align: top;\n",
       "    }\n",
       "\n",
       "    .dataframe thead th {\n",
       "        text-align: right;\n",
       "    }\n",
       "</style>\n",
       "<table border=\"1\" class=\"dataframe\">\n",
       "  <thead>\n",
       "    <tr style=\"text-align: right;\">\n",
       "      <th></th>\n",
       "      <th>mean</th>\n",
       "      <th>std</th>\n",
       "      <th>N</th>\n",
       "    </tr>\n",
       "    <tr>\n",
       "      <th>treatment</th>\n",
       "      <th></th>\n",
       "      <th></th>\n",
       "      <th></th>\n",
       "    </tr>\n",
       "  </thead>\n",
       "  <tbody>\n",
       "    <tr>\n",
       "      <th>0</th>\n",
       "      <td>10.06</td>\n",
       "      <td>6.10</td>\n",
       "      <td>66</td>\n",
       "    </tr>\n",
       "    <tr>\n",
       "      <th>1</th>\n",
       "      <td>14.10</td>\n",
       "      <td>5.31</td>\n",
       "      <td>68</td>\n",
       "    </tr>\n",
       "  </tbody>\n",
       "</table>\n",
       "</div>"
      ],
      "text/plain": [
       "            mean   std   N\n",
       "treatment                 \n",
       "0          10.06  6.10  66\n",
       "1          14.10  5.31  68"
      ]
     },
     "execution_count": 16,
     "metadata": {},
     "output_type": "execute_result"
    }
   ],
   "source": [
    "phonecalls1\n"
   ]
  },
  {
   "cell_type": "code",
   "execution_count": 17,
   "metadata": {},
   "outputs": [
    {
     "data": {
      "text/html": [
       "<div>\n",
       "<style scoped>\n",
       "    .dataframe tbody tr th:only-of-type {\n",
       "        vertical-align: middle;\n",
       "    }\n",
       "\n",
       "    .dataframe tbody tr th {\n",
       "        vertical-align: top;\n",
       "    }\n",
       "\n",
       "    .dataframe thead th {\n",
       "        text-align: right;\n",
       "    }\n",
       "</style>\n",
       "<table border=\"1\" class=\"dataframe\">\n",
       "  <thead>\n",
       "    <tr style=\"text-align: right;\">\n",
       "      <th></th>\n",
       "      <th>mean_total</th>\n",
       "      <th>std_total</th>\n",
       "      <th>N_total</th>\n",
       "    </tr>\n",
       "  </thead>\n",
       "  <tbody>\n",
       "    <tr>\n",
       "      <th>phonecalls1</th>\n",
       "      <td>12.11</td>\n",
       "      <td>6.04</td>\n",
       "      <td>134.0</td>\n",
       "    </tr>\n",
       "  </tbody>\n",
       "</table>\n",
       "</div>"
      ],
      "text/plain": [
       "             mean_total  std_total  N_total\n",
       "phonecalls1       12.11       6.04    134.0"
      ]
     },
     "execution_count": 17,
     "metadata": {},
     "output_type": "execute_result"
    }
   ],
   "source": [
    "total_phonecalls\n"
   ]
  },
  {
   "cell_type": "code",
   "execution_count": 18,
   "metadata": {},
   "outputs": [],
   "source": [
    "# Bar chart for quit rates\n"
   ]
  },
  {
   "cell_type": "code",
   "execution_count": 19,
   "metadata": {},
   "outputs": [],
   "source": [
    "data[\"quit_pct\"] = data[\"quitjob\"] * 100\n",
    "data[\"stayed_pct\"] = (1 - data[\"quitjob\"]) * 100\n"
   ]
  },
  {
   "cell_type": "code",
   "execution_count": 20,
   "metadata": {},
   "outputs": [],
   "source": [
    "barchart_data = pd.melt(\n",
    "    data[[\"treatment\", \"quit_pct\", \"stayed_pct\"]]\n",
    "    .groupby(\"treatment\")\n",
    "    .agg({\"quit_pct\": \"mean\", \"stayed_pct\": \"mean\"})\n",
    "    .reset_index(),\n",
    "    id_vars=\"treatment\",\n",
    ").rename(columns={\"variable\": \"employees\", \"value\": \"pct\"})\n"
   ]
  },
  {
   "cell_type": "code",
   "execution_count": 21,
   "metadata": {},
   "outputs": [],
   "source": [
    "barchart_data[\"treatment\"] = np.where(\n",
    "    barchart_data[\"treatment\"] == 0, \"Non-treatment group\", \"Treatment group\"\n",
    ")\n"
   ]
  },
  {
   "cell_type": "code",
   "execution_count": 22,
   "metadata": {},
   "outputs": [
    {
     "data": {
      "image/png": "[encoded data removed]",
      "text/plain": [
       "<Figure size 640x480 with 1 Axes>"
      ]
     },
     "metadata": {
      "image/png": {
       "height": 480,
       "width": 640
      }
     },
     "output_type": "display_data"
    },
    {
     "data": {
      "text/plain": [
       "<Figure Size: (640 x 480)>"
      ]
     },
     "execution_count": 22,
     "metadata": {},
     "output_type": "execute_result"
    }
   ],
   "source": [
    "quitrates_barchart = (\n",
    "    ggplot(barchart_data, aes(fill=\"employees\", y=\"pct\", x=\"treatment\"))\n",
    "    + geom_bar(stat=\"identity\")\n",
    "    + theme_bw()\n",
    "    + labs(y=\"Share of employees (percent)\", x=\"\")\n",
    "    + scale_x_discrete()\n",
    "    + scale_fill_manual(\n",
    "        labels=(\"Quit\", \"Stayed\"), name=\" \", values=(color[1], color[0])\n",
    "    )\n",
    ")\n",
    "\n",
    "quitrates_barchart\n"
   ]
  },
  {
   "cell_type": "markdown",
   "metadata": {},
   "source": [
    "### Regression analysis \n",
    " Outcome variables: 1) quit firm during 8 months of experiment , 2) phone calls worked, for ordertakers"
   ]
  },
  {
   "cell_type": "code",
   "execution_count": 23,
   "metadata": {},
   "outputs": [
    {
     "data": {
      "text/html": [
       "<div>\n",
       "<style scoped>\n",
       "    .dataframe tbody tr th:only-of-type {\n",
       "        vertical-align: middle;\n",
       "    }\n",
       "\n",
       "    .dataframe tbody tr th {\n",
       "        vertical-align: top;\n",
       "    }\n",
       "\n",
       "    .dataframe thead th {\n",
       "        text-align: right;\n",
       "    }\n",
       "</style>\n",
       "<table border=\"1\" class=\"dataframe\">\n",
       "  <thead>\n",
       "    <tr style=\"text-align: right;\">\n",
       "      <th></th>\n",
       "      <th>mean</th>\n",
       "      <th>std</th>\n",
       "      <th>N</th>\n",
       "    </tr>\n",
       "    <tr>\n",
       "      <th>treatment</th>\n",
       "      <th></th>\n",
       "      <th></th>\n",
       "      <th></th>\n",
       "    </tr>\n",
       "  </thead>\n",
       "  <tbody>\n",
       "    <tr>\n",
       "      <th>0</th>\n",
       "      <td>0.347</td>\n",
       "      <td>0.478</td>\n",
       "      <td>118</td>\n",
       "    </tr>\n",
       "    <tr>\n",
       "      <th>1</th>\n",
       "      <td>0.160</td>\n",
       "      <td>0.368</td>\n",
       "      <td>131</td>\n",
       "    </tr>\n",
       "  </tbody>\n",
       "</table>\n",
       "</div>"
      ],
      "text/plain": [
       "            mean    std    N\n",
       "treatment                   \n",
       "0          0.347  0.478  118\n",
       "1          0.160  0.368  131"
      ]
     },
     "execution_count": 23,
     "metadata": {},
     "output_type": "execute_result"
    }
   ],
   "source": [
    "# Outcomes by treatment\n",
    "\n",
    "# 1) Quit firm\n",
    "quitjobs\n"
   ]
  },
  {
   "cell_type": "code",
   "execution_count": 24,
   "metadata": {},
   "outputs": [
    {
     "data": {
      "text/html": [
       "<div>\n",
       "<style scoped>\n",
       "    .dataframe tbody tr th:only-of-type {\n",
       "        vertical-align: middle;\n",
       "    }\n",
       "\n",
       "    .dataframe tbody tr th {\n",
       "        vertical-align: top;\n",
       "    }\n",
       "\n",
       "    .dataframe thead th {\n",
       "        text-align: right;\n",
       "    }\n",
       "</style>\n",
       "<table border=\"1\" class=\"dataframe\">\n",
       "  <thead>\n",
       "    <tr style=\"text-align: right;\">\n",
       "      <th></th>\n",
       "      <th>mean</th>\n",
       "      <th>std</th>\n",
       "      <th>N</th>\n",
       "    </tr>\n",
       "    <tr>\n",
       "      <th>treatment</th>\n",
       "      <th></th>\n",
       "      <th></th>\n",
       "      <th></th>\n",
       "    </tr>\n",
       "  </thead>\n",
       "  <tbody>\n",
       "    <tr>\n",
       "      <th>0</th>\n",
       "      <td>10.06</td>\n",
       "      <td>6.10</td>\n",
       "      <td>66</td>\n",
       "    </tr>\n",
       "    <tr>\n",
       "      <th>1</th>\n",
       "      <td>14.10</td>\n",
       "      <td>5.31</td>\n",
       "      <td>68</td>\n",
       "    </tr>\n",
       "  </tbody>\n",
       "</table>\n",
       "</div>"
      ],
      "text/plain": [
       "            mean   std   N\n",
       "treatment                 \n",
       "0          10.06  6.10  66\n",
       "1          14.10  5.31  68"
      ]
     },
     "execution_count": 24,
     "metadata": {},
     "output_type": "execute_result"
    }
   ],
   "source": [
    "# 2) Phonecalls (ordertakers only)\n",
    "phonecalls1\n"
   ]
  },
  {
   "cell_type": "markdown",
   "metadata": {},
   "source": [
    "### Regression 1: ATE estimates, no covariates"
   ]
  },
  {
   "cell_type": "code",
   "execution_count": 25,
   "metadata": {},
   "outputs": [],
   "source": [
    "reg1 = smf.ols(formula=\"quitjob~treatment\", data=data).fit(cov_type=\"HC1\")\n",
    "reg2 = smf.ols(formula=\"phonecalls1~treatment\", data=data.query(\"ordertaker==1\")).fit(\n",
    "    cov_type=\"HC1\"\n",
    ")\n"
   ]
  },
  {
   "cell_type": "code",
   "execution_count": 26,
   "metadata": {},
   "outputs": [
    {
     "data": {
      "text/html": [
       "<table style=\"text-align:center\"><tr><td colspan=\"3\" style=\"border-bottom: 1px solid black\"></td></tr>\n",
       "<tr><td style=\"text-align:left\"></td><tr><td></td><td colspan=\"1\">Quit job</td><td colspan=\"1\">Phone calls (thousand)</td></tr><tr><td style=\"text-align:left\"></td><td>(1)</td><td>(2)</td></tr>\n",
       "<tr><td colspan=\"3\" style=\"border-bottom: 1px solid black\"></td></tr>\n",
       "\n",
       "<tr><td style=\"text-align:left\">Treatment group</td><td>-0.19<sup>***</sup></td><td>4.04<sup>***</sup></td></tr>\n",
       "<tr><td style=\"text-align:left\"></td><td>(0.05)</td><td>(0.99)</td></tr>\n",
       "<tr><td style=\"text-align:left\">Constant</td><td>0.35<sup>***</sup></td><td>10.06<sup>***</sup></td></tr>\n",
       "<tr><td style=\"text-align:left\"></td><td>(0.04)</td><td>(0.75)</td></tr>\n",
       "\n",
       "<td colspan=\"3\" style=\"border-bottom: 1px solid black\"></td></tr>\n",
       "<tr><td style=\"text-align: left\">Observations</td><td>249</td><td>134</td></tr><tr><td style=\"text-align: left\">R<sup>2</sup></td><td>0.05</td><td>0.11</td></tr><tr><td style=\"text-align: left\">Adjusted R<sup>2</sup></td><td>0.04</td><td>0.11</td></tr><tr><td style=\"text-align: left\">Residual Std. Error</td><td>0.42 (df=247)</td><td>5.71 (df=132)</td></tr><tr><td style=\"text-align: left\">F Statistic</td><td>11.78<sup>***</sup> (df=1; 247)</td><td>16.68<sup>***</sup> (df=1; 132)</td></tr>\n",
       "<tr><td colspan=\"3\" style=\"border-bottom: 1px solid black\"></td></tr><tr><td style=\"text-align: left\">Note:</td><td colspan=\"2\" style=\"text-align: right\"><sup>*</sup>p&lt;0.1; <sup>**</sup>p&lt;0.05; <sup>***</sup>p&lt;0.01</td></tr></table>"
      ],
      "text/plain": [
       "<IPython.core.display.HTML object>"
      ]
     },
     "execution_count": 26,
     "metadata": {},
     "output_type": "execute_result"
    }
   ],
   "source": [
    "stargazer = Stargazer([reg1, reg2])\n",
    "stargazer.rename_covariates({\"Intercept\": \"Constant\", \"treatment\": \"Treatment group\"})\n",
    "stargazer.significant_digits(2)\n",
    "stargazer.custom_columns([\"Quit job\", \"Phone calls (thousand)\"], [1, 1])\n",
    "stargazer.covariate_order([\"treatment\", \"Intercept\"])\n",
    "HTML(stargazer.render_html())"
   ]
  },
  {
   "cell_type": "markdown",
   "metadata": {},
   "source": [
    "### Regression 2: ATE estimates, with covariates of some unbalance"
   ]
  },
  {
   "cell_type": "code",
   "execution_count": 27,
   "metadata": {},
   "outputs": [],
   "source": [
    "reg3 = smf.ols(\n",
    "    formula=\"quitjob ~ treatment + married + children + internet\", data=data\n",
    ").fit(cov_type=\"HC1\")\n",
    "reg4 = smf.ols(\n",
    "    formula=\"phonecalls1 ~ treatment + married + children\",\n",
    "    data=data.query(\"ordertaker==1\"),\n",
    ").fit(cov_type=\"HC1\")\n"
   ]
  },
  {
   "cell_type": "code",
   "execution_count": 28,
   "metadata": {},
   "outputs": [
    {
     "data": {
      "text/html": [
       "<table style=\"text-align:center\"><tr><td colspan=\"3\" style=\"border-bottom: 1px solid black\"></td></tr>\n",
       "<tr><td style=\"text-align:left\"></td><tr><td></td><td colspan=\"1\">Quit job</td><td colspan=\"1\">Phone calls (thousand)</td></tr><tr><td style=\"text-align:left\"></td><td>(1)</td><td>(2)</td></tr>\n",
       "<tr><td colspan=\"3\" style=\"border-bottom: 1px solid black\"></td></tr>\n",
       "\n",
       "<tr><td style=\"text-align:left\">Treatment group</td><td>-0.19<sup>***</sup></td><td>4.06<sup>***</sup></td></tr>\n",
       "<tr><td style=\"text-align:left\"></td><td>(0.06)</td><td>(0.96)</td></tr>\n",
       "<tr><td style=\"text-align:left\">Married</td><td>-0.13<sup>*</sup></td><td>-5.44<sup>**</sup></td></tr>\n",
       "<tr><td style=\"text-align:left\"></td><td>(0.07)</td><td>(2.17)</td></tr>\n",
       "<tr><td style=\"text-align:left\">Children</td><td>0.11<sup></sup></td><td>3.87<sup></sup></td></tr>\n",
       "<tr><td style=\"text-align:left\"></td><td>(0.10)</td><td>(2.41)</td></tr>\n",
       "<tr><td style=\"text-align:left\">Internet at home</td><td>0.18<sup>***</sup></td><td></td></tr>\n",
       "<tr><td style=\"text-align:left\"></td><td>(0.04)</td><td></td></tr>\n",
       "<tr><td style=\"text-align:left\">Constant</td><td>0.19<sup>***</sup></td><td>10.65<sup>***</sup></td></tr>\n",
       "<tr><td style=\"text-align:left\"></td><td>(0.06)</td><td>(0.76)</td></tr>\n",
       "\n",
       "<td colspan=\"3\" style=\"border-bottom: 1px solid black\"></td></tr>\n",
       "<tr><td style=\"text-align: left\">Observations</td><td>249</td><td>134</td></tr><tr><td style=\"text-align: left\">R<sup>2</sup></td><td>0.05</td><td>0.17</td></tr><tr><td style=\"text-align: left\">Adjusted R<sup>2</sup></td><td>0.04</td><td>0.15</td></tr><tr><td style=\"text-align: left\">Residual Std. Error</td><td>0.42 (df=244)</td><td>5.57 (df=130)</td></tr><tr><td style=\"text-align: left\">F Statistic</td><td>21.76<sup>***</sup> (df=4; 244)</td><td>9.14<sup>***</sup> (df=3; 130)</td></tr>\n",
       "<tr><td colspan=\"3\" style=\"border-bottom: 1px solid black\"></td></tr><tr><td style=\"text-align: left\">Note:</td><td colspan=\"2\" style=\"text-align: right\"><sup>*</sup>p&lt;0.1; <sup>**</sup>p&lt;0.05; <sup>***</sup>p&lt;0.01</td></tr></table>"
      ],
      "text/plain": [
       "<IPython.core.display.HTML object>"
      ]
     },
     "execution_count": 28,
     "metadata": {},
     "output_type": "execute_result"
    }
   ],
   "source": [
    "stargazer = Stargazer([reg3, reg4])\n",
    "stargazer.custom_columns([\"Quit job\", \"Phone calls (thousand)\"], [1, 1])\n",
    "stargazer.significant_digits(2)\n",
    "stargazer.rename_covariates(\n",
    "    {\n",
    "        \"Intercept\": \"Constant\",\n",
    "        \"treatment\": \"Treatment group\",\n",
    "        \"married\": \"Married\",\n",
    "        \"children\": \"Children\",\n",
    "        \"internet\": \"Internet at home\",\n",
    "    }\n",
    ")\n",
    "stargazer.covariate_order([\"treatment\", \"married\", \"children\", \"internet\", \"Intercept\"])\n",
    "HTML(stargazer.render_html())"
   ]
  },
  {
   "cell_type": "code",
   "execution_count": null,
   "metadata": {},
   "outputs": [],
   "source": []
  }
 ],
 "metadata": {
  "kernelspec": {
   "display_name": "daenv",
   "language": "python",
   "name": "python3"
  },
  "language_info": {
   "codemirror_mode": {
    "name": "ipython",
    "version": 3
   },
   "file_extension": ".py",
   "mimetype": "text/x-python",
   "name": "python",
   "nbconvert_exporter": "python",
   "pygments_lexer": "ipython3",
   "version": "3.12.4"
  }
 },
 "nbformat": 4,
 "nbformat_minor": 4
}
