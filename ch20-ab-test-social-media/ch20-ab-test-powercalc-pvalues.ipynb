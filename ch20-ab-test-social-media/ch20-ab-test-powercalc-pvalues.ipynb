{
 "cells": [
  {
   "cell_type": "markdown",
   "metadata": {},
   "source": [
    "#### Prepared for Gabor's Data Analysis\n",
    "\n",
    "### Data Analysis for Business, Economics, and Policy\n",
    "by Gabor Bekes and  Gabor Kezdi\n",
    " \n",
    "Cambridge University Press 2021\n",
    "\n",
    "**[gabors-data-analysis.com ](https://gabors-data-analysis.com/)**\n",
    "\n",
    " License: Free to share, modify and use for educational purposes. \n",
    " Not to be used for commercial purposes.\n",
    "\n",
    "\n",
    "### CHAPTER 20\n",
    "\n",
    "**CH20B Fine tuning social media advertising**\n",
    "\n",
    "using the ab-test-social-media dataset\n",
    "\n",
    "version 1.0 2021-05-05"
   ]
  },
  {
   "cell_type": "code",
   "execution_count": 1,
   "metadata": {},
   "outputs": [],
   "source": [
    "import os\n",
    "import sys\n",
    "import warnings\n",
    "\n",
    "import numpy as np\n",
    "import pandas as pd\n",
    "import statsmodels.formula.api as smf\n",
    "import statsmodels.stats.api as sms\n",
    "from scipy.stats import ttest_ind\n",
    "from statsmodels.stats.power import TTestIndPower\n",
    "\n",
    "warnings.filterwarnings(\"ignore\")\n"
   ]
  },
  {
   "cell_type": "code",
   "execution_count": 2,
   "metadata": {},
   "outputs": [],
   "source": [
    "# Current script folder\n",
    "current_path = os.getcwd()\n",
    "dirname = current_path.split(\"da_case_studies\")[0]\n",
    "\n",
    "# location folders\n",
    "data_in = dirname + \"da_data_repo/ab-test-social-media/clean\"\n",
    "data_out = dirname + \"da_case_studies/ch20-ab-test-social-media/\"\n",
    "output = dirname + \"da_case_studies/ch20-ab-test-social-media/output/\"\n",
    "\n",
    "func = dirname + \"da_case_studies/ch00-tech-prep/\"\n",
    "sys.path.append(func)\n"
   ]
  },
  {
   "cell_type": "markdown",
   "metadata": {},
   "source": [
    "## Part I"
   ]
  },
  {
   "cell_type": "markdown",
   "metadata": {},
   "source": [
    "sample size calculation\n",
    "\n",
    "sample size calculation with planned rates"
   ]
  },
  {
   "cell_type": "code",
   "execution_count": 3,
   "metadata": {},
   "outputs": [
    {
     "data": {
      "text/plain": [
       "1722229.753552455"
      ]
     },
     "execution_count": 3,
     "metadata": {},
     "output_type": "execute_result"
    }
   ],
   "source": [
    "clickthrough = 0.01\n",
    "\n",
    "conversion = 0.05\n",
    "\n",
    "proportionA = clickthrough * conversion\n",
    "\n",
    "proportionB = proportionA * 1.2\n",
    "\n",
    "es = sms.proportion_effectsize(proportionA, proportionB)\n",
    "# es = proportionB - proportionA\n",
    "TTestIndPower().solve_power(es, power=0.8, alpha=0.05) * 2\n"
   ]
  },
  {
   "cell_type": "code",
   "execution_count": 4,
   "metadata": {},
   "outputs": [
    {
     "data": {
      "text/plain": [
       "32833931.07283028"
      ]
     },
     "execution_count": 4,
     "metadata": {},
     "output_type": "execute_result"
    }
   ],
   "source": [
    "clickthrough = 0.0032\n",
    "\n",
    "conversion = 0.0082\n",
    "\n",
    "proportionA = clickthrough * conversion\n",
    "\n",
    "proportionB = proportionA * 1.2\n",
    "\n",
    "es = sms.proportion_effectsize(proportionA, proportionB)\n",
    "# es = proportionB - proportionA\n",
    "TTestIndPower().solve_power(es, power=0.8, alpha=0.05) * 2\n"
   ]
  },
  {
   "cell_type": "markdown",
   "metadata": {},
   "source": [
    "## Part II\n",
    "\n",
    "p-value of tests"
   ]
  },
  {
   "cell_type": "code",
   "execution_count": 5,
   "metadata": {},
   "outputs": [],
   "source": [
    "summary_data = pd.read_excel(data_in + \"/ab-test-summary.xlsx\").set_index(\"action_type\")\n",
    "# summary_data = pd.read_excel(\"https://osf.io/download/mhybr/\").set_index(\"action_type\")\n"
   ]
  },
  {
   "cell_type": "code",
   "execution_count": 6,
   "metadata": {},
   "outputs": [
    {
     "data": {
      "text/html": [
       "<div>\n",
       "<style scoped>\n",
       "    .dataframe tbody tr th:only-of-type {\n",
       "        vertical-align: middle;\n",
       "    }\n",
       "\n",
       "    .dataframe tbody tr th {\n",
       "        vertical-align: top;\n",
       "    }\n",
       "\n",
       "    .dataframe thead th {\n",
       "        text-align: right;\n",
       "    }\n",
       "</style>\n",
       "<table border=\"1\" class=\"dataframe\">\n",
       "  <thead>\n",
       "    <tr style=\"text-align: right;\">\n",
       "      <th></th>\n",
       "      <th>show</th>\n",
       "      <th>clicks</th>\n",
       "      <th>action</th>\n",
       "    </tr>\n",
       "    <tr>\n",
       "      <th>action_type</th>\n",
       "      <th></th>\n",
       "      <th></th>\n",
       "      <th></th>\n",
       "    </tr>\n",
       "  </thead>\n",
       "  <tbody>\n",
       "    <tr>\n",
       "      <th>Action A</th>\n",
       "      <td>1000000</td>\n",
       "      <td>3323</td>\n",
       "      <td>32</td>\n",
       "    </tr>\n",
       "    <tr>\n",
       "      <th>Action B</th>\n",
       "      <td>1000000</td>\n",
       "      <td>3128</td>\n",
       "      <td>21</td>\n",
       "    </tr>\n",
       "  </tbody>\n",
       "</table>\n",
       "</div>"
      ],
      "text/plain": [
       "                show  clicks  action\n",
       "action_type                         \n",
       "Action A     1000000    3323      32\n",
       "Action B     1000000    3128      21"
      ]
     },
     "execution_count": 6,
     "metadata": {},
     "output_type": "execute_result"
    }
   ],
   "source": [
    "summary_data\n"
   ]
  },
  {
   "cell_type": "code",
   "execution_count": 7,
   "metadata": {},
   "outputs": [],
   "source": [
    "data = pd.DataFrame(0, columns=[\"type_b\", \"clicks\", \"action\"], index=range(0, 2000000))\n",
    "\n",
    "data.loc[0:999999, \"type_b\"] = 1\n",
    "\n",
    "data.loc[0 : summary_data.loc[\"Action A\", \"clicks\"] - 1, \"clicks\"] = 1\n",
    "data.loc[1000000 : 1000000 + summary_data.loc[\"Action B\", \"clicks\"] - 1, \"clicks\"] = 1\n",
    "data.loc[0 : summary_data.loc[\"Action A\", \"action\"] - 1, \"action\"] = 1\n",
    "data.loc[1000000 : 1000000 + summary_data.loc[\"Action B\", \"action\"] - 1, \"action\"] = 1\n"
   ]
  },
  {
   "cell_type": "code",
   "execution_count": 8,
   "metadata": {},
   "outputs": [
    {
     "data": {
      "text/html": [
       "<div>\n",
       "<style scoped>\n",
       "    .dataframe tbody tr th:only-of-type {\n",
       "        vertical-align: middle;\n",
       "    }\n",
       "\n",
       "    .dataframe tbody tr th {\n",
       "        vertical-align: top;\n",
       "    }\n",
       "\n",
       "    .dataframe thead th {\n",
       "        text-align: right;\n",
       "    }\n",
       "</style>\n",
       "<table border=\"1\" class=\"dataframe\">\n",
       "  <thead>\n",
       "    <tr style=\"text-align: right;\">\n",
       "      <th></th>\n",
       "      <th></th>\n",
       "      <th>action</th>\n",
       "    </tr>\n",
       "    <tr>\n",
       "      <th>type_b</th>\n",
       "      <th>clicks</th>\n",
       "      <th></th>\n",
       "    </tr>\n",
       "  </thead>\n",
       "  <tbody>\n",
       "    <tr>\n",
       "      <th rowspan=\"2\" valign=\"top\">0</th>\n",
       "      <th>0</th>\n",
       "      <td>996872</td>\n",
       "    </tr>\n",
       "    <tr>\n",
       "      <th>1</th>\n",
       "      <td>3128</td>\n",
       "    </tr>\n",
       "    <tr>\n",
       "      <th rowspan=\"2\" valign=\"top\">1</th>\n",
       "      <th>0</th>\n",
       "      <td>996677</td>\n",
       "    </tr>\n",
       "    <tr>\n",
       "      <th>1</th>\n",
       "      <td>3323</td>\n",
       "    </tr>\n",
       "  </tbody>\n",
       "</table>\n",
       "</div>"
      ],
      "text/plain": [
       "               action\n",
       "type_b clicks        \n",
       "0      0       996872\n",
       "       1         3128\n",
       "1      0       996677\n",
       "       1         3323"
      ]
     },
     "execution_count": 8,
     "metadata": {},
     "output_type": "execute_result"
    }
   ],
   "source": [
    "data.groupby([\"type_b\", \"clicks\"]).count()\n"
   ]
  },
  {
   "cell_type": "code",
   "execution_count": 9,
   "metadata": {
    "scrolled": true
   },
   "outputs": [
    {
     "data": {
      "text/html": [
       "<div>\n",
       "<style scoped>\n",
       "    .dataframe tbody tr th:only-of-type {\n",
       "        vertical-align: middle;\n",
       "    }\n",
       "\n",
       "    .dataframe tbody tr th {\n",
       "        vertical-align: top;\n",
       "    }\n",
       "\n",
       "    .dataframe thead th {\n",
       "        text-align: right;\n",
       "    }\n",
       "</style>\n",
       "<table border=\"1\" class=\"dataframe\">\n",
       "  <thead>\n",
       "    <tr style=\"text-align: right;\">\n",
       "      <th></th>\n",
       "      <th></th>\n",
       "      <th>clicks</th>\n",
       "    </tr>\n",
       "    <tr>\n",
       "      <th>type_b</th>\n",
       "      <th>action</th>\n",
       "      <th></th>\n",
       "    </tr>\n",
       "  </thead>\n",
       "  <tbody>\n",
       "    <tr>\n",
       "      <th rowspan=\"2\" valign=\"top\">0</th>\n",
       "      <th>0</th>\n",
       "      <td>999979</td>\n",
       "    </tr>\n",
       "    <tr>\n",
       "      <th>1</th>\n",
       "      <td>21</td>\n",
       "    </tr>\n",
       "    <tr>\n",
       "      <th rowspan=\"2\" valign=\"top\">1</th>\n",
       "      <th>0</th>\n",
       "      <td>999968</td>\n",
       "    </tr>\n",
       "    <tr>\n",
       "      <th>1</th>\n",
       "      <td>32</td>\n",
       "    </tr>\n",
       "  </tbody>\n",
       "</table>\n",
       "</div>"
      ],
      "text/plain": [
       "               clicks\n",
       "type_b action        \n",
       "0      0       999979\n",
       "       1           21\n",
       "1      0       999968\n",
       "       1           32"
      ]
     },
     "execution_count": 9,
     "metadata": {},
     "output_type": "execute_result"
    }
   ],
   "source": [
    "data.groupby([\"type_b\", \"action\"]).count()\n"
   ]
  },
  {
   "cell_type": "code",
   "execution_count": 10,
   "metadata": {},
   "outputs": [
    {
     "data": {
      "text/html": [
       "<table class=\"simpletable\">\n",
       "<caption>OLS Regression Results</caption>\n",
       "<tr>\n",
       "  <th>Dep. Variable:</th>         <td>clicks</td>      <th>  R-squared:         </th>  <td>   0.000</td> \n",
       "</tr>\n",
       "<tr>\n",
       "  <th>Model:</th>                   <td>OLS</td>       <th>  Adj. R-squared:    </th>  <td>   0.000</td> \n",
       "</tr>\n",
       "<tr>\n",
       "  <th>Method:</th>             <td>Least Squares</td>  <th>  F-statistic:       </th>  <td>   5.914</td> \n",
       "</tr>\n",
       "<tr>\n",
       "  <th>Date:</th>             <td>Wed, 05 Oct 2022</td> <th>  Prob (F-statistic):</th>   <td>0.0150</td>  \n",
       "</tr>\n",
       "<tr>\n",
       "  <th>Time:</th>                 <td>18:09:56</td>     <th>  Log-Likelihood:    </th> <td>2.9020e+06</td>\n",
       "</tr>\n",
       "<tr>\n",
       "  <th>No. Observations:</th>      <td>2000000</td>     <th>  AIC:               </th> <td>-5.804e+06</td>\n",
       "</tr>\n",
       "<tr>\n",
       "  <th>Df Residuals:</th>          <td>1999998</td>     <th>  BIC:               </th> <td>-5.804e+06</td>\n",
       "</tr>\n",
       "<tr>\n",
       "  <th>Df Model:</th>              <td>     1</td>      <th>                     </th>      <td> </td>    \n",
       "</tr>\n",
       "<tr>\n",
       "  <th>Covariance Type:</th>         <td>HC0</td>       <th>                     </th>      <td> </td>    \n",
       "</tr>\n",
       "</table>\n",
       "<table class=\"simpletable\">\n",
       "<tr>\n",
       "      <td></td>         <th>coef</th>     <th>std err</th>      <th>z</th>      <th>P>|z|</th>  <th>[0.025</th>    <th>0.975]</th>  \n",
       "</tr>\n",
       "<tr>\n",
       "  <th>Intercept</th> <td>    0.0031</td> <td> 5.58e-05</td> <td>   56.016</td> <td> 0.000</td> <td>    0.003</td> <td>    0.003</td>\n",
       "</tr>\n",
       "<tr>\n",
       "  <th>type_b</th>    <td>    0.0002</td> <td> 8.02e-05</td> <td>    2.432</td> <td> 0.015</td> <td> 3.78e-05</td> <td>    0.000</td>\n",
       "</tr>\n",
       "</table>\n",
       "<table class=\"simpletable\">\n",
       "<tr>\n",
       "  <th>Omnibus:</th>       <td>4075093.883</td> <th>  Durbin-Watson:     </th>    <td>   0.000</td>   \n",
       "</tr>\n",
       "<tr>\n",
       "  <th>Prob(Omnibus):</th>   <td> 0.000</td>    <th>  Jarque-Bera (JB):  </th> <td>7855996717.433</td>\n",
       "</tr>\n",
       "<tr>\n",
       "  <th>Skew:</th>            <td>17.522</td>    <th>  Prob(JB):          </th>    <td>    0.00</td>   \n",
       "</tr>\n",
       "<tr>\n",
       "  <th>Kurtosis:</th>        <td>308.031</td>   <th>  Cond. No.          </th>    <td>    2.62</td>   \n",
       "</tr>\n",
       "</table><br/><br/>Notes:<br/>[1] Standard Errors are heteroscedasticity robust (HC0)"
      ],
      "text/plain": [
       "<class 'statsmodels.iolib.summary.Summary'>\n",
       "\"\"\"\n",
       "                            OLS Regression Results                            \n",
       "==============================================================================\n",
       "Dep. Variable:                 clicks   R-squared:                       0.000\n",
       "Model:                            OLS   Adj. R-squared:                  0.000\n",
       "Method:                 Least Squares   F-statistic:                     5.914\n",
       "Date:                Wed, 05 Oct 2022   Prob (F-statistic):             0.0150\n",
       "Time:                        18:09:56   Log-Likelihood:             2.9020e+06\n",
       "No. Observations:             2000000   AIC:                        -5.804e+06\n",
       "Df Residuals:                 1999998   BIC:                        -5.804e+06\n",
       "Df Model:                           1                                         \n",
       "Covariance Type:                  HC0                                         \n",
       "==============================================================================\n",
       "                 coef    std err          z      P>|z|      [0.025      0.975]\n",
       "------------------------------------------------------------------------------\n",
       "Intercept      0.0031   5.58e-05     56.016      0.000       0.003       0.003\n",
       "type_b         0.0002   8.02e-05      2.432      0.015    3.78e-05       0.000\n",
       "==============================================================================\n",
       "Omnibus:                  4075093.883   Durbin-Watson:                   0.000\n",
       "Prob(Omnibus):                  0.000   Jarque-Bera (JB):       7855996717.433\n",
       "Skew:                          17.522   Prob(JB):                         0.00\n",
       "Kurtosis:                     308.031   Cond. No.                         2.62\n",
       "==============================================================================\n",
       "\n",
       "Notes:\n",
       "[1] Standard Errors are heteroscedasticity robust (HC0)\n",
       "\"\"\""
      ]
     },
     "execution_count": 10,
     "metadata": {},
     "output_type": "execute_result"
    }
   ],
   "source": [
    "smf.ols(\"clicks ~ 1 + type_b\", data).fit(cov_type=\"HC0\").summary()\n"
   ]
  },
  {
   "cell_type": "code",
   "execution_count": 11,
   "metadata": {},
   "outputs": [
    {
     "data": {
      "text/html": [
       "<table class=\"simpletable\">\n",
       "<caption>OLS Regression Results</caption>\n",
       "<tr>\n",
       "  <th>Dep. Variable:</th>         <td>action</td>      <th>  R-squared:         </th>  <td>   0.000</td> \n",
       "</tr>\n",
       "<tr>\n",
       "  <th>Model:</th>                   <td>OLS</td>       <th>  Adj. R-squared:    </th>  <td>   0.000</td> \n",
       "</tr>\n",
       "<tr>\n",
       "  <th>Method:</th>             <td>Least Squares</td>  <th>  F-statistic:       </th>  <td>   2.283</td> \n",
       "</tr>\n",
       "<tr>\n",
       "  <th>Date:</th>             <td>Wed, 05 Oct 2022</td> <th>  Prob (F-statistic):</th>   <td> 0.131</td>  \n",
       "</tr>\n",
       "<tr>\n",
       "  <th>Time:</th>                 <td>18:09:57</td>     <th>  Log-Likelihood:    </th> <td>7.7005e+06</td>\n",
       "</tr>\n",
       "<tr>\n",
       "  <th>No. Observations:</th>      <td>2000000</td>     <th>  AIC:               </th> <td>-1.540e+07</td>\n",
       "</tr>\n",
       "<tr>\n",
       "  <th>Df Residuals:</th>          <td>1999998</td>     <th>  BIC:               </th> <td>-1.540e+07</td>\n",
       "</tr>\n",
       "<tr>\n",
       "  <th>Df Model:</th>              <td>     1</td>      <th>                     </th>      <td> </td>    \n",
       "</tr>\n",
       "<tr>\n",
       "  <th>Covariance Type:</th>         <td>HC0</td>       <th>                     </th>      <td> </td>    \n",
       "</tr>\n",
       "</table>\n",
       "<table class=\"simpletable\">\n",
       "<tr>\n",
       "      <td></td>         <th>coef</th>     <th>std err</th>      <th>z</th>      <th>P>|z|</th>  <th>[0.025</th>    <th>0.975]</th>  \n",
       "</tr>\n",
       "<tr>\n",
       "  <th>Intercept</th> <td>   2.1e-05</td> <td> 4.58e-06</td> <td>    4.583</td> <td> 0.000</td> <td>  1.2e-05</td> <td>    3e-05</td>\n",
       "</tr>\n",
       "<tr>\n",
       "  <th>type_b</th>    <td>   1.1e-05</td> <td> 7.28e-06</td> <td>    1.511</td> <td> 0.131</td> <td>-3.27e-06</td> <td> 2.53e-05</td>\n",
       "</tr>\n",
       "</table>\n",
       "<table class=\"simpletable\">\n",
       "<tr>\n",
       "  <th>Omnibus:</th>       <td>9693574.572</td> <th>  Durbin-Watson:     </th>      <td>   0.057</td>      \n",
       "</tr>\n",
       "<tr>\n",
       "  <th>Prob(Omnibus):</th>   <td> 0.000</td>    <th>  Jarque-Bera (JB):  </th> <td>118646783578266.656</td>\n",
       "</tr>\n",
       "<tr>\n",
       "  <th>Skew:</th>            <td>194.249</td>   <th>  Prob(JB):          </th>      <td>    0.00</td>      \n",
       "</tr>\n",
       "<tr>\n",
       "  <th>Kurtosis:</th>       <td>37733.763</td>  <th>  Cond. No.          </th>      <td>    2.62</td>      \n",
       "</tr>\n",
       "</table><br/><br/>Notes:<br/>[1] Standard Errors are heteroscedasticity robust (HC0)"
      ],
      "text/plain": [
       "<class 'statsmodels.iolib.summary.Summary'>\n",
       "\"\"\"\n",
       "                            OLS Regression Results                            \n",
       "==============================================================================\n",
       "Dep. Variable:                 action   R-squared:                       0.000\n",
       "Model:                            OLS   Adj. R-squared:                  0.000\n",
       "Method:                 Least Squares   F-statistic:                     2.283\n",
       "Date:                Wed, 05 Oct 2022   Prob (F-statistic):              0.131\n",
       "Time:                        18:09:57   Log-Likelihood:             7.7005e+06\n",
       "No. Observations:             2000000   AIC:                        -1.540e+07\n",
       "Df Residuals:                 1999998   BIC:                        -1.540e+07\n",
       "Df Model:                           1                                         \n",
       "Covariance Type:                  HC0                                         \n",
       "==============================================================================\n",
       "                 coef    std err          z      P>|z|      [0.025      0.975]\n",
       "------------------------------------------------------------------------------\n",
       "Intercept     2.1e-05   4.58e-06      4.583      0.000     1.2e-05       3e-05\n",
       "type_b        1.1e-05   7.28e-06      1.511      0.131   -3.27e-06    2.53e-05\n",
       "===============================================================================\n",
       "Omnibus:                  9693574.572   Durbin-Watson:                    0.057\n",
       "Prob(Omnibus):                  0.000   Jarque-Bera (JB):   118646783578266.656\n",
       "Skew:                         194.249   Prob(JB):                          0.00\n",
       "Kurtosis:                   37733.763   Cond. No.                          2.62\n",
       "===============================================================================\n",
       "\n",
       "Notes:\n",
       "[1] Standard Errors are heteroscedasticity robust (HC0)\n",
       "\"\"\""
      ]
     },
     "execution_count": 11,
     "metadata": {},
     "output_type": "execute_result"
    }
   ],
   "source": [
    "smf.ols(\"action ~ 1 + type_b\", data).fit(cov_type=\"HC0\").summary()\n"
   ]
  },
  {
   "cell_type": "code",
   "execution_count": null,
   "metadata": {},
   "outputs": [],
   "source": []
  }
 ],
 "metadata": {
  "kernelspec": {
   "display_name": "da_case_studies-4lQ4EmNL",
   "language": "python",
   "name": "python3"
  },
  "language_info": {
   "codemirror_mode": {
    "name": "ipython",
    "version": 3
   },
   "file_extension": ".py",
   "mimetype": "text/x-python",
   "name": "python",
   "nbconvert_exporter": "python",
   "pygments_lexer": "ipython3",
   "version": "3.8.10"
  }
 },
 "nbformat": 4,
 "nbformat_minor": 4
}
