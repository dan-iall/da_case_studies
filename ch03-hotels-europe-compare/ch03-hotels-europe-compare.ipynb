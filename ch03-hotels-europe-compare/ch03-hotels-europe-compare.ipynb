{
 "cells": [
  {
   "cell_type": "markdown",
   "metadata": {},
   "source": [
    "#### Prepared for Gabor's Data Analysis\n",
    "\n",
    "### Data Analysis for Business, Economics, and Policy\n",
    "by Gabor Bekes and  Gabor Kezdi\n",
    " \n",
    "Cambridge University Press 2021\n",
    "\n",
    "**[gabors-data-analysis.com ](https://gabors-data-analysis.com/)**\n",
    "\n",
    " License: Free to share, modify and use for educational purposes. \n",
    " Not to be used for commercial purposes.\n",
    "\n",
    "### Chapter 03\n",
    "**CH03B Comparing hotel prices in Europe: Vienna vs. London**\n",
    "\n",
    "using the hotels-europe dataset\n",
    "\n",
    "version 1.0 2021-05-05"
   ]
  },
  {
   "cell_type": "code",
   "execution_count": 1,
   "metadata": {},
   "outputs": [],
   "source": [
    "import os\n",
    "import sys\n",
    "import warnings\n",
    "\n",
    "import mizani\n",
    "import numpy as np\n",
    "import pandas as pd\n",
    "from plotnine import *\n",
    "import seaborn as sns\n",
    "from matplotlib.ticker import PercentFormatter\n",
    "import matplotlib.pyplot as plt\n",
    "\n",
    "warnings.filterwarnings(\"ignore\")"
   ]
  },
  {
   "cell_type": "code",
   "execution_count": 2,
   "metadata": {},
   "outputs": [],
   "source": [
    "# Current script folder\n",
    "current_path = os.getcwd()\n",
    "dirname = current_path.split(\"da_case_studies\")[0]\n",
    "\n",
    "# location folders\n",
    "data_in = dirname + \"da_data_repo/hotels-europe/clean/\"\n",
    "data_out = dirname + \"da_case_studies/ch03-hotels-europe-compare/\"\n",
    "output = dirname + \"da_case_studies/ch03-hotels-europe-compare/output/\"\n",
    "func = dirname + \"da_case_studies/ch00-tech-prep/\"\n",
    "sys.path.append(func)"
   ]
  },
  {
   "cell_type": "code",
   "execution_count": 3,
   "metadata": {},
   "outputs": [],
   "source": [
    "# Import the prewritten helper functions\n",
    "import py_helper_functions as da\n",
    "sns.set_theme(rc=da.da_theme, palette=da.color)"
   ]
  },
  {
   "cell_type": "markdown",
   "metadata": {},
   "source": [
    "#### Load in clean and tidy data and create workfile"
   ]
  },
  {
   "cell_type": "code",
   "execution_count": 4,
   "metadata": {},
   "outputs": [],
   "source": [
    "hotels_europe_price = pd.read_csv(data_in + \"hotels-europe_price.csv\")\n",
    "#hotels_europe_price = pd.read_csv(\"https://osf.io/download/p6tyr/\")\n",
    "hotels_europe_features = pd.read_csv(data_in + \"hotels-europe_features.csv\")\n",
    "#hotels_europe_features = pd.read_csv(\"https://osf.io/download/utwjs/\")\n"
   ]
  },
  {
   "cell_type": "code",
   "execution_count": 5,
   "metadata": {},
   "outputs": [],
   "source": [
    "hotels_europe = pd.merge(\n",
    "    hotels_europe_price, hotels_europe_features, how=\"left\", on=\"hotel_id\"\n",
    ")\n",
    "del hotels_europe_price\n",
    "del hotels_europe_features"
   ]
  },
  {
   "cell_type": "markdown",
   "metadata": {},
   "source": [
    "#### Filter for same Vienna data we used + London same date"
   ]
  },
  {
   "cell_type": "code",
   "execution_count": 6,
   "metadata": {},
   "outputs": [],
   "source": [
    "hotels_europe_cut = hotels_europe.loc[\n",
    "    (hotels_europe[\"year\"] == 2017)\n",
    "    & (hotels_europe[\"month\"] == 11)\n",
    "    & (hotels_europe[\"weekend\"] == 0)\n",
    "    & (hotels_europe[\"city\"].isin([\"Vienna\", \"London\"]))\n",
    "    & (hotels_europe[\"accommodation_type\"] == \"Hotel\")\n",
    "    & (hotels_europe[\"stars\"] >= 3)\n",
    "    & (hotels_europe[\"stars\"] <= 4)\n",
    "    & (hotels_europe[\"stars\"].notna())\n",
    "    & (hotels_europe[\"city_actual\"].isin([\"Vienna\", \"London\"]))\n",
    "    & (hotels_europe[\"price\"] <= 600)\n",
    "]"
   ]
  },
  {
   "cell_type": "code",
   "execution_count": 7,
   "metadata": {},
   "outputs": [
    {
     "data": {
      "text/plain": [
       "491"
      ]
     },
     "execution_count": 7,
     "metadata": {},
     "output_type": "execute_result"
    }
   ],
   "source": [
    "hotels_europe_cut.price.max()"
   ]
  },
  {
   "cell_type": "code",
   "execution_count": 8,
   "metadata": {},
   "outputs": [
    {
     "data": {
      "application/vnd.microsoft.datawrangler.viewer.v0+json": {
       "columns": [
        {
         "name": "city",
         "rawType": "object",
         "type": "string"
        },
        {
         "name": "mean_price",
         "rawType": "float64",
         "type": "float"
        },
        {
         "name": "max",
         "rawType": "int64",
         "type": "integer"
        },
        {
         "name": "n",
         "rawType": "int64",
         "type": "integer"
        }
       ],
       "conversionMethod": "pd.DataFrame",
       "ref": "a1729954-57d1-46dc-a05e-c397fe39328e",
       "rows": [
        [
         "London",
         "202.35632183908046",
         "491",
         "435"
        ],
        [
         "Vienna",
         "109.97584541062803",
         "383",
         "207"
        ]
       ],
       "shape": {
        "columns": 3,
        "rows": 2
       }
      },
      "text/html": [
       "<div>\n",
       "<style scoped>\n",
       "    .dataframe tbody tr th:only-of-type {\n",
       "        vertical-align: middle;\n",
       "    }\n",
       "\n",
       "    .dataframe tbody tr th {\n",
       "        vertical-align: top;\n",
       "    }\n",
       "\n",
       "    .dataframe thead th {\n",
       "        text-align: right;\n",
       "    }\n",
       "</style>\n",
       "<table border=\"1\" class=\"dataframe\">\n",
       "  <thead>\n",
       "    <tr style=\"text-align: right;\">\n",
       "      <th></th>\n",
       "      <th>mean_price</th>\n",
       "      <th>max</th>\n",
       "      <th>n</th>\n",
       "    </tr>\n",
       "    <tr>\n",
       "      <th>city</th>\n",
       "      <th></th>\n",
       "      <th></th>\n",
       "      <th></th>\n",
       "    </tr>\n",
       "  </thead>\n",
       "  <tbody>\n",
       "    <tr>\n",
       "      <th>London</th>\n",
       "      <td>202.356322</td>\n",
       "      <td>491</td>\n",
       "      <td>435</td>\n",
       "    </tr>\n",
       "    <tr>\n",
       "      <th>Vienna</th>\n",
       "      <td>109.975845</td>\n",
       "      <td>383</td>\n",
       "      <td>207</td>\n",
       "    </tr>\n",
       "  </tbody>\n",
       "</table>\n",
       "</div>"
      ],
      "text/plain": [
       "        mean_price  max    n\n",
       "city                        \n",
       "London  202.356322  491  435\n",
       "Vienna  109.975845  383  207"
      ]
     },
     "execution_count": 8,
     "metadata": {},
     "output_type": "execute_result"
    }
   ],
   "source": [
    "hotels_europe_cut.groupby(\"city\").agg(\n",
    "    mean_price=(\"price\", \"mean\"), max=(\"price\", \"max\"), n=(\"price\", \"size\")\n",
    ")"
   ]
  },
  {
   "cell_type": "markdown",
   "metadata": {},
   "source": [
    "### Figure 3.6 The distribution of hotel price in Vienna and London"
   ]
  },
  {
   "cell_type": "code",
   "execution_count": 9,
   "metadata": {},
   "outputs": [],
   "source": [
    "hotels_vienna = hotels_europe_cut[hotels_europe_cut[\"city\"] == \"Vienna\"]\n"
   ]
  },
  {
   "cell_type": "code",
   "execution_count": 10,
   "metadata": {},
   "outputs": [
    {
     "data": {
      "image/png": "[encoded data removed]",
      "text/plain": [
       "<Figure size 700x550 with 1 Axes>"
      ]
     },
     "metadata": {},
     "output_type": "display_data"
    },
    {
     "data": {
      "text/plain": [
       "<Figure size 1000x600 with 0 Axes>"
      ]
     },
     "metadata": {},
     "output_type": "display_data"
    }
   ],
   "source": [
    "\n",
    "sns.histplot(\n",
    "    data= hotels_vienna,\n",
    "    x=hotels_vienna[\"price\"],\n",
    "    stat=\"probability\",  \n",
    "    binwidth=20,\n",
    "    color=da.color[0],\n",
    "    binrange=(0, 500),\n",
    "    alpha = 1 \n",
    ")\n",
    "\n",
    "plt.xlabel(\"Price (US dollars)\")\n",
    "plt.ylabel(\"Percent\")\n",
    "plt.xlim(0, 500)\n",
    "plt.ylim(0, 0.3)\n",
    "plt.xticks(ticks=range(0, 501, 100))\n",
    "plt.yticks(ticks=[0, 0.1, 0.2, 0.3])\n",
    "plt.gca().yaxis.set_major_formatter(PercentFormatter(1))\n",
    "plt.figure(figsize=(10, 6))\n",
    "plt.show()"
   ]
  },
  {
   "cell_type": "code",
   "execution_count": 11,
   "metadata": {},
   "outputs": [
    {
     "data": {
      "image/png": "[encoded data removed]",
      "text/plain": [
       "<Figure size 700x550 with 1 Axes>"
      ]
     },
     "metadata": {},
     "output_type": "display_data"
    },
    {
     "data": {
      "text/plain": [
       "<Figure size 1000x600 with 0 Axes>"
      ]
     },
     "metadata": {},
     "output_type": "display_data"
    }
   ],
   "source": [
    "#London\n",
    "\n",
    "hotels_london = hotels_europe_cut[hotels_europe_cut[\"city\"] == \"London\"]\n",
    "\n",
    "sns.histplot(\n",
    "    data= hotels_london,\n",
    "    x=hotels_london[\"price\"],\n",
    "    stat=\"probability\",  \n",
    "    binwidth=20,\n",
    "    color=da.color[0],\n",
    "    binrange=(0, 500),\n",
    "    alpha = 1 \n",
    ")\n",
    "\n",
    "plt.xlabel(\"Price (US dollars)\")\n",
    "plt.ylabel(\"Percent\")\n",
    "plt.xlim(0, 500)\n",
    "plt.ylim(0, 0.3)\n",
    "plt.xticks(ticks=range(0, 501, 100))\n",
    "plt.yticks(ticks=[0, 0.1, 0.2, 0.3])\n",
    "plt.gca().yaxis.set_major_formatter(PercentFormatter(1))\n",
    "plt.figure(figsize=(10, 6))\n",
    "plt.show()"
   ]
  },
  {
   "cell_type": "markdown",
   "metadata": {},
   "source": [
    "### Figure 3.7 Density plots of hotel prices: Vienna and London"
   ]
  },
  {
   "cell_type": "code",
   "execution_count": 12,
   "metadata": {},
   "outputs": [
    {
     "data": {
      "image/png": "[encoded data removed]",
      "text/plain": [
       "<Figure size 700x550 with 1 Axes>"
      ]
     },
     "metadata": {},
     "output_type": "display_data"
    }
   ],
   "source": [
    "sns.kdeplot(\n",
    "    data=hotels_europe_cut.query('city == \"London\"'),\n",
    "    x=\"price\",\n",
    "    color=da.color[1],\n",
    "    label=\"London\",\n",
    "    linewidth=2\n",
    ")\n",
    "sns.kdeplot(\n",
    "    data=hotels_europe_cut.query('city == \"Vienna\"'),\n",
    "    x=\"price\",\n",
    "    color=da.color[0],\n",
    "    label=\"Vienna\",\n",
    "    linewidth=2\n",
    ")\n",
    "\n",
    "plt.xlim(0, 500)\n",
    "plt.ylim(0, 0.015)\n",
    "plt.xticks(ticks=range(0, 501, 100))\n",
    "plt.yticks(ticks=[0, 0.003, 0.006, 0.009, 0.012, 0.015])\n",
    "plt.text(340, 0.003, \"London\", color=da.color[1], fontsize=12)\n",
    "plt.text(200, 0.007, \"Vienna\", color=da.color[0], fontsize=12)\n",
    "plt.xlabel(\"Price (US dollars)\")\n",
    "plt.ylabel(\"Density\")\n",
    "plt.legend(title=\"\", loc=\"upper right\")\n",
    "plt.show()"
   ]
  },
  {
   "cell_type": "markdown",
   "metadata": {},
   "source": [
    "#### Table 3.6"
   ]
  },
  {
   "cell_type": "code",
   "execution_count": 13,
   "metadata": {},
   "outputs": [
    {
     "data": {
      "application/vnd.microsoft.datawrangler.viewer.v0+json": {
       "columns": [
        {
         "name": "city",
         "rawType": "object",
         "type": "string"
        },
        {
         "name": "n",
         "rawType": "int64",
         "type": "integer"
        },
        {
         "name": "mean",
         "rawType": "float64",
         "type": "float"
        },
        {
         "name": "median",
         "rawType": "float64",
         "type": "float"
        },
        {
         "name": "min",
         "rawType": "int64",
         "type": "integer"
        },
        {
         "name": "max",
         "rawType": "int64",
         "type": "integer"
        },
        {
         "name": "sd",
         "rawType": "float64",
         "type": "float"
        },
        {
         "name": "skew",
         "rawType": "float64",
         "type": "float"
        }
       ],
       "conversionMethod": "pd.DataFrame",
       "ref": "d9358749-80f5-44f7-bcf3-7466c982f330",
       "rows": [
        [
         "London",
         "435",
         "202.35632183908046",
         "186.0",
         "49",
         "491",
         "88.12883021208526",
         "0.186"
        ],
        [
         "Vienna",
         "207",
         "109.97584541062803",
         "100.0",
         "50",
         "383",
         "42.221381370006355",
         "0.237"
        ]
       ],
       "shape": {
        "columns": 7,
        "rows": 2
       }
      },
      "text/html": [
       "<div>\n",
       "<style scoped>\n",
       "    .dataframe tbody tr th:only-of-type {\n",
       "        vertical-align: middle;\n",
       "    }\n",
       "\n",
       "    .dataframe tbody tr th {\n",
       "        vertical-align: top;\n",
       "    }\n",
       "\n",
       "    .dataframe thead th {\n",
       "        text-align: right;\n",
       "    }\n",
       "</style>\n",
       "<table border=\"1\" class=\"dataframe\">\n",
       "  <thead>\n",
       "    <tr style=\"text-align: right;\">\n",
       "      <th></th>\n",
       "      <th>n</th>\n",
       "      <th>mean</th>\n",
       "      <th>median</th>\n",
       "      <th>min</th>\n",
       "      <th>max</th>\n",
       "      <th>sd</th>\n",
       "      <th>skew</th>\n",
       "    </tr>\n",
       "    <tr>\n",
       "      <th>city</th>\n",
       "      <th></th>\n",
       "      <th></th>\n",
       "      <th></th>\n",
       "      <th></th>\n",
       "      <th></th>\n",
       "      <th></th>\n",
       "      <th></th>\n",
       "    </tr>\n",
       "  </thead>\n",
       "  <tbody>\n",
       "    <tr>\n",
       "      <th>London</th>\n",
       "      <td>435</td>\n",
       "      <td>202.356322</td>\n",
       "      <td>186.0</td>\n",
       "      <td>49</td>\n",
       "      <td>491</td>\n",
       "      <td>88.128830</td>\n",
       "      <td>0.186</td>\n",
       "    </tr>\n",
       "    <tr>\n",
       "      <th>Vienna</th>\n",
       "      <td>207</td>\n",
       "      <td>109.975845</td>\n",
       "      <td>100.0</td>\n",
       "      <td>50</td>\n",
       "      <td>383</td>\n",
       "      <td>42.221381</td>\n",
       "      <td>0.237</td>\n",
       "    </tr>\n",
       "  </tbody>\n",
       "</table>\n",
       "</div>"
      ],
      "text/plain": [
       "          n        mean  median  min  max         sd   skew\n",
       "city                                                       \n",
       "London  435  202.356322   186.0   49  491  88.128830  0.186\n",
       "Vienna  207  109.975845   100.0   50  383  42.221381  0.237"
      ]
     },
     "execution_count": 13,
     "metadata": {},
     "output_type": "execute_result"
    }
   ],
   "source": [
    "hotels_europe_cut.groupby(\"city\").agg(\n",
    "    n=(\"price\", \"size\"),\n",
    "    mean=(\"price\", np.mean),\n",
    "    median=(\"price\", np.median),\n",
    "    min=(\"price\", min),\n",
    "    max=(\"price\", max),\n",
    "    sd=(\"price\", np.std),\n",
    "    skew=(\"price\", da.skew),\n",
    ")"
   ]
  },
  {
   "cell_type": "code",
   "execution_count": null,
   "metadata": {},
   "outputs": [],
   "source": []
  }
 ],
 "metadata": {
  "kernelspec": {
   "display_name": "daenv",
   "language": "python",
   "name": "python3"
  },
  "language_info": {
   "codemirror_mode": {
    "name": "ipython",
    "version": 3
   },
   "file_extension": ".py",
   "mimetype": "text/x-python",
   "name": "python",
   "nbconvert_exporter": "python",
   "pygments_lexer": "ipython3",
   "version": "3.12.4"
  }
 },
 "nbformat": 4,
 "nbformat_minor": 4
}
