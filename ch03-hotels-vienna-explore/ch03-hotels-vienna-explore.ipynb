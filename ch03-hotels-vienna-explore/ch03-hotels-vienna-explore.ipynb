{
 "cells": [
  {
   "cell_type": "markdown",
   "metadata": {},
   "source": [
    "#### Prepared for Gabor's Data Analysis\n",
    "\n",
    "### Data Analysis for Business, Economics, and Policy\n",
    "by Gabor Bekes and  Gabor Kezdi\n",
    " \n",
    "Cambridge University Press 2021\n",
    "\n",
    "**[gabors-data-analysis.com ](https://gabors-data-analysis.com/)**\n",
    "\n",
    " License: Free to share, modify and use for educational purposes. \n",
    " Not to be used for commercial purposes.\n",
    "\n",
    "### Chapter 03\n",
    "**CH03B Comparing hotel prices in Europe: Vienna vs. London**\n",
    "eight-income-distributions  dataset\n",
    "\n",
    "version 1.0 2021-05-05"
   ]
  },
  {
   "cell_type": "markdown",
   "metadata": {},
   "source": [
    "### Import libraries and set folders"
   ]
  },
  {
   "cell_type": "code",
   "execution_count": null,
   "metadata": {},
   "outputs": [],
   "source": [
    "import os\n",
    "import sys\n",
    "import warnings\n",
    "\n",
    "import numpy as np\n",
    "import pandas as pd\n",
    "from mizani.formatters import percent_format\n",
    "from plotnine import *\n",
    "\n",
    "warnings.filterwarnings(\"ignore\")"
   ]
  },
  {
   "cell_type": "code",
   "execution_count": null,
   "metadata": {},
   "outputs": [],
   "source": [
    "# Current script folder\n",
    "current_path = os.getcwd()\n",
    "dirname = current_path.split(\"da_case_studies\")[0]\n",
    "\n",
    "# location folders\n",
    "data_in = dirname + \"da_data_repo/hotels-vienna/clean/\"\n",
    "data_out = dirname + \"da_case_studies/ch03-hotels-vienna-explore/\"\n",
    "output = dirname + \"da_case_studies/ch03-hotels-vienna-explore/output/\"\n",
    "func = dirname + \"da_case_studies/ch00-tech-prep/\"\n",
    "sys.path.append(func)"
   ]
  },
  {
   "cell_type": "code",
   "execution_count": null,
   "metadata": {},
   "outputs": [],
   "source": [
    "# Import the prewritten helper functions\n",
    "from py_helper_functions import *"
   ]
  },
  {
   "cell_type": "code",
   "execution_count": null,
   "metadata": {},
   "outputs": [],
   "source": [
    "# load vienna\n",
    "vienna = pd.read_csv(data_in + \"hotels-vienna.csv\")\n",
    "#vienna = pd.read_csv(\"https://osf.io/y6jvb/download\")"
   ]
  },
  {
   "cell_type": "markdown",
   "metadata": {},
   "source": [
    "## Figures 1a and 1b\n",
    "\n",
    "apply filters: Hotels"
   ]
  },
  {
   "cell_type": "code",
   "execution_count": null,
   "metadata": {},
   "outputs": [],
   "source": [
    "vienna[\"accommodation_type\"].value_counts()"
   ]
  },
  {
   "cell_type": "code",
   "execution_count": null,
   "metadata": {},
   "outputs": [],
   "source": [
    "vienna_cut = vienna.loc[vienna[\"accommodation_type\"] == \"Hotel\"]"
   ]
  },
  {
   "cell_type": "code",
   "execution_count": null,
   "metadata": {},
   "outputs": [],
   "source": [
    "(\n",
    "    ggplot(vienna_cut, aes(x=\"stars\", y=\"stat(count)/sum(stat(count))\"))\n",
    "    + geom_bar(color=\"white\", fill=color[0], alpha=0.8)\n",
    "    + labs(x=\"Star rating (N. stars)\", y=\"Percent\")\n",
    "    + expand_limits(x=0.01, y=0.01)\n",
    "    + scale_x_continuous(expand=[0.01, 0.01], limits=[0.5, 5.5], breaks=seq(1, 5, 0.5))\n",
    "    + scale_y_continuous(\n",
    "        expand=[0.00, 0.00],\n",
    "        limits=[0, 0.5],\n",
    "        breaks=seq(0, 0.51, 0.1),\n",
    "        labels=percent_format(),\n",
    "    )\n",
    "    + geom_text(\n",
    "        aes(\n",
    "            x=\"stars\",\n",
    "            y=\"[x+0.01 for x in stat(count)/sum(stat(count))]\",\n",
    "            label=\"[round(num,1) for num in stat(count)/sum(stat(count))*100)]\",\n",
    "        ),\n",
    "        stat=\"count\",\n",
    "        size=12.5,\n",
    "    )\n",
    "    + theme_bw()\n",
    ")"
   ]
  },
  {
   "cell_type": "code",
   "execution_count": null,
   "metadata": {},
   "outputs": [],
   "source": [
    "(\n",
    "    ggplot(vienna_cut, aes(x=\"stars\", y=\"stat(count)\"))\n",
    "    + geom_bar(color=\"white\", fill=color[0], alpha=0.8)\n",
    "    + labs(x=\"Star rating (N. stars)\", y=\"Frequency\")\n",
    "    + expand_limits(x=0.01, y=0.01)\n",
    "    + scale_x_continuous(expand=[0.01, 0.01], limits=[0.5, 5.5], breaks=seq(1, 5, 0.5))\n",
    "    + scale_y_continuous(expand=[0.00, 0.00], limits=[0, 140], breaks=seq(0, 140, 20))\n",
    "    + geom_text(\n",
    "        aes(\n",
    "            x=\"stars\",\n",
    "            y=\"[x+5 for x in stat(count)]\",\n",
    "            label=\"stat(count)\",\n",
    "        ),\n",
    "        stat=\"count\",\n",
    "        size=12.5,\n",
    "    )\n",
    "    + theme_bw()\n",
    ")"
   ]
  },
  {
   "cell_type": "markdown",
   "metadata": {},
   "source": [
    "### Distributions\n",
    "\n",
    "Apply filters:  3-4 stars, less than 8miles from center, without 1000 euro extreme value\n"
   ]
  },
  {
   "cell_type": "code",
   "execution_count": null,
   "metadata": {},
   "outputs": [],
   "source": [
    "vienna_cut = vienna.loc[\n",
    "    (vienna[\"accommodation_type\"] == \"Hotel\")\n",
    "    & (vienna[\"city_actual\"] == \"Vienna\")\n",
    "    & (vienna[\"stars\"] >= 3)\n",
    "    & (vienna[\"stars\"] <= 4)\n",
    "    & (vienna[\"stars\"].notna())\n",
    "    & (vienna[\"price\"] <= 600)\n",
    "]"
   ]
  },
  {
   "cell_type": "code",
   "execution_count": null,
   "metadata": {},
   "outputs": [],
   "source": [
    "vienna_cut['city'].value_counts()"
   ]
  },
  {
   "cell_type": "code",
   "execution_count": null,
   "metadata": {},
   "outputs": [],
   "source": [
    "vienna_cut['stars'].value_counts()"
   ]
  },
  {
   "cell_type": "markdown",
   "metadata": {},
   "source": [
    "#### Figure 3.2 a)"
   ]
  },
  {
   "cell_type": "code",
   "execution_count": null,
   "metadata": {},
   "outputs": [],
   "source": [
    "(\n",
    "    ggplot(vienna_cut, aes(x=\"price\"))\n",
    "    + geom_histogram(binwidth=1, size=0.5)\n",
    "    + geom_histogram(\n",
    "        binwidth=1, fill=color[0], size=0.5, alpha=0.8, boundary=0, closed=\"left\"\n",
    "    )\n",
    "    + labs(x=\"Price (US dollars)\", y=\"Frequency\")\n",
    "    + expand_limits(x=0.01, y=0.01)\n",
    "    + scale_x_continuous(expand=[0.01, 0.01], limits=[0, 500], breaks=seq(0, 500, 50))\n",
    "    + scale_y_continuous(expand=[0.01, 0.01])\n",
    "    + theme_bw()\n",
    ")"
   ]
  },
  {
   "cell_type": "markdown",
   "metadata": {},
   "source": [
    "#### Figure 3.2 b)"
   ]
  },
  {
   "cell_type": "code",
   "execution_count": null,
   "metadata": {},
   "outputs": [],
   "source": [
    "(\n",
    "    ggplot(vienna_cut, aes(x=\"price\"))\n",
    "    + geom_histogram(\n",
    "        binwidth=10, fill=color[0], color=\"white\", boundary=0, closed=\"left\"\n",
    "    )\n",
    "    + labs(x=\"Price (US dollars)\", y=\"Frequency\")\n",
    "    + expand_limits(x=0.01, y=0.01)\n",
    "    + scale_x_continuous(expand=[0.01, 0.01], limits=[0, 500], breaks=seq(0, 500, 50))\n",
    "    + scale_y_continuous(expand=[0.01, 0.01], limits=[0, 40], breaks=seq(0, 40, 5))\n",
    "    + theme_bw()\n",
    ")"
   ]
  },
  {
   "cell_type": "markdown",
   "metadata": {},
   "source": [
    "### Figure 3 a,b"
   ]
  },
  {
   "cell_type": "code",
   "execution_count": null,
   "metadata": {},
   "outputs": [],
   "source": [
    "(\n",
    "    ggplot(vienna_cut, aes(x=\"price\"))\n",
    "    + geom_histogram(\n",
    "        binwidth=40, fill=color[0], color=\"white\", boundary=0, closed=\"left\"\n",
    "    )\n",
    "    + labs(x=\"Price (US dollars)\", y=\"Frequency\")\n",
    "    + scale_x_continuous(expand=[0.0, 0.0], limits=[0, 480], breaks=seq(0, 480, 80))\n",
    "    + scale_y_continuous(expand=[0.0, 0.0], limits=[0, 120], breaks=seq(0, 120, 20))\n",
    "    + theme_bw()\n",
    ")"
   ]
  },
  {
   "cell_type": "code",
   "execution_count": null,
   "metadata": {},
   "outputs": [],
   "source": [
    "(\n",
    "    ggplot(vienna_cut, aes(x=\"price\"))\n",
    "    + geom_histogram(\n",
    "        binwidth=80, fill=color[0], color=\"white\", boundary=0, closed=\"left\"\n",
    "    )\n",
    "    + labs(x=\"Price (US dollars)\", y=\"Frequency\")\n",
    "    + scale_x_continuous(expand=[0.0, 0.0], limits=[0, 480], breaks=seq(0, 480, 80))\n",
    "    + scale_y_continuous(expand=[0.0, 0.0], limits=[0, 150], breaks=seq(0, 150, 50))\n",
    "    + theme_bw()\n",
    ")"
   ]
  },
  {
   "cell_type": "markdown",
   "metadata": {},
   "source": [
    "### Extreme values\n",
    "\n",
    "Apply filters: 3-4 stars, less than 8miles from center, without 1000 euro extreme value\n"
   ]
  },
  {
   "cell_type": "code",
   "execution_count": null,
   "metadata": {},
   "outputs": [],
   "source": [
    "vienna_cut = vienna.loc[\n",
    "    (vienna[\"accommodation_type\"] == \"Hotel\")\n",
    "    & (vienna[\"stars\"] >= 3)\n",
    "    & (vienna[\"stars\"] <= 4)\n",
    "    & (vienna[\"stars\"].notna())\n",
    "    & (vienna[\"price\"] <= 1000)\n",
    "]"
   ]
  },
  {
   "cell_type": "markdown",
   "metadata": {},
   "source": [
    "####  Figure 3.4"
   ]
  },
  {
   "cell_type": "code",
   "execution_count": null,
   "metadata": {},
   "outputs": [],
   "source": [
    "(\n",
    "    ggplot(vienna_cut, aes(x=\"distance\"))\n",
    "    + geom_histogram(\n",
    "        binwidth=0.5, fill=color[0], color=\"white\", boundary=0, closed=\"left\"\n",
    "    )\n",
    "    + labs(x=\"Distance to city center (miles)\", y=\"Frequency\")\n",
    "    + scale_x_continuous(expand=[0.0, 0.0], limits=[0, 14], breaks=seq(0, 14, 2))\n",
    "    + scale_y_continuous(expand=[0.0, 0.0], limits=[0, 60], breaks=seq(0, 60, 10))\n",
    "    + theme_bw()\n",
    ")"
   ]
  },
  {
   "cell_type": "markdown",
   "metadata": {},
   "source": [
    "with annotation"
   ]
  },
  {
   "cell_type": "code",
   "execution_count": null,
   "metadata": {},
   "outputs": [],
   "source": [
    "(\n",
    "    ggplot(vienna_cut, aes(x=\"distance\"))\n",
    "    + geom_histogram(\n",
    "        binwidth=0.5, fill=color[0], color=\"white\", boundary=0, closed=\"left\"\n",
    "    )\n",
    "    + labs(x=\"Distance to city center (miles)\", y=\"Frequency\")\n",
    "    + scale_x_continuous(expand=[0.0, 0.0], limits=[0, 14], breaks=seq(0, 14, 2))\n",
    "    + scale_y_continuous(expand=[0.0, 0.0], limits=[0, 60], breaks=seq(0, 60, 10))\n",
    "    + geom_segment(aes(x=8.2, y=0, xend=8.2, yend=60), color=color[1], size=1)\n",
    "    + annotate(\"text\", x=11, y=29, label=\"Too far out\", size=10)\n",
    "    + annotate(\n",
    "        geom=\"rect\", xmin=8.2, xmax=14, ymin=0, ymax=60, alpha=0.1, fill=\"yellow\"\n",
    "    )\n",
    "    + theme_bw()\n",
    ")"
   ]
  },
  {
   "cell_type": "markdown",
   "metadata": {},
   "source": [
    " look at actual city"
   ]
  },
  {
   "cell_type": "code",
   "execution_count": null,
   "metadata": {},
   "outputs": [],
   "source": [
    "vienna_cut['city_actual'].value_counts()"
   ]
  },
  {
   "cell_type": "markdown",
   "metadata": {},
   "source": [
    " ### Figure price with extreme\n",
    " Apply filters:  3-4 stars, less than 8miles from center, without 1000 euro extreme value"
   ]
  },
  {
   "cell_type": "code",
   "execution_count": null,
   "metadata": {},
   "outputs": [],
   "source": [
    "vienna_cut = vienna.loc[\n",
    "    (vienna[\"accommodation_type\"] == \"Hotel\")\n",
    "    & (vienna[\"stars\"] >= 3)\n",
    "    & (vienna[\"stars\"] <= 4)\n",
    "    & (vienna[\"stars\"].notna())\n",
    "]"
   ]
  },
  {
   "cell_type": "code",
   "execution_count": null,
   "metadata": {},
   "outputs": [],
   "source": [
    "(\n",
    "    ggplot(vienna_cut, aes(x=\"price\"))\n",
    "    + geom_histogram(\n",
    "        binwidth=20, fill=color[0], color=\"white\", boundary=0, closed=\"right\"\n",
    "    )\n",
    "    + labs(x=\"Price (US dollars)\", y=\"Frequency\")\n",
    "    + scale_x_continuous(\n",
    "        expand=[0.00, 0.00], limits=[0, 1000], breaks=seq(0, 1000, 100)\n",
    "    )\n",
    "    + expand_limits(x=0.00, y=0.00)\n",
    "    + theme_bw()\n",
    ")"
   ]
  },
  {
   "cell_type": "code",
   "execution_count": null,
   "metadata": {},
   "outputs": [],
   "source": []
  }
 ],
 "metadata": {
  "language_info": {
   "name": "python"
  }
 },
 "nbformat": 4,
 "nbformat_minor": 4
}
