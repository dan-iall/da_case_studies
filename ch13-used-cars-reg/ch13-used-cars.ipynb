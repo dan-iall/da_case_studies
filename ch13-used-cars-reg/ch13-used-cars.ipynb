{
 "cells": [
  {
   "cell_type": "markdown",
   "metadata": {},
   "source": [
    "#### Prepared for Gabor's Data Analysis\n",
    "\n",
    "### Data Analysis for Business, Economics, and Policy\n",
    "by Gabor Bekes and  Gabor Kezdi\n",
    " \n",
    "Cambridge University Press 2021\n",
    "\n",
    "**[gabors-data-analysis.com ](https://gabors-data-analysis.com/)**\n",
    "\n",
    " License: Free to share, modify and use for educational purposes. \n",
    " Not to be used for commercial purposes.\n",
    "\n",
    "### Chapter 13\n",
    "**CH11 Used cars**\n",
    "\n",
    "using the used-cars dataset\n",
    "\n",
    "version 0.8 2021-07-15"
   ]
  },
  {
   "cell_type": "code",
   "execution_count": 1,
   "metadata": {},
   "outputs": [],
   "source": [
    "import os\n",
    "import sys\n",
    "import warnings\n",
    "\n",
    "import numpy as np\n",
    "import pandas as pd\n",
    "import statsmodels.formula.api as smf\n",
    "from mizani.formatters import percent_format\n",
    "from plotnine import *\n",
    "from stargazer import stargazer\n",
    "from statsmodels.tools.eval_measures import mse, rmse\n",
    "\n",
    "warnings.filterwarnings(\"ignore\")\n",
    "# turning off scientific notation\n",
    "#pd.set_option(\"display.float_format\", lambda x: \"%.2f\" % x)\n"
   ]
  },
  {
   "cell_type": "code",
   "execution_count": 2,
   "metadata": {},
   "outputs": [],
   "source": [
    "# Current script folder\n",
    "current_path = os.getcwd()\n",
    "dirname = current_path.split(\"da_case_studies\")[0]\n",
    "\n",
    "# location folders\n",
    "data_in = dirname + \"da_data_repo/used-cars/clean/\"\n",
    "data_out = dirname + \"da_case_studies/ch13-used-cars-reg/\"\n",
    "output = dirname + \"da_case_studies/ch13-used-cars-reg/output/\"\n",
    "func = dirname + \"da_case_studies/ch00-tech-prep/\"\n",
    "sys.path.append(func)\n"
   ]
  },
  {
   "cell_type": "code",
   "execution_count": 3,
   "metadata": {},
   "outputs": [],
   "source": [
    "# Import the prewritten helper functions\n",
    "from py_helper_functions import *\n"
   ]
  },
  {
   "cell_type": "code",
   "execution_count": 4,
   "metadata": {},
   "outputs": [],
   "source": [
    "# DATA IMPORT\n",
    "data = pd.read_csv(data_in + \"used-cars_2cities_prep.csv\")\n",
    "#data = pd.read_csv(\"https://osf.io/7gvz9/download\")\n",
    "\n"
   ]
  },
  {
   "cell_type": "code",
   "execution_count": 5,
   "metadata": {},
   "outputs": [],
   "source": [
    "# SAMPLE DESIGN\n",
    "\n",
    "# Manage missing\n",
    "data[\"fuel\"] = data[\"fuel\"].fillna(\"Missing\")\n",
    "data[\"condition\"] = data[\"condition\"].fillna(\"Missing\")\n",
    "data[\"drive\"] = data[\"drive\"].fillna(\"Missing\")\n",
    "data[\"cylinders\"] = data[\"cylinders\"].fillna(\"Missing\")\n",
    "data[\"transmission\"] = data[\"transmission\"].fillna(\"Missing\")\n",
    "data[\"type\"] = data[\"type\"].fillna(\"Missing\")\n"
   ]
  },
  {
   "cell_type": "code",
   "execution_count": 6,
   "metadata": {},
   "outputs": [],
   "source": [
    "# drop hybrid models then drop column\n",
    "data = data.loc[data.Hybrid == 0].drop([\"Hybrid\"], axis=1)\n"
   ]
  },
  {
   "cell_type": "code",
   "execution_count": 7,
   "metadata": {},
   "outputs": [
    {
     "data": {
      "text/html": [
       "<div>\n",
       "<style scoped>\n",
       "    .dataframe tbody tr th:only-of-type {\n",
       "        vertical-align: middle;\n",
       "    }\n",
       "\n",
       "    .dataframe tbody tr th {\n",
       "        vertical-align: top;\n",
       "    }\n",
       "\n",
       "    .dataframe thead th {\n",
       "        text-align: right;\n",
       "    }\n",
       "</style>\n",
       "<table border=\"1\" class=\"dataframe\">\n",
       "  <thead>\n",
       "    <tr style=\"text-align: right;\">\n",
       "      <th></th>\n",
       "      <th>frequency</th>\n",
       "      <th>percent</th>\n",
       "      <th>cumulative_percent</th>\n",
       "    </tr>\n",
       "    <tr>\n",
       "      <th>fuel</th>\n",
       "      <th></th>\n",
       "      <th></th>\n",
       "      <th></th>\n",
       "    </tr>\n",
       "  </thead>\n",
       "  <tbody>\n",
       "    <tr>\n",
       "      <th>Missing</th>\n",
       "      <td>1</td>\n",
       "      <td>0.190</td>\n",
       "      <td>0.190</td>\n",
       "    </tr>\n",
       "    <tr>\n",
       "      <th>diesel</th>\n",
       "      <td>1</td>\n",
       "      <td>0.190</td>\n",
       "      <td>0.380</td>\n",
       "    </tr>\n",
       "    <tr>\n",
       "      <th>gas</th>\n",
       "      <td>516</td>\n",
       "      <td>98.099</td>\n",
       "      <td>98.479</td>\n",
       "    </tr>\n",
       "    <tr>\n",
       "      <th>hybrid</th>\n",
       "      <td>1</td>\n",
       "      <td>0.190</td>\n",
       "      <td>98.669</td>\n",
       "    </tr>\n",
       "    <tr>\n",
       "      <th>other</th>\n",
       "      <td>7</td>\n",
       "      <td>1.331</td>\n",
       "      <td>100.000</td>\n",
       "    </tr>\n",
       "  </tbody>\n",
       "</table>\n",
       "</div>"
      ],
      "text/plain": [
       "         frequency  percent  cumulative_percent\n",
       "fuel                                           \n",
       "Missing          1    0.190               0.190\n",
       "diesel           1    0.190               0.380\n",
       "gas            516   98.099              98.479\n",
       "hybrid           1    0.190              98.669\n",
       "other            7    1.331             100.000"
      ]
     },
     "execution_count": 7,
     "metadata": {},
     "output_type": "execute_result"
    }
   ],
   "source": [
    "# check frequency by fuel type\n",
    "freq = data.groupby(\"fuel\").agg(frequency=(\"type\", \"size\"))\n",
    "freq[\"percent\"] = round(freq[\"frequency\"] / sum(freq[\"frequency\"]) * 100, 3)\n",
    "freq[\"cumulative_percent\"] = np.cumsum(freq[\"percent\"])\n",
    "freq\n"
   ]
  },
  {
   "cell_type": "code",
   "execution_count": 8,
   "metadata": {},
   "outputs": [],
   "source": [
    "# keep gas-fuelled vehicles\n",
    "data = data.loc[data.fuel == \"gas\"]\n"
   ]
  },
  {
   "cell_type": "code",
   "execution_count": 9,
   "metadata": {},
   "outputs": [
    {
     "data": {
      "text/html": [
       "<div>\n",
       "<style scoped>\n",
       "    .dataframe tbody tr th:only-of-type {\n",
       "        vertical-align: middle;\n",
       "    }\n",
       "\n",
       "    .dataframe tbody tr th {\n",
       "        vertical-align: top;\n",
       "    }\n",
       "\n",
       "    .dataframe thead th {\n",
       "        text-align: right;\n",
       "    }\n",
       "</style>\n",
       "<table border=\"1\" class=\"dataframe\">\n",
       "  <thead>\n",
       "    <tr style=\"text-align: right;\">\n",
       "      <th></th>\n",
       "      <th>frequency</th>\n",
       "      <th>percent</th>\n",
       "      <th>cumulative_percent</th>\n",
       "    </tr>\n",
       "    <tr>\n",
       "      <th>condition</th>\n",
       "      <th></th>\n",
       "      <th></th>\n",
       "      <th></th>\n",
       "    </tr>\n",
       "  </thead>\n",
       "  <tbody>\n",
       "    <tr>\n",
       "      <th>Missing</th>\n",
       "      <td>207</td>\n",
       "      <td>40.116</td>\n",
       "      <td>40.116</td>\n",
       "    </tr>\n",
       "    <tr>\n",
       "      <th>excellent</th>\n",
       "      <td>133</td>\n",
       "      <td>25.775</td>\n",
       "      <td>65.891</td>\n",
       "    </tr>\n",
       "    <tr>\n",
       "      <th>fair</th>\n",
       "      <td>14</td>\n",
       "      <td>2.713</td>\n",
       "      <td>68.604</td>\n",
       "    </tr>\n",
       "    <tr>\n",
       "      <th>good</th>\n",
       "      <td>106</td>\n",
       "      <td>20.543</td>\n",
       "      <td>89.147</td>\n",
       "    </tr>\n",
       "    <tr>\n",
       "      <th>like new</th>\n",
       "      <td>53</td>\n",
       "      <td>10.271</td>\n",
       "      <td>99.418</td>\n",
       "    </tr>\n",
       "    <tr>\n",
       "      <th>new</th>\n",
       "      <td>3</td>\n",
       "      <td>0.581</td>\n",
       "      <td>99.999</td>\n",
       "    </tr>\n",
       "  </tbody>\n",
       "</table>\n",
       "</div>"
      ],
      "text/plain": [
       "           frequency  percent  cumulative_percent\n",
       "condition                                        \n",
       "Missing          207   40.116              40.116\n",
       "excellent        133   25.775              65.891\n",
       "fair              14    2.713              68.604\n",
       "good             106   20.543              89.147\n",
       "like new          53   10.271              99.418\n",
       "new                3    0.581              99.999"
      ]
     },
     "execution_count": 9,
     "metadata": {},
     "output_type": "execute_result"
    }
   ],
   "source": [
    "# check frequency by vehicle condition\n",
    "freq = data.groupby(\"condition\").agg(frequency=(\"type\", \"size\"))\n",
    "freq[\"percent\"] = round(freq[\"frequency\"] / sum(freq[\"frequency\"]) * 100, 3)\n",
    "freq[\"cumulative_percent\"] = np.cumsum(freq[\"percent\"])\n",
    "freq\n"
   ]
  },
  {
   "cell_type": "code",
   "execution_count": 10,
   "metadata": {},
   "outputs": [],
   "source": [
    "# drop vehicles in fair and new condition, trucks\n",
    "data = data.loc[~data.condition.isin([\"new\", \"fair\"])]\n",
    "\n",
    "# drop unrealistic values for price and odometer reading\n",
    "data = data.loc[(data.price >= 500) & (data.price <= 25000) & (data.odometer <= 100)]\n",
    "\n",
    "# drop if price is smaller than 1000 and condition is like new or age is less than 8\n",
    "data = data.loc[\n",
    "    ~((data.price < 1000) & ((data.condition == \"like new\") | (data.age < 8)))\n",
    "]\n"
   ]
  },
  {
   "cell_type": "code",
   "execution_count": 11,
   "metadata": {},
   "outputs": [
    {
     "data": {
      "text/html": [
       "<div>\n",
       "<style scoped>\n",
       "    .dataframe tbody tr th:only-of-type {\n",
       "        vertical-align: middle;\n",
       "    }\n",
       "\n",
       "    .dataframe tbody tr th {\n",
       "        vertical-align: top;\n",
       "    }\n",
       "\n",
       "    .dataframe thead th {\n",
       "        text-align: right;\n",
       "    }\n",
       "</style>\n",
       "<table border=\"1\" class=\"dataframe\">\n",
       "  <thead>\n",
       "    <tr style=\"text-align: right;\">\n",
       "      <th></th>\n",
       "      <th>frequency</th>\n",
       "      <th>percent</th>\n",
       "      <th>cumulative_percent</th>\n",
       "    </tr>\n",
       "    <tr>\n",
       "      <th>transmission</th>\n",
       "      <th></th>\n",
       "      <th></th>\n",
       "      <th></th>\n",
       "    </tr>\n",
       "  </thead>\n",
       "  <tbody>\n",
       "    <tr>\n",
       "      <th>automatic</th>\n",
       "      <td>478</td>\n",
       "      <td>98.557</td>\n",
       "      <td>98.557</td>\n",
       "    </tr>\n",
       "    <tr>\n",
       "      <th>manual</th>\n",
       "      <td>7</td>\n",
       "      <td>1.443</td>\n",
       "      <td>100.000</td>\n",
       "    </tr>\n",
       "  </tbody>\n",
       "</table>\n",
       "</div>"
      ],
      "text/plain": [
       "              frequency  percent  cumulative_percent\n",
       "transmission                                        \n",
       "automatic           478   98.557              98.557\n",
       "manual                7    1.443             100.000"
      ]
     },
     "execution_count": 11,
     "metadata": {},
     "output_type": "execute_result"
    }
   ],
   "source": [
    "# check frequency by transmission\n",
    "freq = data.groupby(\"transmission\").agg(frequency=(\"type\", \"size\"))\n",
    "freq[\"percent\"] = round(freq[\"frequency\"] / sum(freq[\"frequency\"]) * 100, 3)\n",
    "freq[\"cumulative_percent\"] = np.cumsum(freq[\"percent\"])\n",
    "freq\n"
   ]
  },
  {
   "cell_type": "code",
   "execution_count": 12,
   "metadata": {},
   "outputs": [],
   "source": [
    "data = data.loc[~(data.transmission == \"manual\")]\n"
   ]
  },
  {
   "cell_type": "code",
   "execution_count": 13,
   "metadata": {},
   "outputs": [
    {
     "data": {
      "text/html": [
       "<div>\n",
       "<style scoped>\n",
       "    .dataframe tbody tr th:only-of-type {\n",
       "        vertical-align: middle;\n",
       "    }\n",
       "\n",
       "    .dataframe tbody tr th {\n",
       "        vertical-align: top;\n",
       "    }\n",
       "\n",
       "    .dataframe thead th {\n",
       "        text-align: right;\n",
       "    }\n",
       "</style>\n",
       "<table border=\"1\" class=\"dataframe\">\n",
       "  <thead>\n",
       "    <tr style=\"text-align: right;\">\n",
       "      <th></th>\n",
       "      <th>frequency</th>\n",
       "      <th>percent</th>\n",
       "      <th>cumulative_percent</th>\n",
       "    </tr>\n",
       "    <tr>\n",
       "      <th>type</th>\n",
       "      <th></th>\n",
       "      <th></th>\n",
       "      <th></th>\n",
       "    </tr>\n",
       "  </thead>\n",
       "  <tbody>\n",
       "    <tr>\n",
       "      <th>Missing</th>\n",
       "      <td>223</td>\n",
       "      <td>46.653</td>\n",
       "      <td>46.653</td>\n",
       "    </tr>\n",
       "    <tr>\n",
       "      <th>SUV</th>\n",
       "      <td>1</td>\n",
       "      <td>0.209</td>\n",
       "      <td>46.862</td>\n",
       "    </tr>\n",
       "    <tr>\n",
       "      <th>convertible</th>\n",
       "      <td>6</td>\n",
       "      <td>1.255</td>\n",
       "      <td>48.117</td>\n",
       "    </tr>\n",
       "    <tr>\n",
       "      <th>coupe</th>\n",
       "      <td>19</td>\n",
       "      <td>3.975</td>\n",
       "      <td>52.092</td>\n",
       "    </tr>\n",
       "    <tr>\n",
       "      <th>pickup</th>\n",
       "      <td>1</td>\n",
       "      <td>0.209</td>\n",
       "      <td>52.301</td>\n",
       "    </tr>\n",
       "    <tr>\n",
       "      <th>sedan</th>\n",
       "      <td>227</td>\n",
       "      <td>47.490</td>\n",
       "      <td>99.791</td>\n",
       "    </tr>\n",
       "    <tr>\n",
       "      <th>wagon</th>\n",
       "      <td>1</td>\n",
       "      <td>0.209</td>\n",
       "      <td>100.000</td>\n",
       "    </tr>\n",
       "  </tbody>\n",
       "</table>\n",
       "</div>"
      ],
      "text/plain": [
       "             frequency  percent  cumulative_percent\n",
       "type                                               \n",
       "Missing            223   46.653              46.653\n",
       "SUV                  1    0.209              46.862\n",
       "convertible          6    1.255              48.117\n",
       "coupe               19    3.975              52.092\n",
       "pickup               1    0.209              52.301\n",
       "sedan              227   47.490              99.791\n",
       "wagon                1    0.209             100.000"
      ]
     },
     "execution_count": 13,
     "metadata": {},
     "output_type": "execute_result"
    }
   ],
   "source": [
    "# check frequency by transmission\n",
    "freq = data.groupby(\"type\").agg(frequency=(\"type\", \"size\"))\n",
    "freq[\"percent\"] = round(freq[\"frequency\"] / sum(freq[\"frequency\"]) * 100, 3)\n",
    "freq[\"cumulative_percent\"] = np.cumsum(freq[\"percent\"])\n",
    "freq\n"
   ]
  },
  {
   "cell_type": "code",
   "execution_count": 14,
   "metadata": {},
   "outputs": [],
   "source": [
    "# drop if truck\n",
    "data = data.loc[~(data.type == \"truck\")]\n",
    "# drop pricestr\n",
    "data = data.drop([\"pricestr\"], axis=1)\n"
   ]
  },
  {
   "cell_type": "code",
   "execution_count": 15,
   "metadata": {},
   "outputs": [],
   "source": [
    "# DATA GENERATION & DESCRIPTIVES\n",
    "# CONDITION\n",
    "data[\"cond_excellent\"] = np.where(data[\"condition\"] == \"excellent\", 1, 0)\n",
    "data[\"cond_good\"] = np.where(data[\"condition\"] == \"good\", 1, 0)\n",
    "data[\"cond_likenew\"] = np.where(data[\"condition\"] == \"like new\", 1, 0)\n",
    "# cylinders\n",
    "data[\"cylind6\"] = np.where(data[\"cylinders\"] == \"6 cylinders\", 1, 0)\n",
    "data.cylinders.value_counts()\n",
    "data.cylind6.value_counts()\n",
    "# age: quadratic, cubic\n",
    "data[\"agesq\"] = data[\"age\"] ** 2\n",
    "data[\"agecu\"] = data[\"age\"] ** 3\n",
    "# odometer quadratic\n",
    "data[\"odometersq\"] = data[\"odometer\"] ** 2\n"
   ]
  },
  {
   "cell_type": "code",
   "execution_count": 16,
   "metadata": {},
   "outputs": [
    {
     "data": {
      "text/html": [
       "<div>\n",
       "<style scoped>\n",
       "    .dataframe tbody tr th:only-of-type {\n",
       "        vertical-align: middle;\n",
       "    }\n",
       "\n",
       "    .dataframe tbody tr th {\n",
       "        vertical-align: top;\n",
       "    }\n",
       "\n",
       "    .dataframe thead th {\n",
       "        text-align: right;\n",
       "    }\n",
       "</style>\n",
       "<table border=\"1\" class=\"dataframe\">\n",
       "  <thead>\n",
       "    <tr style=\"text-align: right;\">\n",
       "      <th></th>\n",
       "      <th>frequency</th>\n",
       "      <th>mean</th>\n",
       "    </tr>\n",
       "    <tr>\n",
       "      <th>area</th>\n",
       "      <th></th>\n",
       "      <th></th>\n",
       "    </tr>\n",
       "  </thead>\n",
       "  <tbody>\n",
       "    <tr>\n",
       "      <th>chicago</th>\n",
       "      <td>281</td>\n",
       "      <td>6060.975089</td>\n",
       "    </tr>\n",
       "    <tr>\n",
       "      <th>los angeles</th>\n",
       "      <td>197</td>\n",
       "      <td>5518.253807</td>\n",
       "    </tr>\n",
       "  </tbody>\n",
       "</table>\n",
       "</div>"
      ],
      "text/plain": [
       "             frequency         mean\n",
       "area                               \n",
       "chicago            281  6060.975089\n",
       "los angeles        197  5518.253807"
      ]
     },
     "execution_count": 16,
     "metadata": {},
     "output_type": "execute_result"
    }
   ],
   "source": [
    "# Frequency tables\n",
    "\n",
    "# area\n",
    "data.groupby(\"area\").agg(frequency=(\"price\", \"size\"), mean=(\"price\", np.mean))\n"
   ]
  },
  {
   "cell_type": "code",
   "execution_count": 17,
   "metadata": {},
   "outputs": [],
   "source": [
    "# focus only on Chicago\n",
    "data = data.loc[data.area == \"chicago\"]\n"
   ]
  },
  {
   "cell_type": "code",
   "execution_count": 18,
   "metadata": {},
   "outputs": [
    {
     "data": {
      "text/html": [
       "<div>\n",
       "<style scoped>\n",
       "    .dataframe tbody tr th:only-of-type {\n",
       "        vertical-align: middle;\n",
       "    }\n",
       "\n",
       "    .dataframe tbody tr th {\n",
       "        vertical-align: top;\n",
       "    }\n",
       "\n",
       "    .dataframe thead th {\n",
       "        text-align: right;\n",
       "    }\n",
       "</style>\n",
       "<table border=\"1\" class=\"dataframe\">\n",
       "  <thead>\n",
       "    <tr style=\"text-align: right;\">\n",
       "      <th></th>\n",
       "      <th>frequency</th>\n",
       "      <th>mean</th>\n",
       "    </tr>\n",
       "    <tr>\n",
       "      <th>condition</th>\n",
       "      <th></th>\n",
       "      <th></th>\n",
       "    </tr>\n",
       "  </thead>\n",
       "  <tbody>\n",
       "    <tr>\n",
       "      <th>Missing</th>\n",
       "      <td>124</td>\n",
       "      <td>6611.161290</td>\n",
       "    </tr>\n",
       "    <tr>\n",
       "      <th>excellent</th>\n",
       "      <td>75</td>\n",
       "      <td>6724.186667</td>\n",
       "    </tr>\n",
       "    <tr>\n",
       "      <th>good</th>\n",
       "      <td>67</td>\n",
       "      <td>3988.179104</td>\n",
       "    </tr>\n",
       "    <tr>\n",
       "      <th>like new</th>\n",
       "      <td>15</td>\n",
       "      <td>7455.200000</td>\n",
       "    </tr>\n",
       "  </tbody>\n",
       "</table>\n",
       "</div>"
      ],
      "text/plain": [
       "           frequency         mean\n",
       "condition                        \n",
       "Missing          124  6611.161290\n",
       "excellent         75  6724.186667\n",
       "good              67  3988.179104\n",
       "like new          15  7455.200000"
      ]
     },
     "execution_count": 18,
     "metadata": {},
     "output_type": "execute_result"
    }
   ],
   "source": [
    "# condition\n",
    "data.groupby(\"condition\").agg(frequency=(\"price\", \"size\"), mean=(\"price\", np.mean))\n"
   ]
  },
  {
   "cell_type": "code",
   "execution_count": 19,
   "metadata": {},
   "outputs": [
    {
     "data": {
      "text/html": [
       "<div>\n",
       "<style scoped>\n",
       "    .dataframe tbody tr th:only-of-type {\n",
       "        vertical-align: middle;\n",
       "    }\n",
       "\n",
       "    .dataframe tbody tr th {\n",
       "        vertical-align: top;\n",
       "    }\n",
       "\n",
       "    .dataframe thead th {\n",
       "        text-align: right;\n",
       "    }\n",
       "</style>\n",
       "<table border=\"1\" class=\"dataframe\">\n",
       "  <thead>\n",
       "    <tr style=\"text-align: right;\">\n",
       "      <th></th>\n",
       "      <th>frequency</th>\n",
       "      <th>mean</th>\n",
       "    </tr>\n",
       "    <tr>\n",
       "      <th>drive</th>\n",
       "      <th></th>\n",
       "      <th></th>\n",
       "    </tr>\n",
       "  </thead>\n",
       "  <tbody>\n",
       "    <tr>\n",
       "      <th>4wd</th>\n",
       "      <td>4</td>\n",
       "      <td>10168.750000</td>\n",
       "    </tr>\n",
       "    <tr>\n",
       "      <th>Missing</th>\n",
       "      <td>106</td>\n",
       "      <td>4575.094340</td>\n",
       "    </tr>\n",
       "    <tr>\n",
       "      <th>fwd</th>\n",
       "      <td>169</td>\n",
       "      <td>6893.485207</td>\n",
       "    </tr>\n",
       "    <tr>\n",
       "      <th>rwd</th>\n",
       "      <td>2</td>\n",
       "      <td>6250.000000</td>\n",
       "    </tr>\n",
       "  </tbody>\n",
       "</table>\n",
       "</div>"
      ],
      "text/plain": [
       "         frequency          mean\n",
       "drive                           \n",
       "4wd              4  10168.750000\n",
       "Missing        106   4575.094340\n",
       "fwd            169   6893.485207\n",
       "rwd              2   6250.000000"
      ]
     },
     "execution_count": 19,
     "metadata": {},
     "output_type": "execute_result"
    }
   ],
   "source": [
    "# drive\n",
    "data.groupby(\"drive\").agg(frequency=(\"price\", \"size\"), mean=(\"price\", np.mean))\n"
   ]
  },
  {
   "cell_type": "code",
   "execution_count": 20,
   "metadata": {},
   "outputs": [
    {
     "data": {
      "text/html": [
       "<div>\n",
       "<style scoped>\n",
       "    .dataframe tbody tr th:only-of-type {\n",
       "        vertical-align: middle;\n",
       "    }\n",
       "\n",
       "    .dataframe tbody tr th {\n",
       "        vertical-align: top;\n",
       "    }\n",
       "\n",
       "    .dataframe thead th {\n",
       "        text-align: right;\n",
       "    }\n",
       "</style>\n",
       "<table border=\"1\" class=\"dataframe\">\n",
       "  <thead>\n",
       "    <tr style=\"text-align: right;\">\n",
       "      <th></th>\n",
       "      <th>frequency</th>\n",
       "      <th>mean</th>\n",
       "    </tr>\n",
       "    <tr>\n",
       "      <th>dealer</th>\n",
       "      <th></th>\n",
       "      <th></th>\n",
       "    </tr>\n",
       "  </thead>\n",
       "  <tbody>\n",
       "    <tr>\n",
       "      <th>0</th>\n",
       "      <td>193</td>\n",
       "      <td>4402.181347</td>\n",
       "    </tr>\n",
       "    <tr>\n",
       "      <th>1</th>\n",
       "      <td>88</td>\n",
       "      <td>9699.011364</td>\n",
       "    </tr>\n",
       "  </tbody>\n",
       "</table>\n",
       "</div>"
      ],
      "text/plain": [
       "        frequency         mean\n",
       "dealer                        \n",
       "0             193  4402.181347\n",
       "1              88  9699.011364"
      ]
     },
     "execution_count": 20,
     "metadata": {},
     "output_type": "execute_result"
    }
   ],
   "source": [
    "# dealer\n",
    "data.groupby(\"dealer\").agg(frequency=(\"price\", \"size\"), mean=(\"price\", np.mean))\n"
   ]
  },
  {
   "cell_type": "code",
   "execution_count": 21,
   "metadata": {},
   "outputs": [
    {
     "data": {
      "text/html": [
       "<div>\n",
       "<style scoped>\n",
       "    .dataframe tbody tr th:only-of-type {\n",
       "        vertical-align: middle;\n",
       "    }\n",
       "\n",
       "    .dataframe tbody tr th {\n",
       "        vertical-align: top;\n",
       "    }\n",
       "\n",
       "    .dataframe thead th {\n",
       "        text-align: right;\n",
       "    }\n",
       "</style>\n",
       "<table border=\"1\" class=\"dataframe\">\n",
       "  <thead>\n",
       "    <tr style=\"text-align: right;\">\n",
       "      <th></th>\n",
       "      <th>age</th>\n",
       "      <th>odometer</th>\n",
       "      <th>LE</th>\n",
       "      <th>XLE</th>\n",
       "      <th>SE</th>\n",
       "      <th>cond_likenew</th>\n",
       "      <th>cond_excellent</th>\n",
       "      <th>cond_good</th>\n",
       "      <th>cylind6</th>\n",
       "    </tr>\n",
       "  </thead>\n",
       "  <tbody>\n",
       "    <tr>\n",
       "      <th>count</th>\n",
       "      <td>281.000000</td>\n",
       "      <td>281.000000</td>\n",
       "      <td>281.000000</td>\n",
       "      <td>281.000000</td>\n",
       "      <td>281.000000</td>\n",
       "      <td>281.000000</td>\n",
       "      <td>281.000000</td>\n",
       "      <td>281.000000</td>\n",
       "      <td>281.000000</td>\n",
       "    </tr>\n",
       "    <tr>\n",
       "      <th>mean</th>\n",
       "      <td>12.298932</td>\n",
       "      <td>12.521702</td>\n",
       "      <td>0.192171</td>\n",
       "      <td>0.071174</td>\n",
       "      <td>0.064057</td>\n",
       "      <td>0.053381</td>\n",
       "      <td>0.266904</td>\n",
       "      <td>0.238434</td>\n",
       "      <td>0.145907</td>\n",
       "    </tr>\n",
       "    <tr>\n",
       "      <th>std</th>\n",
       "      <td>5.892153</td>\n",
       "      <td>5.172572</td>\n",
       "      <td>0.394710</td>\n",
       "      <td>0.257575</td>\n",
       "      <td>0.245291</td>\n",
       "      <td>0.225193</td>\n",
       "      <td>0.443131</td>\n",
       "      <td>0.426886</td>\n",
       "      <td>0.353643</td>\n",
       "    </tr>\n",
       "    <tr>\n",
       "      <th>min</th>\n",
       "      <td>1.000000</td>\n",
       "      <td>0.231900</td>\n",
       "      <td>0.000000</td>\n",
       "      <td>0.000000</td>\n",
       "      <td>0.000000</td>\n",
       "      <td>0.000000</td>\n",
       "      <td>0.000000</td>\n",
       "      <td>0.000000</td>\n",
       "      <td>0.000000</td>\n",
       "    </tr>\n",
       "    <tr>\n",
       "      <th>25%</th>\n",
       "      <td>7.000000</td>\n",
       "      <td>8.140000</td>\n",
       "      <td>0.000000</td>\n",
       "      <td>0.000000</td>\n",
       "      <td>0.000000</td>\n",
       "      <td>0.000000</td>\n",
       "      <td>0.000000</td>\n",
       "      <td>0.000000</td>\n",
       "      <td>0.000000</td>\n",
       "    </tr>\n",
       "    <tr>\n",
       "      <th>50%</th>\n",
       "      <td>13.000000</td>\n",
       "      <td>13.655900</td>\n",
       "      <td>0.000000</td>\n",
       "      <td>0.000000</td>\n",
       "      <td>0.000000</td>\n",
       "      <td>0.000000</td>\n",
       "      <td>0.000000</td>\n",
       "      <td>0.000000</td>\n",
       "      <td>0.000000</td>\n",
       "    </tr>\n",
       "    <tr>\n",
       "      <th>75%</th>\n",
       "      <td>17.000000</td>\n",
       "      <td>16.430000</td>\n",
       "      <td>0.000000</td>\n",
       "      <td>0.000000</td>\n",
       "      <td>0.000000</td>\n",
       "      <td>0.000000</td>\n",
       "      <td>1.000000</td>\n",
       "      <td>0.000000</td>\n",
       "      <td>0.000000</td>\n",
       "    </tr>\n",
       "    <tr>\n",
       "      <th>max</th>\n",
       "      <td>27.000000</td>\n",
       "      <td>25.300000</td>\n",
       "      <td>1.000000</td>\n",
       "      <td>1.000000</td>\n",
       "      <td>1.000000</td>\n",
       "      <td>1.000000</td>\n",
       "      <td>1.000000</td>\n",
       "      <td>1.000000</td>\n",
       "      <td>1.000000</td>\n",
       "    </tr>\n",
       "  </tbody>\n",
       "</table>\n",
       "</div>"
      ],
      "text/plain": [
       "              age    odometer          LE         XLE          SE  \\\n",
       "count  281.000000  281.000000  281.000000  281.000000  281.000000   \n",
       "mean    12.298932   12.521702    0.192171    0.071174    0.064057   \n",
       "std      5.892153    5.172572    0.394710    0.257575    0.245291   \n",
       "min      1.000000    0.231900    0.000000    0.000000    0.000000   \n",
       "25%      7.000000    8.140000    0.000000    0.000000    0.000000   \n",
       "50%     13.000000   13.655900    0.000000    0.000000    0.000000   \n",
       "75%     17.000000   16.430000    0.000000    0.000000    0.000000   \n",
       "max     27.000000   25.300000    1.000000    1.000000    1.000000   \n",
       "\n",
       "       cond_likenew  cond_excellent   cond_good     cylind6  \n",
       "count    281.000000      281.000000  281.000000  281.000000  \n",
       "mean       0.053381        0.266904    0.238434    0.145907  \n",
       "std        0.225193        0.443131    0.426886    0.353643  \n",
       "min        0.000000        0.000000    0.000000    0.000000  \n",
       "25%        0.000000        0.000000    0.000000    0.000000  \n",
       "50%        0.000000        0.000000    0.000000    0.000000  \n",
       "75%        0.000000        1.000000    0.000000    0.000000  \n",
       "max        1.000000        1.000000    1.000000    1.000000  "
      ]
     },
     "execution_count": 21,
     "metadata": {},
     "output_type": "execute_result"
    }
   ],
   "source": [
    "# data summary\n",
    "data.loc[\n",
    "    :,\n",
    "    [\n",
    "        \"age\",\n",
    "        \"odometer\",\n",
    "        \"LE\",\n",
    "        \"XLE\",\n",
    "        \"SE\",\n",
    "        \"cond_likenew\",\n",
    "        \"cond_excellent\",\n",
    "        \"cond_good\",\n",
    "        \"cylind6\",\n",
    "    ],\n",
    "].describe()\n"
   ]
  },
  {
   "cell_type": "code",
   "execution_count": 22,
   "metadata": {},
   "outputs": [],
   "source": [
    "# Histograms not in the textbook\n"
   ]
  },
  {
   "cell_type": "code",
   "execution_count": 23,
   "metadata": {},
   "outputs": [
    {
     "data": {
      "image/png": "[encoded data removed]",
      "text/plain": [
       "<Figure size 640x480 with 1 Axes>"
      ]
     },
     "metadata": {},
     "output_type": "display_data"
    },
    {
     "data": {
      "text/plain": [
       "<ggplot: (377701852)>"
      ]
     },
     "execution_count": 23,
     "metadata": {},
     "output_type": "execute_result"
    }
   ],
   "source": [
    "(\n",
    "    ggplot(data, aes(x=\"price\"))\n",
    "    + geom_histogram(\n",
    "        aes(y=\"(stat(count))/sum(stat(count))\"),\n",
    "        binwidth=1000,\n",
    "        boundary=0,\n",
    "        color=\"white\",\n",
    "        fill=color[0],\n",
    "        size=0.25,\n",
    "        alpha=0.8,\n",
    "        show_legend=False,\n",
    "        na_rm=True,\n",
    "    )\n",
    "    + coord_cartesian(xlim=(0, 20000))\n",
    "    + labs(x=\"Price (US dollars)\", y=\"Percent\")\n",
    "    + theme_bw()\n",
    "    + expand_limits(x=0.01, y=0.01)\n",
    "    + scale_y_continuous(expand=(0.01, 0.01), labels=percent_format())\n",
    "    + scale_x_continuous(expand=(0.01, 0.01), breaks=seq(0, 20000, 2500))\n",
    ")\n"
   ]
  },
  {
   "cell_type": "code",
   "execution_count": 24,
   "metadata": {},
   "outputs": [
    {
     "data": {
      "image/png": "[encoded data removed]",
      "text/plain": [
       "<Figure size 640x480 with 1 Axes>"
      ]
     },
     "metadata": {},
     "output_type": "display_data"
    },
    {
     "data": {
      "text/plain": [
       "<ggplot: (377890732)>"
      ]
     },
     "execution_count": 24,
     "metadata": {},
     "output_type": "execute_result"
    }
   ],
   "source": [
    "(\n",
    "    ggplot(data, aes(x=\"lnprice\"))\n",
    "    + geom_histogram(\n",
    "        aes(y=\"(stat(count)) / sum(stat(count))\"),\n",
    "        binwidth=0.2,\n",
    "        boundary=0,\n",
    "        color=\"white\",\n",
    "        fill=color[0],\n",
    "        size=0.25,\n",
    "        alpha=0.8,\n",
    "        show_legend=False,\n",
    "        na_rm=True,\n",
    "    )\n",
    "    + coord_cartesian(xlim=(6, 10))\n",
    "    + labs(x=\"ln(Price, US dollars)\", y=\"Percent\")\n",
    "    + expand_limits(x=0.01, y=0.01)\n",
    "    + scale_y_continuous(expand=(0.01, 0.01), labels=percent_format())\n",
    "    + scale_x_continuous(expand=(0.01, 0.01), breaks=seq(6, 10, 1))\n",
    "    + theme_bw()\n",
    ")\n"
   ]
  },
  {
   "cell_type": "markdown",
   "metadata": {},
   "source": [
    "### Regression analysis"
   ]
  },
  {
   "cell_type": "code",
   "execution_count": 25,
   "metadata": {},
   "outputs": [
    {
     "data": {
      "image/png": "[encoded data removed]",
      "text/plain": [
       "<Figure size 640x480 with 1 Axes>"
      ]
     },
     "metadata": {},
     "output_type": "display_data"
    },
    {
     "data": {
      "text/plain": [
       "<ggplot: (377936716)>"
      ]
     },
     "execution_count": 25,
     "metadata": {},
     "output_type": "execute_result"
    }
   ],
   "source": [
    "# lowess\n",
    "(\n",
    "    ggplot(data, aes(x=\"age\", y=\"price\"))\n",
    "    + geom_point(color=color[0], size=1, alpha=0.8, show_legend=False, na_rm=True)\n",
    "    + geom_smooth(method=\"loess\", se=False, colour=color[1], size=1, span=0.9)\n",
    "    + labs(x=\"Age (years)\", y=\"Price (US dollars)\")\n",
    "    + theme_bw()\n",
    "    + expand_limits(x=0.01, y=0.01)\n",
    "    + scale_y_continuous(\n",
    "        expand=(0.01, 0.01), limits=(0, 20000), breaks=seq(0, 20000, 5000)\n",
    "    )\n",
    "    + scale_x_continuous(expand=(0.01, 0.01), limits=(0, 30), breaks=seq(0, 30, 5))\n",
    ")\n"
   ]
  },
  {
   "cell_type": "code",
   "execution_count": 26,
   "metadata": {
    "scrolled": true
   },
   "outputs": [
    {
     "data": {
      "text/html": [
       "<div>\n",
       "<style scoped>\n",
       "    .dataframe tbody tr th:only-of-type {\n",
       "        vertical-align: middle;\n",
       "    }\n",
       "\n",
       "    .dataframe tbody tr th {\n",
       "        vertical-align: top;\n",
       "    }\n",
       "\n",
       "    .dataframe thead th {\n",
       "        text-align: right;\n",
       "    }\n",
       "</style>\n",
       "<table border=\"1\" class=\"dataframe\">\n",
       "  <thead>\n",
       "    <tr style=\"text-align: right;\">\n",
       "      <th></th>\n",
       "      <th>odometer</th>\n",
       "      <th>dealer</th>\n",
       "      <th>price</th>\n",
       "      <th>lnprice</th>\n",
       "      <th>year</th>\n",
       "      <th>age</th>\n",
       "      <th>lnodometer</th>\n",
       "      <th>LE</th>\n",
       "      <th>XLE</th>\n",
       "      <th>SE</th>\n",
       "      <th>cond_excellent</th>\n",
       "      <th>cond_good</th>\n",
       "      <th>cond_likenew</th>\n",
       "      <th>cylind6</th>\n",
       "      <th>agesq</th>\n",
       "      <th>agecu</th>\n",
       "      <th>odometersq</th>\n",
       "    </tr>\n",
       "  </thead>\n",
       "  <tbody>\n",
       "    <tr>\n",
       "      <th>count</th>\n",
       "      <td>281.000000</td>\n",
       "      <td>281.000000</td>\n",
       "      <td>281.000000</td>\n",
       "      <td>281.000000</td>\n",
       "      <td>281.000000</td>\n",
       "      <td>281.000000</td>\n",
       "      <td>281.000000</td>\n",
       "      <td>281.000000</td>\n",
       "      <td>281.000000</td>\n",
       "      <td>281.000000</td>\n",
       "      <td>281.000000</td>\n",
       "      <td>281.000000</td>\n",
       "      <td>281.000000</td>\n",
       "      <td>281.000000</td>\n",
       "      <td>281.000000</td>\n",
       "      <td>281.000000</td>\n",
       "      <td>281.000000</td>\n",
       "    </tr>\n",
       "    <tr>\n",
       "      <th>mean</th>\n",
       "      <td>12.521702</td>\n",
       "      <td>0.313167</td>\n",
       "      <td>6060.975089</td>\n",
       "      <td>8.410963</td>\n",
       "      <td>2005.701068</td>\n",
       "      <td>12.298932</td>\n",
       "      <td>2.399433</td>\n",
       "      <td>0.192171</td>\n",
       "      <td>0.071174</td>\n",
       "      <td>0.064057</td>\n",
       "      <td>0.266904</td>\n",
       "      <td>0.238434</td>\n",
       "      <td>0.053381</td>\n",
       "      <td>0.145907</td>\n",
       "      <td>185.857651</td>\n",
       "      <td>3141.096085</td>\n",
       "      <td>183.453306</td>\n",
       "    </tr>\n",
       "    <tr>\n",
       "      <th>std</th>\n",
       "      <td>5.172572</td>\n",
       "      <td>0.464609</td>\n",
       "      <td>4490.818067</td>\n",
       "      <td>0.812821</td>\n",
       "      <td>5.892153</td>\n",
       "      <td>5.892153</td>\n",
       "      <td>0.590359</td>\n",
       "      <td>0.394710</td>\n",
       "      <td>0.257575</td>\n",
       "      <td>0.245291</td>\n",
       "      <td>0.443131</td>\n",
       "      <td>0.426886</td>\n",
       "      <td>0.225193</td>\n",
       "      <td>0.353643</td>\n",
       "      <td>150.578697</td>\n",
       "      <td>3504.795719</td>\n",
       "      <td>127.300387</td>\n",
       "    </tr>\n",
       "    <tr>\n",
       "      <th>min</th>\n",
       "      <td>0.231900</td>\n",
       "      <td>0.000000</td>\n",
       "      <td>550.000000</td>\n",
       "      <td>6.309918</td>\n",
       "      <td>1991.000000</td>\n",
       "      <td>1.000000</td>\n",
       "      <td>-1.461449</td>\n",
       "      <td>0.000000</td>\n",
       "      <td>0.000000</td>\n",
       "      <td>0.000000</td>\n",
       "      <td>0.000000</td>\n",
       "      <td>0.000000</td>\n",
       "      <td>0.000000</td>\n",
       "      <td>0.000000</td>\n",
       "      <td>1.000000</td>\n",
       "      <td>1.000000</td>\n",
       "      <td>0.053778</td>\n",
       "    </tr>\n",
       "    <tr>\n",
       "      <th>25%</th>\n",
       "      <td>8.140000</td>\n",
       "      <td>0.000000</td>\n",
       "      <td>2500.000000</td>\n",
       "      <td>7.824046</td>\n",
       "      <td>2001.000000</td>\n",
       "      <td>7.000000</td>\n",
       "      <td>2.096790</td>\n",
       "      <td>0.000000</td>\n",
       "      <td>0.000000</td>\n",
       "      <td>0.000000</td>\n",
       "      <td>0.000000</td>\n",
       "      <td>0.000000</td>\n",
       "      <td>0.000000</td>\n",
       "      <td>0.000000</td>\n",
       "      <td>49.000000</td>\n",
       "      <td>343.000000</td>\n",
       "      <td>66.259600</td>\n",
       "    </tr>\n",
       "    <tr>\n",
       "      <th>50%</th>\n",
       "      <td>13.655900</td>\n",
       "      <td>0.000000</td>\n",
       "      <td>4400.000000</td>\n",
       "      <td>8.389359</td>\n",
       "      <td>2005.000000</td>\n",
       "      <td>13.000000</td>\n",
       "      <td>2.614172</td>\n",
       "      <td>0.000000</td>\n",
       "      <td>0.000000</td>\n",
       "      <td>0.000000</td>\n",
       "      <td>0.000000</td>\n",
       "      <td>0.000000</td>\n",
       "      <td>0.000000</td>\n",
       "      <td>0.000000</td>\n",
       "      <td>169.000000</td>\n",
       "      <td>2197.000000</td>\n",
       "      <td>186.483605</td>\n",
       "    </tr>\n",
       "    <tr>\n",
       "      <th>75%</th>\n",
       "      <td>16.430000</td>\n",
       "      <td>1.000000</td>\n",
       "      <td>8995.000000</td>\n",
       "      <td>9.104425</td>\n",
       "      <td>2011.000000</td>\n",
       "      <td>17.000000</td>\n",
       "      <td>2.799109</td>\n",
       "      <td>0.000000</td>\n",
       "      <td>0.000000</td>\n",
       "      <td>0.000000</td>\n",
       "      <td>1.000000</td>\n",
       "      <td>0.000000</td>\n",
       "      <td>0.000000</td>\n",
       "      <td>0.000000</td>\n",
       "      <td>289.000000</td>\n",
       "      <td>4913.000000</td>\n",
       "      <td>269.944900</td>\n",
       "    </tr>\n",
       "    <tr>\n",
       "      <th>max</th>\n",
       "      <td>25.300000</td>\n",
       "      <td>1.000000</td>\n",
       "      <td>18495.000000</td>\n",
       "      <td>9.825255</td>\n",
       "      <td>2017.000000</td>\n",
       "      <td>27.000000</td>\n",
       "      <td>3.230804</td>\n",
       "      <td>1.000000</td>\n",
       "      <td>1.000000</td>\n",
       "      <td>1.000000</td>\n",
       "      <td>1.000000</td>\n",
       "      <td>1.000000</td>\n",
       "      <td>1.000000</td>\n",
       "      <td>1.000000</td>\n",
       "      <td>729.000000</td>\n",
       "      <td>19683.000000</td>\n",
       "      <td>640.090000</td>\n",
       "    </tr>\n",
       "  </tbody>\n",
       "</table>\n",
       "</div>"
      ],
      "text/plain": [
       "         odometer      dealer         price     lnprice         year  \\\n",
       "count  281.000000  281.000000    281.000000  281.000000   281.000000   \n",
       "mean    12.521702    0.313167   6060.975089    8.410963  2005.701068   \n",
       "std      5.172572    0.464609   4490.818067    0.812821     5.892153   \n",
       "min      0.231900    0.000000    550.000000    6.309918  1991.000000   \n",
       "25%      8.140000    0.000000   2500.000000    7.824046  2001.000000   \n",
       "50%     13.655900    0.000000   4400.000000    8.389359  2005.000000   \n",
       "75%     16.430000    1.000000   8995.000000    9.104425  2011.000000   \n",
       "max     25.300000    1.000000  18495.000000    9.825255  2017.000000   \n",
       "\n",
       "              age  lnodometer          LE         XLE          SE  \\\n",
       "count  281.000000  281.000000  281.000000  281.000000  281.000000   \n",
       "mean    12.298932    2.399433    0.192171    0.071174    0.064057   \n",
       "std      5.892153    0.590359    0.394710    0.257575    0.245291   \n",
       "min      1.000000   -1.461449    0.000000    0.000000    0.000000   \n",
       "25%      7.000000    2.096790    0.000000    0.000000    0.000000   \n",
       "50%     13.000000    2.614172    0.000000    0.000000    0.000000   \n",
       "75%     17.000000    2.799109    0.000000    0.000000    0.000000   \n",
       "max     27.000000    3.230804    1.000000    1.000000    1.000000   \n",
       "\n",
       "       cond_excellent   cond_good  cond_likenew     cylind6       agesq  \\\n",
       "count      281.000000  281.000000    281.000000  281.000000  281.000000   \n",
       "mean         0.266904    0.238434      0.053381    0.145907  185.857651   \n",
       "std          0.443131    0.426886      0.225193    0.353643  150.578697   \n",
       "min          0.000000    0.000000      0.000000    0.000000    1.000000   \n",
       "25%          0.000000    0.000000      0.000000    0.000000   49.000000   \n",
       "50%          0.000000    0.000000      0.000000    0.000000  169.000000   \n",
       "75%          1.000000    0.000000      0.000000    0.000000  289.000000   \n",
       "max          1.000000    1.000000      1.000000    1.000000  729.000000   \n",
       "\n",
       "              agecu  odometersq  \n",
       "count    281.000000  281.000000  \n",
       "mean    3141.096085  183.453306  \n",
       "std     3504.795719  127.300387  \n",
       "min        1.000000    0.053778  \n",
       "25%      343.000000   66.259600  \n",
       "50%     2197.000000  186.483605  \n",
       "75%     4913.000000  269.944900  \n",
       "max    19683.000000  640.090000  "
      ]
     },
     "execution_count": 26,
     "metadata": {},
     "output_type": "execute_result"
    }
   ],
   "source": [
    "data.describe()\n"
   ]
  },
  {
   "cell_type": "code",
   "execution_count": 27,
   "metadata": {},
   "outputs": [],
   "source": [
    "###################################\n",
    "# Linear regressions\n",
    "\n",
    "# Model 1: Linear regression on age\n",
    "model1 = \"price ~ age + agesq\"\n",
    "\n",
    "# Models 2-5: Multiple linear regressions\n",
    "# note: condition - missing will be baseline for regs\n",
    "model2 = \"price ~ age + agesq + odometer\"\n",
    "model3 = \"price ~ age + agesq + odometer + odometersq + LE + cond_excellent + cond_good + dealer\"\n",
    "model4 = \"price ~ age + agesq + odometer + odometersq + LE + XLE + SE + cond_likenew + cond_excellent + cond_good + cylind6 + dealer\"\n",
    "model5 = \"price ~ age + agesq + odometer + odometersq + LE * age + XLE * age + SE * age + cond_likenew * age + cond_excellent * age + cond_good * age + cylind6 * age + odometer * age + dealer * age\"\n",
    "\n",
    "model_equations = [model1, model2, model3, model4, model5]"
   ]
  },
  {
   "cell_type": "markdown",
   "metadata": {},
   "source": [
    "Estimate regressions"
   ]
  },
  {
   "cell_type": "code",
   "execution_count": 28,
   "metadata": {},
   "outputs": [],
   "source": [
    "regs = []\n",
    "for equation in model_equations:\n",
    "    regs.append(smf.ols(equation, data).fit(cov_type=\"HC1\"))"
   ]
  },
  {
   "cell_type": "code",
   "execution_count": 29,
   "metadata": {},
   "outputs": [
    {
     "data": {
      "image/png": "[encoded data removed]",
      "text/plain": [
       "<Figure size 640x480 with 1 Axes>"
      ]
     },
     "metadata": {},
     "output_type": "display_data"
    },
    {
     "data": {
      "text/plain": [
       "<ggplot: (378047395)>"
      ]
     },
     "execution_count": 29,
     "metadata": {},
     "output_type": "execute_result"
    }
   ],
   "source": [
    "(\n",
    "    ggplot(data, aes(x=\"age\"))\n",
    "    + geom_smooth(\n",
    "        aes(y=\"price\"),\n",
    "        colour=color[0],\n",
    "        linetype=\"dashed\",\n",
    "        method=\"loess\",\n",
    "        se=False,\n",
    "        size=1,\n",
    "    )\n",
    "    + geom_line(aes(y=\"regs[0].predict()\"), colour=color[1], size=1)\n",
    "    + labs(x=\"Age (years)\", y=\"Price (US dollars)\")\n",
    "    + theme_bw()\n",
    "    + scale_x_continuous(limits=(0, 30), breaks=seq(0, 30, 5))\n",
    "    + scale_y_continuous(limits=(0, 20000), breaks=seq(0, 20000, 5000))\n",
    ")"
   ]
  },
  {
   "cell_type": "markdown",
   "metadata": {},
   "source": [
    "### Table 13.2 Regression models for predicting used car price"
   ]
  },
  {
   "cell_type": "code",
   "execution_count": 30,
   "metadata": {},
   "outputs": [
    {
     "data": {
      "text/html": [
       "<table style=\"text-align:center\"><tr><td colspan=\"5\" style=\"border-bottom: 1px solid black\"></td></tr><tr><td style=\"text-align:left\"></td><td colspan=\"4\"><em>Dependent variable:price</em></td></tr><tr><td style=\"text-align:left\"></td><tr><td style=\"text-align:left\"></td><td>(1)</td><td>(2)</td><td>(3)</td><td>(4)</td></tr><tr><td colspan=\"5\" style=\"border-bottom: 1px solid black\"></td></tr><tr><td style=\"text-align:left\">Intercept</td><td>18365.447<sup>***</sup></td><td>18860.197<sup>***</sup></td><td>19431.888<sup>***</sup></td><td>18963.354<sup>***</sup></td></tr><tr><td style=\"text-align:left\"></td><td>(353.534)</td><td>(313.505)</td><td>(418.947)</td><td>(451.933)</td></tr><tr><td style=\"text-align:left\">LE</td><td></td><td></td><td>28.113<sup></sup></td><td>-20.482<sup></sup></td></tr><tr><td style=\"text-align:left\"></td><td></td><td></td><td>(202.578)</td><td>(207.509)</td></tr><tr><td style=\"text-align:left\">SE</td><td></td><td></td><td></td><td>1338.787<sup>**</sup></td></tr><tr><td style=\"text-align:left\"></td><td></td><td></td><td></td><td>(527.717)</td></tr><tr><td style=\"text-align:left\">XLE</td><td></td><td></td><td></td><td>301.685<sup></sup></td></tr><tr><td style=\"text-align:left\"></td><td></td><td></td><td></td><td>(365.083)</td></tr><tr><td style=\"text-align:left\">age</td><td>-1530.088<sup>***</sup></td><td>-1149.223<sup>***</sup></td><td>-873.473<sup>***</sup></td><td>-836.643<sup>***</sup></td></tr><tr><td style=\"text-align:left\"></td><td>(59.643)</td><td>(70.123)</td><td>(82.351)</td><td>(78.535)</td></tr><tr><td style=\"text-align:left\">agesq</td><td>35.048<sup>***</sup></td><td>27.653<sup>***</sup></td><td>18.214<sup>***</sup></td><td>17.630<sup>***</sup></td></tr><tr><td style=\"text-align:left\"></td><td>(2.314)</td><td>(2.558)</td><td>(2.602)</td><td>(2.472)</td></tr><tr><td style=\"text-align:left\">cond_excellent</td><td></td><td></td><td>176.487<sup></sup></td><td>190.403<sup></sup></td></tr><tr><td style=\"text-align:left\"></td><td></td><td></td><td>(194.196)</td><td>(208.324)</td></tr><tr><td style=\"text-align:left\">cond_good</td><td></td><td></td><td>293.361<sup></sup></td><td>321.558<sup></sup></td></tr><tr><td style=\"text-align:left\"></td><td></td><td></td><td>(223.992)</td><td>(233.367)</td></tr><tr><td style=\"text-align:left\">cond_likenew</td><td></td><td></td><td></td><td>558.674<sup></sup></td></tr><tr><td style=\"text-align:left\"></td><td></td><td></td><td></td><td>(393.994)</td></tr><tr><td style=\"text-align:left\">cylind6</td><td></td><td></td><td></td><td>-370.275<sup></sup></td></tr><tr><td style=\"text-align:left\"></td><td></td><td></td><td></td><td>(257.255)</td></tr><tr><td style=\"text-align:left\">dealer</td><td></td><td></td><td>572.976<sup>**</sup></td><td>822.649<sup>***</sup></td></tr><tr><td style=\"text-align:left\"></td><td></td><td></td><td>(224.363)</td><td>(237.332)</td></tr><tr><td style=\"text-align:left\">odometer</td><td></td><td>-303.840<sup>***</sup></td><td>-779.898<sup>***</sup></td><td>-788.702<sup>***</sup></td></tr><tr><td style=\"text-align:left\"></td><td></td><td>(31.105)</td><td>(88.245)</td><td>(84.644)</td></tr><tr><td style=\"text-align:left\">odometersq</td><td></td><td></td><td>18.808<sup>***</sup></td><td>19.200<sup>***</sup></td></tr><tr><td style=\"text-align:left\"></td><td></td><td></td><td>(2.735)</td><td>(2.662)</td></tr><td colspan=\"5\" style=\"border-bottom: 1px solid black\"></td></tr><tr><td style=\"text-align: left\">Observations</td><td>281</td><td>281</td><td>281</td><td>281</td></tr><tr><td style=\"text-align: left\">R<sup>2</sup></td><td>0.847</td><td>0.898</td><td>0.913</td><td>0.919</td></tr><tr><td style=\"text-align: left\">Adjusted R<sup>2</sup></td><td>0.846</td><td>0.897</td><td>0.910</td><td>0.916</td></tr><tr><td style=\"text-align: left\">Residual Std. Error</td><td>1764.626 (df=278)</td><td>1444.030 (df=277)</td><td>1344.373 (df=272)</td><td>1304.178 (df=268)</td></tr><tr><td style=\"text-align: left\">F Statistic</td><td>1065.298<sup>***</sup> (df=2; 278)</td><td>1150.543<sup>***</sup> (df=3; 277)</td><td>487.040<sup>***</sup> (df=8; 272)</td><td>316.440<sup>***</sup> (df=12; 268)</td></tr><tr><td colspan=\"5\" style=\"border-bottom: 1px solid black\"></td></tr><tr><td style=\"text-align: left\">Note:</td>\n",
       " <td colspan=\"4\" style=\"text-align: right\">\n",
       "  <sup>*</sup>p&lt;0.1;\n",
       "  <sup>**</sup>p&lt;0.05;\n",
       "  <sup>***</sup>p&lt;0.01\n",
       " </td></tr></table>"
      ],
      "text/plain": [
       "<stargazer.stargazer.Stargazer at 0x168874310>"
      ]
     },
     "execution_count": 30,
     "metadata": {},
     "output_type": "execute_result"
    }
   ],
   "source": [
    "stargazer.Stargazer(regs[:4])\n"
   ]
  },
  {
   "cell_type": "markdown",
   "metadata": {},
   "source": [
    "Model 5 - not displayed in book"
   ]
  },
  {
   "cell_type": "code",
   "execution_count": 31,
   "metadata": {},
   "outputs": [
    {
     "data": {
      "text/html": [
       "<table class=\"simpletable\">\n",
       "<caption>OLS Regression Results</caption>\n",
       "<tr>\n",
       "  <th>Dep. Variable:</th>          <td>price</td>      <th>  R-squared:         </th> <td>   0.923</td> \n",
       "</tr>\n",
       "<tr>\n",
       "  <th>Model:</th>                   <td>OLS</td>       <th>  Adj. R-squared:    </th> <td>   0.917</td> \n",
       "</tr>\n",
       "<tr>\n",
       "  <th>Method:</th>             <td>Least Squares</td>  <th>  F-statistic:       </th> <td>   201.9</td> \n",
       "</tr>\n",
       "<tr>\n",
       "  <th>Date:</th>             <td>Mon, 10 Oct 2022</td> <th>  Prob (F-statistic):</th> <td>2.33e-147</td>\n",
       "</tr>\n",
       "<tr>\n",
       "  <th>Time:</th>                 <td>12:09:21</td>     <th>  Log-Likelihood:    </th> <td> -2400.5</td> \n",
       "</tr>\n",
       "<tr>\n",
       "  <th>No. Observations:</th>      <td>   281</td>      <th>  AIC:               </th> <td>   4845.</td> \n",
       "</tr>\n",
       "<tr>\n",
       "  <th>Df Residuals:</th>          <td>   259</td>      <th>  BIC:               </th> <td>   4925.</td> \n",
       "</tr>\n",
       "<tr>\n",
       "  <th>Df Model:</th>              <td>    21</td>      <th>                     </th>     <td> </td>    \n",
       "</tr>\n",
       "<tr>\n",
       "  <th>Covariance Type:</th>         <td>HC1</td>       <th>                     </th>     <td> </td>    \n",
       "</tr>\n",
       "</table>\n",
       "<table class=\"simpletable\">\n",
       "<tr>\n",
       "           <td></td>             <th>coef</th>     <th>std err</th>      <th>z</th>      <th>P>|z|</th>  <th>[0.025</th>    <th>0.975]</th>  \n",
       "</tr>\n",
       "<tr>\n",
       "  <th>Intercept</th>          <td> 1.848e+04</td> <td>  767.723</td> <td>   24.066</td> <td> 0.000</td> <td>  1.7e+04</td> <td>    2e+04</td>\n",
       "</tr>\n",
       "<tr>\n",
       "  <th>age</th>                <td> -800.5516</td> <td>   97.208</td> <td>   -8.235</td> <td> 0.000</td> <td> -991.076</td> <td> -610.027</td>\n",
       "</tr>\n",
       "<tr>\n",
       "  <th>agesq</th>              <td>   11.2105</td> <td>    3.463</td> <td>    3.238</td> <td> 0.001</td> <td>    4.424</td> <td>   17.997</td>\n",
       "</tr>\n",
       "<tr>\n",
       "  <th>odometer</th>           <td> -783.8117</td> <td>   77.321</td> <td>  -10.137</td> <td> 0.000</td> <td> -935.358</td> <td> -632.265</td>\n",
       "</tr>\n",
       "<tr>\n",
       "  <th>odometersq</th>         <td>   13.0986</td> <td>    3.591</td> <td>    3.647</td> <td> 0.000</td> <td>    6.060</td> <td>   20.137</td>\n",
       "</tr>\n",
       "<tr>\n",
       "  <th>LE</th>                 <td> 1002.5851</td> <td>  818.037</td> <td>    1.226</td> <td> 0.220</td> <td> -600.738</td> <td> 2605.908</td>\n",
       "</tr>\n",
       "<tr>\n",
       "  <th>LE:age</th>             <td>  -72.0799</td> <td>   49.394</td> <td>   -1.459</td> <td> 0.144</td> <td> -168.891</td> <td>   24.731</td>\n",
       "</tr>\n",
       "<tr>\n",
       "  <th>XLE</th>                <td>  863.7939</td> <td>  936.233</td> <td>    0.923</td> <td> 0.356</td> <td> -971.190</td> <td> 2698.777</td>\n",
       "</tr>\n",
       "<tr>\n",
       "  <th>XLE:age</th>            <td>  -44.2100</td> <td>   59.971</td> <td>   -0.737</td> <td> 0.461</td> <td> -161.752</td> <td>   73.332</td>\n",
       "</tr>\n",
       "<tr>\n",
       "  <th>SE</th>                 <td>  912.1881</td> <td> 1113.534</td> <td>    0.819</td> <td> 0.413</td> <td>-1270.299</td> <td> 3094.675</td>\n",
       "</tr>\n",
       "<tr>\n",
       "  <th>SE:age</th>             <td>   57.6355</td> <td>   92.210</td> <td>    0.625</td> <td> 0.532</td> <td> -123.092</td> <td>  238.363</td>\n",
       "</tr>\n",
       "<tr>\n",
       "  <th>cond_likenew</th>       <td> 1390.9522</td> <td>  974.268</td> <td>    1.428</td> <td> 0.153</td> <td> -518.577</td> <td> 3300.482</td>\n",
       "</tr>\n",
       "<tr>\n",
       "  <th>cond_likenew:age</th>   <td>  -69.2110</td> <td>   65.402</td> <td>   -1.058</td> <td> 0.290</td> <td> -197.397</td> <td>   58.975</td>\n",
       "</tr>\n",
       "<tr>\n",
       "  <th>cond_excellent</th>     <td>  277.1115</td> <td>  531.308</td> <td>    0.522</td> <td> 0.602</td> <td> -764.233</td> <td> 1318.456</td>\n",
       "</tr>\n",
       "<tr>\n",
       "  <th>cond_excellent:age</th> <td>   -1.7016</td> <td>   35.789</td> <td>   -0.048</td> <td> 0.962</td> <td>  -71.847</td> <td>   68.444</td>\n",
       "</tr>\n",
       "<tr>\n",
       "  <th>cond_good</th>          <td>  912.5754</td> <td>  804.010</td> <td>    1.135</td> <td> 0.256</td> <td> -663.255</td> <td> 2488.406</td>\n",
       "</tr>\n",
       "<tr>\n",
       "  <th>cond_good:age</th>      <td>  -44.1931</td> <td>   44.904</td> <td>   -0.984</td> <td> 0.325</td> <td> -132.204</td> <td>   43.817</td>\n",
       "</tr>\n",
       "<tr>\n",
       "  <th>cylind6</th>            <td>-1609.8891</td> <td> 1092.487</td> <td>   -1.474</td> <td> 0.141</td> <td>-3751.125</td> <td>  531.347</td>\n",
       "</tr>\n",
       "<tr>\n",
       "  <th>cylind6:age</th>        <td>   87.2012</td> <td>   62.512</td> <td>    1.395</td> <td> 0.163</td> <td>  -35.319</td> <td>  209.722</td>\n",
       "</tr>\n",
       "<tr>\n",
       "  <th>odometer:age</th>       <td>   12.5010</td> <td>    5.690</td> <td>    2.197</td> <td> 0.028</td> <td>    1.349</td> <td>   23.653</td>\n",
       "</tr>\n",
       "<tr>\n",
       "  <th>dealer</th>             <td> 1360.7111</td> <td>  638.848</td> <td>    2.130</td> <td> 0.033</td> <td>  108.592</td> <td> 2612.830</td>\n",
       "</tr>\n",
       "<tr>\n",
       "  <th>dealer:age</th>         <td>  -39.5013</td> <td>   42.473</td> <td>   -0.930</td> <td> 0.352</td> <td> -122.746</td> <td>   43.744</td>\n",
       "</tr>\n",
       "</table>\n",
       "<table class=\"simpletable\">\n",
       "<tr>\n",
       "  <th>Omnibus:</th>       <td>21.996</td> <th>  Durbin-Watson:     </th> <td>   1.966</td>\n",
       "</tr>\n",
       "<tr>\n",
       "  <th>Prob(Omnibus):</th> <td> 0.000</td> <th>  Jarque-Bera (JB):  </th> <td>  51.209</td>\n",
       "</tr>\n",
       "<tr>\n",
       "  <th>Skew:</th>          <td> 0.353</td> <th>  Prob(JB):          </th> <td>7.59e-12</td>\n",
       "</tr>\n",
       "<tr>\n",
       "  <th>Kurtosis:</th>      <td> 4.969</td> <th>  Cond. No.          </th> <td>5.75e+03</td>\n",
       "</tr>\n",
       "</table><br/><br/>Notes:<br/>[1] Standard Errors are heteroscedasticity robust (HC1)<br/>[2] The condition number is large, 5.75e+03. This might indicate that there are<br/>strong multicollinearity or other numerical problems."
      ],
      "text/plain": [
       "<class 'statsmodels.iolib.summary.Summary'>\n",
       "\"\"\"\n",
       "                            OLS Regression Results                            \n",
       "==============================================================================\n",
       "Dep. Variable:                  price   R-squared:                       0.923\n",
       "Model:                            OLS   Adj. R-squared:                  0.917\n",
       "Method:                 Least Squares   F-statistic:                     201.9\n",
       "Date:                Mon, 10 Oct 2022   Prob (F-statistic):          2.33e-147\n",
       "Time:                        12:09:21   Log-Likelihood:                -2400.5\n",
       "No. Observations:                 281   AIC:                             4845.\n",
       "Df Residuals:                     259   BIC:                             4925.\n",
       "Df Model:                          21                                         \n",
       "Covariance Type:                  HC1                                         \n",
       "======================================================================================\n",
       "                         coef    std err          z      P>|z|      [0.025      0.975]\n",
       "--------------------------------------------------------------------------------------\n",
       "Intercept           1.848e+04    767.723     24.066      0.000     1.7e+04       2e+04\n",
       "age                 -800.5516     97.208     -8.235      0.000    -991.076    -610.027\n",
       "agesq                 11.2105      3.463      3.238      0.001       4.424      17.997\n",
       "odometer            -783.8117     77.321    -10.137      0.000    -935.358    -632.265\n",
       "odometersq            13.0986      3.591      3.647      0.000       6.060      20.137\n",
       "LE                  1002.5851    818.037      1.226      0.220    -600.738    2605.908\n",
       "LE:age               -72.0799     49.394     -1.459      0.144    -168.891      24.731\n",
       "XLE                  863.7939    936.233      0.923      0.356    -971.190    2698.777\n",
       "XLE:age              -44.2100     59.971     -0.737      0.461    -161.752      73.332\n",
       "SE                   912.1881   1113.534      0.819      0.413   -1270.299    3094.675\n",
       "SE:age                57.6355     92.210      0.625      0.532    -123.092     238.363\n",
       "cond_likenew        1390.9522    974.268      1.428      0.153    -518.577    3300.482\n",
       "cond_likenew:age     -69.2110     65.402     -1.058      0.290    -197.397      58.975\n",
       "cond_excellent       277.1115    531.308      0.522      0.602    -764.233    1318.456\n",
       "cond_excellent:age    -1.7016     35.789     -0.048      0.962     -71.847      68.444\n",
       "cond_good            912.5754    804.010      1.135      0.256    -663.255    2488.406\n",
       "cond_good:age        -44.1931     44.904     -0.984      0.325    -132.204      43.817\n",
       "cylind6            -1609.8891   1092.487     -1.474      0.141   -3751.125     531.347\n",
       "cylind6:age           87.2012     62.512      1.395      0.163     -35.319     209.722\n",
       "odometer:age          12.5010      5.690      2.197      0.028       1.349      23.653\n",
       "dealer              1360.7111    638.848      2.130      0.033     108.592    2612.830\n",
       "dealer:age           -39.5013     42.473     -0.930      0.352    -122.746      43.744\n",
       "==============================================================================\n",
       "Omnibus:                       21.996   Durbin-Watson:                   1.966\n",
       "Prob(Omnibus):                  0.000   Jarque-Bera (JB):               51.209\n",
       "Skew:                           0.353   Prob(JB):                     7.59e-12\n",
       "Kurtosis:                       4.969   Cond. No.                     5.75e+03\n",
       "==============================================================================\n",
       "\n",
       "Notes:\n",
       "[1] Standard Errors are heteroscedasticity robust (HC1)\n",
       "[2] The condition number is large, 5.75e+03. This might indicate that there are\n",
       "strong multicollinearity or other numerical problems.\n",
       "\"\"\""
      ]
     },
     "execution_count": 31,
     "metadata": {},
     "output_type": "execute_result"
    }
   ],
   "source": [
    "regs[4].summary()"
   ]
  },
  {
   "cell_type": "markdown",
   "metadata": {},
   "source": [
    "## Cross validation"
   ]
  },
  {
   "cell_type": "markdown",
   "metadata": {},
   "source": [
    "Use custom function `ols_crossvalidator` for cross validation"
   ]
  },
  {
   "cell_type": "code",
   "execution_count": 32,
   "metadata": {},
   "outputs": [
    {
     "name": "stdout",
     "output_type": "stream",
     "text": [
      "Help on function ols_crossvalidator in module py_helper_functions:\n",
      "\n",
      "ols_crossvalidator(formula: str, data: pandas.core.frame.DataFrame, n_folds=5, average_rmse=True) -> dict\n",
      "    OLS cross-validator\n",
      "    \n",
      "    \n",
      "    Estimates `formula` equation with OLS and returns values of RMSE, R`2, No. coefficients,\n",
      "    BIC on `data`. Does k-fold cross-validation and either returns train and test RMSE for each\n",
      "    fold, or return averarage train and test RMSEs.\n",
      "    \n",
      "    Parameters\n",
      "    ----------\n",
      "    formula : str\n",
      "        Equation that is estimated by OLS.\n",
      "    data : pd.DataFrame\n",
      "        Database in a wide format.\n",
      "    n_folds : int, default=5\n",
      "        Number of folds. Must be at least 2.\n",
      "    average_rmse : bool, default=True\n",
      "        Whether to return the average train and test RMSE of the k-fold CV, or return\n",
      "        train and test RMSE-s for each fold.\n",
      "\n"
     ]
    }
   ],
   "source": [
    "help(ols_crossvalidator)"
   ]
  },
  {
   "cell_type": "markdown",
   "metadata": {},
   "source": [
    "Set n_fold = 4 for 4-fold cross-validation"
   ]
  },
  {
   "cell_type": "code",
   "execution_count": 33,
   "metadata": {},
   "outputs": [],
   "source": [
    "n_fold = 4"
   ]
  },
  {
   "cell_type": "markdown",
   "metadata": {},
   "source": [
    "Cross-validate models"
   ]
  },
  {
   "cell_type": "code",
   "execution_count": 34,
   "metadata": {},
   "outputs": [],
   "source": [
    "cv_list = []\n",
    "for equation in model_equations:\n",
    "    cv_list.append(ols_crossvalidator(equation, data, n_fold, average_rmse=False))"
   ]
  },
  {
   "cell_type": "markdown",
   "metadata": {},
   "source": [
    "### Table 13.4 Car price models estimated using all original data and measures of fit using all original data"
   ]
  },
  {
   "cell_type": "code",
   "execution_count": 35,
   "metadata": {},
   "outputs": [
    {
     "data": {
      "text/html": [
       "<div>\n",
       "<style scoped>\n",
       "    .dataframe tbody tr th:only-of-type {\n",
       "        vertical-align: middle;\n",
       "    }\n",
       "\n",
       "    .dataframe tbody tr th {\n",
       "        vertical-align: top;\n",
       "    }\n",
       "\n",
       "    .dataframe thead th {\n",
       "        text-align: right;\n",
       "    }\n",
       "</style>\n",
       "<table border=\"1\" class=\"dataframe\">\n",
       "  <thead>\n",
       "    <tr style=\"text-align: right;\">\n",
       "      <th></th>\n",
       "      <th>Nvars</th>\n",
       "      <th>Coefficients</th>\n",
       "      <th>R-squared</th>\n",
       "      <th>RMSE</th>\n",
       "      <th>BIC</th>\n",
       "    </tr>\n",
       "    <tr>\n",
       "      <th>Model</th>\n",
       "      <th></th>\n",
       "      <th></th>\n",
       "      <th></th>\n",
       "      <th></th>\n",
       "      <th></th>\n",
       "    </tr>\n",
       "  </thead>\n",
       "  <tbody>\n",
       "    <tr>\n",
       "      <th>Model 1</th>\n",
       "      <td>1</td>\n",
       "      <td>3</td>\n",
       "      <td>0.85</td>\n",
       "      <td>1755</td>\n",
       "      <td>5012</td>\n",
       "    </tr>\n",
       "    <tr>\n",
       "      <th>Model 2</th>\n",
       "      <td>2</td>\n",
       "      <td>4</td>\n",
       "      <td>0.90</td>\n",
       "      <td>1433</td>\n",
       "      <td>4904</td>\n",
       "    </tr>\n",
       "    <tr>\n",
       "      <th>Model 3</th>\n",
       "      <td>5</td>\n",
       "      <td>9</td>\n",
       "      <td>0.91</td>\n",
       "      <td>1322</td>\n",
       "      <td>4887</td>\n",
       "    </tr>\n",
       "    <tr>\n",
       "      <th>Model 4</th>\n",
       "      <td>6</td>\n",
       "      <td>13</td>\n",
       "      <td>0.92</td>\n",
       "      <td>1273</td>\n",
       "      <td>4888</td>\n",
       "    </tr>\n",
       "    <tr>\n",
       "      <th>Model 5</th>\n",
       "      <td>6</td>\n",
       "      <td>22</td>\n",
       "      <td>0.92</td>\n",
       "      <td>1241</td>\n",
       "      <td>4925</td>\n",
       "    </tr>\n",
       "  </tbody>\n",
       "</table>\n",
       "</div>"
      ],
      "text/plain": [
       "         Nvars  Coefficients  R-squared  RMSE   BIC\n",
       "Model                                              \n",
       "Model 1      1             3       0.85  1755  5012\n",
       "Model 2      2             4       0.90  1433  4904\n",
       "Model 3      5             9       0.91  1322  4887\n",
       "Model 4      6            13       0.92  1273  4888\n",
       "Model 5      6            22       0.92  1241  4925"
      ]
     },
     "execution_count": 35,
     "metadata": {},
     "output_type": "execute_result"
    }
   ],
   "source": [
    "(\n",
    "    pd.DataFrame(cv_list)\n",
    "    .round(2)\n",
    "    .assign(\n",
    "        RMSE=lambda x: x[\"RMSE\"].astype(int),\n",
    "        BIC=lambda x: x[\"BIC\"].astype(int),\n",
    "        Coefficients=lambda x: x[\"Coefficients\"].astype(int),\n",
    "        Model=[\"Model \" + str(i + 1) for i in range(len(model_equations))],\n",
    "        Nvars=[1, 2, 5, 6, 6],\n",
    "    )\n",
    "    .filter([\"Model\", \"Nvars\", \"Coefficients\", \"R-squared\", \"RMSE\", \"BIC\"])\n",
    "    .set_index(\"Model\")\n",
    ")"
   ]
  },
  {
   "cell_type": "markdown",
   "metadata": {},
   "source": [
    "### Table 13.5 Car price models estimated and evaluated using 4-fold cross-validation and RMSE"
   ]
  },
  {
   "cell_type": "code",
   "execution_count": 36,
   "metadata": {},
   "outputs": [
    {
     "data": {
      "text/html": [
       "<div>\n",
       "<style scoped>\n",
       "    .dataframe tbody tr th:only-of-type {\n",
       "        vertical-align: middle;\n",
       "    }\n",
       "\n",
       "    .dataframe tbody tr th {\n",
       "        vertical-align: top;\n",
       "    }\n",
       "\n",
       "    .dataframe thead th {\n",
       "        text-align: right;\n",
       "    }\n",
       "</style>\n",
       "<table border=\"1\" class=\"dataframe\">\n",
       "  <thead>\n",
       "    <tr style=\"text-align: right;\">\n",
       "      <th></th>\n",
       "      <th>Model 1</th>\n",
       "      <th>Model 2</th>\n",
       "      <th>Model 3</th>\n",
       "      <th>Model 4</th>\n",
       "      <th>Model 5</th>\n",
       "    </tr>\n",
       "  </thead>\n",
       "  <tbody>\n",
       "    <tr>\n",
       "      <th>Fold1</th>\n",
       "      <td>2184</td>\n",
       "      <td>1685</td>\n",
       "      <td>1517</td>\n",
       "      <td>1546</td>\n",
       "      <td>1496</td>\n",
       "    </tr>\n",
       "    <tr>\n",
       "      <th>Fold2</th>\n",
       "      <td>1591</td>\n",
       "      <td>1435</td>\n",
       "      <td>1333</td>\n",
       "      <td>1335</td>\n",
       "      <td>1410</td>\n",
       "    </tr>\n",
       "    <tr>\n",
       "      <th>Fold3</th>\n",
       "      <td>1925</td>\n",
       "      <td>1538</td>\n",
       "      <td>1476</td>\n",
       "      <td>1424</td>\n",
       "      <td>1495</td>\n",
       "    </tr>\n",
       "    <tr>\n",
       "      <th>Fold4</th>\n",
       "      <td>1541</td>\n",
       "      <td>1428</td>\n",
       "      <td>1429</td>\n",
       "      <td>1372</td>\n",
       "      <td>1438</td>\n",
       "    </tr>\n",
       "    <tr>\n",
       "      <th>Average</th>\n",
       "      <td>1810</td>\n",
       "      <td>1521</td>\n",
       "      <td>1439</td>\n",
       "      <td>1419</td>\n",
       "      <td>1460</td>\n",
       "    </tr>\n",
       "  </tbody>\n",
       "</table>\n",
       "</div>"
      ],
      "text/plain": [
       "         Model 1  Model 2  Model 3  Model 4  Model 5\n",
       "Fold1       2184     1685     1517     1546     1496\n",
       "Fold2       1591     1435     1333     1335     1410\n",
       "Fold3       1925     1538     1476     1424     1495\n",
       "Fold4       1541     1428     1429     1372     1438\n",
       "Average     1810     1521     1439     1419     1460"
      ]
     },
     "execution_count": 36,
     "metadata": {},
     "output_type": "execute_result"
    }
   ],
   "source": [
    "pd.DataFrame(\n",
    "    [cv[\"Test RMSE\"] for cv in cv_list],\n",
    "    index=[\"Model \" + str(i + 1) for i in range(len(cv_list))],\n",
    "    columns=[\"Fold\" + str(i + 1) for i in range(len(cv_list[0][\"Test RMSE\"]))],\n",
    ").assign(Average=lambda x: x.mean(axis=1)).T.round().astype(int)"
   ]
  },
  {
   "cell_type": "markdown",
   "metadata": {},
   "source": [
    "### Prediction"
   ]
  },
  {
   "cell_type": "code",
   "execution_count": 37,
   "metadata": {},
   "outputs": [],
   "source": [
    "data = data.loc[\n",
    "    :,\n",
    "    [\n",
    "        \"age\",\n",
    "        \"agesq\",\n",
    "        \"odometer\",\n",
    "        \"odometersq\",\n",
    "        \"SE\",\n",
    "        \"LE\",\n",
    "        \"XLE\",\n",
    "        \"cond_likenew\",\n",
    "        \"cond_excellent\",\n",
    "        \"cond_good\",\n",
    "        \"dealer\",\n",
    "        \"price\",\n",
    "        \"cylind6\",\n",
    "    ],\n",
    "]\n"
   ]
  },
  {
   "cell_type": "code",
   "execution_count": 38,
   "metadata": {},
   "outputs": [
    {
     "data": {
      "text/plain": [
       "age                 int64\n",
       "agesq               int64\n",
       "odometer          float64\n",
       "odometersq        float64\n",
       "SE                  int64\n",
       "LE                  int64\n",
       "XLE                 int64\n",
       "cond_likenew        int64\n",
       "cond_excellent      int64\n",
       "cond_good           int64\n",
       "dealer              int64\n",
       "price               int64\n",
       "cylind6             int64\n",
       "dtype: object"
      ]
     },
     "execution_count": 38,
     "metadata": {},
     "output_type": "execute_result"
    }
   ],
   "source": [
    "data.dtypes\n"
   ]
  },
  {
   "cell_type": "code",
   "execution_count": 39,
   "metadata": {
    "scrolled": true
   },
   "outputs": [
    {
     "data": {
      "text/html": [
       "<div>\n",
       "<style scoped>\n",
       "    .dataframe tbody tr th:only-of-type {\n",
       "        vertical-align: middle;\n",
       "    }\n",
       "\n",
       "    .dataframe tbody tr th {\n",
       "        vertical-align: top;\n",
       "    }\n",
       "\n",
       "    .dataframe thead th {\n",
       "        text-align: right;\n",
       "    }\n",
       "</style>\n",
       "<table border=\"1\" class=\"dataframe\">\n",
       "  <thead>\n",
       "    <tr style=\"text-align: right;\">\n",
       "      <th></th>\n",
       "      <th>age</th>\n",
       "      <th>agesq</th>\n",
       "      <th>odometer</th>\n",
       "      <th>odometersq</th>\n",
       "      <th>SE</th>\n",
       "      <th>LE</th>\n",
       "      <th>XLE</th>\n",
       "      <th>cond_likenew</th>\n",
       "      <th>cond_excellent</th>\n",
       "      <th>cond_good</th>\n",
       "      <th>dealer</th>\n",
       "      <th>price</th>\n",
       "      <th>cylind6</th>\n",
       "    </tr>\n",
       "  </thead>\n",
       "  <tbody>\n",
       "    <tr>\n",
       "      <th>0</th>\n",
       "      <td>10.0</td>\n",
       "      <td>100.0</td>\n",
       "      <td>12.0</td>\n",
       "      <td>144.0</td>\n",
       "      <td>0.0</td>\n",
       "      <td>1.0</td>\n",
       "      <td>0.0</td>\n",
       "      <td>0.0</td>\n",
       "      <td>1.0</td>\n",
       "      <td>0.0</td>\n",
       "      <td>0.0</td>\n",
       "      <td>NaN</td>\n",
       "      <td>0.0</td>\n",
       "    </tr>\n",
       "  </tbody>\n",
       "</table>\n",
       "</div>"
      ],
      "text/plain": [
       "    age  agesq  odometer  odometersq   SE   LE  XLE  cond_likenew  \\\n",
       "0  10.0  100.0      12.0       144.0  0.0  1.0  0.0           0.0   \n",
       "\n",
       "   cond_excellent  cond_good  dealer  price  cylind6  \n",
       "0             1.0        0.0     0.0    NaN      0.0  "
      ]
     },
     "execution_count": 39,
     "metadata": {},
     "output_type": "execute_result"
    }
   ],
   "source": [
    "new = pd.DataFrame(\n",
    "    pd.Series(\n",
    "        {\n",
    "            \"age\": 10,\n",
    "            \"agesq\": 10**2,\n",
    "            \"odometer\": 12,\n",
    "            \"odometersq\": 12**2,\n",
    "            \"SE\": 0,\n",
    "            \"LE\": 1,\n",
    "            \"XLE\": 0,\n",
    "            \"cond_likenew\": 0,\n",
    "            \"cond_excellent\": 1,\n",
    "            \"cond_good\": 0,\n",
    "            \"dealer\": 0,\n",
    "            \"price\": np.nan,\n",
    "            \"cylind6\": 0,\n",
    "        }\n",
    "    )\n",
    ").T\n",
    "new\n"
   ]
  },
  {
   "cell_type": "code",
   "execution_count": 40,
   "metadata": {},
   "outputs": [
    {
     "data": {
      "text/html": [
       "<div>\n",
       "<style scoped>\n",
       "    .dataframe tbody tr th:only-of-type {\n",
       "        vertical-align: middle;\n",
       "    }\n",
       "\n",
       "    .dataframe tbody tr th {\n",
       "        vertical-align: top;\n",
       "    }\n",
       "\n",
       "    .dataframe thead th {\n",
       "        text-align: right;\n",
       "    }\n",
       "</style>\n",
       "<table border=\"1\" class=\"dataframe\">\n",
       "  <thead>\n",
       "    <tr style=\"text-align: right;\">\n",
       "      <th></th>\n",
       "      <th>age</th>\n",
       "      <th>agesq</th>\n",
       "      <th>odometer</th>\n",
       "      <th>odometersq</th>\n",
       "      <th>SE</th>\n",
       "      <th>LE</th>\n",
       "      <th>XLE</th>\n",
       "      <th>cond_likenew</th>\n",
       "      <th>cond_excellent</th>\n",
       "      <th>cond_good</th>\n",
       "      <th>dealer</th>\n",
       "      <th>price</th>\n",
       "      <th>cylind6</th>\n",
       "    </tr>\n",
       "  </thead>\n",
       "  <tbody>\n",
       "    <tr>\n",
       "      <th>0</th>\n",
       "      <td>10.0</td>\n",
       "      <td>100.0</td>\n",
       "      <td>12.0</td>\n",
       "      <td>144.0</td>\n",
       "      <td>0.0</td>\n",
       "      <td>1.0</td>\n",
       "      <td>0.0</td>\n",
       "      <td>0.0</td>\n",
       "      <td>1.0</td>\n",
       "      <td>0.0</td>\n",
       "      <td>0.0</td>\n",
       "      <td>NaN</td>\n",
       "      <td>0.0</td>\n",
       "    </tr>\n",
       "    <tr>\n",
       "      <th>0</th>\n",
       "      <td>10.0</td>\n",
       "      <td>100.0</td>\n",
       "      <td>12.0</td>\n",
       "      <td>144.0</td>\n",
       "      <td>0.0</td>\n",
       "      <td>1.0</td>\n",
       "      <td>0.0</td>\n",
       "      <td>0.0</td>\n",
       "      <td>1.0</td>\n",
       "      <td>0.0</td>\n",
       "      <td>0.0</td>\n",
       "      <td>NaN</td>\n",
       "      <td>0.0</td>\n",
       "    </tr>\n",
       "  </tbody>\n",
       "</table>\n",
       "</div>"
      ],
      "text/plain": [
       "    age  agesq  odometer  odometersq   SE   LE  XLE  cond_likenew  \\\n",
       "0  10.0  100.0      12.0       144.0  0.0  1.0  0.0           0.0   \n",
       "0  10.0  100.0      12.0       144.0  0.0  1.0  0.0           0.0   \n",
       "\n",
       "   cond_excellent  cond_good  dealer  price  cylind6  \n",
       "0             1.0        0.0     0.0    NaN      0.0  \n",
       "0             1.0        0.0     0.0    NaN      0.0  "
      ]
     },
     "execution_count": 40,
     "metadata": {},
     "output_type": "execute_result"
    }
   ],
   "source": [
    "new.append(new)"
   ]
  },
  {
   "cell_type": "code",
   "execution_count": 41,
   "metadata": {},
   "outputs": [],
   "source": [
    "reg1 = regs[0]\n",
    "reg3 = regs[2]"
   ]
  },
  {
   "cell_type": "code",
   "execution_count": 42,
   "metadata": {},
   "outputs": [
    {
     "data": {
      "text/plain": [
       "count    2.810000e+02\n",
       "mean     8.544719e-12\n",
       "std      1.758313e+03\n",
       "min     -6.367827e+03\n",
       "25%     -8.636628e+02\n",
       "50%     -1.013318e+02\n",
       "75%      8.936205e+02\n",
       "max      7.448668e+03\n",
       "dtype: float64"
      ]
     },
     "execution_count": 42,
     "metadata": {},
     "output_type": "execute_result"
    }
   ],
   "source": [
    "reg1.resid.describe()\n"
   ]
  },
  {
   "cell_type": "code",
   "execution_count": 43,
   "metadata": {},
   "outputs": [
    {
     "data": {
      "text/plain": [
       "count    2.810000e+02\n",
       "mean    -1.530281e-11\n",
       "std      1.325029e+03\n",
       "min     -5.782218e+03\n",
       "25%     -5.845089e+02\n",
       "50%      1.056349e+01\n",
       "75%      6.282881e+02\n",
       "max      4.245894e+03\n",
       "dtype: float64"
      ]
     },
     "execution_count": 43,
     "metadata": {},
     "output_type": "execute_result"
    }
   ],
   "source": [
    "(reg3.fittedvalues - data.price).describe()\n"
   ]
  },
  {
   "cell_type": "markdown",
   "metadata": {},
   "source": [
    "### Table 13.3 Point predictions and interval predictions for a specific car, using models 1 and 3"
   ]
  },
  {
   "cell_type": "markdown",
   "metadata": {},
   "source": [
    "Use custom function `point_predict_with_conf_int` to extract point and interval prediction for a new datapoint."
   ]
  },
  {
   "cell_type": "code",
   "execution_count": 44,
   "metadata": {},
   "outputs": [
    {
     "name": "stdout",
     "output_type": "stream",
     "text": [
      "Help on function point_predict_with_conf_int in module py_helper_functions:\n",
      "\n",
      "point_predict_with_conf_int(regression: statsmodels.regression.linear_model.RegressionResultsWrapper, new_datapoint: pandas.core.frame.DataFrame, interval_precision=0.95, round_n=2) -> dict\n",
      "    Does point prediction and interval prediction for a new datapoint.\n",
      "    \n",
      "        Parameters\n",
      "    ----------\n",
      "    regression : statsmodels.regression.linear_model.RegressionResultsWrapper\n",
      "        Fitted regression model.\n",
      "    new_datapoint : pd.DataFrame\n",
      "        Database containing a new observation.\n",
      "    interval_precision : float, default=0.95\n",
      "        Precision of interval prediction.\n",
      "    round_n: int, default=2\n",
      "        Decimals to round floats in output.\n",
      "\n"
     ]
    }
   ],
   "source": [
    "help(point_predict_with_conf_int)"
   ]
  },
  {
   "cell_type": "code",
   "execution_count": 45,
   "metadata": {},
   "outputs": [],
   "source": [
    "p95 = pd.DataFrame(\n",
    "    [\n",
    "        point_predict_with_conf_int(reg1, new, interval_precision=0.95, round_n=0),\n",
    "        point_predict_with_conf_int(reg3, new, interval_precision=0.95, round_n=0),\n",
    "    ],\n",
    "    index=[\"Model 1\", \"Model 2\"],\n",
    ").T\n",
    "p95.loc[\"Prediction Interval (95%)\", :] = p95.loc[\"Prediction Interval (95%)\", :].apply(\n",
    "    format_confidence_interval\n",
    ")"
   ]
  },
  {
   "cell_type": "code",
   "execution_count": 46,
   "metadata": {},
   "outputs": [],
   "source": [
    "p80 = pd.DataFrame(\n",
    "    [\n",
    "        point_predict_with_conf_int(reg1, new, interval_precision=0.8, round_n=0),\n",
    "        point_predict_with_conf_int(reg3, new, interval_precision=0.8, round_n=0),\n",
    "    ],\n",
    "    index=[\"Model 1\", \"Model 2\"],\n",
    ").T\n",
    "p80.loc[\"Prediction Interval (80%)\", :] = p80.loc[\"Prediction Interval (80%)\", :].apply(\n",
    "    format_confidence_interval\n",
    ")"
   ]
  },
  {
   "cell_type": "code",
   "execution_count": 47,
   "metadata": {},
   "outputs": [
    {
     "data": {
      "text/html": [
       "<div>\n",
       "<style scoped>\n",
       "    .dataframe tbody tr th:only-of-type {\n",
       "        vertical-align: middle;\n",
       "    }\n",
       "\n",
       "    .dataframe tbody tr th {\n",
       "        vertical-align: top;\n",
       "    }\n",
       "\n",
       "    .dataframe thead th {\n",
       "        text-align: right;\n",
       "    }\n",
       "</style>\n",
       "<table border=\"1\" class=\"dataframe\">\n",
       "  <thead>\n",
       "    <tr style=\"text-align: right;\">\n",
       "      <th></th>\n",
       "      <th>Model 1</th>\n",
       "      <th>Model 2</th>\n",
       "    </tr>\n",
       "  </thead>\n",
       "  <tbody>\n",
       "    <tr>\n",
       "      <th>Point prediction</th>\n",
       "      <td>6569</td>\n",
       "      <td>6073</td>\n",
       "    </tr>\n",
       "    <tr>\n",
       "      <th>Prediction Interval (80%)</th>\n",
       "      <td>[4299–8840]</td>\n",
       "      <td>[4323–7822]</td>\n",
       "    </tr>\n",
       "    <tr>\n",
       "      <th>Prediction Interval (95%)</th>\n",
       "      <td>[3097–10042]</td>\n",
       "      <td>[3397–8749]</td>\n",
       "    </tr>\n",
       "  </tbody>\n",
       "</table>\n",
       "</div>"
      ],
      "text/plain": [
       "                                Model 1      Model 2\n",
       "Point prediction                   6569         6073\n",
       "Prediction Interval (80%)   [4299–8840]  [4323–7822]\n",
       "Prediction Interval (95%)  [3097–10042]  [3397–8749]"
      ]
     },
     "execution_count": 47,
     "metadata": {},
     "output_type": "execute_result"
    }
   ],
   "source": [
    "p80.append(p95.loc[\"Prediction Interval (95%)\"])"
   ]
  },
  {
   "cell_type": "code",
   "execution_count": null,
   "metadata": {},
   "outputs": [],
   "source": []
  }
 ],
 "metadata": {
  "kernelspec": {
   "display_name": "da_case_studies-4lQ4EmNL",
   "language": "python",
   "name": "python3"
  },
  "language_info": {
   "codemirror_mode": {
    "name": "ipython",
    "version": 3
   },
   "file_extension": ".py",
   "mimetype": "text/x-python",
   "name": "python",
   "nbconvert_exporter": "python",
   "pygments_lexer": "ipython3",
   "version": "3.8.10"
  }
 },
 "nbformat": 4,
 "nbformat_minor": 4
}
