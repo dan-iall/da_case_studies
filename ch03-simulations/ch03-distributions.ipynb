{
 "cells": [
  {
   "cell_type": "markdown",
   "metadata": {},
   "source": [
    "#### Prepared for Gabor's Data Analysis\n",
    "\n",
    "### Data Analysis for Business, Economics, and Policy\n",
    "by Gabor Bekes and  Gabor Kezdi\n",
    " \n",
    "Cambridge University Press 2021\n",
    "\n",
    "**[gabors-data-analysis.com ](https://gabors-data-analysis.com/)**\n",
    "\n",
    " License: Free to share, modify and use for educational purposes. \n",
    " Not to be used for commercial purposes.\n",
    "\n",
    "### Chapter 03\n",
    "**Simulating the density function (histograms) of theoretical distributions**\n",
    "\n",
    "no actual dataset is used\n",
    "\n",
    "version 1.0 2021-05-05"
   ]
  },
  {
   "cell_type": "code",
   "execution_count": null,
   "metadata": {},
   "outputs": [],
   "source": [
    "import os\n",
    "import sys\n",
    "import warnings\n",
    "\n",
    "import numpy as np\n",
    "import pandas as pd\n",
    "from mizani.formatters import percent_format, scientific_format\n",
    "from plotnine import *\n",
    "\n",
    "warnings.filterwarnings(\"ignore\")"
   ]
  },
  {
   "cell_type": "code",
   "execution_count": null,
   "metadata": {},
   "outputs": [],
   "source": [
    "# Current script folder\n",
    "current_path = os.getcwd()\n",
    "dirname = current_path.split(\"da_case_studies\")[0]\n",
    "\n",
    "# location folders\n",
    "output = dirname + \"da_case_studies/ch03-simulations/output/\"\n",
    "func = dirname + \"da_case_studies/ch00-tech-prep/\"\n",
    "sys.path.append(func)"
   ]
  },
  {
   "cell_type": "code",
   "execution_count": null,
   "metadata": {},
   "outputs": [],
   "source": [
    "# Import the prewritten helper functions\n",
    "from py_helper_functions import *"
   ]
  },
  {
   "cell_type": "code",
   "execution_count": null,
   "metadata": {},
   "outputs": [],
   "source": [
    "obs = 100000"
   ]
  },
  {
   "cell_type": "markdown",
   "metadata": {},
   "source": [
    "Set random seed globally here"
   ]
  },
  {
   "cell_type": "code",
   "execution_count": null,
   "metadata": {},
   "outputs": [],
   "source": [
    "rng = np.random.default_rng(16460)"
   ]
  },
  {
   "cell_type": "code",
   "execution_count": null,
   "metadata": {},
   "outputs": [],
   "source": [
    "# Bernoulli\n",
    "bernoulli = pd.DataFrame(rng.binomial(1, 0.7, obs), columns=[\"bernoulli\"])"
   ]
  },
  {
   "cell_type": "code",
   "execution_count": null,
   "metadata": {},
   "outputs": [],
   "source": [
    "(\n",
    "    ggplot(bernoulli, aes(x=\"bernoulli\", y=\"stat(count)/sum(stat(count))\"))\n",
    "    + geom_histogram(\n",
    "        binwidth=0.1,\n",
    "        color=\"white\",\n",
    "        fill=color[0],\n",
    "        size=0.25,\n",
    "        alpha=0.8,\n",
    "        show_legend=False,\n",
    "        na_rm=True,\n",
    "    )\n",
    "    + labs(y=\"Percent\")\n",
    "    + expand_limits(x=0.01, y=0.01)\n",
    "    + scale_x_continuous(limits=(-0.1, 1.1), breaks=seq(0, 1, by=1))\n",
    "    + scale_y_continuous(labels=percent_format())\n",
    "    + theme_bw()\n",
    ")\n"
   ]
  },
  {
   "cell_type": "code",
   "execution_count": null,
   "metadata": {},
   "outputs": [],
   "source": [
    "# Binomial\n",
    "# with smaller sample\n",
    "Nbinom = 20\n",
    "\n",
    "binomial = pd.DataFrame(rng.binomial(Nbinom, 0.4, obs), columns=[\"binomial\"])"
   ]
  },
  {
   "cell_type": "code",
   "execution_count": null,
   "metadata": {},
   "outputs": [],
   "source": [
    "(\n",
    "    ggplot(binomial, aes(x=\"binomial\", y=\"stat(count)/sum(stat(count))\"))\n",
    "    + geom_histogram(color=\"white\", fill=color[0], binwidth=0.5)\n",
    "    + labs(y=\"Percent\")\n",
    "    + scale_y_continuous(expand=(0.01, 0.01), labels=percent_format())\n",
    "    + scale_x_continuous(expand=(0.01, 0.01), limits=(0, 16), breaks=seq(0, 16, by=2))\n",
    "    + theme_bw()\n",
    ")\n"
   ]
  },
  {
   "cell_type": "code",
   "execution_count": null,
   "metadata": {},
   "outputs": [],
   "source": [
    "# uniform\n",
    "uniform = pd.DataFrame(rng.uniform(0, 1, obs), columns=[\"uniform\"])"
   ]
  },
  {
   "cell_type": "code",
   "execution_count": null,
   "metadata": {},
   "outputs": [],
   "source": [
    "(\n",
    "    ggplot(uniform, aes(x=\"uniform\", y=\"stat(count)/sum(stat(count))\"))\n",
    "    + geom_histogram(\n",
    "        bins=50,\n",
    "        center=1,\n",
    "        color=\"white\",\n",
    "        fill=color[0],\n",
    "        size=0.25,\n",
    "        alpha=0.8,\n",
    "        show_legend=False,\n",
    "        na_rm=True,\n",
    "    )\n",
    "    + labs(y=\"Percent\")\n",
    "    + scale_x_continuous(expand=(0.01, 0.01), limits=(0, 1), breaks=seq(0, 1, by=0.1))\n",
    "    + scale_y_continuous(expand=(0.001, 0.001), labels=percent_format())\n",
    "    + theme_bw()\n",
    ")\n"
   ]
  },
  {
   "cell_type": "code",
   "execution_count": null,
   "metadata": {},
   "outputs": [],
   "source": [
    "# normal\n",
    "normal = pd.DataFrame(rng.normal(0, 1, obs), columns=[\"normal\"])"
   ]
  },
  {
   "cell_type": "code",
   "execution_count": null,
   "metadata": {},
   "outputs": [],
   "source": [
    "(\n",
    "    ggplot(normal, aes(x=\"normal\", y=\"stat(count)/sum(stat(count))\"))\n",
    "    + geom_histogram(\n",
    "        binwidth=0.2,\n",
    "        color=\"white\",\n",
    "        fill=color[0],\n",
    "        size=0.25,\n",
    "        alpha=0.8,\n",
    "        show_legend=False,\n",
    "        na_rm=True,\n",
    "    )\n",
    "    + labs(y=\"Percent\")\n",
    "    + scale_y_continuous(\n",
    "        labels=percent_format(), limits=(0, 0.1), breaks=seq(0, 0.1, by=0.02)\n",
    "    )\n",
    "    + scale_x_continuous(expand=(0.01, 0.01), limits=(-5, 5), breaks=seq(-4, 4, by=1))\n",
    "    + expand_limits(x=0.01, y=0.01)\n",
    "    + theme_bw()\n",
    ")\n"
   ]
  },
  {
   "cell_type": "code",
   "execution_count": null,
   "metadata": {},
   "outputs": [],
   "source": [
    "# lognoromal\n",
    "# take the exponential of the randomly generated normal above\n",
    "lognormal = pd.DataFrame(np.exp(normal[\"normal\"]).values, columns=[\"lognormal\"])"
   ]
  },
  {
   "cell_type": "code",
   "execution_count": null,
   "metadata": {},
   "outputs": [],
   "source": [
    "(\n",
    "    ggplot(\n",
    "        lognormal.query(\"lognormal<10\"),\n",
    "        aes(x=\"lognormal\", y=\"stat(count)/sum(stat(count))\"),\n",
    "    )\n",
    "    + geom_histogram(\n",
    "        binwidth=0.1,\n",
    "        boundary=0.0,\n",
    "        color=\"white\",\n",
    "        fill=color[0],\n",
    "        size=0.25,\n",
    "        alpha=0.8,\n",
    "        show_legend=False,\n",
    "        na_rm=True,\n",
    "    )\n",
    "    + labs(y=\"Percent\")\n",
    "    + scale_y_continuous(\n",
    "        labels=percent_format(), limits=(0, 0.08), breaks=seq(0, 0.08, by=0.02)\n",
    "    )\n",
    "    + scale_x_continuous(expand=(0.01, 0.01), limits=(0, 8), breaks=seq(0, 8, by=1))\n",
    "    + expand_limits(x=0, y=0)\n",
    "    + theme_bw()\n",
    ")\n"
   ]
  },
  {
   "cell_type": "code",
   "execution_count": null,
   "metadata": {},
   "outputs": [],
   "source": [
    "# power-law\n",
    "alpha = 3\n",
    "xmin = 1\n",
    "x = seq(1, obs, 1)\n",
    "X = np.power(x, float(-alpha))\n",
    "powerlaw = xmin * X\n",
    "histrange = np.quantile(powerlaw, 0.75)\n",
    "powerlaw = powerlaw / sum(powerlaw)\n",
    "powerlaw = pd.DataFrame(powerlaw, columns=[\"powerlaw\"])"
   ]
  },
  {
   "cell_type": "code",
   "execution_count": null,
   "metadata": {},
   "outputs": [],
   "source": [
    "(\n",
    "    ggplot(\n",
    "        powerlaw.query(\"powerlaw < @histrange\"),\n",
    "        aes(x=\"powerlaw\", y=\"stat(count)/sum(stat(count))\"),\n",
    "    )\n",
    "    + geom_histogram(\n",
    "        bins=50,\n",
    "        boundary=0.5,\n",
    "        color=\"white\",\n",
    "        fill=color[0],\n",
    "        size=0.25,\n",
    "        alpha=0.8,\n",
    "        show_legend=False,\n",
    "        na_rm=True,\n",
    "    )\n",
    "    + labs(y=\"Percent\")\n",
    "    + scale_y_continuous(\n",
    "        labels=percent_format(), limits=(0, 0.3), breaks=seq(0, 0.3, by=0.1)\n",
    "    )\n",
    "    + scale_x_continuous(labels=scientific_format())\n",
    "    + theme_bw()\n",
    ")"
   ]
  },
  {
   "cell_type": "code",
   "execution_count": null,
   "metadata": {},
   "outputs": [],
   "source": []
  }
 ],
 "metadata": {
  "language_info": {
   "name": "python"
  }
 },
 "nbformat": 4,
 "nbformat_minor": 4
}
