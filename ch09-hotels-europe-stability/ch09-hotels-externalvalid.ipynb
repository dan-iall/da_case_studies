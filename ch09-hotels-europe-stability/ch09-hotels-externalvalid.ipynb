{
 "cells": [
  {
   "cell_type": "markdown",
   "metadata": {},
   "source": [
    "#### Prepared for Gabor's Data Analysis\n",
    "\n",
    "### Data Analysis for Business, Economics, and Policy\n",
    "by Gabor Bekes and  Gabor Kezdi\n",
    " \n",
    "Cambridge University Press 2021\n",
    "\n",
    "**[gabors-data-analysis.com ](https://gabors-data-analysis.com/)**\n",
    "\n",
    " License: Free to share, modify and use for educational purposes. \n",
    " Not to be used for commercial purposes.\n",
    "\n",
    "### Chapter 09\n",
    "**CH09B How stable is the hotel price - distance to center relationship?**\n",
    "\n",
    "using the hotels-europe dataset\n",
    "\n",
    "version 1.0 2021-05-05"
   ]
  },
  {
   "cell_type": "code",
   "execution_count": 1,
   "metadata": {},
   "outputs": [],
   "source": [
    "import os\n",
    "import sys\n",
    "import warnings\n",
    "\n",
    "import numpy as np\n",
    "import pandas as pd\n",
    "from mizani.formatters import percent_format\n",
    "from plotnine import *\n",
    "import statsmodels.formula.api as smf\n",
    "from stargazer.stargazer import Stargazer\n",
    "from IPython.core.display import HTML\n",
    "\n",
    "warnings.filterwarnings(\"ignore\")\n"
   ]
  },
  {
   "cell_type": "code",
   "execution_count": 2,
   "metadata": {},
   "outputs": [],
   "source": [
    "# Current script folder\n",
    "current_path = os.getcwd()\n",
    "dirname = current_path.split(\"da_case_studies\")[0]\n",
    "\n",
    "# location folders\n",
    "data_in = dirname + \"da_data_repo/hotels-europe/clean/\"\n",
    "data_out = dirname + \"da_case_studies/ch09-hotels-europe-stability/\"\n",
    "output = dirname + \"da_case_studies/ch09-hotels-europe-stability/output/\"\n",
    "func = dirname + \"da_case_studies/ch00-tech-prep/\"\n",
    "sys.path.append(func)\n"
   ]
  },
  {
   "cell_type": "code",
   "execution_count": 3,
   "metadata": {},
   "outputs": [],
   "source": [
    "# Import the prewritten helper functions\n",
    "import py_helper_functions as da"
   ]
  },
  {
   "cell_type": "code",
   "execution_count": 4,
   "metadata": {},
   "outputs": [],
   "source": [
    "# load in clean and tidy data and create workfile\n",
    "hotels_europe_price = pd.read_csv(data_in + \"hotels-europe_price.csv\")\n",
    "hotels_europe_features = pd.read_csv(data_in + \"hotels-europe_features.csv\")\n",
    "\n",
    "#hotels_europe_price = pd.read_csv(\"https://osf.io/download/p6tyr/\")\n",
    "#hotels_europe_features = pd.read_csv(\"https://osf.io/download/utwjs/\")\n"
   ]
  },
  {
   "cell_type": "code",
   "execution_count": 5,
   "metadata": {},
   "outputs": [],
   "source": [
    "data = pd.merge(hotels_europe_price, hotels_europe_features, on=\"hotel_id\", how=\"left\")\n"
   ]
  },
  {
   "cell_type": "code",
   "execution_count": 6,
   "metadata": {},
   "outputs": [],
   "source": [
    "# filter a few cities\n",
    "data = data.loc[data[\"city_actual\"].isin([\"Vienna\", \"Amsterdam\", \"Barcelona\"])]\n"
   ]
  },
  {
   "cell_type": "code",
   "execution_count": 7,
   "metadata": {},
   "outputs": [],
   "source": [
    "data = data.loc[data[\"accommodation_type\"].isin([\"Hotel\", \"Apartment\"])]\n"
   ]
  },
  {
   "cell_type": "code",
   "execution_count": 8,
   "metadata": {},
   "outputs": [],
   "source": [
    "# drop long stay , 1000E+\n",
    "data = data[data[\"nnights\"] != 4]\n",
    "data = data[data[\"price\"] < 1000]\n"
   ]
  },
  {
   "cell_type": "code",
   "execution_count": 9,
   "metadata": {},
   "outputs": [],
   "source": [
    "# check for duplicates\n",
    "data = data.drop_duplicates()\n"
   ]
  },
  {
   "cell_type": "code",
   "execution_count": 10,
   "metadata": {},
   "outputs": [],
   "source": [
    "# filter for days\n",
    "data.loc[(data[\"month\"] == 11) & (data[\"weekend\"] == 0), \"date\"] = \"2017-NOV-weekday\"\n",
    "data.loc[(data[\"month\"] == 11) & (data[\"weekend\"] == 1), \"date\"] = \"2017-NOV-weekend\"\n",
    "data.loc[(data[\"month\"] == 12) & (data[\"holiday\"] == 1), \"date\"] = \"2017-DEC-holiday\"\n",
    "data.loc[(data[\"month\"] == 6) & (data[\"weekend\"] == 1), \"date\"] = \"2018-JUNE-weekend\"\n"
   ]
  },
  {
   "cell_type": "code",
   "execution_count": 11,
   "metadata": {},
   "outputs": [],
   "source": [
    "data = data[data[\"date\"].notna()]\n"
   ]
  },
  {
   "cell_type": "code",
   "execution_count": 12,
   "metadata": {},
   "outputs": [
    {
     "data": {
      "text/plain": [
       "city\n",
       "Barcelona    1564\n",
       "Vienna       1326\n",
       "Amsterdam     830\n",
       "Name: count, dtype: int64"
      ]
     },
     "execution_count": 12,
     "metadata": {},
     "output_type": "execute_result"
    }
   ],
   "source": [
    "data[\"city\"].value_counts()\n"
   ]
  },
  {
   "cell_type": "code",
   "execution_count": 13,
   "metadata": {},
   "outputs": [
    {
     "data": {
      "application/vnd.microsoft.datawrangler.viewer.v0+json": {
       "columns": [
        {
         "name": "accommodation_type",
         "rawType": "object",
         "type": "string"
        },
        {
         "name": "Amsterdam",
         "rawType": "int64",
         "type": "integer"
        },
        {
         "name": "Barcelona",
         "rawType": "int64",
         "type": "integer"
        },
        {
         "name": "Vienna",
         "rawType": "int64",
         "type": "integer"
        }
       ],
       "conversionMethod": "pd.DataFrame",
       "ref": "6ee1670a-14d3-4cce-8a21-db05092de853",
       "rows": [
        [
         "Apartment",
         "31",
         "300",
         "457"
        ],
        [
         "Hotel",
         "799",
         "1264",
         "869"
        ]
       ],
       "shape": {
        "columns": 3,
        "rows": 2
       }
      },
      "text/html": [
       "<div>\n",
       "<style scoped>\n",
       "    .dataframe tbody tr th:only-of-type {\n",
       "        vertical-align: middle;\n",
       "    }\n",
       "\n",
       "    .dataframe tbody tr th {\n",
       "        vertical-align: top;\n",
       "    }\n",
       "\n",
       "    .dataframe thead th {\n",
       "        text-align: right;\n",
       "    }\n",
       "</style>\n",
       "<table border=\"1\" class=\"dataframe\">\n",
       "  <thead>\n",
       "    <tr style=\"text-align: right;\">\n",
       "      <th>city</th>\n",
       "      <th>Amsterdam</th>\n",
       "      <th>Barcelona</th>\n",
       "      <th>Vienna</th>\n",
       "    </tr>\n",
       "    <tr>\n",
       "      <th>accommodation_type</th>\n",
       "      <th></th>\n",
       "      <th></th>\n",
       "      <th></th>\n",
       "    </tr>\n",
       "  </thead>\n",
       "  <tbody>\n",
       "    <tr>\n",
       "      <th>Apartment</th>\n",
       "      <td>31</td>\n",
       "      <td>300</td>\n",
       "      <td>457</td>\n",
       "    </tr>\n",
       "    <tr>\n",
       "      <th>Hotel</th>\n",
       "      <td>799</td>\n",
       "      <td>1264</td>\n",
       "      <td>869</td>\n",
       "    </tr>\n",
       "  </tbody>\n",
       "</table>\n",
       "</div>"
      ],
      "text/plain": [
       "city                Amsterdam  Barcelona  Vienna\n",
       "accommodation_type                              \n",
       "Apartment                  31        300     457\n",
       "Hotel                     799       1264     869"
      ]
     },
     "execution_count": 13,
     "metadata": {},
     "output_type": "execute_result"
    }
   ],
   "source": [
    "pd.crosstab(index=data[\"accommodation_type\"], columns=data[\"city\"])\n"
   ]
  },
  {
   "cell_type": "code",
   "execution_count": 14,
   "metadata": {},
   "outputs": [
    {
     "data": {
      "application/vnd.microsoft.datawrangler.viewer.v0+json": {
       "columns": [
        {
         "name": "date",
         "rawType": "object",
         "type": "string"
        },
        {
         "name": "Amsterdam",
         "rawType": "int64",
         "type": "integer"
        },
        {
         "name": "Barcelona",
         "rawType": "int64",
         "type": "integer"
        },
        {
         "name": "Vienna",
         "rawType": "int64",
         "type": "integer"
        }
       ],
       "conversionMethod": "pd.DataFrame",
       "ref": "4c3970ec-cb60-4b25-b0d2-5440d416f9d3",
       "rows": [
        [
         "2017-DEC-holiday",
         "290",
         "420",
         "338"
        ],
        [
         "2017-NOV-weekday",
         "315",
         "452",
         "377"
        ],
        [
         "2017-NOV-weekend",
         "125",
         "393",
         "256"
        ],
        [
         "2018-JUNE-weekend",
         "100",
         "299",
         "355"
        ]
       ],
       "shape": {
        "columns": 3,
        "rows": 4
       }
      },
      "text/html": [
       "<div>\n",
       "<style scoped>\n",
       "    .dataframe tbody tr th:only-of-type {\n",
       "        vertical-align: middle;\n",
       "    }\n",
       "\n",
       "    .dataframe tbody tr th {\n",
       "        vertical-align: top;\n",
       "    }\n",
       "\n",
       "    .dataframe thead th {\n",
       "        text-align: right;\n",
       "    }\n",
       "</style>\n",
       "<table border=\"1\" class=\"dataframe\">\n",
       "  <thead>\n",
       "    <tr style=\"text-align: right;\">\n",
       "      <th>city</th>\n",
       "      <th>Amsterdam</th>\n",
       "      <th>Barcelona</th>\n",
       "      <th>Vienna</th>\n",
       "    </tr>\n",
       "    <tr>\n",
       "      <th>date</th>\n",
       "      <th></th>\n",
       "      <th></th>\n",
       "      <th></th>\n",
       "    </tr>\n",
       "  </thead>\n",
       "  <tbody>\n",
       "    <tr>\n",
       "      <th>2017-DEC-holiday</th>\n",
       "      <td>290</td>\n",
       "      <td>420</td>\n",
       "      <td>338</td>\n",
       "    </tr>\n",
       "    <tr>\n",
       "      <th>2017-NOV-weekday</th>\n",
       "      <td>315</td>\n",
       "      <td>452</td>\n",
       "      <td>377</td>\n",
       "    </tr>\n",
       "    <tr>\n",
       "      <th>2017-NOV-weekend</th>\n",
       "      <td>125</td>\n",
       "      <td>393</td>\n",
       "      <td>256</td>\n",
       "    </tr>\n",
       "    <tr>\n",
       "      <th>2018-JUNE-weekend</th>\n",
       "      <td>100</td>\n",
       "      <td>299</td>\n",
       "      <td>355</td>\n",
       "    </tr>\n",
       "  </tbody>\n",
       "</table>\n",
       "</div>"
      ],
      "text/plain": [
       "city               Amsterdam  Barcelona  Vienna\n",
       "date                                           \n",
       "2017-DEC-holiday         290        420     338\n",
       "2017-NOV-weekday         315        452     377\n",
       "2017-NOV-weekend         125        393     256\n",
       "2018-JUNE-weekend        100        299     355"
      ]
     },
     "execution_count": 14,
     "metadata": {},
     "output_type": "execute_result"
    }
   ],
   "source": [
    "pd.crosstab(index=data[\"date\"], columns=data[\"city\"])\n"
   ]
  },
  {
   "cell_type": "code",
   "execution_count": 15,
   "metadata": {},
   "outputs": [],
   "source": [
    "data[\"lnprice\"] = np.log(data[\"price\"])"
   ]
  },
  {
   "cell_type": "code",
   "execution_count": 16,
   "metadata": {},
   "outputs": [],
   "source": [
    "data = data.filter(\n",
    "    [\n",
    "        \"hotel_id\",\n",
    "        \"date\",\n",
    "        \"city\",\n",
    "        \"accommodation_type\",\n",
    "        \"stars\",\n",
    "        \"rating\",\n",
    "        \"distance\",\n",
    "        \"price\",\n",
    "        \"lnprice\",\n",
    "    ]\n",
    ")\n"
   ]
  },
  {
   "cell_type": "code",
   "execution_count": 17,
   "metadata": {},
   "outputs": [],
   "source": [
    "data.to_csv(os.path.join(data_out, \"hotels_work.csv\"), index=False)\n"
   ]
  },
  {
   "cell_type": "code",
   "execution_count": 18,
   "metadata": {},
   "outputs": [],
   "source": [
    "data = data.loc[\n",
    "    (data[\"stars\"] >= 3)\n",
    "    & (data[\"stars\"] <= 4)\n",
    "    & (data[\"accommodation_type\"] == \"Hotel\")\n",
    "    & (data[\"city\"] == \"Vienna\")\n",
    "]"
   ]
  },
  {
   "cell_type": "code",
   "execution_count": 19,
   "metadata": {},
   "outputs": [
    {
     "data": {
      "text/plain": [
       "date\n",
       "2017-NOV-weekday     207\n",
       "2017-DEC-holiday     189\n",
       "2018-JUNE-weekend    181\n",
       "2017-NOV-weekend     125\n",
       "Name: count, dtype: int64"
      ]
     },
     "execution_count": 19,
     "metadata": {},
     "output_type": "execute_result"
    }
   ],
   "source": [
    "data[\"date\"].value_counts()\n"
   ]
  },
  {
   "cell_type": "code",
   "execution_count": 20,
   "metadata": {},
   "outputs": [
    {
     "data": {
      "application/vnd.microsoft.datawrangler.viewer.v0+json": {
       "columns": [
        {
         "name": "index",
         "rawType": "object",
         "type": "string"
        },
        {
         "name": "distance",
         "rawType": "float64",
         "type": "float"
        },
        {
         "name": "price",
         "rawType": "float64",
         "type": "float"
        },
        {
         "name": "lnprice",
         "rawType": "float64",
         "type": "float"
        }
       ],
       "conversionMethod": "pd.DataFrame",
       "ref": "1799dc5f-9cc4-45a3-9bea-4e3458cf54cf",
       "rows": [
        [
         "count",
         "702.0",
         "702.0",
         "702.0"
        ],
        [
         "mean",
         "1.57",
         "122.75",
         "4.74"
        ],
        [
         "std",
         "1.15",
         "53.3",
         "0.37"
        ],
        [
         "min",
         "0.0",
         "50.0",
         "3.91"
        ],
        [
         "25%",
         "0.8",
         "86.0",
         "4.45"
        ],
        [
         "50%",
         "1.4",
         "109.0",
         "4.69"
        ],
        [
         "75%",
         "1.9",
         "144.0",
         "4.97"
        ],
        [
         "max",
         "6.6",
         "491.0",
         "6.2"
        ]
       ],
       "shape": {
        "columns": 3,
        "rows": 8
       }
      },
      "text/html": [
       "<div>\n",
       "<style scoped>\n",
       "    .dataframe tbody tr th:only-of-type {\n",
       "        vertical-align: middle;\n",
       "    }\n",
       "\n",
       "    .dataframe tbody tr th {\n",
       "        vertical-align: top;\n",
       "    }\n",
       "\n",
       "    .dataframe thead th {\n",
       "        text-align: right;\n",
       "    }\n",
       "</style>\n",
       "<table border=\"1\" class=\"dataframe\">\n",
       "  <thead>\n",
       "    <tr style=\"text-align: right;\">\n",
       "      <th></th>\n",
       "      <th>distance</th>\n",
       "      <th>price</th>\n",
       "      <th>lnprice</th>\n",
       "    </tr>\n",
       "  </thead>\n",
       "  <tbody>\n",
       "    <tr>\n",
       "      <th>count</th>\n",
       "      <td>702.00</td>\n",
       "      <td>702.00</td>\n",
       "      <td>702.00</td>\n",
       "    </tr>\n",
       "    <tr>\n",
       "      <th>mean</th>\n",
       "      <td>1.57</td>\n",
       "      <td>122.75</td>\n",
       "      <td>4.74</td>\n",
       "    </tr>\n",
       "    <tr>\n",
       "      <th>std</th>\n",
       "      <td>1.15</td>\n",
       "      <td>53.30</td>\n",
       "      <td>0.37</td>\n",
       "    </tr>\n",
       "    <tr>\n",
       "      <th>min</th>\n",
       "      <td>0.00</td>\n",
       "      <td>50.00</td>\n",
       "      <td>3.91</td>\n",
       "    </tr>\n",
       "    <tr>\n",
       "      <th>25%</th>\n",
       "      <td>0.80</td>\n",
       "      <td>86.00</td>\n",
       "      <td>4.45</td>\n",
       "    </tr>\n",
       "    <tr>\n",
       "      <th>50%</th>\n",
       "      <td>1.40</td>\n",
       "      <td>109.00</td>\n",
       "      <td>4.69</td>\n",
       "    </tr>\n",
       "    <tr>\n",
       "      <th>75%</th>\n",
       "      <td>1.90</td>\n",
       "      <td>144.00</td>\n",
       "      <td>4.97</td>\n",
       "    </tr>\n",
       "    <tr>\n",
       "      <th>max</th>\n",
       "      <td>6.60</td>\n",
       "      <td>491.00</td>\n",
       "      <td>6.20</td>\n",
       "    </tr>\n",
       "  </tbody>\n",
       "</table>\n",
       "</div>"
      ],
      "text/plain": [
       "       distance   price  lnprice\n",
       "count    702.00  702.00   702.00\n",
       "mean       1.57  122.75     4.74\n",
       "std        1.15   53.30     0.37\n",
       "min        0.00   50.00     3.91\n",
       "25%        0.80   86.00     4.45\n",
       "50%        1.40  109.00     4.69\n",
       "75%        1.90  144.00     4.97\n",
       "max        6.60  491.00     6.20"
      ]
     },
     "execution_count": 20,
     "metadata": {},
     "output_type": "execute_result"
    }
   ],
   "source": [
    "data[[\"distance\", \"price\", \"lnprice\"]].describe().round(2)\n"
   ]
  },
  {
   "cell_type": "code",
   "execution_count": 21,
   "metadata": {},
   "outputs": [
    {
     "data": {
      "application/vnd.microsoft.datawrangler.viewer.v0+json": {
       "columns": [
        {
         "name": "date",
         "rawType": "object",
         "type": "string"
        },
        {
         "name": "count",
         "rawType": "float64",
         "type": "float"
        },
        {
         "name": "mean",
         "rawType": "float64",
         "type": "float"
        },
        {
         "name": "std",
         "rawType": "float64",
         "type": "float"
        },
        {
         "name": "min",
         "rawType": "float64",
         "type": "float"
        },
        {
         "name": "25%",
         "rawType": "float64",
         "type": "float"
        },
        {
         "name": "50%",
         "rawType": "float64",
         "type": "float"
        },
        {
         "name": "75%",
         "rawType": "float64",
         "type": "float"
        },
        {
         "name": "max",
         "rawType": "float64",
         "type": "float"
        }
       ],
       "conversionMethod": "pd.DataFrame",
       "ref": "9417da3e-e8d8-4503-b081-4660e333f46b",
       "rows": [
        [
         "2017-DEC-holiday",
         "189.0",
         "1.503",
         "1.06",
         "0.0",
         "0.8",
         "1.3",
         "1.9",
         "5.2"
        ],
        [
         "2017-NOV-weekday",
         "207.0",
         "1.53",
         "1.162",
         "0.0",
         "0.8",
         "1.3",
         "1.9",
         "6.6"
        ],
        [
         "2017-NOV-weekend",
         "125.0",
         "1.773",
         "1.298",
         "0.0",
         "0.9",
         "1.6",
         "2.1",
         "6.6"
        ],
        [
         "2018-JUNE-weekend",
         "181.0",
         "1.531",
         "1.13",
         "0.0",
         "0.8",
         "1.3",
         "1.9",
         "6.6"
        ]
       ],
       "shape": {
        "columns": 8,
        "rows": 4
       }
      },
      "text/html": [
       "<div>\n",
       "<style scoped>\n",
       "    .dataframe tbody tr th:only-of-type {\n",
       "        vertical-align: middle;\n",
       "    }\n",
       "\n",
       "    .dataframe tbody tr th {\n",
       "        vertical-align: top;\n",
       "    }\n",
       "\n",
       "    .dataframe thead th {\n",
       "        text-align: right;\n",
       "    }\n",
       "</style>\n",
       "<table border=\"1\" class=\"dataframe\">\n",
       "  <thead>\n",
       "    <tr style=\"text-align: right;\">\n",
       "      <th></th>\n",
       "      <th>count</th>\n",
       "      <th>mean</th>\n",
       "      <th>std</th>\n",
       "      <th>min</th>\n",
       "      <th>25%</th>\n",
       "      <th>50%</th>\n",
       "      <th>75%</th>\n",
       "      <th>max</th>\n",
       "    </tr>\n",
       "    <tr>\n",
       "      <th>date</th>\n",
       "      <th></th>\n",
       "      <th></th>\n",
       "      <th></th>\n",
       "      <th></th>\n",
       "      <th></th>\n",
       "      <th></th>\n",
       "      <th></th>\n",
       "      <th></th>\n",
       "    </tr>\n",
       "  </thead>\n",
       "  <tbody>\n",
       "    <tr>\n",
       "      <th>2017-DEC-holiday</th>\n",
       "      <td>189.0</td>\n",
       "      <td>1.503</td>\n",
       "      <td>1.060</td>\n",
       "      <td>0.0</td>\n",
       "      <td>0.8</td>\n",
       "      <td>1.3</td>\n",
       "      <td>1.9</td>\n",
       "      <td>5.2</td>\n",
       "    </tr>\n",
       "    <tr>\n",
       "      <th>2017-NOV-weekday</th>\n",
       "      <td>207.0</td>\n",
       "      <td>1.530</td>\n",
       "      <td>1.162</td>\n",
       "      <td>0.0</td>\n",
       "      <td>0.8</td>\n",
       "      <td>1.3</td>\n",
       "      <td>1.9</td>\n",
       "      <td>6.6</td>\n",
       "    </tr>\n",
       "    <tr>\n",
       "      <th>2017-NOV-weekend</th>\n",
       "      <td>125.0</td>\n",
       "      <td>1.773</td>\n",
       "      <td>1.298</td>\n",
       "      <td>0.0</td>\n",
       "      <td>0.9</td>\n",
       "      <td>1.6</td>\n",
       "      <td>2.1</td>\n",
       "      <td>6.6</td>\n",
       "    </tr>\n",
       "    <tr>\n",
       "      <th>2018-JUNE-weekend</th>\n",
       "      <td>181.0</td>\n",
       "      <td>1.531</td>\n",
       "      <td>1.130</td>\n",
       "      <td>0.0</td>\n",
       "      <td>0.8</td>\n",
       "      <td>1.3</td>\n",
       "      <td>1.9</td>\n",
       "      <td>6.6</td>\n",
       "    </tr>\n",
       "  </tbody>\n",
       "</table>\n",
       "</div>"
      ],
      "text/plain": [
       "                   count   mean    std  min  25%  50%  75%  max\n",
       "date                                                           \n",
       "2017-DEC-holiday   189.0  1.503  1.060  0.0  0.8  1.3  1.9  5.2\n",
       "2017-NOV-weekday   207.0  1.530  1.162  0.0  0.8  1.3  1.9  6.6\n",
       "2017-NOV-weekend   125.0  1.773  1.298  0.0  0.9  1.6  2.1  6.6\n",
       "2018-JUNE-weekend  181.0  1.531  1.130  0.0  0.8  1.3  1.9  6.6"
      ]
     },
     "execution_count": 21,
     "metadata": {},
     "output_type": "execute_result"
    }
   ],
   "source": [
    "data.groupby(\"date\")[\"distance\"].describe().round(3)\n"
   ]
  },
  {
   "cell_type": "code",
   "execution_count": 22,
   "metadata": {},
   "outputs": [
    {
     "data": {
      "application/vnd.microsoft.datawrangler.viewer.v0+json": {
       "columns": [
        {
         "name": "date",
         "rawType": "object",
         "type": "string"
        },
        {
         "name": "count",
         "rawType": "float64",
         "type": "float"
        },
        {
         "name": "mean",
         "rawType": "float64",
         "type": "float"
        },
        {
         "name": "std",
         "rawType": "float64",
         "type": "float"
        },
        {
         "name": "min",
         "rawType": "float64",
         "type": "float"
        },
        {
         "name": "25%",
         "rawType": "float64",
         "type": "float"
        },
        {
         "name": "50%",
         "rawType": "float64",
         "type": "float"
        },
        {
         "name": "75%",
         "rawType": "float64",
         "type": "float"
        },
        {
         "name": "max",
         "rawType": "float64",
         "type": "float"
        }
       ],
       "conversionMethod": "pd.DataFrame",
       "ref": "750f90b2-08b5-4d3c-8391-350f2bf9fb9a",
       "rows": [
        [
         "2017-DEC-holiday",
         "189.0",
         "116.492",
         "46.308",
         "57.0",
         "85.0",
         "103.0",
         "138.0",
         "386.0"
        ],
        [
         "2017-NOV-weekday",
         "207.0",
         "109.976",
         "42.221",
         "50.0",
         "82.0",
         "100.0",
         "129.5",
         "383.0"
        ],
        [
         "2017-NOV-weekend",
         "125.0",
         "149.144",
         "76.531",
         "60.0",
         "92.0",
         "132.0",
         "180.0",
         "491.0"
        ],
        [
         "2018-JUNE-weekend",
         "181.0",
         "125.674",
         "45.054",
         "59.0",
         "94.0",
         "111.0",
         "154.0",
         "297.0"
        ]
       ],
       "shape": {
        "columns": 8,
        "rows": 4
       }
      },
      "text/html": [
       "<div>\n",
       "<style scoped>\n",
       "    .dataframe tbody tr th:only-of-type {\n",
       "        vertical-align: middle;\n",
       "    }\n",
       "\n",
       "    .dataframe tbody tr th {\n",
       "        vertical-align: top;\n",
       "    }\n",
       "\n",
       "    .dataframe thead th {\n",
       "        text-align: right;\n",
       "    }\n",
       "</style>\n",
       "<table border=\"1\" class=\"dataframe\">\n",
       "  <thead>\n",
       "    <tr style=\"text-align: right;\">\n",
       "      <th></th>\n",
       "      <th>count</th>\n",
       "      <th>mean</th>\n",
       "      <th>std</th>\n",
       "      <th>min</th>\n",
       "      <th>25%</th>\n",
       "      <th>50%</th>\n",
       "      <th>75%</th>\n",
       "      <th>max</th>\n",
       "    </tr>\n",
       "    <tr>\n",
       "      <th>date</th>\n",
       "      <th></th>\n",
       "      <th></th>\n",
       "      <th></th>\n",
       "      <th></th>\n",
       "      <th></th>\n",
       "      <th></th>\n",
       "      <th></th>\n",
       "      <th></th>\n",
       "    </tr>\n",
       "  </thead>\n",
       "  <tbody>\n",
       "    <tr>\n",
       "      <th>2017-DEC-holiday</th>\n",
       "      <td>189.0</td>\n",
       "      <td>116.492</td>\n",
       "      <td>46.308</td>\n",
       "      <td>57.0</td>\n",
       "      <td>85.0</td>\n",
       "      <td>103.0</td>\n",
       "      <td>138.0</td>\n",
       "      <td>386.0</td>\n",
       "    </tr>\n",
       "    <tr>\n",
       "      <th>2017-NOV-weekday</th>\n",
       "      <td>207.0</td>\n",
       "      <td>109.976</td>\n",
       "      <td>42.221</td>\n",
       "      <td>50.0</td>\n",
       "      <td>82.0</td>\n",
       "      <td>100.0</td>\n",
       "      <td>129.5</td>\n",
       "      <td>383.0</td>\n",
       "    </tr>\n",
       "    <tr>\n",
       "      <th>2017-NOV-weekend</th>\n",
       "      <td>125.0</td>\n",
       "      <td>149.144</td>\n",
       "      <td>76.531</td>\n",
       "      <td>60.0</td>\n",
       "      <td>92.0</td>\n",
       "      <td>132.0</td>\n",
       "      <td>180.0</td>\n",
       "      <td>491.0</td>\n",
       "    </tr>\n",
       "    <tr>\n",
       "      <th>2018-JUNE-weekend</th>\n",
       "      <td>181.0</td>\n",
       "      <td>125.674</td>\n",
       "      <td>45.054</td>\n",
       "      <td>59.0</td>\n",
       "      <td>94.0</td>\n",
       "      <td>111.0</td>\n",
       "      <td>154.0</td>\n",
       "      <td>297.0</td>\n",
       "    </tr>\n",
       "  </tbody>\n",
       "</table>\n",
       "</div>"
      ],
      "text/plain": [
       "                   count     mean     std   min   25%    50%    75%    max\n",
       "date                                                                      \n",
       "2017-DEC-holiday   189.0  116.492  46.308  57.0  85.0  103.0  138.0  386.0\n",
       "2017-NOV-weekday   207.0  109.976  42.221  50.0  82.0  100.0  129.5  383.0\n",
       "2017-NOV-weekend   125.0  149.144  76.531  60.0  92.0  132.0  180.0  491.0\n",
       "2018-JUNE-weekend  181.0  125.674  45.054  59.0  94.0  111.0  154.0  297.0"
      ]
     },
     "execution_count": 22,
     "metadata": {},
     "output_type": "execute_result"
    }
   ],
   "source": [
    "data.groupby(\"date\")[\"price\"].describe().round(3)\n"
   ]
  },
  {
   "cell_type": "code",
   "execution_count": 23,
   "metadata": {},
   "outputs": [
    {
     "data": {
      "application/vnd.microsoft.datawrangler.viewer.v0+json": {
       "columns": [
        {
         "name": "date",
         "rawType": "object",
         "type": "string"
        },
        {
         "name": "count",
         "rawType": "float64",
         "type": "float"
        },
        {
         "name": "mean",
         "rawType": "float64",
         "type": "float"
        },
        {
         "name": "std",
         "rawType": "float64",
         "type": "float"
        },
        {
         "name": "min",
         "rawType": "float64",
         "type": "float"
        },
        {
         "name": "25%",
         "rawType": "float64",
         "type": "float"
        },
        {
         "name": "50%",
         "rawType": "float64",
         "type": "float"
        },
        {
         "name": "75%",
         "rawType": "float64",
         "type": "float"
        },
        {
         "name": "max",
         "rawType": "float64",
         "type": "float"
        }
       ],
       "conversionMethod": "pd.DataFrame",
       "ref": "1cb3f9d9-6cfd-4082-9d97-ec1b5cd24aff",
       "rows": [
        [
         "2017-DEC-holiday",
         "189.0",
         "4.697",
         "0.335",
         "4.043",
         "4.443",
         "4.635",
         "4.927",
         "5.956"
        ],
        [
         "2017-NOV-weekday",
         "207.0",
         "4.64",
         "0.337",
         "3.912",
         "4.407",
         "4.605",
         "4.864",
         "5.948"
        ],
        [
         "2017-NOV-weekend",
         "125.0",
         "4.902",
         "0.438",
         "4.094",
         "4.522",
         "4.883",
         "5.193",
         "6.196"
        ],
        [
         "2018-JUNE-weekend",
         "181.0",
         "4.776",
         "0.334",
         "4.078",
         "4.543",
         "4.71",
         "5.037",
         "5.694"
        ]
       ],
       "shape": {
        "columns": 8,
        "rows": 4
       }
      },
      "text/html": [
       "<div>\n",
       "<style scoped>\n",
       "    .dataframe tbody tr th:only-of-type {\n",
       "        vertical-align: middle;\n",
       "    }\n",
       "\n",
       "    .dataframe tbody tr th {\n",
       "        vertical-align: top;\n",
       "    }\n",
       "\n",
       "    .dataframe thead th {\n",
       "        text-align: right;\n",
       "    }\n",
       "</style>\n",
       "<table border=\"1\" class=\"dataframe\">\n",
       "  <thead>\n",
       "    <tr style=\"text-align: right;\">\n",
       "      <th></th>\n",
       "      <th>count</th>\n",
       "      <th>mean</th>\n",
       "      <th>std</th>\n",
       "      <th>min</th>\n",
       "      <th>25%</th>\n",
       "      <th>50%</th>\n",
       "      <th>75%</th>\n",
       "      <th>max</th>\n",
       "    </tr>\n",
       "    <tr>\n",
       "      <th>date</th>\n",
       "      <th></th>\n",
       "      <th></th>\n",
       "      <th></th>\n",
       "      <th></th>\n",
       "      <th></th>\n",
       "      <th></th>\n",
       "      <th></th>\n",
       "      <th></th>\n",
       "    </tr>\n",
       "  </thead>\n",
       "  <tbody>\n",
       "    <tr>\n",
       "      <th>2017-DEC-holiday</th>\n",
       "      <td>189.0</td>\n",
       "      <td>4.697</td>\n",
       "      <td>0.335</td>\n",
       "      <td>4.043</td>\n",
       "      <td>4.443</td>\n",
       "      <td>4.635</td>\n",
       "      <td>4.927</td>\n",
       "      <td>5.956</td>\n",
       "    </tr>\n",
       "    <tr>\n",
       "      <th>2017-NOV-weekday</th>\n",
       "      <td>207.0</td>\n",
       "      <td>4.640</td>\n",
       "      <td>0.337</td>\n",
       "      <td>3.912</td>\n",
       "      <td>4.407</td>\n",
       "      <td>4.605</td>\n",
       "      <td>4.864</td>\n",
       "      <td>5.948</td>\n",
       "    </tr>\n",
       "    <tr>\n",
       "      <th>2017-NOV-weekend</th>\n",
       "      <td>125.0</td>\n",
       "      <td>4.902</td>\n",
       "      <td>0.438</td>\n",
       "      <td>4.094</td>\n",
       "      <td>4.522</td>\n",
       "      <td>4.883</td>\n",
       "      <td>5.193</td>\n",
       "      <td>6.196</td>\n",
       "    </tr>\n",
       "    <tr>\n",
       "      <th>2018-JUNE-weekend</th>\n",
       "      <td>181.0</td>\n",
       "      <td>4.776</td>\n",
       "      <td>0.334</td>\n",
       "      <td>4.078</td>\n",
       "      <td>4.543</td>\n",
       "      <td>4.710</td>\n",
       "      <td>5.037</td>\n",
       "      <td>5.694</td>\n",
       "    </tr>\n",
       "  </tbody>\n",
       "</table>\n",
       "</div>"
      ],
      "text/plain": [
       "                   count   mean    std    min    25%    50%    75%    max\n",
       "date                                                                     \n",
       "2017-DEC-holiday   189.0  4.697  0.335  4.043  4.443  4.635  4.927  5.956\n",
       "2017-NOV-weekday   207.0  4.640  0.337  3.912  4.407  4.605  4.864  5.948\n",
       "2017-NOV-weekend   125.0  4.902  0.438  4.094  4.522  4.883  5.193  6.196\n",
       "2018-JUNE-weekend  181.0  4.776  0.334  4.078  4.543  4.710  5.037  5.694"
      ]
     },
     "execution_count": 23,
     "metadata": {},
     "output_type": "execute_result"
    }
   ],
   "source": [
    "data.groupby(\"date\")[\"lnprice\"].describe().round(3)\n"
   ]
  },
  {
   "cell_type": "code",
   "execution_count": null,
   "metadata": {},
   "outputs": [],
   "source": []
  },
  {
   "cell_type": "code",
   "execution_count": 24,
   "metadata": {},
   "outputs": [],
   "source": [
    "## Regression with splines\n"
   ]
  },
  {
   "cell_type": "markdown",
   "metadata": {},
   "source": [
    "### Table 9.3 External validity – comparing dates"
   ]
  },
  {
   "cell_type": "code",
   "execution_count": 25,
   "metadata": {},
   "outputs": [],
   "source": [
    "dates = [\n",
    "    \"2017-NOV-weekday\",\n",
    "    \"2017-NOV-weekend\",\n",
    "    \"2017-DEC-holiday\",\n",
    "    \"2018-JUNE-weekend\",\n",
    "]\n"
   ]
  },
  {
   "cell_type": "code",
   "execution_count": 26,
   "metadata": {},
   "outputs": [],
   "source": [
    "from py_helper_functions import lspline"
   ]
  },
  {
   "cell_type": "code",
   "execution_count": 27,
   "metadata": {},
   "outputs": [],
   "source": [
    "models = []\n",
    "for date in dates:\n",
    "    models.append(\n",
    "        smf.ols(\n",
    "            \"lnprice ~ lspline(distance,[2])\", data=data.loc[lambda x: x[\"date\"] == date]\n",
    "        ).fit(cov_type=\"HC1\")\n",
    "    )"
   ]
  },
  {
   "cell_type": "code",
   "execution_count": 28,
   "metadata": {},
   "outputs": [
    {
     "data": {
      "text/html": [
       "<table style=\"text-align:center\"><tr><td colspan=\"5\" style=\"border-bottom: 1px solid black\"></td></tr>\n",
       "<tr><td style=\"text-align:left\"></td><td colspan=\"4\"><em>Dependent variable: lnprice</em></td></tr><tr><td style=\"text-align:left\"></td><tr><td></td><td colspan=\"1\">2017-NOV-weekday</td><td colspan=\"1\">2017-NOV-weekend</td><td colspan=\"1\">2017-DEC-holiday</td><td colspan=\"1\">2018-JUNE-weekend</td></tr>\n",
       "<tr><td colspan=\"5\" style=\"border-bottom: 1px solid black\"></td></tr>\n",
       "\n",
       "<tr><td style=\"text-align:left\">Distance spline <2</td><td>-0.309<sup>***</sup></td><td>-0.444<sup>***</sup></td><td>-0.362<sup>***</sup></td><td>-0.313<sup>***</sup></td></tr>\n",
       "<tr><td style=\"text-align:left\"></td><td>(0.038)</td><td>(0.052)</td><td>(0.041)</td><td>(0.037)</td></tr>\n",
       "<tr><td style=\"text-align:left\">Distance spline 2–7</td><td>0.024<sup></sup></td><td>-0.005<sup></sup></td><td>0.070<sup></sup></td><td>0.037<sup></sup></td></tr>\n",
       "<tr><td style=\"text-align:left\"></td><td>(0.033)</td><td>(0.036)</td><td>(0.050)</td><td>(0.039)</td></tr>\n",
       "<tr><td style=\"text-align:left\">Constant</td><td>5.015<sup>***</sup></td><td>5.507<sup>***</sup></td><td>5.133<sup>***</sup></td><td>5.159<sup>***</sup></td></tr>\n",
       "<tr><td style=\"text-align:left\"></td><td>(0.042)</td><td>(0.067)</td><td>(0.048)</td><td>(0.050)</td></tr>\n",
       "\n",
       "<td colspan=\"5\" style=\"border-bottom: 1px solid black\"></td></tr>\n",
       "<tr><td style=\"text-align: left\">Observations</td><td>207</td><td>125</td><td>189</td><td>181</td></tr><tr><td style=\"text-align: left\">R<sup>2</sup></td><td>0.314</td><td>0.430</td><td>0.382</td><td>0.306</td></tr><tr><td style=\"text-align: left\">Adjusted R<sup>2</sup></td><td>0.308</td><td>0.420</td><td>0.375</td><td>0.298</td></tr><tr><td style=\"text-align: left\">Residual Std. Error</td><td>0.280 (df=204)</td><td>0.333 (df=122)</td><td>0.265 (df=186)</td><td>0.280 (df=178)</td></tr><tr><td style=\"text-align: left\">F Statistic</td><td>46.037<sup>***</sup> (df=2; 204)</td><td>49.773<sup>***</sup> (df=2; 122)</td><td>47.309<sup>***</sup> (df=2; 186)</td><td>39.693<sup>***</sup> (df=2; 178)</td></tr>\n",
       "<tr><td colspan=\"5\" style=\"border-bottom: 1px solid black\"></td></tr><tr><td style=\"text-align: left\">Note:</td><td colspan=\"4\" style=\"text-align: right\"><sup>*</sup>p&lt;0.1; <sup>**</sup>p&lt;0.05; <sup>***</sup>p&lt;0.01</td></tr></table>"
      ],
      "text/plain": [
       "<IPython.core.display.HTML object>"
      ]
     },
     "execution_count": 28,
     "metadata": {},
     "output_type": "execute_result"
    }
   ],
   "source": [
    "stargazer = Stargazer(models)\n",
    "stargazer.covariate_order(\n",
    "    [\"lspline(distance, [2])[0]\", \"lspline(distance, [2])[1]\", \"Intercept\"]\n",
    ")\n",
    "stargazer.rename_covariates(\n",
    "    {\n",
    "        \"Intercept\": \"Constant\",\n",
    "        \"lspline(distance, [2])[0]\": \"Distance spline <2\",\n",
    "        \"lspline(distance, [2])[1]\": \"Distance spline 2–7\",\n",
    "    }\n",
    ")\n",
    "stargazer.custom_columns(dates, [1, 1, 1, 1])\n",
    "stargazer.show_model_numbers(False)\n",
    "HTML(stargazer.render_html())\n"
   ]
  },
  {
   "cell_type": "markdown",
   "metadata": {},
   "source": [
    "### Table 9.4 External validity – comparing dates 2"
   ]
  },
  {
   "cell_type": "code",
   "execution_count": 29,
   "metadata": {},
   "outputs": [],
   "source": [
    "data[\"hotelcount\"] = data.groupby(\"hotel_id\")[\"city\"].transform(\"count\")\n"
   ]
  },
  {
   "cell_type": "code",
   "execution_count": 30,
   "metadata": {},
   "outputs": [
    {
     "data": {
      "text/plain": [
       "hotelcount\n",
       "1      9\n",
       "2     64\n",
       "3    237\n",
       "4    392\n",
       "Name: count, dtype: int64"
      ]
     },
     "execution_count": 30,
     "metadata": {},
     "output_type": "execute_result"
    }
   ],
   "source": [
    "data[\"hotelcount\"].value_counts().sort_index()\n"
   ]
  },
  {
   "cell_type": "code",
   "execution_count": 31,
   "metadata": {},
   "outputs": [],
   "source": [
    "models = []\n",
    "for date in dates:\n",
    "    models.append(\n",
    "        smf.ols(\n",
    "            \"lnprice ~ lspline(distance,[2])\",\n",
    "            data=data.loc[lambda x: (x[\"date\"] == date) & (x[\"hotelcount\"] == 4)],\n",
    "        ).fit(cov_type=\"HC1\")\n",
    "    )\n"
   ]
  },
  {
   "cell_type": "code",
   "execution_count": 32,
   "metadata": {},
   "outputs": [
    {
     "data": {
      "text/html": [
       "<table style=\"text-align:center\"><tr><td colspan=\"5\" style=\"border-bottom: 1px solid black\"></td></tr>\n",
       "<tr><td style=\"text-align:left\"></td><td colspan=\"4\"><em>Dependent variable: lnprice</em></td></tr><tr><td style=\"text-align:left\"></td><tr><td></td><td colspan=\"1\">2017-NOV-weekday</td><td colspan=\"1\">2017-NOV-weekend</td><td colspan=\"1\">2017-DEC-holiday</td><td colspan=\"1\">2018-JUNE-weekend</td></tr>\n",
       "<tr><td colspan=\"5\" style=\"border-bottom: 1px solid black\"></td></tr>\n",
       "\n",
       "<tr><td style=\"text-align:left\">Distance spline <2</td><td>-0.284<sup>***</sup></td><td>-0.445<sup>***</sup></td><td>-0.399<sup>***</sup></td><td>-0.283<sup>***</sup></td></tr>\n",
       "<tr><td style=\"text-align:left\"></td><td>(0.058)</td><td>(0.055)</td><td>(0.045)</td><td>(0.053)</td></tr>\n",
       "<tr><td style=\"text-align:left\">Distance spline 2–7</td><td>-0.033<sup></sup></td><td>-0.016<sup></sup></td><td>-0.009<sup></sup></td><td>-0.025<sup></sup></td></tr>\n",
       "<tr><td style=\"text-align:left\"></td><td>(0.049)</td><td>(0.041)</td><td>(0.031)</td><td>(0.039)</td></tr>\n",
       "<tr><td style=\"text-align:left\">Constant</td><td>5.024<sup>***</sup></td><td>5.520<sup>***</sup></td><td>5.193<sup>***</sup></td><td>5.116<sup>***</sup></td></tr>\n",
       "<tr><td style=\"text-align:left\"></td><td>(0.068)</td><td>(0.069)</td><td>(0.067)</td><td>(0.078)</td></tr>\n",
       "\n",
       "<td colspan=\"5\" style=\"border-bottom: 1px solid black\"></td></tr>\n",
       "<tr><td style=\"text-align: left\">Observations</td><td>98</td><td>98</td><td>98</td><td>98</td></tr><tr><td style=\"text-align: left\">R<sup>2</sup></td><td>0.291</td><td>0.434</td><td>0.609</td><td>0.332</td></tr><tr><td style=\"text-align: left\">Adjusted R<sup>2</sup></td><td>0.276</td><td>0.422</td><td>0.601</td><td>0.318</td></tr><tr><td style=\"text-align: left\">Residual Std. Error</td><td>0.293 (df=95)</td><td>0.323 (df=95)</td><td>0.202 (df=95)</td><td>0.262 (df=95)</td></tr><tr><td style=\"text-align: left\">F Statistic</td><td>21.569<sup>***</sup> (df=2; 95)</td><td>39.695<sup>***</sup> (df=2; 95)</td><td>51.178<sup>***</sup> (df=2; 95)</td><td>20.673<sup>***</sup> (df=2; 95)</td></tr>\n",
       "<tr><td colspan=\"5\" style=\"border-bottom: 1px solid black\"></td></tr><tr><td style=\"text-align: left\">Note:</td><td colspan=\"4\" style=\"text-align: right\"><sup>*</sup>p&lt;0.1; <sup>**</sup>p&lt;0.05; <sup>***</sup>p&lt;0.01</td></tr></table>"
      ],
      "text/plain": [
       "<IPython.core.display.HTML object>"
      ]
     },
     "execution_count": 32,
     "metadata": {},
     "output_type": "execute_result"
    }
   ],
   "source": [
    "stargazer = Stargazer(models)\n",
    "stargazer.covariate_order(\n",
    "    [\"lspline(distance, [2])[0]\", \"lspline(distance, [2])[1]\", \"Intercept\"]\n",
    ")\n",
    "stargazer.rename_covariates(\n",
    "    {\n",
    "        \"Intercept\": \"Constant\",\n",
    "        \"lspline(distance, [2])[0]\": \"Distance spline <2\",\n",
    "        \"lspline(distance, [2])[1]\": \"Distance spline 2–7\",\n",
    "    }\n",
    ")\n",
    "stargazer.custom_columns(dates, [1, 1, 1, 1])\n",
    "stargazer.show_model_numbers(False)\n",
    "HTML(stargazer.render_html())\n"
   ]
  },
  {
   "cell_type": "markdown",
   "metadata": {},
   "source": [
    "### Table 9.5 External validity – comparing cities"
   ]
  },
  {
   "cell_type": "code",
   "execution_count": 33,
   "metadata": {},
   "outputs": [],
   "source": [
    "data = pd.read_csv(os.path.join(data_out, \"hotels_work.csv\"), index_col=0)\n"
   ]
  },
  {
   "cell_type": "code",
   "execution_count": 34,
   "metadata": {},
   "outputs": [],
   "source": [
    "data = data.loc[\n",
    "    lambda x: (x[\"stars\"] >= 3)\n",
    "    & (x[\"stars\"] <= 4)\n",
    "    & (x[\"date\"] == \"2017-NOV-weekday\")\n",
    "    & (x[\"accommodation_type\"] == \"Hotel\")\n",
    "]\n"
   ]
  },
  {
   "cell_type": "code",
   "execution_count": 35,
   "metadata": {},
   "outputs": [
    {
     "data": {
      "application/vnd.microsoft.datawrangler.viewer.v0+json": {
       "columns": [
        {
         "name": "city",
         "rawType": "object",
         "type": "string"
        },
        {
         "name": "3.0",
         "rawType": "int64",
         "type": "integer"
        },
        {
         "name": "3.5",
         "rawType": "int64",
         "type": "integer"
        },
        {
         "name": "4.0",
         "rawType": "int64",
         "type": "integer"
        }
       ],
       "conversionMethod": "pd.DataFrame",
       "ref": "7f072fda-fdf9-4432-85cf-c71ecc0462c9",
       "rows": [
        [
         "Amsterdam",
         "103",
         "17",
         "75"
        ],
        [
         "Barcelona",
         "101",
         "4",
         "144"
        ],
        [
         "Vienna",
         "82",
         "14",
         "111"
        ]
       ],
       "shape": {
        "columns": 3,
        "rows": 3
       }
      },
      "text/html": [
       "<div>\n",
       "<style scoped>\n",
       "    .dataframe tbody tr th:only-of-type {\n",
       "        vertical-align: middle;\n",
       "    }\n",
       "\n",
       "    .dataframe tbody tr th {\n",
       "        vertical-align: top;\n",
       "    }\n",
       "\n",
       "    .dataframe thead th {\n",
       "        text-align: right;\n",
       "    }\n",
       "</style>\n",
       "<table border=\"1\" class=\"dataframe\">\n",
       "  <thead>\n",
       "    <tr style=\"text-align: right;\">\n",
       "      <th>stars</th>\n",
       "      <th>3.0</th>\n",
       "      <th>3.5</th>\n",
       "      <th>4.0</th>\n",
       "    </tr>\n",
       "    <tr>\n",
       "      <th>city</th>\n",
       "      <th></th>\n",
       "      <th></th>\n",
       "      <th></th>\n",
       "    </tr>\n",
       "  </thead>\n",
       "  <tbody>\n",
       "    <tr>\n",
       "      <th>Amsterdam</th>\n",
       "      <td>103</td>\n",
       "      <td>17</td>\n",
       "      <td>75</td>\n",
       "    </tr>\n",
       "    <tr>\n",
       "      <th>Barcelona</th>\n",
       "      <td>101</td>\n",
       "      <td>4</td>\n",
       "      <td>144</td>\n",
       "    </tr>\n",
       "    <tr>\n",
       "      <th>Vienna</th>\n",
       "      <td>82</td>\n",
       "      <td>14</td>\n",
       "      <td>111</td>\n",
       "    </tr>\n",
       "  </tbody>\n",
       "</table>\n",
       "</div>"
      ],
      "text/plain": [
       "stars      3.0  3.5  4.0\n",
       "city                    \n",
       "Amsterdam  103   17   75\n",
       "Barcelona  101    4  144\n",
       "Vienna      82   14  111"
      ]
     },
     "execution_count": 35,
     "metadata": {},
     "output_type": "execute_result"
    }
   ],
   "source": [
    "pd.crosstab(index=data[\"city\"], columns=data[\"stars\"])\n"
   ]
  },
  {
   "cell_type": "code",
   "execution_count": 36,
   "metadata": {},
   "outputs": [
    {
     "data": {
      "application/vnd.microsoft.datawrangler.viewer.v0+json": {
       "columns": [
        {
         "name": "stars",
         "rawType": "float64",
         "type": "float"
        },
        {
         "name": "count",
         "rawType": "float64",
         "type": "float"
        },
        {
         "name": "mean",
         "rawType": "float64",
         "type": "float"
        },
        {
         "name": "std",
         "rawType": "float64",
         "type": "float"
        },
        {
         "name": "min",
         "rawType": "float64",
         "type": "float"
        },
        {
         "name": "25%",
         "rawType": "float64",
         "type": "float"
        },
        {
         "name": "50%",
         "rawType": "float64",
         "type": "float"
        },
        {
         "name": "75%",
         "rawType": "float64",
         "type": "float"
        },
        {
         "name": "max",
         "rawType": "float64",
         "type": "float"
        }
       ],
       "conversionMethod": "pd.DataFrame",
       "ref": "822e5dbc-72ab-49ea-9cc9-f0f8647002ae",
       "rows": [
        [
         "3.0",
         "286.0",
         "1.3601398601398602",
         "1.127060443600254",
         "0.1",
         "0.6",
         "1.0",
         "1.8",
         "6.6"
        ],
        [
         "3.5",
         "35.0",
         "1.6542857142857141",
         "1.1525784028819541",
         "0.1",
         "0.9",
         "1.6",
         "2.05",
         "5.3"
        ],
        [
         "4.0",
         "330.0",
         "1.3818181818181818",
         "1.0581725790074366",
         "0.0",
         "0.6",
         "1.1",
         "1.8",
         "6.0"
        ]
       ],
       "shape": {
        "columns": 8,
        "rows": 3
       }
      },
      "text/html": [
       "<div>\n",
       "<style scoped>\n",
       "    .dataframe tbody tr th:only-of-type {\n",
       "        vertical-align: middle;\n",
       "    }\n",
       "\n",
       "    .dataframe tbody tr th {\n",
       "        vertical-align: top;\n",
       "    }\n",
       "\n",
       "    .dataframe thead th {\n",
       "        text-align: right;\n",
       "    }\n",
       "</style>\n",
       "<table border=\"1\" class=\"dataframe\">\n",
       "  <thead>\n",
       "    <tr style=\"text-align: right;\">\n",
       "      <th></th>\n",
       "      <th>count</th>\n",
       "      <th>mean</th>\n",
       "      <th>std</th>\n",
       "      <th>min</th>\n",
       "      <th>25%</th>\n",
       "      <th>50%</th>\n",
       "      <th>75%</th>\n",
       "      <th>max</th>\n",
       "    </tr>\n",
       "    <tr>\n",
       "      <th>stars</th>\n",
       "      <th></th>\n",
       "      <th></th>\n",
       "      <th></th>\n",
       "      <th></th>\n",
       "      <th></th>\n",
       "      <th></th>\n",
       "      <th></th>\n",
       "      <th></th>\n",
       "    </tr>\n",
       "  </thead>\n",
       "  <tbody>\n",
       "    <tr>\n",
       "      <th>3.0</th>\n",
       "      <td>286.0</td>\n",
       "      <td>1.360140</td>\n",
       "      <td>1.127060</td>\n",
       "      <td>0.1</td>\n",
       "      <td>0.6</td>\n",
       "      <td>1.0</td>\n",
       "      <td>1.80</td>\n",
       "      <td>6.6</td>\n",
       "    </tr>\n",
       "    <tr>\n",
       "      <th>3.5</th>\n",
       "      <td>35.0</td>\n",
       "      <td>1.654286</td>\n",
       "      <td>1.152578</td>\n",
       "      <td>0.1</td>\n",
       "      <td>0.9</td>\n",
       "      <td>1.6</td>\n",
       "      <td>2.05</td>\n",
       "      <td>5.3</td>\n",
       "    </tr>\n",
       "    <tr>\n",
       "      <th>4.0</th>\n",
       "      <td>330.0</td>\n",
       "      <td>1.381818</td>\n",
       "      <td>1.058173</td>\n",
       "      <td>0.0</td>\n",
       "      <td>0.6</td>\n",
       "      <td>1.1</td>\n",
       "      <td>1.80</td>\n",
       "      <td>6.0</td>\n",
       "    </tr>\n",
       "  </tbody>\n",
       "</table>\n",
       "</div>"
      ],
      "text/plain": [
       "       count      mean       std  min  25%  50%   75%  max\n",
       "stars                                                     \n",
       "3.0    286.0  1.360140  1.127060  0.1  0.6  1.0  1.80  6.6\n",
       "3.5     35.0  1.654286  1.152578  0.1  0.9  1.6  2.05  5.3\n",
       "4.0    330.0  1.381818  1.058173  0.0  0.6  1.1  1.80  6.0"
      ]
     },
     "execution_count": 36,
     "metadata": {},
     "output_type": "execute_result"
    }
   ],
   "source": [
    "data.groupby(\"stars\")[\"distance\"].describe()\n"
   ]
  },
  {
   "cell_type": "code",
   "execution_count": 37,
   "metadata": {},
   "outputs": [
    {
     "data": {
      "application/vnd.microsoft.datawrangler.viewer.v0+json": {
       "columns": [
        {
         "name": "price",
         "rawType": "int64",
         "type": "integer"
        },
        {
         "name": "count",
         "rawType": "float64",
         "type": "float"
        },
        {
         "name": "mean",
         "rawType": "float64",
         "type": "float"
        },
        {
         "name": "std",
         "rawType": "float64",
         "type": "float"
        },
        {
         "name": "min",
         "rawType": "float64",
         "type": "float"
        },
        {
         "name": "25%",
         "rawType": "float64",
         "type": "float"
        },
        {
         "name": "50%",
         "rawType": "float64",
         "type": "float"
        },
        {
         "name": "75%",
         "rawType": "float64",
         "type": "float"
        },
        {
         "name": "max",
         "rawType": "float64",
         "type": "float"
        }
       ],
       "conversionMethod": "pd.DataFrame",
       "ref": "af463a83-3236-48ab-82d7-f19ef2386289",
       "rows": [
        [
         "50",
         "1.0",
         "3.9",
         null,
         "3.9",
         "3.9",
         "3.9",
         "3.9",
         "3.9"
        ],
        [
         "51",
         "1.0",
         "0.5",
         null,
         "0.5",
         "0.5",
         "0.5",
         "0.5",
         "0.5"
        ],
        [
         "52",
         "2.0",
         "2.25",
         "1.2020815280171309",
         "1.4",
         "1.825",
         "2.25",
         "2.675",
         "3.1"
        ],
        [
         "54",
         "2.0",
         "1.55",
         "0.6363961030678927",
         "1.1",
         "1.3250000000000002",
         "1.55",
         "1.775",
         "2.0"
        ],
        [
         "56",
         "1.0",
         "3.7",
         null,
         "3.7",
         "3.7",
         "3.7",
         "3.7",
         "3.7"
        ],
        [
         "57",
         "1.0",
         "2.4",
         null,
         "2.4",
         "2.4",
         "2.4",
         "2.4",
         "2.4"
        ],
        [
         "58",
         "3.0",
         "2.4333333333333336",
         "0.9609023536933049",
         "1.4",
         "2.0",
         "2.6",
         "2.95",
         "3.3"
        ],
        [
         "59",
         "3.0",
         "1.5333333333333332",
         "1.0016652800877812",
         "0.5",
         "1.05",
         "1.6",
         "2.05",
         "2.5"
        ],
        [
         "60",
         "1.0",
         "1.1",
         null,
         "1.1",
         "1.1",
         "1.1",
         "1.1",
         "1.1"
        ],
        [
         "61",
         "3.0",
         "0.7333333333333334",
         "0.4041451884327381",
         "0.3",
         "0.55",
         "0.8",
         "0.9500000000000001",
         "1.1"
        ],
        [
         "63",
         "5.0",
         "2.1",
         "0.7211102550927979",
         "1.0",
         "2.0",
         "2.0",
         "2.7",
         "2.8"
        ],
        [
         "64",
         "4.0",
         "1.5750000000000002",
         "0.6238322424070967",
         "0.9",
         "1.275",
         "1.5",
         "1.8",
         "2.4"
        ],
        [
         "66",
         "5.0",
         "2.3",
         "1.3583077707206124",
         "1.1",
         "1.1",
         "1.8",
         "3.6",
         "3.9"
        ],
        [
         "67",
         "5.0",
         "0.8",
         "0.744983221287567",
         "0.2",
         "0.3",
         "0.3",
         "1.4",
         "1.8"
        ],
        [
         "68",
         "8.0",
         "2.2125000000000004",
         "1.6530815380460127",
         "0.2",
         "0.9",
         "1.7",
         "3.75",
         "4.5"
        ],
        [
         "69",
         "6.0",
         "2.1666666666666665",
         "1.1483321238503548",
         "0.2",
         "1.95",
         "2.3",
         "2.575",
         "3.7"
        ],
        [
         "70",
         "3.0",
         "0.9",
         "0.7937253933193773",
         "0.3",
         "0.44999999999999996",
         "0.6",
         "1.2",
         "1.8"
        ],
        [
         "71",
         "5.0",
         "1.3599999999999999",
         "0.6693280212272604",
         "0.3",
         "1.1",
         "1.7",
         "1.8",
         "1.9"
        ],
        [
         "72",
         "4.0",
         "1.9999999999999998",
         "1.4628738838327793",
         "0.8",
         "0.875",
         "1.65",
         "2.775",
         "3.9"
        ],
        [
         "73",
         "2.0",
         "1.05",
         "0.6363961030678927",
         "0.6",
         "0.825",
         "1.05",
         "1.275",
         "1.5"
        ],
        [
         "74",
         "4.0",
         "2.95",
         "1.5524174696260022",
         "1.0",
         "2.5",
         "3.0",
         "3.45",
         "4.8"
        ],
        [
         "75",
         "6.0",
         "1.5999999999999999",
         "0.6511528238439883",
         "0.7",
         "1.25",
         "1.7",
         "1.775",
         "2.6"
        ],
        [
         "76",
         "5.0",
         "1.8399999999999999",
         "0.9813256340277674",
         "0.6",
         "1.6",
         "1.6",
         "2.1",
         "3.3"
        ],
        [
         "77",
         "12.0",
         "2.6083333333333334",
         "1.558238127054418",
         "0.5",
         "1.6",
         "2.3499999999999996",
         "3.75",
         "5.8"
        ],
        [
         "78",
         "7.0",
         "1.1142857142857143",
         "0.9352870707766171",
         "0.5",
         "0.7",
         "0.8",
         "0.95",
         "3.2"
        ],
        [
         "79",
         "6.0",
         "1.25",
         "0.7503332592921628",
         "0.2",
         "0.975",
         "1.25",
         "1.375",
         "2.5"
        ],
        [
         "80",
         "8.0",
         "2.875",
         "1.8250244616755924",
         "0.2",
         "1.925",
         "2.35",
         "4.375",
         "5.3"
        ],
        [
         "81",
         "11.0",
         "2.0999999999999996",
         "0.888819441731559",
         "0.2",
         "1.7",
         "2.2",
         "2.5",
         "3.7"
        ],
        [
         "82",
         "11.0",
         "1.3636363636363635",
         "0.7813740810555815",
         "0.1",
         "0.9500000000000001",
         "1.4",
         "1.75",
         "2.6"
        ],
        [
         "83",
         "13.0",
         "1.5769230769230769",
         "1.0607810378473073",
         "0.1",
         "1.3",
         "1.4",
         "2.1",
         "3.9"
        ],
        [
         "84",
         "7.0",
         "1.2571428571428573",
         "0.6477065767180455",
         "0.4",
         "0.7",
         "1.5",
         "1.75",
         "2.0"
        ],
        [
         "85",
         "10.0",
         "1.5299999999999998",
         "0.9695932709704164",
         "0.2",
         "0.8250000000000001",
         "1.5",
         "1.925",
         "3.1"
        ],
        [
         "86",
         "7.0",
         "1.5999999999999999",
         "0.3214550253664319",
         "1.3",
         "1.35",
         "1.6",
         "1.7000000000000002",
         "2.2"
        ],
        [
         "87",
         "9.0",
         "2.233333333333333",
         "1.1629703349613008",
         "0.9",
         "1.3",
         "2.2",
         "2.4",
         "4.6"
        ],
        [
         "88",
         "4.0",
         "1.5250000000000001",
         "0.5315072906367325",
         "0.9",
         "1.2",
         "1.55",
         "1.875",
         "2.1"
        ],
        [
         "89",
         "4.0",
         "1.0750000000000002",
         "0.6701989754294367",
         "0.2",
         "0.7250000000000001",
         "1.25",
         "1.6",
         "1.6"
        ],
        [
         "90",
         "4.0",
         "2.625",
         "1.5542951242712348",
         "0.8",
         "2.075",
         "2.55",
         "3.1",
         "4.6"
        ],
        [
         "91",
         "11.0",
         "1.5363636363636362",
         "0.5201398413363992",
         "0.6",
         "1.2000000000000002",
         "1.7",
         "1.9",
         "2.3"
        ],
        [
         "92",
         "12.0",
         "1.491666666666667",
         "0.7216878364870322",
         "0.5",
         "1.0250000000000001",
         "1.4",
         "1.9249999999999998",
         "2.9"
        ],
        [
         "93",
         "4.0",
         "1.7000000000000002",
         "0.8286535263104035",
         "1.1",
         "1.175",
         "1.4",
         "1.925",
         "2.9"
        ],
        [
         "94",
         "6.0",
         "1.45",
         "0.7661592523751182",
         "0.7",
         "0.8500000000000001",
         "1.25",
         "1.9500000000000002",
         "2.6"
        ],
        [
         "95",
         "4.0",
         "1.5",
         "1.5121728296285006",
         "0.1",
         "0.625",
         "1.15",
         "2.025",
         "3.6"
        ],
        [
         "96",
         "1.0",
         "1.4",
         null,
         "1.4",
         "1.4",
         "1.4",
         "1.4",
         "1.4"
        ],
        [
         "97",
         "8.0",
         "1.65",
         "0.938083151964686",
         "0.5",
         "1.05",
         "1.3",
         "2.35",
         "3.1"
        ],
        [
         "98",
         "8.0",
         "0.7250000000000001",
         "0.34537764010675953",
         "0.2",
         "0.475",
         "0.8",
         "0.9",
         "1.3"
        ],
        [
         "99",
         "13.0",
         "1.7384615384615385",
         "0.9937625986945285",
         "0.2",
         "1.0",
         "1.7",
         "2.4",
         "3.2"
        ],
        [
         "100",
         "8.0",
         "1.375",
         "0.675594975875762",
         "0.5",
         "0.95",
         "1.35",
         "1.625",
         "2.7"
        ],
        [
         "101",
         "5.0",
         "1.3800000000000001",
         "0.864291617453276",
         "0.3",
         "0.9",
         "1.2",
         "2.1",
         "2.4"
        ],
        [
         "102",
         "7.0",
         "2.585714285714286",
         "2.106678722087267",
         "1.0",
         "1.1",
         "1.5",
         "3.75",
         "5.9"
        ],
        [
         "103",
         "9.0",
         "1.288888888888889",
         "0.8866290718846925",
         "0.1",
         "0.7",
         "0.9",
         "2.2",
         "2.6"
        ]
       ],
       "shape": {
        "columns": 8,
        "rows": 160
       }
      },
      "text/html": [
       "<div>\n",
       "<style scoped>\n",
       "    .dataframe tbody tr th:only-of-type {\n",
       "        vertical-align: middle;\n",
       "    }\n",
       "\n",
       "    .dataframe tbody tr th {\n",
       "        vertical-align: top;\n",
       "    }\n",
       "\n",
       "    .dataframe thead th {\n",
       "        text-align: right;\n",
       "    }\n",
       "</style>\n",
       "<table border=\"1\" class=\"dataframe\">\n",
       "  <thead>\n",
       "    <tr style=\"text-align: right;\">\n",
       "      <th></th>\n",
       "      <th>count</th>\n",
       "      <th>mean</th>\n",
       "      <th>std</th>\n",
       "      <th>min</th>\n",
       "      <th>25%</th>\n",
       "      <th>50%</th>\n",
       "      <th>75%</th>\n",
       "      <th>max</th>\n",
       "    </tr>\n",
       "    <tr>\n",
       "      <th>price</th>\n",
       "      <th></th>\n",
       "      <th></th>\n",
       "      <th></th>\n",
       "      <th></th>\n",
       "      <th></th>\n",
       "      <th></th>\n",
       "      <th></th>\n",
       "      <th></th>\n",
       "    </tr>\n",
       "  </thead>\n",
       "  <tbody>\n",
       "    <tr>\n",
       "      <th>50</th>\n",
       "      <td>1.0</td>\n",
       "      <td>3.90</td>\n",
       "      <td>NaN</td>\n",
       "      <td>3.9</td>\n",
       "      <td>3.900</td>\n",
       "      <td>3.90</td>\n",
       "      <td>3.900</td>\n",
       "      <td>3.9</td>\n",
       "    </tr>\n",
       "    <tr>\n",
       "      <th>51</th>\n",
       "      <td>1.0</td>\n",
       "      <td>0.50</td>\n",
       "      <td>NaN</td>\n",
       "      <td>0.5</td>\n",
       "      <td>0.500</td>\n",
       "      <td>0.50</td>\n",
       "      <td>0.500</td>\n",
       "      <td>0.5</td>\n",
       "    </tr>\n",
       "    <tr>\n",
       "      <th>52</th>\n",
       "      <td>2.0</td>\n",
       "      <td>2.25</td>\n",
       "      <td>1.202082</td>\n",
       "      <td>1.4</td>\n",
       "      <td>1.825</td>\n",
       "      <td>2.25</td>\n",
       "      <td>2.675</td>\n",
       "      <td>3.1</td>\n",
       "    </tr>\n",
       "    <tr>\n",
       "      <th>54</th>\n",
       "      <td>2.0</td>\n",
       "      <td>1.55</td>\n",
       "      <td>0.636396</td>\n",
       "      <td>1.1</td>\n",
       "      <td>1.325</td>\n",
       "      <td>1.55</td>\n",
       "      <td>1.775</td>\n",
       "      <td>2.0</td>\n",
       "    </tr>\n",
       "    <tr>\n",
       "      <th>56</th>\n",
       "      <td>1.0</td>\n",
       "      <td>3.70</td>\n",
       "      <td>NaN</td>\n",
       "      <td>3.7</td>\n",
       "      <td>3.700</td>\n",
       "      <td>3.70</td>\n",
       "      <td>3.700</td>\n",
       "      <td>3.7</td>\n",
       "    </tr>\n",
       "    <tr>\n",
       "      <th>...</th>\n",
       "      <td>...</td>\n",
       "      <td>...</td>\n",
       "      <td>...</td>\n",
       "      <td>...</td>\n",
       "      <td>...</td>\n",
       "      <td>...</td>\n",
       "      <td>...</td>\n",
       "      <td>...</td>\n",
       "    </tr>\n",
       "    <tr>\n",
       "      <th>312</th>\n",
       "      <td>1.0</td>\n",
       "      <td>0.50</td>\n",
       "      <td>NaN</td>\n",
       "      <td>0.5</td>\n",
       "      <td>0.500</td>\n",
       "      <td>0.50</td>\n",
       "      <td>0.500</td>\n",
       "      <td>0.5</td>\n",
       "    </tr>\n",
       "    <tr>\n",
       "      <th>324</th>\n",
       "      <td>1.0</td>\n",
       "      <td>0.30</td>\n",
       "      <td>NaN</td>\n",
       "      <td>0.3</td>\n",
       "      <td>0.300</td>\n",
       "      <td>0.30</td>\n",
       "      <td>0.300</td>\n",
       "      <td>0.3</td>\n",
       "    </tr>\n",
       "    <tr>\n",
       "      <th>342</th>\n",
       "      <td>1.0</td>\n",
       "      <td>0.30</td>\n",
       "      <td>NaN</td>\n",
       "      <td>0.3</td>\n",
       "      <td>0.300</td>\n",
       "      <td>0.30</td>\n",
       "      <td>0.300</td>\n",
       "      <td>0.3</td>\n",
       "    </tr>\n",
       "    <tr>\n",
       "      <th>383</th>\n",
       "      <td>1.0</td>\n",
       "      <td>1.90</td>\n",
       "      <td>NaN</td>\n",
       "      <td>1.9</td>\n",
       "      <td>1.900</td>\n",
       "      <td>1.90</td>\n",
       "      <td>1.900</td>\n",
       "      <td>1.9</td>\n",
       "    </tr>\n",
       "    <tr>\n",
       "      <th>690</th>\n",
       "      <td>1.0</td>\n",
       "      <td>1.80</td>\n",
       "      <td>NaN</td>\n",
       "      <td>1.8</td>\n",
       "      <td>1.800</td>\n",
       "      <td>1.80</td>\n",
       "      <td>1.800</td>\n",
       "      <td>1.8</td>\n",
       "    </tr>\n",
       "  </tbody>\n",
       "</table>\n",
       "<p>160 rows × 8 columns</p>\n",
       "</div>"
      ],
      "text/plain": [
       "       count  mean       std  min    25%   50%    75%  max\n",
       "price                                                     \n",
       "50       1.0  3.90       NaN  3.9  3.900  3.90  3.900  3.9\n",
       "51       1.0  0.50       NaN  0.5  0.500  0.50  0.500  0.5\n",
       "52       2.0  2.25  1.202082  1.4  1.825  2.25  2.675  3.1\n",
       "54       2.0  1.55  0.636396  1.1  1.325  1.55  1.775  2.0\n",
       "56       1.0  3.70       NaN  3.7  3.700  3.70  3.700  3.7\n",
       "...      ...   ...       ...  ...    ...   ...    ...  ...\n",
       "312      1.0  0.50       NaN  0.5  0.500  0.50  0.500  0.5\n",
       "324      1.0  0.30       NaN  0.3  0.300  0.30  0.300  0.3\n",
       "342      1.0  0.30       NaN  0.3  0.300  0.30  0.300  0.3\n",
       "383      1.0  1.90       NaN  1.9  1.900  1.90  1.900  1.9\n",
       "690      1.0  1.80       NaN  1.8  1.800  1.80  1.800  1.8\n",
       "\n",
       "[160 rows x 8 columns]"
      ]
     },
     "execution_count": 37,
     "metadata": {},
     "output_type": "execute_result"
    }
   ],
   "source": [
    "data.groupby(\"price\")[\"distance\"].describe()\n"
   ]
  },
  {
   "cell_type": "code",
   "execution_count": 38,
   "metadata": {},
   "outputs": [
    {
     "data": {
      "application/vnd.microsoft.datawrangler.viewer.v0+json": {
       "columns": [
        {
         "name": "price",
         "rawType": "int64",
         "type": "integer"
        },
        {
         "name": "count",
         "rawType": "float64",
         "type": "float"
        },
        {
         "name": "mean",
         "rawType": "float64",
         "type": "float"
        },
        {
         "name": "std",
         "rawType": "float64",
         "type": "float"
        },
        {
         "name": "min",
         "rawType": "float64",
         "type": "float"
        },
        {
         "name": "25%",
         "rawType": "float64",
         "type": "float"
        },
        {
         "name": "50%",
         "rawType": "float64",
         "type": "float"
        },
        {
         "name": "75%",
         "rawType": "float64",
         "type": "float"
        },
        {
         "name": "max",
         "rawType": "float64",
         "type": "float"
        }
       ],
       "conversionMethod": "pd.DataFrame",
       "ref": "02a293f8-a085-497a-938a-9293ce865523",
       "rows": [
        [
         "50",
         "1.0",
         "3.9",
         null,
         "3.9",
         "3.9",
         "3.9",
         "3.9",
         "3.9"
        ],
        [
         "51",
         "1.0",
         "0.5",
         null,
         "0.5",
         "0.5",
         "0.5",
         "0.5",
         "0.5"
        ],
        [
         "52",
         "2.0",
         "2.25",
         "1.2020815280171309",
         "1.4",
         "1.825",
         "2.25",
         "2.675",
         "3.1"
        ],
        [
         "54",
         "2.0",
         "1.55",
         "0.6363961030678927",
         "1.1",
         "1.3250000000000002",
         "1.55",
         "1.775",
         "2.0"
        ],
        [
         "56",
         "1.0",
         "3.7",
         null,
         "3.7",
         "3.7",
         "3.7",
         "3.7",
         "3.7"
        ],
        [
         "57",
         "1.0",
         "2.4",
         null,
         "2.4",
         "2.4",
         "2.4",
         "2.4",
         "2.4"
        ],
        [
         "58",
         "3.0",
         "2.4333333333333336",
         "0.9609023536933049",
         "1.4",
         "2.0",
         "2.6",
         "2.95",
         "3.3"
        ],
        [
         "59",
         "3.0",
         "1.5333333333333332",
         "1.0016652800877812",
         "0.5",
         "1.05",
         "1.6",
         "2.05",
         "2.5"
        ],
        [
         "60",
         "1.0",
         "1.1",
         null,
         "1.1",
         "1.1",
         "1.1",
         "1.1",
         "1.1"
        ],
        [
         "61",
         "3.0",
         "0.7333333333333334",
         "0.4041451884327381",
         "0.3",
         "0.55",
         "0.8",
         "0.9500000000000001",
         "1.1"
        ],
        [
         "63",
         "5.0",
         "2.1",
         "0.7211102550927979",
         "1.0",
         "2.0",
         "2.0",
         "2.7",
         "2.8"
        ],
        [
         "64",
         "4.0",
         "1.5750000000000002",
         "0.6238322424070967",
         "0.9",
         "1.275",
         "1.5",
         "1.8",
         "2.4"
        ],
        [
         "66",
         "5.0",
         "2.3",
         "1.3583077707206124",
         "1.1",
         "1.1",
         "1.8",
         "3.6",
         "3.9"
        ],
        [
         "67",
         "5.0",
         "0.8",
         "0.744983221287567",
         "0.2",
         "0.3",
         "0.3",
         "1.4",
         "1.8"
        ],
        [
         "68",
         "8.0",
         "2.2125000000000004",
         "1.6530815380460127",
         "0.2",
         "0.9",
         "1.7",
         "3.75",
         "4.5"
        ],
        [
         "69",
         "6.0",
         "2.1666666666666665",
         "1.1483321238503548",
         "0.2",
         "1.95",
         "2.3",
         "2.575",
         "3.7"
        ],
        [
         "70",
         "3.0",
         "0.9",
         "0.7937253933193773",
         "0.3",
         "0.44999999999999996",
         "0.6",
         "1.2",
         "1.8"
        ],
        [
         "71",
         "5.0",
         "1.3599999999999999",
         "0.6693280212272604",
         "0.3",
         "1.1",
         "1.7",
         "1.8",
         "1.9"
        ],
        [
         "72",
         "4.0",
         "1.9999999999999998",
         "1.4628738838327793",
         "0.8",
         "0.875",
         "1.65",
         "2.775",
         "3.9"
        ],
        [
         "73",
         "2.0",
         "1.05",
         "0.6363961030678927",
         "0.6",
         "0.825",
         "1.05",
         "1.275",
         "1.5"
        ],
        [
         "74",
         "4.0",
         "2.95",
         "1.5524174696260022",
         "1.0",
         "2.5",
         "3.0",
         "3.45",
         "4.8"
        ],
        [
         "75",
         "6.0",
         "1.5999999999999999",
         "0.6511528238439883",
         "0.7",
         "1.25",
         "1.7",
         "1.775",
         "2.6"
        ],
        [
         "76",
         "5.0",
         "1.8399999999999999",
         "0.9813256340277674",
         "0.6",
         "1.6",
         "1.6",
         "2.1",
         "3.3"
        ],
        [
         "77",
         "12.0",
         "2.6083333333333334",
         "1.558238127054418",
         "0.5",
         "1.6",
         "2.3499999999999996",
         "3.75",
         "5.8"
        ],
        [
         "78",
         "7.0",
         "1.1142857142857143",
         "0.9352870707766171",
         "0.5",
         "0.7",
         "0.8",
         "0.95",
         "3.2"
        ],
        [
         "79",
         "6.0",
         "1.25",
         "0.7503332592921628",
         "0.2",
         "0.975",
         "1.25",
         "1.375",
         "2.5"
        ],
        [
         "80",
         "8.0",
         "2.875",
         "1.8250244616755924",
         "0.2",
         "1.925",
         "2.35",
         "4.375",
         "5.3"
        ],
        [
         "81",
         "11.0",
         "2.0999999999999996",
         "0.888819441731559",
         "0.2",
         "1.7",
         "2.2",
         "2.5",
         "3.7"
        ],
        [
         "82",
         "11.0",
         "1.3636363636363635",
         "0.7813740810555815",
         "0.1",
         "0.9500000000000001",
         "1.4",
         "1.75",
         "2.6"
        ],
        [
         "83",
         "13.0",
         "1.5769230769230769",
         "1.0607810378473073",
         "0.1",
         "1.3",
         "1.4",
         "2.1",
         "3.9"
        ],
        [
         "84",
         "7.0",
         "1.2571428571428573",
         "0.6477065767180455",
         "0.4",
         "0.7",
         "1.5",
         "1.75",
         "2.0"
        ],
        [
         "85",
         "10.0",
         "1.5299999999999998",
         "0.9695932709704164",
         "0.2",
         "0.8250000000000001",
         "1.5",
         "1.925",
         "3.1"
        ],
        [
         "86",
         "7.0",
         "1.5999999999999999",
         "0.3214550253664319",
         "1.3",
         "1.35",
         "1.6",
         "1.7000000000000002",
         "2.2"
        ],
        [
         "87",
         "9.0",
         "2.233333333333333",
         "1.1629703349613008",
         "0.9",
         "1.3",
         "2.2",
         "2.4",
         "4.6"
        ],
        [
         "88",
         "4.0",
         "1.5250000000000001",
         "0.5315072906367325",
         "0.9",
         "1.2",
         "1.55",
         "1.875",
         "2.1"
        ],
        [
         "89",
         "4.0",
         "1.0750000000000002",
         "0.6701989754294367",
         "0.2",
         "0.7250000000000001",
         "1.25",
         "1.6",
         "1.6"
        ],
        [
         "90",
         "4.0",
         "2.625",
         "1.5542951242712348",
         "0.8",
         "2.075",
         "2.55",
         "3.1",
         "4.6"
        ],
        [
         "91",
         "11.0",
         "1.5363636363636362",
         "0.5201398413363992",
         "0.6",
         "1.2000000000000002",
         "1.7",
         "1.9",
         "2.3"
        ],
        [
         "92",
         "12.0",
         "1.491666666666667",
         "0.7216878364870322",
         "0.5",
         "1.0250000000000001",
         "1.4",
         "1.9249999999999998",
         "2.9"
        ],
        [
         "93",
         "4.0",
         "1.7000000000000002",
         "0.8286535263104035",
         "1.1",
         "1.175",
         "1.4",
         "1.925",
         "2.9"
        ],
        [
         "94",
         "6.0",
         "1.45",
         "0.7661592523751182",
         "0.7",
         "0.8500000000000001",
         "1.25",
         "1.9500000000000002",
         "2.6"
        ],
        [
         "95",
         "4.0",
         "1.5",
         "1.5121728296285006",
         "0.1",
         "0.625",
         "1.15",
         "2.025",
         "3.6"
        ],
        [
         "96",
         "1.0",
         "1.4",
         null,
         "1.4",
         "1.4",
         "1.4",
         "1.4",
         "1.4"
        ],
        [
         "97",
         "8.0",
         "1.65",
         "0.938083151964686",
         "0.5",
         "1.05",
         "1.3",
         "2.35",
         "3.1"
        ],
        [
         "98",
         "8.0",
         "0.7250000000000001",
         "0.34537764010675953",
         "0.2",
         "0.475",
         "0.8",
         "0.9",
         "1.3"
        ],
        [
         "99",
         "13.0",
         "1.7384615384615385",
         "0.9937625986945285",
         "0.2",
         "1.0",
         "1.7",
         "2.4",
         "3.2"
        ],
        [
         "100",
         "8.0",
         "1.375",
         "0.675594975875762",
         "0.5",
         "0.95",
         "1.35",
         "1.625",
         "2.7"
        ],
        [
         "101",
         "5.0",
         "1.3800000000000001",
         "0.864291617453276",
         "0.3",
         "0.9",
         "1.2",
         "2.1",
         "2.4"
        ],
        [
         "102",
         "7.0",
         "2.585714285714286",
         "2.106678722087267",
         "1.0",
         "1.1",
         "1.5",
         "3.75",
         "5.9"
        ],
        [
         "103",
         "9.0",
         "1.288888888888889",
         "0.8866290718846925",
         "0.1",
         "0.7",
         "0.9",
         "2.2",
         "2.6"
        ]
       ],
       "shape": {
        "columns": 8,
        "rows": 160
       }
      },
      "text/html": [
       "<div>\n",
       "<style scoped>\n",
       "    .dataframe tbody tr th:only-of-type {\n",
       "        vertical-align: middle;\n",
       "    }\n",
       "\n",
       "    .dataframe tbody tr th {\n",
       "        vertical-align: top;\n",
       "    }\n",
       "\n",
       "    .dataframe thead th {\n",
       "        text-align: right;\n",
       "    }\n",
       "</style>\n",
       "<table border=\"1\" class=\"dataframe\">\n",
       "  <thead>\n",
       "    <tr style=\"text-align: right;\">\n",
       "      <th></th>\n",
       "      <th>count</th>\n",
       "      <th>mean</th>\n",
       "      <th>std</th>\n",
       "      <th>min</th>\n",
       "      <th>25%</th>\n",
       "      <th>50%</th>\n",
       "      <th>75%</th>\n",
       "      <th>max</th>\n",
       "    </tr>\n",
       "    <tr>\n",
       "      <th>price</th>\n",
       "      <th></th>\n",
       "      <th></th>\n",
       "      <th></th>\n",
       "      <th></th>\n",
       "      <th></th>\n",
       "      <th></th>\n",
       "      <th></th>\n",
       "      <th></th>\n",
       "    </tr>\n",
       "  </thead>\n",
       "  <tbody>\n",
       "    <tr>\n",
       "      <th>50</th>\n",
       "      <td>1.0</td>\n",
       "      <td>3.90</td>\n",
       "      <td>NaN</td>\n",
       "      <td>3.9</td>\n",
       "      <td>3.900</td>\n",
       "      <td>3.90</td>\n",
       "      <td>3.900</td>\n",
       "      <td>3.9</td>\n",
       "    </tr>\n",
       "    <tr>\n",
       "      <th>51</th>\n",
       "      <td>1.0</td>\n",
       "      <td>0.50</td>\n",
       "      <td>NaN</td>\n",
       "      <td>0.5</td>\n",
       "      <td>0.500</td>\n",
       "      <td>0.50</td>\n",
       "      <td>0.500</td>\n",
       "      <td>0.5</td>\n",
       "    </tr>\n",
       "    <tr>\n",
       "      <th>52</th>\n",
       "      <td>2.0</td>\n",
       "      <td>2.25</td>\n",
       "      <td>1.202082</td>\n",
       "      <td>1.4</td>\n",
       "      <td>1.825</td>\n",
       "      <td>2.25</td>\n",
       "      <td>2.675</td>\n",
       "      <td>3.1</td>\n",
       "    </tr>\n",
       "    <tr>\n",
       "      <th>54</th>\n",
       "      <td>2.0</td>\n",
       "      <td>1.55</td>\n",
       "      <td>0.636396</td>\n",
       "      <td>1.1</td>\n",
       "      <td>1.325</td>\n",
       "      <td>1.55</td>\n",
       "      <td>1.775</td>\n",
       "      <td>2.0</td>\n",
       "    </tr>\n",
       "    <tr>\n",
       "      <th>56</th>\n",
       "      <td>1.0</td>\n",
       "      <td>3.70</td>\n",
       "      <td>NaN</td>\n",
       "      <td>3.7</td>\n",
       "      <td>3.700</td>\n",
       "      <td>3.70</td>\n",
       "      <td>3.700</td>\n",
       "      <td>3.7</td>\n",
       "    </tr>\n",
       "    <tr>\n",
       "      <th>...</th>\n",
       "      <td>...</td>\n",
       "      <td>...</td>\n",
       "      <td>...</td>\n",
       "      <td>...</td>\n",
       "      <td>...</td>\n",
       "      <td>...</td>\n",
       "      <td>...</td>\n",
       "      <td>...</td>\n",
       "    </tr>\n",
       "    <tr>\n",
       "      <th>312</th>\n",
       "      <td>1.0</td>\n",
       "      <td>0.50</td>\n",
       "      <td>NaN</td>\n",
       "      <td>0.5</td>\n",
       "      <td>0.500</td>\n",
       "      <td>0.50</td>\n",
       "      <td>0.500</td>\n",
       "      <td>0.5</td>\n",
       "    </tr>\n",
       "    <tr>\n",
       "      <th>324</th>\n",
       "      <td>1.0</td>\n",
       "      <td>0.30</td>\n",
       "      <td>NaN</td>\n",
       "      <td>0.3</td>\n",
       "      <td>0.300</td>\n",
       "      <td>0.30</td>\n",
       "      <td>0.300</td>\n",
       "      <td>0.3</td>\n",
       "    </tr>\n",
       "    <tr>\n",
       "      <th>342</th>\n",
       "      <td>1.0</td>\n",
       "      <td>0.30</td>\n",
       "      <td>NaN</td>\n",
       "      <td>0.3</td>\n",
       "      <td>0.300</td>\n",
       "      <td>0.30</td>\n",
       "      <td>0.300</td>\n",
       "      <td>0.3</td>\n",
       "    </tr>\n",
       "    <tr>\n",
       "      <th>383</th>\n",
       "      <td>1.0</td>\n",
       "      <td>1.90</td>\n",
       "      <td>NaN</td>\n",
       "      <td>1.9</td>\n",
       "      <td>1.900</td>\n",
       "      <td>1.90</td>\n",
       "      <td>1.900</td>\n",
       "      <td>1.9</td>\n",
       "    </tr>\n",
       "    <tr>\n",
       "      <th>690</th>\n",
       "      <td>1.0</td>\n",
       "      <td>1.80</td>\n",
       "      <td>NaN</td>\n",
       "      <td>1.8</td>\n",
       "      <td>1.800</td>\n",
       "      <td>1.80</td>\n",
       "      <td>1.800</td>\n",
       "      <td>1.8</td>\n",
       "    </tr>\n",
       "  </tbody>\n",
       "</table>\n",
       "<p>160 rows × 8 columns</p>\n",
       "</div>"
      ],
      "text/plain": [
       "       count  mean       std  min    25%   50%    75%  max\n",
       "price                                                     \n",
       "50       1.0  3.90       NaN  3.9  3.900  3.90  3.900  3.9\n",
       "51       1.0  0.50       NaN  0.5  0.500  0.50  0.500  0.5\n",
       "52       2.0  2.25  1.202082  1.4  1.825  2.25  2.675  3.1\n",
       "54       2.0  1.55  0.636396  1.1  1.325  1.55  1.775  2.0\n",
       "56       1.0  3.70       NaN  3.7  3.700  3.70  3.700  3.7\n",
       "...      ...   ...       ...  ...    ...   ...    ...  ...\n",
       "312      1.0  0.50       NaN  0.5  0.500  0.50  0.500  0.5\n",
       "324      1.0  0.30       NaN  0.3  0.300  0.30  0.300  0.3\n",
       "342      1.0  0.30       NaN  0.3  0.300  0.30  0.300  0.3\n",
       "383      1.0  1.90       NaN  1.9  1.900  1.90  1.900  1.9\n",
       "690      1.0  1.80       NaN  1.8  1.800  1.80  1.800  1.8\n",
       "\n",
       "[160 rows x 8 columns]"
      ]
     },
     "execution_count": 38,
     "metadata": {},
     "output_type": "execute_result"
    }
   ],
   "source": [
    "data.groupby(\"price\")[\"distance\"].describe()\n"
   ]
  },
  {
   "cell_type": "code",
   "execution_count": 39,
   "metadata": {},
   "outputs": [],
   "source": [
    "cities = [\"Vienna\", \"Amsterdam\", \"Barcelona\"]\n"
   ]
  },
  {
   "cell_type": "code",
   "execution_count": 40,
   "metadata": {},
   "outputs": [],
   "source": [
    "models = []\n",
    "for city in cities:\n",
    "    models.append(\n",
    "        smf.ols(\n",
    "            \"lnprice ~ lspline(distance,[2])\", data=data.loc[lambda x: x[\"city\"] == city]\n",
    "        ).fit(cov_type=\"HC1\")\n",
    "    )\n"
   ]
  },
  {
   "cell_type": "code",
   "execution_count": 41,
   "metadata": {},
   "outputs": [
    {
     "data": {
      "text/html": [
       "<table style=\"text-align:center\"><tr><td colspan=\"4\" style=\"border-bottom: 1px solid black\"></td></tr>\n",
       "<tr><td style=\"text-align:left\"></td><td colspan=\"3\"><em>Dependent variable: lnprice</em></td></tr><tr><td style=\"text-align:left\"></td><tr><td></td><td colspan=\"1\">Vienna</td><td colspan=\"1\">Amsterdam</td><td colspan=\"1\">Barcelona</td></tr>\n",
       "<tr><td colspan=\"4\" style=\"border-bottom: 1px solid black\"></td></tr>\n",
       "\n",
       "<tr><td style=\"text-align:left\">Distance spline <2</td><td>-0.309<sup>***</sup></td><td>-0.274<sup>***</sup></td><td>-0.057<sup>*</sup></td></tr>\n",
       "<tr><td style=\"text-align:left\"></td><td>(0.038)</td><td>(0.040)</td><td>(0.034)</td></tr>\n",
       "<tr><td style=\"text-align:left\">Distance spline 2–7</td><td>0.024<sup></sup></td><td>0.026<sup></sup></td><td>-0.045<sup></sup></td></tr>\n",
       "<tr><td style=\"text-align:left\"></td><td>(0.033)</td><td>(0.037)</td><td>(0.058)</td></tr>\n",
       "<tr><td style=\"text-align:left\">Constant</td><td>5.015<sup>***</sup></td><td>5.243<sup>***</sup></td><td>4.667<sup>***</sup></td></tr>\n",
       "<tr><td style=\"text-align:left\"></td><td>(0.042)</td><td>(0.041)</td><td>(0.041)</td></tr>\n",
       "\n",
       "<td colspan=\"4\" style=\"border-bottom: 1px solid black\"></td></tr>\n",
       "<tr><td style=\"text-align: left\">Observations</td><td>207</td><td>195</td><td>249</td></tr><tr><td style=\"text-align: left\">R<sup>2</sup></td><td>0.314</td><td>0.236</td><td>0.023</td></tr><tr><td style=\"text-align: left\">Adjusted R<sup>2</sup></td><td>0.308</td><td>0.228</td><td>0.015</td></tr><tr><td style=\"text-align: left\">Residual Std. Error</td><td>0.280 (df=204)</td><td>0.302 (df=192)</td><td>0.288 (df=246)</td></tr><tr><td style=\"text-align: left\">F Statistic</td><td>46.037<sup>***</sup> (df=2; 204)</td><td>29.448<sup>***</sup> (df=2; 192)</td><td>2.924<sup>*</sup> (df=2; 246)</td></tr>\n",
       "<tr><td colspan=\"4\" style=\"border-bottom: 1px solid black\"></td></tr><tr><td style=\"text-align: left\">Note:</td><td colspan=\"3\" style=\"text-align: right\"><sup>*</sup>p&lt;0.1; <sup>**</sup>p&lt;0.05; <sup>***</sup>p&lt;0.01</td></tr></table>"
      ],
      "text/plain": [
       "<IPython.core.display.HTML object>"
      ]
     },
     "execution_count": 41,
     "metadata": {},
     "output_type": "execute_result"
    }
   ],
   "source": [
    "stargazer = Stargazer(models)\n",
    "stargazer.covariate_order(\n",
    "    [\"lspline(distance, [2])[0]\", \"lspline(distance, [2])[1]\", \"Intercept\"]\n",
    ")\n",
    "stargazer.rename_covariates(\n",
    "    {\n",
    "        \"Intercept\": \"Constant\",\n",
    "        \"lspline(distance, [2])[0]\": \"Distance spline <2\",\n",
    "        \"lspline(distance, [2])[1]\": \"Distance spline 2–7\",\n",
    "    }\n",
    ")\n",
    "stargazer.custom_columns(cities, [1, 1, 1])\n",
    "stargazer.show_model_numbers(False)\n",
    "HTML(stargazer.render_html())\n"
   ]
  },
  {
   "cell_type": "markdown",
   "metadata": {},
   "source": [
    "### Table 9.6 External validity – accommodation types"
   ]
  },
  {
   "cell_type": "code",
   "execution_count": 42,
   "metadata": {},
   "outputs": [],
   "source": [
    "data = pd.read_csv(os.path.join(data_out, \"hotels_work.csv\"), index_col=0)\n"
   ]
  },
  {
   "cell_type": "code",
   "execution_count": 43,
   "metadata": {},
   "outputs": [],
   "source": [
    "data = data.loc[\n",
    "    lambda x: (x[\"stars\"] >= 3)\n",
    "    & (x[\"stars\"] <= 4)\n",
    "    & (x[\"date\"] == \"2017-NOV-weekday\")\n",
    "    & (x[\"city\"] == \"Vienna\")\n",
    "]\n"
   ]
  },
  {
   "cell_type": "code",
   "execution_count": 44,
   "metadata": {},
   "outputs": [
    {
     "data": {
      "application/vnd.microsoft.datawrangler.viewer.v0+json": {
       "columns": [
        {
         "name": "accommodation_type",
         "rawType": "object",
         "type": "string"
        },
        {
         "name": "3.0",
         "rawType": "int64",
         "type": "integer"
        },
        {
         "name": "3.5",
         "rawType": "int64",
         "type": "integer"
        },
        {
         "name": "4.0",
         "rawType": "int64",
         "type": "integer"
        }
       ],
       "conversionMethod": "pd.DataFrame",
       "ref": "12109d92-3560-49d1-98f6-4670a0db44ac",
       "rows": [
        [
         "Apartment",
         "34",
         "41",
         "17"
        ],
        [
         "Hotel",
         "82",
         "14",
         "111"
        ]
       ],
       "shape": {
        "columns": 3,
        "rows": 2
       }
      },
      "text/html": [
       "<div>\n",
       "<style scoped>\n",
       "    .dataframe tbody tr th:only-of-type {\n",
       "        vertical-align: middle;\n",
       "    }\n",
       "\n",
       "    .dataframe tbody tr th {\n",
       "        vertical-align: top;\n",
       "    }\n",
       "\n",
       "    .dataframe thead th {\n",
       "        text-align: right;\n",
       "    }\n",
       "</style>\n",
       "<table border=\"1\" class=\"dataframe\">\n",
       "  <thead>\n",
       "    <tr style=\"text-align: right;\">\n",
       "      <th>stars</th>\n",
       "      <th>3.0</th>\n",
       "      <th>3.5</th>\n",
       "      <th>4.0</th>\n",
       "    </tr>\n",
       "    <tr>\n",
       "      <th>accommodation_type</th>\n",
       "      <th></th>\n",
       "      <th></th>\n",
       "      <th></th>\n",
       "    </tr>\n",
       "  </thead>\n",
       "  <tbody>\n",
       "    <tr>\n",
       "      <th>Apartment</th>\n",
       "      <td>34</td>\n",
       "      <td>41</td>\n",
       "      <td>17</td>\n",
       "    </tr>\n",
       "    <tr>\n",
       "      <th>Hotel</th>\n",
       "      <td>82</td>\n",
       "      <td>14</td>\n",
       "      <td>111</td>\n",
       "    </tr>\n",
       "  </tbody>\n",
       "</table>\n",
       "</div>"
      ],
      "text/plain": [
       "stars               3.0  3.5  4.0\n",
       "accommodation_type               \n",
       "Apartment            34   41   17\n",
       "Hotel                82   14  111"
      ]
     },
     "execution_count": 44,
     "metadata": {},
     "output_type": "execute_result"
    }
   ],
   "source": [
    "pd.crosstab(index=data[\"accommodation_type\"], columns=data[\"stars\"])\n"
   ]
  },
  {
   "cell_type": "code",
   "execution_count": 45,
   "metadata": {},
   "outputs": [
    {
     "data": {
      "application/vnd.microsoft.datawrangler.viewer.v0+json": {
       "columns": [
        {
         "name": "stars",
         "rawType": "float64",
         "type": "float"
        },
        {
         "name": "count",
         "rawType": "float64",
         "type": "float"
        },
        {
         "name": "mean",
         "rawType": "float64",
         "type": "float"
        },
        {
         "name": "std",
         "rawType": "float64",
         "type": "float"
        },
        {
         "name": "min",
         "rawType": "float64",
         "type": "float"
        },
        {
         "name": "25%",
         "rawType": "float64",
         "type": "float"
        },
        {
         "name": "50%",
         "rawType": "float64",
         "type": "float"
        },
        {
         "name": "75%",
         "rawType": "float64",
         "type": "float"
        },
        {
         "name": "max",
         "rawType": "float64",
         "type": "float"
        }
       ],
       "conversionMethod": "pd.DataFrame",
       "ref": "1735994d-dcc7-4e27-8593-b2432550bf9b",
       "rows": [
        [
         "3.0",
         "116.0",
         "1.8508620689655173",
         "1.3004678549195903",
         "0.1",
         "0.9",
         "1.55",
         "2.3",
         "6.9"
        ],
        [
         "3.5",
         "55.0",
         "1.3727272727272728",
         "1.122242224044172",
         "0.1",
         "0.35",
         "1.4",
         "1.75",
         "5.1"
        ],
        [
         "4.0",
         "128.0",
         "1.303125",
         "1.033908378645357",
         "0.0",
         "0.5",
         "1.0",
         "1.7",
         "4.8"
        ]
       ],
       "shape": {
        "columns": 8,
        "rows": 3
       }
      },
      "text/html": [
       "<div>\n",
       "<style scoped>\n",
       "    .dataframe tbody tr th:only-of-type {\n",
       "        vertical-align: middle;\n",
       "    }\n",
       "\n",
       "    .dataframe tbody tr th {\n",
       "        vertical-align: top;\n",
       "    }\n",
       "\n",
       "    .dataframe thead th {\n",
       "        text-align: right;\n",
       "    }\n",
       "</style>\n",
       "<table border=\"1\" class=\"dataframe\">\n",
       "  <thead>\n",
       "    <tr style=\"text-align: right;\">\n",
       "      <th></th>\n",
       "      <th>count</th>\n",
       "      <th>mean</th>\n",
       "      <th>std</th>\n",
       "      <th>min</th>\n",
       "      <th>25%</th>\n",
       "      <th>50%</th>\n",
       "      <th>75%</th>\n",
       "      <th>max</th>\n",
       "    </tr>\n",
       "    <tr>\n",
       "      <th>stars</th>\n",
       "      <th></th>\n",
       "      <th></th>\n",
       "      <th></th>\n",
       "      <th></th>\n",
       "      <th></th>\n",
       "      <th></th>\n",
       "      <th></th>\n",
       "      <th></th>\n",
       "    </tr>\n",
       "  </thead>\n",
       "  <tbody>\n",
       "    <tr>\n",
       "      <th>3.0</th>\n",
       "      <td>116.0</td>\n",
       "      <td>1.850862</td>\n",
       "      <td>1.300468</td>\n",
       "      <td>0.1</td>\n",
       "      <td>0.90</td>\n",
       "      <td>1.55</td>\n",
       "      <td>2.30</td>\n",
       "      <td>6.9</td>\n",
       "    </tr>\n",
       "    <tr>\n",
       "      <th>3.5</th>\n",
       "      <td>55.0</td>\n",
       "      <td>1.372727</td>\n",
       "      <td>1.122242</td>\n",
       "      <td>0.1</td>\n",
       "      <td>0.35</td>\n",
       "      <td>1.40</td>\n",
       "      <td>1.75</td>\n",
       "      <td>5.1</td>\n",
       "    </tr>\n",
       "    <tr>\n",
       "      <th>4.0</th>\n",
       "      <td>128.0</td>\n",
       "      <td>1.303125</td>\n",
       "      <td>1.033908</td>\n",
       "      <td>0.0</td>\n",
       "      <td>0.50</td>\n",
       "      <td>1.00</td>\n",
       "      <td>1.70</td>\n",
       "      <td>4.8</td>\n",
       "    </tr>\n",
       "  </tbody>\n",
       "</table>\n",
       "</div>"
      ],
      "text/plain": [
       "       count      mean       std  min   25%   50%   75%  max\n",
       "stars                                                       \n",
       "3.0    116.0  1.850862  1.300468  0.1  0.90  1.55  2.30  6.9\n",
       "3.5     55.0  1.372727  1.122242  0.1  0.35  1.40  1.75  5.1\n",
       "4.0    128.0  1.303125  1.033908  0.0  0.50  1.00  1.70  4.8"
      ]
     },
     "execution_count": 45,
     "metadata": {},
     "output_type": "execute_result"
    }
   ],
   "source": [
    "data.groupby(\"stars\")[\"distance\"].describe()\n"
   ]
  },
  {
   "cell_type": "code",
   "execution_count": 46,
   "metadata": {},
   "outputs": [
    {
     "data": {
      "application/vnd.microsoft.datawrangler.viewer.v0+json": {
       "columns": [
        {
         "name": "price",
         "rawType": "int64",
         "type": "integer"
        },
        {
         "name": "count",
         "rawType": "float64",
         "type": "float"
        },
        {
         "name": "mean",
         "rawType": "float64",
         "type": "float"
        },
        {
         "name": "std",
         "rawType": "float64",
         "type": "float"
        },
        {
         "name": "min",
         "rawType": "float64",
         "type": "float"
        },
        {
         "name": "25%",
         "rawType": "float64",
         "type": "float"
        },
        {
         "name": "50%",
         "rawType": "float64",
         "type": "float"
        },
        {
         "name": "75%",
         "rawType": "float64",
         "type": "float"
        },
        {
         "name": "max",
         "rawType": "float64",
         "type": "float"
        }
       ],
       "conversionMethod": "pd.DataFrame",
       "ref": "ae767994-6bed-43fc-9913-3dcd55bff0a3",
       "rows": [
        [
         "50",
         "1.0",
         "3.9",
         null,
         "3.9",
         "3.9",
         "3.9",
         "3.9",
         "3.9"
        ],
        [
         "52",
         "1.0",
         "3.1",
         null,
         "3.1",
         "3.1",
         "3.1",
         "3.1",
         "3.1"
        ],
        [
         "54",
         "2.0",
         "1.55",
         "0.6363961030678927",
         "1.1",
         "1.3250000000000002",
         "1.55",
         "1.775",
         "2.0"
        ],
        [
         "56",
         "2.0",
         "3.1",
         "0.8485281374238571",
         "2.5",
         "2.8",
         "3.1",
         "3.4000000000000004",
         "3.7"
        ],
        [
         "58",
         "2.0",
         "1.4",
         "0.0",
         "1.4",
         "1.4",
         "1.4",
         "1.4",
         "1.4"
        ],
        [
         "59",
         "1.0",
         "1.6",
         null,
         "1.6",
         "1.6",
         "1.6",
         "1.6",
         "1.6"
        ],
        [
         "60",
         "1.0",
         "1.1",
         null,
         "1.1",
         "1.1",
         "1.1",
         "1.1",
         "1.1"
        ],
        [
         "63",
         "3.0",
         "1.6666666666666667",
         "0.5773502691896257",
         "1.0",
         "1.5",
         "2.0",
         "2.0",
         "2.0"
        ],
        [
         "66",
         "5.0",
         "2.4",
         "1.2629330940315089",
         "1.1",
         "1.6",
         "1.8",
         "3.6",
         "3.9"
        ],
        [
         "67",
         "1.0",
         "1.8",
         null,
         "1.8",
         "1.8",
         "1.8",
         "1.8",
         "1.8"
        ],
        [
         "68",
         "5.0",
         "2.2399999999999998",
         "1.690562036720333",
         "0.9",
         "0.9",
         "1.3",
         "3.6",
         "4.5"
        ],
        [
         "69",
         "3.0",
         "2.8000000000000003",
         "0.8185352771872451",
         "2.1",
         "2.35",
         "2.6",
         "3.1500000000000004",
         "3.7"
        ],
        [
         "70",
         "1.0",
         "1.8",
         null,
         "1.8",
         "1.8",
         "1.8",
         "1.8",
         "1.8"
        ],
        [
         "71",
         "1.0",
         "1.7",
         null,
         "1.7",
         "1.7",
         "1.7",
         "1.7",
         "1.7"
        ],
        [
         "73",
         "2.0",
         "1.45",
         "0.07071067811865482",
         "1.4",
         "1.4249999999999998",
         "1.45",
         "1.475",
         "1.5"
        ],
        [
         "74",
         "1.0",
         "4.8",
         null,
         "4.8",
         "4.8",
         "4.8",
         "4.8",
         "4.8"
        ],
        [
         "75",
         "3.0",
         "1.6666666666666667",
         "0.9504384952922169",
         "0.7",
         "1.2",
         "1.7",
         "2.15",
         "2.6"
        ],
        [
         "76",
         "3.0",
         "2.3333333333333335",
         "0.8736894948054104",
         "1.6",
         "1.85",
         "2.1",
         "2.7",
         "3.3"
        ],
        [
         "77",
         "7.0",
         "2.742857142857143",
         "1.2501428489805249",
         "0.9",
         "1.85",
         "2.8",
         "3.8",
         "4.2"
        ],
        [
         "78",
         "3.0",
         "1.6333333333333335",
         "1.3576941236277535",
         "0.8",
         "0.8500000000000001",
         "0.9",
         "2.05",
         "3.2"
        ],
        [
         "79",
         "4.0",
         "1.3",
         "0.2943920288775949",
         "0.9",
         "1.2",
         "1.35",
         "1.45",
         "1.6"
        ],
        [
         "80",
         "4.0",
         "2.375",
         "1.1870832602082577",
         "1.4",
         "1.775",
         "2.0",
         "2.6",
         "4.1"
        ],
        [
         "81",
         "5.0",
         "2.46",
         "0.808084154033477",
         "1.7",
         "1.8",
         "2.4",
         "2.7",
         "3.7"
        ],
        [
         "82",
         "9.0",
         "1.7444444444444445",
         "0.505250213040804",
         "1.1",
         "1.4",
         "1.7",
         "1.9",
         "2.6"
        ],
        [
         "83",
         "5.0",
         "2.4",
         "0.916515138991168",
         "1.7",
         "1.7",
         "2.1",
         "2.6",
         "3.9"
        ],
        [
         "84",
         "6.0",
         "1.4333333333333336",
         "0.4802776974487433",
         "0.8",
         "1.05",
         "1.55",
         "1.825",
         "1.9"
        ],
        [
         "85",
         "5.0",
         "2.0",
         "1.0124228365658294",
         "0.8",
         "1.4",
         "1.7",
         "3.0",
         "3.1"
        ],
        [
         "86",
         "4.0",
         "1.525",
         "0.2217355782608345",
         "1.3",
         "1.375",
         "1.5",
         "1.6500000000000001",
         "1.8"
        ],
        [
         "87",
         "5.0",
         "1.8800000000000001",
         "1.0848963084092413",
         "0.8",
         "0.9",
         "1.9",
         "2.4",
         "3.4"
        ],
        [
         "88",
         "4.0",
         "1.825",
         "0.6601767440112786",
         "0.9",
         "1.575",
         "2.05",
         "2.3",
         "2.3"
        ],
        [
         "89",
         "1.0",
         "1.6",
         null,
         "1.6",
         "1.6",
         "1.6",
         "1.6",
         "1.6"
        ],
        [
         "90",
         "2.0",
         "3.65",
         "1.3435028842544399",
         "2.7",
         "3.175",
         "3.65",
         "4.125",
         "4.6"
        ],
        [
         "91",
         "4.0",
         "0.975",
         "0.6994045086119095",
         "0.2",
         "0.7250000000000001",
         "0.9",
         "1.15",
         "1.9"
        ],
        [
         "92",
         "4.0",
         "1.5999999999999999",
         "0.9055385138137416",
         "0.8",
         "1.175",
         "1.35",
         "1.775",
         "2.9"
        ],
        [
         "93",
         "1.0",
         "1.1",
         null,
         "1.1",
         "1.1",
         "1.1",
         "1.1",
         "1.1"
        ],
        [
         "94",
         "1.0",
         "1.0",
         null,
         "1.0",
         "1.0",
         "1.0",
         "1.0",
         "1.0"
        ],
        [
         "95",
         "4.0",
         "2.0",
         "1.3686976778431874",
         "0.4",
         "1.225",
         "2.0",
         "2.775",
         "3.6"
        ],
        [
         "96",
         "1.0",
         "1.5",
         null,
         "1.5",
         "1.5",
         "1.5",
         "1.5",
         "1.5"
        ],
        [
         "97",
         "1.0",
         "3.1",
         null,
         "3.1",
         "3.1",
         "3.1",
         "3.1",
         "3.1"
        ],
        [
         "98",
         "4.0",
         "0.8500000000000001",
         "0.5916079783099616",
         "0.4",
         "0.475",
         "0.65",
         "1.025",
         "1.7"
        ],
        [
         "99",
         "5.0",
         "1.54",
         "0.3209361307176242",
         "1.0",
         "1.5",
         "1.7",
         "1.7",
         "1.8"
        ],
        [
         "100",
         "9.0",
         "1.4000000000000001",
         "0.574456264653803",
         "0.8",
         "1.0",
         "1.2",
         "1.6",
         "2.7"
        ],
        [
         "101",
         "4.0",
         "1.15",
         "0.776745346515403",
         "0.2",
         "0.875",
         "1.15",
         "1.425",
         "2.1"
        ],
        [
         "102",
         "3.0",
         "2.6",
         "2.351595203260969",
         "1.0",
         "1.25",
         "1.5",
         "3.4",
         "5.3"
        ],
        [
         "103",
         "3.0",
         "1.0666666666666667",
         "0.8621678104251709",
         "0.3",
         "0.6",
         "0.9",
         "1.45",
         "2.0"
        ],
        [
         "104",
         "2.0",
         "0.44999999999999996",
         "0.35355339059327373",
         "0.2",
         "0.325",
         "0.44999999999999996",
         "0.575",
         "0.7"
        ],
        [
         "105",
         "4.0",
         "2.15",
         "1.4479871085982314",
         "1.2",
         "1.3499999999999999",
         "1.5499999999999998",
         "2.3499999999999996",
         "4.3"
        ],
        [
         "106",
         "3.0",
         "1.9666666666666666",
         "1.8502252115170552",
         "0.8",
         "0.9",
         "1.0",
         "2.55",
         "4.1"
        ],
        [
         "107",
         "1.0",
         "0.2",
         null,
         "0.2",
         "0.2",
         "0.2",
         "0.2",
         "0.2"
        ],
        [
         "108",
         "1.0",
         "0.3",
         null,
         "0.3",
         "0.3",
         "0.3",
         "0.3",
         "0.3"
        ]
       ],
       "shape": {
        "columns": 8,
        "rows": 126
       }
      },
      "text/html": [
       "<div>\n",
       "<style scoped>\n",
       "    .dataframe tbody tr th:only-of-type {\n",
       "        vertical-align: middle;\n",
       "    }\n",
       "\n",
       "    .dataframe tbody tr th {\n",
       "        vertical-align: top;\n",
       "    }\n",
       "\n",
       "    .dataframe thead th {\n",
       "        text-align: right;\n",
       "    }\n",
       "</style>\n",
       "<table border=\"1\" class=\"dataframe\">\n",
       "  <thead>\n",
       "    <tr style=\"text-align: right;\">\n",
       "      <th></th>\n",
       "      <th>count</th>\n",
       "      <th>mean</th>\n",
       "      <th>std</th>\n",
       "      <th>min</th>\n",
       "      <th>25%</th>\n",
       "      <th>50%</th>\n",
       "      <th>75%</th>\n",
       "      <th>max</th>\n",
       "    </tr>\n",
       "    <tr>\n",
       "      <th>price</th>\n",
       "      <th></th>\n",
       "      <th></th>\n",
       "      <th></th>\n",
       "      <th></th>\n",
       "      <th></th>\n",
       "      <th></th>\n",
       "      <th></th>\n",
       "      <th></th>\n",
       "    </tr>\n",
       "  </thead>\n",
       "  <tbody>\n",
       "    <tr>\n",
       "      <th>50</th>\n",
       "      <td>1.0</td>\n",
       "      <td>3.90</td>\n",
       "      <td>NaN</td>\n",
       "      <td>3.9</td>\n",
       "      <td>3.900</td>\n",
       "      <td>3.90</td>\n",
       "      <td>3.900</td>\n",
       "      <td>3.9</td>\n",
       "    </tr>\n",
       "    <tr>\n",
       "      <th>52</th>\n",
       "      <td>1.0</td>\n",
       "      <td>3.10</td>\n",
       "      <td>NaN</td>\n",
       "      <td>3.1</td>\n",
       "      <td>3.100</td>\n",
       "      <td>3.10</td>\n",
       "      <td>3.100</td>\n",
       "      <td>3.1</td>\n",
       "    </tr>\n",
       "    <tr>\n",
       "      <th>54</th>\n",
       "      <td>2.0</td>\n",
       "      <td>1.55</td>\n",
       "      <td>0.636396</td>\n",
       "      <td>1.1</td>\n",
       "      <td>1.325</td>\n",
       "      <td>1.55</td>\n",
       "      <td>1.775</td>\n",
       "      <td>2.0</td>\n",
       "    </tr>\n",
       "    <tr>\n",
       "      <th>56</th>\n",
       "      <td>2.0</td>\n",
       "      <td>3.10</td>\n",
       "      <td>0.848528</td>\n",
       "      <td>2.5</td>\n",
       "      <td>2.800</td>\n",
       "      <td>3.10</td>\n",
       "      <td>3.400</td>\n",
       "      <td>3.7</td>\n",
       "    </tr>\n",
       "    <tr>\n",
       "      <th>58</th>\n",
       "      <td>2.0</td>\n",
       "      <td>1.40</td>\n",
       "      <td>0.000000</td>\n",
       "      <td>1.4</td>\n",
       "      <td>1.400</td>\n",
       "      <td>1.40</td>\n",
       "      <td>1.400</td>\n",
       "      <td>1.4</td>\n",
       "    </tr>\n",
       "    <tr>\n",
       "      <th>...</th>\n",
       "      <td>...</td>\n",
       "      <td>...</td>\n",
       "      <td>...</td>\n",
       "      <td>...</td>\n",
       "      <td>...</td>\n",
       "      <td>...</td>\n",
       "      <td>...</td>\n",
       "      <td>...</td>\n",
       "    </tr>\n",
       "    <tr>\n",
       "      <th>355</th>\n",
       "      <td>1.0</td>\n",
       "      <td>1.60</td>\n",
       "      <td>NaN</td>\n",
       "      <td>1.6</td>\n",
       "      <td>1.600</td>\n",
       "      <td>1.60</td>\n",
       "      <td>1.600</td>\n",
       "      <td>1.6</td>\n",
       "    </tr>\n",
       "    <tr>\n",
       "      <th>363</th>\n",
       "      <td>1.0</td>\n",
       "      <td>1.50</td>\n",
       "      <td>NaN</td>\n",
       "      <td>1.5</td>\n",
       "      <td>1.500</td>\n",
       "      <td>1.50</td>\n",
       "      <td>1.500</td>\n",
       "      <td>1.5</td>\n",
       "    </tr>\n",
       "    <tr>\n",
       "      <th>364</th>\n",
       "      <td>2.0</td>\n",
       "      <td>0.40</td>\n",
       "      <td>0.282843</td>\n",
       "      <td>0.2</td>\n",
       "      <td>0.300</td>\n",
       "      <td>0.40</td>\n",
       "      <td>0.500</td>\n",
       "      <td>0.6</td>\n",
       "    </tr>\n",
       "    <tr>\n",
       "      <th>383</th>\n",
       "      <td>1.0</td>\n",
       "      <td>1.90</td>\n",
       "      <td>NaN</td>\n",
       "      <td>1.9</td>\n",
       "      <td>1.900</td>\n",
       "      <td>1.90</td>\n",
       "      <td>1.900</td>\n",
       "      <td>1.9</td>\n",
       "    </tr>\n",
       "    <tr>\n",
       "      <th>511</th>\n",
       "      <td>1.0</td>\n",
       "      <td>0.50</td>\n",
       "      <td>NaN</td>\n",
       "      <td>0.5</td>\n",
       "      <td>0.500</td>\n",
       "      <td>0.50</td>\n",
       "      <td>0.500</td>\n",
       "      <td>0.5</td>\n",
       "    </tr>\n",
       "  </tbody>\n",
       "</table>\n",
       "<p>126 rows × 8 columns</p>\n",
       "</div>"
      ],
      "text/plain": [
       "       count  mean       std  min    25%   50%    75%  max\n",
       "price                                                     \n",
       "50       1.0  3.90       NaN  3.9  3.900  3.90  3.900  3.9\n",
       "52       1.0  3.10       NaN  3.1  3.100  3.10  3.100  3.1\n",
       "54       2.0  1.55  0.636396  1.1  1.325  1.55  1.775  2.0\n",
       "56       2.0  3.10  0.848528  2.5  2.800  3.10  3.400  3.7\n",
       "58       2.0  1.40  0.000000  1.4  1.400  1.40  1.400  1.4\n",
       "...      ...   ...       ...  ...    ...   ...    ...  ...\n",
       "355      1.0  1.60       NaN  1.6  1.600  1.60  1.600  1.6\n",
       "363      1.0  1.50       NaN  1.5  1.500  1.50  1.500  1.5\n",
       "364      2.0  0.40  0.282843  0.2  0.300  0.40  0.500  0.6\n",
       "383      1.0  1.90       NaN  1.9  1.900  1.90  1.900  1.9\n",
       "511      1.0  0.50       NaN  0.5  0.500  0.50  0.500  0.5\n",
       "\n",
       "[126 rows x 8 columns]"
      ]
     },
     "execution_count": 46,
     "metadata": {},
     "output_type": "execute_result"
    }
   ],
   "source": [
    "data.groupby(\"price\")[\"distance\"].describe()\n"
   ]
  },
  {
   "cell_type": "code",
   "execution_count": 47,
   "metadata": {},
   "outputs": [
    {
     "data": {
      "application/vnd.microsoft.datawrangler.viewer.v0+json": {
       "columns": [
        {
         "name": "lnprice",
         "rawType": "float64",
         "type": "float"
        },
        {
         "name": "count",
         "rawType": "float64",
         "type": "float"
        },
        {
         "name": "mean",
         "rawType": "float64",
         "type": "float"
        },
        {
         "name": "std",
         "rawType": "float64",
         "type": "float"
        },
        {
         "name": "min",
         "rawType": "float64",
         "type": "float"
        },
        {
         "name": "25%",
         "rawType": "float64",
         "type": "float"
        },
        {
         "name": "50%",
         "rawType": "float64",
         "type": "float"
        },
        {
         "name": "75%",
         "rawType": "float64",
         "type": "float"
        },
        {
         "name": "max",
         "rawType": "float64",
         "type": "float"
        }
       ],
       "conversionMethod": "pd.DataFrame",
       "ref": "6c7b5c6d-6457-436e-8c82-f2bb55958860",
       "rows": [
        [
         "3.912023005428146",
         "1.0",
         "3.9",
         null,
         "3.9",
         "3.9",
         "3.9",
         "3.9",
         "3.9"
        ],
        [
         "3.951243718581428",
         "1.0",
         "3.1",
         null,
         "3.1",
         "3.1",
         "3.1",
         "3.1",
         "3.1"
        ],
        [
         "3.9889840465642745",
         "2.0",
         "1.55",
         "0.6363961030678927",
         "1.1",
         "1.3250000000000002",
         "1.55",
         "1.775",
         "2.0"
        ],
        [
         "4.02535169073515",
         "2.0",
         "3.1",
         "0.8485281374238571",
         "2.5",
         "2.8",
         "3.1",
         "3.4000000000000004",
         "3.7"
        ],
        [
         "4.060443010546419",
         "2.0",
         "1.4",
         "0.0",
         "1.4",
         "1.4",
         "1.4",
         "1.4",
         "1.4"
        ],
        [
         "4.07753744390572",
         "1.0",
         "1.6",
         null,
         "1.6",
         "1.6",
         "1.6",
         "1.6",
         "1.6"
        ],
        [
         "4.0943445622221",
         "1.0",
         "1.1",
         null,
         "1.1",
         "1.1",
         "1.1",
         "1.1",
         "1.1"
        ],
        [
         "4.143134726391533",
         "3.0",
         "1.6666666666666667",
         "0.5773502691896257",
         "1.0",
         "1.5",
         "2.0",
         "2.0",
         "2.0"
        ],
        [
         "4.189654742026425",
         "5.0",
         "2.4",
         "1.2629330940315089",
         "1.1",
         "1.6",
         "1.8",
         "3.6",
         "3.9"
        ],
        [
         "4.204692619390966",
         "1.0",
         "1.8",
         null,
         "1.8",
         "1.8",
         "1.8",
         "1.8",
         "1.8"
        ],
        [
         "4.219507705176107",
         "5.0",
         "2.2399999999999998",
         "1.690562036720333",
         "0.9",
         "0.9",
         "1.3",
         "3.6",
         "4.5"
        ],
        [
         "4.23410650459726",
         "3.0",
         "2.8000000000000003",
         "0.8185352771872451",
         "2.1",
         "2.35",
         "2.6",
         "3.1500000000000004",
         "3.7"
        ],
        [
         "4.248495242049359",
         "1.0",
         "1.8",
         null,
         "1.8",
         "1.8",
         "1.8",
         "1.8",
         "1.8"
        ],
        [
         "4.262679877041316",
         "1.0",
         "1.7",
         null,
         "1.7",
         "1.7",
         "1.7",
         "1.7",
         "1.7"
        ],
        [
         "4.290459441148391",
         "2.0",
         "1.45",
         "0.07071067811865482",
         "1.4",
         "1.4249999999999998",
         "1.45",
         "1.475",
         "1.5"
        ],
        [
         "4.30406509320417",
         "1.0",
         "4.8",
         null,
         "4.8",
         "4.8",
         "4.8",
         "4.8",
         "4.8"
        ],
        [
         "4.31748811353631",
         "3.0",
         "1.6666666666666667",
         "0.9504384952922169",
         "0.7",
         "1.2",
         "1.7",
         "2.15",
         "2.6"
        ],
        [
         "4.330733340286331",
         "3.0",
         "2.3333333333333335",
         "0.8736894948054104",
         "1.6",
         "1.85",
         "2.1",
         "2.7",
         "3.3"
        ],
        [
         "4.343805421853684",
         "7.0",
         "2.742857142857143",
         "1.2501428489805249",
         "0.9",
         "1.85",
         "2.8",
         "3.8",
         "4.2"
        ],
        [
         "4.356708826689592",
         "3.0",
         "1.6333333333333335",
         "1.3576941236277535",
         "0.8",
         "0.8500000000000001",
         "0.9",
         "2.05",
         "3.2"
        ],
        [
         "4.3694478524670215",
         "4.0",
         "1.3",
         "0.2943920288775949",
         "0.9",
         "1.2",
         "1.35",
         "1.45",
         "1.6"
        ],
        [
         "4.382026634673881",
         "4.0",
         "2.375",
         "1.1870832602082577",
         "1.4",
         "1.775",
         "2.0",
         "2.6",
         "4.1"
        ],
        [
         "4.394449154672439",
         "5.0",
         "2.46",
         "0.808084154033477",
         "1.7",
         "1.8",
         "2.4",
         "2.7",
         "3.7"
        ],
        [
         "4.406719247264253",
         "9.0",
         "1.7444444444444445",
         "0.505250213040804",
         "1.1",
         "1.4",
         "1.7",
         "1.9",
         "2.6"
        ],
        [
         "4.418840607796598",
         "5.0",
         "2.4",
         "0.916515138991168",
         "1.7",
         "1.7",
         "2.1",
         "2.6",
         "3.9"
        ],
        [
         "4.430816798843313",
         "6.0",
         "1.4333333333333336",
         "0.4802776974487433",
         "0.8",
         "1.05",
         "1.55",
         "1.825",
         "1.9"
        ],
        [
         "4.442651256490317",
         "5.0",
         "2.0",
         "1.0124228365658294",
         "0.8",
         "1.4",
         "1.7",
         "3.0",
         "3.1"
        ],
        [
         "4.454347296253507",
         "4.0",
         "1.525",
         "0.2217355782608345",
         "1.3",
         "1.375",
         "1.5",
         "1.6500000000000001",
         "1.8"
        ],
        [
         "4.465908118654584",
         "5.0",
         "1.8800000000000001",
         "1.0848963084092413",
         "0.8",
         "0.9",
         "1.9",
         "2.4",
         "3.4"
        ],
        [
         "4.477336814478207",
         "4.0",
         "1.825",
         "0.6601767440112786",
         "0.9",
         "1.575",
         "2.05",
         "2.3",
         "2.3"
        ],
        [
         "4.48863636973214",
         "1.0",
         "1.6",
         null,
         "1.6",
         "1.6",
         "1.6",
         "1.6",
         "1.6"
        ],
        [
         "4.499809670330265",
         "2.0",
         "3.65",
         "1.3435028842544399",
         "2.7",
         "3.175",
         "3.65",
         "4.125",
         "4.6"
        ],
        [
         "4.51085950651685",
         "4.0",
         "0.975",
         "0.6994045086119095",
         "0.2",
         "0.7250000000000001",
         "0.9",
         "1.15",
         "1.9"
        ],
        [
         "4.5217885770490405",
         "4.0",
         "1.5999999999999999",
         "0.9055385138137416",
         "0.8",
         "1.175",
         "1.35",
         "1.775",
         "2.9"
        ],
        [
         "4.532599493153256",
         "1.0",
         "1.1",
         null,
         "1.1",
         "1.1",
         "1.1",
         "1.1",
         "1.1"
        ],
        [
         "4.543294782270004",
         "1.0",
         "1.0",
         null,
         "1.0",
         "1.0",
         "1.0",
         "1.0",
         "1.0"
        ],
        [
         "4.553876891600541",
         "4.0",
         "2.0",
         "1.3686976778431874",
         "0.4",
         "1.225",
         "2.0",
         "2.775",
         "3.6"
        ],
        [
         "4.564348191467836",
         "1.0",
         "1.5",
         null,
         "1.5",
         "1.5",
         "1.5",
         "1.5",
         "1.5"
        ],
        [
         "4.574710978503383",
         "1.0",
         "3.1",
         null,
         "3.1",
         "3.1",
         "3.1",
         "3.1",
         "3.1"
        ],
        [
         "4.584967478670572",
         "4.0",
         "0.8500000000000001",
         "0.5916079783099616",
         "0.4",
         "0.475",
         "0.65",
         "1.025",
         "1.7"
        ],
        [
         "4.59511985013459",
         "5.0",
         "1.54",
         "0.3209361307176242",
         "1.0",
         "1.5",
         "1.7",
         "1.7",
         "1.8"
        ],
        [
         "4.605170185988092",
         "9.0",
         "1.4000000000000001",
         "0.574456264653803",
         "0.8",
         "1.0",
         "1.2",
         "1.6",
         "2.7"
        ],
        [
         "4.61512051684126",
         "4.0",
         "1.15",
         "0.776745346515403",
         "0.2",
         "0.875",
         "1.15",
         "1.425",
         "2.1"
        ],
        [
         "4.624972813284271",
         "3.0",
         "2.6",
         "2.351595203260969",
         "1.0",
         "1.25",
         "1.5",
         "3.4",
         "5.3"
        ],
        [
         "4.634728988229636",
         "3.0",
         "1.0666666666666667",
         "0.8621678104251709",
         "0.3",
         "0.6",
         "0.9",
         "1.45",
         "2.0"
        ],
        [
         "4.6443908991413725",
         "2.0",
         "0.44999999999999996",
         "0.35355339059327373",
         "0.2",
         "0.325",
         "0.44999999999999996",
         "0.575",
         "0.7"
        ],
        [
         "4.653960350157523",
         "4.0",
         "2.15",
         "1.4479871085982314",
         "1.2",
         "1.3499999999999999",
         "1.5499999999999998",
         "2.3499999999999996",
         "4.3"
        ],
        [
         "4.663439094112067",
         "3.0",
         "1.9666666666666666",
         "1.8502252115170552",
         "0.8",
         "0.9",
         "1.0",
         "2.55",
         "4.1"
        ],
        [
         "4.672828834461906",
         "1.0",
         "0.2",
         null,
         "0.2",
         "0.2",
         "0.2",
         "0.2",
         "0.2"
        ],
        [
         "4.68213122712422",
         "1.0",
         "0.3",
         null,
         "0.3",
         "0.3",
         "0.3",
         "0.3",
         "0.3"
        ]
       ],
       "shape": {
        "columns": 8,
        "rows": 126
       }
      },
      "text/html": [
       "<div>\n",
       "<style scoped>\n",
       "    .dataframe tbody tr th:only-of-type {\n",
       "        vertical-align: middle;\n",
       "    }\n",
       "\n",
       "    .dataframe tbody tr th {\n",
       "        vertical-align: top;\n",
       "    }\n",
       "\n",
       "    .dataframe thead th {\n",
       "        text-align: right;\n",
       "    }\n",
       "</style>\n",
       "<table border=\"1\" class=\"dataframe\">\n",
       "  <thead>\n",
       "    <tr style=\"text-align: right;\">\n",
       "      <th></th>\n",
       "      <th>count</th>\n",
       "      <th>mean</th>\n",
       "      <th>std</th>\n",
       "      <th>min</th>\n",
       "      <th>25%</th>\n",
       "      <th>50%</th>\n",
       "      <th>75%</th>\n",
       "      <th>max</th>\n",
       "    </tr>\n",
       "    <tr>\n",
       "      <th>lnprice</th>\n",
       "      <th></th>\n",
       "      <th></th>\n",
       "      <th></th>\n",
       "      <th></th>\n",
       "      <th></th>\n",
       "      <th></th>\n",
       "      <th></th>\n",
       "      <th></th>\n",
       "    </tr>\n",
       "  </thead>\n",
       "  <tbody>\n",
       "    <tr>\n",
       "      <th>3.912023</th>\n",
       "      <td>1.0</td>\n",
       "      <td>3.90</td>\n",
       "      <td>NaN</td>\n",
       "      <td>3.9</td>\n",
       "      <td>3.900</td>\n",
       "      <td>3.90</td>\n",
       "      <td>3.900</td>\n",
       "      <td>3.9</td>\n",
       "    </tr>\n",
       "    <tr>\n",
       "      <th>3.951244</th>\n",
       "      <td>1.0</td>\n",
       "      <td>3.10</td>\n",
       "      <td>NaN</td>\n",
       "      <td>3.1</td>\n",
       "      <td>3.100</td>\n",
       "      <td>3.10</td>\n",
       "      <td>3.100</td>\n",
       "      <td>3.1</td>\n",
       "    </tr>\n",
       "    <tr>\n",
       "      <th>3.988984</th>\n",
       "      <td>2.0</td>\n",
       "      <td>1.55</td>\n",
       "      <td>0.636396</td>\n",
       "      <td>1.1</td>\n",
       "      <td>1.325</td>\n",
       "      <td>1.55</td>\n",
       "      <td>1.775</td>\n",
       "      <td>2.0</td>\n",
       "    </tr>\n",
       "    <tr>\n",
       "      <th>4.025352</th>\n",
       "      <td>2.0</td>\n",
       "      <td>3.10</td>\n",
       "      <td>0.848528</td>\n",
       "      <td>2.5</td>\n",
       "      <td>2.800</td>\n",
       "      <td>3.10</td>\n",
       "      <td>3.400</td>\n",
       "      <td>3.7</td>\n",
       "    </tr>\n",
       "    <tr>\n",
       "      <th>4.060443</th>\n",
       "      <td>2.0</td>\n",
       "      <td>1.40</td>\n",
       "      <td>0.000000</td>\n",
       "      <td>1.4</td>\n",
       "      <td>1.400</td>\n",
       "      <td>1.40</td>\n",
       "      <td>1.400</td>\n",
       "      <td>1.4</td>\n",
       "    </tr>\n",
       "    <tr>\n",
       "      <th>...</th>\n",
       "      <td>...</td>\n",
       "      <td>...</td>\n",
       "      <td>...</td>\n",
       "      <td>...</td>\n",
       "      <td>...</td>\n",
       "      <td>...</td>\n",
       "      <td>...</td>\n",
       "      <td>...</td>\n",
       "    </tr>\n",
       "    <tr>\n",
       "      <th>5.872118</th>\n",
       "      <td>1.0</td>\n",
       "      <td>1.60</td>\n",
       "      <td>NaN</td>\n",
       "      <td>1.6</td>\n",
       "      <td>1.600</td>\n",
       "      <td>1.60</td>\n",
       "      <td>1.600</td>\n",
       "      <td>1.6</td>\n",
       "    </tr>\n",
       "    <tr>\n",
       "      <th>5.894403</th>\n",
       "      <td>1.0</td>\n",
       "      <td>1.50</td>\n",
       "      <td>NaN</td>\n",
       "      <td>1.5</td>\n",
       "      <td>1.500</td>\n",
       "      <td>1.50</td>\n",
       "      <td>1.500</td>\n",
       "      <td>1.5</td>\n",
       "    </tr>\n",
       "    <tr>\n",
       "      <th>5.897154</th>\n",
       "      <td>2.0</td>\n",
       "      <td>0.40</td>\n",
       "      <td>0.282843</td>\n",
       "      <td>0.2</td>\n",
       "      <td>0.300</td>\n",
       "      <td>0.40</td>\n",
       "      <td>0.500</td>\n",
       "      <td>0.6</td>\n",
       "    </tr>\n",
       "    <tr>\n",
       "      <th>5.948035</th>\n",
       "      <td>1.0</td>\n",
       "      <td>1.90</td>\n",
       "      <td>NaN</td>\n",
       "      <td>1.9</td>\n",
       "      <td>1.900</td>\n",
       "      <td>1.90</td>\n",
       "      <td>1.900</td>\n",
       "      <td>1.9</td>\n",
       "    </tr>\n",
       "    <tr>\n",
       "      <th>6.236370</th>\n",
       "      <td>1.0</td>\n",
       "      <td>0.50</td>\n",
       "      <td>NaN</td>\n",
       "      <td>0.5</td>\n",
       "      <td>0.500</td>\n",
       "      <td>0.50</td>\n",
       "      <td>0.500</td>\n",
       "      <td>0.5</td>\n",
       "    </tr>\n",
       "  </tbody>\n",
       "</table>\n",
       "<p>126 rows × 8 columns</p>\n",
       "</div>"
      ],
      "text/plain": [
       "          count  mean       std  min    25%   50%    75%  max\n",
       "lnprice                                                      \n",
       "3.912023    1.0  3.90       NaN  3.9  3.900  3.90  3.900  3.9\n",
       "3.951244    1.0  3.10       NaN  3.1  3.100  3.10  3.100  3.1\n",
       "3.988984    2.0  1.55  0.636396  1.1  1.325  1.55  1.775  2.0\n",
       "4.025352    2.0  3.10  0.848528  2.5  2.800  3.10  3.400  3.7\n",
       "4.060443    2.0  1.40  0.000000  1.4  1.400  1.40  1.400  1.4\n",
       "...         ...   ...       ...  ...    ...   ...    ...  ...\n",
       "5.872118    1.0  1.60       NaN  1.6  1.600  1.60  1.600  1.6\n",
       "5.894403    1.0  1.50       NaN  1.5  1.500  1.50  1.500  1.5\n",
       "5.897154    2.0  0.40  0.282843  0.2  0.300  0.40  0.500  0.6\n",
       "5.948035    1.0  1.90       NaN  1.9  1.900  1.90  1.900  1.9\n",
       "6.236370    1.0  0.50       NaN  0.5  0.500  0.50  0.500  0.5\n",
       "\n",
       "[126 rows x 8 columns]"
      ]
     },
     "execution_count": 47,
     "metadata": {},
     "output_type": "execute_result"
    }
   ],
   "source": [
    "data.groupby(\"lnprice\")[\"distance\"].describe()\n"
   ]
  },
  {
   "cell_type": "code",
   "execution_count": 48,
   "metadata": {},
   "outputs": [],
   "source": [
    "accommodation_types = [\"Hotel\", \"Apartment\"]\n"
   ]
  },
  {
   "cell_type": "code",
   "execution_count": 49,
   "metadata": {},
   "outputs": [],
   "source": [
    "models = []\n",
    "for atype in accommodation_types:\n",
    "    models.append(\n",
    "        smf.ols(\n",
    "            \"lnprice ~ lspline(distance,[2])\",\n",
    "            data=data.loc[lambda x: x[\"accommodation_type\"] == atype],\n",
    "        ).fit(cov_type=\"HC1\")\n",
    "    )\n"
   ]
  },
  {
   "cell_type": "code",
   "execution_count": 50,
   "metadata": {},
   "outputs": [
    {
     "data": {
      "text/html": [
       "<table style=\"text-align:center\"><tr><td colspan=\"3\" style=\"border-bottom: 1px solid black\"></td></tr>\n",
       "<tr><td style=\"text-align:left\"></td><td colspan=\"2\"><em>Dependent variable: lnprice</em></td></tr><tr><td style=\"text-align:left\"></td><tr><td></td><td colspan=\"1\">Hotel</td><td colspan=\"1\">Apartment</td></tr>\n",
       "<tr><td colspan=\"3\" style=\"border-bottom: 1px solid black\"></td></tr>\n",
       "\n",
       "<tr><td style=\"text-align:left\">Distance spline <2</td><td>-0.309<sup>***</sup></td><td>-0.255<sup>***</sup></td></tr>\n",
       "<tr><td style=\"text-align:left\"></td><td>(0.038)</td><td>(0.068)</td></tr>\n",
       "<tr><td style=\"text-align:left\">Distance spline 2–7</td><td>0.024<sup></sup></td><td>0.117<sup>**</sup></td></tr>\n",
       "<tr><td style=\"text-align:left\"></td><td>(0.033)</td><td>(0.047)</td></tr>\n",
       "<tr><td style=\"text-align:left\">Constant</td><td>5.015<sup>***</sup></td><td>5.153<sup>***</sup></td></tr>\n",
       "<tr><td style=\"text-align:left\"></td><td>(0.042)</td><td>(0.096)</td></tr>\n",
       "\n",
       "<td colspan=\"3\" style=\"border-bottom: 1px solid black\"></td></tr>\n",
       "<tr><td style=\"text-align: left\">Observations</td><td>207</td><td>92</td></tr><tr><td style=\"text-align: left\">R<sup>2</sup></td><td>0.314</td><td>0.134</td></tr><tr><td style=\"text-align: left\">Adjusted R<sup>2</sup></td><td>0.308</td><td>0.114</td></tr><tr><td style=\"text-align: left\">Residual Std. Error</td><td>0.280 (df=204)</td><td>0.418 (df=89)</td></tr><tr><td style=\"text-align: left\">F Statistic</td><td>46.037<sup>***</sup> (df=2; 204)</td><td>7.597<sup>***</sup> (df=2; 89)</td></tr>\n",
       "<tr><td colspan=\"3\" style=\"border-bottom: 1px solid black\"></td></tr><tr><td style=\"text-align: left\">Note:</td><td colspan=\"2\" style=\"text-align: right\"><sup>*</sup>p&lt;0.1; <sup>**</sup>p&lt;0.05; <sup>***</sup>p&lt;0.01</td></tr></table>"
      ],
      "text/plain": [
       "<IPython.core.display.HTML object>"
      ]
     },
     "execution_count": 50,
     "metadata": {},
     "output_type": "execute_result"
    }
   ],
   "source": [
    "stargazer = Stargazer(models)\n",
    "stargazer.covariate_order(\n",
    "    [\"lspline(distance, [2])[0]\", \"lspline(distance, [2])[1]\", \"Intercept\"]\n",
    ")\n",
    "stargazer.rename_covariates(\n",
    "    {\n",
    "        \"Intercept\": \"Constant\",\n",
    "        \"lspline(distance, [2])[0]\": \"Distance spline <2\",\n",
    "        \"lspline(distance, [2])[1]\": \"Distance spline 2–7\",\n",
    "    }\n",
    ")\n",
    "stargazer.custom_columns(accommodation_types, [1, 1])\n",
    "stargazer.show_model_numbers(False)\n",
    "HTML(stargazer.render_html())\n"
   ]
  },
  {
   "cell_type": "code",
   "execution_count": null,
   "metadata": {},
   "outputs": [],
   "source": []
  }
 ],
 "metadata": {
  "kernelspec": {
   "display_name": "daenv",
   "language": "python",
   "name": "python3"
  },
  "language_info": {
   "codemirror_mode": {
    "name": "ipython",
    "version": 3
   },
   "file_extension": ".py",
   "mimetype": "text/x-python",
   "name": "python",
   "nbconvert_exporter": "python",
   "pygments_lexer": "ipython3",
   "version": "3.12.4"
  }
 },
 "nbformat": 4,
 "nbformat_minor": 2
}
