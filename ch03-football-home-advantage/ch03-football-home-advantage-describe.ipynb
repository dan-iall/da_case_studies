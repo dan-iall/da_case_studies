{
 "cells": [
  {
   "cell_type": "markdown",
   "metadata": {},
   "source": [
    "#### Prepared for Gabor's Data Analysis\n",
    "\n",
    "### Data Analysis for Business, Economics, and Policy\n",
    "by Gabor Bekes and  Gabor Kezdi\n",
    " \n",
    "Cambridge University Press 2021\n",
    "\n",
    "**[gabors-data-analysis.com ](https://gabors-data-analysis.com/)**\n",
    "\n",
    " License: Free to share, modify and use for educational purposes. \n",
    " Not to be used for commercial purposes.\n",
    "\n",
    "### Chapter 03\n",
    "**CH03C Measurig home team advantage in football**\n",
    "\n",
    "using the football dataset\n",
    "\n",
    "version 1.0 2021-05-05"
   ]
  },
  {
   "cell_type": "code",
   "execution_count": 1,
   "metadata": {},
   "outputs": [],
   "source": [
    "import os\n",
    "import sys\n",
    "import warnings\n",
    "\n",
    "import numpy as np\n",
    "import pandas as pd\n",
    "from mizani.formatters import percent_format\n",
    "from plotnine import *\n",
    "\n",
    "warnings.filterwarnings(\"ignore\")"
   ]
  },
  {
   "cell_type": "code",
   "execution_count": 2,
   "metadata": {},
   "outputs": [],
   "source": [
    "# Current script folder\n",
    "current_path = os.getcwd()\n",
    "dirname = current_path.split(\"da_case_studies\")[0]\n",
    "\n",
    "# location folders\n",
    "data_in = dirname + \"da_data_repo/football/clean/\"\n",
    "data_out = dirname + \"da_case_studies/ch03-football-home-advantage/\"\n",
    "output = dirname + \"da_case_studies/ch03-football-home-advantage/output/\"\n",
    "func = dirname + \"da_case_studies/ch00-tech-prep/\"\n",
    "sys.path.append(func)"
   ]
  },
  {
   "cell_type": "code",
   "execution_count": 3,
   "metadata": {},
   "outputs": [],
   "source": [
    "# Import the prewritten helper functions\n",
    "from py_helper_functions import *"
   ]
  },
  {
   "cell_type": "code",
   "execution_count": 4,
   "metadata": {},
   "outputs": [],
   "source": [
    "df = pd.read_csv(data_in + \"epl_games.csv\")\n",
    "#df = pd.read_csv(\"https://osf.io/bdjt5/download\")"
   ]
  },
  {
   "cell_type": "code",
   "execution_count": 5,
   "metadata": {},
   "outputs": [],
   "source": [
    "df = df.loc[df[\"season\"] == 2016, :].reset_index(drop=True)"
   ]
  },
  {
   "cell_type": "code",
   "execution_count": 6,
   "metadata": {},
   "outputs": [
    {
     "data": {
      "text/plain": [
       "(380, 9)"
      ]
     },
     "execution_count": 6,
     "metadata": {},
     "output_type": "execute_result"
    }
   ],
   "source": [
    "df.shape"
   ]
  },
  {
   "cell_type": "code",
   "execution_count": 7,
   "metadata": {},
   "outputs": [
    {
     "data": {
      "text/html": [
       "<div>\n",
       "<style scoped>\n",
       "    .dataframe tbody tr th:only-of-type {\n",
       "        vertical-align: middle;\n",
       "    }\n",
       "\n",
       "    .dataframe tbody tr th {\n",
       "        vertical-align: top;\n",
       "    }\n",
       "\n",
       "    .dataframe thead th {\n",
       "        text-align: right;\n",
       "    }\n",
       "</style>\n",
       "<table border=\"1\" class=\"dataframe\">\n",
       "  <thead>\n",
       "    <tr style=\"text-align: right;\">\n",
       "      <th></th>\n",
       "      <th>0</th>\n",
       "      <th>1</th>\n",
       "      <th>2</th>\n",
       "      <th>3</th>\n",
       "      <th>4</th>\n",
       "    </tr>\n",
       "  </thead>\n",
       "  <tbody>\n",
       "    <tr>\n",
       "      <th>div</th>\n",
       "      <td>E0</td>\n",
       "      <td>E0</td>\n",
       "      <td>E0</td>\n",
       "      <td>E0</td>\n",
       "      <td>E0</td>\n",
       "    </tr>\n",
       "    <tr>\n",
       "      <th>season</th>\n",
       "      <td>2016</td>\n",
       "      <td>2016</td>\n",
       "      <td>2016</td>\n",
       "      <td>2016</td>\n",
       "      <td>2016</td>\n",
       "    </tr>\n",
       "    <tr>\n",
       "      <th>date</th>\n",
       "      <td>13aug2016</td>\n",
       "      <td>13aug2016</td>\n",
       "      <td>13aug2016</td>\n",
       "      <td>13aug2016</td>\n",
       "      <td>13aug2016</td>\n",
       "    </tr>\n",
       "    <tr>\n",
       "      <th>team_home</th>\n",
       "      <td>Middlesbrough</td>\n",
       "      <td>Burnley</td>\n",
       "      <td>Everton</td>\n",
       "      <td>Crystal Palace</td>\n",
       "      <td>Man City</td>\n",
       "    </tr>\n",
       "    <tr>\n",
       "      <th>team_away</th>\n",
       "      <td>Stoke</td>\n",
       "      <td>Swansea</td>\n",
       "      <td>Tottenham</td>\n",
       "      <td>West Brom</td>\n",
       "      <td>Sunderland</td>\n",
       "    </tr>\n",
       "    <tr>\n",
       "      <th>points_home</th>\n",
       "      <td>1</td>\n",
       "      <td>0</td>\n",
       "      <td>1</td>\n",
       "      <td>0</td>\n",
       "      <td>3</td>\n",
       "    </tr>\n",
       "    <tr>\n",
       "      <th>points_away</th>\n",
       "      <td>1</td>\n",
       "      <td>3</td>\n",
       "      <td>1</td>\n",
       "      <td>3</td>\n",
       "      <td>0</td>\n",
       "    </tr>\n",
       "    <tr>\n",
       "      <th>goals_home</th>\n",
       "      <td>1</td>\n",
       "      <td>0</td>\n",
       "      <td>1</td>\n",
       "      <td>0</td>\n",
       "      <td>2</td>\n",
       "    </tr>\n",
       "    <tr>\n",
       "      <th>goals_away</th>\n",
       "      <td>1</td>\n",
       "      <td>1</td>\n",
       "      <td>1</td>\n",
       "      <td>1</td>\n",
       "      <td>1</td>\n",
       "    </tr>\n",
       "  </tbody>\n",
       "</table>\n",
       "</div>"
      ],
      "text/plain": [
       "                         0          1          2               3           4\n",
       "div                     E0         E0         E0              E0          E0\n",
       "season                2016       2016       2016            2016        2016\n",
       "date             13aug2016  13aug2016  13aug2016       13aug2016   13aug2016\n",
       "team_home    Middlesbrough    Burnley    Everton  Crystal Palace    Man City\n",
       "team_away            Stoke    Swansea  Tottenham       West Brom  Sunderland\n",
       "points_home              1          0          1               0           3\n",
       "points_away              1          3          1               3           0\n",
       "goals_home               1          0          1               0           2\n",
       "goals_away               1          1          1               1           1"
      ]
     },
     "execution_count": 7,
     "metadata": {},
     "output_type": "execute_result"
    }
   ],
   "source": [
    "df.head().T"
   ]
  },
  {
   "cell_type": "code",
   "execution_count": 8,
   "metadata": {},
   "outputs": [],
   "source": [
    "df[\"home_goaladv\"] = df[\"goals_home\"] - df[\"goals_away\"]"
   ]
  },
  {
   "cell_type": "markdown",
   "metadata": {},
   "source": [
    "### Table 3.7 Describing the home team – away team goal difference (and 3.9)"
   ]
  },
  {
   "cell_type": "code",
   "execution_count": 9,
   "metadata": {},
   "outputs": [
    {
     "data": {
      "text/html": [
       "<div>\n",
       "<style scoped>\n",
       "    .dataframe tbody tr th:only-of-type {\n",
       "        vertical-align: middle;\n",
       "    }\n",
       "\n",
       "    .dataframe tbody tr th {\n",
       "        vertical-align: top;\n",
       "    }\n",
       "\n",
       "    .dataframe thead th {\n",
       "        text-align: right;\n",
       "    }\n",
       "</style>\n",
       "<table border=\"1\" class=\"dataframe\">\n",
       "  <thead>\n",
       "    <tr style=\"text-align: right;\">\n",
       "      <th></th>\n",
       "      <th>Statistics</th>\n",
       "      <th>Value</th>\n",
       "    </tr>\n",
       "  </thead>\n",
       "  <tbody>\n",
       "    <tr>\n",
       "      <th>0</th>\n",
       "      <td>Mean</td>\n",
       "      <td>0.4</td>\n",
       "    </tr>\n",
       "    <tr>\n",
       "      <th>1</th>\n",
       "      <td>Standard deviation</td>\n",
       "      <td>1.9</td>\n",
       "    </tr>\n",
       "    <tr>\n",
       "      <th>2</th>\n",
       "      <td>Percent positive</td>\n",
       "      <td>49.2</td>\n",
       "    </tr>\n",
       "    <tr>\n",
       "      <th>3</th>\n",
       "      <td>Percent zero</td>\n",
       "      <td>22.1</td>\n",
       "    </tr>\n",
       "    <tr>\n",
       "      <th>4</th>\n",
       "      <td>Percent negative</td>\n",
       "      <td>28.7</td>\n",
       "    </tr>\n",
       "    <tr>\n",
       "      <th>5</th>\n",
       "      <td>Number of observations</td>\n",
       "      <td>380.0</td>\n",
       "    </tr>\n",
       "  </tbody>\n",
       "</table>\n",
       "</div>"
      ],
      "text/plain": [
       "               Statistics  Value\n",
       "0                    Mean    0.4\n",
       "1      Standard deviation    1.9\n",
       "2        Percent positive   49.2\n",
       "3            Percent zero   22.1\n",
       "4        Percent negative   28.7\n",
       "5  Number of observations  380.0"
      ]
     },
     "execution_count": 9,
     "metadata": {},
     "output_type": "execute_result"
    }
   ],
   "source": [
    "pd.DataFrame.from_dict(\n",
    "    {\n",
    "        \"Statistics\": [\n",
    "            \"Mean\",\n",
    "            \"Standard deviation\",\n",
    "            \"Percent positive\",\n",
    "            \"Percent zero\",\n",
    "            \"Percent negative\",\n",
    "            \"Number of observations\",\n",
    "        ],\n",
    "        \"Value\": [\n",
    "            df[\"home_goaladv\"].describe()[\"mean\"],\n",
    "            df[\"home_goaladv\"].describe()[\"std\"],\n",
    "            (df[\"home_goaladv\"] > 0).sum() / df[\"home_goaladv\"].shape[0] * 100,\n",
    "            (df[\"home_goaladv\"] == 0).sum() / df[\"home_goaladv\"].shape[0] * 100,\n",
    "            (df[\"home_goaladv\"] < 0).sum() / df[\"home_goaladv\"].shape[0] * 100,\n",
    "            df[\"home_goaladv\"].describe()[\"count\"],\n",
    "        ],\n",
    "    }\n",
    ").round(1)"
   ]
  },
  {
   "cell_type": "markdown",
   "metadata": {},
   "source": [
    "### Figure 3.9 The distribution of home team – away team goal difference"
   ]
  },
  {
   "cell_type": "code",
   "execution_count": 10,
   "metadata": {},
   "outputs": [
    {
     "data": {
      "image/png": "[encoded data removed]",
      "text/plain": [
       "<Figure size 640x480 with 1 Axes>"
      ]
     },
     "metadata": {},
     "output_type": "display_data"
    },
    {
     "data": {
      "text/plain": [
       "<ggplot: (675726969)>"
      ]
     },
     "execution_count": 10,
     "metadata": {},
     "output_type": "execute_result"
    }
   ],
   "source": [
    "(\n",
    "    ggplot(df, aes(x=\"home_goaladv\", y=\"stat(count)/sum(stat(count))\"))\n",
    "    + geom_histogram(fill=color[0], color=\"white\", binwidth=1)\n",
    "    + geom_text(\n",
    "        aes(label=\"[round(x,1) for x in stat(count)/sum(stat(count))*100]\"),\n",
    "        stat=\"count\",\n",
    "        size=10,\n",
    "        nudge_y=0.01,\n",
    "    )\n",
    "    + labs(x=\"Goal difference\", y=\"Share of games (percent)\")\n",
    "    + scale_x_continuous(expand=(0.05, 0.05), limits=(-6, 6), breaks=seq(-6, 6, by=1))\n",
    "    + scale_y_continuous(\n",
    "        expand=(0, 0),\n",
    "        limits=(0, 0.25),\n",
    "        breaks=seq(0, 0.25, by=0.05),\n",
    "        labels=percent_format(),\n",
    "    )\n",
    "    + theme_bw()\n",
    ")\n"
   ]
  },
  {
   "cell_type": "markdown",
   "metadata": {},
   "source": [
    "look at goal advantage by team\n",
    "\n",
    "table *not* used in book, but interesting"
   ]
  },
  {
   "cell_type": "code",
   "execution_count": 11,
   "metadata": {},
   "outputs": [
    {
     "data": {
      "text/html": [
       "<div>\n",
       "<style scoped>\n",
       "    .dataframe tbody tr th:only-of-type {\n",
       "        vertical-align: middle;\n",
       "    }\n",
       "\n",
       "    .dataframe tbody tr th {\n",
       "        vertical-align: top;\n",
       "    }\n",
       "\n",
       "    .dataframe thead th {\n",
       "        text-align: right;\n",
       "    }\n",
       "</style>\n",
       "<table border=\"1\" class=\"dataframe\">\n",
       "  <thead>\n",
       "    <tr style=\"text-align: right;\">\n",
       "      <th></th>\n",
       "      <th>Count</th>\n",
       "      <th>Mean</th>\n",
       "      <th>Median</th>\n",
       "      <th>Std</th>\n",
       "      <th>Min</th>\n",
       "    </tr>\n",
       "    <tr>\n",
       "      <th>team_home</th>\n",
       "      <th></th>\n",
       "      <th></th>\n",
       "      <th></th>\n",
       "      <th></th>\n",
       "      <th></th>\n",
       "    </tr>\n",
       "  </thead>\n",
       "  <tbody>\n",
       "    <tr>\n",
       "      <th>Arsenal</th>\n",
       "      <td>19</td>\n",
       "      <td>1.210526</td>\n",
       "      <td>1.0</td>\n",
       "      <td>1.182227</td>\n",
       "      <td>-1</td>\n",
       "    </tr>\n",
       "    <tr>\n",
       "      <th>Chelsea</th>\n",
       "      <td>19</td>\n",
       "      <td>2.000000</td>\n",
       "      <td>2.0</td>\n",
       "      <td>1.563472</td>\n",
       "      <td>-1</td>\n",
       "    </tr>\n",
       "    <tr>\n",
       "      <th>Leicester</th>\n",
       "      <td>19</td>\n",
       "      <td>0.315789</td>\n",
       "      <td>1.0</td>\n",
       "      <td>2.237375</td>\n",
       "      <td>-5</td>\n",
       "    </tr>\n",
       "    <tr>\n",
       "      <th>Stoke</th>\n",
       "      <td>19</td>\n",
       "      <td>0.000000</td>\n",
       "      <td>0.0</td>\n",
       "      <td>1.855921</td>\n",
       "      <td>-4</td>\n",
       "    </tr>\n",
       "    <tr>\n",
       "      <th>West Ham</th>\n",
       "      <td>19</td>\n",
       "      <td>-0.631579</td>\n",
       "      <td>0.0</td>\n",
       "      <td>2.033348</td>\n",
       "      <td>-4</td>\n",
       "    </tr>\n",
       "  </tbody>\n",
       "</table>\n",
       "</div>"
      ],
      "text/plain": [
       "           Count      Mean  Median       Std  Min\n",
       "team_home                                        \n",
       "Arsenal       19  1.210526     1.0  1.182227   -1\n",
       "Chelsea       19  2.000000     2.0  1.563472   -1\n",
       "Leicester     19  0.315789     1.0  2.237375   -5\n",
       "Stoke         19  0.000000     0.0  1.855921   -4\n",
       "West Ham      19 -0.631579     0.0  2.033348   -4"
      ]
     },
     "execution_count": 11,
     "metadata": {},
     "output_type": "execute_result"
    }
   ],
   "source": [
    "df.loc[\n",
    "    df[\"team_home\"].isin([\"Chelsea\", \"Arsenal\", \"Leicester\", \"Stoke\", \"West Ham\"])\n",
    "].groupby(\"team_home\").agg(\n",
    "    Count=(\"home_goaladv\", \"size\"),\n",
    "    Mean=(\"home_goaladv\", np.mean),\n",
    "    Median=(\"home_goaladv\", np.median),\n",
    "    Std=(\"home_goaladv\", np.std),\n",
    "    Min=(\"home_goaladv\", min),\n",
    ")"
   ]
  },
  {
   "cell_type": "code",
   "execution_count": 12,
   "metadata": {},
   "outputs": [
    {
     "data": {
      "text/plain": [
       "count    95.000000\n",
       "mean      0.578947\n",
       "std       2.003077\n",
       "min      -5.000000\n",
       "25%       0.000000\n",
       "50%       1.000000\n",
       "75%       2.000000\n",
       "max       5.000000\n",
       "Name: home_goaladv, dtype: float64"
      ]
     },
     "execution_count": 12,
     "metadata": {},
     "output_type": "execute_result"
    }
   ],
   "source": [
    "df.loc[\n",
    "    df[\"team_home\"].isin([\"Chelsea\", \"Arsenal\", \"Leicester\", \"Stoke\", \"West Ham\"]),\n",
    "    \"home_goaladv\",\n",
    "].describe()"
   ]
  },
  {
   "cell_type": "code",
   "execution_count": null,
   "metadata": {},
   "outputs": [],
   "source": [
    "s"
   ]
  }
 ],
 "metadata": {
  "kernelspec": {
   "display_name": "da_case_studies-4lQ4EmNL",
   "language": "python",
   "name": "python3"
  },
  "language_info": {
   "codemirror_mode": {
    "name": "ipython",
    "version": 3
   },
   "file_extension": ".py",
   "mimetype": "text/x-python",
   "name": "python",
   "nbconvert_exporter": "python",
   "pygments_lexer": "ipython3",
   "version": "3.8.10"
  }
 },
 "nbformat": 4,
 "nbformat_minor": 4
}
