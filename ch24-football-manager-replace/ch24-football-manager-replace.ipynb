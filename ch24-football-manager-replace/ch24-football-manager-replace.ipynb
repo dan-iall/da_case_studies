{
 "cells": [
  {
   "cell_type": "markdown",
   "metadata": {},
   "source": [
    "#### Prepared for Gabor's Data Analysis\n",
    "\n",
    "### Data Analysis for Business, Economics, and Policy\n",
    "by Gabor Bekes and  Gabor Kezdi\n",
    " \n",
    "Cambridge University Press 2021\n",
    "\n",
    "**[gabors-data-analysis.com ](https://gabors-data-analysis.com/)**\n",
    "\n",
    " License: Free to share, modify and use for educational purposes. \n",
    " Not to be used for commercial purposes.\n",
    "\n",
    "\n",
    "### Chapter 24\n",
    "**CH24B Estimating the impact of replacing football team managers**\n",
    "\n",
    "using the football dataset\n",
    "\n",
    "version 1.0 2021-05-05"
   ]
  },
  {
   "cell_type": "code",
   "execution_count": 2,
   "metadata": {},
   "outputs": [],
   "source": [
    "import os\n",
    "import sys\n",
    "import warnings\n",
    "from datetime import datetime as dt\n",
    "\n",
    "import numpy as np\n",
    "import pandas as pd\n",
    "import statsmodels.formula.api as smf\n",
    "from IPython.core.display import HTML\n",
    "from plotnine import *\n",
    "from stargazer.stargazer import Stargazer\n",
    "\n",
    "warnings.filterwarnings(\"ignore\")\n"
   ]
  },
  {
   "cell_type": "code",
   "execution_count": 3,
   "metadata": {},
   "outputs": [],
   "source": [
    "# Current script folder\n",
    "current_path = os.getcwd()\n",
    "dirname = current_path.split(\"da_case_studies\")[0]\n",
    "\n",
    "# location folders\n",
    "data_in = dirname + \"da_data_repo/football/clean/\"\n",
    "data_out = dirname + \"da_case_studies/ch24-football-manager-replace/\"\n",
    "output = dirname + \"da_case_studies/ch24-football-manager-replace/output/\"\n",
    "\n",
    "func = dirname + \"da_case_studies/ch00-tech-prep/\"\n",
    "sys.path.append(func)\n"
   ]
  },
  {
   "cell_type": "code",
   "execution_count": 4,
   "metadata": {},
   "outputs": [],
   "source": [
    "# Import the prewritten helper functions\n",
    "from py_helper_functions import *\n"
   ]
  },
  {
   "cell_type": "markdown",
   "metadata": {},
   "source": [
    "## Loading and preparing data"
   ]
  },
  {
   "cell_type": "code",
   "execution_count": 6,
   "metadata": {},
   "outputs": [],
   "source": [
    "data = pd.read_csv(data_in + \"football_managers_workfile.csv\")\n",
    "# data = pd.read_csv(\"https://osf.io/t6dgh/download\")\n"
   ]
  },
  {
   "cell_type": "code",
   "execution_count": null,
   "metadata": {},
   "outputs": [],
   "source": [
    "data[\"date\"] = data[\"date\"].apply(lambda x: dt.strptime(x.strip()[0:10], \"%Y-%m-%d\"))\n"
   ]
  },
  {
   "cell_type": "code",
   "execution_count": 7,
   "metadata": {},
   "outputs": [
    {
     "data": {
      "text/html": [
       "<div>\n",
       "<style scoped>\n",
       "    .dataframe tbody tr th:only-of-type {\n",
       "        vertical-align: middle;\n",
       "    }\n",
       "\n",
       "    .dataframe tbody tr th {\n",
       "        vertical-align: top;\n",
       "    }\n",
       "\n",
       "    .dataframe thead th {\n",
       "        text-align: right;\n",
       "    }\n",
       "</style>\n",
       "<table border=\"1\" class=\"dataframe\">\n",
       "  <thead>\n",
       "    <tr style=\"text-align: right;\">\n",
       "      <th></th>\n",
       "      <th>season</th>\n",
       "      <th>gameno</th>\n",
       "      <th>points</th>\n",
       "    </tr>\n",
       "  </thead>\n",
       "  <tbody>\n",
       "    <tr>\n",
       "      <th>count</th>\n",
       "      <td>8360.000000</td>\n",
       "      <td>8360.000000</td>\n",
       "      <td>8360.000000</td>\n",
       "    </tr>\n",
       "    <tr>\n",
       "      <th>mean</th>\n",
       "      <td>2013.000000</td>\n",
       "      <td>19.500000</td>\n",
       "      <td>1.375957</td>\n",
       "    </tr>\n",
       "    <tr>\n",
       "      <th>std</th>\n",
       "      <td>3.162467</td>\n",
       "      <td>10.966512</td>\n",
       "      <td>1.318578</td>\n",
       "    </tr>\n",
       "    <tr>\n",
       "      <th>min</th>\n",
       "      <td>2008.000000</td>\n",
       "      <td>1.000000</td>\n",
       "      <td>0.000000</td>\n",
       "    </tr>\n",
       "    <tr>\n",
       "      <th>25%</th>\n",
       "      <td>2010.000000</td>\n",
       "      <td>10.000000</td>\n",
       "      <td>0.000000</td>\n",
       "    </tr>\n",
       "    <tr>\n",
       "      <th>50%</th>\n",
       "      <td>2013.000000</td>\n",
       "      <td>19.500000</td>\n",
       "      <td>1.000000</td>\n",
       "    </tr>\n",
       "    <tr>\n",
       "      <th>75%</th>\n",
       "      <td>2016.000000</td>\n",
       "      <td>29.000000</td>\n",
       "      <td>3.000000</td>\n",
       "    </tr>\n",
       "    <tr>\n",
       "      <th>max</th>\n",
       "      <td>2018.000000</td>\n",
       "      <td>38.000000</td>\n",
       "      <td>3.000000</td>\n",
       "    </tr>\n",
       "  </tbody>\n",
       "</table>\n",
       "</div>"
      ],
      "text/plain": [
       "            season       gameno       points\n",
       "count  8360.000000  8360.000000  8360.000000\n",
       "mean   2013.000000    19.500000     1.375957\n",
       "std       3.162467    10.966512     1.318578\n",
       "min    2008.000000     1.000000     0.000000\n",
       "25%    2010.000000    10.000000     0.000000\n",
       "50%    2013.000000    19.500000     1.000000\n",
       "75%    2016.000000    29.000000     3.000000\n",
       "max    2018.000000    38.000000     3.000000"
      ]
     },
     "execution_count": 7,
     "metadata": {},
     "output_type": "execute_result"
    }
   ],
   "source": [
    "# describe data\n",
    "data[[\"season\", \"team\", \"gameno\", \"points\"]].describe()\n"
   ]
  },
  {
   "cell_type": "markdown",
   "metadata": {},
   "source": [
    "### Jani megoldás commentelve"
   ]
  },
  {
   "cell_type": "code",
   "execution_count": 9,
   "metadata": {},
   "outputs": [],
   "source": [
    "data[\"shifted\"] = (\n",
    "    data.sort_values(by=[\"team\", \"season\", \"date\"])\n",
    "    .groupby([\"team\", \"season\"])[\"manager_id\"]\n",
    "    .shift()\n",
    ")  # helper column\n",
    "data = (\n",
    "    data.sort_values(by=[\"team\", \"season\", \"date\"])\n",
    "    .reset_index(drop=True)\n",
    "    .assign(\n",
    "        managchange=lambda x: np.where(  # create this variable based on ifelse with np.where\n",
    "            (x[\"manager_id\"] == x[\"shifted\"])\n",
    "            | (pd.isnull(x[\"shifted\"])),  # this is the first condition\n",
    "            np.where(\n",
    "                pd.isnull(x[\"shifted\"]), np.nan, 0\n",
    "            ),  # if first is true the true value is a second condition\n",
    "            1,  # if other conditions are false then this value will be assigned (first condition's false value)\n",
    "        )\n",
    "    )\n",
    "    .drop(\"shifted\", axis=1)  # dropping helper column\n",
    ")\n",
    "data[\"countmanagchange\"] = data.groupby([\"team\", \"season\"])[\"managchange\"].transform(\n",
    "    sum\n",
    ")  # counting changes with groupby\n"
   ]
  },
  {
   "cell_type": "code",
   "execution_count": 10,
   "metadata": {},
   "outputs": [
    {
     "data": {
      "text/plain": [
       "managchange\n",
       "0.0    8046\n",
       "NaN     220\n",
       "1.0      94\n",
       "Name: count, dtype: int64"
      ]
     },
     "execution_count": 10,
     "metadata": {},
     "output_type": "execute_result"
    }
   ],
   "source": [
    "data[\"managchange\"].value_counts(dropna=False)\n"
   ]
  },
  {
   "cell_type": "code",
   "execution_count": 11,
   "metadata": {},
   "outputs": [
    {
     "data": {
      "text/plain": [
       "countmanagchange\n",
       "0.0    151\n",
       "1.0     48\n",
       "2.0     17\n",
       "3.0      4\n",
       "dtype: int64"
      ]
     },
     "execution_count": 11,
     "metadata": {},
     "output_type": "execute_result"
    }
   ],
   "source": [
    "data[[\"countmanagchange\", \"team\", \"season\"]].groupby(\"countmanagchange\").apply(\n",
    "    lambda x: x.groupby([\"team\", \"season\"]).ngroups\n",
    ")\n"
   ]
  },
  {
   "cell_type": "markdown",
   "metadata": {},
   "source": [
    "##   BALANCED PANEL"
   ]
  },
  {
   "cell_type": "markdown",
   "metadata": {},
   "source": [
    "We define intervention as ***management change***:\n",
    " - at least 12 games before (since season started or previous management changed)\n",
    " - at least 12 games after (till season ends or next management change)"
   ]
  },
  {
   "cell_type": "code",
   "execution_count": 14,
   "metadata": {},
   "outputs": [],
   "source": [
    "data = data.merge(\n",
    "    data.sort_values(by=[\"team\", \"season\", \"date\"])\n",
    "    .groupby([\"team\", \"season\"])\n",
    "    .agg(max_gameno=(\"gameno\", max))\n",
    "    .reset_index(),\n",
    "    on=[\"team\", \"season\"],\n",
    ")\n"
   ]
  },
  {
   "cell_type": "code",
   "execution_count": 15,
   "metadata": {},
   "outputs": [],
   "source": [
    "data_aux = data.loc[lambda x: x[\"managchange\"] == 1].reset_index(drop=True)\n"
   ]
  },
  {
   "cell_type": "code",
   "execution_count": 16,
   "metadata": {},
   "outputs": [],
   "source": [
    "data_aux[\"gamesbefore\"] = None\n",
    "data_aux.loc[0, \"gamesbefore\"] = data_aux.loc[0, \"gameno\"] - 1\n",
    "for i in range(1, data_aux.shape[0]):\n",
    "    if (data_aux.loc[i, \"season\"] == data_aux.loc[i - 1, \"season\"]) & (\n",
    "        data_aux.loc[i, \"team\"] == data_aux.loc[i - 1, \"team\"]\n",
    "    ):\n",
    "        data_aux.loc[i, \"gamesbefore\"] = (\n",
    "            data_aux.loc[i, \"gameno\"] - data_aux.loc[i - 1, \"gameno\"]\n",
    "        )\n",
    "    else:\n",
    "        data_aux.loc[i, \"gamesbefore\"] = data_aux.loc[i, \"gameno\"] - 1\n"
   ]
  },
  {
   "cell_type": "code",
   "execution_count": 17,
   "metadata": {},
   "outputs": [],
   "source": [
    "data_aux[\"gamesafter\"] = None\n",
    "for i in range(0, data_aux.shape[0] - 1):\n",
    "    if (data_aux.loc[i, \"season\"] == data_aux.loc[i + 1, \"season\"]) & (\n",
    "        data_aux.loc[i, \"team\"] == data_aux.loc[i + 1, \"team\"]\n",
    "    ):\n",
    "        data_aux.loc[i, \"gamesafter\"] = (\n",
    "            data_aux.loc[i + 1, \"gameno\"] - data_aux.loc[i, \"gameno\"]\n",
    "        )\n",
    "    else:\n",
    "        data_aux.loc[i, \"gamesafter\"] = (\n",
    "            data_aux.loc[i, \"max_gameno\"] - data_aux.loc[i, \"gameno\"]\n",
    "        )\n"
   ]
  },
  {
   "cell_type": "code",
   "execution_count": 18,
   "metadata": {},
   "outputs": [],
   "source": [
    "data_aux[\"intervention\"] = np.where(\n",
    "    (data_aux[\"gamesbefore\"] < 12) | (data_aux[\"gamesafter\"] < 12),\n",
    "    0,\n",
    "    data_aux[\"managchange\"],\n",
    ")\n"
   ]
  },
  {
   "cell_type": "code",
   "execution_count": 19,
   "metadata": {},
   "outputs": [],
   "source": [
    "data_aux = data_aux[[\"team\", \"season\", \"date\", \"intervention\"]]\n"
   ]
  },
  {
   "cell_type": "code",
   "execution_count": 20,
   "metadata": {},
   "outputs": [
    {
     "data": {
      "text/plain": [
       "count    94.000000\n",
       "mean      0.351064\n",
       "std       0.479862\n",
       "min       0.000000\n",
       "25%       0.000000\n",
       "50%       0.000000\n",
       "75%       1.000000\n",
       "max       1.000000\n",
       "Name: intervention, dtype: float64"
      ]
     },
     "execution_count": 20,
     "metadata": {},
     "output_type": "execute_result"
    }
   ],
   "source": [
    "data_aux[\"intervention\"].describe()\n"
   ]
  },
  {
   "cell_type": "code",
   "execution_count": 21,
   "metadata": {},
   "outputs": [],
   "source": [
    "data_balanced = data.merge(data_aux, on=[\"team\", \"season\", \"date\"], how=\"left\")\n",
    "data_balanced[\"intervention\"] = data_balanced[\"intervention\"].fillna(0)\n"
   ]
  },
  {
   "cell_type": "code",
   "execution_count": 22,
   "metadata": {},
   "outputs": [],
   "source": [
    "data_balanced = data_balanced.merge(\n",
    "    data_balanced.groupby([\"team\", \"season\"])\n",
    "    .agg(countinterv=(\"intervention\", \"sum\"))\n",
    "    .reset_index(),\n",
    "    on=[\"team\", \"season\"],\n",
    "    how=\"left\",\n",
    ")\n"
   ]
  },
  {
   "cell_type": "code",
   "execution_count": 23,
   "metadata": {},
   "outputs": [
    {
     "data": {
      "text/plain": [
       "count    8360.000000\n",
       "mean        0.003947\n",
       "std         0.062708\n",
       "min         0.000000\n",
       "25%         0.000000\n",
       "50%         0.000000\n",
       "75%         0.000000\n",
       "max         1.000000\n",
       "Name: intervention, dtype: float64"
      ]
     },
     "execution_count": 23,
     "metadata": {},
     "output_type": "execute_result"
    }
   ],
   "source": [
    "data_balanced.intervention.describe()\n"
   ]
  },
  {
   "cell_type": "code",
   "execution_count": 24,
   "metadata": {},
   "outputs": [
    {
     "data": {
      "text/plain": [
       "count    8360.000000\n",
       "mean        0.150000\n",
       "std         0.357093\n",
       "min         0.000000\n",
       "25%         0.000000\n",
       "50%         0.000000\n",
       "75%         0.000000\n",
       "max         1.000000\n",
       "Name: countinterv, dtype: float64"
      ]
     },
     "execution_count": 24,
     "metadata": {},
     "output_type": "execute_result"
    }
   ],
   "source": [
    "data_balanced.countinterv.describe()\n"
   ]
  },
  {
   "cell_type": "code",
   "execution_count": 25,
   "metadata": {},
   "outputs": [],
   "source": [
    "data_balanced = data_balanced.merge(\n",
    "    data_balanced.groupby([\"team\", \"season\"])\n",
    "    .apply(lambda x: np.nanmin(np.where(x[\"intervention\"] == 1, x[\"gameno\"], np.nan)))\n",
    "    .reset_index()\n",
    "    .rename(columns={0: \"intervention_time\"}),\n",
    "    on=[\"team\", \"season\"],\n",
    "    how=\"left\",\n",
    ")\n"
   ]
  },
  {
   "cell_type": "code",
   "execution_count": 26,
   "metadata": {},
   "outputs": [],
   "source": [
    "data_balanced = data_balanced.merge(\n",
    "    data_balanced.groupby([\"team\", \"season\", \"date\"])\n",
    "    .apply(\n",
    "        lambda x: np.where(\n",
    "            np.isfinite(x[\"intervention_time\"]),\n",
    "            x[\"gameno\"] - x[\"intervention_time\"],\n",
    "            np.nan,\n",
    "        )[0]\n",
    "    )\n",
    "    .reset_index()\n",
    "    .rename(columns={0: \"t_event\"}),\n",
    "    on=[\"team\", \"season\", \"date\"],\n",
    "    how=\"left\",\n",
    ")\n"
   ]
  },
  {
   "cell_type": "code",
   "execution_count": 27,
   "metadata": {},
   "outputs": [],
   "source": [
    "data_balanced[\"t_event\"] = data_balanced.groupby([\"team\", \"season\", \"date\"])[\n",
    "    \"t_event\"\n",
    "].transform(lambda x: np.where((x >= 0) & (x <= 38), x + 1, x))\n"
   ]
  },
  {
   "cell_type": "code",
   "execution_count": 28,
   "metadata": {},
   "outputs": [],
   "source": [
    "data_balanced = data_balanced.loc[\n",
    "    lambda x: ((x[\"countinterv\"] == 1) & (x[\"t_event\"] >= -12) & (x[\"t_event\"] <= 12))\n",
    "    | (x[\"countmanagchange\"] == 0)\n",
    "]"
   ]
  },
  {
   "cell_type": "code",
   "execution_count": 29,
   "metadata": {},
   "outputs": [
    {
     "data": {
      "text/plain": [
       "countinterv\n",
       "0.0    151\n",
       "1.0     33\n",
       "dtype: int64"
      ]
     },
     "execution_count": 29,
     "metadata": {},
     "output_type": "execute_result"
    }
   ],
   "source": [
    "data_balanced.groupby(\"countinterv\").apply(\n",
    "    lambda x: x.groupby([\"team\", \"season\"]).ngroups\n",
    ")\n"
   ]
  },
  {
   "cell_type": "code",
   "execution_count": 30,
   "metadata": {},
   "outputs": [
    {
     "data": {
<<<<<<< HEAD
      "image/png": "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",
=======
      "image/png": "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",
>>>>>>> master
      "text/plain": [
       "<Figure size 640x480 with 1 Axes>"
      ]
     },
     "metadata": {
      "image/png": {
       "height": 480,
       "width": 640
      }
     },
     "output_type": "display_data"
    },
    {
     "data": {
      "text/plain": [
       "<Figure Size: (640 x 480)>"
      ]
     },
     "execution_count": 30,
     "metadata": {},
     "output_type": "execute_result"
    }
   ],
   "source": [
    "# figure: average number interventions by game number\n",
    "(\n",
    "    ggplot(data_balanced, aes(x=\"gameno\", y=\"intervention\"))\n",
    "    + geom_col(fill=color[0], size=0.25, alpha=0.8, show_legend=False)\n",
    "    + labs(y=\"Number of manager changes\", x=\"Game number\")\n",
    "    + scale_y_continuous(expand=(0.0, 0.0), breaks=seq(1, 6, 1), limits=(0, 6))\n",
    "    + scale_x_continuous(\n",
    "        expand=(0.01, 0.01), breaks=np.arange(0, 38, 4), limits=(0, 38)\n",
    "    )\n",
    "    + theme_bw()\n",
    ")\n"
   ]
  },
  {
   "cell_type": "code",
   "execution_count": 31,
   "metadata": {},
   "outputs": [
    {
     "data": {
<<<<<<< HEAD
      "image/png": "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",
=======
      "image/png": "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",
>>>>>>> master
      "text/plain": [
       "<Figure size 640x480 with 1 Axes>"
      ]
     },
     "metadata": {
      "image/png": {
       "height": 480,
       "width": 640
      }
     },
     "output_type": "display_data"
    },
    {
     "data": {
      "text/plain": [
       "<Figure Size: (640 x 480)>"
      ]
     },
     "execution_count": 31,
     "metadata": {},
     "output_type": "execute_result"
    }
   ],
   "source": [
    "data_plot = (\n",
    "    data_balanced.groupby(\"t_event\")\n",
    "    .agg(mean=(\"points\", \"mean\"))\n",
    "    .reset_index()\n",
    "    .assign(\n",
    "        t_event_6=lambda df: pd.cut(\n",
    "            df[\"t_event\"], bins=[-13, -6, 0, 1, 7, 13], right=False\n",
    "        )\n",
    "    )\n",
    ")\n",
    "data_plot = data_plot.merge(\n",
    "    data_plot.groupby(\"t_event_6\").agg(group_mean=(\"mean\", \"mean\")),\n",
    "    on=\"t_event_6\",\n",
    "    how=\"left\",\n",
    ")\n",
    "\n",
    "(\n",
    "    ggplot(data_plot, aes(x=\"t_event\", y=\"mean\"))\n",
    "    + geom_point(color=color[0])\n",
    "    + geom_line(\n",
    "        aes(x=\"t_event\", y=\"group_mean\", group=\"t_event_6\"),\n",
    "        size=1,\n",
    "        color=color[0],\n",
    "    )\n",
    "    + geom_vline(xintercept=0, color=color[2], size=1.5, linetype=\"dashed\")\n",
    "    + labs(y=\"Average points\", x=\"Event time: games before/after manager change\")\n",
    "    + scale_x_continuous(breaks=(-12, -6, -1, 1, 6, 12), limits=(-12, 12))\n",
    "    + scale_y_continuous(expand=(0.01, 0.01), breaks=seq(0, 1.6, 0.2), limits=(0, 1.7))\n",
    "    + annotate(\"text\", x=4, y=0.1, label=\"after\", size=10)\n",
    "    + annotate(\"text\", x=-6, y=0.1, label=\"before\", size=10)\n",
    "    + theme_bw()\n",
    ")"
   ]
  },
  {
   "cell_type": "markdown",
   "metadata": {},
   "source": [
    "## CREATE CONTORL GROUP WITH PSEUDO-INTERVENTIONS"
   ]
  },
  {
   "cell_type": "code",
   "execution_count": 33,
   "metadata": {},
   "outputs": [],
   "source": [
    "# for each game, define avg diff of points 12-7 before\n",
    "# dip: avg diff of points 6-1 before minus 12-7 before\n",
    "\n",
    "\n",
    "data_balanced[\"points_b_7_12\"] = (\n",
    "    data_balanced.sort_values(by=[\"team\", \"season\", \"date\"])\n",
    "    .groupby([\"team\", \"season\"])[\"points\"]\n",
    "    .transform(\n",
    "        lambda x: x.shift(12)\n",
    "        + x.shift(11)\n",
    "        + x.shift(10)\n",
    "        + x.shift(9)\n",
    "        + x.shift(8)\n",
    "        + x.shift(7),\n",
    "    )\n",
    ")\n",
    "\n",
    "data_balanced[\"points_b_1_6\"] = (\n",
    "    data_balanced.sort_values(by=[\"team\", \"season\", \"date\"])\n",
    "    .groupby([\"team\", \"season\"])[\"points\"]\n",
    "    .transform(\n",
    "        lambda x: x.shift(6)\n",
    "        + x.shift(5)\n",
    "        + x.shift(4)\n",
    "        + x.shift(3)\n",
    "        + x.shift(2)\n",
    "        + x.shift(1),\n",
    "    )\n",
    ")\n",
    "\n",
    "data_balanced = data_balanced.assign(\n",
    "    dip=lambda df: df[\"points_b_1_6\"] / 6 - df[\"points_b_7_12\"] / 6\n",
    ").assign(points_b_1=lambda df: df[\"points\"].shift(1))\n"
   ]
  },
  {
   "cell_type": "code",
   "execution_count": 34,
   "metadata": {},
   "outputs": [
    {
     "data": {
      "text/html": [
       "<div>\n",
       "<style scoped>\n",
       "    .dataframe tbody tr th:only-of-type {\n",
       "        vertical-align: middle;\n",
       "    }\n",
       "\n",
       "    .dataframe tbody tr th {\n",
       "        vertical-align: top;\n",
       "    }\n",
       "\n",
       "    .dataframe thead th {\n",
       "        text-align: right;\n",
       "    }\n",
       "</style>\n",
       "<table border=\"1\" class=\"dataframe\">\n",
       "  <thead>\n",
       "    <tr style=\"text-align: right;\">\n",
       "      <th></th>\n",
       "      <th>points_b_1_6</th>\n",
       "      <th>points_b_7_12</th>\n",
       "      <th>dip</th>\n",
       "      <th>points_b_1</th>\n",
       "    </tr>\n",
       "  </thead>\n",
       "  <tbody>\n",
       "    <tr>\n",
       "      <th>count</th>\n",
       "      <td>33.000000</td>\n",
       "      <td>33.000000</td>\n",
       "      <td>33.000000</td>\n",
       "      <td>33.000000</td>\n",
       "    </tr>\n",
       "    <tr>\n",
       "      <th>mean</th>\n",
       "      <td>4.242424</td>\n",
       "      <td>6.939394</td>\n",
       "      <td>-0.449495</td>\n",
       "      <td>0.151515</td>\n",
       "    </tr>\n",
       "    <tr>\n",
       "      <th>std</th>\n",
       "      <td>2.512846</td>\n",
       "      <td>3.436381</td>\n",
       "      <td>0.567470</td>\n",
       "      <td>0.364110</td>\n",
       "    </tr>\n",
       "    <tr>\n",
       "      <th>min</th>\n",
       "      <td>0.000000</td>\n",
       "      <td>0.000000</td>\n",
       "      <td>-1.333333</td>\n",
       "      <td>0.000000</td>\n",
       "    </tr>\n",
       "    <tr>\n",
       "      <th>25%</th>\n",
       "      <td>2.000000</td>\n",
       "      <td>5.000000</td>\n",
       "      <td>-1.000000</td>\n",
       "      <td>0.000000</td>\n",
       "    </tr>\n",
       "    <tr>\n",
       "      <th>50%</th>\n",
       "      <td>4.000000</td>\n",
       "      <td>6.000000</td>\n",
       "      <td>-0.333333</td>\n",
       "      <td>0.000000</td>\n",
       "    </tr>\n",
       "    <tr>\n",
       "      <th>75%</th>\n",
       "      <td>7.000000</td>\n",
       "      <td>9.000000</td>\n",
       "      <td>0.000000</td>\n",
       "      <td>0.000000</td>\n",
       "    </tr>\n",
       "    <tr>\n",
       "      <th>max</th>\n",
       "      <td>9.000000</td>\n",
       "      <td>16.000000</td>\n",
       "      <td>1.166667</td>\n",
       "      <td>1.000000</td>\n",
       "    </tr>\n",
       "  </tbody>\n",
       "</table>\n",
       "</div>"
      ],
      "text/plain": [
       "       points_b_1_6  points_b_7_12        dip  points_b_1\n",
       "count     33.000000      33.000000  33.000000   33.000000\n",
       "mean       4.242424       6.939394  -0.449495    0.151515\n",
       "std        2.512846       3.436381   0.567470    0.364110\n",
       "min        0.000000       0.000000  -1.333333    0.000000\n",
       "25%        2.000000       5.000000  -1.000000    0.000000\n",
       "50%        4.000000       6.000000  -0.333333    0.000000\n",
       "75%        7.000000       9.000000   0.000000    0.000000\n",
       "max        9.000000      16.000000   1.166667    1.000000"
      ]
     },
     "execution_count": 34,
     "metadata": {},
     "output_type": "execute_result"
    }
   ],
   "source": [
    "# summary stats of dip when intervention\n",
    "data_balanced.loc[lambda x: x[\"intervention\"] == 1][\n",
    "    [\"points_b_1_6\", \"points_b_7_12\", \"dip\", \"points_b_1\"]\n",
    "].describe()\n"
   ]
  },
  {
   "cell_type": "code",
   "execution_count": 35,
   "metadata": {},
   "outputs": [],
   "source": [
    "# set ranges to define control group\n",
    "points_b_7_12min = 5\n",
    "points_b_7_12max = 8\n",
    "dipmin = -1.33\n",
    "dipmax = -0.166\n",
    "points_b_1min = 0\n",
    "points_b_1max = 0\n"
   ]
  },
  {
   "cell_type": "code",
   "execution_count": 36,
   "metadata": {},
   "outputs": [],
   "source": [
    "data_balanced[\"pseudo\"] = np.where(\n",
    "    (data_balanced[\"countmanagchange\"] == 0)\n",
    "    & (data_balanced[\"dip\"] >= dipmin)\n",
    "    & (data_balanced[\"dip\"] <= dipmax)\n",
    "    & (data_balanced[\"points_b_7_12\"] >= points_b_7_12min)\n",
    "    & (data_balanced[\"points_b_7_12\"] <= points_b_7_12max)\n",
    "    & (data_balanced[\"points_b_1\"] >= points_b_1min)\n",
    "    & (data_balanced[\"points_b_1\"] <= points_b_1max)\n",
    "    & (data_balanced[\"gameno\"] < (38 - 12)),\n",
    "    1,\n",
    "    0,\n",
    ")\n"
   ]
  },
  {
   "cell_type": "code",
   "execution_count": 37,
   "metadata": {},
   "outputs": [
    {
     "data": {
      "text/plain": [
       "pseudo\n",
       "0    6398\n",
       "1     132\n",
       "Name: count, dtype: int64"
      ]
     },
     "execution_count": 37,
     "metadata": {},
     "output_type": "execute_result"
    }
   ],
   "source": [
    "data_balanced[\"pseudo\"].value_counts(dropna=False)\n"
   ]
  },
  {
   "cell_type": "code",
   "execution_count": 38,
   "metadata": {},
   "outputs": [
    {
     "data": {
      "text/html": [
       "<div>\n",
       "<style scoped>\n",
       "    .dataframe tbody tr th:only-of-type {\n",
       "        vertical-align: middle;\n",
       "    }\n",
       "\n",
       "    .dataframe tbody tr th {\n",
       "        vertical-align: top;\n",
       "    }\n",
       "\n",
       "    .dataframe thead th {\n",
       "        text-align: right;\n",
       "    }\n",
       "</style>\n",
       "<table border=\"1\" class=\"dataframe\">\n",
       "  <thead>\n",
       "    <tr style=\"text-align: right;\">\n",
       "      <th></th>\n",
       "      <th>points_b_7_12</th>\n",
       "      <th>dip</th>\n",
       "      <th>points_b_1</th>\n",
       "    </tr>\n",
       "  </thead>\n",
       "  <tbody>\n",
       "    <tr>\n",
       "      <th>count</th>\n",
       "      <td>132.000000</td>\n",
       "      <td>132.000000</td>\n",
       "      <td>132.0</td>\n",
       "    </tr>\n",
       "    <tr>\n",
       "      <th>mean</th>\n",
       "      <td>6.856061</td>\n",
       "      <td>-0.452020</td>\n",
       "      <td>0.0</td>\n",
       "    </tr>\n",
       "    <tr>\n",
       "      <th>std</th>\n",
       "      <td>1.027355</td>\n",
       "      <td>0.270496</td>\n",
       "      <td>0.0</td>\n",
       "    </tr>\n",
       "    <tr>\n",
       "      <th>min</th>\n",
       "      <td>5.000000</td>\n",
       "      <td>-1.166667</td>\n",
       "      <td>0.0</td>\n",
       "    </tr>\n",
       "    <tr>\n",
       "      <th>25%</th>\n",
       "      <td>6.000000</td>\n",
       "      <td>-0.666667</td>\n",
       "      <td>0.0</td>\n",
       "    </tr>\n",
       "    <tr>\n",
       "      <th>50%</th>\n",
       "      <td>7.000000</td>\n",
       "      <td>-0.500000</td>\n",
       "      <td>0.0</td>\n",
       "    </tr>\n",
       "    <tr>\n",
       "      <th>75%</th>\n",
       "      <td>8.000000</td>\n",
       "      <td>-0.166667</td>\n",
       "      <td>0.0</td>\n",
       "    </tr>\n",
       "    <tr>\n",
       "      <th>max</th>\n",
       "      <td>8.000000</td>\n",
       "      <td>-0.166667</td>\n",
       "      <td>0.0</td>\n",
       "    </tr>\n",
       "  </tbody>\n",
       "</table>\n",
       "</div>"
      ],
      "text/plain": [
       "       points_b_7_12         dip  points_b_1\n",
       "count     132.000000  132.000000       132.0\n",
       "mean        6.856061   -0.452020         0.0\n",
       "std         1.027355    0.270496         0.0\n",
       "min         5.000000   -1.166667         0.0\n",
       "25%         6.000000   -0.666667         0.0\n",
       "50%         7.000000   -0.500000         0.0\n",
       "75%         8.000000   -0.166667         0.0\n",
       "max         8.000000   -0.166667         0.0"
      ]
     },
     "execution_count": 38,
     "metadata": {},
     "output_type": "execute_result"
    }
   ],
   "source": [
    "data_balanced.loc[lambda x: x[\"pseudo\"] == 1].filter(\n",
    "    [\"points_b_7_12\", \"dip\", \"points_b_1\"]\n",
    ").describe()"
   ]
  },
  {
   "cell_type": "markdown",
   "metadata": {},
   "source": [
    " if more such games in a teamXseason, choose one randomly"
   ]
  },
  {
   "cell_type": "code",
   "execution_count": 40,
   "metadata": {},
   "outputs": [],
   "source": [
    "rng = np.random.default_rng(27845)\n",
    "data_balanced = pd.concat(\n",
    "    [\n",
    "        data_balanced.loc[~(data_balanced[\"pseudo\"] == 1)],\n",
    "        data_balanced.sort_values(by=[\"team\", \"season\"])\n",
    "        .loc[lambda x: x[\"pseudo\"] == 1]\n",
    "        .groupby([\"team\", \"season\"])\n",
    "        .agg(rng.choice)\n",
    "        .reset_index(),\n",
    "    ]\n",
    ").reset_index(drop=True)"
   ]
  },
  {
   "cell_type": "markdown",
   "metadata": {},
   "source": [
    "**Note**: In the textbook (2021 edition) we say  \"When there was more than one candidate game \n",
    "within the same season for the same team, we selected the first one in the season.\"\n",
    "\n",
    "\n",
    "In fact we mean \"..., we selected **one in the season randomly**.\""
   ]
  },
  {
   "cell_type": "code",
   "execution_count": 42,
   "metadata": {},
   "outputs": [
    {
     "data": {
      "text/plain": [
       "pseudo\n",
       "0    6398\n",
       "1      67\n",
       "Name: count, dtype: int64"
      ]
     },
     "execution_count": 42,
     "metadata": {},
     "output_type": "execute_result"
    }
   ],
   "source": [
    "data_balanced[\"pseudo\"].value_counts(dropna=False)\n"
   ]
  },
  {
   "cell_type": "code",
   "execution_count": 43,
   "metadata": {},
   "outputs": [
    {
     "data": {
      "text/html": [
       "<div>\n",
       "<style scoped>\n",
       "    .dataframe tbody tr th:only-of-type {\n",
       "        vertical-align: middle;\n",
       "    }\n",
       "\n",
       "    .dataframe tbody tr th {\n",
       "        vertical-align: top;\n",
       "    }\n",
       "\n",
       "    .dataframe thead th {\n",
       "        text-align: right;\n",
       "    }\n",
       "</style>\n",
       "<table border=\"1\" class=\"dataframe\">\n",
       "  <thead>\n",
       "    <tr style=\"text-align: right;\">\n",
       "      <th></th>\n",
       "      <th>points_b_7_12</th>\n",
       "      <th>dip</th>\n",
       "      <th>points_b_1</th>\n",
       "    </tr>\n",
       "  </thead>\n",
       "  <tbody>\n",
       "    <tr>\n",
       "      <th>count</th>\n",
       "      <td>67.000000</td>\n",
       "      <td>67.000000</td>\n",
       "      <td>67.0</td>\n",
       "    </tr>\n",
       "    <tr>\n",
       "      <th>mean</th>\n",
       "      <td>7.014925</td>\n",
       "      <td>-0.450249</td>\n",
       "      <td>0.0</td>\n",
       "    </tr>\n",
       "    <tr>\n",
       "      <th>std</th>\n",
       "      <td>0.895993</td>\n",
       "      <td>0.275264</td>\n",
       "      <td>0.0</td>\n",
       "    </tr>\n",
       "    <tr>\n",
       "      <th>min</th>\n",
       "      <td>5.000000</td>\n",
       "      <td>-1.166667</td>\n",
       "      <td>0.0</td>\n",
       "    </tr>\n",
       "    <tr>\n",
       "      <th>25%</th>\n",
       "      <td>7.000000</td>\n",
       "      <td>-0.583333</td>\n",
       "      <td>0.0</td>\n",
       "    </tr>\n",
       "    <tr>\n",
       "      <th>50%</th>\n",
       "      <td>7.000000</td>\n",
       "      <td>-0.500000</td>\n",
       "      <td>0.0</td>\n",
       "    </tr>\n",
       "    <tr>\n",
       "      <th>75%</th>\n",
       "      <td>8.000000</td>\n",
       "      <td>-0.166667</td>\n",
       "      <td>0.0</td>\n",
       "    </tr>\n",
       "    <tr>\n",
       "      <th>max</th>\n",
       "      <td>8.000000</td>\n",
       "      <td>-0.166667</td>\n",
       "      <td>0.0</td>\n",
       "    </tr>\n",
       "  </tbody>\n",
       "</table>\n",
       "</div>"
      ],
      "text/plain": [
       "       points_b_7_12        dip  points_b_1\n",
       "count      67.000000  67.000000        67.0\n",
       "mean        7.014925  -0.450249         0.0\n",
       "std         0.895993   0.275264         0.0\n",
       "min         5.000000  -1.166667         0.0\n",
       "25%         7.000000  -0.583333         0.0\n",
       "50%         7.000000  -0.500000         0.0\n",
       "75%         8.000000  -0.166667         0.0\n",
       "max         8.000000  -0.166667         0.0"
      ]
     },
     "execution_count": 43,
     "metadata": {},
     "output_type": "execute_result"
    }
   ],
   "source": [
    "data_balanced.loc[lambda x: x[\"pseudo\"] == 1][[\"points_b_7_12\", \"dip\", \"points_b_1\"]].describe()\n"
   ]
  },
  {
   "cell_type": "code",
   "execution_count": 44,
   "metadata": {},
   "outputs": [],
   "source": [
    "data_balanced = data_balanced.merge(\n",
    "    data_balanced.groupby([\"team\", \"season\"])\n",
    "    .agg(countpseudo=(\"pseudo\", sum))\n",
    "    .reset_index(),\n",
    "    on=[\"team\", \"season\"],\n",
    "    how=\"left\",\n",
    ")\n"
   ]
  },
  {
   "cell_type": "code",
   "execution_count": 45,
   "metadata": {},
   "outputs": [],
   "source": [
    "data_balanced = data_balanced.merge(\n",
    "    data_balanced.groupby([\"team\", \"season\"])\n",
    "    .apply(lambda x: np.nanmin(np.where(x[\"pseudo\"] == 1, x[\"gameno\"], np.nan)))\n",
    "    .reset_index()\n",
    "    .rename(columns={0: \"pseudo_time\"}),\n",
    "    on=[\"team\", \"season\"],\n",
    "    how=\"left\",\n",
    ")\n"
   ]
  },
  {
   "cell_type": "code",
   "execution_count": 46,
   "metadata": {},
   "outputs": [],
   "source": [
    "data_balanced = data_balanced.merge(\n",
    "    data_balanced.groupby([\"team\", \"season\", \"date\"])\n",
    "    .apply(\n",
    "        lambda x: np.where(\n",
    "            np.isfinite(x[\"pseudo_time\"]),\n",
    "            x[\"gameno\"] - x[\"pseudo_time\"],\n",
    "            np.nan,\n",
    "        )[0]\n",
    "    )\n",
    "    .reset_index()\n",
    "    .rename(columns={0: \"t_pseudo\"}),\n",
    "    on=[\"team\", \"season\", \"date\"],\n",
    "    how=\"left\",\n",
    ")\n"
   ]
  },
  {
   "cell_type": "code",
   "execution_count": 47,
   "metadata": {},
   "outputs": [],
   "source": [
    "data_balanced[\"t_pseudo\"] = data_balanced.groupby([\"team\", \"season\", \"date\"])[\n",
    "    \"t_pseudo\"\n",
    "].transform(lambda x: np.where((x >= 0) & (x <= 38), x + 1, x))\n"
   ]
  },
  {
   "cell_type": "code",
   "execution_count": 48,
   "metadata": {},
   "outputs": [],
   "source": [
    "data_balanced = (\n",
    "    data_balanced.merge(\n",
    "        data_balanced.groupby([\"team\", \"season\", \"date\"])\n",
    "        .apply(\n",
    "            lambda x: np.where(\n",
    "                np.isnan(x[\"t_event\"]),\n",
    "                x[\"t_pseudo\"],\n",
    "                x[\"t_event\"],\n",
    "            )[0]\n",
    "        )\n",
    "        .reset_index()\n",
    "        .rename(columns={0: \"t_event\"}),\n",
    "        on=[\"team\", \"season\", \"date\"],\n",
    "        how=\"left\",\n",
    "    )\n",
    "    .drop(columns=[\"t_event_x\"])\n",
    "    .rename(columns={\"t_event_y\": \"t_event\"})\n",
    ")\n"
   ]
  },
  {
   "cell_type": "code",
   "execution_count": 49,
   "metadata": {},
   "outputs": [],
   "source": [
    "data_balanced = data_balanced.loc[\n",
    "    lambda x: (x[\"t_event\"] >= -12) & (x[\"t_event\"] <= 12)\n",
    "]"
   ]
  },
  {
   "cell_type": "code",
   "execution_count": 50,
   "metadata": {},
   "outputs": [
    {
     "data": {
      "text/plain": [
       "countinterv  countpseudo\n",
       "0.0          1              67\n",
       "1.0          0              33\n",
       "dtype: int64"
      ]
     },
     "execution_count": 50,
     "metadata": {},
     "output_type": "execute_result"
    }
   ],
   "source": [
    "data_balanced.groupby([\"countinterv\", \"countpseudo\"]).apply(\n",
    "    lambda x: x.groupby([\"team\", \"season\"]).ngroups\n",
    ")\n"
   ]
  },
  {
   "cell_type": "markdown",
   "metadata": {},
   "source": [
    "## FIGURE with intervention and pseudo-intervention averages"
   ]
  },
  {
   "cell_type": "code",
   "execution_count": 52,
   "metadata": {},
   "outputs": [
    {
     "data": {
<<<<<<< HEAD
      "image/png": "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",
=======
      "image/png": "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",
>>>>>>> master
      "text/plain": [
       "<Figure size 640x480 with 1 Axes>"
      ]
     },
     "metadata": {
      "image/png": {
       "height": 480,
       "width": 640
      }
     },
     "output_type": "display_data"
    },
    {
     "data": {
      "text/plain": [
       "<Figure Size: (640 x 480)>"
      ]
     },
     "execution_count": 52,
     "metadata": {},
     "output_type": "execute_result"
    }
   ],
   "source": [
    "data_plot = (\n",
    "    data_balanced.groupby([\"t_event\", \"countinterv\", \"countpseudo\"])\n",
    "    .agg(mean=(\"points\", \"mean\"))\n",
    "    .reset_index()\n",
    "    .assign(\n",
    "        t_event_6=lambda df: pd.cut(\n",
    "            df[\"t_event\"], bins=[-13, -6, 0, 1, 7, 13], right=False\n",
    "        )\n",
    "    )\n",
    ")\n",
    "data_plot = data_plot.merge(\n",
    "    data_plot.groupby([\"t_event_6\", \"countpseudo\"]).agg(group_mean=(\"mean\", \"mean\")),\n",
    "    on=[\"t_event_6\", \"countpseudo\"],\n",
    "    how=\"left\",\n",
    ")\n",
    "data_plot[\"countpseudo\"] = data_plot[\"countpseudo\"].astype(\"category\")\n",
    "\n",
    "(\n",
    "    ggplot(data_plot, aes(x=\"t_event\", y=\"mean\", color=\"countpseudo\"))\n",
    "    + geom_point()\n",
    "    + geom_line(\n",
    "        data_plot.loc[lambda x: x[\"countpseudo\"] == 0],\n",
    "        aes(x=\"t_event\", y=\"group_mean\", group=\"t_event_6\"),\n",
    "        size=1,\n",
    "    )\n",
    "    + geom_line(\n",
    "        data_plot.loc[lambda x: x[\"countpseudo\"] == 1],\n",
    "        aes(x=\"t_event\", y=\"group_mean\", group=\"t_event_6\"),\n",
    "        size=1,\n",
    "    )\n",
    "    + scale_color_manual(\n",
    "        values=color[0:2], labels=(\"intervention\", \"pseudo intervention\")\n",
    "    )\n",
    "    + geom_vline(xintercept=0, color=color[2], size=1.5, linetype=\"dashed\")\n",
    "    + labs(y=\"Average points\", x=\"Event time: games before/after manager change\")\n",
    "    + scale_x_continuous(breaks=(-12, -6, -1, 1, 6, 12), limits=(-12, 12))\n",
    "    + scale_y_continuous(\n",
    "        expand=(0.01, 0.01), breaks=seq(0, 1.6, 0.2), limits=(0, 1.7)\n",
    "    )\n",
    "    + annotate(\"text\", x=4, y=0.1, label=\"after\", size=9)\n",
    "    + annotate(\"text\", x=-6, y=0.1, label=\"before\", size=9)\n",
    "    + theme_bw()\n",
    "    + theme(\n",
    "        legend_position=(0.77, 0.25),\n",
    "        legend_direction=\"vertical\",\n",
    "        legend_title=element_blank(),\n",
    "        legend_background=element_blank(),\n",
    "        legend_box_background=element_rect(color=\"white\"),\n",
    "    )\n",
    ")"
   ]
  },
  {
   "cell_type": "markdown",
   "metadata": {},
   "source": [
    "## REGRESSION with 6-game averages"
   ]
  },
  {
   "cell_type": "code",
   "execution_count": 54,
   "metadata": {},
   "outputs": [],
   "source": [
    "data_balanced_agg = (\n",
    "    data_balanced.assign(\n",
    "        teamseason=lambda df: df[\"team\"] + \"_\" + df[\"season\"].astype(str)\n",
    "    )\n",
    "    .assign(\n",
    "        t6_event=lambda df: pd.cut(\n",
    "            df[\"t_event\"], bins=[-13, -6, 0, 1, 7, 13], right=False\n",
    "        )\n",
    "    )\n",
    "    .groupby([\"teamseason\", \"t6_event\"])\n",
    "    .agg(treated=(\"countinterv\", \"mean\"), points6avg=(\"points\", \"mean\"))\n",
    "    .reset_index()\n",
    "    .dropna()\n",
    "    .assign(Dp6avg=lambda df: df.groupby(\"teamseason\")[\"points6avg\"].transform(\"diff\"))\n",
    ")\n"
   ]
  },
  {
   "cell_type": "code",
   "execution_count": 55,
   "metadata": {},
   "outputs": [],
   "source": [
    "data_balanced_agg = pd.concat(\n",
    "    [data_balanced_agg, pd.get_dummies(data_balanced_agg[\"t6_event\"])], axis=1\n",
    ").iloc[:, [0, 1, 2, 3, 4, 5, 6, 8, 9]]\n"
   ]
  },
  {
   "cell_type": "code",
   "execution_count": 56,
   "metadata": {},
   "outputs": [],
   "source": [
    "data_balanced_agg.columns = [\n",
    "    \"teamseason\",\n",
    "    \"t6_event\",\n",
    "    \"treated\",\n",
    "    \"points6avg\",\n",
    "    \"Dp6avg\",\n",
    "    \"before_7_12\",\n",
    "    \"before_1_6\",\n",
    "    \"after_1_6\",\n",
    "    \"after_7_12\",\n",
    "]\n"
   ]
  },
  {
   "cell_type": "code",
   "execution_count": 57,
   "metadata": {},
   "outputs": [],
   "source": [
    "data_balanced_agg[[\"before_7_12\", \"before_1_6\", \"after_1_6\", \"after_7_12\"]] = (\n",
    "    data_balanced_agg[[\"before_7_12\", \"before_1_6\", \"after_1_6\", \"after_7_12\"]].astype(\n",
    "        int\n",
    "    )\n",
    ")"
   ]
  },
  {
   "cell_type": "code",
   "execution_count": 58,
   "metadata": {},
   "outputs": [
    {
     "data": {
      "text/html": [
       "<div>\n",
       "<style scoped>\n",
       "    .dataframe tbody tr th:only-of-type {\n",
       "        vertical-align: middle;\n",
       "    }\n",
       "\n",
       "    .dataframe tbody tr th {\n",
       "        vertical-align: top;\n",
       "    }\n",
       "\n",
       "    .dataframe thead th {\n",
       "        text-align: right;\n",
       "    }\n",
       "</style>\n",
       "<table border=\"1\" class=\"dataframe\">\n",
       "  <thead>\n",
       "    <tr style=\"text-align: right;\">\n",
       "      <th></th>\n",
       "      <th>Dp6avg</th>\n",
       "      <th>after_1_6</th>\n",
       "      <th>after_7_12</th>\n",
       "    </tr>\n",
       "  </thead>\n",
       "  <tbody>\n",
       "    <tr>\n",
       "      <th>count</th>\n",
       "      <td>300.000000</td>\n",
       "      <td>400.000000</td>\n",
       "      <td>400.000000</td>\n",
       "    </tr>\n",
       "    <tr>\n",
       "      <th>mean</th>\n",
       "      <td>0.038500</td>\n",
       "      <td>0.250000</td>\n",
       "      <td>0.250000</td>\n",
       "    </tr>\n",
       "    <tr>\n",
       "      <th>std</th>\n",
       "      <td>0.711752</td>\n",
       "      <td>0.433555</td>\n",
       "      <td>0.433555</td>\n",
       "    </tr>\n",
       "    <tr>\n",
       "      <th>min</th>\n",
       "      <td>-1.666667</td>\n",
       "      <td>0.000000</td>\n",
       "      <td>0.000000</td>\n",
       "    </tr>\n",
       "    <tr>\n",
       "      <th>25%</th>\n",
       "      <td>-0.500000</td>\n",
       "      <td>0.000000</td>\n",
       "      <td>0.000000</td>\n",
       "    </tr>\n",
       "    <tr>\n",
       "      <th>50%</th>\n",
       "      <td>-0.016667</td>\n",
       "      <td>0.000000</td>\n",
       "      <td>0.000000</td>\n",
       "    </tr>\n",
       "    <tr>\n",
       "      <th>75%</th>\n",
       "      <td>0.500000</td>\n",
       "      <td>0.250000</td>\n",
       "      <td>0.250000</td>\n",
       "    </tr>\n",
       "    <tr>\n",
       "      <th>max</th>\n",
       "      <td>2.333333</td>\n",
       "      <td>1.000000</td>\n",
       "      <td>1.000000</td>\n",
       "    </tr>\n",
       "  </tbody>\n",
       "</table>\n",
       "</div>"
      ],
      "text/plain": [
       "           Dp6avg   after_1_6  after_7_12\n",
       "count  300.000000  400.000000  400.000000\n",
       "mean     0.038500    0.250000    0.250000\n",
       "std      0.711752    0.433555    0.433555\n",
       "min     -1.666667    0.000000    0.000000\n",
       "25%     -0.500000    0.000000    0.000000\n",
       "50%     -0.016667    0.000000    0.000000\n",
       "75%      0.500000    0.250000    0.250000\n",
       "max      2.333333    1.000000    1.000000"
      ]
     },
     "execution_count": 58,
     "metadata": {},
     "output_type": "execute_result"
    }
   ],
   "source": [
    "data_balanced_agg[[\"Dp6avg\", \"after_1_6\", \"after_7_12\"]].describe()\n"
   ]
  },
  {
   "cell_type": "markdown",
   "metadata": {},
   "source": [
    "### FD REGRESSIONS"
   ]
  },
  {
   "cell_type": "code",
   "execution_count": 60,
   "metadata": {},
   "outputs": [],
   "source": [
    "fd_treatment_model = smf.ols(\n",
    "    \"Dp6avg ~ after_1_6 + after_7_12\",\n",
    "    data=data_balanced_agg.loc[lambda x: x[\"treated\"] == 1],\n",
    ")\n",
    "fd_treatment = fd_treatment_model.fit(\n",
    "    cov_type=\"cluster\",\n",
    "    cov_kwds={\n",
    "        \"groups\": data_balanced_agg.loc[\n",
    "            fd_treatment_model.data.row_labels, \"teamseason\"\n",
    "        ]\n",
    "    },\n",
    ")"
   ]
  },
  {
   "cell_type": "code",
   "execution_count": 61,
   "metadata": {},
   "outputs": [],
   "source": [
    "fd_control_model = smf.ols(\n",
    "    \"Dp6avg ~ after_1_6 + after_7_12\",\n",
    "    data=data_balanced_agg.loc[lambda x: x[\"treated\"] == 0],\n",
    ")\n",
    "fd_control = fd_control_model.fit(\n",
    "    cov_type=\"cluster\",\n",
    "    cov_kwds={\n",
    "        \"groups\": data_balanced_agg.loc[fd_control_model.data.row_labels, \"teamseason\"]\n",
    "    },\n",
    ")"
   ]
  },
  {
   "cell_type": "code",
   "execution_count": 62,
   "metadata": {},
   "outputs": [],
   "source": [
    "fd_model = smf.ols(\n",
    "    \"Dp6avg ~ after_1_6 + after_7_12 + treated + I(treated*after_1_6) + I(treated*after_7_12)\",\n",
    "    data=data_balanced_agg,\n",
    ")\n",
    "fd = fd_model.fit(\n",
    "    cov_type=\"cluster\",\n",
    "    cov_kwds={\"groups\": data_balanced_agg.loc[fd_model.data.row_labels, \"teamseason\"]},\n",
    ")"
   ]
  },
  {
   "cell_type": "code",
   "execution_count": 63,
   "metadata": {},
   "outputs": [
    {
     "data": {
      "text/html": [
       "<table style=\"text-align:center\"><tr><td colspan=\"4\" style=\"border-bottom: 1px solid black\"></td></tr>\n",
       "<tr><td style=\"text-align:left\"></td><td colspan=\"3\"><em>Dependent variable: Dp6avg</em></td></tr><tr><td style=\"text-align:left\"></td><tr><td></td><td colspan=\"1\">Treatment</td><td colspan=\"1\">Control</td><td colspan=\"1\">All</td></tr><tr><td style=\"text-align:left\"></td><td>(1)</td><td>(2)</td><td>(3)</td></tr>\n",
       "<tr><td colspan=\"4\" style=\"border-bottom: 1px solid black\"></td></tr>\n",
       "\n",
       "<tr><td style=\"text-align:left\">I(treated * after_1_6)</td><td></td><td></td><td>0.147<sup></sup></td></tr>\n",
       "<tr><td style=\"text-align:left\"></td><td></td><td></td><td>(0.207)</td></tr>\n",
       "<tr><td style=\"text-align:left\">I(treated * after_7_12)</td><td></td><td></td><td>0.014<sup></sup></td></tr>\n",
       "<tr><td style=\"text-align:left\"></td><td></td><td></td><td>(0.181)</td></tr>\n",
       "<tr><td style=\"text-align:left\">Constant</td><td>-0.449<sup>***</sup></td><td>-0.404<sup>***</sup></td><td>-0.404<sup>***</sup></td></tr>\n",
       "<tr><td style=\"text-align:left\"></td><td>(0.100)</td><td>(0.038)</td><td>(0.038)</td></tr>\n",
       "<tr><td style=\"text-align:left\">after_1_6</td><td>1.106<sup>***</sup></td><td>0.959<sup>***</sup></td><td>0.959<sup>***</sup></td></tr>\n",
       "<tr><td style=\"text-align:left\"></td><td>(0.187)</td><td>(0.093)</td><td>(0.093)</td></tr>\n",
       "<tr><td style=\"text-align:left\">after_7_12</td><td>0.374<sup>**</sup></td><td>0.360<sup>***</sup></td><td>0.360<sup>***</sup></td></tr>\n",
       "<tr><td style=\"text-align:left\"></td><td>(0.157)</td><td>(0.092)</td><td>(0.092)</td></tr>\n",
       "<tr><td style=\"text-align:left\">treated</td><td></td><td></td><td>-0.046<sup></sup></td></tr>\n",
       "<tr><td style=\"text-align:left\"></td><td></td><td></td><td>(0.106)</td></tr>\n",
       "\n",
       "<td colspan=\"4\" style=\"border-bottom: 1px solid black\"></td></tr>\n",
       "<tr><td style=\"text-align: left\">Observations</td><td>99</td><td>201</td><td>300</td></tr><tr><td style=\"text-align: left\">R<sup>2</sup></td><td>0.333</td><td>0.355</td><td>0.346</td></tr><tr><td style=\"text-align: left\">Adjusted R<sup>2</sup></td><td>0.319</td><td>0.348</td><td>0.335</td></tr><tr><td style=\"text-align: left\">Residual Std. Error</td><td>0.660 (df=96)</td><td>0.538 (df=198)</td><td>0.581 (df=294)</td></tr><tr><td style=\"text-align: left\">F Statistic</td><td>18.101<sup>***</sup> (df=2; 96)</td><td>63.542<sup>***</sup> (df=2; 198)</td><td>34.029<sup>***</sup> (df=5; 294)</td></tr>\n",
       "<tr><td colspan=\"4\" style=\"border-bottom: 1px solid black\"></td></tr><tr><td style=\"text-align: left\">Note:</td><td colspan=\"3\" style=\"text-align: right\"><sup>*</sup>p&lt;0.1; <sup>**</sup>p&lt;0.05; <sup>***</sup>p&lt;0.01</td></tr></table>"
      ],
      "text/plain": [
       "<IPython.core.display.HTML object>"
      ]
     },
     "execution_count": 63,
     "metadata": {},
     "output_type": "execute_result"
    }
   ],
   "source": [
    "stargazer = Stargazer([fd_treatment, fd_control, fd])\n",
    "stargazer.rename_covariates({\"Intercept\": \"Constant\"})\n",
    "stargazer.custom_columns([\"Treatment\", \"Control\", \"All\"], [1, 1, 1])\n",
    "HTML(stargazer.render_html())\n"
   ]
  },
  {
   "cell_type": "markdown",
   "metadata": {},
   "source": [
    "### Extension, not included in the book"
   ]
  },
  {
   "cell_type": "code",
   "execution_count": 65,
   "metadata": {},
   "outputs": [],
   "source": [
    "from linearmodels import PanelOLS\n",
    "\n",
    "def d(x):\n",
    "    return x.diff(1)"
   ]
  },
  {
   "cell_type": "code",
   "execution_count": 66,
   "metadata": {},
   "outputs": [],
   "source": [
    "data_balanced_agg[\"t6_event_mid\"] = (\n",
    "    data_balanced_agg[\"t6_event\"].apply(lambda x: x.mid).astype(int)\n",
    ")\n",
    "data_balanced_agg_p = data_balanced_agg.set_index([\"teamseason\", \"t6_event_mid\"])"
   ]
  },
  {
   "cell_type": "markdown",
   "metadata": {},
   "source": [
    "FD regression"
   ]
  },
  {
   "cell_type": "code",
   "execution_count": 68,
   "metadata": {},
   "outputs": [
    {
     "data": {
      "text/html": [
       "<table class=\"simpletable\">\n",
       "<caption>PanelOLS Estimation Summary</caption>\n",
       "<tr>\n",
       "  <th>Dep. Variable:</th>      <td>d(points6avg)</td>  <th>  R-squared:         </th>    <td>0.1649</td> \n",
       "</tr>\n",
       "<tr>\n",
       "  <th>Estimator:</th>            <td>PanelOLS</td>     <th>  R-squared (Between):</th>   <td>0.0123</td> \n",
       "</tr>\n",
       "<tr>\n",
       "  <th>No. Observations:</th>        <td>399</td>       <th>  R-squared (Within):</th>    <td>0.1757</td> \n",
       "</tr>\n",
       "<tr>\n",
       "  <th>Date:</th>             <td>Sun, Sep 15 2024</td> <th>  R-squared (Overall):</th>   <td>0.1649</td> \n",
       "</tr>\n",
       "<tr>\n",
       "  <th>Time:</th>                 <td>16:33:46</td>     <th>  Log-likelihood     </th>    <td>-385.57</td>\n",
       "</tr>\n",
       "<tr>\n",
       "  <th>Cov. Estimator:</th>       <td>Clustered</td>    <th>                     </th>       <td></td>    \n",
       "</tr>\n",
       "<tr>\n",
       "  <th></th>                          <td></td>         <th>  F-statistic:       </th>    <td>15.563</td> \n",
       "</tr>\n",
       "<tr>\n",
       "  <th>Entities:</th>                <td>100</td>       <th>  P-value            </th>    <td>0.0000</td> \n",
       "</tr>\n",
       "<tr>\n",
       "  <th>Avg Obs:</th>               <td>3.9900</td>      <th>  Distribution:      </th>   <td>F(5,394)</td>\n",
       "</tr>\n",
       "<tr>\n",
       "  <th>Min Obs:</th>               <td>3.0000</td>      <th>                     </th>       <td></td>    \n",
       "</tr>\n",
       "<tr>\n",
       "  <th>Max Obs:</th>               <td>4.0000</td>      <th>  F-statistic (robust):</th>  <td>13.089</td> \n",
       "</tr>\n",
       "<tr>\n",
       "  <th></th>                          <td></td>         <th>  P-value            </th>    <td>0.0000</td> \n",
       "</tr>\n",
       "<tr>\n",
       "  <th>Time periods:</th>             <td>4</td>        <th>  Distribution:      </th>   <td>F(5,394)</td>\n",
       "</tr>\n",
       "<tr>\n",
       "  <th>Avg Obs:</th>               <td>99.750</td>      <th>                     </th>       <td></td>    \n",
       "</tr>\n",
       "<tr>\n",
       "  <th>Min Obs:</th>               <td>99.000</td>      <th>                     </th>       <td></td>    \n",
       "</tr>\n",
       "<tr>\n",
       "  <th>Max Obs:</th>               <td>100.000</td>     <th>                     </th>       <td></td>    \n",
       "</tr>\n",
       "<tr>\n",
       "  <th></th>                          <td></td>         <th>                     </th>       <td></td>    \n",
       "</tr>\n",
       "</table>\n",
       "<table class=\"simpletable\">\n",
       "<caption>Parameter Estimates</caption>\n",
       "<tr>\n",
       "             <td></td>             <th>Parameter</th> <th>Std. Err.</th> <th>T-stat</th>  <th>P-value</th> <th>Lower CI</th> <th>Upper CI</th>\n",
       "</tr>\n",
       "<tr>\n",
       "  <th>d(after_1_6)</th>             <td>0.4365</td>    <td>0.0731</td>   <td>5.9715</td>  <td>0.0000</td>   <td>0.2928</td>   <td>0.5802</td> \n",
       "</tr>\n",
       "<tr>\n",
       "  <th>d(after_7_12)</th>            <td>0.2735</td>    <td>0.0554</td>   <td>4.9352</td>  <td>0.0000</td>   <td>0.1645</td>   <td>0.3825</td> \n",
       "</tr>\n",
       "<tr>\n",
       "  <th>d(treated)</th>               <td>0.1462</td>    <td>0.1178</td>   <td>1.2414</td>  <td>0.2152</td>   <td>-0.0853</td>  <td>0.3777</td> \n",
       "</tr>\n",
       "<tr>\n",
       "  <th>d(treated * after_1_6)</th>   <td>0.0509</td>    <td>0.1367</td>   <td>0.3722</td>  <td>0.7099</td>   <td>-0.2179</td>  <td>0.3197</td> \n",
       "</tr>\n",
       "<tr>\n",
       "  <th>d(treated * after_7_12)</th>  <td>-0.0310</td>   <td>0.1257</td>   <td>-0.2469</td> <td>0.8051</td>   <td>-0.2782</td>  <td>0.2161</td> \n",
       "</tr>\n",
       "</table><br/><br/><br/>id: 0x133089130"
      ],
      "text/plain": [
       "                          PanelOLS Estimation Summary                           \n",
       "================================================================================\n",
       "Dep. Variable:          d(points6avg)   R-squared:                        0.1649\n",
       "Estimator:                   PanelOLS   R-squared (Between):              0.0123\n",
       "No. Observations:                 399   R-squared (Within):               0.1757\n",
       "Date:                Sun, Sep 15 2024   R-squared (Overall):              0.1649\n",
       "Time:                        16:33:46   Log-likelihood                   -385.57\n",
       "Cov. Estimator:             Clustered                                           \n",
       "                                        F-statistic:                      15.563\n",
       "Entities:                         100   P-value                           0.0000\n",
       "Avg Obs:                       3.9900   Distribution:                   F(5,394)\n",
       "Min Obs:                       3.0000                                           \n",
       "Max Obs:                       4.0000   F-statistic (robust):             13.089\n",
       "                                        P-value                           0.0000\n",
       "Time periods:                       4   Distribution:                   F(5,394)\n",
       "Avg Obs:                       99.750                                           \n",
       "Min Obs:                       99.000                                           \n",
       "Max Obs:                      100.000                                           \n",
       "                                                                                \n",
       "                                    Parameter Estimates                                    \n",
       "===========================================================================================\n",
       "                         Parameter  Std. Err.     T-stat    P-value    Lower CI    Upper CI\n",
       "-------------------------------------------------------------------------------------------\n",
       "d(after_1_6)                0.4365     0.0731     5.9715     0.0000      0.2928      0.5802\n",
       "d(after_7_12)               0.2735     0.0554     4.9352     0.0000      0.1645      0.3825\n",
       "d(treated)                  0.1462     0.1178     1.2414     0.2152     -0.0853      0.3777\n",
       "d(treated * after_1_6)      0.0509     0.1367     0.3722     0.7099     -0.2179      0.3197\n",
       "d(treated * after_7_12)    -0.0310     0.1257    -0.2469     0.8051     -0.2782      0.2161\n",
       "===========================================================================================\n",
       "\n",
       "\n",
       "PanelEffectsResults, id: 0x133089130"
      ]
     },
     "execution_count": 68,
     "metadata": {},
     "output_type": "execute_result"
    }
   ],
   "source": [
    "PanelOLS.from_formula(\n",
    "    \" d(points6avg) ~ d(after_1_6) + d(after_7_12) + d(treated) + d(treated*after_1_6) + d(treated*after_7_12)\",\n",
    "    data_balanced_agg_p,\n",
    ").fit(cov_type=\"clustered\", cluster_entity=True)"
   ]
  },
  {
   "cell_type": "markdown",
   "metadata": {},
   "source": [
    "FE regression"
   ]
  },
  {
   "cell_type": "code",
   "execution_count": 70,
   "metadata": {},
   "outputs": [
    {
     "data": {
      "text/html": [
       "<table class=\"simpletable\">\n",
       "<caption>PanelOLS Estimation Summary</caption>\n",
       "<tr>\n",
       "  <th>Dep. Variable:</th>       <td>points6avg</td>    <th>  R-squared:         </th>   <td>0.2785</td> \n",
       "</tr>\n",
       "<tr>\n",
       "  <th>Estimator:</th>            <td>PanelOLS</td>     <th>  R-squared (Between):</th>  <td>0.5340</td> \n",
       "</tr>\n",
       "<tr>\n",
       "  <th>No. Observations:</th>        <td>132</td>       <th>  R-squared (Within):</th>   <td>0.2785</td> \n",
       "</tr>\n",
       "<tr>\n",
       "  <th>Date:</th>             <td>Sun, Sep 15 2024</td> <th>  R-squared (Overall):</th>  <td>0.4987</td> \n",
       "</tr>\n",
       "<tr>\n",
       "  <th>Time:</th>                 <td>16:33:46</td>     <th>  Log-likelihood     </th>   <td>-69.477</td>\n",
       "</tr>\n",
       "<tr>\n",
       "  <th>Cov. Estimator:</th>       <td>Clustered</td>    <th>                     </th>      <td></td>    \n",
       "</tr>\n",
       "<tr>\n",
       "  <th></th>                          <td></td>         <th>  F-statistic:       </th>   <td>12.355</td> \n",
       "</tr>\n",
       "<tr>\n",
       "  <th>Entities:</th>                <td>33</td>        <th>  P-value            </th>   <td>0.0000</td> \n",
       "</tr>\n",
       "<tr>\n",
       "  <th>Avg Obs:</th>               <td>4.0000</td>      <th>  Distribution:      </th>   <td>F(3,96)</td>\n",
       "</tr>\n",
       "<tr>\n",
       "  <th>Min Obs:</th>               <td>4.0000</td>      <th>                     </th>      <td></td>    \n",
       "</tr>\n",
       "<tr>\n",
       "  <th>Max Obs:</th>               <td>4.0000</td>      <th>  F-statistic (robust):</th> <td>13.373</td> \n",
       "</tr>\n",
       "<tr>\n",
       "  <th></th>                          <td></td>         <th>  P-value            </th>   <td>0.0000</td> \n",
       "</tr>\n",
       "<tr>\n",
       "  <th>Time periods:</th>             <td>4</td>        <th>  Distribution:      </th>   <td>F(3,96)</td>\n",
       "</tr>\n",
       "<tr>\n",
       "  <th>Avg Obs:</th>               <td>33.000</td>      <th>                     </th>      <td></td>    \n",
       "</tr>\n",
       "<tr>\n",
       "  <th>Min Obs:</th>               <td>33.000</td>      <th>                     </th>      <td></td>    \n",
       "</tr>\n",
       "<tr>\n",
       "  <th>Max Obs:</th>               <td>33.000</td>      <th>                     </th>      <td></td>    \n",
       "</tr>\n",
       "<tr>\n",
       "  <th></th>                          <td></td>         <th>                     </th>      <td></td>    \n",
       "</tr>\n",
       "</table>\n",
       "<table class=\"simpletable\">\n",
       "<caption>Parameter Estimates</caption>\n",
       "<tr>\n",
       "       <td></td>       <th>Parameter</th> <th>Std. Err.</th> <th>T-stat</th> <th>P-value</th> <th>Lower CI</th> <th>Upper CI</th>\n",
       "</tr>\n",
       "<tr>\n",
       "  <th>before_7_12</th>  <td>0.4495</td>    <td>0.0984</td>   <td>4.5680</td> <td>0.0000</td>   <td>0.2542</td>   <td>0.6448</td> \n",
       "</tr>\n",
       "<tr>\n",
       "  <th>after_1_6</th>    <td>0.6566</td>    <td>0.1226</td>   <td>5.3553</td> <td>0.0000</td>   <td>0.4132</td>   <td>0.8999</td> \n",
       "</tr>\n",
       "<tr>\n",
       "  <th>after_7_12</th>   <td>0.5808</td>    <td>0.1179</td>   <td>4.9278</td> <td>0.0000</td>   <td>0.3468</td>   <td>0.8148</td> \n",
       "</tr>\n",
       "</table><br/><br/>F-test for Poolability: 3.1391<br/>P-value: 0.0000<br/>Distribution: F(32,96)<br/><br/>Included effects: Entity<br/>id: 0x132d4cfe0"
      ],
      "text/plain": [
       "                          PanelOLS Estimation Summary                           \n",
       "================================================================================\n",
       "Dep. Variable:             points6avg   R-squared:                        0.2785\n",
       "Estimator:                   PanelOLS   R-squared (Between):              0.5340\n",
       "No. Observations:                 132   R-squared (Within):               0.2785\n",
       "Date:                Sun, Sep 15 2024   R-squared (Overall):              0.4987\n",
       "Time:                        16:33:46   Log-likelihood                   -69.477\n",
       "Cov. Estimator:             Clustered                                           \n",
       "                                        F-statistic:                      12.355\n",
       "Entities:                          33   P-value                           0.0000\n",
       "Avg Obs:                       4.0000   Distribution:                    F(3,96)\n",
       "Min Obs:                       4.0000                                           \n",
       "Max Obs:                       4.0000   F-statistic (robust):             13.373\n",
       "                                        P-value                           0.0000\n",
       "Time periods:                       4   Distribution:                    F(3,96)\n",
       "Avg Obs:                       33.000                                           \n",
       "Min Obs:                       33.000                                           \n",
       "Max Obs:                       33.000                                           \n",
       "                                                                                \n",
       "                              Parameter Estimates                              \n",
       "===============================================================================\n",
       "             Parameter  Std. Err.     T-stat    P-value    Lower CI    Upper CI\n",
       "-------------------------------------------------------------------------------\n",
       "before_7_12     0.4495     0.0984     4.5680     0.0000      0.2542      0.6448\n",
       "after_1_6       0.6566     0.1226     5.3553     0.0000      0.4132      0.8999\n",
       "after_7_12      0.5808     0.1179     4.9278     0.0000      0.3468      0.8148\n",
       "===============================================================================\n",
       "\n",
       "F-test for Poolability: 3.1391\n",
       "P-value: 0.0000\n",
       "Distribution: F(32,96)\n",
       "\n",
       "Included effects: Entity\n",
       "PanelEffectsResults, id: 0x132d4cfe0"
      ]
     },
     "execution_count": 70,
     "metadata": {},
     "output_type": "execute_result"
    }
   ],
   "source": [
    "PanelOLS.from_formula(\n",
    "    \" points6avg ~ before_7_12 + after_1_6 + after_7_12 + EntityEffects\",\n",
    "    data_balanced_agg_p.loc[lambda x: x[\"treated\"] == 1],\n",
    ").fit(cov_type=\"clustered\", cluster_entity=True)"
   ]
  },
  {
   "cell_type": "code",
   "execution_count": 71,
   "metadata": {},
   "outputs": [
    {
     "data": {
      "text/html": [
       "<table class=\"simpletable\">\n",
       "<caption>PanelOLS Estimation Summary</caption>\n",
       "<tr>\n",
       "  <th>Dep. Variable:</th>       <td>points6avg</td>    <th>  R-squared:         </th>    <td>0.3033</td> \n",
       "</tr>\n",
       "<tr>\n",
       "  <th>Estimator:</th>            <td>PanelOLS</td>     <th>  R-squared (Between):</th>   <td>0.5246</td> \n",
       "</tr>\n",
       "<tr>\n",
       "  <th>No. Observations:</th>        <td>268</td>       <th>  R-squared (Within):</th>    <td>0.3033</td> \n",
       "</tr>\n",
       "<tr>\n",
       "  <th>Date:</th>             <td>Sun, Sep 15 2024</td> <th>  R-squared (Overall):</th>   <td>0.5007</td> \n",
       "</tr>\n",
       "<tr>\n",
       "  <th>Time:</th>                 <td>16:33:46</td>     <th>  Log-likelihood     </th>    <td>-85.100</td>\n",
       "</tr>\n",
       "<tr>\n",
       "  <th>Cov. Estimator:</th>       <td>Clustered</td>    <th>                     </th>       <td></td>    \n",
       "</tr>\n",
       "<tr>\n",
       "  <th></th>                          <td></td>         <th>  F-statistic:       </th>    <td>28.734</td> \n",
       "</tr>\n",
       "<tr>\n",
       "  <th>Entities:</th>                <td>67</td>        <th>  P-value            </th>    <td>0.0000</td> \n",
       "</tr>\n",
       "<tr>\n",
       "  <th>Avg Obs:</th>               <td>4.0000</td>      <th>  Distribution:      </th>   <td>F(3,198)</td>\n",
       "</tr>\n",
       "<tr>\n",
       "  <th>Min Obs:</th>               <td>4.0000</td>      <th>                     </th>       <td></td>    \n",
       "</tr>\n",
       "<tr>\n",
       "  <th>Max Obs:</th>               <td>4.0000</td>      <th>  F-statistic (robust):</th>  <td>44.686</td> \n",
       "</tr>\n",
       "<tr>\n",
       "  <th></th>                          <td></td>         <th>  P-value            </th>    <td>0.0000</td> \n",
       "</tr>\n",
       "<tr>\n",
       "  <th>Time periods:</th>             <td>4</td>        <th>  Distribution:      </th>   <td>F(3,198)</td>\n",
       "</tr>\n",
       "<tr>\n",
       "  <th>Avg Obs:</th>               <td>67.000</td>      <th>                     </th>       <td></td>    \n",
       "</tr>\n",
       "<tr>\n",
       "  <th>Min Obs:</th>               <td>67.000</td>      <th>                     </th>       <td></td>    \n",
       "</tr>\n",
       "<tr>\n",
       "  <th>Max Obs:</th>               <td>67.000</td>      <th>                     </th>       <td></td>    \n",
       "</tr>\n",
       "<tr>\n",
       "  <th></th>                          <td></td>         <th>                     </th>       <td></td>    \n",
       "</tr>\n",
       "</table>\n",
       "<table class=\"simpletable\">\n",
       "<caption>Parameter Estimates</caption>\n",
       "<tr>\n",
       "       <td></td>       <th>Parameter</th> <th>Std. Err.</th> <th>T-stat</th> <th>P-value</th> <th>Lower CI</th> <th>Upper CI</th>\n",
       "</tr>\n",
       "<tr>\n",
       "  <th>before_7_12</th>  <td>0.4037</td>    <td>0.0377</td>   <td>10.715</td> <td>0.0000</td>   <td>0.3294</td>   <td>0.4780</td> \n",
       "</tr>\n",
       "<tr>\n",
       "  <th>after_1_6</th>    <td>0.5555</td>    <td>0.0716</td>   <td>7.7549</td> <td>0.0000</td>   <td>0.4142</td>   <td>0.6967</td> \n",
       "</tr>\n",
       "<tr>\n",
       "  <th>after_7_12</th>   <td>0.5114</td>    <td>0.0718</td>   <td>7.1280</td> <td>0.0000</td>   <td>0.3699</td>   <td>0.6529</td> \n",
       "</tr>\n",
       "</table><br/><br/>F-test for Poolability: 1.5578<br/>P-value: 0.0104<br/>Distribution: F(66,198)<br/><br/>Included effects: Entity<br/>id: 0x1330eb4a0"
      ],
      "text/plain": [
       "                          PanelOLS Estimation Summary                           \n",
       "================================================================================\n",
       "Dep. Variable:             points6avg   R-squared:                        0.3033\n",
       "Estimator:                   PanelOLS   R-squared (Between):              0.5246\n",
       "No. Observations:                 268   R-squared (Within):               0.3033\n",
       "Date:                Sun, Sep 15 2024   R-squared (Overall):              0.5007\n",
       "Time:                        16:33:46   Log-likelihood                   -85.100\n",
       "Cov. Estimator:             Clustered                                           \n",
       "                                        F-statistic:                      28.734\n",
       "Entities:                          67   P-value                           0.0000\n",
       "Avg Obs:                       4.0000   Distribution:                   F(3,198)\n",
       "Min Obs:                       4.0000                                           \n",
       "Max Obs:                       4.0000   F-statistic (robust):             44.686\n",
       "                                        P-value                           0.0000\n",
       "Time periods:                       4   Distribution:                   F(3,198)\n",
       "Avg Obs:                       67.000                                           \n",
       "Min Obs:                       67.000                                           \n",
       "Max Obs:                       67.000                                           \n",
       "                                                                                \n",
       "                              Parameter Estimates                              \n",
       "===============================================================================\n",
       "             Parameter  Std. Err.     T-stat    P-value    Lower CI    Upper CI\n",
       "-------------------------------------------------------------------------------\n",
       "before_7_12     0.4037     0.0377     10.715     0.0000      0.3294      0.4780\n",
       "after_1_6       0.5555     0.0716     7.7549     0.0000      0.4142      0.6967\n",
       "after_7_12      0.5114     0.0718     7.1280     0.0000      0.3699      0.6529\n",
       "===============================================================================\n",
       "\n",
       "F-test for Poolability: 1.5578\n",
       "P-value: 0.0104\n",
       "Distribution: F(66,198)\n",
       "\n",
       "Included effects: Entity\n",
       "PanelEffectsResults, id: 0x1330eb4a0"
      ]
     },
     "execution_count": 71,
     "metadata": {},
     "output_type": "execute_result"
    }
   ],
   "source": [
    "PanelOLS.from_formula(\n",
    "    \" points6avg ~ before_7_12 + after_1_6 + after_7_12 + EntityEffects\",\n",
    "    data_balanced_agg_p.loc[lambda x: x[\"treated\"] == 0],\n",
    ").fit(cov_type=\"clustered\", cluster_entity=True)"
   ]
  },
  {
   "cell_type": "code",
   "execution_count": 72,
   "metadata": {},
   "outputs": [
    {
     "data": {
      "text/html": [
       "<table class=\"simpletable\">\n",
       "<caption>PanelOLS Estimation Summary</caption>\n",
       "<tr>\n",
       "  <th>Dep. Variable:</th>       <td>points6avg</td>    <th>  R-squared:         </th>    <td>0.2929</td> \n",
       "</tr>\n",
       "<tr>\n",
       "  <th>Estimator:</th>            <td>PanelOLS</td>     <th>  R-squared (Between):</th>   <td>0.5279</td> \n",
       "</tr>\n",
       "<tr>\n",
       "  <th>No. Observations:</th>        <td>400</td>       <th>  R-squared (Within):</th>    <td>0.2929</td> \n",
       "</tr>\n",
       "<tr>\n",
       "  <th>Date:</th>             <td>Sun, Sep 15 2024</td> <th>  R-squared (Overall):</th>   <td>0.5000</td> \n",
       "</tr>\n",
       "<tr>\n",
       "  <th>Time:</th>                 <td>16:33:46</td>     <th>  Log-likelihood     </th>    <td>-158.59</td>\n",
       "</tr>\n",
       "<tr>\n",
       "  <th>Cov. Estimator:</th>       <td>Clustered</td>    <th>                     </th>       <td></td>    \n",
       "</tr>\n",
       "<tr>\n",
       "  <th></th>                          <td></td>         <th>  F-statistic:       </th>    <td>20.300</td> \n",
       "</tr>\n",
       "<tr>\n",
       "  <th>Entities:</th>                <td>100</td>       <th>  P-value            </th>    <td>0.0000</td> \n",
       "</tr>\n",
       "<tr>\n",
       "  <th>Avg Obs:</th>               <td>4.0000</td>      <th>  Distribution:      </th>   <td>F(6,294)</td>\n",
       "</tr>\n",
       "<tr>\n",
       "  <th>Min Obs:</th>               <td>4.0000</td>      <th>                     </th>       <td></td>    \n",
       "</tr>\n",
       "<tr>\n",
       "  <th>Max Obs:</th>               <td>4.0000</td>      <th>  F-statistic (robust):</th>  <td>28.996</td> \n",
       "</tr>\n",
       "<tr>\n",
       "  <th></th>                          <td></td>         <th>  P-value            </th>    <td>0.0000</td> \n",
       "</tr>\n",
       "<tr>\n",
       "  <th>Time periods:</th>             <td>4</td>        <th>  Distribution:      </th>   <td>F(6,294)</td>\n",
       "</tr>\n",
       "<tr>\n",
       "  <th>Avg Obs:</th>               <td>100.000</td>     <th>                     </th>       <td></td>    \n",
       "</tr>\n",
       "<tr>\n",
       "  <th>Min Obs:</th>               <td>100.000</td>     <th>                     </th>       <td></td>    \n",
       "</tr>\n",
       "<tr>\n",
       "  <th>Max Obs:</th>               <td>100.000</td>     <th>                     </th>       <td></td>    \n",
       "</tr>\n",
       "<tr>\n",
       "  <th></th>                          <td></td>         <th>                     </th>       <td></td>    \n",
       "</tr>\n",
       "</table>\n",
       "<table class=\"simpletable\">\n",
       "<caption>Parameter Estimates</caption>\n",
       "<tr>\n",
       "           <td></td>           <th>Parameter</th> <th>Std. Err.</th> <th>T-stat</th> <th>P-value</th> <th>Lower CI</th> <th>Upper CI</th>\n",
       "</tr>\n",
       "<tr>\n",
       "  <th>before_7_12</th>          <td>0.4037</td>    <td>0.0378</td>   <td>10.695</td> <td>0.0000</td>   <td>0.3294</td>   <td>0.4780</td> \n",
       "</tr>\n",
       "<tr>\n",
       "  <th>after_1_6</th>            <td>0.5555</td>    <td>0.0718</td>   <td>7.7400</td> <td>0.0000</td>   <td>0.4142</td>   <td>0.6967</td> \n",
       "</tr>\n",
       "<tr>\n",
       "  <th>after_7_12</th>           <td>0.5114</td>    <td>0.0719</td>   <td>7.1143</td> <td>0.0000</td>   <td>0.3700</td>   <td>0.6529</td> \n",
       "</tr>\n",
       "<tr>\n",
       "  <th>treated:before_7_12</th>  <td>0.0458</td>    <td>0.1050</td>   <td>0.4357</td> <td>0.6634</td>   <td>-0.1609</td>  <td>0.2525</td> \n",
       "</tr>\n",
       "<tr>\n",
       "  <th>treated:after_1_6</th>    <td>0.1011</td>    <td>0.1416</td>   <td>0.7137</td> <td>0.4760</td>   <td>-0.1777</td>  <td>0.3799</td> \n",
       "</tr>\n",
       "<tr>\n",
       "  <th>treated:after_7_12</th>   <td>0.0694</td>    <td>0.1377</td>   <td>0.5039</td> <td>0.6147</td>   <td>-0.2016</td>  <td>0.3403</td> \n",
       "</tr>\n",
       "</table><br/><br/>F-test for Poolability: 2.2145<br/>P-value: 0.0000<br/>Distribution: F(99,294)<br/><br/>Included effects: Entity<br/>id: 0x1330359d0"
      ],
      "text/plain": [
       "                          PanelOLS Estimation Summary                           \n",
       "================================================================================\n",
       "Dep. Variable:             points6avg   R-squared:                        0.2929\n",
       "Estimator:                   PanelOLS   R-squared (Between):              0.5279\n",
       "No. Observations:                 400   R-squared (Within):               0.2929\n",
       "Date:                Sun, Sep 15 2024   R-squared (Overall):              0.5000\n",
       "Time:                        16:33:46   Log-likelihood                   -158.59\n",
       "Cov. Estimator:             Clustered                                           \n",
       "                                        F-statistic:                      20.300\n",
       "Entities:                         100   P-value                           0.0000\n",
       "Avg Obs:                       4.0000   Distribution:                   F(6,294)\n",
       "Min Obs:                       4.0000                                           \n",
       "Max Obs:                       4.0000   F-statistic (robust):             28.996\n",
       "                                        P-value                           0.0000\n",
       "Time periods:                       4   Distribution:                   F(6,294)\n",
       "Avg Obs:                      100.000                                           \n",
       "Min Obs:                      100.000                                           \n",
       "Max Obs:                      100.000                                           \n",
       "                                                                                \n",
       "                                  Parameter Estimates                                  \n",
       "=======================================================================================\n",
       "                     Parameter  Std. Err.     T-stat    P-value    Lower CI    Upper CI\n",
       "---------------------------------------------------------------------------------------\n",
       "before_7_12             0.4037     0.0378     10.695     0.0000      0.3294      0.4780\n",
       "after_1_6               0.5555     0.0718     7.7400     0.0000      0.4142      0.6967\n",
       "after_7_12              0.5114     0.0719     7.1143     0.0000      0.3700      0.6529\n",
       "treated:before_7_12     0.0458     0.1050     0.4357     0.6634     -0.1609      0.2525\n",
       "treated:after_1_6       0.1011     0.1416     0.7137     0.4760     -0.1777      0.3799\n",
       "treated:after_7_12      0.0694     0.1377     0.5039     0.6147     -0.2016      0.3403\n",
       "=======================================================================================\n",
       "\n",
       "F-test for Poolability: 2.2145\n",
       "P-value: 0.0000\n",
       "Distribution: F(99,294)\n",
       "\n",
       "Included effects: Entity\n",
       "PanelEffectsResults, id: 0x1330359d0"
      ]
     },
     "execution_count": 72,
     "metadata": {},
     "output_type": "execute_result"
    }
   ],
   "source": [
    "PanelOLS.from_formula(\n",
    "    \" points6avg ~ before_7_12 + after_1_6 + after_7_12 + treated*before_7_12 + treated*after_1_6 + treated*after_7_12 + EntityEffects\",\n",
    "    data_balanced_agg_p,\n",
    "    drop_absorbed=True,\n",
    ").fit(cov_type=\"clustered\", cluster_entity=True)"
   ]
  },
  {
   "cell_type": "code",
   "execution_count": null,
   "metadata": {},
   "outputs": [],
   "source": []
  }
 ],
 "metadata": {
  "kernelspec": {
   "display_name": "da_env",
   "language": "python",
   "name": "python3"
  },
  "language_info": {
   "codemirror_mode": {
    "name": "ipython",
    "version": 3
   },
   "file_extension": ".py",
   "mimetype": "text/x-python",
   "name": "python",
   "nbconvert_exporter": "python",
   "pygments_lexer": "ipython3",
   "version": "3.12.4"
<<<<<<< HEAD
  },
  "vscode": {
   "interpreter": {
    "hash": "c01754e8627d0ea60fdf9a984fbf743943cf4db47884120dd04bfc512143b077"
   }
=======
>>>>>>> master
  }
 },
 "nbformat": 4,
 "nbformat_minor": 4
}
