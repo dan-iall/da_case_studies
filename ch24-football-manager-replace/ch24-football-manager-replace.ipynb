{
 "cells": [
  {
   "cell_type": "markdown",
   "metadata": {},
   "source": [
    "#### Prepared for Gabor's Data Analysis\n",
    "\n",
    "### Data Analysis for Business, Economics, and Policy\n",
    "by Gabor Bekes and  Gabor Kezdi\n",
    " \n",
    "Cambridge University Press 2021\n",
    "\n",
    "**[gabors-data-analysis.com ](https://gabors-data-analysis.com/)**\n",
    "\n",
    " License: Free to share, modify and use for educational purposes. \n",
    " Not to be used for commercial purposes.\n",
    "\n",
    "\n",
    "### Chapter 24\n",
    "**CH24B Estimating the impact of replacing football team managers**\n",
    "\n",
    "using the football dataset\n",
    "\n",
    "version 1.0 2021-05-05"
   ]
  },
  {
   "cell_type": "code",
   "execution_count": 1,
   "metadata": {},
   "outputs": [
    {
     "data": {
      "text/html": [
       "\n",
       "            <div id=\"9qaHuV\"></div>\n",
       "            <script type=\"text/javascript\" data-lets-plot-script=\"library\">\n",
       "                if(!window.letsPlotCallQueue) {\n",
       "                    window.letsPlotCallQueue = [];\n",
       "                }; \n",
       "                window.letsPlotCall = function(f) {\n",
       "                    window.letsPlotCallQueue.push(f);\n",
       "                };\n",
       "                (function() {\n",
       "                    var script = document.createElement(\"script\");\n",
       "                    script.type = \"text/javascript\";\n",
       "                    script.src = \"https://cdn.jsdelivr.net/gh/JetBrains/lets-plot@v4.5.1/js-package/distr/lets-plot.min.js\";\n",
       "                    script.onload = function() {\n",
       "                        window.letsPlotCall = function(f) {f();};\n",
       "                        window.letsPlotCallQueue.forEach(function(f) {f();});\n",
       "                        window.letsPlotCallQueue = [];\n",
       "                        \n",
       "                    };\n",
       "                    script.onerror = function(event) {\n",
       "                        window.letsPlotCall = function(f) {};    // noop\n",
       "                        window.letsPlotCallQueue = [];\n",
       "                        var div = document.createElement(\"div\");\n",
       "                        div.style.color = 'darkred';\n",
       "                        div.textContent = 'Error loading Lets-Plot JS';\n",
       "                        document.getElementById(\"9qaHuV\").appendChild(div);\n",
       "                    };\n",
       "                    var e = document.getElementById(\"9qaHuV\");\n",
       "                    e.appendChild(script);\n",
       "                })()\n",
       "            </script>\n",
       "            "
      ]
     },
     "metadata": {},
     "output_type": "display_data"
    },
    {
     "data": {
      "text/html": [
       "\n",
       "            <div id=\"ee7DQh\"></div>\n",
       "            <script type=\"text/javascript\" data-lets-plot-script=\"library\">\n",
       "                if(!window.letsPlotCallQueue) {\n",
       "                    window.letsPlotCallQueue = [];\n",
       "                }; \n",
       "                window.letsPlotCall = function(f) {\n",
       "                    window.letsPlotCallQueue.push(f);\n",
       "                };\n",
       "                (function() {\n",
       "                    var script = document.createElement(\"script\");\n",
       "                    script.type = \"text/javascript\";\n",
       "                    script.src = \"https://cdn.jsdelivr.net/gh/JetBrains/lets-plot@v4.5.1/js-package/distr/lets-plot.min.js\";\n",
       "                    script.onload = function() {\n",
       "                        window.letsPlotCall = function(f) {f();};\n",
       "                        window.letsPlotCallQueue.forEach(function(f) {f();});\n",
       "                        window.letsPlotCallQueue = [];\n",
       "                        \n",
       "                    };\n",
       "                    script.onerror = function(event) {\n",
       "                        window.letsPlotCall = function(f) {};    // noop\n",
       "                        window.letsPlotCallQueue = [];\n",
       "                        var div = document.createElement(\"div\");\n",
       "                        div.style.color = 'darkred';\n",
       "                        div.textContent = 'Error loading Lets-Plot JS';\n",
       "                        document.getElementById(\"ee7DQh\").appendChild(div);\n",
       "                    };\n",
       "                    var e = document.getElementById(\"ee7DQh\");\n",
       "                    e.appendChild(script);\n",
       "                })()\n",
       "            </script>\n",
       "            "
      ]
     },
     "metadata": {},
     "output_type": "display_data"
    }
   ],
   "source": [
    "import os\n",
    "import sys\n",
    "import warnings\n",
    "from datetime import datetime as dt\n",
    "\n",
    "import numpy as np\n",
    "import pandas as pd\n",
    "import pyfixest as pf\n",
    "from plotnine import *\n",
    "\n",
    "warnings.filterwarnings(\"ignore\")\n"
   ]
  },
  {
   "cell_type": "code",
   "execution_count": 2,
   "metadata": {},
   "outputs": [],
   "source": [
    "# Current script folder\n",
    "current_path = os.getcwd()\n",
    "dirname = current_path.split(\"da_case_studies\")[0]\n",
    "\n",
    "# location folders\n",
    "data_in = dirname + \"da_data_repo/football/clean/\"\n",
    "data_out = dirname + \"da_case_studies/ch24-football-manager-replace/\"\n",
    "output = dirname + \"da_case_studies/ch24-football-manager-replace/output/\"\n",
    "\n",
    "func = dirname + \"da_case_studies/ch00-tech-prep/\"\n",
    "sys.path.append(func)\n"
   ]
  },
  {
   "cell_type": "code",
   "execution_count": 3,
   "metadata": {},
   "outputs": [],
   "source": [
    "# Import the prewritten helper functions\n",
    "from py_helper_functions import *\n"
   ]
  },
  {
   "cell_type": "markdown",
   "metadata": {},
   "source": [
    "## Loading and preparing data"
   ]
  },
  {
   "cell_type": "code",
   "execution_count": 4,
   "metadata": {},
   "outputs": [],
   "source": [
    "data = pd.read_csv(data_in + \"football_managers_workfile.csv\")\n",
    "# data = pd.read_csv(\"https://osf.io/t6dgh/download\")\n"
   ]
  },
  {
   "cell_type": "code",
   "execution_count": 5,
   "metadata": {},
   "outputs": [],
   "source": [
    "data[\"date\"] = data[\"date\"].apply(lambda x: dt.strptime(x.strip()[0:10], \"%Y-%m-%d\"))\n"
   ]
  },
  {
   "cell_type": "code",
   "execution_count": 6,
   "metadata": {},
   "outputs": [
    {
     "data": {
      "text/html": [
       "<div>\n",
       "<style scoped>\n",
       "    .dataframe tbody tr th:only-of-type {\n",
       "        vertical-align: middle;\n",
       "    }\n",
       "\n",
       "    .dataframe tbody tr th {\n",
       "        vertical-align: top;\n",
       "    }\n",
       "\n",
       "    .dataframe thead th {\n",
       "        text-align: right;\n",
       "    }\n",
       "</style>\n",
       "<table border=\"1\" class=\"dataframe\">\n",
       "  <thead>\n",
       "    <tr style=\"text-align: right;\">\n",
       "      <th></th>\n",
       "      <th>season</th>\n",
       "      <th>gameno</th>\n",
       "      <th>points</th>\n",
       "    </tr>\n",
       "  </thead>\n",
       "  <tbody>\n",
       "    <tr>\n",
       "      <th>count</th>\n",
       "      <td>8360.000000</td>\n",
       "      <td>8360.000000</td>\n",
       "      <td>8360.000000</td>\n",
       "    </tr>\n",
       "    <tr>\n",
       "      <th>mean</th>\n",
       "      <td>2013.000000</td>\n",
       "      <td>19.500000</td>\n",
       "      <td>1.375957</td>\n",
       "    </tr>\n",
       "    <tr>\n",
       "      <th>std</th>\n",
       "      <td>3.162467</td>\n",
       "      <td>10.966512</td>\n",
       "      <td>1.318578</td>\n",
       "    </tr>\n",
       "    <tr>\n",
       "      <th>min</th>\n",
       "      <td>2008.000000</td>\n",
       "      <td>1.000000</td>\n",
       "      <td>0.000000</td>\n",
       "    </tr>\n",
       "    <tr>\n",
       "      <th>25%</th>\n",
       "      <td>2010.000000</td>\n",
       "      <td>10.000000</td>\n",
       "      <td>0.000000</td>\n",
       "    </tr>\n",
       "    <tr>\n",
       "      <th>50%</th>\n",
       "      <td>2013.000000</td>\n",
       "      <td>19.500000</td>\n",
       "      <td>1.000000</td>\n",
       "    </tr>\n",
       "    <tr>\n",
       "      <th>75%</th>\n",
       "      <td>2016.000000</td>\n",
       "      <td>29.000000</td>\n",
       "      <td>3.000000</td>\n",
       "    </tr>\n",
       "    <tr>\n",
       "      <th>max</th>\n",
       "      <td>2018.000000</td>\n",
       "      <td>38.000000</td>\n",
       "      <td>3.000000</td>\n",
       "    </tr>\n",
       "  </tbody>\n",
       "</table>\n",
       "</div>"
      ],
      "text/plain": [
       "            season       gameno       points\n",
       "count  8360.000000  8360.000000  8360.000000\n",
       "mean   2013.000000    19.500000     1.375957\n",
       "std       3.162467    10.966512     1.318578\n",
       "min    2008.000000     1.000000     0.000000\n",
       "25%    2010.000000    10.000000     0.000000\n",
       "50%    2013.000000    19.500000     1.000000\n",
       "75%    2016.000000    29.000000     3.000000\n",
       "max    2018.000000    38.000000     3.000000"
      ]
     },
     "execution_count": 6,
     "metadata": {},
     "output_type": "execute_result"
    }
   ],
   "source": [
    "# describe data\n",
    "data[[\"season\", \"team\", \"gameno\", \"points\"]].describe()\n"
   ]
  },
  {
   "cell_type": "markdown",
   "metadata": {},
   "source": [
    "### Jani megoldás commentelve"
   ]
  },
  {
   "cell_type": "code",
   "execution_count": 7,
   "metadata": {},
   "outputs": [],
   "source": [
    "data[\"shifted\"] = (\n",
    "    data.sort_values(by=[\"team\", \"season\", \"date\"])\n",
    "    .groupby([\"team\", \"season\"])[\"manager_id\"]\n",
    "    .shift()\n",
    ")  # helper column\n",
    "data = (\n",
    "    data.sort_values(by=[\"team\", \"season\", \"date\"])\n",
    "    .reset_index(drop=True)\n",
    "    .assign(\n",
    "        managchange=lambda x: np.where(  # create this variable based on ifelse with np.where\n",
    "            (x[\"manager_id\"] == x[\"shifted\"])\n",
    "            | (pd.isnull(x[\"shifted\"])),  # this is the first condition\n",
    "            np.where(\n",
    "                pd.isnull(x[\"shifted\"]), np.nan, 0\n",
    "            ),  # if first is true the true value is a second condition\n",
    "            1,  # if other conditions are false then this value will be assigned (first condition's false value)\n",
    "        )\n",
    "    )\n",
    "    .drop(\"shifted\", axis=1)  # dropping helper column\n",
    ")\n",
    "data[\"countmanagchange\"] = data.groupby([\"team\", \"season\"])[\"managchange\"].transform(\n",
    "    sum\n",
    ")  # counting changes with groupby\n"
   ]
  },
  {
   "cell_type": "code",
   "execution_count": 8,
   "metadata": {},
   "outputs": [
    {
     "data": {
      "text/plain": [
       "managchange\n",
       "0.0    8046\n",
       "NaN     220\n",
       "1.0      94\n",
       "Name: count, dtype: int64"
      ]
     },
     "execution_count": 8,
     "metadata": {},
     "output_type": "execute_result"
    }
   ],
   "source": [
    "data[\"managchange\"].value_counts(dropna=False)\n"
   ]
  },
  {
   "cell_type": "code",
   "execution_count": 9,
   "metadata": {},
   "outputs": [
    {
     "data": {
      "text/plain": [
       "countmanagchange\n",
       "0.0    151\n",
       "1.0     48\n",
       "2.0     17\n",
       "3.0      4\n",
       "dtype: int64"
      ]
     },
     "execution_count": 9,
     "metadata": {},
     "output_type": "execute_result"
    }
   ],
   "source": [
    "data[[\"countmanagchange\", \"team\", \"season\"]].groupby(\"countmanagchange\").apply(\n",
    "    lambda x: x.groupby([\"team\", \"season\"]).ngroups\n",
    ")\n"
   ]
  },
  {
   "cell_type": "markdown",
   "metadata": {},
   "source": [
    "##   BALANCED PANEL"
   ]
  },
  {
   "cell_type": "markdown",
   "metadata": {},
   "source": [
    "We define intervention as ***management change***:\n",
    " - at least 12 games before (since season started or previous management changed)\n",
    " - at least 12 games after (till season ends or next management change)"
   ]
  },
  {
   "cell_type": "code",
   "execution_count": 10,
   "metadata": {},
   "outputs": [],
   "source": [
    "data = data.merge(\n",
    "    data.sort_values(by=[\"team\", \"season\", \"date\"])\n",
    "    .groupby([\"team\", \"season\"])\n",
    "    .agg(max_gameno=(\"gameno\", max))\n",
    "    .reset_index(),\n",
    "    on=[\"team\", \"season\"],\n",
    ")\n"
   ]
  },
  {
   "cell_type": "code",
   "execution_count": 11,
   "metadata": {},
   "outputs": [],
   "source": [
    "data_aux = data.loc[lambda x: x[\"managchange\"] == 1].reset_index(drop=True)\n"
   ]
  },
  {
   "cell_type": "code",
   "execution_count": 12,
   "metadata": {},
   "outputs": [],
   "source": [
    "data_aux[\"gamesbefore\"] = None\n",
    "data_aux.loc[0, \"gamesbefore\"] = data_aux.loc[0, \"gameno\"] - 1\n",
    "for i in range(1, data_aux.shape[0]):\n",
    "    if (data_aux.loc[i, \"season\"] == data_aux.loc[i - 1, \"season\"]) & (\n",
    "        data_aux.loc[i, \"team\"] == data_aux.loc[i - 1, \"team\"]\n",
    "    ):\n",
    "        data_aux.loc[i, \"gamesbefore\"] = (\n",
    "            data_aux.loc[i, \"gameno\"] - data_aux.loc[i - 1, \"gameno\"]\n",
    "        )\n",
    "    else:\n",
    "        data_aux.loc[i, \"gamesbefore\"] = data_aux.loc[i, \"gameno\"] - 1\n"
   ]
  },
  {
   "cell_type": "code",
   "execution_count": 13,
   "metadata": {},
   "outputs": [],
   "source": [
    "data_aux[\"gamesafter\"] = None\n",
    "for i in range(0, data_aux.shape[0] - 1):\n",
    "    if (data_aux.loc[i, \"season\"] == data_aux.loc[i + 1, \"season\"]) & (\n",
    "        data_aux.loc[i, \"team\"] == data_aux.loc[i + 1, \"team\"]\n",
    "    ):\n",
    "        data_aux.loc[i, \"gamesafter\"] = (\n",
    "            data_aux.loc[i + 1, \"gameno\"] - data_aux.loc[i, \"gameno\"]\n",
    "        )\n",
    "    else:\n",
    "        data_aux.loc[i, \"gamesafter\"] = (\n",
    "            data_aux.loc[i, \"max_gameno\"] - data_aux.loc[i, \"gameno\"]\n",
    "        )\n"
   ]
  },
  {
   "cell_type": "code",
   "execution_count": 14,
   "metadata": {},
   "outputs": [],
   "source": [
    "data_aux[\"intervention\"] = np.where(\n",
    "    (data_aux[\"gamesbefore\"] < 12) | (data_aux[\"gamesafter\"] < 12),\n",
    "    0,\n",
    "    data_aux[\"managchange\"],\n",
    ")\n"
   ]
  },
  {
   "cell_type": "code",
   "execution_count": 15,
   "metadata": {},
   "outputs": [],
   "source": [
    "data_aux = data_aux[[\"team\", \"season\", \"date\", \"intervention\"]]\n"
   ]
  },
  {
   "cell_type": "code",
   "execution_count": 16,
   "metadata": {},
   "outputs": [
    {
     "data": {
      "text/plain": [
       "count    94.000000\n",
       "mean      0.351064\n",
       "std       0.479862\n",
       "min       0.000000\n",
       "25%       0.000000\n",
       "50%       0.000000\n",
       "75%       1.000000\n",
       "max       1.000000\n",
       "Name: intervention, dtype: float64"
      ]
     },
     "execution_count": 16,
     "metadata": {},
     "output_type": "execute_result"
    }
   ],
   "source": [
    "data_aux[\"intervention\"].describe()\n"
   ]
  },
  {
   "cell_type": "code",
   "execution_count": 17,
   "metadata": {},
   "outputs": [],
   "source": [
    "data_balanced = data.merge(data_aux, on=[\"team\", \"season\", \"date\"], how=\"left\")\n",
    "data_balanced[\"intervention\"] = data_balanced[\"intervention\"].fillna(0)\n"
   ]
  },
  {
   "cell_type": "code",
   "execution_count": 18,
   "metadata": {},
   "outputs": [],
   "source": [
    "data_balanced = data_balanced.merge(\n",
    "    data_balanced.groupby([\"team\", \"season\"])\n",
    "    .agg(countinterv=(\"intervention\", \"sum\"))\n",
    "    .reset_index(),\n",
    "    on=[\"team\", \"season\"],\n",
    "    how=\"left\",\n",
    ")\n"
   ]
  },
  {
   "cell_type": "code",
   "execution_count": 19,
   "metadata": {},
   "outputs": [
    {
     "data": {
      "text/plain": [
       "count    8360.000000\n",
       "mean        0.003947\n",
       "std         0.062708\n",
       "min         0.000000\n",
       "25%         0.000000\n",
       "50%         0.000000\n",
       "75%         0.000000\n",
       "max         1.000000\n",
       "Name: intervention, dtype: float64"
      ]
     },
     "execution_count": 19,
     "metadata": {},
     "output_type": "execute_result"
    }
   ],
   "source": [
    "data_balanced.intervention.describe()\n"
   ]
  },
  {
   "cell_type": "code",
   "execution_count": 20,
   "metadata": {},
   "outputs": [
    {
     "data": {
      "text/plain": [
       "count    8360.000000\n",
       "mean        0.150000\n",
       "std         0.357093\n",
       "min         0.000000\n",
       "25%         0.000000\n",
       "50%         0.000000\n",
       "75%         0.000000\n",
       "max         1.000000\n",
       "Name: countinterv, dtype: float64"
      ]
     },
     "execution_count": 20,
     "metadata": {},
     "output_type": "execute_result"
    }
   ],
   "source": [
    "data_balanced.countinterv.describe()\n"
   ]
  },
  {
   "cell_type": "code",
   "execution_count": 21,
   "metadata": {},
   "outputs": [],
   "source": [
    "data_balanced = data_balanced.merge(\n",
    "    data_balanced.groupby([\"team\", \"season\"])\n",
    "    .apply(lambda x: np.nanmin(np.where(x[\"intervention\"] == 1, x[\"gameno\"], np.nan)))\n",
    "    .reset_index()\n",
    "    .rename(columns={0: \"intervention_time\"}),\n",
    "    on=[\"team\", \"season\"],\n",
    "    how=\"left\",\n",
    ")\n"
   ]
  },
  {
   "cell_type": "code",
   "execution_count": 22,
   "metadata": {},
   "outputs": [],
   "source": [
    "data_balanced = data_balanced.merge(\n",
    "    data_balanced.groupby([\"team\", \"season\", \"date\"])\n",
    "    .apply(\n",
    "        lambda x: np.where(\n",
    "            np.isfinite(x[\"intervention_time\"]),\n",
    "            x[\"gameno\"] - x[\"intervention_time\"],\n",
    "            np.nan,\n",
    "        )[0]\n",
    "    )\n",
    "    .reset_index()\n",
    "    .rename(columns={0: \"t_event\"}),\n",
    "    on=[\"team\", \"season\", \"date\"],\n",
    "    how=\"left\",\n",
    ")\n"
   ]
  },
  {
   "cell_type": "code",
   "execution_count": 23,
   "metadata": {},
   "outputs": [],
   "source": [
    "data_balanced[\"t_event\"] = data_balanced.groupby([\"team\", \"season\", \"date\"])[\n",
    "    \"t_event\"\n",
    "].transform(lambda x: np.where((x >= 0) & (x <= 38), x + 1, x))\n"
   ]
  },
  {
   "cell_type": "code",
   "execution_count": 24,
   "metadata": {},
   "outputs": [],
   "source": [
    "data_balanced = data_balanced.loc[\n",
    "    lambda x: ((x[\"countinterv\"] == 1) & (x[\"t_event\"] >= -12) & (x[\"t_event\"] <= 12))\n",
    "    | (x[\"countmanagchange\"] == 0)\n",
    "]"
   ]
  },
  {
   "cell_type": "code",
   "execution_count": 25,
   "metadata": {},
   "outputs": [
    {
     "data": {
      "text/plain": [
       "countinterv\n",
       "0.0    151\n",
       "1.0     33\n",
       "dtype: int64"
      ]
     },
     "execution_count": 25,
     "metadata": {},
     "output_type": "execute_result"
    }
   ],
   "source": [
    "data_balanced.groupby(\"countinterv\").apply(\n",
    "    lambda x: x.groupby([\"team\", \"season\"]).ngroups\n",
    ")\n"
   ]
  },
  {
   "cell_type": "code",
   "execution_count": 26,
   "metadata": {},
   "outputs": [
    {
     "data": {
      "image/png": "[encoded data removed]",
      "text/plain": [
       "<Figure size 640x480 with 1 Axes>"
      ]
     },
     "metadata": {
      "image/png": {
       "height": 480,
       "width": 640
      }
     },
     "output_type": "display_data"
    },
    {
     "data": {
      "text/plain": [
       "<Figure Size: (640 x 480)>"
      ]
     },
     "execution_count": 26,
     "metadata": {},
     "output_type": "execute_result"
    }
   ],
   "source": [
    "# figure: average number interventions by game number\n",
    "(\n",
    "    ggplot(data_balanced, aes(x=\"gameno\", y=\"intervention\"))\n",
    "    + geom_col(fill=color[0], size=0.25, alpha=0.8, show_legend=False)\n",
    "    + labs(y=\"Number of manager changes\", x=\"Game number\")\n",
    "    + scale_y_continuous(expand=(0.0, 0.0), breaks=seq(1, 6, 1), limits=(0, 6))\n",
    "    + scale_x_continuous(\n",
    "        expand=(0.01, 0.01), breaks=np.arange(0, 38, 4), limits=(0, 38)\n",
    "    )\n",
    "    + theme_bw()\n",
    ")\n"
   ]
  },
  {
   "cell_type": "code",
   "execution_count": 27,
   "metadata": {},
   "outputs": [
    {
     "data": {
      "image/png": "[encoded data removed]",
      "text/plain": [
       "<Figure size 640x480 with 1 Axes>"
      ]
     },
     "metadata": {
      "image/png": {
       "height": 480,
       "width": 640
      }
     },
     "output_type": "display_data"
    },
    {
     "data": {
      "text/plain": [
       "<Figure Size: (640 x 480)>"
      ]
     },
     "execution_count": 27,
     "metadata": {},
     "output_type": "execute_result"
    }
   ],
   "source": [
    "data_plot = (\n",
    "    data_balanced.groupby(\"t_event\")\n",
    "    .agg(mean=(\"points\", \"mean\"))\n",
    "    .reset_index()\n",
    "    .assign(\n",
    "        t_event_6=lambda df: pd.cut(\n",
    "            df[\"t_event\"], bins=[-13, -6, 0, 1, 7, 13], right=False\n",
    "        )\n",
    "    )\n",
    ")\n",
    "data_plot = data_plot.merge(\n",
    "    data_plot.groupby(\"t_event_6\").agg(group_mean=(\"mean\", \"mean\")),\n",
    "    on=\"t_event_6\",\n",
    "    how=\"left\",\n",
    ")\n",
    "\n",
    "(\n",
    "    ggplot(data_plot, aes(x=\"t_event\", y=\"mean\"))\n",
    "    + geom_point(color=color[0])\n",
    "    + geom_line(\n",
    "        aes(x=\"t_event\", y=\"group_mean\", group=\"t_event_6\"),\n",
    "        size=1,\n",
    "        color=color[0],\n",
    "    )\n",
    "    + geom_vline(xintercept=0, color=color[2], size=1.5, linetype=\"dashed\")\n",
    "    + labs(y=\"Average points\", x=\"Event time: games before/after manager change\")\n",
    "    + scale_x_continuous(breaks=(-12, -6, -1, 1, 6, 12), limits=(-12, 12))\n",
    "    + scale_y_continuous(expand=(0.01, 0.01), breaks=seq(0, 1.6, 0.2), limits=(0, 1.7))\n",
    "    + annotate(\"text\", x=4, y=0.1, label=\"after\", size=10)\n",
    "    + annotate(\"text\", x=-6, y=0.1, label=\"before\", size=10)\n",
    "    + theme_bw()\n",
    ")"
   ]
  },
  {
   "cell_type": "markdown",
   "metadata": {},
   "source": [
    "## CREATE CONTORL GROUP WITH PSEUDO-INTERVENTIONS"
   ]
  },
  {
   "cell_type": "code",
   "execution_count": 28,
   "metadata": {},
   "outputs": [],
   "source": [
    "# for each game, define avg diff of points 12-7 before\n",
    "# dip: avg diff of points 6-1 before minus 12-7 before\n",
    "\n",
    "\n",
    "data_balanced[\"points_b_7_12\"] = (\n",
    "    data_balanced.sort_values(by=[\"team\", \"season\", \"date\"])\n",
    "    .groupby([\"team\", \"season\"])[\"points\"]\n",
    "    .transform(\n",
    "        lambda x: x.shift(12)\n",
    "        + x.shift(11)\n",
    "        + x.shift(10)\n",
    "        + x.shift(9)\n",
    "        + x.shift(8)\n",
    "        + x.shift(7),\n",
    "    )\n",
    ")\n",
    "\n",
    "data_balanced[\"points_b_1_6\"] = (\n",
    "    data_balanced.sort_values(by=[\"team\", \"season\", \"date\"])\n",
    "    .groupby([\"team\", \"season\"])[\"points\"]\n",
    "    .transform(\n",
    "        lambda x: x.shift(6)\n",
    "        + x.shift(5)\n",
    "        + x.shift(4)\n",
    "        + x.shift(3)\n",
    "        + x.shift(2)\n",
    "        + x.shift(1),\n",
    "    )\n",
    ")\n",
    "\n",
    "data_balanced = data_balanced.assign(\n",
    "    dip=lambda df: df[\"points_b_1_6\"] / 6 - df[\"points_b_7_12\"] / 6\n",
    ").assign(points_b_1=lambda df: df[\"points\"].shift(1))\n"
   ]
  },
  {
   "cell_type": "code",
   "execution_count": 29,
   "metadata": {},
   "outputs": [
    {
     "data": {
      "text/html": [
       "<div>\n",
       "<style scoped>\n",
       "    .dataframe tbody tr th:only-of-type {\n",
       "        vertical-align: middle;\n",
       "    }\n",
       "\n",
       "    .dataframe tbody tr th {\n",
       "        vertical-align: top;\n",
       "    }\n",
       "\n",
       "    .dataframe thead th {\n",
       "        text-align: right;\n",
       "    }\n",
       "</style>\n",
       "<table border=\"1\" class=\"dataframe\">\n",
       "  <thead>\n",
       "    <tr style=\"text-align: right;\">\n",
       "      <th></th>\n",
       "      <th>points_b_1_6</th>\n",
       "      <th>points_b_7_12</th>\n",
       "      <th>dip</th>\n",
       "      <th>points_b_1</th>\n",
       "    </tr>\n",
       "  </thead>\n",
       "  <tbody>\n",
       "    <tr>\n",
       "      <th>count</th>\n",
       "      <td>33.000000</td>\n",
       "      <td>33.000000</td>\n",
       "      <td>33.000000</td>\n",
       "      <td>33.000000</td>\n",
       "    </tr>\n",
       "    <tr>\n",
       "      <th>mean</th>\n",
       "      <td>4.242424</td>\n",
       "      <td>6.939394</td>\n",
       "      <td>-0.449495</td>\n",
       "      <td>0.151515</td>\n",
       "    </tr>\n",
       "    <tr>\n",
       "      <th>std</th>\n",
       "      <td>2.512846</td>\n",
       "      <td>3.436381</td>\n",
       "      <td>0.567470</td>\n",
       "      <td>0.364110</td>\n",
       "    </tr>\n",
       "    <tr>\n",
       "      <th>min</th>\n",
       "      <td>0.000000</td>\n",
       "      <td>0.000000</td>\n",
       "      <td>-1.333333</td>\n",
       "      <td>0.000000</td>\n",
       "    </tr>\n",
       "    <tr>\n",
       "      <th>25%</th>\n",
       "      <td>2.000000</td>\n",
       "      <td>5.000000</td>\n",
       "      <td>-1.000000</td>\n",
       "      <td>0.000000</td>\n",
       "    </tr>\n",
       "    <tr>\n",
       "      <th>50%</th>\n",
       "      <td>4.000000</td>\n",
       "      <td>6.000000</td>\n",
       "      <td>-0.333333</td>\n",
       "      <td>0.000000</td>\n",
       "    </tr>\n",
       "    <tr>\n",
       "      <th>75%</th>\n",
       "      <td>7.000000</td>\n",
       "      <td>9.000000</td>\n",
       "      <td>0.000000</td>\n",
       "      <td>0.000000</td>\n",
       "    </tr>\n",
       "    <tr>\n",
       "      <th>max</th>\n",
       "      <td>9.000000</td>\n",
       "      <td>16.000000</td>\n",
       "      <td>1.166667</td>\n",
       "      <td>1.000000</td>\n",
       "    </tr>\n",
       "  </tbody>\n",
       "</table>\n",
       "</div>"
      ],
      "text/plain": [
       "       points_b_1_6  points_b_7_12        dip  points_b_1\n",
       "count     33.000000      33.000000  33.000000   33.000000\n",
       "mean       4.242424       6.939394  -0.449495    0.151515\n",
       "std        2.512846       3.436381   0.567470    0.364110\n",
       "min        0.000000       0.000000  -1.333333    0.000000\n",
       "25%        2.000000       5.000000  -1.000000    0.000000\n",
       "50%        4.000000       6.000000  -0.333333    0.000000\n",
       "75%        7.000000       9.000000   0.000000    0.000000\n",
       "max        9.000000      16.000000   1.166667    1.000000"
      ]
     },
     "execution_count": 29,
     "metadata": {},
     "output_type": "execute_result"
    }
   ],
   "source": [
    "# summary stats of dip when intervention\n",
    "data_balanced.loc[lambda x: x[\"intervention\"] == 1][\n",
    "    [\"points_b_1_6\", \"points_b_7_12\", \"dip\", \"points_b_1\"]\n",
    "].describe()\n"
   ]
  },
  {
   "cell_type": "code",
   "execution_count": 30,
   "metadata": {},
   "outputs": [],
   "source": [
    "# set ranges to define control group\n",
    "points_b_7_12min = 5\n",
    "points_b_7_12max = 8\n",
    "dipmin = -1.33\n",
    "dipmax = -0.166\n",
    "points_b_1min = 0\n",
    "points_b_1max = 0\n"
   ]
  },
  {
   "cell_type": "code",
   "execution_count": 31,
   "metadata": {},
   "outputs": [],
   "source": [
    "data_balanced[\"pseudo\"] = np.where(\n",
    "    (data_balanced[\"countmanagchange\"] == 0)\n",
    "    & (data_balanced[\"dip\"] >= dipmin)\n",
    "    & (data_balanced[\"dip\"] <= dipmax)\n",
    "    & (data_balanced[\"points_b_7_12\"] >= points_b_7_12min)\n",
    "    & (data_balanced[\"points_b_7_12\"] <= points_b_7_12max)\n",
    "    & (data_balanced[\"points_b_1\"] >= points_b_1min)\n",
    "    & (data_balanced[\"points_b_1\"] <= points_b_1max)\n",
    "    & (data_balanced[\"gameno\"] < (38 - 12)),\n",
    "    1,\n",
    "    0,\n",
    ")\n"
   ]
  },
  {
   "cell_type": "code",
   "execution_count": 32,
   "metadata": {},
   "outputs": [
    {
     "data": {
      "text/plain": [
       "pseudo\n",
       "0    6398\n",
       "1     132\n",
       "Name: count, dtype: int64"
      ]
     },
     "execution_count": 32,
     "metadata": {},
     "output_type": "execute_result"
    }
   ],
   "source": [
    "data_balanced[\"pseudo\"].value_counts(dropna=False)\n"
   ]
  },
  {
   "cell_type": "code",
   "execution_count": 33,
   "metadata": {},
   "outputs": [
    {
     "data": {
      "text/html": [
       "<div>\n",
       "<style scoped>\n",
       "    .dataframe tbody tr th:only-of-type {\n",
       "        vertical-align: middle;\n",
       "    }\n",
       "\n",
       "    .dataframe tbody tr th {\n",
       "        vertical-align: top;\n",
       "    }\n",
       "\n",
       "    .dataframe thead th {\n",
       "        text-align: right;\n",
       "    }\n",
       "</style>\n",
       "<table border=\"1\" class=\"dataframe\">\n",
       "  <thead>\n",
       "    <tr style=\"text-align: right;\">\n",
       "      <th></th>\n",
       "      <th>points_b_7_12</th>\n",
       "      <th>dip</th>\n",
       "      <th>points_b_1</th>\n",
       "    </tr>\n",
       "  </thead>\n",
       "  <tbody>\n",
       "    <tr>\n",
       "      <th>count</th>\n",
       "      <td>132.000000</td>\n",
       "      <td>132.000000</td>\n",
       "      <td>132.0</td>\n",
       "    </tr>\n",
       "    <tr>\n",
       "      <th>mean</th>\n",
       "      <td>6.856061</td>\n",
       "      <td>-0.452020</td>\n",
       "      <td>0.0</td>\n",
       "    </tr>\n",
       "    <tr>\n",
       "      <th>std</th>\n",
       "      <td>1.027355</td>\n",
       "      <td>0.270496</td>\n",
       "      <td>0.0</td>\n",
       "    </tr>\n",
       "    <tr>\n",
       "      <th>min</th>\n",
       "      <td>5.000000</td>\n",
       "      <td>-1.166667</td>\n",
       "      <td>0.0</td>\n",
       "    </tr>\n",
       "    <tr>\n",
       "      <th>25%</th>\n",
       "      <td>6.000000</td>\n",
       "      <td>-0.666667</td>\n",
       "      <td>0.0</td>\n",
       "    </tr>\n",
       "    <tr>\n",
       "      <th>50%</th>\n",
       "      <td>7.000000</td>\n",
       "      <td>-0.500000</td>\n",
       "      <td>0.0</td>\n",
       "    </tr>\n",
       "    <tr>\n",
       "      <th>75%</th>\n",
       "      <td>8.000000</td>\n",
       "      <td>-0.166667</td>\n",
       "      <td>0.0</td>\n",
       "    </tr>\n",
       "    <tr>\n",
       "      <th>max</th>\n",
       "      <td>8.000000</td>\n",
       "      <td>-0.166667</td>\n",
       "      <td>0.0</td>\n",
       "    </tr>\n",
       "  </tbody>\n",
       "</table>\n",
       "</div>"
      ],
      "text/plain": [
       "       points_b_7_12         dip  points_b_1\n",
       "count     132.000000  132.000000       132.0\n",
       "mean        6.856061   -0.452020         0.0\n",
       "std         1.027355    0.270496         0.0\n",
       "min         5.000000   -1.166667         0.0\n",
       "25%         6.000000   -0.666667         0.0\n",
       "50%         7.000000   -0.500000         0.0\n",
       "75%         8.000000   -0.166667         0.0\n",
       "max         8.000000   -0.166667         0.0"
      ]
     },
     "execution_count": 33,
     "metadata": {},
     "output_type": "execute_result"
    }
   ],
   "source": [
    "data_balanced.loc[lambda x: x[\"pseudo\"] == 1].filter(\n",
    "    [\"points_b_7_12\", \"dip\", \"points_b_1\"]\n",
    ").describe()"
   ]
  },
  {
   "cell_type": "markdown",
   "metadata": {},
   "source": [
    " if more such games in a teamXseason, choose one randomly"
   ]
  },
  {
   "cell_type": "code",
   "execution_count": 34,
   "metadata": {},
   "outputs": [],
   "source": [
    "rng = np.random.default_rng(27845)\n",
    "data_balanced = pd.concat(\n",
    "    [\n",
    "        data_balanced.loc[~(data_balanced[\"pseudo\"] == 1)],\n",
    "        data_balanced.sort_values(by=[\"team\", \"season\"])\n",
    "        .loc[lambda x: x[\"pseudo\"] == 1]\n",
    "        .groupby([\"team\", \"season\"])\n",
    "        .agg(rng.choice)\n",
    "        .reset_index(),\n",
    "    ]\n",
    ").reset_index(drop=True)"
   ]
  },
  {
   "cell_type": "markdown",
   "metadata": {},
   "source": [
    "**Note**: In the textbook (2021 edition) we say  \"When there was more than one candidate game \n",
    "within the same season for the same team, we selected the first one in the season.\"\n",
    "\n",
    "\n",
    "In fact we mean \"..., we selected **one in the season randomly**.\""
   ]
  },
  {
   "cell_type": "code",
   "execution_count": 35,
   "metadata": {},
   "outputs": [
    {
     "data": {
      "text/plain": [
       "pseudo\n",
       "0    6398\n",
       "1      67\n",
       "Name: count, dtype: int64"
      ]
     },
     "execution_count": 35,
     "metadata": {},
     "output_type": "execute_result"
    }
   ],
   "source": [
    "data_balanced[\"pseudo\"].value_counts(dropna=False)\n"
   ]
  },
  {
   "cell_type": "code",
   "execution_count": 36,
   "metadata": {},
   "outputs": [
    {
     "data": {
      "text/html": [
       "<div>\n",
       "<style scoped>\n",
       "    .dataframe tbody tr th:only-of-type {\n",
       "        vertical-align: middle;\n",
       "    }\n",
       "\n",
       "    .dataframe tbody tr th {\n",
       "        vertical-align: top;\n",
       "    }\n",
       "\n",
       "    .dataframe thead th {\n",
       "        text-align: right;\n",
       "    }\n",
       "</style>\n",
       "<table border=\"1\" class=\"dataframe\">\n",
       "  <thead>\n",
       "    <tr style=\"text-align: right;\">\n",
       "      <th></th>\n",
       "      <th>points_b_7_12</th>\n",
       "      <th>dip</th>\n",
       "      <th>points_b_1</th>\n",
       "    </tr>\n",
       "  </thead>\n",
       "  <tbody>\n",
       "    <tr>\n",
       "      <th>count</th>\n",
       "      <td>67.000000</td>\n",
       "      <td>67.000000</td>\n",
       "      <td>67.0</td>\n",
       "    </tr>\n",
       "    <tr>\n",
       "      <th>mean</th>\n",
       "      <td>7.014925</td>\n",
       "      <td>-0.450249</td>\n",
       "      <td>0.0</td>\n",
       "    </tr>\n",
       "    <tr>\n",
       "      <th>std</th>\n",
       "      <td>0.895993</td>\n",
       "      <td>0.275264</td>\n",
       "      <td>0.0</td>\n",
       "    </tr>\n",
       "    <tr>\n",
       "      <th>min</th>\n",
       "      <td>5.000000</td>\n",
       "      <td>-1.166667</td>\n",
       "      <td>0.0</td>\n",
       "    </tr>\n",
       "    <tr>\n",
       "      <th>25%</th>\n",
       "      <td>7.000000</td>\n",
       "      <td>-0.583333</td>\n",
       "      <td>0.0</td>\n",
       "    </tr>\n",
       "    <tr>\n",
       "      <th>50%</th>\n",
       "      <td>7.000000</td>\n",
       "      <td>-0.500000</td>\n",
       "      <td>0.0</td>\n",
       "    </tr>\n",
       "    <tr>\n",
       "      <th>75%</th>\n",
       "      <td>8.000000</td>\n",
       "      <td>-0.166667</td>\n",
       "      <td>0.0</td>\n",
       "    </tr>\n",
       "    <tr>\n",
       "      <th>max</th>\n",
       "      <td>8.000000</td>\n",
       "      <td>-0.166667</td>\n",
       "      <td>0.0</td>\n",
       "    </tr>\n",
       "  </tbody>\n",
       "</table>\n",
       "</div>"
      ],
      "text/plain": [
       "       points_b_7_12        dip  points_b_1\n",
       "count      67.000000  67.000000        67.0\n",
       "mean        7.014925  -0.450249         0.0\n",
       "std         0.895993   0.275264         0.0\n",
       "min         5.000000  -1.166667         0.0\n",
       "25%         7.000000  -0.583333         0.0\n",
       "50%         7.000000  -0.500000         0.0\n",
       "75%         8.000000  -0.166667         0.0\n",
       "max         8.000000  -0.166667         0.0"
      ]
     },
     "execution_count": 36,
     "metadata": {},
     "output_type": "execute_result"
    }
   ],
   "source": [
    "data_balanced.loc[lambda x: x[\"pseudo\"] == 1][[\"points_b_7_12\", \"dip\", \"points_b_1\"]].describe()\n"
   ]
  },
  {
   "cell_type": "code",
   "execution_count": 37,
   "metadata": {},
   "outputs": [],
   "source": [
    "data_balanced = data_balanced.merge(\n",
    "    data_balanced.groupby([\"team\", \"season\"])\n",
    "    .agg(countpseudo=(\"pseudo\", sum))\n",
    "    .reset_index(),\n",
    "    on=[\"team\", \"season\"],\n",
    "    how=\"left\",\n",
    ")\n"
   ]
  },
  {
   "cell_type": "code",
   "execution_count": 38,
   "metadata": {},
   "outputs": [],
   "source": [
    "data_balanced = data_balanced.merge(\n",
    "    data_balanced.groupby([\"team\", \"season\"])\n",
    "    .apply(lambda x: np.nanmin(np.where(x[\"pseudo\"] == 1, x[\"gameno\"], np.nan)))\n",
    "    .reset_index()\n",
    "    .rename(columns={0: \"pseudo_time\"}),\n",
    "    on=[\"team\", \"season\"],\n",
    "    how=\"left\",\n",
    ")\n"
   ]
  },
  {
   "cell_type": "code",
   "execution_count": 39,
   "metadata": {},
   "outputs": [],
   "source": [
    "data_balanced = data_balanced.merge(\n",
    "    data_balanced.groupby([\"team\", \"season\", \"date\"])\n",
    "    .apply(\n",
    "        lambda x: np.where(\n",
    "            np.isfinite(x[\"pseudo_time\"]),\n",
    "            x[\"gameno\"] - x[\"pseudo_time\"],\n",
    "            np.nan,\n",
    "        )[0]\n",
    "    )\n",
    "    .reset_index()\n",
    "    .rename(columns={0: \"t_pseudo\"}),\n",
    "    on=[\"team\", \"season\", \"date\"],\n",
    "    how=\"left\",\n",
    ")\n"
   ]
  },
  {
   "cell_type": "code",
   "execution_count": 40,
   "metadata": {},
   "outputs": [],
   "source": [
    "data_balanced[\"t_pseudo\"] = data_balanced.groupby([\"team\", \"season\", \"date\"])[\n",
    "    \"t_pseudo\"\n",
    "].transform(lambda x: np.where((x >= 0) & (x <= 38), x + 1, x))\n"
   ]
  },
  {
   "cell_type": "code",
   "execution_count": 41,
   "metadata": {},
   "outputs": [],
   "source": [
    "data_balanced = (\n",
    "    data_balanced.merge(\n",
    "        data_balanced.groupby([\"team\", \"season\", \"date\"])\n",
    "        .apply(\n",
    "            lambda x: np.where(\n",
    "                np.isnan(x[\"t_event\"]),\n",
    "                x[\"t_pseudo\"],\n",
    "                x[\"t_event\"],\n",
    "            )[0]\n",
    "        )\n",
    "        .reset_index()\n",
    "        .rename(columns={0: \"t_event\"}),\n",
    "        on=[\"team\", \"season\", \"date\"],\n",
    "        how=\"left\",\n",
    "    )\n",
    "    .drop(columns=[\"t_event_x\"])\n",
    "    .rename(columns={\"t_event_y\": \"t_event\"})\n",
    ")\n"
   ]
  },
  {
   "cell_type": "code",
   "execution_count": 42,
   "metadata": {},
   "outputs": [],
   "source": [
    "data_balanced = data_balanced.loc[\n",
    "    lambda x: (x[\"t_event\"] >= -12) & (x[\"t_event\"] <= 12)\n",
    "]"
   ]
  },
  {
   "cell_type": "code",
   "execution_count": 43,
   "metadata": {},
   "outputs": [
    {
     "data": {
      "text/plain": [
       "countinterv  countpseudo\n",
       "0.0          1              67\n",
       "1.0          0              33\n",
       "dtype: int64"
      ]
     },
     "execution_count": 43,
     "metadata": {},
     "output_type": "execute_result"
    }
   ],
   "source": [
    "data_balanced.groupby([\"countinterv\", \"countpseudo\"]).apply(\n",
    "    lambda x: x.groupby([\"team\", \"season\"]).ngroups\n",
    ")\n"
   ]
  },
  {
   "cell_type": "markdown",
   "metadata": {},
   "source": [
    "## FIGURE with intervention and pseudo-intervention averages"
   ]
  },
  {
   "cell_type": "code",
   "execution_count": 44,
   "metadata": {},
   "outputs": [
    {
     "data": {
      "image/png": "[encoded data removed]",
      "text/plain": [
       "<Figure size 640x480 with 1 Axes>"
      ]
     },
     "metadata": {
      "image/png": {
       "height": 480,
       "width": 640
      }
     },
     "output_type": "display_data"
    },
    {
     "data": {
      "text/plain": [
       "<Figure Size: (640 x 480)>"
      ]
     },
     "execution_count": 44,
     "metadata": {},
     "output_type": "execute_result"
    }
   ],
   "source": [
    "data_plot = (\n",
    "    data_balanced.groupby([\"t_event\", \"countinterv\", \"countpseudo\"])\n",
    "    .agg(mean=(\"points\", \"mean\"))\n",
    "    .reset_index()\n",
    "    .assign(\n",
    "        t_event_6=lambda df: pd.cut(\n",
    "            df[\"t_event\"], bins=[-13, -6, 0, 1, 7, 13], right=False\n",
    "        )\n",
    "    )\n",
    ")\n",
    "data_plot = data_plot.merge(\n",
    "    data_plot.groupby([\"t_event_6\", \"countpseudo\"]).agg(group_mean=(\"mean\", \"mean\")),\n",
    "    on=[\"t_event_6\", \"countpseudo\"],\n",
    "    how=\"left\",\n",
    ")\n",
    "data_plot[\"countpseudo\"] = data_plot[\"countpseudo\"].astype(\"category\")\n",
    "\n",
    "(\n",
    "    ggplot(data_plot, aes(x=\"t_event\", y=\"mean\", color=\"countpseudo\"))\n",
    "    + geom_point()\n",
    "    + geom_line(\n",
    "        data_plot.loc[lambda x: x[\"countpseudo\"] == 0],\n",
    "        aes(x=\"t_event\", y=\"group_mean\", group=\"t_event_6\"),\n",
    "        size=1,\n",
    "    )\n",
    "    + geom_line(\n",
    "        data_plot.loc[lambda x: x[\"countpseudo\"] == 1],\n",
    "        aes(x=\"t_event\", y=\"group_mean\", group=\"t_event_6\"),\n",
    "        size=1,\n",
    "    )\n",
    "    + scale_color_manual(\n",
    "        values=color[0:2], labels=(\"intervention\", \"pseudo intervention\")\n",
    "    )\n",
    "    + geom_vline(xintercept=0, color=color[2], size=1.5, linetype=\"dashed\")\n",
    "    + labs(y=\"Average points\", x=\"Event time: games before/after manager change\")\n",
    "    + scale_x_continuous(breaks=(-12, -6, -1, 1, 6, 12), limits=(-12, 12))\n",
    "    + scale_y_continuous(\n",
    "        expand=(0.01, 0.01), breaks=seq(0, 1.6, 0.2), limits=(0, 1.7)\n",
    "    )\n",
    "    + annotate(\"text\", x=4, y=0.1, label=\"after\", size=9)\n",
    "    + annotate(\"text\", x=-6, y=0.1, label=\"before\", size=9)\n",
    "    + theme_bw()\n",
    "    + theme(\n",
    "        legend_position=(0.77, 0.25),\n",
    "        legend_direction=\"vertical\",\n",
    "        legend_title=element_blank(),\n",
    "        legend_background=element_blank(),\n",
    "        legend_box_background=element_rect(color=\"white\"),\n",
    "    )\n",
    ")"
   ]
  },
  {
   "cell_type": "markdown",
   "metadata": {},
   "source": [
    "## REGRESSION with 6-game averages"
   ]
  },
  {
   "cell_type": "code",
   "execution_count": 45,
   "metadata": {},
   "outputs": [],
   "source": [
    "data_balanced_agg = (\n",
    "    data_balanced.assign(\n",
    "        teamseason=lambda df: df[\"team\"] + \"_\" + df[\"season\"].astype(str)\n",
    "    )\n",
    "    .assign(\n",
    "        t6_event=lambda df: pd.cut(\n",
    "            df[\"t_event\"], bins=[-13, -6, 0, 1, 7, 13], right=False\n",
    "        )\n",
    "    )\n",
    "    .groupby([\"teamseason\", \"t6_event\"])\n",
    "    .agg(treated=(\"countinterv\", \"mean\"), points6avg=(\"points\", \"mean\"))\n",
    "    .reset_index()\n",
    "    .dropna()\n",
    "    .assign(Dp6avg=lambda df: df.groupby(\"teamseason\")[\"points6avg\"].transform(\"diff\"))\n",
    ")\n"
   ]
  },
  {
   "cell_type": "code",
   "execution_count": 46,
   "metadata": {},
   "outputs": [],
   "source": [
    "data_balanced_agg = pd.concat(\n",
    "    [data_balanced_agg, pd.get_dummies(data_balanced_agg[\"t6_event\"])], axis=1\n",
    ").iloc[:, [0, 1, 2, 3, 4, 5, 6, 8, 9]]\n"
   ]
  },
  {
   "cell_type": "code",
   "execution_count": 47,
   "metadata": {},
   "outputs": [],
   "source": [
    "data_balanced_agg.columns = [\n",
    "    \"teamseason\",\n",
    "    \"t6_event\",\n",
    "    \"treated\",\n",
    "    \"points6avg\",\n",
    "    \"Dp6avg\",\n",
    "    \"before_7_12\",\n",
    "    \"before_1_6\",\n",
    "    \"after_1_6\",\n",
    "    \"after_7_12\",\n",
    "]\n"
   ]
  },
  {
   "cell_type": "code",
   "execution_count": 48,
   "metadata": {},
   "outputs": [],
   "source": [
    "data_balanced_agg[[\"before_7_12\", \"before_1_6\", \"after_1_6\", \"after_7_12\"]] = (\n",
    "    data_balanced_agg[[\"before_7_12\", \"before_1_6\", \"after_1_6\", \"after_7_12\"]].astype(\n",
    "        int\n",
    "    )\n",
    ")"
   ]
  },
  {
   "cell_type": "code",
   "execution_count": 49,
   "metadata": {},
   "outputs": [
    {
     "data": {
      "text/html": [
       "<div>\n",
       "<style scoped>\n",
       "    .dataframe tbody tr th:only-of-type {\n",
       "        vertical-align: middle;\n",
       "    }\n",
       "\n",
       "    .dataframe tbody tr th {\n",
       "        vertical-align: top;\n",
       "    }\n",
       "\n",
       "    .dataframe thead th {\n",
       "        text-align: right;\n",
       "    }\n",
       "</style>\n",
       "<table border=\"1\" class=\"dataframe\">\n",
       "  <thead>\n",
       "    <tr style=\"text-align: right;\">\n",
       "      <th></th>\n",
       "      <th>Dp6avg</th>\n",
       "      <th>after_1_6</th>\n",
       "      <th>after_7_12</th>\n",
       "    </tr>\n",
       "  </thead>\n",
       "  <tbody>\n",
       "    <tr>\n",
       "      <th>count</th>\n",
       "      <td>300.000000</td>\n",
       "      <td>400.000000</td>\n",
       "      <td>400.000000</td>\n",
       "    </tr>\n",
       "    <tr>\n",
       "      <th>mean</th>\n",
       "      <td>0.038500</td>\n",
       "      <td>0.250000</td>\n",
       "      <td>0.250000</td>\n",
       "    </tr>\n",
       "    <tr>\n",
       "      <th>std</th>\n",
       "      <td>0.711752</td>\n",
       "      <td>0.433555</td>\n",
       "      <td>0.433555</td>\n",
       "    </tr>\n",
       "    <tr>\n",
       "      <th>min</th>\n",
       "      <td>-1.666667</td>\n",
       "      <td>0.000000</td>\n",
       "      <td>0.000000</td>\n",
       "    </tr>\n",
       "    <tr>\n",
       "      <th>25%</th>\n",
       "      <td>-0.500000</td>\n",
       "      <td>0.000000</td>\n",
       "      <td>0.000000</td>\n",
       "    </tr>\n",
       "    <tr>\n",
       "      <th>50%</th>\n",
       "      <td>-0.016667</td>\n",
       "      <td>0.000000</td>\n",
       "      <td>0.000000</td>\n",
       "    </tr>\n",
       "    <tr>\n",
       "      <th>75%</th>\n",
       "      <td>0.500000</td>\n",
       "      <td>0.250000</td>\n",
       "      <td>0.250000</td>\n",
       "    </tr>\n",
       "    <tr>\n",
       "      <th>max</th>\n",
       "      <td>2.333333</td>\n",
       "      <td>1.000000</td>\n",
       "      <td>1.000000</td>\n",
       "    </tr>\n",
       "  </tbody>\n",
       "</table>\n",
       "</div>"
      ],
      "text/plain": [
       "           Dp6avg   after_1_6  after_7_12\n",
       "count  300.000000  400.000000  400.000000\n",
       "mean     0.038500    0.250000    0.250000\n",
       "std      0.711752    0.433555    0.433555\n",
       "min     -1.666667    0.000000    0.000000\n",
       "25%     -0.500000    0.000000    0.000000\n",
       "50%     -0.016667    0.000000    0.000000\n",
       "75%      0.500000    0.250000    0.250000\n",
       "max      2.333333    1.000000    1.000000"
      ]
     },
     "execution_count": 49,
     "metadata": {},
     "output_type": "execute_result"
    }
   ],
   "source": [
    "data_balanced_agg[[\"Dp6avg\", \"after_1_6\", \"after_7_12\"]].describe()\n"
   ]
  },
  {
   "cell_type": "markdown",
   "metadata": {},
   "source": [
    "### FD REGRESSIONS"
   ]
  },
  {
   "cell_type": "code",
   "execution_count": 50,
   "metadata": {},
   "outputs": [],
   "source": [
    "fd_treatment = pf.feols(\n",
    "    \"Dp6avg ~ after_1_6 + after_7_12\",\n",
    "    data=data_balanced_agg.loc[lambda x: x[\"treated\"] == 1],\n",
    "    vcov={\"CRV1\": \"teamseason\"},\n",
    ")\n",
    "fd_control = pf.feols(\n",
    "    \"Dp6avg ~ after_1_6 + after_7_12\",\n",
    "    data=data_balanced_agg.loc[lambda x: x[\"treated\"] == 0],\n",
    "    vcov={\"CRV1\": \"teamseason\"},\n",
    ")\n",
    "fd = pf.feols(\n",
    "    \"Dp6avg ~ after_1_6 + after_7_12 + treated + I(treated*after_1_6) + I(treated*after_7_12)\",\n",
    "    data=data_balanced_agg,\n",
    "    vcov={\"CRV1\": \"teamseason\"},\n",
    ")"
   ]
  },
  {
   "cell_type": "markdown",
   "metadata": {},
   "source": [
    "### Table 24.1 The effect of replacing managers: FD regressions with changes between six-game-average points"
   ]
  },
  {
   "cell_type": "code",
   "execution_count": 51,
   "metadata": {},
   "outputs": [
    {
     "data": {
      "text/html": [
       "<div id=\"kyeqjjeovu\" style=\"padding-left:0px;padding-right:0px;padding-top:10px;padding-bottom:10px;overflow-x:auto;overflow-y:auto;width:auto;height:auto;\">\n",
       "<style>\n",
       "#kyeqjjeovu table {\n",
       "          font-family: -apple-system, BlinkMacSystemFont, 'Segoe UI', Roboto, Oxygen, Ubuntu, Cantarell, 'Helvetica Neue', 'Fira Sans', 'Droid Sans', Arial, sans-serif;\n",
       "          -webkit-font-smoothing: antialiased;\n",
       "          -moz-osx-font-smoothing: grayscale;\n",
       "        }\n",
       "\n",
       "#kyeqjjeovu thead, tbody, tfoot, tr, td, th { border-style: none !important; }\n",
       " tr { background-color: transparent !important; }\n",
       "#kyeqjjeovu p { margin: 0 !important; padding: 0 !important; }\n",
       " #kyeqjjeovu .gt_table { display: table !important; border-collapse: collapse !important; line-height: normal !important; margin-left: auto !important; margin-right: auto !important; color: #333333 !important; font-size: 16px !important; font-weight: normal !important; font-style: normal !important; background-color: #FFFFFF !important; width: auto !important; border-top-style: solid !important; border-top-width: 2px !important; border-top-color: #A8A8A8 !important; border-right-style: none !important; border-right-width: 2px !important; border-right-color: #D3D3D3 !important; border-bottom-style: hidden !important; border-bottom-width: 2px !important; border-bottom-color: #A8A8A8 !important; border-left-style: none !important; border-left-width: 2px !important; border-left-color: #D3D3D3 !important; }\n",
       " #kyeqjjeovu .gt_caption { padding-top: 4px !important; padding-bottom: 4px !important; }\n",
       " #kyeqjjeovu .gt_title { color: #333333 !important; font-size: 125% !important; font-weight: initial !important; padding-top: 4px !important; padding-bottom: 4px !important; padding-left: 5px !important; padding-right: 5px !important; border-bottom-color: #FFFFFF !important; border-bottom-width: 0 !important; }\n",
       " #kyeqjjeovu .gt_subtitle { color: #333333 !important; font-size: 85% !important; font-weight: initial !important; padding-top: 3px !important; padding-bottom: 5px !important; padding-left: 5px !important; padding-right: 5px !important; border-top-color: #FFFFFF !important; border-top-width: 0 !important; }\n",
       " #kyeqjjeovu .gt_heading { background-color: #FFFFFF !important; text-align: center !important; border-bottom-color: #FFFFFF !important; border-left-style: none !important; border-left-width: 1px !important; border-left-color: #D3D3D3 !important; border-right-style: none !important; border-right-width: 1px !important; border-right-color: #D3D3D3 !important; }\n",
       " #kyeqjjeovu .gt_bottom_border { border-bottom-style: solid !important; border-bottom-width: 2px !important; border-bottom-color: #D3D3D3 !important; }\n",
       " #kyeqjjeovu .gt_col_headings { border-top-style: solid !important; border-top-width: 2px !important; border-top-color: black !important; border-bottom-style: solid !important; border-bottom-width: 0.5px !important; border-bottom-color: black !important; border-left-style: none !important; border-left-width: 1px !important; border-left-color: #D3D3D3 !important; border-right-style: none !important; border-right-width: 1px !important; border-right-color: #D3D3D3 !important; }\n",
       " #kyeqjjeovu .gt_col_heading { color: #333333 !important; background-color: #FFFFFF !important; font-size: 100% !important; font-weight: normal !important; text-transform: inherit !important; border-left-style: none !important; border-left-width: 0px !important; border-left-color: white !important; border-right-style: none !important; border-right-width: 0px !important; border-right-color: white !important; vertical-align: bottom !important; padding-top: 4px !important; padding-bottom: 5px !important; padding-left: 5px !important; padding-right: 5px !important; overflow-x: hidden !important; }\n",
       " #kyeqjjeovu .gt_column_spanner_outer { color: #333333 !important; background-color: #FFFFFF !important; font-size: 100% !important; font-weight: normal !important; text-transform: inherit !important; padding-top: 0 !important; padding-bottom: 0 !important; padding-left: 4px !important; padding-right: 4px !important; }\n",
       " #kyeqjjeovu .gt_column_spanner_outer:first-child { padding-left: 0 !important; }\n",
       " #kyeqjjeovu .gt_column_spanner_outer:last-child { padding-right: 0 !important; }\n",
       " #kyeqjjeovu .gt_column_spanner { border-bottom-style: solid !important; border-bottom-width: 0.5px !important; border-bottom-color: black !important; vertical-align: bottom !important; padding-top: 4px !important; padding-bottom: 4px !important; overflow-x: hidden !important; display: inline-block !important; width: 100% !important; }\n",
       " #kyeqjjeovu .gt_spanner_row { border-bottom-style: hidden !important; }\n",
       " #kyeqjjeovu .gt_group_heading { padding-top: 0px !important; padding-bottom: 0px !important; padding-left: 5px !important; padding-right: 5px !important; color: #333333 !important; background-color: #FFFFFF !important; font-size: 0px !important; font-weight: initial !important; text-transform: inherit !important; border-top-style: solid !important; border-top-width: 0.5px !important; border-top-color: black !important; border-bottom-style: solid !important; border-bottom-width: 0.5px !important; border-bottom-color: black !important; border-left-style: none !important; border-left-width: 1px !important; border-left-color: white !important; border-right-style: none !important; border-right-width: 1px !important; border-right-color: white !important; vertical-align: middle !important; text-align: left !important; }\n",
       " #kyeqjjeovu .gt_empty_group_heading { padding: 0.5px !important; color: #333333 !important; background-color: #FFFFFF !important; font-size: 0px !important; font-weight: initial !important; border-top-style: solid !important; border-top-width: 0.5px !important; border-top-color: black !important; border-bottom-style: solid !important; border-bottom-width: 0.5px !important; border-bottom-color: black !important; vertical-align: middle !important; }\n",
       " #kyeqjjeovu .gt_from_md> :first-child { margin-top: 0 !important; }\n",
       " #kyeqjjeovu .gt_from_md> :last-child { margin-bottom: 0 !important; }\n",
       " #kyeqjjeovu .gt_row { padding-top: 4px !important; padding-bottom: 4px !important; padding-left: 5px !important; padding-right: 5px !important; margin: 10px !important; border-top-style: none !important; border-top-width: 1px !important; border-top-color: #D3D3D3 !important; border-left-style: none !important; border-left-width: 0px !important; border-left-color: white !important; border-right-style: none !important; border-right-width: 0px !important; border-right-color: white !important; vertical-align: middle !important; overflow-x: hidden !important; }\n",
       " #kyeqjjeovu .gt_stub { color: #333333 !important; background-color: #FFFFFF !important; font-size: 100% !important; font-weight: initial !important; text-transform: inherit !important; border-right-style: hidden !important; border-right-width: 2px !important; border-right-color: #D3D3D3 !important; padding-left: 5px !important; padding-right: 5px !important; }\n",
       " #kyeqjjeovu .gt_stub_row_group { color: #333333 !important; background-color: #FFFFFF !important; font-size: 100% !important; font-weight: initial !important; text-transform: inherit !important; border-right-style: solid !important; border-right-width: 2px !important; border-right-color: #D3D3D3 !important; padding-left: 5px !important; padding-right: 5px !important; vertical-align: top !important; }\n",
       " #kyeqjjeovu .gt_row_group_first td { border-top-width: 0.5px !important; }\n",
       " #kyeqjjeovu .gt_row_group_first th { border-top-width: 0.5px !important; }\n",
       " #kyeqjjeovu .gt_striped { background-color: rgba(128,128,128,0.05) !important; }\n",
       " #kyeqjjeovu .gt_table_body { border-top-style: solid !important; border-top-width: 0.5px !important; border-top-color: black !important; border-bottom-style: solid !important; border-bottom-width: 2px !important; border-bottom-color: black !important; }\n",
       " #kyeqjjeovu .gt_sourcenotes { color: #333333 !important; background-color: #FFFFFF !important; border-bottom-style: none !important; border-bottom-width: 2px !important; border-bottom-color: #D3D3D3 !important; border-left-style: none !important; border-left-width: 2px !important; border-left-color: #D3D3D3 !important; border-right-style: none !important; border-right-width: 2px !important; border-right-color: #D3D3D3 !important; }\n",
       " #kyeqjjeovu .gt_sourcenote { font-size: 90% !important; padding-top: 4px !important; padding-bottom: 4px !important; padding-left: 5px !important; padding-right: 5px !important; text-align: left !important; }\n",
       " #kyeqjjeovu .gt_left { text-align: left !important; }\n",
       " #kyeqjjeovu .gt_center { text-align: center !important; }\n",
       " #kyeqjjeovu .gt_right { text-align: right !important; font-variant-numeric: tabular-nums !important; }\n",
       " #kyeqjjeovu .gt_font_normal { font-weight: normal !important; }\n",
       " #kyeqjjeovu .gt_font_bold { font-weight: bold !important; }\n",
       " #kyeqjjeovu .gt_font_italic { font-style: italic !important; }\n",
       " #kyeqjjeovu .gt_super { font-size: 65% !important; }\n",
       " #kyeqjjeovu .gt_footnote_marks { font-size: 75% !important; vertical-align: 0.4em !important; position: initial !important; }\n",
       " #kyeqjjeovu .gt_asterisk { font-size: 100% !important; vertical-align: 0 !important; }\n",
       " \n",
       "</style>\n",
       "<table class=\"gt_table\" data-quarto-disable-processing=\"false\" data-quarto-bootstrap=\"false\">\n",
       "<thead>\n",
       "\n",
       "<tr class=\"gt_col_headings gt_spanner_row\">\n",
       "  <th class=\"gt_col_heading gt_columns_bottom_border gt_left\" rowspan=\"2\" colspan=\"1\" scope=\"col\" id=\"\"></th>\n",
       "  <th class=\"gt_center gt_columns_top_border gt_column_spanner_outer\" rowspan=\"1\" colspan=\"1\" scope=\"col\" id=\"Treatment\">\n",
       "    <span class=\"gt_column_spanner\">Treatment</span>\n",
       "  </th>\n",
       "  <th class=\"gt_center gt_columns_top_border gt_column_spanner_outer\" rowspan=\"1\" colspan=\"1\" scope=\"col\" id=\"Control\">\n",
       "    <span class=\"gt_column_spanner\">Control</span>\n",
       "  </th>\n",
       "  <th class=\"gt_center gt_columns_top_border gt_column_spanner_outer\" rowspan=\"1\" colspan=\"1\" scope=\"col\" id=\"Treatment + control\">\n",
       "    <span class=\"gt_column_spanner\">Treatment + control</span>\n",
       "  </th>\n",
       "</tr>\n",
       "<tr class=\"gt_col_headings\">\n",
       "  <th class=\"gt_col_heading gt_columns_bottom_border gt_center\" rowspan=\"1\" colspan=\"1\" scope=\"col\" id=\"(1)\">(1)</th>\n",
       "  <th class=\"gt_col_heading gt_columns_bottom_border gt_center\" rowspan=\"1\" colspan=\"1\" scope=\"col\" id=\"(2)\">(2)</th>\n",
       "  <th class=\"gt_col_heading gt_columns_bottom_border gt_center\" rowspan=\"1\" colspan=\"1\" scope=\"col\" id=\"(3)\">(3)</th>\n",
       "</tr>\n",
       "</thead>\n",
       "<tbody class=\"gt_table_body\">\n",
       "  <tr class=\"gt_group_heading_row\">\n",
       "    <th class=\"gt_group_heading\" colspan=\"4\">coef</th>\n",
       "  </tr>\n",
       "  <tr>\n",
       "    <th class=\"gt_row gt_left gt_stub\">post 1 − 6</th>\n",
       "    <td class=\"gt_row gt_center\">1.11*** <br> (0.19)</td>\n",
       "    <td class=\"gt_row gt_center\">0.96*** <br> (0.09)</td>\n",
       "    <td class=\"gt_row gt_center\">0.96*** <br> (0.09)</td>\n",
       "  </tr>\n",
       "  <tr>\n",
       "    <th class=\"gt_row gt_left gt_stub\">post 7 − 12</th>\n",
       "    <td class=\"gt_row gt_center\">0.37* <br> (0.16)</td>\n",
       "    <td class=\"gt_row gt_center\">0.36*** <br> (0.09)</td>\n",
       "    <td class=\"gt_row gt_center\">0.36*** <br> (0.09)</td>\n",
       "  </tr>\n",
       "  <tr>\n",
       "    <th class=\"gt_row gt_left gt_stub\">treated</th>\n",
       "    <td class=\"gt_row gt_center\"></td>\n",
       "    <td class=\"gt_row gt_center\"></td>\n",
       "    <td class=\"gt_row gt_center\">-0.05 <br> (0.11)</td>\n",
       "  </tr>\n",
       "  <tr>\n",
       "    <th class=\"gt_row gt_left gt_stub\">treated × post 1 − 6</th>\n",
       "    <td class=\"gt_row gt_center\"></td>\n",
       "    <td class=\"gt_row gt_center\"></td>\n",
       "    <td class=\"gt_row gt_center\">0.15 <br> (0.21)</td>\n",
       "  </tr>\n",
       "  <tr>\n",
       "    <th class=\"gt_row gt_left gt_stub\">treated × post 7 − 12</th>\n",
       "    <td class=\"gt_row gt_center\"></td>\n",
       "    <td class=\"gt_row gt_center\"></td>\n",
       "    <td class=\"gt_row gt_center\">0.01 <br> (0.18)</td>\n",
       "  </tr>\n",
       "  <tr>\n",
       "    <th class=\"gt_row gt_left gt_stub\">Constant</th>\n",
       "    <td class=\"gt_row gt_center\">-0.45*** <br> (0.10)</td>\n",
       "    <td class=\"gt_row gt_center\">-0.40*** <br> (0.04)</td>\n",
       "    <td class=\"gt_row gt_center\">-0.40*** <br> (0.04)</td>\n",
       "  </tr>\n",
       "  <tr class=\"gt_group_heading_row\">\n",
       "    <th class=\"gt_group_heading\" colspan=\"4\">stats</th>\n",
       "  </tr>\n",
       "  <tr>\n",
       "    <th class=\"gt_row gt_left gt_stub\">Observations</th>\n",
       "    <td class=\"gt_row gt_center\">99</td>\n",
       "    <td class=\"gt_row gt_center\">201</td>\n",
       "    <td class=\"gt_row gt_center\">300</td>\n",
       "  </tr>\n",
       "  <tr>\n",
       "    <th class=\"gt_row gt_left gt_stub\">R<sup>2</sup></th>\n",
       "    <td class=\"gt_row gt_center\">0.33</td>\n",
       "    <td class=\"gt_row gt_center\">0.35</td>\n",
       "    <td class=\"gt_row gt_center\">0.35</td>\n",
       "  </tr>\n",
       "</tbody>\n",
       "  <tfoot class=\"gt_sourcenotes\">\n",
       "  \n",
       "  <tr>\n",
       "    <td class=\"gt_sourcenote\" colspan=\"4\"></td>\n",
       "  </tr>\n",
       "\n",
       "</tfoot>\n",
       "\n",
       "</table>\n",
       "\n",
       "</div>\n",
       "        "
      ],
      "text/plain": [
       "GT(_tbl_data=  level_0                level_1                     0                     1  \\\n",
       "0    coef             post 1 − 6   1.11*** <br> (0.19)   0.96*** <br> (0.09)   \n",
       "1    coef            post 7 − 12     0.37* <br> (0.16)   0.36*** <br> (0.09)   \n",
       "2    coef                treated                                               \n",
       "3    coef   treated × post 1 − 6                                               \n",
       "4    coef  treated × post 7 − 12                                               \n",
       "5    coef               Constant  -0.45*** <br> (0.10)  -0.40*** <br> (0.04)   \n",
       "6   stats           Observations                    99                   201   \n",
       "7   stats          R<sup>2</sup>                  0.33                  0.35   \n",
       "\n",
       "                      2  \n",
       "0   0.96*** <br> (0.09)  \n",
       "1   0.36*** <br> (0.09)  \n",
       "2     -0.05 <br> (0.11)  \n",
       "3      0.15 <br> (0.21)  \n",
       "4      0.01 <br> (0.18)  \n",
       "5  -0.40*** <br> (0.04)  \n",
       "6                   300  \n",
       "7                  0.35  , _body=<great_tables._gt_data.Body object at 0x17530a2d0>, _boxhead=Boxhead([ColInfo(var='level_0', type=<ColInfoTypeEnum.row_group: 3>, column_label='level_0', column_align='center', column_width=None), ColInfo(var='level_1', type=<ColInfoTypeEnum.stub: 2>, column_label='level_1', column_align='center', column_width=None), ColInfo(var='0', type=<ColInfoTypeEnum.default: 1>, column_label='(1)', column_align='center', column_width=None), ColInfo(var='1', type=<ColInfoTypeEnum.default: 1>, column_label='(2)', column_align='center', column_width=None), ColInfo(var='2', type=<ColInfoTypeEnum.default: 1>, column_label='(3)', column_align='center', column_width=None)]), _stub=<great_tables._gt_data.Stub object at 0x1752c3890>, _spanners=Spanners([SpannerInfo(spanner_id='Treatment', spanner_level=1, spanner_label='Treatment', spanner_units=None, spanner_pattern=None, vars=['0'], built=None), SpannerInfo(spanner_id='Control', spanner_level=1, spanner_label='Control', spanner_units=None, spanner_pattern=None, vars=['1'], built=None), SpannerInfo(spanner_id='Treatment + control', spanner_level=1, spanner_label='Treatment + control', spanner_units=None, spanner_pattern=None, vars=['2'], built=None)]), _heading=Heading(title=None, subtitle=None, preheader=None), _stubhead=None, _source_notes=[''], _footnotes=[], _styles=[], _locale=<great_tables._gt_data.Locale object at 0x1752c31d0>, _formats=[], _substitutions=[], _options=Options(table_id=OptionsInfo(scss=False, category='table', type='value', value=None), table_caption=OptionsInfo(scss=False, category='table', type='value', value=None), table_width=OptionsInfo(scss=True, category='table', type='px', value='auto'), table_layout=OptionsInfo(scss=True, category='table', type='value', value='fixed'), table_margin_left=OptionsInfo(scss=True, category='table', type='px', value='auto'), table_margin_right=OptionsInfo(scss=True, category='table', type='px', value='auto'), table_background_color=OptionsInfo(scss=True, category='table', type='value', value='#FFFFFF'), table_additional_css=OptionsInfo(scss=False, category='table', type='values', value=[]), table_font_names=OptionsInfo(scss=False, category='table', type='values', value=['-apple-system', 'BlinkMacSystemFont', 'Segoe UI', 'Roboto', 'Oxygen', 'Ubuntu', 'Cantarell', 'Helvetica Neue', 'Fira Sans', 'Droid Sans', 'Arial', 'sans-serif']), table_font_size=OptionsInfo(scss=True, category='table', type='px', value='16px'), table_font_weight=OptionsInfo(scss=True, category='table', type='value', value='normal'), table_font_style=OptionsInfo(scss=True, category='table', type='value', value='normal'), table_font_color=OptionsInfo(scss=True, category='table', type='value', value='#333333'), table_font_color_light=OptionsInfo(scss=True, category='table', type='value', value='#FFFFFF'), table_border_top_include=OptionsInfo(scss=False, category='table', type='boolean', value=True), table_border_top_style=OptionsInfo(scss=True, category='table', type='value', value='solid'), table_border_top_width=OptionsInfo(scss=True, category='table', type='px', value='2px'), table_border_top_color=OptionsInfo(scss=True, category='table', type='value', value='#A8A8A8'), table_border_right_style=OptionsInfo(scss=True, category='table', type='value', value='none'), table_border_right_width=OptionsInfo(scss=True, category='table', type='px', value='2px'), table_border_right_color=OptionsInfo(scss=True, category='table', type='value', value='#D3D3D3'), table_border_bottom_include=OptionsInfo(scss=False, category='table', type='boolean', value=True), table_border_bottom_style=OptionsInfo(scss=True, category='table', type='value', value='hidden'), table_border_bottom_width=OptionsInfo(scss=True, category='table', type='px', value='2px'), table_border_bottom_color=OptionsInfo(scss=True, category='table', type='value', value='#A8A8A8'), table_border_left_style=OptionsInfo(scss=True, category='table', type='value', value='none'), table_border_left_width=OptionsInfo(scss=True, category='table', type='px', value='2px'), table_border_left_color=OptionsInfo(scss=True, category='table', type='value', value='#D3D3D3'), heading_background_color=OptionsInfo(scss=True, category='heading', type='value', value=None), heading_align=OptionsInfo(scss=True, category='heading', type='value', value='center'), heading_title_font_size=OptionsInfo(scss=True, category='heading', type='px', value='125%'), heading_title_font_weight=OptionsInfo(scss=True, category='heading', type='value', value='initial'), heading_subtitle_font_size=OptionsInfo(scss=True, category='heading', type='px', value='85%'), heading_subtitle_font_weight=OptionsInfo(scss=True, category='heading', type='value', value='initial'), heading_padding=OptionsInfo(scss=True, category='heading', type='px', value='4px'), heading_padding_horizontal=OptionsInfo(scss=True, category='heading', type='px', value='5px'), heading_border_bottom_style=OptionsInfo(scss=True, category='heading', type='value', value='solid'), heading_border_bottom_width=OptionsInfo(scss=True, category='heading', type='px', value='2px'), heading_border_bottom_color=OptionsInfo(scss=True, category='heading', type='value', value='#D3D3D3'), heading_border_lr_style=OptionsInfo(scss=True, category='heading', type='value', value='none'), heading_border_lr_width=OptionsInfo(scss=True, category='heading', type='px', value='1px'), heading_border_lr_color=OptionsInfo(scss=True, category='heading', type='value', value='#D3D3D3'), column_labels_background_color=OptionsInfo(scss=True, category='column_labels', type='value', value=None), column_labels_font_size=OptionsInfo(scss=True, category='column_labels', type='px', value='100%'), column_labels_font_weight=OptionsInfo(scss=True, category='column_labels', type='value', value='normal'), column_labels_text_transform=OptionsInfo(scss=True, category='column_labels', type='value', value='inherit'), column_labels_padding=OptionsInfo(scss=True, category='column_labels', type='px', value='4px'), column_labels_padding_horizontal=OptionsInfo(scss=True, category='column_labels', type='px', value='5px'), column_labels_vlines_style=OptionsInfo(scss=True, category='table_body', type='value', value='none'), column_labels_vlines_width=OptionsInfo(scss=True, category='table_body', type='px', value='0px'), column_labels_vlines_color=OptionsInfo(scss=True, category='table_body', type='value', value='white'), column_labels_border_top_style=OptionsInfo(scss=True, category='column_labels', type='value', value='solid'), column_labels_border_top_width=OptionsInfo(scss=True, category='column_labels', type='px', value='2px'), column_labels_border_top_color=OptionsInfo(scss=True, category='column_labels', type='value', value='black'), column_labels_border_bottom_style=OptionsInfo(scss=True, category='column_labels', type='value', value='solid'), column_labels_border_bottom_width=OptionsInfo(scss=True, category='column_labels', type='px', value='0.5px'), column_labels_border_bottom_color=OptionsInfo(scss=True, category='column_labels', type='value', value='black'), column_labels_border_lr_style=OptionsInfo(scss=True, category='column_labels', type='value', value='none'), column_labels_border_lr_width=OptionsInfo(scss=True, category='column_labels', type='px', value='1px'), column_labels_border_lr_color=OptionsInfo(scss=True, category='column_labels', type='value', value='#D3D3D3'), column_labels_hidden=OptionsInfo(scss=False, category='column_labels', type='boolean', value=False), row_group_background_color=OptionsInfo(scss=True, category='row_group', type='value', value=None), row_group_font_size=OptionsInfo(scss=True, category='row_group', type='px', value='0px'), row_group_font_weight=OptionsInfo(scss=True, category='row_group', type='value', value='initial'), row_group_text_transform=OptionsInfo(scss=True, category='row_group', type='value', value='inherit'), row_group_padding=OptionsInfo(scss=True, category='row_group', type='px', value='0px'), row_group_padding_horizontal=OptionsInfo(scss=True, category='row_group', type='px', value='5px'), row_group_border_top_style=OptionsInfo(scss=True, category='row_group', type='value', value='solid'), row_group_border_top_width=OptionsInfo(scss=True, category='row_group', type='px', value='0.5px'), row_group_border_top_color=OptionsInfo(scss=True, category='row_group', type='value', value='black'), row_group_border_right_style=OptionsInfo(scss=True, category='row_group', type='value', value='none'), row_group_border_right_width=OptionsInfo(scss=True, category='row_group', type='px', value='1px'), row_group_border_right_color=OptionsInfo(scss=True, category='row_group', type='value', value='white'), row_group_border_bottom_style=OptionsInfo(scss=True, category='row_group', type='value', value='solid'), row_group_border_bottom_width=OptionsInfo(scss=True, category='row_group', type='px', value='0.5px'), row_group_border_bottom_color=OptionsInfo(scss=True, category='row_group', type='value', value='black'), row_group_border_left_style=OptionsInfo(scss=True, category='row_group', type='value', value='none'), row_group_border_left_width=OptionsInfo(scss=True, category='row_group', type='px', value='1px'), row_group_border_left_color=OptionsInfo(scss=True, category='row_group', type='value', value='white'), row_group_as_column=OptionsInfo(scss=False, category='row_group', type='boolean', value=False), table_body_hlines_style=OptionsInfo(scss=True, category='table_body', type='value', value='none'), table_body_hlines_width=OptionsInfo(scss=True, category='table_body', type='px', value='1px'), table_body_hlines_color=OptionsInfo(scss=True, category='table_body', type='value', value='#D3D3D3'), table_body_vlines_style=OptionsInfo(scss=True, category='table_body', type='value', value='none'), table_body_vlines_width=OptionsInfo(scss=True, category='table_body', type='px', value='0px'), table_body_vlines_color=OptionsInfo(scss=True, category='table_body', type='value', value='white'), table_body_border_top_style=OptionsInfo(scss=True, category='table_body', type='value', value='solid'), table_body_border_top_width=OptionsInfo(scss=True, category='table_body', type='px', value='0.5px'), table_body_border_top_color=OptionsInfo(scss=True, category='table_body', type='value', value='black'), table_body_border_bottom_style=OptionsInfo(scss=True, category='table_body', type='value', value='solid'), table_body_border_bottom_width=OptionsInfo(scss=True, category='table_body', type='px', value='2px'), table_body_border_bottom_color=OptionsInfo(scss=True, category='table_body', type='value', value='black'), data_row_padding=OptionsInfo(scss=True, category='data_row', type='px', value='4px'), data_row_padding_horizontal=OptionsInfo(scss=True, category='data_row', type='px', value='5px'), stub_background_color=OptionsInfo(scss=True, category='stub', type='value', value=None), stub_font_size=OptionsInfo(scss=True, category='stub', type='px', value='100%'), stub_font_weight=OptionsInfo(scss=True, category='stub', type='value', value='initial'), stub_text_transform=OptionsInfo(scss=True, category='stub', type='value', value='inherit'), stub_border_style=OptionsInfo(scss=True, category='stub', type='value', value='hidden'), stub_border_width=OptionsInfo(scss=True, category='stub', type='px', value='2px'), stub_border_color=OptionsInfo(scss=True, category='stub', type='value', value='#D3D3D3'), stub_row_group_background_color=OptionsInfo(scss=True, category='stub', type='value', value=None), stub_row_group_font_size=OptionsInfo(scss=True, category='stub', type='px', value='100%'), stub_row_group_font_weight=OptionsInfo(scss=True, category='stub', type='value', value='initial'), stub_row_group_text_transform=OptionsInfo(scss=True, category='stub', type='value', value='inherit'), stub_row_group_border_style=OptionsInfo(scss=True, category='stub', type='value', value='solid'), stub_row_group_border_width=OptionsInfo(scss=True, category='stub', type='px', value='2px'), stub_row_group_border_color=OptionsInfo(scss=True, category='stub', type='value', value='#D3D3D3'), source_notes_padding=OptionsInfo(scss=True, category='source_notes', type='px', value='4px'), source_notes_padding_horizontal=OptionsInfo(scss=True, category='source_notes', type='px', value='5px'), source_notes_background_color=OptionsInfo(scss=True, category='source_notes', type='value', value=None), source_notes_font_size=OptionsInfo(scss=True, category='source_notes', type='px', value='90%'), source_notes_border_bottom_style=OptionsInfo(scss=True, category='source_notes', type='value', value='none'), source_notes_border_bottom_width=OptionsInfo(scss=True, category='source_notes', type='px', value='2px'), source_notes_border_bottom_color=OptionsInfo(scss=True, category='source_notes', type='value', value='#D3D3D3'), source_notes_border_lr_style=OptionsInfo(scss=True, category='source_notes', type='value', value='none'), source_notes_border_lr_width=OptionsInfo(scss=True, category='source_notes', type='px', value='2px'), source_notes_border_lr_color=OptionsInfo(scss=True, category='source_notes', type='value', value='#D3D3D3'), source_notes_multiline=OptionsInfo(scss=False, category='source_notes', type='boolean', value=True), source_notes_sep=OptionsInfo(scss=False, category='source_notes', type='value', value=' '), row_striping_background_color=OptionsInfo(scss=True, category='row', type='value', value='rgba(128,128,128,0.05)'), row_striping_include_stub=OptionsInfo(scss=False, category='row', type='boolean', value=False), row_striping_include_table_body=OptionsInfo(scss=False, category='row', type='boolean', value=False), container_width=OptionsInfo(scss=False, category='container', type='px', value='auto'), container_height=OptionsInfo(scss=False, category='container', type='px', value='auto'), container_padding_x=OptionsInfo(scss=False, category='container', type='px', value='0px'), container_padding_y=OptionsInfo(scss=False, category='container', type='px', value='10px'), container_overflow_x=OptionsInfo(scss=False, category='container', type='overflow', value='auto'), container_overflow_y=OptionsInfo(scss=False, category='container', type='overflow', value='auto'), quarto_disable_processing=OptionsInfo(scss=False, category='quarto', type='logical', value=False), quarto_use_bootstrap=OptionsInfo(scss=False, category='quarto', type='logical', value=False)), _has_built=False)"
      ]
     },
     "execution_count": 51,
     "metadata": {},
     "output_type": "execute_result"
    }
   ],
   "source": [
    "pf.etable(\n",
    "    [fd_treatment, fd_control, fd],\n",
    "    model_heads=[\"Treatment\", \"Control\", \"Treatment + control\"],\n",
    "    head_order=\"h\",\n",
    "    labels={\n",
    "        \"Intercept\": \"Constant\",\n",
    "        \"I(treated * after_1_6)\": \"treated × post 1 − 6\",\n",
    "        \"I(treated * after_7_12)\": \"treated × post 7 − 12\",\n",
    "        \"after_1_6\": \"post 1 − 6\",\n",
    "        \"after_7_12\": \"post 7 − 12\",\n",
    "    },\n",
    "    show_se_type=False,\n",
    "    digits=2,\n",
    ")"
   ]
  },
  {
   "cell_type": "markdown",
   "metadata": {},
   "source": [
    "### Extension, not included in the book"
   ]
  },
  {
   "cell_type": "markdown",
   "metadata": {},
   "source": [
    "FE regression"
   ]
  },
  {
   "cell_type": "code",
   "execution_count": 52,
   "metadata": {},
   "outputs": [],
   "source": [
    "fe_panel_treatment = pf.feols(\n",
    "    \"points6avg ~ before_7_12 + after_1_6 + after_7_12 | teamseason\",\n",
    "    data_balanced_agg.loc[lambda x: x[\"treated\"] == 1],\n",
    "    vcov={\"CRV1\": \"teamseason\"},\n",
    ")\n",
    "fe_panel_control = pf.feols(\n",
    "    \"points6avg ~ before_7_12 + after_1_6 + after_7_12 | teamseason\",\n",
    "    data_balanced_agg.loc[lambda x: x[\"treated\"] == 0],\n",
    "    vcov={\"CRV1\": \"teamseason\"},\n",
    ")\n",
    "fe_panel = pf.feols(\n",
    "    \"points6avg ~ before_7_12 + after_1_6 + after_7_12 + treated*before_7_12 + treated*after_1_6 + treated*after_7_12 | teamseason\",\n",
    "    data_balanced_agg,\n",
    "    vcov={\"CRV1\": \"teamseason\"},\n",
    ")"
   ]
  },
  {
   "cell_type": "code",
   "execution_count": 53,
   "metadata": {},
   "outputs": [
    {
     "data": {
      "text/html": [
       "<div id=\"zrizxtuljg\" style=\"padding-left:0px;padding-right:0px;padding-top:10px;padding-bottom:10px;overflow-x:auto;overflow-y:auto;width:auto;height:auto;\">\n",
       "<style>\n",
       "#zrizxtuljg table {\n",
       "          font-family: -apple-system, BlinkMacSystemFont, 'Segoe UI', Roboto, Oxygen, Ubuntu, Cantarell, 'Helvetica Neue', 'Fira Sans', 'Droid Sans', Arial, sans-serif;\n",
       "          -webkit-font-smoothing: antialiased;\n",
       "          -moz-osx-font-smoothing: grayscale;\n",
       "        }\n",
       "\n",
       "#zrizxtuljg thead, tbody, tfoot, tr, td, th { border-style: none !important; }\n",
       " tr { background-color: transparent !important; }\n",
       "#zrizxtuljg p { margin: 0 !important; padding: 0 !important; }\n",
       " #zrizxtuljg .gt_table { display: table !important; border-collapse: collapse !important; line-height: normal !important; margin-left: auto !important; margin-right: auto !important; color: #333333 !important; font-size: 16px !important; font-weight: normal !important; font-style: normal !important; background-color: #FFFFFF !important; width: auto !important; border-top-style: solid !important; border-top-width: 2px !important; border-top-color: #A8A8A8 !important; border-right-style: none !important; border-right-width: 2px !important; border-right-color: #D3D3D3 !important; border-bottom-style: hidden !important; border-bottom-width: 2px !important; border-bottom-color: #A8A8A8 !important; border-left-style: none !important; border-left-width: 2px !important; border-left-color: #D3D3D3 !important; }\n",
       " #zrizxtuljg .gt_caption { padding-top: 4px !important; padding-bottom: 4px !important; }\n",
       " #zrizxtuljg .gt_title { color: #333333 !important; font-size: 125% !important; font-weight: initial !important; padding-top: 4px !important; padding-bottom: 4px !important; padding-left: 5px !important; padding-right: 5px !important; border-bottom-color: #FFFFFF !important; border-bottom-width: 0 !important; }\n",
       " #zrizxtuljg .gt_subtitle { color: #333333 !important; font-size: 85% !important; font-weight: initial !important; padding-top: 3px !important; padding-bottom: 5px !important; padding-left: 5px !important; padding-right: 5px !important; border-top-color: #FFFFFF !important; border-top-width: 0 !important; }\n",
       " #zrizxtuljg .gt_heading { background-color: #FFFFFF !important; text-align: center !important; border-bottom-color: #FFFFFF !important; border-left-style: none !important; border-left-width: 1px !important; border-left-color: #D3D3D3 !important; border-right-style: none !important; border-right-width: 1px !important; border-right-color: #D3D3D3 !important; }\n",
       " #zrizxtuljg .gt_bottom_border { border-bottom-style: solid !important; border-bottom-width: 2px !important; border-bottom-color: #D3D3D3 !important; }\n",
       " #zrizxtuljg .gt_col_headings { border-top-style: solid !important; border-top-width: 2px !important; border-top-color: black !important; border-bottom-style: solid !important; border-bottom-width: 0.5px !important; border-bottom-color: black !important; border-left-style: none !important; border-left-width: 1px !important; border-left-color: #D3D3D3 !important; border-right-style: none !important; border-right-width: 1px !important; border-right-color: #D3D3D3 !important; }\n",
       " #zrizxtuljg .gt_col_heading { color: #333333 !important; background-color: #FFFFFF !important; font-size: 100% !important; font-weight: normal !important; text-transform: inherit !important; border-left-style: none !important; border-left-width: 0px !important; border-left-color: white !important; border-right-style: none !important; border-right-width: 0px !important; border-right-color: white !important; vertical-align: bottom !important; padding-top: 4px !important; padding-bottom: 5px !important; padding-left: 5px !important; padding-right: 5px !important; overflow-x: hidden !important; }\n",
       " #zrizxtuljg .gt_column_spanner_outer { color: #333333 !important; background-color: #FFFFFF !important; font-size: 100% !important; font-weight: normal !important; text-transform: inherit !important; padding-top: 0 !important; padding-bottom: 0 !important; padding-left: 4px !important; padding-right: 4px !important; }\n",
       " #zrizxtuljg .gt_column_spanner_outer:first-child { padding-left: 0 !important; }\n",
       " #zrizxtuljg .gt_column_spanner_outer:last-child { padding-right: 0 !important; }\n",
       " #zrizxtuljg .gt_column_spanner { border-bottom-style: solid !important; border-bottom-width: 0.5px !important; border-bottom-color: black !important; vertical-align: bottom !important; padding-top: 4px !important; padding-bottom: 4px !important; overflow-x: hidden !important; display: inline-block !important; width: 100% !important; }\n",
       " #zrizxtuljg .gt_spanner_row { border-bottom-style: hidden !important; }\n",
       " #zrizxtuljg .gt_group_heading { padding-top: 0px !important; padding-bottom: 0px !important; padding-left: 5px !important; padding-right: 5px !important; color: #333333 !important; background-color: #FFFFFF !important; font-size: 0px !important; font-weight: initial !important; text-transform: inherit !important; border-top-style: solid !important; border-top-width: 0.5px !important; border-top-color: black !important; border-bottom-style: solid !important; border-bottom-width: 0.5px !important; border-bottom-color: black !important; border-left-style: none !important; border-left-width: 1px !important; border-left-color: white !important; border-right-style: none !important; border-right-width: 1px !important; border-right-color: white !important; vertical-align: middle !important; text-align: left !important; }\n",
       " #zrizxtuljg .gt_empty_group_heading { padding: 0.5px !important; color: #333333 !important; background-color: #FFFFFF !important; font-size: 0px !important; font-weight: initial !important; border-top-style: solid !important; border-top-width: 0.5px !important; border-top-color: black !important; border-bottom-style: solid !important; border-bottom-width: 0.5px !important; border-bottom-color: black !important; vertical-align: middle !important; }\n",
       " #zrizxtuljg .gt_from_md> :first-child { margin-top: 0 !important; }\n",
       " #zrizxtuljg .gt_from_md> :last-child { margin-bottom: 0 !important; }\n",
       " #zrizxtuljg .gt_row { padding-top: 4px !important; padding-bottom: 4px !important; padding-left: 5px !important; padding-right: 5px !important; margin: 10px !important; border-top-style: none !important; border-top-width: 1px !important; border-top-color: #D3D3D3 !important; border-left-style: none !important; border-left-width: 0px !important; border-left-color: white !important; border-right-style: none !important; border-right-width: 0px !important; border-right-color: white !important; vertical-align: middle !important; overflow-x: hidden !important; }\n",
       " #zrizxtuljg .gt_stub { color: #333333 !important; background-color: #FFFFFF !important; font-size: 100% !important; font-weight: initial !important; text-transform: inherit !important; border-right-style: hidden !important; border-right-width: 2px !important; border-right-color: #D3D3D3 !important; padding-left: 5px !important; padding-right: 5px !important; }\n",
       " #zrizxtuljg .gt_stub_row_group { color: #333333 !important; background-color: #FFFFFF !important; font-size: 100% !important; font-weight: initial !important; text-transform: inherit !important; border-right-style: solid !important; border-right-width: 2px !important; border-right-color: #D3D3D3 !important; padding-left: 5px !important; padding-right: 5px !important; vertical-align: top !important; }\n",
       " #zrizxtuljg .gt_row_group_first td { border-top-width: 0.5px !important; }\n",
       " #zrizxtuljg .gt_row_group_first th { border-top-width: 0.5px !important; }\n",
       " #zrizxtuljg .gt_striped { background-color: rgba(128,128,128,0.05) !important; }\n",
       " #zrizxtuljg .gt_table_body { border-top-style: solid !important; border-top-width: 0.5px !important; border-top-color: black !important; border-bottom-style: solid !important; border-bottom-width: 2px !important; border-bottom-color: black !important; }\n",
       " #zrizxtuljg .gt_sourcenotes { color: #333333 !important; background-color: #FFFFFF !important; border-bottom-style: none !important; border-bottom-width: 2px !important; border-bottom-color: #D3D3D3 !important; border-left-style: none !important; border-left-width: 2px !important; border-left-color: #D3D3D3 !important; border-right-style: none !important; border-right-width: 2px !important; border-right-color: #D3D3D3 !important; }\n",
       " #zrizxtuljg .gt_sourcenote { font-size: 90% !important; padding-top: 4px !important; padding-bottom: 4px !important; padding-left: 5px !important; padding-right: 5px !important; text-align: left !important; }\n",
       " #zrizxtuljg .gt_left { text-align: left !important; }\n",
       " #zrizxtuljg .gt_center { text-align: center !important; }\n",
       " #zrizxtuljg .gt_right { text-align: right !important; font-variant-numeric: tabular-nums !important; }\n",
       " #zrizxtuljg .gt_font_normal { font-weight: normal !important; }\n",
       " #zrizxtuljg .gt_font_bold { font-weight: bold !important; }\n",
       " #zrizxtuljg .gt_font_italic { font-style: italic !important; }\n",
       " #zrizxtuljg .gt_super { font-size: 65% !important; }\n",
       " #zrizxtuljg .gt_footnote_marks { font-size: 75% !important; vertical-align: 0.4em !important; position: initial !important; }\n",
       " #zrizxtuljg .gt_asterisk { font-size: 100% !important; vertical-align: 0 !important; }\n",
       " \n",
       "</style>\n",
       "<table class=\"gt_table\" data-quarto-disable-processing=\"false\" data-quarto-bootstrap=\"false\">\n",
       "<thead>\n",
       "\n",
       "<tr class=\"gt_col_headings gt_spanner_row\">\n",
       "  <th class=\"gt_col_heading gt_columns_bottom_border gt_left\" rowspan=\"2\" colspan=\"1\" scope=\"col\" id=\"\"></th>\n",
       "  <th class=\"gt_center gt_columns_top_border gt_column_spanner_outer\" rowspan=\"1\" colspan=\"3\" scope=\"colgroup\" id=\"points6avg\">\n",
       "    <span class=\"gt_column_spanner\">points6avg</span>\n",
       "  </th>\n",
       "</tr>\n",
       "<tr class=\"gt_col_headings\">\n",
       "  <th class=\"gt_col_heading gt_columns_bottom_border gt_center\" rowspan=\"1\" colspan=\"1\" scope=\"col\" id=\"(1)\">(1)</th>\n",
       "  <th class=\"gt_col_heading gt_columns_bottom_border gt_center\" rowspan=\"1\" colspan=\"1\" scope=\"col\" id=\"(2)\">(2)</th>\n",
       "  <th class=\"gt_col_heading gt_columns_bottom_border gt_center\" rowspan=\"1\" colspan=\"1\" scope=\"col\" id=\"(3)\">(3)</th>\n",
       "</tr>\n",
       "</thead>\n",
       "<tbody class=\"gt_table_body\">\n",
       "  <tr class=\"gt_group_heading_row\">\n",
       "    <th class=\"gt_group_heading\" colspan=\"4\">coef</th>\n",
       "  </tr>\n",
       "  <tr>\n",
       "    <th class=\"gt_row gt_left gt_stub\">before_7_12</th>\n",
       "    <td class=\"gt_row gt_center\">0.449*** <br> (0.100)</td>\n",
       "    <td class=\"gt_row gt_center\">0.404*** <br> (0.038)</td>\n",
       "    <td class=\"gt_row gt_center\">0.404*** <br> (0.038)</td>\n",
       "  </tr>\n",
       "  <tr>\n",
       "    <th class=\"gt_row gt_left gt_stub\">after_1_6</th>\n",
       "    <td class=\"gt_row gt_center\">0.657*** <br> (0.124)</td>\n",
       "    <td class=\"gt_row gt_center\">0.555*** <br> (0.072)</td>\n",
       "    <td class=\"gt_row gt_center\">0.555*** <br> (0.072)</td>\n",
       "  </tr>\n",
       "  <tr>\n",
       "    <th class=\"gt_row gt_left gt_stub\">after_7_12</th>\n",
       "    <td class=\"gt_row gt_center\">0.581*** <br> (0.119)</td>\n",
       "    <td class=\"gt_row gt_center\">0.511*** <br> (0.072)</td>\n",
       "    <td class=\"gt_row gt_center\">0.511*** <br> (0.072)</td>\n",
       "  </tr>\n",
       "  <tr>\n",
       "    <th class=\"gt_row gt_left gt_stub\">treated:before_7_12</th>\n",
       "    <td class=\"gt_row gt_center\"></td>\n",
       "    <td class=\"gt_row gt_center\"></td>\n",
       "    <td class=\"gt_row gt_center\">0.046 <br> (0.105)</td>\n",
       "  </tr>\n",
       "  <tr>\n",
       "    <th class=\"gt_row gt_left gt_stub\">treated:after_1_6</th>\n",
       "    <td class=\"gt_row gt_center\"></td>\n",
       "    <td class=\"gt_row gt_center\"></td>\n",
       "    <td class=\"gt_row gt_center\">0.101 <br> (0.142)</td>\n",
       "  </tr>\n",
       "  <tr>\n",
       "    <th class=\"gt_row gt_left gt_stub\">treated:after_7_12</th>\n",
       "    <td class=\"gt_row gt_center\"></td>\n",
       "    <td class=\"gt_row gt_center\"></td>\n",
       "    <td class=\"gt_row gt_center\">0.069 <br> (0.138)</td>\n",
       "  </tr>\n",
       "  <tr class=\"gt_group_heading_row\">\n",
       "    <th class=\"gt_group_heading\" colspan=\"4\">fe</th>\n",
       "  </tr>\n",
       "  <tr>\n",
       "    <th class=\"gt_row gt_left gt_stub\">teamseason</th>\n",
       "    <td class=\"gt_row gt_center\">x</td>\n",
       "    <td class=\"gt_row gt_center\">x</td>\n",
       "    <td class=\"gt_row gt_center\">x</td>\n",
       "  </tr>\n",
       "  <tr class=\"gt_group_heading_row\">\n",
       "    <th class=\"gt_group_heading\" colspan=\"4\">stats</th>\n",
       "  </tr>\n",
       "  <tr>\n",
       "    <th class=\"gt_row gt_left gt_stub\">Within R<sup>2</sup></th>\n",
       "    <td class=\"gt_row gt_center\">0.279</td>\n",
       "    <td class=\"gt_row gt_center\">0.303</td>\n",
       "    <td class=\"gt_row gt_center\">0.293</td>\n",
       "  </tr>\n",
       "  <tr>\n",
       "    <th class=\"gt_row gt_left gt_stub\">Observations</th>\n",
       "    <td class=\"gt_row gt_center\">132</td>\n",
       "    <td class=\"gt_row gt_center\">268</td>\n",
       "    <td class=\"gt_row gt_center\">400</td>\n",
       "  </tr>\n",
       "  <tr>\n",
       "    <th class=\"gt_row gt_left gt_stub\">S.E. type</th>\n",
       "    <td class=\"gt_row gt_center\">by: teamseason</td>\n",
       "    <td class=\"gt_row gt_center\">by: teamseason</td>\n",
       "    <td class=\"gt_row gt_center\">by: teamseason</td>\n",
       "  </tr>\n",
       "  <tr>\n",
       "    <th class=\"gt_row gt_left gt_stub\">R<sup>2</sup></th>\n",
       "    <td class=\"gt_row gt_center\">0.589</td>\n",
       "    <td class=\"gt_row gt_center\">0.488</td>\n",
       "    <td class=\"gt_row gt_center\">0.537</td>\n",
       "  </tr>\n",
       "</tbody>\n",
       "  <tfoot class=\"gt_sourcenotes\">\n",
       "  \n",
       "  <tr>\n",
       "    <td class=\"gt_sourcenote\" colspan=\"4\"></td>\n",
       "  </tr>\n",
       "\n",
       "</tfoot>\n",
       "\n",
       "</table>\n",
       "\n",
       "</div>\n",
       "        "
      ],
      "text/plain": [
       "GT(_tbl_data=   level_0               level_1                      0  \\\n",
       "0     coef           before_7_12  0.449*** <br> (0.100)   \n",
       "1     coef             after_1_6  0.657*** <br> (0.124)   \n",
       "2     coef            after_7_12  0.581*** <br> (0.119)   \n",
       "3     coef   treated:before_7_12                          \n",
       "4     coef     treated:after_1_6                          \n",
       "5     coef    treated:after_7_12                          \n",
       "6       fe            teamseason                      x   \n",
       "7    stats  Within R<sup>2</sup>                  0.279   \n",
       "8    stats          Observations                    132   \n",
       "9    stats             S.E. type         by: teamseason   \n",
       "10   stats         R<sup>2</sup>                  0.589   \n",
       "\n",
       "                        1                      2  \n",
       "0   0.404*** <br> (0.038)  0.404*** <br> (0.038)  \n",
       "1   0.555*** <br> (0.072)  0.555*** <br> (0.072)  \n",
       "2   0.511*** <br> (0.072)  0.511*** <br> (0.072)  \n",
       "3                             0.046 <br> (0.105)  \n",
       "4                             0.101 <br> (0.142)  \n",
       "5                             0.069 <br> (0.138)  \n",
       "6                       x                      x  \n",
       "7                   0.303                  0.293  \n",
       "8                     268                    400  \n",
       "9          by: teamseason         by: teamseason  \n",
       "10                  0.488                  0.537  , _body=<great_tables._gt_data.Body object at 0x1747152b0>, _boxhead=Boxhead([ColInfo(var='level_0', type=<ColInfoTypeEnum.row_group: 3>, column_label='level_0', column_align='center', column_width=None), ColInfo(var='level_1', type=<ColInfoTypeEnum.stub: 2>, column_label='level_1', column_align='center', column_width=None), ColInfo(var='0', type=<ColInfoTypeEnum.default: 1>, column_label='(1)', column_align='center', column_width=None), ColInfo(var='1', type=<ColInfoTypeEnum.default: 1>, column_label='(2)', column_align='center', column_width=None), ColInfo(var='2', type=<ColInfoTypeEnum.default: 1>, column_label='(3)', column_align='center', column_width=None)]), _stub=<great_tables._gt_data.Stub object at 0x174715e20>, _spanners=Spanners([SpannerInfo(spanner_id='points6avg', spanner_level=1, spanner_label='points6avg', spanner_units=None, spanner_pattern=None, vars=['0', '1', '2'], built=None)]), _heading=Heading(title=None, subtitle=None, preheader=None), _stubhead=None, _source_notes=[''], _footnotes=[], _styles=[], _locale=<great_tables._gt_data.Locale object at 0x174716f00>, _formats=[], _substitutions=[], _options=Options(table_id=OptionsInfo(scss=False, category='table', type='value', value=None), table_caption=OptionsInfo(scss=False, category='table', type='value', value=None), table_width=OptionsInfo(scss=True, category='table', type='px', value='auto'), table_layout=OptionsInfo(scss=True, category='table', type='value', value='fixed'), table_margin_left=OptionsInfo(scss=True, category='table', type='px', value='auto'), table_margin_right=OptionsInfo(scss=True, category='table', type='px', value='auto'), table_background_color=OptionsInfo(scss=True, category='table', type='value', value='#FFFFFF'), table_additional_css=OptionsInfo(scss=False, category='table', type='values', value=[]), table_font_names=OptionsInfo(scss=False, category='table', type='values', value=['-apple-system', 'BlinkMacSystemFont', 'Segoe UI', 'Roboto', 'Oxygen', 'Ubuntu', 'Cantarell', 'Helvetica Neue', 'Fira Sans', 'Droid Sans', 'Arial', 'sans-serif']), table_font_size=OptionsInfo(scss=True, category='table', type='px', value='16px'), table_font_weight=OptionsInfo(scss=True, category='table', type='value', value='normal'), table_font_style=OptionsInfo(scss=True, category='table', type='value', value='normal'), table_font_color=OptionsInfo(scss=True, category='table', type='value', value='#333333'), table_font_color_light=OptionsInfo(scss=True, category='table', type='value', value='#FFFFFF'), table_border_top_include=OptionsInfo(scss=False, category='table', type='boolean', value=True), table_border_top_style=OptionsInfo(scss=True, category='table', type='value', value='solid'), table_border_top_width=OptionsInfo(scss=True, category='table', type='px', value='2px'), table_border_top_color=OptionsInfo(scss=True, category='table', type='value', value='#A8A8A8'), table_border_right_style=OptionsInfo(scss=True, category='table', type='value', value='none'), table_border_right_width=OptionsInfo(scss=True, category='table', type='px', value='2px'), table_border_right_color=OptionsInfo(scss=True, category='table', type='value', value='#D3D3D3'), table_border_bottom_include=OptionsInfo(scss=False, category='table', type='boolean', value=True), table_border_bottom_style=OptionsInfo(scss=True, category='table', type='value', value='hidden'), table_border_bottom_width=OptionsInfo(scss=True, category='table', type='px', value='2px'), table_border_bottom_color=OptionsInfo(scss=True, category='table', type='value', value='#A8A8A8'), table_border_left_style=OptionsInfo(scss=True, category='table', type='value', value='none'), table_border_left_width=OptionsInfo(scss=True, category='table', type='px', value='2px'), table_border_left_color=OptionsInfo(scss=True, category='table', type='value', value='#D3D3D3'), heading_background_color=OptionsInfo(scss=True, category='heading', type='value', value=None), heading_align=OptionsInfo(scss=True, category='heading', type='value', value='center'), heading_title_font_size=OptionsInfo(scss=True, category='heading', type='px', value='125%'), heading_title_font_weight=OptionsInfo(scss=True, category='heading', type='value', value='initial'), heading_subtitle_font_size=OptionsInfo(scss=True, category='heading', type='px', value='85%'), heading_subtitle_font_weight=OptionsInfo(scss=True, category='heading', type='value', value='initial'), heading_padding=OptionsInfo(scss=True, category='heading', type='px', value='4px'), heading_padding_horizontal=OptionsInfo(scss=True, category='heading', type='px', value='5px'), heading_border_bottom_style=OptionsInfo(scss=True, category='heading', type='value', value='solid'), heading_border_bottom_width=OptionsInfo(scss=True, category='heading', type='px', value='2px'), heading_border_bottom_color=OptionsInfo(scss=True, category='heading', type='value', value='#D3D3D3'), heading_border_lr_style=OptionsInfo(scss=True, category='heading', type='value', value='none'), heading_border_lr_width=OptionsInfo(scss=True, category='heading', type='px', value='1px'), heading_border_lr_color=OptionsInfo(scss=True, category='heading', type='value', value='#D3D3D3'), column_labels_background_color=OptionsInfo(scss=True, category='column_labels', type='value', value=None), column_labels_font_size=OptionsInfo(scss=True, category='column_labels', type='px', value='100%'), column_labels_font_weight=OptionsInfo(scss=True, category='column_labels', type='value', value='normal'), column_labels_text_transform=OptionsInfo(scss=True, category='column_labels', type='value', value='inherit'), column_labels_padding=OptionsInfo(scss=True, category='column_labels', type='px', value='4px'), column_labels_padding_horizontal=OptionsInfo(scss=True, category='column_labels', type='px', value='5px'), column_labels_vlines_style=OptionsInfo(scss=True, category='table_body', type='value', value='none'), column_labels_vlines_width=OptionsInfo(scss=True, category='table_body', type='px', value='0px'), column_labels_vlines_color=OptionsInfo(scss=True, category='table_body', type='value', value='white'), column_labels_border_top_style=OptionsInfo(scss=True, category='column_labels', type='value', value='solid'), column_labels_border_top_width=OptionsInfo(scss=True, category='column_labels', type='px', value='2px'), column_labels_border_top_color=OptionsInfo(scss=True, category='column_labels', type='value', value='black'), column_labels_border_bottom_style=OptionsInfo(scss=True, category='column_labels', type='value', value='solid'), column_labels_border_bottom_width=OptionsInfo(scss=True, category='column_labels', type='px', value='0.5px'), column_labels_border_bottom_color=OptionsInfo(scss=True, category='column_labels', type='value', value='black'), column_labels_border_lr_style=OptionsInfo(scss=True, category='column_labels', type='value', value='none'), column_labels_border_lr_width=OptionsInfo(scss=True, category='column_labels', type='px', value='1px'), column_labels_border_lr_color=OptionsInfo(scss=True, category='column_labels', type='value', value='#D3D3D3'), column_labels_hidden=OptionsInfo(scss=False, category='column_labels', type='boolean', value=False), row_group_background_color=OptionsInfo(scss=True, category='row_group', type='value', value=None), row_group_font_size=OptionsInfo(scss=True, category='row_group', type='px', value='0px'), row_group_font_weight=OptionsInfo(scss=True, category='row_group', type='value', value='initial'), row_group_text_transform=OptionsInfo(scss=True, category='row_group', type='value', value='inherit'), row_group_padding=OptionsInfo(scss=True, category='row_group', type='px', value='0px'), row_group_padding_horizontal=OptionsInfo(scss=True, category='row_group', type='px', value='5px'), row_group_border_top_style=OptionsInfo(scss=True, category='row_group', type='value', value='solid'), row_group_border_top_width=OptionsInfo(scss=True, category='row_group', type='px', value='0.5px'), row_group_border_top_color=OptionsInfo(scss=True, category='row_group', type='value', value='black'), row_group_border_right_style=OptionsInfo(scss=True, category='row_group', type='value', value='none'), row_group_border_right_width=OptionsInfo(scss=True, category='row_group', type='px', value='1px'), row_group_border_right_color=OptionsInfo(scss=True, category='row_group', type='value', value='white'), row_group_border_bottom_style=OptionsInfo(scss=True, category='row_group', type='value', value='solid'), row_group_border_bottom_width=OptionsInfo(scss=True, category='row_group', type='px', value='0.5px'), row_group_border_bottom_color=OptionsInfo(scss=True, category='row_group', type='value', value='black'), row_group_border_left_style=OptionsInfo(scss=True, category='row_group', type='value', value='none'), row_group_border_left_width=OptionsInfo(scss=True, category='row_group', type='px', value='1px'), row_group_border_left_color=OptionsInfo(scss=True, category='row_group', type='value', value='white'), row_group_as_column=OptionsInfo(scss=False, category='row_group', type='boolean', value=False), table_body_hlines_style=OptionsInfo(scss=True, category='table_body', type='value', value='none'), table_body_hlines_width=OptionsInfo(scss=True, category='table_body', type='px', value='1px'), table_body_hlines_color=OptionsInfo(scss=True, category='table_body', type='value', value='#D3D3D3'), table_body_vlines_style=OptionsInfo(scss=True, category='table_body', type='value', value='none'), table_body_vlines_width=OptionsInfo(scss=True, category='table_body', type='px', value='0px'), table_body_vlines_color=OptionsInfo(scss=True, category='table_body', type='value', value='white'), table_body_border_top_style=OptionsInfo(scss=True, category='table_body', type='value', value='solid'), table_body_border_top_width=OptionsInfo(scss=True, category='table_body', type='px', value='0.5px'), table_body_border_top_color=OptionsInfo(scss=True, category='table_body', type='value', value='black'), table_body_border_bottom_style=OptionsInfo(scss=True, category='table_body', type='value', value='solid'), table_body_border_bottom_width=OptionsInfo(scss=True, category='table_body', type='px', value='2px'), table_body_border_bottom_color=OptionsInfo(scss=True, category='table_body', type='value', value='black'), data_row_padding=OptionsInfo(scss=True, category='data_row', type='px', value='4px'), data_row_padding_horizontal=OptionsInfo(scss=True, category='data_row', type='px', value='5px'), stub_background_color=OptionsInfo(scss=True, category='stub', type='value', value=None), stub_font_size=OptionsInfo(scss=True, category='stub', type='px', value='100%'), stub_font_weight=OptionsInfo(scss=True, category='stub', type='value', value='initial'), stub_text_transform=OptionsInfo(scss=True, category='stub', type='value', value='inherit'), stub_border_style=OptionsInfo(scss=True, category='stub', type='value', value='hidden'), stub_border_width=OptionsInfo(scss=True, category='stub', type='px', value='2px'), stub_border_color=OptionsInfo(scss=True, category='stub', type='value', value='#D3D3D3'), stub_row_group_background_color=OptionsInfo(scss=True, category='stub', type='value', value=None), stub_row_group_font_size=OptionsInfo(scss=True, category='stub', type='px', value='100%'), stub_row_group_font_weight=OptionsInfo(scss=True, category='stub', type='value', value='initial'), stub_row_group_text_transform=OptionsInfo(scss=True, category='stub', type='value', value='inherit'), stub_row_group_border_style=OptionsInfo(scss=True, category='stub', type='value', value='solid'), stub_row_group_border_width=OptionsInfo(scss=True, category='stub', type='px', value='2px'), stub_row_group_border_color=OptionsInfo(scss=True, category='stub', type='value', value='#D3D3D3'), source_notes_padding=OptionsInfo(scss=True, category='source_notes', type='px', value='4px'), source_notes_padding_horizontal=OptionsInfo(scss=True, category='source_notes', type='px', value='5px'), source_notes_background_color=OptionsInfo(scss=True, category='source_notes', type='value', value=None), source_notes_font_size=OptionsInfo(scss=True, category='source_notes', type='px', value='90%'), source_notes_border_bottom_style=OptionsInfo(scss=True, category='source_notes', type='value', value='none'), source_notes_border_bottom_width=OptionsInfo(scss=True, category='source_notes', type='px', value='2px'), source_notes_border_bottom_color=OptionsInfo(scss=True, category='source_notes', type='value', value='#D3D3D3'), source_notes_border_lr_style=OptionsInfo(scss=True, category='source_notes', type='value', value='none'), source_notes_border_lr_width=OptionsInfo(scss=True, category='source_notes', type='px', value='2px'), source_notes_border_lr_color=OptionsInfo(scss=True, category='source_notes', type='value', value='#D3D3D3'), source_notes_multiline=OptionsInfo(scss=False, category='source_notes', type='boolean', value=True), source_notes_sep=OptionsInfo(scss=False, category='source_notes', type='value', value=' '), row_striping_background_color=OptionsInfo(scss=True, category='row', type='value', value='rgba(128,128,128,0.05)'), row_striping_include_stub=OptionsInfo(scss=False, category='row', type='boolean', value=False), row_striping_include_table_body=OptionsInfo(scss=False, category='row', type='boolean', value=False), container_width=OptionsInfo(scss=False, category='container', type='px', value='auto'), container_height=OptionsInfo(scss=False, category='container', type='px', value='auto'), container_padding_x=OptionsInfo(scss=False, category='container', type='px', value='0px'), container_padding_y=OptionsInfo(scss=False, category='container', type='px', value='10px'), container_overflow_x=OptionsInfo(scss=False, category='container', type='overflow', value='auto'), container_overflow_y=OptionsInfo(scss=False, category='container', type='overflow', value='auto'), quarto_disable_processing=OptionsInfo(scss=False, category='quarto', type='logical', value=False), quarto_use_bootstrap=OptionsInfo(scss=False, category='quarto', type='logical', value=False)), _has_built=False)"
      ]
     },
     "execution_count": 53,
     "metadata": {},
     "output_type": "execute_result"
    }
   ],
   "source": [
    "pf.etable(\n",
    "    [fe_panel_treatment, fe_panel_control, fe_panel],\n",
    "    custom_model_stats={\n",
    "        \"Within R<sup>2</sup>\": [\n",
    "            round(m._r2_within, 3)\n",
    "            for m in [fe_panel_treatment, fe_panel_control, fe_panel]\n",
    "        ]\n",
    "    },\n",
    ")"
   ]
  },
  {
   "cell_type": "code",
   "execution_count": null,
   "metadata": {},
   "outputs": [],
   "source": []
  }
 ],
 "metadata": {
  "kernelspec": {
   "display_name": "da_pyfixest",
   "language": "python",
   "name": "python3"
  },
  "language_info": {
   "codemirror_mode": {
    "name": "ipython",
    "version": 3
   },
   "file_extension": ".py",
   "mimetype": "text/x-python",
   "name": "python",
   "nbconvert_exporter": "python",
   "pygments_lexer": "ipython3",
   "version": "3.12.4"
  }
 },
 "nbformat": 4,
 "nbformat_minor": 4
}
