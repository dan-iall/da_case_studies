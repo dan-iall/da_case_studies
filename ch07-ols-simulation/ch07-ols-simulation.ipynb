{
 "cells": [
  {
   "cell_type": "markdown",
   "metadata": {},
   "source": [
    "#### Prepared for Gabor's Data Analysis\n",
    "\n",
    "### Data Analysis for Business, Economics, and Policy\n",
    "by Gabor Bekes and  Gabor Kezdi\n",
    " \n",
    "Cambridge University Press 2021\n",
    "\n",
    "**[gabors-data-analysis.com ](https://gabors-data-analysis.com/)**\n",
    "\n",
    " License: Free to share, modify and use for educational purposes. \n",
    " Not to be used for commercial purposes.\n",
    "\n",
    "### Chapter 07\n",
    "**CH07 OLS fit simulation**\n",
    "\n",
    "version 1.0 2021-05-05"
   ]
  },
  {
   "cell_type": "code",
   "execution_count": 1,
   "metadata": {},
   "outputs": [],
   "source": [
    "import os\n",
    "import sys\n",
    "import warnings\n",
    "\n",
    "import numpy as np\n",
    "import pandas as pd\n",
    "import matplotlib.font_manager\n",
    "from mizani.formatters import percent_format\n",
    "from mizani import transforms\n",
    "from plotnine import *\n",
    "from datetime import datetime\n",
    "from scipy.stats import norm\n",
    "import statsmodels.formula.api as smf\n",
    "import seaborn as sns\n",
    "import matplotlib.pyplot as plt\n",
    "\n",
    "warnings.filterwarnings(\"ignore\")\n"
   ]
  },
  {
   "cell_type": "code",
   "execution_count": 2,
   "metadata": {},
   "outputs": [],
   "source": [
    "# Current script folder\n",
    "current_path = os.getcwd()\n",
    "dirname = current_path.split(\"da_case_studies\")[0]\n",
    "\n",
    "# location folders\n",
    "output = dirname + \"da_case_studies/ch07-ols-simulation/output/\"\n",
    "func = dirname + \"da_case_studies/ch00-tech-prep/\"\n",
    "sys.path.append(func)\n"
   ]
  },
  {
   "cell_type": "code",
   "execution_count": 3,
   "metadata": {},
   "outputs": [],
   "source": [
    "\n",
    "# Import the prewritten helper functions\n",
    "import py_helper_functions as da\n",
    "sns.set_theme(rc=da.da_theme, palette=da.color)"
   ]
  },
  {
   "cell_type": "markdown",
   "metadata": {},
   "source": [
    "Set random seed"
   ]
  },
  {
   "cell_type": "code",
   "execution_count": 4,
   "metadata": {},
   "outputs": [],
   "source": [
    "rng = np.random.default_rng(1458)"
   ]
  },
  {
   "cell_type": "markdown",
   "metadata": {},
   "source": [
    "Set sample size"
   ]
  },
  {
   "cell_type": "code",
   "execution_count": 5,
   "metadata": {},
   "outputs": [],
   "source": [
    "n = 100"
   ]
  },
  {
   "cell_type": "markdown",
   "metadata": {},
   "source": [
    "xvar - uniformly distributed x, [0,4]"
   ]
  },
  {
   "cell_type": "code",
   "execution_count": 6,
   "metadata": {},
   "outputs": [],
   "source": [
    "xvar = rng.uniform(0, 4, n)"
   ]
  },
  {
   "cell_type": "markdown",
   "metadata": {},
   "source": [
    "yvar - y  = a + bx + u (u normally distributed)"
   ]
  },
  {
   "cell_type": "code",
   "execution_count": 7,
   "metadata": {},
   "outputs": [],
   "source": [
    "a = 2\n",
    "b = 0.5\n",
    "sigmau = 0.7\n",
    "yvar = a + b * xvar + rng.normal(0, sigmau, size=n)"
   ]
  },
  {
   "cell_type": "code",
   "execution_count": 8,
   "metadata": {},
   "outputs": [],
   "source": [
    "ols = pd.DataFrame({\"yvar\": yvar, \"xvar\": xvar})"
   ]
  },
  {
   "cell_type": "code",
   "execution_count": 9,
   "metadata": {},
   "outputs": [
    {
     "data": {
      "text/html": [
       "<table class=\"simpletable\">\n",
       "<caption>OLS Regression Results</caption>\n",
       "<tr>\n",
       "  <th>Dep. Variable:</th>          <td>yvar</td>       <th>  R-squared:         </th> <td>   0.384</td>\n",
       "</tr>\n",
       "<tr>\n",
       "  <th>Model:</th>                   <td>OLS</td>       <th>  Adj. R-squared:    </th> <td>   0.378</td>\n",
       "</tr>\n",
       "<tr>\n",
       "  <th>Method:</th>             <td>Least Squares</td>  <th>  F-statistic:       </th> <td>   61.16</td>\n",
       "</tr>\n",
       "<tr>\n",
       "  <th>Date:</th>             <td>Mon, 03 Mar 2025</td> <th>  Prob (F-statistic):</th> <td>6.12e-12</td>\n",
       "</tr>\n",
       "<tr>\n",
       "  <th>Time:</th>                 <td>11:49:47</td>     <th>  Log-Likelihood:    </th> <td> -105.40</td>\n",
       "</tr>\n",
       "<tr>\n",
       "  <th>No. Observations:</th>      <td>   100</td>      <th>  AIC:               </th> <td>   214.8</td>\n",
       "</tr>\n",
       "<tr>\n",
       "  <th>Df Residuals:</th>          <td>    98</td>      <th>  BIC:               </th> <td>   220.0</td>\n",
       "</tr>\n",
       "<tr>\n",
       "  <th>Df Model:</th>              <td>     1</td>      <th>                     </th>     <td> </td>   \n",
       "</tr>\n",
       "<tr>\n",
       "  <th>Covariance Type:</th>      <td>nonrobust</td>    <th>                     </th>     <td> </td>   \n",
       "</tr>\n",
       "</table>\n",
       "<table class=\"simpletable\">\n",
       "<tr>\n",
       "      <td></td>         <th>coef</th>     <th>std err</th>      <th>t</th>      <th>P>|t|</th>  <th>[0.025</th>    <th>0.975]</th>  \n",
       "</tr>\n",
       "<tr>\n",
       "  <th>Intercept</th> <td>    2.0096</td> <td>    0.138</td> <td>   14.601</td> <td> 0.000</td> <td>    1.736</td> <td>    2.283</td>\n",
       "</tr>\n",
       "<tr>\n",
       "  <th>xvar</th>      <td>    0.4716</td> <td>    0.060</td> <td>    7.820</td> <td> 0.000</td> <td>    0.352</td> <td>    0.591</td>\n",
       "</tr>\n",
       "</table>\n",
       "<table class=\"simpletable\">\n",
       "<tr>\n",
       "  <th>Omnibus:</th>       <td> 7.693</td> <th>  Durbin-Watson:     </th> <td>   2.166</td>\n",
       "</tr>\n",
       "<tr>\n",
       "  <th>Prob(Omnibus):</th> <td> 0.021</td> <th>  Jarque-Bera (JB):  </th> <td>   8.207</td>\n",
       "</tr>\n",
       "<tr>\n",
       "  <th>Skew:</th>          <td>-0.473</td> <th>  Prob(JB):          </th> <td>  0.0165</td>\n",
       "</tr>\n",
       "<tr>\n",
       "  <th>Kurtosis:</th>      <td> 4.037</td> <th>  Cond. No.          </th> <td>    5.14</td>\n",
       "</tr>\n",
       "</table><br/><br/>Notes:<br/>[1] Standard Errors assume that the covariance matrix of the errors is correctly specified."
      ],
      "text/latex": [
       "\\begin{center}\n",
       "\\begin{tabular}{lclc}\n",
       "\\toprule\n",
       "\\textbf{Dep. Variable:}    &       yvar       & \\textbf{  R-squared:         } &     0.384   \\\\\n",
       "\\textbf{Model:}            &       OLS        & \\textbf{  Adj. R-squared:    } &     0.378   \\\\\n",
       "\\textbf{Method:}           &  Least Squares   & \\textbf{  F-statistic:       } &     61.16   \\\\\n",
       "\\textbf{Date:}             & Mon, 03 Mar 2025 & \\textbf{  Prob (F-statistic):} &  6.12e-12   \\\\\n",
       "\\textbf{Time:}             &     11:49:47     & \\textbf{  Log-Likelihood:    } &   -105.40   \\\\\n",
       "\\textbf{No. Observations:} &         100      & \\textbf{  AIC:               } &     214.8   \\\\\n",
       "\\textbf{Df Residuals:}     &          98      & \\textbf{  BIC:               } &     220.0   \\\\\n",
       "\\textbf{Df Model:}         &           1      & \\textbf{                     } &             \\\\\n",
       "\\textbf{Covariance Type:}  &    nonrobust     & \\textbf{                     } &             \\\\\n",
       "\\bottomrule\n",
       "\\end{tabular}\n",
       "\\begin{tabular}{lcccccc}\n",
       "                   & \\textbf{coef} & \\textbf{std err} & \\textbf{t} & \\textbf{P$> |$t$|$} & \\textbf{[0.025} & \\textbf{0.975]}  \\\\\n",
       "\\midrule\n",
       "\\textbf{Intercept} &       2.0096  &        0.138     &    14.601  &         0.000        &        1.736    &        2.283     \\\\\n",
       "\\textbf{xvar}      &       0.4716  &        0.060     &     7.820  &         0.000        &        0.352    &        0.591     \\\\\n",
       "\\bottomrule\n",
       "\\end{tabular}\n",
       "\\begin{tabular}{lclc}\n",
       "\\textbf{Omnibus:}       &  7.693 & \\textbf{  Durbin-Watson:     } &    2.166  \\\\\n",
       "\\textbf{Prob(Omnibus):} &  0.021 & \\textbf{  Jarque-Bera (JB):  } &    8.207  \\\\\n",
       "\\textbf{Skew:}          & -0.473 & \\textbf{  Prob(JB):          } &   0.0165  \\\\\n",
       "\\textbf{Kurtosis:}      &  4.037 & \\textbf{  Cond. No.          } &     5.14  \\\\\n",
       "\\bottomrule\n",
       "\\end{tabular}\n",
       "%\\caption{OLS Regression Results}\n",
       "\\end{center}\n",
       "\n",
       "Notes: \\newline\n",
       " [1] Standard Errors assume that the covariance matrix of the errors is correctly specified."
      ],
      "text/plain": [
       "<class 'statsmodels.iolib.summary.Summary'>\n",
       "\"\"\"\n",
       "                            OLS Regression Results                            \n",
       "==============================================================================\n",
       "Dep. Variable:                   yvar   R-squared:                       0.384\n",
       "Model:                            OLS   Adj. R-squared:                  0.378\n",
       "Method:                 Least Squares   F-statistic:                     61.16\n",
       "Date:                Mon, 03 Mar 2025   Prob (F-statistic):           6.12e-12\n",
       "Time:                        11:49:47   Log-Likelihood:                -105.40\n",
       "No. Observations:                 100   AIC:                             214.8\n",
       "Df Residuals:                      98   BIC:                             220.0\n",
       "Df Model:                           1                                         \n",
       "Covariance Type:            nonrobust                                         \n",
       "==============================================================================\n",
       "                 coef    std err          t      P>|t|      [0.025      0.975]\n",
       "------------------------------------------------------------------------------\n",
       "Intercept      2.0096      0.138     14.601      0.000       1.736       2.283\n",
       "xvar           0.4716      0.060      7.820      0.000       0.352       0.591\n",
       "==============================================================================\n",
       "Omnibus:                        7.693   Durbin-Watson:                   2.166\n",
       "Prob(Omnibus):                  0.021   Jarque-Bera (JB):                8.207\n",
       "Skew:                          -0.473   Prob(JB):                       0.0165\n",
       "Kurtosis:                       4.037   Cond. No.                         5.14\n",
       "==============================================================================\n",
       "\n",
       "Notes:\n",
       "[1] Standard Errors assume that the covariance matrix of the errors is correctly specified.\n",
       "\"\"\""
      ]
     },
     "execution_count": 9,
     "metadata": {},
     "output_type": "execute_result"
    }
   ],
   "source": [
    "reg = smf.ols(formula=\"yvar~xvar\", data=ols).fit()\n",
    "reg.summary()"
   ]
  },
  {
   "cell_type": "code",
   "execution_count": 10,
   "metadata": {},
   "outputs": [
    {
     "data": {
      "image/png": "[encoded data removed]",
      "text/plain": [
       "<Figure size 700x550 with 1 Axes>"
      ]
     },
     "metadata": {},
     "output_type": "display_data"
    }
   ],
   "source": [
    "mean_x = round(np.mean(xvar), 2)\n",
    "mean_y = round(np.mean(yvar), 2)\n",
    "\n",
    "sns.regplot(data=ols, x=\"xvar\", y=\"yvar\",ci = False,line_kws=dict(color=da.color[1]),scatter_kws=dict(alpha = 1,s = 20))\n",
    "plt.plot([mean_x,mean_x],\n",
    "             [0,400],linewidth = 0.5,color = da.color[2],linestyle = 'dashed')\n",
    "\n",
    "plt.plot([0,7],\n",
    "             [mean_y,mean_y],linewidth = 0.5,color = da.color[2],linestyle = 'dashed')\n",
    "\n",
    "\n",
    "plt.annotate(\n",
    "    \"Average x\", \n",
    "    xy=(2, 4), \n",
    "    xytext=(0.7,3.96), \n",
    "    arrowprops=dict(color='black', arrowstyle='->'),\n",
    "    fontsize=11\n",
    ")\n",
    "\n",
    "plt.annotate(\n",
    "    \"Average y\", \n",
    "    xy=(0.5, 3), \n",
    "    xytext=(0.23,3.6), \n",
    "    arrowprops=dict(color='black', arrowstyle='->'),\n",
    "    fontsize=11\n",
    ")\n",
    "plt.xlabel(\"Distance to city center (miles)\", fontsize=12)\n",
    "plt.ylabel(\"Price (US dollars)\", fontsize=12)\n",
    "plt.xlim(-0.1, 4.1)\n",
    "plt.xticks(np.arange(0, 4.1, 1))  \n",
    "plt.ylim(-0.1, 5.1)\n",
    "plt.yticks(np.arange(0, 5.1, 1))  \n",
    "\n",
    "plt.legend().remove()\n",
    "plt.show()"
   ]
  },
  {
   "cell_type": "code",
   "execution_count": null,
   "metadata": {},
   "outputs": [],
   "source": []
  }
 ],
 "metadata": {
  "kernelspec": {
   "display_name": "daenv",
   "language": "python",
   "name": "python3"
  },
  "language_info": {
   "codemirror_mode": {
    "name": "ipython",
    "version": 3
   },
   "file_extension": ".py",
   "mimetype": "text/x-python",
   "name": "python",
   "nbconvert_exporter": "python",
   "pygments_lexer": "ipython3",
   "version": "3.12.4"
  }
 },
 "nbformat": 4,
 "nbformat_minor": 4
}
