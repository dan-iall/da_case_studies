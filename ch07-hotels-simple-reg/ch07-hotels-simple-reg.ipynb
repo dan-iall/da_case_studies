{
 "cells": [
  {
   "cell_type": "markdown",
   "metadata": {},
   "source": [
    "#### Prepared for Gabor's Data Analysis\n",
    "\n",
    "### Data Analysis for Business, Economics, and Policy\n",
    "by Gabor Bekes and  Gabor Kezdi\n",
    " \n",
    "Cambridge University Press 2021\n",
    "\n",
    "**[gabors-data-analysis.com ](https://gabors-data-analysis.com/)**\n",
    "\n",
    " License: Free to share, modify and use for educational purposes. \n",
    " Not to be used for commercial purposes.\n",
    "\n",
    "### Chapter 07\n",
    "**CH07A Finding a Good Deal among Hotels with Simple Regression**\n",
    "\n",
    "hotels-vienna  dataset\n",
    "\n",
    "version 1.0 2021-05-05"
   ]
  },
  {
   "cell_type": "code",
   "execution_count": 1,
   "metadata": {},
   "outputs": [],
   "source": [
    "import os\n",
    "import sys\n",
    "import warnings\n",
    "\n",
    "import numpy as np\n",
    "import pandas as pd\n",
    "from mizani.formatters import percent_format\n",
    "from matplotlib.ticker import PercentFormatter\n",
    "from plotnine import *\n",
    "import statsmodels.formula.api as smf\n",
    "import seaborn as sns\n",
    "import matplotlib.pyplot as plt\n",
    "\n",
    "warnings.filterwarnings(\"ignore\")\n"
   ]
  },
  {
   "cell_type": "code",
   "execution_count": 2,
   "metadata": {},
   "outputs": [],
   "source": [
    "\n",
    "# Current script folder\n",
    "current_path = os.getcwd()\n",
    "dirname = current_path.split(\"da_case_studies\")[0]\n",
    " \n",
    "# location folders\n",
    "data_in = dirname + \"da_data_repo/hotels-vienna/clean/\"\n",
    "data_out = dirname + \"da_case_studies/ch03-hotels-vienna-explore/\"\n",
    "output = dirname + \"da_case_studies/ch03-hotels-vienna-explore/output/\"\n",
    "func = dirname + \"da_case_studies/ch00-tech-prep/\"\n",
    "sys.path.append(func)\n"
   ]
  },
  {
   "cell_type": "code",
   "execution_count": 3,
   "metadata": {},
   "outputs": [],
   "source": [
    "# Import the prewritten helper functions\n",
    "import py_helper_functions as da\n",
    "sns.set_theme(rc=da.da_theme, palette=da.color)\n"
   ]
  },
  {
   "cell_type": "code",
   "execution_count": 4,
   "metadata": {},
   "outputs": [],
   "source": [
    "# load vienna\n",
    "hotels = pd.read_csv(data_in + \"hotels-vienna.csv\")\n",
    "# hotels = pd.read_csv(\"https://osf.io/y6jvb/download\")\n",
    " "
   ]
  },
  {
   "cell_type": "markdown",
   "metadata": {},
   "source": [
    "### SAMPLE SELECTION\n",
    "\n",
    "Apply filters:  3-4 stars, Vienna actual, without  extreme value"
   ]
  },
  {
   "cell_type": "code",
   "execution_count": 5,
   "metadata": {},
   "outputs": [],
   "source": [
    "hotels = hotels.loc[\n",
    "    (hotels[\"accommodation_type\"] == \"Hotel\")\n",
    "    & (hotels[\"city_actual\"] == \"Vienna\")\n",
    "    & (hotels[\"stars\"] >= 3)\n",
    "    & (hotels[\"stars\"] <= 4)\n",
    "    & (hotels[\"stars\"].notna())\n",
    "    & (hotels[\"price\"] <= 600)\n",
    "]\n"
   ]
  },
  {
   "cell_type": "code",
   "execution_count": 6,
   "metadata": {},
   "outputs": [],
   "source": [
    "# save a copy of the work file\n",
    "hotels.to_csv(data_out + \"hotels_work.csv\", index=False)\n"
   ]
  },
  {
   "cell_type": "markdown",
   "metadata": {},
   "source": [
    "### Summary statistics on price and distance"
   ]
  },
  {
   "cell_type": "code",
   "execution_count": 7,
   "metadata": {},
   "outputs": [
    {
     "data": {
      "application/vnd.microsoft.datawrangler.viewer.v0+json": {
       "columns": [
        {
         "name": "index",
         "rawType": "object",
         "type": "string"
        },
        {
         "name": "price",
         "rawType": "float64",
         "type": "float"
        }
       ],
       "conversionMethod": "pd.DataFrame",
       "ref": "2920f764-c7ce-4a81-a774-0231c91eed63",
       "rows": [
        [
         "count",
         "207.0"
        ],
        [
         "mean",
         "109.97584541062803"
        ],
        [
         "std",
         "42.221381370006355"
        ],
        [
         "min",
         "50.0"
        ],
        [
         "50%",
         "100.0"
        ],
        [
         "95%",
         "183.39999999999998"
        ],
        [
         "max",
         "383.0"
        ]
       ],
       "shape": {
        "columns": 1,
        "rows": 7
       }
      },
      "text/html": [
       "<div>\n",
       "<style scoped>\n",
       "    .dataframe tbody tr th:only-of-type {\n",
       "        vertical-align: middle;\n",
       "    }\n",
       "\n",
       "    .dataframe tbody tr th {\n",
       "        vertical-align: top;\n",
       "    }\n",
       "\n",
       "    .dataframe thead th {\n",
       "        text-align: right;\n",
       "    }\n",
       "</style>\n",
       "<table border=\"1\" class=\"dataframe\">\n",
       "  <thead>\n",
       "    <tr style=\"text-align: right;\">\n",
       "      <th></th>\n",
       "      <th>price</th>\n",
       "    </tr>\n",
       "  </thead>\n",
       "  <tbody>\n",
       "    <tr>\n",
       "      <th>count</th>\n",
       "      <td>207.000000</td>\n",
       "    </tr>\n",
       "    <tr>\n",
       "      <th>mean</th>\n",
       "      <td>109.975845</td>\n",
       "    </tr>\n",
       "    <tr>\n",
       "      <th>std</th>\n",
       "      <td>42.221381</td>\n",
       "    </tr>\n",
       "    <tr>\n",
       "      <th>min</th>\n",
       "      <td>50.000000</td>\n",
       "    </tr>\n",
       "    <tr>\n",
       "      <th>50%</th>\n",
       "      <td>100.000000</td>\n",
       "    </tr>\n",
       "    <tr>\n",
       "      <th>95%</th>\n",
       "      <td>183.400000</td>\n",
       "    </tr>\n",
       "    <tr>\n",
       "      <th>max</th>\n",
       "      <td>383.000000</td>\n",
       "    </tr>\n",
       "  </tbody>\n",
       "</table>\n",
       "</div>"
      ],
      "text/plain": [
       "            price\n",
       "count  207.000000\n",
       "mean   109.975845\n",
       "std     42.221381\n",
       "min     50.000000\n",
       "50%    100.000000\n",
       "95%    183.400000\n",
       "max    383.000000"
      ]
     },
     "execution_count": 7,
     "metadata": {},
     "output_type": "execute_result"
    }
   ],
   "source": [
    "# Price\n",
    "hotels[[\"price\"]].describe(percentiles=[0.50, 0.95])\n"
   ]
  },
  {
   "cell_type": "code",
   "execution_count": 8,
   "metadata": {
    "scrolled": true
   },
   "outputs": [
    {
     "data": {
      "application/vnd.microsoft.datawrangler.viewer.v0+json": {
       "columns": [
        {
         "name": "index",
         "rawType": "object",
         "type": "string"
        },
        {
         "name": "distance",
         "rawType": "float64",
         "type": "float"
        }
       ],
       "conversionMethod": "pd.DataFrame",
       "ref": "2c09fc6d-5734-4d2b-9fbb-bdc090d30f2d",
       "rows": [
        [
         "count",
         "207.0"
        ],
        [
         "mean",
         "1.5299516908212563"
        ],
        [
         "std",
         "1.1615070130413394"
        ],
        [
         "min",
         "0.0"
        ],
        [
         "50%",
         "1.3"
        ],
        [
         "95%",
         "3.9"
        ],
        [
         "max",
         "6.6"
        ]
       ],
       "shape": {
        "columns": 1,
        "rows": 7
       }
      },
      "text/html": [
       "<div>\n",
       "<style scoped>\n",
       "    .dataframe tbody tr th:only-of-type {\n",
       "        vertical-align: middle;\n",
       "    }\n",
       "\n",
       "    .dataframe tbody tr th {\n",
       "        vertical-align: top;\n",
       "    }\n",
       "\n",
       "    .dataframe thead th {\n",
       "        text-align: right;\n",
       "    }\n",
       "</style>\n",
       "<table border=\"1\" class=\"dataframe\">\n",
       "  <thead>\n",
       "    <tr style=\"text-align: right;\">\n",
       "      <th></th>\n",
       "      <th>distance</th>\n",
       "    </tr>\n",
       "  </thead>\n",
       "  <tbody>\n",
       "    <tr>\n",
       "      <th>count</th>\n",
       "      <td>207.000000</td>\n",
       "    </tr>\n",
       "    <tr>\n",
       "      <th>mean</th>\n",
       "      <td>1.529952</td>\n",
       "    </tr>\n",
       "    <tr>\n",
       "      <th>std</th>\n",
       "      <td>1.161507</td>\n",
       "    </tr>\n",
       "    <tr>\n",
       "      <th>min</th>\n",
       "      <td>0.000000</td>\n",
       "    </tr>\n",
       "    <tr>\n",
       "      <th>50%</th>\n",
       "      <td>1.300000</td>\n",
       "    </tr>\n",
       "    <tr>\n",
       "      <th>95%</th>\n",
       "      <td>3.900000</td>\n",
       "    </tr>\n",
       "    <tr>\n",
       "      <th>max</th>\n",
       "      <td>6.600000</td>\n",
       "    </tr>\n",
       "  </tbody>\n",
       "</table>\n",
       "</div>"
      ],
      "text/plain": [
       "         distance\n",
       "count  207.000000\n",
       "mean     1.529952\n",
       "std      1.161507\n",
       "min      0.000000\n",
       "50%      1.300000\n",
       "95%      3.900000\n",
       "max      6.600000"
      ]
     },
     "execution_count": 8,
     "metadata": {},
     "output_type": "execute_result"
    }
   ],
   "source": [
    "# Distance\n",
    "hotels[[\"distance\"]].describe(percentiles=[0.50, 0.95])\n"
   ]
  },
  {
   "cell_type": "markdown",
   "metadata": {},
   "source": [
    "### REGRESSION 1: CLOSE VS FAR REGRESSION WITH BINARY DISTANCE\n"
   ]
  },
  {
   "cell_type": "code",
   "execution_count": 9,
   "metadata": {},
   "outputs": [],
   "source": [
    "hotels[\"dist2\"] = hotels[\"distance\"] >= 2"
   ]
  },
  {
   "cell_type": "code",
   "execution_count": 10,
   "metadata": {},
   "outputs": [],
   "source": [
    "hotels[\"Eprice_cat2\"] = hotels.groupby(\"dist2\")[\"price\"].transform(\"mean\")"
   ]
  },
  {
   "cell_type": "code",
   "execution_count": 11,
   "metadata": {},
   "outputs": [],
   "source": [
    "hotels[\"dist2\"] = hotels[\"dist2\"].replace(0, \"Close\")\n",
    "hotels[\"dist2\"] = hotels[\"dist2\"].replace(1, \"Far\")"
   ]
  },
  {
   "cell_type": "code",
   "execution_count": 12,
   "metadata": {},
   "outputs": [
    {
     "data": {
      "application/vnd.microsoft.datawrangler.viewer.v0+json": {
       "columns": [
        {
         "name": "dist2",
         "rawType": "bool",
         "type": "boolean"
        },
        {
         "name": "('distance', 'count')",
         "rawType": "float64",
         "type": "float"
        },
        {
         "name": "('distance', 'mean')",
         "rawType": "float64",
         "type": "float"
        },
        {
         "name": "('distance', 'std')",
         "rawType": "float64",
         "type": "float"
        },
        {
         "name": "('distance', 'min')",
         "rawType": "float64",
         "type": "float"
        },
        {
         "name": "('distance', '25%')",
         "rawType": "float64",
         "type": "float"
        },
        {
         "name": "('distance', '50%')",
         "rawType": "float64",
         "type": "float"
        },
        {
         "name": "('distance', '75%')",
         "rawType": "float64",
         "type": "float"
        },
        {
         "name": "('distance', 'max')",
         "rawType": "float64",
         "type": "float"
        },
        {
         "name": "('price', 'count')",
         "rawType": "float64",
         "type": "float"
        },
        {
         "name": "('price', 'mean')",
         "rawType": "float64",
         "type": "float"
        },
        {
         "name": "('price', 'std')",
         "rawType": "float64",
         "type": "float"
        },
        {
         "name": "('price', 'min')",
         "rawType": "float64",
         "type": "float"
        },
        {
         "name": "('price', '25%')",
         "rawType": "float64",
         "type": "float"
        },
        {
         "name": "('price', '50%')",
         "rawType": "float64",
         "type": "float"
        },
        {
         "name": "('price', '75%')",
         "rawType": "float64",
         "type": "float"
        },
        {
         "name": "('price', 'max')",
         "rawType": "float64",
         "type": "float"
        }
       ],
       "conversionMethod": "pd.DataFrame",
       "ref": "3d20b809-da49-494e-84f9-6d2243bb3e9b",
       "rows": [
        [
         "False",
         "157.0",
         "0.9949044585987262",
         "0.5393248602798604",
         "0.0",
         "0.5",
         "0.9",
         "1.5",
         "1.9",
         "157.0",
         "116.4267515923567",
         "43.095928152837885",
         "54.0",
         "85.0",
         "109.0",
         "135.0",
         "383.0"
        ],
        [
         "True",
         "50.0",
         "3.21",
         "0.9737891486982431",
         "2.0",
         "2.4",
         "3.1",
         "3.7",
         "6.6",
         "50.0",
         "89.72",
         "32.085370816123714",
         "50.0",
         "74.25",
         "81.5",
         "96.5",
         "208.0"
        ]
       ],
       "shape": {
        "columns": 16,
        "rows": 2
       }
      },
      "text/html": [
       "<div>\n",
       "<style scoped>\n",
       "    .dataframe tbody tr th:only-of-type {\n",
       "        vertical-align: middle;\n",
       "    }\n",
       "\n",
       "    .dataframe tbody tr th {\n",
       "        vertical-align: top;\n",
       "    }\n",
       "\n",
       "    .dataframe thead tr th {\n",
       "        text-align: left;\n",
       "    }\n",
       "\n",
       "    .dataframe thead tr:last-of-type th {\n",
       "        text-align: right;\n",
       "    }\n",
       "</style>\n",
       "<table border=\"1\" class=\"dataframe\">\n",
       "  <thead>\n",
       "    <tr>\n",
       "      <th></th>\n",
       "      <th colspan=\"8\" halign=\"left\">distance</th>\n",
       "      <th colspan=\"8\" halign=\"left\">price</th>\n",
       "    </tr>\n",
       "    <tr>\n",
       "      <th></th>\n",
       "      <th>count</th>\n",
       "      <th>mean</th>\n",
       "      <th>std</th>\n",
       "      <th>min</th>\n",
       "      <th>25%</th>\n",
       "      <th>50%</th>\n",
       "      <th>75%</th>\n",
       "      <th>max</th>\n",
       "      <th>count</th>\n",
       "      <th>mean</th>\n",
       "      <th>std</th>\n",
       "      <th>min</th>\n",
       "      <th>25%</th>\n",
       "      <th>50%</th>\n",
       "      <th>75%</th>\n",
       "      <th>max</th>\n",
       "    </tr>\n",
       "    <tr>\n",
       "      <th>dist2</th>\n",
       "      <th></th>\n",
       "      <th></th>\n",
       "      <th></th>\n",
       "      <th></th>\n",
       "      <th></th>\n",
       "      <th></th>\n",
       "      <th></th>\n",
       "      <th></th>\n",
       "      <th></th>\n",
       "      <th></th>\n",
       "      <th></th>\n",
       "      <th></th>\n",
       "      <th></th>\n",
       "      <th></th>\n",
       "      <th></th>\n",
       "      <th></th>\n",
       "    </tr>\n",
       "  </thead>\n",
       "  <tbody>\n",
       "    <tr>\n",
       "      <th>False</th>\n",
       "      <td>157.0</td>\n",
       "      <td>0.994904</td>\n",
       "      <td>0.539325</td>\n",
       "      <td>0.0</td>\n",
       "      <td>0.5</td>\n",
       "      <td>0.9</td>\n",
       "      <td>1.5</td>\n",
       "      <td>1.9</td>\n",
       "      <td>157.0</td>\n",
       "      <td>116.426752</td>\n",
       "      <td>43.095928</td>\n",
       "      <td>54.0</td>\n",
       "      <td>85.00</td>\n",
       "      <td>109.0</td>\n",
       "      <td>135.0</td>\n",
       "      <td>383.0</td>\n",
       "    </tr>\n",
       "    <tr>\n",
       "      <th>True</th>\n",
       "      <td>50.0</td>\n",
       "      <td>3.210000</td>\n",
       "      <td>0.973789</td>\n",
       "      <td>2.0</td>\n",
       "      <td>2.4</td>\n",
       "      <td>3.1</td>\n",
       "      <td>3.7</td>\n",
       "      <td>6.6</td>\n",
       "      <td>50.0</td>\n",
       "      <td>89.720000</td>\n",
       "      <td>32.085371</td>\n",
       "      <td>50.0</td>\n",
       "      <td>74.25</td>\n",
       "      <td>81.5</td>\n",
       "      <td>96.5</td>\n",
       "      <td>208.0</td>\n",
       "    </tr>\n",
       "  </tbody>\n",
       "</table>\n",
       "</div>"
      ],
      "text/plain": [
       "      distance                                               price  \\\n",
       "         count      mean       std  min  25%  50%  75%  max  count   \n",
       "dist2                                                                \n",
       "False    157.0  0.994904  0.539325  0.0  0.5  0.9  1.5  1.9  157.0   \n",
       "True      50.0  3.210000  0.973789  2.0  2.4  3.1  3.7  6.6   50.0   \n",
       "\n",
       "                                                                \n",
       "             mean        std   min    25%    50%    75%    max  \n",
       "dist2                                                           \n",
       "False  116.426752  43.095928  54.0  85.00  109.0  135.0  383.0  \n",
       "True    89.720000  32.085371  50.0  74.25   81.5   96.5  208.0  "
      ]
     },
     "execution_count": 12,
     "metadata": {},
     "output_type": "execute_result"
    }
   ],
   "source": [
    "hotels[[\"dist2\", \"distance\", \"price\"]].groupby(\"dist2\").aggregate(\"describe\")"
   ]
  },
  {
   "cell_type": "markdown",
   "metadata": {},
   "source": [
    "# Figure 7.1a\n",
    "# PLOT MEAN VALUES BY CLOSE VS FAR"
   ]
  },
  {
   "cell_type": "code",
   "execution_count": 13,
   "metadata": {},
   "outputs": [
    {
     "data": {
      "image/png": "[encoded data removed]",
      "text/plain": [
       "<Figure size 700x550 with 1 Axes>"
      ]
     },
     "metadata": {},
     "output_type": "display_data"
    }
   ],
   "source": [
    "sns.scatterplot(\n",
    "    data=hotels,\n",
    "    x='dist2',\n",
    "    y='Eprice_cat2',\n",
    "    s=100,  \n",
    "    color=da.color[0],\n",
    "    alpha=0.4\n",
    ")\n",
    "\n",
    "\n",
    "for idx, row in hotels.iterrows():\n",
    "    plt.text(\n",
    "        row['dist2'] - 0.04, \n",
    "        row['Eprice_cat2'] + 20,  \n",
    "        str(int(round(row['Eprice_cat2']))),  \n",
    "        color='black',\n",
    "        fontsize=12 \n",
    "    )\n",
    "\n",
    "plt.xlabel(\"Distance to city center (categories)\", fontsize=12)\n",
    "plt.ylabel(\"Average price (US dollars)\", fontsize=12)\n",
    "plt.xlim(-0.7, 1.7)\n",
    "plt.xticks([False, True], labels=[\"False\", \"True\"])  \n",
    "plt.ylim(0, 410)\n",
    "plt.yticks(np.arange(0, 401, 50))\n",
    "\n",
    "\n",
    "plt.show()"
   ]
  },
  {
   "cell_type": "code",
   "execution_count": 14,
   "metadata": {},
   "outputs": [],
   "source": [
    "hotels[\"dist4\"] = hotels[\"distance\"].apply(\n",
    "    lambda x: 0.5 + 1 * int(x >= 1) + 1 * int(x >= 2) + 2.5 * int(x >= 3)\n",
    ")\n"
   ]
  },
  {
   "cell_type": "code",
   "execution_count": 15,
   "metadata": {},
   "outputs": [],
   "source": [
    "hotels[\"Eprice_cat4\"] = hotels.groupby(\"dist4\")[\"price\"].transform(\"mean\")"
   ]
  },
  {
   "cell_type": "code",
   "execution_count": 16,
   "metadata": {},
   "outputs": [
    {
     "data": {
      "application/vnd.microsoft.datawrangler.viewer.v0+json": {
       "columns": [
        {
         "name": "dist4",
         "rawType": "float64",
         "type": "float"
        },
        {
         "name": "('distance', 'count')",
         "rawType": "float64",
         "type": "float"
        },
        {
         "name": "('distance', 'mean')",
         "rawType": "float64",
         "type": "float"
        },
        {
         "name": "('distance', 'std')",
         "rawType": "float64",
         "type": "float"
        },
        {
         "name": "('distance', 'min')",
         "rawType": "float64",
         "type": "float"
        },
        {
         "name": "('distance', '25%')",
         "rawType": "float64",
         "type": "float"
        },
        {
         "name": "('distance', '50%')",
         "rawType": "float64",
         "type": "float"
        },
        {
         "name": "('distance', '75%')",
         "rawType": "float64",
         "type": "float"
        },
        {
         "name": "('distance', 'max')",
         "rawType": "float64",
         "type": "float"
        },
        {
         "name": "('price', 'count')",
         "rawType": "float64",
         "type": "float"
        },
        {
         "name": "('price', 'mean')",
         "rawType": "float64",
         "type": "float"
        },
        {
         "name": "('price', 'std')",
         "rawType": "float64",
         "type": "float"
        },
        {
         "name": "('price', 'min')",
         "rawType": "float64",
         "type": "float"
        },
        {
         "name": "('price', '25%')",
         "rawType": "float64",
         "type": "float"
        },
        {
         "name": "('price', '50%')",
         "rawType": "float64",
         "type": "float"
        },
        {
         "name": "('price', '75%')",
         "rawType": "float64",
         "type": "float"
        },
        {
         "name": "('price', 'max')",
         "rawType": "float64",
         "type": "float"
        }
       ],
       "conversionMethod": "pd.DataFrame",
       "ref": "2c410820-6dc7-478b-a466-3d7fcc21480d",
       "rows": [
        [
         "0.5",
         "81.0",
         "0.5543209876543209",
         "0.2828645359160677",
         "0.0",
         "0.3",
         "0.6",
         "0.8",
         "0.9",
         "81.0",
         "132.91358024691357",
         "38.540627113107604",
         "68.0",
         "110.0",
         "128.0",
         "152.0",
         "242.0"
        ],
        [
         "1.5",
         "76.0",
         "1.4644736842105264",
         "0.29425791288977365",
         "1.0",
         "1.2",
         "1.5",
         "1.7",
         "1.9",
         "76.0",
         "98.85526315789474",
         "40.89326071530399",
         "54.0",
         "81.75",
         "91.5",
         "105.25",
         "383.0"
        ],
        [
         "2.5",
         "22.0",
         "2.354545454545455",
         "0.3188181639195321",
         "2.0",
         "2.1",
         "2.3",
         "2.6",
         "2.9",
         "22.0",
         "97.54545454545455",
         "40.385908990904795",
         "54.0",
         "76.25",
         "82.5",
         "100.75",
         "208.0"
        ],
        [
         "5.0",
         "28.0",
         "3.882142857142857",
         "0.7596556585563747",
         "3.0",
         "3.475",
         "3.7",
         "4.1",
         "6.6",
         "28.0",
         "83.57142857142857",
         "22.596998442809582",
         "50.0",
         "68.75",
         "79.0",
         "91.25",
         "156.0"
        ]
       ],
       "shape": {
        "columns": 16,
        "rows": 4
       }
      },
      "text/html": [
       "<div>\n",
       "<style scoped>\n",
       "    .dataframe tbody tr th:only-of-type {\n",
       "        vertical-align: middle;\n",
       "    }\n",
       "\n",
       "    .dataframe tbody tr th {\n",
       "        vertical-align: top;\n",
       "    }\n",
       "\n",
       "    .dataframe thead tr th {\n",
       "        text-align: left;\n",
       "    }\n",
       "\n",
       "    .dataframe thead tr:last-of-type th {\n",
       "        text-align: right;\n",
       "    }\n",
       "</style>\n",
       "<table border=\"1\" class=\"dataframe\">\n",
       "  <thead>\n",
       "    <tr>\n",
       "      <th></th>\n",
       "      <th colspan=\"8\" halign=\"left\">distance</th>\n",
       "      <th colspan=\"8\" halign=\"left\">price</th>\n",
       "    </tr>\n",
       "    <tr>\n",
       "      <th></th>\n",
       "      <th>count</th>\n",
       "      <th>mean</th>\n",
       "      <th>std</th>\n",
       "      <th>min</th>\n",
       "      <th>25%</th>\n",
       "      <th>50%</th>\n",
       "      <th>75%</th>\n",
       "      <th>max</th>\n",
       "      <th>count</th>\n",
       "      <th>mean</th>\n",
       "      <th>std</th>\n",
       "      <th>min</th>\n",
       "      <th>25%</th>\n",
       "      <th>50%</th>\n",
       "      <th>75%</th>\n",
       "      <th>max</th>\n",
       "    </tr>\n",
       "    <tr>\n",
       "      <th>dist4</th>\n",
       "      <th></th>\n",
       "      <th></th>\n",
       "      <th></th>\n",
       "      <th></th>\n",
       "      <th></th>\n",
       "      <th></th>\n",
       "      <th></th>\n",
       "      <th></th>\n",
       "      <th></th>\n",
       "      <th></th>\n",
       "      <th></th>\n",
       "      <th></th>\n",
       "      <th></th>\n",
       "      <th></th>\n",
       "      <th></th>\n",
       "      <th></th>\n",
       "    </tr>\n",
       "  </thead>\n",
       "  <tbody>\n",
       "    <tr>\n",
       "      <th>0.5</th>\n",
       "      <td>81.0</td>\n",
       "      <td>0.554321</td>\n",
       "      <td>0.282865</td>\n",
       "      <td>0.0</td>\n",
       "      <td>0.300</td>\n",
       "      <td>0.6</td>\n",
       "      <td>0.8</td>\n",
       "      <td>0.9</td>\n",
       "      <td>81.0</td>\n",
       "      <td>132.913580</td>\n",
       "      <td>38.540627</td>\n",
       "      <td>68.0</td>\n",
       "      <td>110.00</td>\n",
       "      <td>128.0</td>\n",
       "      <td>152.00</td>\n",
       "      <td>242.0</td>\n",
       "    </tr>\n",
       "    <tr>\n",
       "      <th>1.5</th>\n",
       "      <td>76.0</td>\n",
       "      <td>1.464474</td>\n",
       "      <td>0.294258</td>\n",
       "      <td>1.0</td>\n",
       "      <td>1.200</td>\n",
       "      <td>1.5</td>\n",
       "      <td>1.7</td>\n",
       "      <td>1.9</td>\n",
       "      <td>76.0</td>\n",
       "      <td>98.855263</td>\n",
       "      <td>40.893261</td>\n",
       "      <td>54.0</td>\n",
       "      <td>81.75</td>\n",
       "      <td>91.5</td>\n",
       "      <td>105.25</td>\n",
       "      <td>383.0</td>\n",
       "    </tr>\n",
       "    <tr>\n",
       "      <th>2.5</th>\n",
       "      <td>22.0</td>\n",
       "      <td>2.354545</td>\n",
       "      <td>0.318818</td>\n",
       "      <td>2.0</td>\n",
       "      <td>2.100</td>\n",
       "      <td>2.3</td>\n",
       "      <td>2.6</td>\n",
       "      <td>2.9</td>\n",
       "      <td>22.0</td>\n",
       "      <td>97.545455</td>\n",
       "      <td>40.385909</td>\n",
       "      <td>54.0</td>\n",
       "      <td>76.25</td>\n",
       "      <td>82.5</td>\n",
       "      <td>100.75</td>\n",
       "      <td>208.0</td>\n",
       "    </tr>\n",
       "    <tr>\n",
       "      <th>5.0</th>\n",
       "      <td>28.0</td>\n",
       "      <td>3.882143</td>\n",
       "      <td>0.759656</td>\n",
       "      <td>3.0</td>\n",
       "      <td>3.475</td>\n",
       "      <td>3.7</td>\n",
       "      <td>4.1</td>\n",
       "      <td>6.6</td>\n",
       "      <td>28.0</td>\n",
       "      <td>83.571429</td>\n",
       "      <td>22.596998</td>\n",
       "      <td>50.0</td>\n",
       "      <td>68.75</td>\n",
       "      <td>79.0</td>\n",
       "      <td>91.25</td>\n",
       "      <td>156.0</td>\n",
       "    </tr>\n",
       "  </tbody>\n",
       "</table>\n",
       "</div>"
      ],
      "text/plain": [
       "      distance                                                price  \\\n",
       "         count      mean       std  min    25%  50%  75%  max count   \n",
       "dist4                                                                 \n",
       "0.5       81.0  0.554321  0.282865  0.0  0.300  0.6  0.8  0.9  81.0   \n",
       "1.5       76.0  1.464474  0.294258  1.0  1.200  1.5  1.7  1.9  76.0   \n",
       "2.5       22.0  2.354545  0.318818  2.0  2.100  2.3  2.6  2.9  22.0   \n",
       "5.0       28.0  3.882143  0.759656  3.0  3.475  3.7  4.1  6.6  28.0   \n",
       "\n",
       "                                                                  \n",
       "             mean        std   min     25%    50%     75%    max  \n",
       "dist4                                                             \n",
       "0.5    132.913580  38.540627  68.0  110.00  128.0  152.00  242.0  \n",
       "1.5     98.855263  40.893261  54.0   81.75   91.5  105.25  383.0  \n",
       "2.5     97.545455  40.385909  54.0   76.25   82.5  100.75  208.0  \n",
       "5.0     83.571429  22.596998  50.0   68.75   79.0   91.25  156.0  "
      ]
     },
     "execution_count": 16,
     "metadata": {},
     "output_type": "execute_result"
    }
   ],
   "source": [
    "hotels[[\"dist4\", \"distance\", \"price\"]].groupby(\"dist4\").aggregate(\"describe\")\n"
   ]
  },
  {
   "cell_type": "code",
   "execution_count": 17,
   "metadata": {},
   "outputs": [
    {
     "data": {
      "image/png": "[encoded data removed]",
      "text/plain": [
       "<Figure size 700x550 with 1 Axes>"
      ]
     },
     "metadata": {},
     "output_type": "display_data"
    }
   ],
   "source": [
    "sns.scatterplot(\n",
    "    data=hotels,\n",
    "    x='dist4',\n",
    "    y='Eprice_cat4',\n",
    "    s=100,  \n",
    "    color=da.color[0],\n",
    "    alpha=0.4\n",
    ")\n",
    "\n",
    "\n",
    "for idx, row in hotels.iterrows():\n",
    "    plt.text(\n",
    "        row['dist4'] - 0.14, \n",
    "        row['Eprice_cat4'] + 20,  \n",
    "        str(int(round(row['Eprice_cat4']))),  \n",
    "        color='black',\n",
    "        fontsize=12 \n",
    "    )\n",
    "\n",
    "plt.xlabel(\"Distance to city center (categories)\", fontsize=12)\n",
    "plt.ylabel(\"Average price (US dollars)\", fontsize=12)\n",
    "plt.xlim(-0.05, 7.05) \n",
    "plt.ylim(0, 410)\n",
    "plt.yticks(np.arange(0, 401, 50))\n",
    "\n",
    "\n",
    "plt.show()"
   ]
  },
  {
   "cell_type": "code",
   "execution_count": 18,
   "metadata": {},
   "outputs": [
    {
     "data": {
      "image/png": "[encoded data removed]",
      "text/plain": [
       "<Figure size 700x550 with 1 Axes>"
      ]
     },
     "metadata": {},
     "output_type": "display_data"
    }
   ],
   "source": [
    "fig, ax = plt.subplots()\n",
    "sns.boxplot(\n",
    "    data=hotels,\n",
    "    x='dist2',\n",
    "    y='price',\n",
    "    width=0.5,\n",
    "    showfliers=False,  \n",
    "    fill = False\n",
    ")\n",
    "\n",
    "for i in range(0,int(len(ax.lines)/2)):\n",
    "    ax.lines[i].set_color(da.color[0])\n",
    "\n",
    "for i in range(int(len(ax.lines)/2),len(ax.lines)):\n",
    "    ax.lines[i].set_color(da.color[1])\n",
    "\n",
    "sns.stripplot(\n",
    "    data=hotels,\n",
    "    x='dist2',\n",
    "    y='price',\n",
    "    palette=da.color,  \n",
    "    size=3,  \n",
    "    alpha=1,\n",
    "    jitter=0.08\n",
    ")\n",
    "\n",
    "plt.xlabel(\"Distance to city center (categories)\", fontsize=12)\n",
    "plt.ylabel(\"Price (US dollars)\", fontsize=12)\n",
    "plt.ylim(0, 410)\n",
    "plt.yticks(np.arange(0, 401, 50))\n",
    "plt.xticks([0, 1], labels=[\"False\", \"True\"])  \n",
    "plt.show()"
   ]
  },
  {
   "cell_type": "markdown",
   "metadata": {},
   "source": [
    "\n",
    "## FIGURE 7.2a 7.2b"
   ]
  },
  {
   "cell_type": "code",
   "execution_count": 19,
   "metadata": {},
   "outputs": [
    {
     "data": {
      "image/png": "[encoded data removed]",
      "text/plain": [
       "<Figure size 700x550 with 1 Axes>"
      ]
     },
     "metadata": {},
     "output_type": "display_data"
    }
   ],
   "source": [
    "sns.scatterplot(\n",
    "    data=hotels,\n",
    "    x='distance',\n",
    "    y='price',\n",
    "    color=da.color[0],\n",
    "    alpha=1,\n",
    "    s=25\n",
    ")\n",
    "\n",
    "# Customize axes\n",
    "plt.xlabel(\"Distance to city center (miles)\", fontsize=12)\n",
    "plt.ylabel(\"Price (US dollars)\", fontsize=12)\n",
    "plt.xlim(-0.1, 7.1)\n",
    "plt.xticks(np.arange(0, 8, 1))  \n",
    "plt.ylim(-10, 405)\n",
    "plt.yticks(np.arange(0, 401, 50))  \n",
    "\n",
    "plt.legend().remove()\n",
    "\n",
    "\n",
    "plt.show()"
   ]
  },
  {
   "cell_type": "code",
   "execution_count": 20,
   "metadata": {},
   "outputs": [
    {
     "data": {
      "image/png": "[encoded data removed]",
      "text/plain": [
       "<Figure size 700x550 with 1 Axes>"
      ]
     },
     "metadata": {},
     "output_type": "display_data"
    }
   ],
   "source": [
    "sns.scatterplot(\n",
    "    data=hotels,\n",
    "    x='distance',\n",
    "    y='price',\n",
    "    color=da.color[0],\n",
    "    alpha=1,\n",
    "    s=40\n",
    ")\n",
    "\n",
    "\n",
    "plt.xlabel(\"Distance to city center (miles)\", fontsize=12)\n",
    "plt.ylabel(\"Price (US dollars)\", fontsize=12)\n",
    "plt.xlim(-0.1, 7.1)\n",
    "plt.xticks(np.arange(0, 8, 1))  \n",
    "plt.ylim(-10, 405)\n",
    "plt.yticks(np.arange(0, 401, 50))  \n",
    "plt.legend().remove()\n",
    "plt.show()"
   ]
  },
  {
   "cell_type": "markdown",
   "metadata": {},
   "source": [
    "#### Scatterplot with step function (we use 1km bits for simpplicity using 4 bits for 3-7km)\n"
   ]
  },
  {
   "cell_type": "code",
   "execution_count": 21,
   "metadata": {},
   "outputs": [],
   "source": [
    "hotels[\"dist4_s\"] = hotels[\"distance\"].apply(\n",
    "    lambda x: 1 * int(x >= 1)\n",
    "    + 1 * int(x >= 2)\n",
    "    + 1 * int(x >= 3)\n",
    "    + 1 * int(x >= 4)\n",
    "    + 1 * int(x >= 5)\n",
    "    + 1 * int(x >= 6)\n",
    ")\n",
    "hotels[\"xend\"] = hotels[\"dist4_s\"] + 1\n",
    "hotels[\"yend\"] = hotels[\"Eprice_cat4\"]\n"
   ]
  },
  {
   "cell_type": "code",
   "execution_count": 22,
   "metadata": {},
   "outputs": [
    {
     "data": {
      "text/plain": [
       "xend\n",
       "1    81\n",
       "2    76\n",
       "3    22\n",
       "4    20\n",
       "5     6\n",
       "6     1\n",
       "7     1\n",
       "Name: count, dtype: int64"
      ]
     },
     "execution_count": 22,
     "metadata": {},
     "output_type": "execute_result"
    }
   ],
   "source": [
    "hotels[\"xend\"].value_counts()"
   ]
  },
  {
   "cell_type": "code",
   "execution_count": 23,
   "metadata": {},
   "outputs": [
    {
     "data": {
      "text/plain": [
       "yend\n",
       "132.913580    81\n",
       "98.855263     76\n",
       "83.571429     28\n",
       "97.545455     22\n",
       "Name: count, dtype: int64"
      ]
     },
     "execution_count": 23,
     "metadata": {},
     "output_type": "execute_result"
    }
   ],
   "source": [
    "hotels[\"yend\"].value_counts()"
   ]
  },
  {
   "cell_type": "code",
   "execution_count": 24,
   "metadata": {},
   "outputs": [
    {
     "data": {
      "application/vnd.microsoft.datawrangler.viewer.v0+json": {
       "columns": [
        {
         "name": "index",
         "rawType": "int64",
         "type": "integer"
        },
        {
         "name": "dist4_s",
         "rawType": "int64",
         "type": "integer"
        },
        {
         "name": "xend",
         "rawType": "int64",
         "type": "integer"
        },
        {
         "name": "yend",
         "rawType": "float64",
         "type": "float"
        }
       ],
       "conversionMethod": "pd.DataFrame",
       "ref": "1d9fe9a2-3d40-43cf-b2e8-777422c075ca",
       "rows": [
        [
         "1",
         "1",
         "2",
         "98.85526315789474"
        ],
        [
         "2",
         "1",
         "2",
         "98.85526315789474"
        ],
        [
         "3",
         "1",
         "2",
         "98.85526315789474"
        ],
        [
         "4",
         "1",
         "2",
         "98.85526315789474"
        ],
        [
         "6",
         "0",
         "1",
         "132.91358024691357"
        ],
        [
         "7",
         "1",
         "2",
         "98.85526315789474"
        ],
        [
         "10",
         "1",
         "2",
         "98.85526315789474"
        ],
        [
         "11",
         "0",
         "1",
         "132.91358024691357"
        ],
        [
         "15",
         "1",
         "2",
         "98.85526315789474"
        ],
        [
         "16",
         "0",
         "1",
         "132.91358024691357"
        ],
        [
         "17",
         "0",
         "1",
         "132.91358024691357"
        ],
        [
         "18",
         "0",
         "1",
         "132.91358024691357"
        ],
        [
         "21",
         "4",
         "5",
         "83.57142857142857"
        ],
        [
         "22",
         "3",
         "4",
         "83.57142857142857"
        ],
        [
         "23",
         "3",
         "4",
         "83.57142857142857"
        ],
        [
         "26",
         "2",
         "3",
         "97.54545454545455"
        ],
        [
         "27",
         "3",
         "4",
         "83.57142857142857"
        ],
        [
         "29",
         "2",
         "3",
         "97.54545454545455"
        ],
        [
         "34",
         "1",
         "2",
         "98.85526315789474"
        ],
        [
         "35",
         "1",
         "2",
         "98.85526315789474"
        ],
        [
         "36",
         "2",
         "3",
         "97.54545454545455"
        ],
        [
         "38",
         "1",
         "2",
         "98.85526315789474"
        ],
        [
         "46",
         "1",
         "2",
         "98.85526315789474"
        ],
        [
         "51",
         "0",
         "1",
         "132.91358024691357"
        ],
        [
         "54",
         "0",
         "1",
         "132.91358024691357"
        ],
        [
         "56",
         "0",
         "1",
         "132.91358024691357"
        ],
        [
         "57",
         "0",
         "1",
         "132.91358024691357"
        ],
        [
         "58",
         "0",
         "1",
         "132.91358024691357"
        ],
        [
         "59",
         "0",
         "1",
         "132.91358024691357"
        ],
        [
         "60",
         "0",
         "1",
         "132.91358024691357"
        ],
        [
         "62",
         "0",
         "1",
         "132.91358024691357"
        ],
        [
         "64",
         "0",
         "1",
         "132.91358024691357"
        ],
        [
         "67",
         "0",
         "1",
         "132.91358024691357"
        ],
        [
         "68",
         "0",
         "1",
         "132.91358024691357"
        ],
        [
         "69",
         "0",
         "1",
         "132.91358024691357"
        ],
        [
         "70",
         "0",
         "1",
         "132.91358024691357"
        ],
        [
         "71",
         "0",
         "1",
         "132.91358024691357"
        ],
        [
         "77",
         "0",
         "1",
         "132.91358024691357"
        ],
        [
         "78",
         "0",
         "1",
         "132.91358024691357"
        ],
        [
         "90",
         "0",
         "1",
         "132.91358024691357"
        ],
        [
         "92",
         "0",
         "1",
         "132.91358024691357"
        ],
        [
         "93",
         "0",
         "1",
         "132.91358024691357"
        ],
        [
         "94",
         "0",
         "1",
         "132.91358024691357"
        ],
        [
         "96",
         "0",
         "1",
         "132.91358024691357"
        ],
        [
         "98",
         "0",
         "1",
         "132.91358024691357"
        ],
        [
         "99",
         "0",
         "1",
         "132.91358024691357"
        ],
        [
         "101",
         "0",
         "1",
         "132.91358024691357"
        ],
        [
         "103",
         "0",
         "1",
         "132.91358024691357"
        ],
        [
         "105",
         "0",
         "1",
         "132.91358024691357"
        ],
        [
         "107",
         "0",
         "1",
         "132.91358024691357"
        ]
       ],
       "shape": {
        "columns": 3,
        "rows": 207
       }
      },
      "text/html": [
       "<div>\n",
       "<style scoped>\n",
       "    .dataframe tbody tr th:only-of-type {\n",
       "        vertical-align: middle;\n",
       "    }\n",
       "\n",
       "    .dataframe tbody tr th {\n",
       "        vertical-align: top;\n",
       "    }\n",
       "\n",
       "    .dataframe thead th {\n",
       "        text-align: right;\n",
       "    }\n",
       "</style>\n",
       "<table border=\"1\" class=\"dataframe\">\n",
       "  <thead>\n",
       "    <tr style=\"text-align: right;\">\n",
       "      <th></th>\n",
       "      <th>dist4_s</th>\n",
       "      <th>xend</th>\n",
       "      <th>yend</th>\n",
       "    </tr>\n",
       "  </thead>\n",
       "  <tbody>\n",
       "    <tr>\n",
       "      <th>1</th>\n",
       "      <td>1</td>\n",
       "      <td>2</td>\n",
       "      <td>98.855263</td>\n",
       "    </tr>\n",
       "    <tr>\n",
       "      <th>2</th>\n",
       "      <td>1</td>\n",
       "      <td>2</td>\n",
       "      <td>98.855263</td>\n",
       "    </tr>\n",
       "    <tr>\n",
       "      <th>3</th>\n",
       "      <td>1</td>\n",
       "      <td>2</td>\n",
       "      <td>98.855263</td>\n",
       "    </tr>\n",
       "    <tr>\n",
       "      <th>4</th>\n",
       "      <td>1</td>\n",
       "      <td>2</td>\n",
       "      <td>98.855263</td>\n",
       "    </tr>\n",
       "    <tr>\n",
       "      <th>6</th>\n",
       "      <td>0</td>\n",
       "      <td>1</td>\n",
       "      <td>132.913580</td>\n",
       "    </tr>\n",
       "    <tr>\n",
       "      <th>...</th>\n",
       "      <td>...</td>\n",
       "      <td>...</td>\n",
       "      <td>...</td>\n",
       "    </tr>\n",
       "    <tr>\n",
       "      <th>420</th>\n",
       "      <td>1</td>\n",
       "      <td>2</td>\n",
       "      <td>98.855263</td>\n",
       "    </tr>\n",
       "    <tr>\n",
       "      <th>421</th>\n",
       "      <td>1</td>\n",
       "      <td>2</td>\n",
       "      <td>98.855263</td>\n",
       "    </tr>\n",
       "    <tr>\n",
       "      <th>422</th>\n",
       "      <td>1</td>\n",
       "      <td>2</td>\n",
       "      <td>98.855263</td>\n",
       "    </tr>\n",
       "    <tr>\n",
       "      <th>425</th>\n",
       "      <td>1</td>\n",
       "      <td>2</td>\n",
       "      <td>98.855263</td>\n",
       "    </tr>\n",
       "    <tr>\n",
       "      <th>426</th>\n",
       "      <td>1</td>\n",
       "      <td>2</td>\n",
       "      <td>98.855263</td>\n",
       "    </tr>\n",
       "  </tbody>\n",
       "</table>\n",
       "<p>207 rows × 3 columns</p>\n",
       "</div>"
      ],
      "text/plain": [
       "     dist4_s  xend        yend\n",
       "1          1     2   98.855263\n",
       "2          1     2   98.855263\n",
       "3          1     2   98.855263\n",
       "4          1     2   98.855263\n",
       "6          0     1  132.913580\n",
       "..       ...   ...         ...\n",
       "420        1     2   98.855263\n",
       "421        1     2   98.855263\n",
       "422        1     2   98.855263\n",
       "425        1     2   98.855263\n",
       "426        1     2   98.855263\n",
       "\n",
       "[207 rows x 3 columns]"
      ]
     },
     "execution_count": 24,
     "metadata": {},
     "output_type": "execute_result"
    }
   ],
   "source": [
    "hotels[[\"dist4_s\",\"xend\",\"yend\"]]"
   ]
  },
  {
   "cell_type": "code",
   "execution_count": 25,
   "metadata": {},
   "outputs": [
    {
     "data": {
      "image/png": "[encoded data removed]",
      "text/plain": [
       "<Figure size 700x550 with 1 Axes>"
      ]
     },
     "metadata": {},
     "output_type": "display_data"
    }
   ],
   "source": [
    "sns.scatterplot(\n",
    "    data=hotels,\n",
    "    x='distance',\n",
    "    y='price',\n",
    "    color=da.color[0],\n",
    "    alpha=1,\n",
    "    s=25\n",
    ")\n",
    "for _, row in hotels.iterrows():\n",
    "    plt.plot([row[\"dist4_s\"],row[\"xend\"]],\n",
    "             [row[\"yend\"],row[\"yend\"]],linewidth = 1.5,color = da.color[1])\n",
    "# Customize axes\n",
    "plt.xlabel(\"Distance to city center (miles)\", fontsize=12)\n",
    "plt.ylabel(\"Price (US dollars)\", fontsize=12)\n",
    "plt.xlim(-0.1, 7.1)\n",
    "plt.xticks(np.arange(0, 8, 1))  \n",
    "plt.ylim(-10, 405)\n",
    "plt.yticks(np.arange(0, 401, 50))  \n",
    "\n",
    "plt.legend().remove()\n",
    "\n",
    "\n",
    "plt.show()"
   ]
  },
  {
   "cell_type": "code",
   "execution_count": 26,
   "metadata": {},
   "outputs": [],
   "source": [
    "hotels[\"dist7_new\"] = hotels[\"distance\"].apply(\n",
    "    lambda x: 0.5\n",
    "    + 1 * int(x + 1 >= 1)\n",
    "    + 1 * int(x + 1 >= 2)\n",
    "    + 1 * int(x + 1 >= 3)\n",
    "    + 1 * int(x + 1 >= 4)\n",
    "    + 1 * int(x + 1 >= 5)\n",
    "    + 1 * int(x + 1 >= 6)\n",
    "    + 1 * int(x + 1 >= 7)\n",
    ")\n"
   ]
  },
  {
   "cell_type": "code",
   "execution_count": 27,
   "metadata": {},
   "outputs": [],
   "source": [
    "hotels[\"Eprice_cat7_new\"] = hotels.groupby(\"dist7_new\")[\"price\"].transform(\"mean\")"
   ]
  },
  {
   "cell_type": "code",
   "execution_count": 28,
   "metadata": {},
   "outputs": [
    {
     "data": {
      "application/vnd.microsoft.datawrangler.viewer.v0+json": {
       "columns": [
        {
         "name": "dist7_new",
         "rawType": "float64",
         "type": "float"
        },
        {
         "name": "('distance', 'count')",
         "rawType": "float64",
         "type": "float"
        },
        {
         "name": "('distance', 'mean')",
         "rawType": "float64",
         "type": "float"
        },
        {
         "name": "('distance', 'std')",
         "rawType": "float64",
         "type": "float"
        },
        {
         "name": "('distance', 'min')",
         "rawType": "float64",
         "type": "float"
        },
        {
         "name": "('distance', '25%')",
         "rawType": "float64",
         "type": "float"
        },
        {
         "name": "('distance', '50%')",
         "rawType": "float64",
         "type": "float"
        },
        {
         "name": "('distance', '75%')",
         "rawType": "float64",
         "type": "float"
        },
        {
         "name": "('distance', 'max')",
         "rawType": "float64",
         "type": "float"
        },
        {
         "name": "('price', 'count')",
         "rawType": "float64",
         "type": "float"
        },
        {
         "name": "('price', 'mean')",
         "rawType": "float64",
         "type": "float"
        },
        {
         "name": "('price', 'std')",
         "rawType": "float64",
         "type": "float"
        },
        {
         "name": "('price', 'min')",
         "rawType": "float64",
         "type": "float"
        },
        {
         "name": "('price', '25%')",
         "rawType": "float64",
         "type": "float"
        },
        {
         "name": "('price', '50%')",
         "rawType": "float64",
         "type": "float"
        },
        {
         "name": "('price', '75%')",
         "rawType": "float64",
         "type": "float"
        },
        {
         "name": "('price', 'max')",
         "rawType": "float64",
         "type": "float"
        }
       ],
       "conversionMethod": "pd.DataFrame",
       "ref": "e001533e-e6ee-4f93-b950-b9d4d63aaed9",
       "rows": [
        [
         "1.5",
         "81.0",
         "0.5543209876543209",
         "0.2828645359160677",
         "0.0",
         "0.3",
         "0.6",
         "0.8",
         "0.9",
         "81.0",
         "132.91358024691357",
         "38.540627113107604",
         "68.0",
         "110.0",
         "128.0",
         "152.0",
         "242.0"
        ],
        [
         "2.5",
         "76.0",
         "1.4644736842105264",
         "0.29425791288977365",
         "1.0",
         "1.2",
         "1.5",
         "1.7",
         "1.9",
         "76.0",
         "98.85526315789474",
         "40.89326071530399",
         "54.0",
         "81.75",
         "91.5",
         "105.25",
         "383.0"
        ],
        [
         "3.5",
         "22.0",
         "2.354545454545455",
         "0.3188181639195321",
         "2.0",
         "2.1",
         "2.3",
         "2.6",
         "2.9",
         "22.0",
         "97.54545454545455",
         "40.385908990904795",
         "54.0",
         "76.25",
         "82.5",
         "100.75",
         "208.0"
        ],
        [
         "4.5",
         "20.0",
         "3.525",
         "0.2989014975926984",
         "3.0",
         "3.275",
         "3.6",
         "3.7",
         "3.9",
         "20.0",
         "80.65",
         "23.154572130063553",
         "50.0",
         "67.5",
         "77.5",
         "85.5",
         "156.0"
        ],
        [
         "5.5",
         "6.0",
         "4.383333333333333",
         "0.29268868558020256",
         "4.1",
         "4.125",
         "4.35",
         "4.574999999999999",
         "4.8",
         "6.0",
         "82.5",
         "13.619838471876236",
         "68.0",
         "74.75",
         "78.5",
         "87.5",
         "106.0"
        ],
        [
         "6.5",
         "1.0",
         "5.3",
         null,
         "5.3",
         "5.3",
         "5.3",
         "5.3",
         "5.3",
         "1.0",
         "102.0",
         null,
         "102.0",
         "102.0",
         "102.0",
         "102.0",
         "102.0"
        ],
        [
         "7.5",
         "1.0",
         "6.6",
         null,
         "6.6",
         "6.6",
         "6.6",
         "6.6",
         "6.6",
         "1.0",
         "130.0",
         null,
         "130.0",
         "130.0",
         "130.0",
         "130.0",
         "130.0"
        ]
       ],
       "shape": {
        "columns": 16,
        "rows": 7
       }
      },
      "text/html": [
       "<div>\n",
       "<style scoped>\n",
       "    .dataframe tbody tr th:only-of-type {\n",
       "        vertical-align: middle;\n",
       "    }\n",
       "\n",
       "    .dataframe tbody tr th {\n",
       "        vertical-align: top;\n",
       "    }\n",
       "\n",
       "    .dataframe thead tr th {\n",
       "        text-align: left;\n",
       "    }\n",
       "\n",
       "    .dataframe thead tr:last-of-type th {\n",
       "        text-align: right;\n",
       "    }\n",
       "</style>\n",
       "<table border=\"1\" class=\"dataframe\">\n",
       "  <thead>\n",
       "    <tr>\n",
       "      <th></th>\n",
       "      <th colspan=\"8\" halign=\"left\">distance</th>\n",
       "      <th colspan=\"8\" halign=\"left\">price</th>\n",
       "    </tr>\n",
       "    <tr>\n",
       "      <th></th>\n",
       "      <th>count</th>\n",
       "      <th>mean</th>\n",
       "      <th>std</th>\n",
       "      <th>min</th>\n",
       "      <th>25%</th>\n",
       "      <th>50%</th>\n",
       "      <th>75%</th>\n",
       "      <th>max</th>\n",
       "      <th>count</th>\n",
       "      <th>mean</th>\n",
       "      <th>std</th>\n",
       "      <th>min</th>\n",
       "      <th>25%</th>\n",
       "      <th>50%</th>\n",
       "      <th>75%</th>\n",
       "      <th>max</th>\n",
       "    </tr>\n",
       "    <tr>\n",
       "      <th>dist7_new</th>\n",
       "      <th></th>\n",
       "      <th></th>\n",
       "      <th></th>\n",
       "      <th></th>\n",
       "      <th></th>\n",
       "      <th></th>\n",
       "      <th></th>\n",
       "      <th></th>\n",
       "      <th></th>\n",
       "      <th></th>\n",
       "      <th></th>\n",
       "      <th></th>\n",
       "      <th></th>\n",
       "      <th></th>\n",
       "      <th></th>\n",
       "      <th></th>\n",
       "    </tr>\n",
       "  </thead>\n",
       "  <tbody>\n",
       "    <tr>\n",
       "      <th>1.5</th>\n",
       "      <td>81.0</td>\n",
       "      <td>0.554321</td>\n",
       "      <td>0.282865</td>\n",
       "      <td>0.0</td>\n",
       "      <td>0.300</td>\n",
       "      <td>0.60</td>\n",
       "      <td>0.800</td>\n",
       "      <td>0.9</td>\n",
       "      <td>81.0</td>\n",
       "      <td>132.913580</td>\n",
       "      <td>38.540627</td>\n",
       "      <td>68.0</td>\n",
       "      <td>110.00</td>\n",
       "      <td>128.0</td>\n",
       "      <td>152.00</td>\n",
       "      <td>242.0</td>\n",
       "    </tr>\n",
       "    <tr>\n",
       "      <th>2.5</th>\n",
       "      <td>76.0</td>\n",
       "      <td>1.464474</td>\n",
       "      <td>0.294258</td>\n",
       "      <td>1.0</td>\n",
       "      <td>1.200</td>\n",
       "      <td>1.50</td>\n",
       "      <td>1.700</td>\n",
       "      <td>1.9</td>\n",
       "      <td>76.0</td>\n",
       "      <td>98.855263</td>\n",
       "      <td>40.893261</td>\n",
       "      <td>54.0</td>\n",
       "      <td>81.75</td>\n",
       "      <td>91.5</td>\n",
       "      <td>105.25</td>\n",
       "      <td>383.0</td>\n",
       "    </tr>\n",
       "    <tr>\n",
       "      <th>3.5</th>\n",
       "      <td>22.0</td>\n",
       "      <td>2.354545</td>\n",
       "      <td>0.318818</td>\n",
       "      <td>2.0</td>\n",
       "      <td>2.100</td>\n",
       "      <td>2.30</td>\n",
       "      <td>2.600</td>\n",
       "      <td>2.9</td>\n",
       "      <td>22.0</td>\n",
       "      <td>97.545455</td>\n",
       "      <td>40.385909</td>\n",
       "      <td>54.0</td>\n",
       "      <td>76.25</td>\n",
       "      <td>82.5</td>\n",
       "      <td>100.75</td>\n",
       "      <td>208.0</td>\n",
       "    </tr>\n",
       "    <tr>\n",
       "      <th>4.5</th>\n",
       "      <td>20.0</td>\n",
       "      <td>3.525000</td>\n",
       "      <td>0.298901</td>\n",
       "      <td>3.0</td>\n",
       "      <td>3.275</td>\n",
       "      <td>3.60</td>\n",
       "      <td>3.700</td>\n",
       "      <td>3.9</td>\n",
       "      <td>20.0</td>\n",
       "      <td>80.650000</td>\n",
       "      <td>23.154572</td>\n",
       "      <td>50.0</td>\n",
       "      <td>67.50</td>\n",
       "      <td>77.5</td>\n",
       "      <td>85.50</td>\n",
       "      <td>156.0</td>\n",
       "    </tr>\n",
       "    <tr>\n",
       "      <th>5.5</th>\n",
       "      <td>6.0</td>\n",
       "      <td>4.383333</td>\n",
       "      <td>0.292689</td>\n",
       "      <td>4.1</td>\n",
       "      <td>4.125</td>\n",
       "      <td>4.35</td>\n",
       "      <td>4.575</td>\n",
       "      <td>4.8</td>\n",
       "      <td>6.0</td>\n",
       "      <td>82.500000</td>\n",
       "      <td>13.619838</td>\n",
       "      <td>68.0</td>\n",
       "      <td>74.75</td>\n",
       "      <td>78.5</td>\n",
       "      <td>87.50</td>\n",
       "      <td>106.0</td>\n",
       "    </tr>\n",
       "    <tr>\n",
       "      <th>6.5</th>\n",
       "      <td>1.0</td>\n",
       "      <td>5.300000</td>\n",
       "      <td>NaN</td>\n",
       "      <td>5.3</td>\n",
       "      <td>5.300</td>\n",
       "      <td>5.30</td>\n",
       "      <td>5.300</td>\n",
       "      <td>5.3</td>\n",
       "      <td>1.0</td>\n",
       "      <td>102.000000</td>\n",
       "      <td>NaN</td>\n",
       "      <td>102.0</td>\n",
       "      <td>102.00</td>\n",
       "      <td>102.0</td>\n",
       "      <td>102.00</td>\n",
       "      <td>102.0</td>\n",
       "    </tr>\n",
       "    <tr>\n",
       "      <th>7.5</th>\n",
       "      <td>1.0</td>\n",
       "      <td>6.600000</td>\n",
       "      <td>NaN</td>\n",
       "      <td>6.6</td>\n",
       "      <td>6.600</td>\n",
       "      <td>6.60</td>\n",
       "      <td>6.600</td>\n",
       "      <td>6.6</td>\n",
       "      <td>1.0</td>\n",
       "      <td>130.000000</td>\n",
       "      <td>NaN</td>\n",
       "      <td>130.0</td>\n",
       "      <td>130.00</td>\n",
       "      <td>130.0</td>\n",
       "      <td>130.00</td>\n",
       "      <td>130.0</td>\n",
       "    </tr>\n",
       "  </tbody>\n",
       "</table>\n",
       "</div>"
      ],
      "text/plain": [
       "          distance                                                   price  \\\n",
       "             count      mean       std  min    25%   50%    75%  max count   \n",
       "dist7_new                                                                    \n",
       "1.5           81.0  0.554321  0.282865  0.0  0.300  0.60  0.800  0.9  81.0   \n",
       "2.5           76.0  1.464474  0.294258  1.0  1.200  1.50  1.700  1.9  76.0   \n",
       "3.5           22.0  2.354545  0.318818  2.0  2.100  2.30  2.600  2.9  22.0   \n",
       "4.5           20.0  3.525000  0.298901  3.0  3.275  3.60  3.700  3.9  20.0   \n",
       "5.5            6.0  4.383333  0.292689  4.1  4.125  4.35  4.575  4.8   6.0   \n",
       "6.5            1.0  5.300000       NaN  5.3  5.300  5.30  5.300  5.3   1.0   \n",
       "7.5            1.0  6.600000       NaN  6.6  6.600  6.60  6.600  6.6   1.0   \n",
       "\n",
       "                                                                       \n",
       "                 mean        std    min     25%    50%     75%    max  \n",
       "dist7_new                                                              \n",
       "1.5        132.913580  38.540627   68.0  110.00  128.0  152.00  242.0  \n",
       "2.5         98.855263  40.893261   54.0   81.75   91.5  105.25  383.0  \n",
       "3.5         97.545455  40.385909   54.0   76.25   82.5  100.75  208.0  \n",
       "4.5         80.650000  23.154572   50.0   67.50   77.5   85.50  156.0  \n",
       "5.5         82.500000  13.619838   68.0   74.75   78.5   87.50  106.0  \n",
       "6.5        102.000000        NaN  102.0  102.00  102.0  102.00  102.0  \n",
       "7.5        130.000000        NaN  130.0  130.00  130.0  130.00  130.0  "
      ]
     },
     "execution_count": 28,
     "metadata": {},
     "output_type": "execute_result"
    }
   ],
   "source": [
    "hotels[[\"dist7_new\", \"distance\", \"price\"]].groupby(\"dist7_new\").aggregate(\"describe\")\n"
   ]
  },
  {
   "cell_type": "code",
   "execution_count": 29,
   "metadata": {},
   "outputs": [],
   "source": [
    "# Scatterplot with step function, starting point is simply at cut-off\n",
    "hotels[\"dist7_s\"] = hotels.distance.apply(\n",
    "    lambda x: 1 * int(x >= 1)\n",
    "    + 1 * int(x >= 2)\n",
    "    + 1 * int(x >= 3)\n",
    "    + 1 * int(x >= 4)\n",
    "    + 1 * int(x >= 5)\n",
    "    + 1 * int(x >= 6)\n",
    "    + 1 * int(x >= 7)\n",
    ")\n",
    "hotels[\"xend\"] = hotels[\"dist7_s\"] + 1\n",
    "hotels[\"yend\"] = hotels[\"Eprice_cat7_new\"]\n"
   ]
  },
  {
   "cell_type": "code",
   "execution_count": 30,
   "metadata": {},
   "outputs": [
    {
     "data": {
      "image/png": "[encoded data removed]",
      "text/plain": [
       "<Figure size 700x550 with 1 Axes>"
      ]
     },
     "metadata": {},
     "output_type": "display_data"
    }
   ],
   "source": [
    "sns.scatterplot(\n",
    "    data=hotels,\n",
    "    x='distance',\n",
    "    y='price',\n",
    "    color=da.color[0],\n",
    "    alpha=1,\n",
    "    s=25\n",
    ")\n",
    "for _, row in hotels.iterrows():\n",
    "    plt.plot([row[\"dist7_s\"],row[\"xend\"]],\n",
    "             [row[\"yend\"],row[\"yend\"]],linewidth = 1.5,color = da.color[1])\n",
    "# Customize axes\n",
    "plt.xlabel(\"Distance to city center (miles)\", fontsize=12)\n",
    "plt.ylabel(\"Price (US dollars)\", fontsize=12)\n",
    "plt.xlim(-0.1, 7.1)\n",
    "plt.xticks(np.arange(0, 8, 1))  \n",
    "plt.ylim(-10, 405)\n",
    "plt.yticks(np.arange(0, 401, 50))  \n",
    "\n",
    "plt.legend().remove()\n",
    "\n",
    "\n",
    "plt.show()"
   ]
  },
  {
   "cell_type": "markdown",
   "metadata": {},
   "source": [
    "# Figure 7.3\n",
    "### LOWESS NONPARAMETRIC REGRESSION"
   ]
  },
  {
   "cell_type": "code",
   "execution_count": 31,
   "metadata": {},
   "outputs": [
    {
     "data": {
      "image/png": "[encoded data removed]",
      "text/plain": [
       "<Figure size 700x550 with 1 Axes>"
      ]
     },
     "metadata": {},
     "output_type": "display_data"
    }
   ],
   "source": [
    "sns.scatterplot(data=hotels, x=\"distance\", y=\"price\")\n",
    "da.plot_loess(data=hotels,x=\"distance\",y=\"price\",span=0.8,color=da.color[1])\n",
    "plt.xlabel(\"Distance to city center (miles)\", fontsize=12)\n",
    "plt.ylabel(\"Price (US dollars)\", fontsize=12)\n",
    "plt.xlim(-0.1, 7.1)\n",
    "plt.xticks(np.arange(0, 8, 1))  \n",
    "plt.ylim(-10, 405)\n",
    "plt.yticks(np.arange(0, 401, 50))  \n",
    "\n",
    "plt.legend().remove()\n",
    "\n",
    "\n",
    "plt.show()"
   ]
  },
  {
   "cell_type": "code",
   "execution_count": 32,
   "metadata": {},
   "outputs": [
    {
     "data": {
      "text/html": [
       "<table class=\"simpletable\">\n",
       "<caption>OLS Regression Results</caption>\n",
       "<tr>\n",
       "  <th>Dep. Variable:</th>          <td>price</td>      <th>  R-squared:         </th> <td>   0.157</td>\n",
       "</tr>\n",
       "<tr>\n",
       "  <th>Model:</th>                   <td>OLS</td>       <th>  Adj. R-squared:    </th> <td>   0.153</td>\n",
       "</tr>\n",
       "<tr>\n",
       "  <th>Method:</th>             <td>Least Squares</td>  <th>  F-statistic:       </th> <td>   38.20</td>\n",
       "</tr>\n",
       "<tr>\n",
       "  <th>Date:</th>             <td>Mon, 03 Mar 2025</td> <th>  Prob (F-statistic):</th> <td>3.39e-09</td>\n",
       "</tr>\n",
       "<tr>\n",
       "  <th>Time:</th>                 <td>11:46:41</td>     <th>  Log-Likelihood:    </th> <td> -1050.3</td>\n",
       "</tr>\n",
       "<tr>\n",
       "  <th>No. Observations:</th>      <td>   207</td>      <th>  AIC:               </th> <td>   2105.</td>\n",
       "</tr>\n",
       "<tr>\n",
       "  <th>Df Residuals:</th>          <td>   205</td>      <th>  BIC:               </th> <td>   2111.</td>\n",
       "</tr>\n",
       "<tr>\n",
       "  <th>Df Model:</th>              <td>     1</td>      <th>                     </th>     <td> </td>   \n",
       "</tr>\n",
       "<tr>\n",
       "  <th>Covariance Type:</th>      <td>nonrobust</td>    <th>                     </th>     <td> </td>   \n",
       "</tr>\n",
       "</table>\n",
       "<table class=\"simpletable\">\n",
       "<tr>\n",
       "      <td></td>         <th>coef</th>     <th>std err</th>      <th>t</th>      <th>P>|t|</th>  <th>[0.025</th>    <th>0.975]</th>  \n",
       "</tr>\n",
       "<tr>\n",
       "  <th>Intercept</th> <td>  132.0170</td> <td>    4.474</td> <td>   29.511</td> <td> 0.000</td> <td>  123.197</td> <td>  140.837</td>\n",
       "</tr>\n",
       "<tr>\n",
       "  <th>distance</th>  <td>  -14.4064</td> <td>    2.331</td> <td>   -6.181</td> <td> 0.000</td> <td>  -19.002</td> <td>   -9.811</td>\n",
       "</tr>\n",
       "</table>\n",
       "<table class=\"simpletable\">\n",
       "<tr>\n",
       "  <th>Omnibus:</th>       <td>141.994</td> <th>  Durbin-Watson:     </th> <td>   1.479</td>\n",
       "</tr>\n",
       "<tr>\n",
       "  <th>Prob(Omnibus):</th> <td> 0.000</td>  <th>  Jarque-Bera (JB):  </th> <td>1560.025</td>\n",
       "</tr>\n",
       "<tr>\n",
       "  <th>Skew:</th>          <td> 2.497</td>  <th>  Prob(JB):          </th> <td>    0.00</td>\n",
       "</tr>\n",
       "<tr>\n",
       "  <th>Kurtosis:</th>      <td>15.488</td>  <th>  Cond. No.          </th> <td>    3.78</td>\n",
       "</tr>\n",
       "</table><br/><br/>Notes:<br/>[1] Standard Errors assume that the covariance matrix of the errors is correctly specified."
      ],
      "text/latex": [
       "\\begin{center}\n",
       "\\begin{tabular}{lclc}\n",
       "\\toprule\n",
       "\\textbf{Dep. Variable:}    &      price       & \\textbf{  R-squared:         } &     0.157   \\\\\n",
       "\\textbf{Model:}            &       OLS        & \\textbf{  Adj. R-squared:    } &     0.153   \\\\\n",
       "\\textbf{Method:}           &  Least Squares   & \\textbf{  F-statistic:       } &     38.20   \\\\\n",
       "\\textbf{Date:}             & Mon, 03 Mar 2025 & \\textbf{  Prob (F-statistic):} &  3.39e-09   \\\\\n",
       "\\textbf{Time:}             &     11:46:41     & \\textbf{  Log-Likelihood:    } &   -1050.3   \\\\\n",
       "\\textbf{No. Observations:} &         207      & \\textbf{  AIC:               } &     2105.   \\\\\n",
       "\\textbf{Df Residuals:}     &         205      & \\textbf{  BIC:               } &     2111.   \\\\\n",
       "\\textbf{Df Model:}         &           1      & \\textbf{                     } &             \\\\\n",
       "\\textbf{Covariance Type:}  &    nonrobust     & \\textbf{                     } &             \\\\\n",
       "\\bottomrule\n",
       "\\end{tabular}\n",
       "\\begin{tabular}{lcccccc}\n",
       "                   & \\textbf{coef} & \\textbf{std err} & \\textbf{t} & \\textbf{P$> |$t$|$} & \\textbf{[0.025} & \\textbf{0.975]}  \\\\\n",
       "\\midrule\n",
       "\\textbf{Intercept} &     132.0170  &        4.474     &    29.511  &         0.000        &      123.197    &      140.837     \\\\\n",
       "\\textbf{distance}  &     -14.4064  &        2.331     &    -6.181  &         0.000        &      -19.002    &       -9.811     \\\\\n",
       "\\bottomrule\n",
       "\\end{tabular}\n",
       "\\begin{tabular}{lclc}\n",
       "\\textbf{Omnibus:}       & 141.994 & \\textbf{  Durbin-Watson:     } &    1.479  \\\\\n",
       "\\textbf{Prob(Omnibus):} &   0.000 & \\textbf{  Jarque-Bera (JB):  } & 1560.025  \\\\\n",
       "\\textbf{Skew:}          &   2.497 & \\textbf{  Prob(JB):          } &     0.00  \\\\\n",
       "\\textbf{Kurtosis:}      &  15.488 & \\textbf{  Cond. No.          } &     3.78  \\\\\n",
       "\\bottomrule\n",
       "\\end{tabular}\n",
       "%\\caption{OLS Regression Results}\n",
       "\\end{center}\n",
       "\n",
       "Notes: \\newline\n",
       " [1] Standard Errors assume that the covariance matrix of the errors is correctly specified."
      ],
      "text/plain": [
       "<class 'statsmodels.iolib.summary.Summary'>\n",
       "\"\"\"\n",
       "                            OLS Regression Results                            \n",
       "==============================================================================\n",
       "Dep. Variable:                  price   R-squared:                       0.157\n",
       "Model:                            OLS   Adj. R-squared:                  0.153\n",
       "Method:                 Least Squares   F-statistic:                     38.20\n",
       "Date:                Mon, 03 Mar 2025   Prob (F-statistic):           3.39e-09\n",
       "Time:                        11:46:41   Log-Likelihood:                -1050.3\n",
       "No. Observations:                 207   AIC:                             2105.\n",
       "Df Residuals:                     205   BIC:                             2111.\n",
       "Df Model:                           1                                         \n",
       "Covariance Type:            nonrobust                                         \n",
       "==============================================================================\n",
       "                 coef    std err          t      P>|t|      [0.025      0.975]\n",
       "------------------------------------------------------------------------------\n",
       "Intercept    132.0170      4.474     29.511      0.000     123.197     140.837\n",
       "distance     -14.4064      2.331     -6.181      0.000     -19.002      -9.811\n",
       "==============================================================================\n",
       "Omnibus:                      141.994   Durbin-Watson:                   1.479\n",
       "Prob(Omnibus):                  0.000   Jarque-Bera (JB):             1560.025\n",
       "Skew:                           2.497   Prob(JB):                         0.00\n",
       "Kurtosis:                      15.488   Cond. No.                         3.78\n",
       "==============================================================================\n",
       "\n",
       "Notes:\n",
       "[1] Standard Errors assume that the covariance matrix of the errors is correctly specified.\n",
       "\"\"\""
      ]
     },
     "execution_count": 32,
     "metadata": {},
     "output_type": "execute_result"
    }
   ],
   "source": [
    "### LINEAR REGRESSIONS\n",
    "regression = smf.ols(formula=\"price~distance\", data=hotels).fit()\n",
    "regression.summary()\n",
    "# regression.summary(slim=True)\n"
   ]
  },
  {
   "cell_type": "markdown",
   "metadata": {},
   "source": [
    "# Figure 7.5\n",
    "### SCATTERPLOT + REGRESSION LINE"
   ]
  },
  {
   "cell_type": "code",
   "execution_count": 33,
   "metadata": {},
   "outputs": [
    {
     "data": {
      "image/png": "[encoded data removed]",
      "text/plain": [
       "<Figure size 700x550 with 1 Axes>"
      ]
     },
     "metadata": {},
     "output_type": "display_data"
    }
   ],
   "source": [
    "sns.regplot(data=hotels, x=\"distance\", y=\"price\",ci = False,line_kws=dict(color=da.color[1]),scatter_kws=dict(alpha = 1,s = 25))\n",
    "plt.xlabel(\"Distance to city center (miles)\", fontsize=12)\n",
    "plt.ylabel(\"Price (US dollars)\", fontsize=12)\n",
    "plt.xlim(-0.1, 7.1)\n",
    "plt.xticks(np.arange(0, 8, 1))  \n",
    "plt.ylim(-10, 405)\n",
    "plt.yticks(np.arange(0, 401, 50))  \n",
    "\n",
    "plt.legend().remove()\n",
    "\n",
    "\n",
    "plt.show()"
   ]
  },
  {
   "cell_type": "markdown",
   "metadata": {},
   "source": [
    "### THE LINEAR REGRESSION GOES THROUGH THE AVERAGES\n",
    "### SCATTERPLOT + REGRESSION LINE + LINES FOR AVERAGES (NOT in BOOK)"
   ]
  },
  {
   "cell_type": "code",
   "execution_count": 34,
   "metadata": {},
   "outputs": [
    {
     "data": {
      "image/png": "[encoded data removed]",
      "text/plain": [
       "<Figure size 700x550 with 1 Axes>"
      ]
     },
     "metadata": {},
     "output_type": "display_data"
    }
   ],
   "source": [
    "sns.regplot(data=hotels, x=\"distance\", y=\"price\",ci = False,line_kws=dict(color=da.color[1]),scatter_kws=dict(alpha = 1,s = 20))\n",
    "plt.plot([hotels[\"distance\"].mean(),hotels[\"distance\"].mean()],\n",
    "             [0,400],linewidth = 0.5,color = da.color[2],linestyle = 'dashed')\n",
    "\n",
    "plt.plot([0,7],\n",
    "             [hotels[\"price\"].mean(),hotels[\"price\"].mean()],linewidth = 0.5,color = da.color[2],linestyle = 'dashed')\n",
    "plt.xlabel(\"Distance to city center (miles)\", fontsize=12)\n",
    "plt.ylabel(\"Price (US dollars)\", fontsize=12)\n",
    "plt.xlim(-0.1, 7.1)\n",
    "plt.xticks(np.arange(0, 8, 1))  \n",
    "plt.ylim(-10, 405)\n",
    "plt.yticks(np.arange(0, 401, 50))  \n",
    "\n",
    "plt.legend().remove()\n",
    "\n",
    "\n",
    "plt.show()"
   ]
  },
  {
   "cell_type": "markdown",
   "metadata": {},
   "source": [
    "### PREDICTED VALUES & RESIDUALS OF LINEAR REGRESSION "
   ]
  },
  {
   "cell_type": "code",
   "execution_count": 35,
   "metadata": {},
   "outputs": [],
   "source": [
    "regression = smf.ols(formula=\"price~distance\", data=hotels).fit()\n"
   ]
  },
  {
   "cell_type": "code",
   "execution_count": 36,
   "metadata": {},
   "outputs": [],
   "source": [
    "hotels[\"predprice\"] = regression.predict()\n",
    "hotels[\"e\"] = regression.resid"
   ]
  },
  {
   "cell_type": "markdown",
   "metadata": {},
   "source": [
    "### Figure 7.6, Table 7.1"
   ]
  },
  {
   "cell_type": "markdown",
   "metadata": {},
   "source": [
    "Pick one observation, with distance = 2.9, and label the residual on the scatter plot"
   ]
  },
  {
   "cell_type": "code",
   "execution_count": 37,
   "metadata": {},
   "outputs": [],
   "source": [
    "xa = 2.9 # distance"
   ]
  },
  {
   "cell_type": "markdown",
   "metadata": {},
   "source": [
    "get annotation values from the dataframe"
   ]
  },
  {
   "cell_type": "code",
   "execution_count": 38,
   "metadata": {},
   "outputs": [],
   "source": [
    "ya = hotels.loc[hotels[\"distance\"] == xa, \"price\"].values[0]\n",
    "ym = hotels.loc[hotels[\"distance\"] == xa, \"predprice\"].values[0]"
   ]
  },
  {
   "cell_type": "code",
   "execution_count": 39,
   "metadata": {},
   "outputs": [
    {
     "data": {
      "image/png": "[encoded data removed]",
      "text/plain": [
       "<Figure size 700x550 with 1 Axes>"
      ]
     },
     "metadata": {},
     "output_type": "display_data"
    }
   ],
   "source": [
    "\n",
    "\n",
    "sns.regplot(data=hotels, x=\"distance\", y=\"price\",ci = False,line_kws=dict(color=da.color[1]),scatter_kws=dict(alpha = 1,s = 20))\n",
    "\n",
    "plt.text(x=3.7, y=210, s=\"Residual\", fontsize=10, color=\"black\")\n",
    "\n",
    "plt.errorbar(x=xa, y=ya, yerr=0, fmt='o', color=da.color[1], capsize=5, label=\"Pointrange\")\n",
    "sns.scatterplot(x=[xa],y=[ya],color = da.color[1],s = 30,zorder = 3)\n",
    "\n",
    "subset = hotels.loc[hotels[\"distance\"].round(1) == xa]\n",
    "if not subset.empty:\n",
    "    plt.errorbar(\n",
    "        x=subset[\"distance\"].values[0],\n",
    "        y=ya,\n",
    "        yerr=[[ya - ym], [0]],\n",
    "        fmt='o',\n",
    "        color=da.color[0],\n",
    "        capsize=5,\n",
    "        linewidth=0.5\n",
    "    )\n",
    "\n",
    "plt.xlabel(\"Distance to city center (miles)\", fontsize=12)\n",
    "plt.ylabel(\"Price (US dollars)\", fontsize=12)\n",
    "plt.xlim(-0.1, 7.1)\n",
    "plt.xticks(np.arange(0, 8, 1))  \n",
    "plt.ylim(-10, 405)\n",
    "plt.yticks(np.arange(0, 401, 50))  \n",
    "\n",
    "plt.legend().remove()\n",
    "\n",
    "\n",
    "plt.show()\n",
    "\n"
   ]
  },
  {
   "cell_type": "code",
   "execution_count": 40,
   "metadata": {},
   "outputs": [
    {
     "data": {
      "image/png": "[encoded data removed]",
      "text/plain": [
       "<Figure size 700x550 with 1 Axes>"
      ]
     },
     "metadata": {},
     "output_type": "display_data"
    }
   ],
   "source": [
    "sns.histplot(\n",
    "    data=hotels,\n",
    "    x=\"e\",\n",
    "    binwidth=20,  \n",
    "    binrange=(-76,280),\n",
    "    color=da.color[0],\n",
    "    edgecolor=\"white\",\n",
    "    stat=\"probability\",  \n",
    "    alpha=1,\n",
    ")\n",
    "\n",
    "plt.xlabel(\"Residuals\")\n",
    "plt.ylabel(\"Percent\")\n",
    "plt.ylim(0, 0.31)\n",
    "plt.yticks(ticks=np.arange(0, 0.31, 0.05))\n",
    "plt.gca().yaxis.set_major_formatter(PercentFormatter(1))\n",
    "plt.xlim(-110, 310)\n",
    "plt.xticks(ticks=np.arange(-100, 301, 100))  \n",
    "plt.show()"
   ]
  },
  {
   "cell_type": "code",
   "execution_count": 41,
   "metadata": {},
   "outputs": [],
   "source": [
    "hotels[\"reg1_res\"] = [\"overpriced\" if e >= 0 else \"underpriced\" for e in hotels[\"e\"]]\n"
   ]
  },
  {
   "cell_type": "code",
   "execution_count": 42,
   "metadata": {},
   "outputs": [],
   "source": [
    "hotels.loc[hotels[\"e\"].sort_values().tail().index, \"reg1_res\"] = \"top5\"\n",
    "hotels.loc[hotels[\"e\"].sort_values().head().index, \"reg1_res\"] = \"bottom5\"\n"
   ]
  },
  {
   "cell_type": "code",
   "execution_count": 43,
   "metadata": {},
   "outputs": [],
   "source": [
    "bestdeals = hotels.loc[hotels[\"e\"].sort_values().head().index]"
   ]
  },
  {
   "cell_type": "markdown",
   "metadata": {},
   "source": [
    "### Figure 7.7\n",
    "### adding annotation"
   ]
  },
  {
   "cell_type": "code",
   "execution_count": 44,
   "metadata": {},
   "outputs": [
    {
     "data": {
      "application/vnd.microsoft.datawrangler.viewer.v0+json": {
       "columns": [
        {
         "name": "index",
         "rawType": "int64",
         "type": "integer"
        },
        {
         "name": "distance",
         "rawType": "float64",
         "type": "float"
        },
        {
         "name": "price",
         "rawType": "int64",
         "type": "integer"
        }
       ],
       "conversionMethod": "pd.DataFrame",
       "ref": "91a0e7f5-29b9-4d86-a976-9ed9b2765241",
       "rows": [
        [
         "10",
         "1.1",
         "60"
        ],
        [
         "153",
         "1.1",
         "54"
        ],
        [
         "163",
         "0.9",
         "68"
        ],
        [
         "211",
         "1.0",
         "63"
        ],
        [
         "426",
         "1.4",
         "58"
        ]
       ],
       "shape": {
        "columns": 2,
        "rows": 5
       }
      },
      "text/html": [
       "<div>\n",
       "<style scoped>\n",
       "    .dataframe tbody tr th:only-of-type {\n",
       "        vertical-align: middle;\n",
       "    }\n",
       "\n",
       "    .dataframe tbody tr th {\n",
       "        vertical-align: top;\n",
       "    }\n",
       "\n",
       "    .dataframe thead th {\n",
       "        text-align: right;\n",
       "    }\n",
       "</style>\n",
       "<table border=\"1\" class=\"dataframe\">\n",
       "  <thead>\n",
       "    <tr style=\"text-align: right;\">\n",
       "      <th></th>\n",
       "      <th>distance</th>\n",
       "      <th>price</th>\n",
       "    </tr>\n",
       "  </thead>\n",
       "  <tbody>\n",
       "    <tr>\n",
       "      <th>10</th>\n",
       "      <td>1.1</td>\n",
       "      <td>60</td>\n",
       "    </tr>\n",
       "    <tr>\n",
       "      <th>153</th>\n",
       "      <td>1.1</td>\n",
       "      <td>54</td>\n",
       "    </tr>\n",
       "    <tr>\n",
       "      <th>163</th>\n",
       "      <td>0.9</td>\n",
       "      <td>68</td>\n",
       "    </tr>\n",
       "    <tr>\n",
       "      <th>211</th>\n",
       "      <td>1.0</td>\n",
       "      <td>63</td>\n",
       "    </tr>\n",
       "    <tr>\n",
       "      <th>426</th>\n",
       "      <td>1.4</td>\n",
       "      <td>58</td>\n",
       "    </tr>\n",
       "  </tbody>\n",
       "</table>\n",
       "</div>"
      ],
      "text/plain": [
       "     distance  price\n",
       "10        1.1     60\n",
       "153       1.1     54\n",
       "163       0.9     68\n",
       "211       1.0     63\n",
       "426       1.4     58"
      ]
     },
     "execution_count": 44,
     "metadata": {},
     "output_type": "execute_result"
    }
   ],
   "source": [
    "hotels.loc[hotels[\"reg1_res\"] == \"bottom5\"][[\"distance\",\"price\"]]"
   ]
  },
  {
   "cell_type": "code",
   "execution_count": 45,
   "metadata": {},
   "outputs": [
    {
     "data": {
      "image/png": "[encoded data removed]",
      "text/plain": [
       "<Figure size 700x550 with 1 Axes>"
      ]
     },
     "metadata": {},
     "output_type": "display_data"
    }
   ],
   "source": [
    "sns.regplot(data=hotels, x=\"distance\", y=\"price\",ci = False,line_kws=dict(color=da.color[1]),scatter_kws=dict(alpha = 1,s = 20))\n",
    "\n",
    "plt.annotate(\n",
    "    \"Most underpriced hotels\", \n",
    "    xy=(1.4, 50), \n",
    "    xytext=(2.2, 10), \n",
    "    arrowprops=dict(color='black', arrowstyle='->'),\n",
    "    fontsize=8\n",
    ")\n",
    "\n",
    "sns.scatterplot(hotels.loc[hotels[\"reg1_res\"] == \"bottom5\"],x=\"distance\",y=\"price\",color = da.color[3],s = 15,zorder = 3)\n",
    "\n",
    "\n",
    "plt.xlabel(\"Distance to city center (miles)\", fontsize=12)\n",
    "plt.ylabel(\"Price (US dollars)\", fontsize=12)\n",
    "plt.xlim(-0.1, 7.1)\n",
    "plt.xticks(np.arange(0, 8, 1))  \n",
    "plt.ylim(-10, 405)\n",
    "plt.yticks(np.arange(0, 401, 50))  \n",
    "\n",
    "plt.legend().remove()\n",
    "\n",
    "\n",
    "plt.show()"
   ]
  },
  {
   "cell_type": "markdown",
   "metadata": {},
   "source": [
    "### Table 7.1"
   ]
  },
  {
   "cell_type": "code",
   "execution_count": 46,
   "metadata": {},
   "outputs": [
    {
     "data": {
      "application/vnd.microsoft.datawrangler.viewer.v0+json": {
       "columns": [
        {
         "name": "index",
         "rawType": "int64",
         "type": "integer"
        },
        {
         "name": "hotel_id",
         "rawType": "int64",
         "type": "integer"
        },
        {
         "name": "distance",
         "rawType": "float64",
         "type": "float"
        },
        {
         "name": "price",
         "rawType": "int64",
         "type": "integer"
        },
        {
         "name": "predprice",
         "rawType": "float64",
         "type": "float"
        },
        {
         "name": "residual",
         "rawType": "float64",
         "type": "float"
        }
       ],
       "conversionMethod": "pd.DataFrame",
       "ref": "0084a243-bc79-4645-9150-cc28d8c029bb",
       "rows": [
        [
         "0",
         "22080",
         "1.1",
         "54",
         "116.17",
         "-62.17"
        ],
        [
         "1",
         "21912",
         "1.1",
         "60",
         "116.17",
         "-56.17"
        ],
        [
         "2",
         "22152",
         "1.0",
         "63",
         "117.61",
         "-54.61"
        ],
        [
         "3",
         "22408",
         "1.4",
         "58",
         "111.85",
         "-53.85"
        ],
        [
         "4",
         "22090",
         "0.9",
         "68",
         "119.05",
         "-51.05"
        ]
       ],
       "shape": {
        "columns": 5,
        "rows": 5
       }
      },
      "text/html": [
       "<div>\n",
       "<style scoped>\n",
       "    .dataframe tbody tr th:only-of-type {\n",
       "        vertical-align: middle;\n",
       "    }\n",
       "\n",
       "    .dataframe tbody tr th {\n",
       "        vertical-align: top;\n",
       "    }\n",
       "\n",
       "    .dataframe thead th {\n",
       "        text-align: right;\n",
       "    }\n",
       "</style>\n",
       "<table border=\"1\" class=\"dataframe\">\n",
       "  <thead>\n",
       "    <tr style=\"text-align: right;\">\n",
       "      <th></th>\n",
       "      <th>hotel_id</th>\n",
       "      <th>distance</th>\n",
       "      <th>price</th>\n",
       "      <th>predprice</th>\n",
       "      <th>residual</th>\n",
       "    </tr>\n",
       "  </thead>\n",
       "  <tbody>\n",
       "    <tr>\n",
       "      <th>0</th>\n",
       "      <td>22080</td>\n",
       "      <td>1.1</td>\n",
       "      <td>54</td>\n",
       "      <td>116.17</td>\n",
       "      <td>-62.17</td>\n",
       "    </tr>\n",
       "    <tr>\n",
       "      <th>1</th>\n",
       "      <td>21912</td>\n",
       "      <td>1.1</td>\n",
       "      <td>60</td>\n",
       "      <td>116.17</td>\n",
       "      <td>-56.17</td>\n",
       "    </tr>\n",
       "    <tr>\n",
       "      <th>2</th>\n",
       "      <td>22152</td>\n",
       "      <td>1.0</td>\n",
       "      <td>63</td>\n",
       "      <td>117.61</td>\n",
       "      <td>-54.61</td>\n",
       "    </tr>\n",
       "    <tr>\n",
       "      <th>3</th>\n",
       "      <td>22408</td>\n",
       "      <td>1.4</td>\n",
       "      <td>58</td>\n",
       "      <td>111.85</td>\n",
       "      <td>-53.85</td>\n",
       "    </tr>\n",
       "    <tr>\n",
       "      <th>4</th>\n",
       "      <td>22090</td>\n",
       "      <td>0.9</td>\n",
       "      <td>68</td>\n",
       "      <td>119.05</td>\n",
       "      <td>-51.05</td>\n",
       "    </tr>\n",
       "  </tbody>\n",
       "</table>\n",
       "</div>"
      ],
      "text/plain": [
       "   hotel_id  distance  price  predprice  residual\n",
       "0     22080       1.1     54     116.17    -62.17\n",
       "1     21912       1.1     60     116.17    -56.17\n",
       "2     22152       1.0     63     117.61    -54.61\n",
       "3     22408       1.4     58     111.85    -53.85\n",
       "4     22090       0.9     68     119.05    -51.05"
      ]
     },
     "execution_count": 46,
     "metadata": {},
     "output_type": "execute_result"
    }
   ],
   "source": [
    "(\n",
    "    hotels.loc[\n",
    "        hotels[\"reg1_res\"] == \"bottom5\",\n",
    "        [\"hotel_id\", \"distance\", \"price\", \"predprice\", \"e\"],\n",
    "    ]\n",
    "    .sort_values(by=[\"e\"])\n",
    "    .round(2)\n",
    "    .reset_index(drop=True)\n",
    "    .rename({\"e\": \"residual\"}, axis=1)\n",
    ")"
   ]
  },
  {
   "cell_type": "code",
   "execution_count": null,
   "metadata": {},
   "outputs": [],
   "source": []
  }
 ],
 "metadata": {
  "kernelspec": {
   "display_name": "daenv",
   "language": "python",
   "name": "python3"
  },
  "language_info": {
   "codemirror_mode": {
    "name": "ipython",
    "version": 3
   },
   "file_extension": ".py",
   "mimetype": "text/x-python",
   "name": "python",
   "nbconvert_exporter": "python",
   "pygments_lexer": "ipython3",
   "version": "3.12.4"
  }
 },
 "nbformat": 4,
 "nbformat_minor": 4
}
