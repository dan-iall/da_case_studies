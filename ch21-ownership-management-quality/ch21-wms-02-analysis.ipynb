{
 "cells": [
  {
   "cell_type": "markdown",
   "metadata": {},
   "source": [
    "#### Prepared for Gabor's Data Analysis\n",
    "\n",
    "### Data Analysis for Business, Economics, and Policy\n",
    "by Gabor Bekes and  Gabor Kezdi\n",
    " \n",
    "Cambridge University Press 2021\n",
    "\n",
    "**[gabors-data-analysis.com ](https://gabors-data-analysis.com/)**\n",
    "\n",
    " License: Free to share, modify and use for educational purposes. \n",
    " Not to be used for commercial purposes.\n",
    "\n",
    "### CHAPTER 21\n",
    "**CH20A Founder/family ownership and quality of management**\n",
    "\n",
    "using the wms-management dataset\n",
    "\n",
    "version 1.0 2021-05-05"
   ]
  },
  {
   "cell_type": "code",
   "execution_count": 1,
   "metadata": {},
   "outputs": [],
   "source": [
    "import os\n",
    "import sys\n",
    "import warnings\n",
    "\n",
    "import numpy as np\n",
    "import pandas as pd\n",
    "import statsmodels.formula.api as smf\n",
    "from IPython.core.display import HTML\n",
    "from sklearn.neighbors import NearestNeighbors\n",
    "from stargazer.stargazer import Stargazer\n",
    "\n",
    "warnings.filterwarnings(\"ignore\")"
   ]
  },
  {
   "cell_type": "code",
   "execution_count": 2,
   "metadata": {},
   "outputs": [],
   "source": [
    "# Current script folder\n",
    "current_path = os.getcwd()\n",
    "dirname = current_path.split(\"da_case_studies\")[0]\n",
    "\n",
    "# location folders\n",
    "data_in = dirname + \"da_data_repo/wms-management-survey/clean/\"\n",
    "data_out = dirname + \"da_case_studies/ch21-ownership-management-quality/\"\n",
    "output = dirname + \"da_case_studies/ch21-ownership-management-quality/output/\"\n",
    "\n",
    "func = dirname + \"da_case_studies/ch00-tech-prep/\"\n",
    "sys.path.append(func)"
   ]
  },
  {
   "cell_type": "code",
   "execution_count": 3,
   "metadata": {},
   "outputs": [],
   "source": [
    "# Import the prewritten helper functions\n",
    "from py_helper_functions import *"
   ]
  },
  {
   "cell_type": "markdown",
   "metadata": {},
   "source": [
    "### Read in data"
   ]
  },
  {
   "cell_type": "code",
   "execution_count": 4,
   "metadata": {},
   "outputs": [],
   "source": [
    "# !!! make sure you have run ch21-wms-01-dataprep.ipynb before\n",
    "data = pd.read_csv(data_out+\"wms_da_textbook-work.csv\")"
   ]
  },
  {
   "cell_type": "code",
   "execution_count": 5,
   "metadata": {
    "scrolled": true
   },
   "outputs": [
    {
     "data": {
      "text/html": [
       "<div>\n",
       "<style scoped>\n",
       "    .dataframe tbody tr th:only-of-type {\n",
       "        vertical-align: middle;\n",
       "    }\n",
       "\n",
       "    .dataframe tbody tr th {\n",
       "        vertical-align: top;\n",
       "    }\n",
       "\n",
       "    .dataframe thead th {\n",
       "        text-align: right;\n",
       "    }\n",
       "</style>\n",
       "<table border=\"1\" class=\"dataframe\">\n",
       "  <thead>\n",
       "    <tr style=\"text-align: right;\">\n",
       "      <th></th>\n",
       "      <th>management</th>\n",
       "    </tr>\n",
       "    <tr>\n",
       "      <th>foundfam_owned</th>\n",
       "      <th></th>\n",
       "    </tr>\n",
       "  </thead>\n",
       "  <tbody>\n",
       "    <tr>\n",
       "      <th>0.0</th>\n",
       "      <td>3.047261</td>\n",
       "    </tr>\n",
       "    <tr>\n",
       "      <th>1.0</th>\n",
       "      <td>2.681602</td>\n",
       "    </tr>\n",
       "  </tbody>\n",
       "</table>\n",
       "</div>"
      ],
      "text/plain": [
       "                management\n",
       "foundfam_owned            \n",
       "0.0               3.047261\n",
       "1.0               2.681602"
      ]
     },
     "execution_count": 5,
     "metadata": {},
     "output_type": "execute_result"
    }
   ],
   "source": [
    "data.groupby(\"foundfam_owned\")[[\"management\"]].mean()"
   ]
  },
  {
   "cell_type": "markdown",
   "metadata": {},
   "source": [
    "### Set variables to use"
   ]
  },
  {
   "cell_type": "code",
   "execution_count": 6,
   "metadata": {},
   "outputs": [],
   "source": [
    "y_var = \"management\"\n",
    "x_var = \"foundfam_owned\"\n",
    "\n",
    "control_vars = [\n",
    "    \"degree_nm\",\n",
    "    \"degree_nm_sq\",\n",
    "    \"compet_moder\",\n",
    "    \"compet_strong\",\n",
    "    \"lnemp\",\n",
    "    \"age_young\",\n",
    "    \"age_old\",\n",
    "    \"age_unknown\",\n",
    "]\n",
    "\n",
    "control_vars_to_interact = [\"industry\", \"countrycode\"]"
   ]
  },
  {
   "cell_type": "markdown",
   "metadata": {},
   "source": [
    "## Regressions"
   ]
  },
  {
   "cell_type": "code",
   "execution_count": 7,
   "metadata": {},
   "outputs": [],
   "source": [
    "# OLS with no control vars.\n",
    "formula1 = y_var + \" ~ \" + x_var\n",
    "ols1 = smf.ols(formula=formula1, data=data).fit()"
   ]
  },
  {
   "cell_type": "code",
   "execution_count": 8,
   "metadata": {},
   "outputs": [],
   "source": [
    "# OLS with all control vars\n",
    "formula2 = (\n",
    "    y_var + \" ~ \" + x_var + \" + \" + \" + \".join(control_vars + control_vars_to_interact)\n",
    ")\n",
    "ols2 = smf.ols(formula=formula2, data=data).fit()"
   ]
  },
  {
   "cell_type": "code",
   "execution_count": 9,
   "metadata": {},
   "outputs": [],
   "source": [
    "# OLS with all controls + interactions\n",
    "formula3 = (\n",
    "    y_var\n",
    "    + \" ~ \"\n",
    "    + x_var\n",
    "    + \"+\"\n",
    "    + \":\".join(control_vars_to_interact)\n",
    "    + \"+(\"\n",
    "    + \"+\".join(control_vars)\n",
    "    + \")*(\"\n",
    "    + \"+\".join(control_vars_to_interact)\n",
    "    + \")\"\n",
    ")\n",
    "ols3 = smf.ols(formula=formula3, data=data).fit()"
   ]
  },
  {
   "cell_type": "code",
   "execution_count": 10,
   "metadata": {},
   "outputs": [
    {
     "data": {
      "text/html": [
       "<table style=\"text-align:center\"><tr><td colspan=\"4\" style=\"border-bottom: 1px solid black\"></td></tr>\n",
       "<tr><td style=\"text-align:left\"></td><td colspan=\"3\"><em>Dependent variable: management</em></td></tr><tr><td style=\"text-align:left\"></td><tr><td></td><td colspan=\"1\">No confounders</td><td colspan=\"1\">With confounders</td><td colspan=\"1\">With confounders interacted</td></tr>\n",
       "<tr><td colspan=\"4\" style=\"border-bottom: 1px solid black\"></td></tr>\n",
       "\n",
       "<tr><td style=\"text-align:left\">foundfam_owned</td><td>-0.37<sup>***</sup></td><td>-0.19<sup>***</sup></td><td>-0.19<sup>***</sup></td></tr>\n",
       "<tr><td style=\"text-align:left\"></td><td>(0.01)</td><td>(0.01)</td><td>(0.01)</td></tr>\n",
       "<tr><td style=\"text-align:left\">Constant</td><td>3.05<sup>***</sup></td><td>1.69<sup>***</sup></td><td>1.06<sup>***</sup></td></tr>\n",
       "<tr><td style=\"text-align:left\"></td><td>(0.01)</td><td>(0.06)</td><td>(0.33)</td></tr>\n",
       "\n",
       "<td colspan=\"4\" style=\"border-bottom: 1px solid black\"></td></tr>\n",
       "<tr><td style=\"text-align: left\">Observations</td><td>8439</td><td>8439</td><td>8439</td></tr><tr><td style=\"text-align: left\">R<sup>2</sup></td><td>0.08</td><td>0.29</td><td>0.37</td></tr><tr><td style=\"text-align: left\">Adjusted R<sup>2</sup></td><td>0.08</td><td>0.28</td><td>0.31</td></tr><tr><td style=\"text-align: left\">Residual Std. Error</td><td>0.61 (df=8437)</td><td>0.54 (df=8387)</td><td>0.53 (df=7660)</td></tr><tr><td style=\"text-align: left\">F Statistic</td><td>752.87<sup>***</sup> (df=1; 8437)</td><td>65.78<sup>***</sup> (df=51; 8387)</td><td>5.90<sup>***</sup> (df=778; 7660)</td></tr>\n",
       "<tr><td colspan=\"4\" style=\"border-bottom: 1px solid black\"></td></tr><tr><td style=\"text-align: left\">Note:</td><td colspan=\"3\" style=\"text-align: right\"><sup>*</sup>p&lt;0.1; <sup>**</sup>p&lt;0.05; <sup>***</sup>p&lt;0.01</td></tr></table>"
      ],
      "text/plain": [
       "<IPython.core.display.HTML object>"
      ]
     },
     "execution_count": 10,
     "metadata": {},
     "output_type": "execute_result"
    }
   ],
   "source": [
    "stargazer = Stargazer([ols1, ols2, ols3])\n",
    "stargazer.rename_covariates({\"Intercept\": \"Constant\"})\n",
    "stargazer.covariate_order([x_var, \"Intercept\"])\n",
    "stargazer.significant_digits(2)\n",
    "stargazer.custom_columns(\n",
    "    [\"No confounders\", \"With confounders\", \"With confounders interacted\"],\n",
    "    [1, 1, 1],\n",
    ")\n",
    "stargazer.show_model_numbers(False)\n",
    "HTML(stargazer.render_html())"
   ]
  },
  {
   "cell_type": "markdown",
   "metadata": {},
   "source": [
    "## Exact matching"
   ]
  },
  {
   "cell_type": "code",
   "execution_count": 11,
   "metadata": {},
   "outputs": [
    {
     "data": {
      "text/plain": [
       "count    8439.000000\n",
       "mean        2.881352\n",
       "std         0.636060\n",
       "min         1.055556\n",
       "25%         2.444444\n",
       "50%         2.888889\n",
       "75%         3.333333\n",
       "max         4.888889\n",
       "Name: management, dtype: float64"
      ]
     },
     "execution_count": 11,
     "metadata": {},
     "output_type": "execute_result"
    }
   ],
   "source": [
    "data[\"management\"].describe()"
   ]
  },
  {
   "cell_type": "code",
   "execution_count": 12,
   "metadata": {},
   "outputs": [],
   "source": [
    "data[\"empbin5\"] = pd.cut(\n",
    "    data[\"emp_firm\"],\n",
    "    bins=data[\"emp_firm\"].quantile(np.arange(0, 1.01, 0.2)),\n",
    "    labels=[\"1\", \"2\", \"3\", \"4\", \"5\"],\n",
    "    include_lowest=True,\n",
    "    right=False,\n",
    ").fillna(\"5\")\n",
    "data[\"agecat\"] = (\n",
    "    (data[\"age_young\"] == True)\n",
    "    + 2 * (data[\"age_mid\"] == True)\n",
    "    + 3 * (data[\"age_old\"] == True)\n",
    "    + 4 * (data[\"age_unknown\"] == True)\n",
    ")"
   ]
  },
  {
   "cell_type": "code",
   "execution_count": 13,
   "metadata": {},
   "outputs": [],
   "source": [
    "data[\"n\"] = 1\n",
    "data[\"n1\"] = data[\"foundfam_owned\"]\n",
    "data[\"n0\"] = 1 - data[\"foundfam_owned\"]\n",
    "data[\"y0\"] = np.where(data[\"foundfam_owned\"] == 0, data[\"management\"], None)\n",
    "data[\"y1\"] = np.where(data[\"foundfam_owned\"] == 1, data[\"management\"], None)"
   ]
  },
  {
   "cell_type": "code",
   "execution_count": 14,
   "metadata": {},
   "outputs": [],
   "source": [
    "data_agg = (\n",
    "    data.groupby(\n",
    "        [\n",
    "            \"degree_nm_bins\",\n",
    "            \"agecat\",\n",
    "            \"competition\",\n",
    "            \"empbin5\",\n",
    "            \"industry\",\n",
    "            \"countrycode\",\n",
    "        ]\n",
    "    )\n",
    "    .agg({\"n\": \"sum\", \"n0\": \"sum\", \"n1\": \"sum\", \"y0\": \"mean\", \"y1\": \"mean\"})\n",
    "    .reset_index()\n",
    ")"
   ]
  },
  {
   "cell_type": "code",
   "execution_count": 15,
   "metadata": {},
   "outputs": [
    {
     "data": {
      "text/plain": [
       "115200"
      ]
     },
     "execution_count": 15,
     "metadata": {},
     "output_type": "execute_result"
    }
   ],
   "source": [
    "# theoretical combinations\n",
    "data_agg.shape[0]"
   ]
  },
  {
   "cell_type": "code",
   "execution_count": 16,
   "metadata": {},
   "outputs": [
    {
     "data": {
      "text/plain": [
       "6976"
      ]
     },
     "execution_count": 16,
     "metadata": {},
     "output_type": "execute_result"
    }
   ],
   "source": [
    "# combinations in the data\n",
    "data_agg = data_agg.dropna(subset=[\"y0\", \"y1\"], how=\"all\")\n",
    "data_agg.shape[0]"
   ]
  },
  {
   "cell_type": "code",
   "execution_count": 17,
   "metadata": {},
   "outputs": [
    {
     "data": {
      "text/plain": [
       "1207"
      ]
     },
     "execution_count": 17,
     "metadata": {},
     "output_type": "execute_result"
    }
   ],
   "source": [
    "# firms with exact match\n",
    "data_agg.loc[((data_agg[\"n0\"] >= 1) & (data_agg[\"n1\"] >= 1)), \"n\"].sum()"
   ]
  },
  {
   "cell_type": "code",
   "execution_count": 18,
   "metadata": {},
   "outputs": [
    {
     "data": {
      "text/plain": [
       "7232"
      ]
     },
     "execution_count": 18,
     "metadata": {},
     "output_type": "execute_result"
    }
   ],
   "source": [
    "# firms with no exact match\n",
    "data_agg.loc[((data_agg[\"n0\"] == 0) | (data_agg[\"n1\"] == 0)), \"n\"].sum()"
   ]
  },
  {
   "cell_type": "code",
   "execution_count": 19,
   "metadata": {},
   "outputs": [],
   "source": [
    "# random order just for the examples\n",
    "np.random.seed(123)\n",
    "data_sample = data_agg.sample(n=340)[\n",
    "    [\n",
    "        \"industry\",\n",
    "        \"countrycode\",\n",
    "        \"degree_nm_bins\",\n",
    "        \"competition\",\n",
    "        \"agecat\",\n",
    "        \"empbin5\",\n",
    "        \"n1\",\n",
    "        \"n0\",\n",
    "        \"n\",\n",
    "    ]\n",
    "]"
   ]
  },
  {
   "cell_type": "code",
   "execution_count": 20,
   "metadata": {},
   "outputs": [
    {
     "data": {
      "text/html": [
       "<div>\n",
       "<style scoped>\n",
       "    .dataframe tbody tr th:only-of-type {\n",
       "        vertical-align: middle;\n",
       "    }\n",
       "\n",
       "    .dataframe tbody tr th {\n",
       "        vertical-align: top;\n",
       "    }\n",
       "\n",
       "    .dataframe thead th {\n",
       "        text-align: right;\n",
       "    }\n",
       "</style>\n",
       "<table border=\"1\" class=\"dataframe\">\n",
       "  <thead>\n",
       "    <tr style=\"text-align: right;\">\n",
       "      <th></th>\n",
       "      <th>industry</th>\n",
       "      <th>countrycode</th>\n",
       "      <th>degree_nm_bins</th>\n",
       "      <th>competition</th>\n",
       "      <th>agecat</th>\n",
       "      <th>empbin5</th>\n",
       "      <th>n1</th>\n",
       "      <th>n0</th>\n",
       "      <th>n</th>\n",
       "    </tr>\n",
       "  </thead>\n",
       "  <tbody>\n",
       "    <tr>\n",
       "      <th>38827</th>\n",
       "      <td>textile</td>\n",
       "      <td>pt</td>\n",
       "      <td>[0.001, 0.05)</td>\n",
       "      <td>10+ competitors</td>\n",
       "      <td>2</td>\n",
       "      <td>1</td>\n",
       "      <td>1.0</td>\n",
       "      <td>0.0</td>\n",
       "      <td>1</td>\n",
       "    </tr>\n",
       "    <tr>\n",
       "      <th>31606</th>\n",
       "      <td>rubber</td>\n",
       "      <td>tr</td>\n",
       "      <td>[0.001, 0.05)</td>\n",
       "      <td>10+ competitors</td>\n",
       "      <td>1</td>\n",
       "      <td>1</td>\n",
       "      <td>1.0</td>\n",
       "      <td>0.0</td>\n",
       "      <td>1</td>\n",
       "    </tr>\n",
       "    <tr>\n",
       "      <th>113186</th>\n",
       "      <td>rubber</td>\n",
       "      <td>br</td>\n",
       "      <td>[0.2, 1.01)</td>\n",
       "      <td>5-9 competitors</td>\n",
       "      <td>4</td>\n",
       "      <td>1</td>\n",
       "      <td>1.0</td>\n",
       "      <td>0.0</td>\n",
       "      <td>1</td>\n",
       "    </tr>\n",
       "    <tr>\n",
       "      <th>59219</th>\n",
       "      <td>ind_machinery</td>\n",
       "      <td>in</td>\n",
       "      <td>[0.05, 0.2)</td>\n",
       "      <td>0-4 competitors</td>\n",
       "      <td>1</td>\n",
       "      <td>4</td>\n",
       "      <td>1.0</td>\n",
       "      <td>0.0</td>\n",
       "      <td>1</td>\n",
       "    </tr>\n",
       "    <tr>\n",
       "      <th>57704</th>\n",
       "      <td>food</td>\n",
       "      <td>gb</td>\n",
       "      <td>[0.05, 0.2)</td>\n",
       "      <td>0-4 competitors</td>\n",
       "      <td>1</td>\n",
       "      <td>1</td>\n",
       "      <td>1.0</td>\n",
       "      <td>0.0</td>\n",
       "      <td>1</td>\n",
       "    </tr>\n",
       "    <tr>\n",
       "      <th>96704</th>\n",
       "      <td>leather</td>\n",
       "      <td>gb</td>\n",
       "      <td>[0.2, 1.01)</td>\n",
       "      <td>10+ competitors</td>\n",
       "      <td>2</td>\n",
       "      <td>2</td>\n",
       "      <td>1.0</td>\n",
       "      <td>0.0</td>\n",
       "      <td>1</td>\n",
       "    </tr>\n",
       "    <tr>\n",
       "      <th>2263</th>\n",
       "      <td>primary_metal</td>\n",
       "      <td>fr</td>\n",
       "      <td>[0.0, 0.001)</td>\n",
       "      <td>0-4 competitors</td>\n",
       "      <td>1</td>\n",
       "      <td>5</td>\n",
       "      <td>1.0</td>\n",
       "      <td>0.0</td>\n",
       "      <td>1</td>\n",
       "    </tr>\n",
       "    <tr>\n",
       "      <th>69482</th>\n",
       "      <td>printing</td>\n",
       "      <td>br</td>\n",
       "      <td>[0.05, 0.2)</td>\n",
       "      <td>10+ competitors</td>\n",
       "      <td>2</td>\n",
       "      <td>5</td>\n",
       "      <td>1.0</td>\n",
       "      <td>0.0</td>\n",
       "      <td>1</td>\n",
       "    </tr>\n",
       "  </tbody>\n",
       "</table>\n",
       "</div>"
      ],
      "text/plain": [
       "             industry countrycode degree_nm_bins      competition  agecat  \\\n",
       "38827         textile          pt  [0.001, 0.05)  10+ competitors       2   \n",
       "31606          rubber          tr  [0.001, 0.05)  10+ competitors       1   \n",
       "113186         rubber          br    [0.2, 1.01)  5-9 competitors       4   \n",
       "59219   ind_machinery          in    [0.05, 0.2)  0-4 competitors       1   \n",
       "57704            food          gb    [0.05, 0.2)  0-4 competitors       1   \n",
       "96704         leather          gb    [0.2, 1.01)  10+ competitors       2   \n",
       "2263    primary_metal          fr   [0.0, 0.001)  0-4 competitors       1   \n",
       "69482        printing          br    [0.05, 0.2)  10+ competitors       2   \n",
       "\n",
       "       empbin5   n1   n0  n  \n",
       "38827        1  1.0  0.0  1  \n",
       "31606        1  1.0  0.0  1  \n",
       "113186       1  1.0  0.0  1  \n",
       "59219        4  1.0  0.0  1  \n",
       "57704        1  1.0  0.0  1  \n",
       "96704        2  1.0  0.0  1  \n",
       "2263         5  1.0  0.0  1  \n",
       "69482        5  1.0  0.0  1  "
      ]
     },
     "execution_count": 20,
     "metadata": {},
     "output_type": "execute_result"
    }
   ],
   "source": [
    "# examples with founder/family only\n",
    "data_sample.loc[lambda x: (x[\"n1\"] == 1) & (x[\"n0\"] == 0)].head(8)"
   ]
  },
  {
   "cell_type": "code",
   "execution_count": 21,
   "metadata": {},
   "outputs": [
    {
     "data": {
      "text/html": [
       "<div>\n",
       "<style scoped>\n",
       "    .dataframe tbody tr th:only-of-type {\n",
       "        vertical-align: middle;\n",
       "    }\n",
       "\n",
       "    .dataframe tbody tr th {\n",
       "        vertical-align: top;\n",
       "    }\n",
       "\n",
       "    .dataframe thead th {\n",
       "        text-align: right;\n",
       "    }\n",
       "</style>\n",
       "<table border=\"1\" class=\"dataframe\">\n",
       "  <thead>\n",
       "    <tr style=\"text-align: right;\">\n",
       "      <th></th>\n",
       "      <th>industry</th>\n",
       "      <th>countrycode</th>\n",
       "      <th>degree_nm_bins</th>\n",
       "      <th>competition</th>\n",
       "      <th>agecat</th>\n",
       "      <th>empbin5</th>\n",
       "      <th>n1</th>\n",
       "      <th>n0</th>\n",
       "      <th>n</th>\n",
       "    </tr>\n",
       "  </thead>\n",
       "  <tbody>\n",
       "    <tr>\n",
       "      <th>58584</th>\n",
       "      <td>chemical</td>\n",
       "      <td>ar</td>\n",
       "      <td>[0.05, 0.2)</td>\n",
       "      <td>0-4 competitors</td>\n",
       "      <td>1</td>\n",
       "      <td>3</td>\n",
       "      <td>0.0</td>\n",
       "      <td>1.0</td>\n",
       "      <td>1</td>\n",
       "    </tr>\n",
       "    <tr>\n",
       "      <th>13581</th>\n",
       "      <td>furniture</td>\n",
       "      <td>sw</td>\n",
       "      <td>[0.0, 0.001)</td>\n",
       "      <td>5-9 competitors</td>\n",
       "      <td>2</td>\n",
       "      <td>4</td>\n",
       "      <td>0.0</td>\n",
       "      <td>1.0</td>\n",
       "      <td>1</td>\n",
       "    </tr>\n",
       "    <tr>\n",
       "      <th>95123</th>\n",
       "      <td>fabricated_metal</td>\n",
       "      <td>in</td>\n",
       "      <td>[0.2, 1.01)</td>\n",
       "      <td>0-4 competitors</td>\n",
       "      <td>2</td>\n",
       "      <td>4</td>\n",
       "      <td>0.0</td>\n",
       "      <td>1.0</td>\n",
       "      <td>1</td>\n",
       "    </tr>\n",
       "    <tr>\n",
       "      <th>18820</th>\n",
       "      <td>food</td>\n",
       "      <td>cl</td>\n",
       "      <td>[0.0, 0.001)</td>\n",
       "      <td>10+ competitors</td>\n",
       "      <td>3</td>\n",
       "      <td>5</td>\n",
       "      <td>0.0</td>\n",
       "      <td>1.0</td>\n",
       "      <td>1</td>\n",
       "    </tr>\n",
       "    <tr>\n",
       "      <th>94741</th>\n",
       "      <td>ind_machinery</td>\n",
       "      <td>it</td>\n",
       "      <td>[0.2, 1.01)</td>\n",
       "      <td>0-4 competitors</td>\n",
       "      <td>2</td>\n",
       "      <td>3</td>\n",
       "      <td>0.0</td>\n",
       "      <td>1.0</td>\n",
       "      <td>1</td>\n",
       "    </tr>\n",
       "    <tr>\n",
       "      <th>7866</th>\n",
       "      <td>ind_machinery</td>\n",
       "      <td>po</td>\n",
       "      <td>[0.0, 0.001)</td>\n",
       "      <td>0-4 competitors</td>\n",
       "      <td>2</td>\n",
       "      <td>2</td>\n",
       "      <td>0.0</td>\n",
       "      <td>1.0</td>\n",
       "      <td>1</td>\n",
       "    </tr>\n",
       "    <tr>\n",
       "      <th>6355</th>\n",
       "      <td>food</td>\n",
       "      <td>pt</td>\n",
       "      <td>[0.0, 0.001)</td>\n",
       "      <td>5-9 competitors</td>\n",
       "      <td>1</td>\n",
       "      <td>4</td>\n",
       "      <td>0.0</td>\n",
       "      <td>1.0</td>\n",
       "      <td>1</td>\n",
       "    </tr>\n",
       "    <tr>\n",
       "      <th>41493</th>\n",
       "      <td>instrument</td>\n",
       "      <td>sw</td>\n",
       "      <td>[0.001, 0.05)</td>\n",
       "      <td>5-9 competitors</td>\n",
       "      <td>2</td>\n",
       "      <td>2</td>\n",
       "      <td>0.0</td>\n",
       "      <td>1.0</td>\n",
       "      <td>1</td>\n",
       "    </tr>\n",
       "  </tbody>\n",
       "</table>\n",
       "</div>"
      ],
      "text/plain": [
       "               industry countrycode degree_nm_bins      competition  agecat  \\\n",
       "58584          chemical          ar    [0.05, 0.2)  0-4 competitors       1   \n",
       "13581         furniture          sw   [0.0, 0.001)  5-9 competitors       2   \n",
       "95123  fabricated_metal          in    [0.2, 1.01)  0-4 competitors       2   \n",
       "18820              food          cl   [0.0, 0.001)  10+ competitors       3   \n",
       "94741     ind_machinery          it    [0.2, 1.01)  0-4 competitors       2   \n",
       "7866      ind_machinery          po   [0.0, 0.001)  0-4 competitors       2   \n",
       "6355               food          pt   [0.0, 0.001)  5-9 competitors       1   \n",
       "41493        instrument          sw  [0.001, 0.05)  5-9 competitors       2   \n",
       "\n",
       "      empbin5   n1   n0  n  \n",
       "58584       3  0.0  1.0  1  \n",
       "13581       4  0.0  1.0  1  \n",
       "95123       4  0.0  1.0  1  \n",
       "18820       5  0.0  1.0  1  \n",
       "94741       3  0.0  1.0  1  \n",
       "7866        2  0.0  1.0  1  \n",
       "6355        4  0.0  1.0  1  \n",
       "41493       2  0.0  1.0  1  "
      ]
     },
     "execution_count": 21,
     "metadata": {},
     "output_type": "execute_result"
    }
   ],
   "source": [
    "# examples with other only:\n",
    "data_sample.loc[lambda x: (x[\"n1\"] == 0) & (x[\"n0\"] == 1)].head(8)"
   ]
  },
  {
   "cell_type": "code",
   "execution_count": 22,
   "metadata": {},
   "outputs": [
    {
     "data": {
      "text/html": [
       "<div>\n",
       "<style scoped>\n",
       "    .dataframe tbody tr th:only-of-type {\n",
       "        vertical-align: middle;\n",
       "    }\n",
       "\n",
       "    .dataframe tbody tr th {\n",
       "        vertical-align: top;\n",
       "    }\n",
       "\n",
       "    .dataframe thead th {\n",
       "        text-align: right;\n",
       "    }\n",
       "</style>\n",
       "<table border=\"1\" class=\"dataframe\">\n",
       "  <thead>\n",
       "    <tr style=\"text-align: right;\">\n",
       "      <th></th>\n",
       "      <th>industry</th>\n",
       "      <th>countrycode</th>\n",
       "      <th>degree_nm_bins</th>\n",
       "      <th>competition</th>\n",
       "      <th>agecat</th>\n",
       "      <th>empbin5</th>\n",
       "      <th>n1</th>\n",
       "      <th>n0</th>\n",
       "      <th>n</th>\n",
       "    </tr>\n",
       "  </thead>\n",
       "  <tbody>\n",
       "    <tr>\n",
       "      <th>71159</th>\n",
       "      <td>food</td>\n",
       "      <td>us</td>\n",
       "      <td>[0.05, 0.2)</td>\n",
       "      <td>5-9 competitors</td>\n",
       "      <td>2</td>\n",
       "      <td>4</td>\n",
       "      <td>0.0</td>\n",
       "      <td>1.0</td>\n",
       "      <td>1</td>\n",
       "    </tr>\n",
       "    <tr>\n",
       "      <th>51479</th>\n",
       "      <td>food</td>\n",
       "      <td>us</td>\n",
       "      <td>[0.001, 0.05)</td>\n",
       "      <td>0-4 competitors</td>\n",
       "      <td>4</td>\n",
       "      <td>3</td>\n",
       "      <td>0.0</td>\n",
       "      <td>1.0</td>\n",
       "      <td>1</td>\n",
       "    </tr>\n",
       "  </tbody>\n",
       "</table>\n",
       "</div>"
      ],
      "text/plain": [
       "      industry countrycode degree_nm_bins      competition  agecat empbin5  \\\n",
       "71159     food          us    [0.05, 0.2)  5-9 competitors       2       4   \n",
       "51479     food          us  [0.001, 0.05)  0-4 competitors       4       3   \n",
       "\n",
       "        n1   n0  n  \n",
       "71159  0.0  1.0  1  \n",
       "51479  0.0  1.0  1  "
      ]
     },
     "execution_count": 22,
     "metadata": {},
     "output_type": "execute_result"
    }
   ],
   "source": [
    "# examples of similar firms unmatched\n",
    "data_sample.loc[\n",
    "    lambda x: (x[\"countrycode\"] == \"us\") & (x[\"industry\"] == \"food\") & (x[\"n\"] == 1)\n",
    "]"
   ]
  },
  {
   "cell_type": "code",
   "execution_count": 23,
   "metadata": {},
   "outputs": [
    {
     "name": "stdout",
     "output_type": "stream",
     "text": [
      "        ATE      ATET\n",
      "0 -0.155337 -0.145756\n"
     ]
    }
   ],
   "source": [
    "# ATE/ATET by exact matching:\n",
    "data_agg[\"d\"] = data_agg[\"y1\"] - data_agg[\"y0\"]\n",
    "filtered_df = data_agg[(data_agg[\"n0\"] > 0) & (data_agg[\"n1\"] > 0)]\n",
    "\n",
    "ATE = np.average(filtered_df[\"d\"], weights=filtered_df[\"n\"])\n",
    "ATET = np.average(filtered_df[\"d\"], weights=filtered_df[\"n1\"])\n",
    "\n",
    "summary = pd.DataFrame({\"ATE\": [ATE], \"ATET\": [ATET]})\n",
    "print(summary)"
   ]
  },
  {
   "cell_type": "markdown",
   "metadata": {},
   "source": [
    "## Matching on the propensity score "
   ]
  },
  {
   "cell_type": "code",
   "execution_count": 24,
   "metadata": {},
   "outputs": [],
   "source": [
    "from psm import psmatch\n",
    "\n",
    "data_pscore = data[[y_var] + [x_var] + control_vars + control_vars_to_interact].dropna()\n",
    "formula_pscore1 = x_var + \"~\" + \"+\".join(control_vars + control_vars_to_interact)\n",
    "\n",
    "result1 = psmatch(data_pscore, x_var, y_var, formula_pscore1, n_bootstraps=200)"
   ]
  },
  {
   "cell_type": "code",
   "execution_count": 25,
   "metadata": {},
   "outputs": [],
   "source": [
    "formula_pscore2 = (\n",
    "    x_var\n",
    "    + \" ~ \"\n",
    "    + \":\".join(control_vars_to_interact)\n",
    "    + \"+(\"\n",
    "    + \"+\".join(control_vars)\n",
    "    + \")*(\"\n",
    "    + \"+\".join(control_vars_to_interact)\n",
    "    + \")\"\n",
    ")\n",
    "\n",
    "result2 = psmatch(data_pscore, x_var, y_var, formula_pscore2, n_bootstraps=50)"
   ]
  },
  {
   "cell_type": "code",
   "execution_count": 26,
   "metadata": {},
   "outputs": [
    {
     "name": "stdout",
     "output_type": "stream",
     "text": [
      "              All confounders All confounders with industry and country\n",
      "                                                                       \n",
      "ATE estimate            -0.18                                     -0.18\n",
      "                       (0.02)                                    (0.02)\n",
      "ATET estimate            -0.2                                     -0.19\n",
      "                       (0.02)                                    (0.03)\n",
      "\n",
      "    Note: Bootstrapped standard errors are in parentheses.\n",
      "\n",
      "    Note: Estimates are different for `All confounders\n",
      "    with industry and country` model than in book. This is because \n",
      "    Stata drops variables and observations because of \n",
      "    multicollinearity, while Python uses `l1` regularization.\n",
      "    \n"
     ]
    }
   ],
   "source": [
    "def format_psmatch_results(r, title: str, round_digits=2):\n",
    "    r = [str(np.round(r, round_digits)) for r in r]\n",
    "    return pd.DataFrame(\n",
    "        {\n",
    "            \"\": [\"ATE estimate\", \"\", \"ATET estimate\", \"\"],\n",
    "            title: [r[4], \"(\" + r[5] + \")\", r[0], \"(\" + r[1] + \")\"],\n",
    "        }\n",
    "    ).set_index(\"\")\n",
    "\n",
    "\n",
    "print(\n",
    "    pd.concat(\n",
    "        [\n",
    "            format_psmatch_results(result1, \"All confounders\"),\n",
    "            format_psmatch_results(\n",
    "                result2, \"All confounders with industry and country\"\n",
    "            ),\n",
    "        ],\n",
    "        axis=1,\n",
    "    )\n",
    ")\n",
    "print(\n",
    "    \"\"\"\n",
    "    Note: Bootstrapped standard errors are in parentheses.\"\"\"\n",
    ")\n",
    "print(\n",
    "    \"\"\"\n",
    "    Note: Estimates are different for `All confounders\n",
    "    with industry and country` model than in book. This is because \n",
    "    Stata drops variables and observations because of \n",
    "    multicollinearity, while Python uses `l1` regularization.\n",
    "    \"\"\"\n",
    ")"
   ]
  },
  {
   "cell_type": "markdown",
   "metadata": {},
   "source": [
    "## Check common support"
   ]
  },
  {
   "cell_type": "code",
   "execution_count": 27,
   "metadata": {},
   "outputs": [
    {
     "data": {
      "text/html": [
       "<div>\n",
       "<style scoped>\n",
       "    .dataframe tbody tr th:only-of-type {\n",
       "        vertical-align: middle;\n",
       "    }\n",
       "\n",
       "    .dataframe tbody tr th {\n",
       "        vertical-align: top;\n",
       "    }\n",
       "\n",
       "    .dataframe thead th {\n",
       "        text-align: right;\n",
       "    }\n",
       "</style>\n",
       "<table border=\"1\" class=\"dataframe\">\n",
       "  <thead>\n",
       "    <tr style=\"text-align: right;\">\n",
       "      <th></th>\n",
       "      <th>False</th>\n",
       "      <th>True</th>\n",
       "      <th>False</th>\n",
       "      <th>True</th>\n",
       "      <th>apparel</th>\n",
       "      <th>chemical</th>\n",
       "      <th>electronic</th>\n",
       "      <th>fabricated_metal</th>\n",
       "      <th>food</th>\n",
       "      <th>furniture</th>\n",
       "      <th>...</th>\n",
       "      <th>jp</th>\n",
       "      <th>mx</th>\n",
       "      <th>ni</th>\n",
       "      <th>nz</th>\n",
       "      <th>po</th>\n",
       "      <th>pt</th>\n",
       "      <th>sg</th>\n",
       "      <th>sw</th>\n",
       "      <th>tr</th>\n",
       "      <th>us</th>\n",
       "    </tr>\n",
       "    <tr>\n",
       "      <th>foundfam_owned</th>\n",
       "      <th></th>\n",
       "      <th></th>\n",
       "      <th></th>\n",
       "      <th></th>\n",
       "      <th></th>\n",
       "      <th></th>\n",
       "      <th></th>\n",
       "      <th></th>\n",
       "      <th></th>\n",
       "      <th></th>\n",
       "      <th></th>\n",
       "      <th></th>\n",
       "      <th></th>\n",
       "      <th></th>\n",
       "      <th></th>\n",
       "      <th></th>\n",
       "      <th></th>\n",
       "      <th></th>\n",
       "      <th></th>\n",
       "      <th></th>\n",
       "      <th></th>\n",
       "    </tr>\n",
       "  </thead>\n",
       "  <tbody>\n",
       "    <tr>\n",
       "      <th>0.0</th>\n",
       "      <td>0.772885</td>\n",
       "      <td>0.227115</td>\n",
       "      <td>0.484382</td>\n",
       "      <td>0.515618</td>\n",
       "      <td>0.021041</td>\n",
       "      <td>0.111280</td>\n",
       "      <td>0.088937</td>\n",
       "      <td>0.082863</td>\n",
       "      <td>0.113883</td>\n",
       "      <td>0.018655</td>\n",
       "      <td>...</td>\n",
       "      <td>0.015618</td>\n",
       "      <td>0.036009</td>\n",
       "      <td>0.012798</td>\n",
       "      <td>0.019523</td>\n",
       "      <td>0.028200</td>\n",
       "      <td>0.018004</td>\n",
       "      <td>0.038178</td>\n",
       "      <td>0.041866</td>\n",
       "      <td>0.021258</td>\n",
       "      <td>0.110629</td>\n",
       "    </tr>\n",
       "    <tr>\n",
       "      <th>1.0</th>\n",
       "      <td>0.790807</td>\n",
       "      <td>0.209193</td>\n",
       "      <td>0.423870</td>\n",
       "      <td>0.576130</td>\n",
       "      <td>0.057979</td>\n",
       "      <td>0.077305</td>\n",
       "      <td>0.048838</td>\n",
       "      <td>0.085662</td>\n",
       "      <td>0.147297</td>\n",
       "      <td>0.036041</td>\n",
       "      <td>...</td>\n",
       "      <td>0.009924</td>\n",
       "      <td>0.059023</td>\n",
       "      <td>0.012536</td>\n",
       "      <td>0.013058</td>\n",
       "      <td>0.009663</td>\n",
       "      <td>0.026639</td>\n",
       "      <td>0.022983</td>\n",
       "      <td>0.009141</td>\n",
       "      <td>0.060329</td>\n",
       "      <td>0.050666</td>\n",
       "    </tr>\n",
       "  </tbody>\n",
       "</table>\n",
       "<p>2 rows × 48 columns</p>\n",
       "</div>"
      ],
      "text/plain": [
       "                   False      True     False      True   apparel  chemical  \\\n",
       "foundfam_owned                                                               \n",
       "0.0             0.772885  0.227115  0.484382  0.515618  0.021041  0.111280   \n",
       "1.0             0.790807  0.209193  0.423870  0.576130  0.057979  0.077305   \n",
       "\n",
       "                electronic  fabricated_metal      food  furniture  ...  \\\n",
       "foundfam_owned                                                     ...   \n",
       "0.0               0.088937          0.082863  0.113883   0.018655  ...   \n",
       "1.0               0.048838          0.085662  0.147297   0.036041  ...   \n",
       "\n",
       "                      jp        mx        ni        nz        po        pt  \\\n",
       "foundfam_owned                                                               \n",
       "0.0             0.015618  0.036009  0.012798  0.019523  0.028200  0.018004   \n",
       "1.0             0.009924  0.059023  0.012536  0.013058  0.009663  0.026639   \n",
       "\n",
       "                      sg        sw        tr        us  \n",
       "foundfam_owned                                          \n",
       "0.0             0.038178  0.041866  0.021258  0.110629  \n",
       "1.0             0.022983  0.009141  0.060329  0.050666  \n",
       "\n",
       "[2 rows x 48 columns]"
      ]
     },
     "execution_count": 27,
     "metadata": {},
     "output_type": "execute_result"
    }
   ],
   "source": [
    "# Cross-tabulations for competition, industry, country\n",
    "\n",
    "combined = pd.concat(\n",
    "    [\n",
    "        pd.crosstab(data[\"foundfam_owned\"], data[col], normalize=\"index\")\n",
    "        for col in [\"compet_moder\", \"compet_strong\", \"industry\", \"countrycode\"]\n",
    "    ],\n",
    "    axis=1,\n",
    ")\n",
    "combined"
   ]
  },
  {
   "cell_type": "code",
   "execution_count": 28,
   "metadata": {},
   "outputs": [
    {
     "data": {
      "text/html": [
       "<div>\n",
       "<style scoped>\n",
       "    .dataframe tbody tr th:only-of-type {\n",
       "        vertical-align: middle;\n",
       "    }\n",
       "\n",
       "    .dataframe tbody tr th {\n",
       "        vertical-align: top;\n",
       "    }\n",
       "\n",
       "    .dataframe thead th {\n",
       "        text-align: right;\n",
       "    }\n",
       "</style>\n",
       "<table border=\"1\" class=\"dataframe\">\n",
       "  <thead>\n",
       "    <tr style=\"text-align: right;\">\n",
       "      <th></th>\n",
       "      <th>foundfam_owned</th>\n",
       "      <th>count</th>\n",
       "      <th>mean</th>\n",
       "      <th>std</th>\n",
       "      <th>min</th>\n",
       "      <th>1%</th>\n",
       "      <th>5%</th>\n",
       "      <th>50%</th>\n",
       "      <th>95%</th>\n",
       "      <th>99%</th>\n",
       "      <th>max</th>\n",
       "    </tr>\n",
       "  </thead>\n",
       "  <tbody>\n",
       "    <tr>\n",
       "      <th>0</th>\n",
       "      <td>0.0</td>\n",
       "      <td>4610.0</td>\n",
       "      <td>0.118180</td>\n",
       "      <td>0.172951</td>\n",
       "      <td>0.0</td>\n",
       "      <td>0.0</td>\n",
       "      <td>0.0</td>\n",
       "      <td>0.05</td>\n",
       "      <td>0.5</td>\n",
       "      <td>0.8</td>\n",
       "      <td>1.0</td>\n",
       "    </tr>\n",
       "    <tr>\n",
       "      <th>1</th>\n",
       "      <td>1.0</td>\n",
       "      <td>3829.0</td>\n",
       "      <td>0.088221</td>\n",
       "      <td>0.144737</td>\n",
       "      <td>0.0</td>\n",
       "      <td>0.0</td>\n",
       "      <td>0.0</td>\n",
       "      <td>0.03</td>\n",
       "      <td>0.4</td>\n",
       "      <td>0.7</td>\n",
       "      <td>1.0</td>\n",
       "    </tr>\n",
       "  </tbody>\n",
       "</table>\n",
       "</div>"
      ],
      "text/plain": [
       "   foundfam_owned   count      mean       std  min   1%   5%   50%  95%  99%  \\\n",
       "0             0.0  4610.0  0.118180  0.172951  0.0  0.0  0.0  0.05  0.5  0.8   \n",
       "1             1.0  3829.0  0.088221  0.144737  0.0  0.0  0.0  0.03  0.4  0.7   \n",
       "\n",
       "   max  \n",
       "0  1.0  \n",
       "1  1.0  "
      ]
     },
     "execution_count": 28,
     "metadata": {},
     "output_type": "execute_result"
    }
   ],
   "source": [
    "# Group by 'foundfam_owned' and get descriptive statistics for 'degree_nm'\n",
    "degree_summary = (\n",
    "    data.groupby(\"foundfam_owned\")[\"degree_nm\"]\n",
    "    .describe(percentiles=[0.01, 0.05, 0.95, 0.99])\n",
    "    .reset_index()\n",
    ")\n",
    "degree_summary"
   ]
  },
  {
   "cell_type": "code",
   "execution_count": 29,
   "metadata": {},
   "outputs": [],
   "source": [
    "# Group by 'foundfam_owned' and get descriptive statistics for 'emp_firm'\n",
    "employment_summary = (\n",
    "    data.groupby(\"foundfam_owned\")[\"emp_firm\"]\n",
    "    .describe(percentiles=[0.01, 0.05, 0.95, 0.99])\n",
    "    .reset_index()\n",
    ")"
   ]
  },
  {
   "cell_type": "code",
   "execution_count": null,
   "metadata": {},
   "outputs": [],
   "source": []
  }
 ],
 "metadata": {
  "kernelspec": {
   "display_name": "da_case_studies-4lQ4EmNL",
   "language": "python",
   "name": "python3"
  },
  "language_info": {
   "codemirror_mode": {
    "name": "ipython",
    "version": 3
   },
   "file_extension": ".py",
   "mimetype": "text/x-python",
   "name": "python",
   "nbconvert_exporter": "python",
   "pygments_lexer": "ipython3",
   "version": "3.8.10"
  }
 },
 "nbformat": 4,
 "nbformat_minor": 4
}
